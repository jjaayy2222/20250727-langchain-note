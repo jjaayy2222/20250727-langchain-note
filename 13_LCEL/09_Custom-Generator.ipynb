{
 "cells": [
  {
   "cell_type": "markdown",
   "id": "ba52bed0",
   "metadata": {},
   "source": [
    "---"
   ]
  },
  {
   "cell_type": "markdown",
   "id": "65001001",
   "metadata": {},
   "source": [
    "* 출처: LangChain 공식 문서 또는 해당 교재명\n",
    "* 원본 URL: https://smith.langchain.com/hub/teddynote/summary-stuff-documents"
   ]
  },
  {
   "cell_type": "markdown",
   "id": "0f884510",
   "metadata": {},
   "source": [
    "---"
   ]
  },
  {
   "cell_type": "markdown",
   "id": "fb18b49c",
   "metadata": {},
   "source": [
    "### **9. `사용자 정의 제네레이터 (generator)`**"
   ]
  },
  {
   "cell_type": "markdown",
   "id": "5f936725",
   "metadata": {},
   "source": [
    "#### **1) `사용자 정의 제네레이터`** *(generator)*"
   ]
  },
  {
   "cell_type": "markdown",
   "id": "aad1807f",
   "metadata": {},
   "source": [
    "* **`제너레이터 함수` = `yield` 키워드 사용, `이터레이터`처럼 `동작`하는 함수**\n",
    "\n",
    "  * `LCEL` 파이프라인에서 사용 가능\n",
    "\n",
    "  * 제너레이터: **`Iterator`[`Input`] -> `Iterator`[`Output`]**\n",
    "\n",
    "  * `비동기`제너레이터: **`AsyncIterator`[`Input`] -> `AsyncIterator`[`Output`]**"
   ]
  },
  {
   "cell_type": "markdown",
   "id": "bcf76ad8",
   "metadata": {},
   "source": [
    "* **`유용한 경우`**\n",
    "\n",
    "  * 사용자 정의 출력 파서 구현\n",
    "\n",
    "  * 이전 단계의 출력을 수정하면서 스트리밍 기능 유지"
   ]
  },
  {
   "cell_type": "markdown",
   "id": "14f08189",
   "metadata": {},
   "source": [
    "* **`쉼표`로 `구분`된 `목록`에 대한 `사용자 정의 출력 파서` 구현해보기**"
   ]
  },
  {
   "cell_type": "markdown",
   "id": "6d9c68fc",
   "metadata": {},
   "source": [
    "---"
   ]
  },
  {
   "cell_type": "code",
   "execution_count": null,
   "id": "f96003d4",
   "metadata": {},
   "outputs": [],
   "source": [
    "from typing import Iterator, List\n",
    "\n",
    "from langchain_core.output_parsers import StrOutputParser\n",
    "from langchain_core.prompts import ChatPromptTemplate\n",
    "from langchain_core.runnables import chain\n",
    "from langchain_google_genai import ChatGoogleGenerativeAI\n",
    "\n",
    "from dotenv import load_dotenv\n",
    "import os \n",
    "\n",
    "# LLM 초기화\n",
    "# API 키 확인\n",
    "if not os.getenv(\"GOOGLE_API_KEY\"):    \n",
    "    os.environ[\"GOOGLE_API_KEY\"] = input(\"Enter your Google API key: \")\n",
    "    \n",
    "# LLM 생성하기\n",
    "gemini_lc = ChatGoogleGenerativeAI(\n",
    "    model=\"gemini-2.5-flash-lite\",\n",
    "    temperature=0,        \n",
    ")"
   ]
  },
  {
   "cell_type": "markdown",
   "id": "fc2aa660",
   "metadata": {},
   "source": [
    "<small>\n",
    "\n",
    "* 기본 `LLM` 생성하기 (`gemini_lc`) - `gemini-2.5.flash-lite`\n",
    "\n",
    "    ```bash\n",
    "\n",
    "    E0000 00:00:1760011465.829097 2338920 alts_credentials.cc:93] ALTS creds ignored. Not running on GCP and untrusted ALTS is not enabled.\n",
    "\n",
    "    ```"
   ]
  },
  {
   "cell_type": "code",
   "execution_count": null,
   "id": "2253a933",
   "metadata": {},
   "outputs": [],
   "source": [
    "# 프롬프트 생성\n",
    "prompt = ChatPromptTemplate.from_template(\n",
    "    # 주어진 회사와 유사한 5개의 회사를 쉼표로 구분된 목록으로 작성하세요.\n",
    "    \"Write a comma-separated list of 5 companies similar to: {company}\"\n",
    ")\n",
    "\n",
    "# chain 생성하기 - 프롬프트와 모델을 연결하고 문자열 출력 파서를 적용\n",
    "str_chain = prompt | gemini_lc | StrOutputParser()"
   ]
  },
  {
   "cell_type": "markdown",
   "id": "65c371d1",
   "metadata": {},
   "source": [
    "* **`stream`** 으로 실행 → 결과 출력 \n",
    "\n",
    "  * *결과 = 실시간으로 생성됨*"
   ]
  },
  {
   "cell_type": "code",
   "execution_count": null,
   "id": "46c3fbb7",
   "metadata": {},
   "outputs": [],
   "source": [
    "# 데이터 스트리밍하기\n",
    "\n",
    "for chunk in str_chain.stream({\"company\": \"Google\"}):\n",
    "    # 각 청크를 출력하고, 줄 바꿈 없이 버퍼를 즉시 플러시함\n",
    "    print(chunk, end=\"\", flush=True)"
   ]
  },
  {
   "cell_type": "markdown",
   "id": "9624833e",
   "metadata": {},
   "source": [
    "<small>\n",
    "\n",
    "* 데이터 스트리밍하기 - (`1.2s`)\n",
    "\n",
    "* **`Microsoft`, `Amazon`, `Apple`, `Meta`, `IBM`**"
   ]
  },
  {
   "cell_type": "markdown",
   "id": "5375fc77",
   "metadata": {},
   "source": [
    "* **`invoke()`** → 실행 결과 확인하기"
   ]
  },
  {
   "cell_type": "code",
   "execution_count": null,
   "id": "f4698141",
   "metadata": {},
   "outputs": [],
   "source": [
    "# 체인에 데이터를 invoke 해보기\n",
    "\n",
    "str_chain.invoke({\"company\": \"Google\"})"
   ]
  },
  {
   "cell_type": "markdown",
   "id": "39e26301",
   "metadata": {},
   "source": [
    "<small>\n",
    "\n",
    "* `str_chain.invoke()` - (`0.6s`)\n",
    "\n",
    "* **`'Microsoft, Amazon, Apple, Meta, IBM'`**"
   ]
  },
  {
   "cell_type": "markdown",
   "id": "3aec0181",
   "metadata": {},
   "source": [
    "* **`split_into_list()`** = `LLM` 토큰의 이터레이터를 입력으로 받음 → 쉽표로 구분된 문자열 리스트의 이터레이터를 반환함\n",
    "\n",
    "  * `generator` = 마지막 청크를 `yield`하여 반환함"
   ]
  },
  {
   "cell_type": "code",
   "execution_count": null,
   "id": "c9620f62",
   "metadata": {},
   "outputs": [],
   "source": [
    "# 입력으로 llm 토큰의 반복자를 받아 쉼표로 구분된 문자열 리스트로 분할하는 사용자 정의 파서\n",
    "\n",
    "def split_into_list(input: Iterator[str]) -> Iterator[List[str]]:\n",
    "\n",
    "    # 쉼표가 나올 때까지 부분 입력을 보관함\n",
    "    buffer = \"\"\n",
    "\n",
    "    for chunk in input:\n",
    "        # 현재 청크를 버퍼에 추가함\n",
    "        buffer += chunk\n",
    "        \n",
    "        # 버퍼에 쉼표가 있는 동안 반복함 \n",
    "        while \",\" in buffer:\n",
    "            # 버퍼를 쉼표로 분할함\n",
    "            comma_index = buffer.index(\",\")\n",
    "            \n",
    "            # 쉼표 이전의 모든 내용을 반환함\n",
    "            yield [buffer[:comma_index].strip()]\n",
    "            \n",
    "            # 나머지는 다음 반복을 위해 저장함\n",
    "            buffer = buffer[comma_index + 1 :]\n",
    "            \n",
    "    # 마지막 청크를 반환함\n",
    "    yield [buffer.strip()]"
   ]
  },
  {
   "cell_type": "markdown",
   "id": "9eb34f5d",
   "metadata": {},
   "source": [
    "* **`str_chain`** 변수의 문자열 → **`파이프(|) 연산자`** → **`split_into_list`** 함수에 전달\n",
    "\n",
    "  * **`split_into_list`** 함수 = `문자열`을 `리스트`로 `분할`하는 역할\n",
    "\n",
    "  * `분할된 리스트` = **`list_chain`** 변수에 할당"
   ]
  },
  {
   "cell_type": "code",
   "execution_count": null,
   "id": "df5127db",
   "metadata": {},
   "outputs": [],
   "source": [
    "# 문자열 체인을 리스트로 분할함\n",
    "\n",
    "list_chain = str_chain | split_into_list"
   ]
  },
  {
   "cell_type": "markdown",
   "id": "5a919a05",
   "metadata": {},
   "source": [
    "* **`list_chain`** 객체의 **`stream` 메서드 호출 → 입력 데이터 `{\"animal\": \"bear\"}`에 대한 출력을 생성함**\n",
    "\n",
    "  * **`stream` 메서드 = 출력을 `청크`(`chunk`) 단위로 반환하며, 각 `청크`는 `반복문`을 통해 `처리`됨**\n",
    "\n",
    "  * 각 `청크`는 `print 함수`를 사용하여 즉시 출력\n",
    "\n",
    "  * `flush=True` 옵션 → *버퍼링 없이 출력이 즉시 이루어짐*"
   ]
  },
  {
   "cell_type": "markdown",
   "id": "c79c7177",
   "metadata": {},
   "source": [
    "* **`list_chain`을 사용 → 입력 데이터에 대한 출력 생성 → 출력을 청크 단위로 처리 → 즉시 출력하는 과정**"
   ]
  },
  {
   "cell_type": "code",
   "execution_count": null,
   "id": "383ef772",
   "metadata": {},
   "outputs": [],
   "source": [
    "# 생성한 list_chain → 스트리밍되는지 확인하기\n",
    "for chunk in list_chain.stream({\"company\": \"Google\"}):\n",
    "    print(chunk, flush=True)                                    # 각 청크를 출력하고, 버퍼를 즉시 플러시"
   ]
  },
  {
   "cell_type": "markdown",
   "id": "25744fe6",
   "metadata": {},
   "source": [
    "<small>\n",
    "\n",
    "* `list_chain` 스트리밍 ⭕️ - (`0.7s`)\n",
    "\n",
    "    ```python\n",
    "\n",
    "    ['Microsoft']\n",
    "    ['Amazon']\n",
    "    ['Apple']\n",
    "    ['Meta']\n",
    "    ['IBM']\n",
    "\n",
    "    ```"
   ]
  },
  {
   "cell_type": "markdown",
   "id": "2dd6fb56",
   "metadata": {},
   "source": [
    "* **`list_chain`에 `invoke()`로 데이터 주입 → 작동 확인하기**"
   ]
  },
  {
   "cell_type": "code",
   "execution_count": null,
   "id": "d52c278a",
   "metadata": {},
   "outputs": [],
   "source": [
    "# list_chain 에 데이터를 invoke하기\n",
    "\n",
    "list_chain.invoke({\"company\": \"Google\"})"
   ]
  },
  {
   "cell_type": "markdown",
   "id": "5f2df470",
   "metadata": {},
   "source": [
    "<small>\n",
    "\n",
    "* `list_chain.invoke()` - (`0.8s`)\n",
    "\n",
    "    ```python\n",
    "\n",
    "    ['Microsoft', 'Amazon', 'Apple', 'Meta', 'IBM']\n",
    "\n",
    "    ```"
   ]
  },
  {
   "cell_type": "markdown",
   "id": "4fc96c7c",
   "metadata": {},
   "source": [
    "---"
   ]
  },
  {
   "cell_type": "markdown",
   "id": "dce1aab0",
   "metadata": {},
   "source": [
    "#### **2) `비동기` (`Asynchronous`)**"
   ]
  },
  {
   "cell_type": "markdown",
   "id": "289754cf",
   "metadata": {},
   "source": [
    "* **`asplit_into_list`** 함수\n",
    "\n",
    "  * `비동기 제너레이터`(`AsyncIterator`[`str`]) 입력으로 받음 → `문자열 리스트`의 `비동기 제너레이터`(`AsyncIterator`[`List`[`str`]])를 반환"
   ]
  },
  {
   "cell_type": "code",
   "execution_count": null,
   "id": "9a8d315e",
   "metadata": {},
   "outputs": [],
   "source": [
    "from typing import AsyncIterator\n",
    "\n",
    "\n",
    "# 비동기 함수 정의\n",
    "async def asplit_into_list(input: AsyncIterator[str]) -> AsyncIterator[List[str]]:\n",
    "\n",
    "    buffer = \"\"\n",
    "\n",
    "    # `input`은 `async_generator` 객체이므로 `async for`를 사용\n",
    "    async for chunk in input:\n",
    "\n",
    "        buffer += chunk\n",
    "\n",
    "        while \",\" in buffer:\n",
    "\n",
    "            comma_index = buffer.index(\",\")\n",
    "\n",
    "            yield [\n",
    "                buffer[:comma_index].strip()            # 쉼표를 기준으로 분할하여 리스트로 반환\n",
    "            ]  \n",
    "            buffer = buffer[comma_index + 1:]\n",
    "\n",
    "    yield [buffer.strip()]                              # 남은 버퍼 내용을 리스트로 반환"
   ]
  },
  {
   "cell_type": "code",
   "execution_count": null,
   "id": "0f3e8be5",
   "metadata": {},
   "outputs": [],
   "source": [
    "# alist_chain 과 asplit_into_list 를 파이프라인으로 연결\n",
    "\n",
    "alist_chain = str_chain | asplit_into_list"
   ]
  },
  {
   "cell_type": "markdown",
   "id": "5dc4900c",
   "metadata": {},
   "source": [
    "* **비동기 함수 → 스트리밍**"
   ]
  },
  {
   "cell_type": "code",
   "execution_count": null,
   "id": "929774fd",
   "metadata": {},
   "outputs": [],
   "source": [
    "# async for 루프 → 데이터 스트리밍하기\n",
    "\n",
    "async for chunk in alist_chain.astream({\"company\": \"Google\"}):\n",
    "    # 각 청크를 출력하고 버퍼를 비우기\n",
    "    print(chunk, flush=True)"
   ]
  },
  {
   "cell_type": "markdown",
   "id": "357b13b6",
   "metadata": {},
   "source": [
    "<small>\n",
    "\n",
    "* `async for 루프.astream` - (`1.0s`)\n",
    "\n",
    "    ```python\n",
    "\n",
    "    ['Microsoft']\n",
    "    ['Amazon']\n",
    "    ['Apple']\n",
    "    ['Meta']\n",
    "    ['IBM']\n",
    "\n",
    "    ```"
   ]
  },
  {
   "cell_type": "markdown",
   "id": "d5c3c79b",
   "metadata": {},
   "source": [
    "* **비동기 `chain` → 데이터를 `invoke()` → 동작 확인해보기**"
   ]
  },
  {
   "cell_type": "code",
   "execution_count": null,
   "id": "68306e50",
   "metadata": {},
   "outputs": [],
   "source": [
    "# 리스트 체인을 비동기적으로 호출해보기\n",
    "\n",
    "await alist_chain.ainvoke({\"company\": \"Google\"})"
   ]
  },
  {
   "cell_type": "markdown",
   "id": "7cacdd88",
   "metadata": {},
   "source": [
    "<small>\n",
    "\n",
    "* `await alist_chain.ainvoke()` - (`0.5s`)\n",
    "\n",
    "    ```python\n",
    "\n",
    "    ['Microsoft', 'Amazon', 'Apple', 'Meta', 'IBM']\n",
    "\n",
    "    ```"
   ]
  },
  {
   "cell_type": "markdown",
   "id": "403df77a",
   "metadata": {},
   "source": [
    "---"
   ]
  },
  {
   "cell_type": "markdown",
   "id": "0b7626d2",
   "metadata": {},
   "source": [
    "* next: ***`10. Runtime Arguments 바인딩`***"
   ]
  },
  {
   "cell_type": "markdown",
   "id": "f2f4de16",
   "metadata": {},
   "source": [
    "---"
   ]
  }
 ],
 "metadata": {
  "kernelspec": {
   "display_name": "lc_env",
   "language": "python",
   "name": "python3"
  },
  "language_info": {
   "codemirror_mode": {
    "name": "ipython",
    "version": 3
   },
   "file_extension": ".py",
   "mimetype": "text/x-python",
   "name": "python",
   "nbconvert_exporter": "python",
   "pygments_lexer": "ipython3",
   "version": "3.13.5"
  }
 },
 "nbformat": 4,
 "nbformat_minor": 5
}
