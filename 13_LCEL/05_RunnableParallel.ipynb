{
 "cells": [
  {
   "cell_type": "markdown",
   "id": "ba52bed0",
   "metadata": {},
   "source": [
    "---"
   ]
  },
  {
   "cell_type": "markdown",
   "id": "65001001",
   "metadata": {},
   "source": [
    "* 출처: LangChain 공식 문서 또는 해당 교재명\n",
    "* 원본 URL: https://smith.langchain.com/hub/teddynote/summary-stuff-documents"
   ]
  },
  {
   "cell_type": "markdown",
   "id": "0f884510",
   "metadata": {},
   "source": [
    "---"
   ]
  },
  {
   "cell_type": "markdown",
   "id": "fb18b49c",
   "metadata": {},
   "source": [
    "### **5. `RunnableParallel`**"
   ]
  },
  {
   "cell_type": "markdown",
   "id": "5f936725",
   "metadata": {},
   "source": [
    "#### **1) `입력 및 출력 조작`**"
   ]
  },
  {
   "cell_type": "markdown",
   "id": "aad1807f",
   "metadata": {},
   "source": [
    "* 개념\n",
    "\n",
    "  * `시퀀스` 내에서 하나의 `Runnable` 의 출력 → `Runnable` 의 **`입력 형식`에 `맞게` `조작`하는 데 유용하게 사용**\n",
    "\n",
    "  * `prompt`에 대한 입력 = **`\"context\"`**, **`\"question\"`** `키`를 가진 `map` 형태로 예상\n",
    "\n",
    "    * `사용자 입력` = 단순한 질문 내용 → **`retriever`** 사용 → 컨텍스트 가져오기 \n",
    "\n",
    "    * 사용자 입력 = **`\"question\"` `키 아래`에 `전달`해야 함**\n",
    "\n"
   ]
  },
  {
   "cell_type": "markdown",
   "id": "e9bc41fe",
   "metadata": {},
   "source": [
    "---"
   ]
  },
  {
   "cell_type": "markdown",
   "id": "d763fc98",
   "metadata": {},
   "source": [
    "* **`환경설정`**"
   ]
  },
  {
   "cell_type": "code",
   "execution_count": null,
   "id": "e1ca9302",
   "metadata": {},
   "outputs": [],
   "source": [
    "# API 키를 환경변수로 관리하기 위한 설정 파일\n",
    "from dotenv import load_dotenv\n",
    "\n",
    "# API 키 정보 로드\n",
    "load_dotenv()                           # True"
   ]
  },
  {
   "cell_type": "code",
   "execution_count": null,
   "id": "80ef86f8",
   "metadata": {},
   "outputs": [],
   "source": [
    "from langsmith import Client\n",
    "from langsmith import traceable\n",
    "\n",
    "import os\n",
    "\n",
    "# LangSmith 환경 변수 확인\n",
    "\n",
    "print(\"\\n--- LangSmith 환경 변수 확인 ---\")\n",
    "langchain_tracing_v2 = os.getenv('LANGCHAIN_TRACING_V2')\n",
    "langchain_project = os.getenv('LANGCHAIN_PROJECT')\n",
    "langchain_api_key_status = \"설정됨\" if os.getenv('LANGCHAIN_API_KEY') else \"설정되지 않음\" # API 키 값은 직접 출력하지 않음\n",
    "\n",
    "if langchain_tracing_v2 == \"true\" and os.getenv('LANGCHAIN_API_KEY') and langchain_project:\n",
    "    print(f\"✅ LangSmith 추적 활성화됨 (LANGCHAIN_TRACING_V2='{langchain_tracing_v2}')\")\n",
    "    print(f\"✅ LangSmith 프로젝트: '{langchain_project}'\")\n",
    "    print(f\"✅ LangSmith API Key: {langchain_api_key_status}\")\n",
    "    print(\"  -> 이제 LangSmith 대시보드에서 이 프로젝트를 확인해 보세요.\")\n",
    "else:\n",
    "    print(\"❌ LangSmith 추적이 완전히 활성화되지 않았습니다. 다음을 확인하세요:\")\n",
    "    if langchain_tracing_v2 != \"true\":\n",
    "        print(f\"  - LANGCHAIN_TRACING_V2가 'true'로 설정되어 있지 않습니다 (현재: '{langchain_tracing_v2}').\")\n",
    "    if not os.getenv('LANGCHAIN_API_KEY'):\n",
    "        print(\"  - LANGCHAIN_API_KEY가 설정되어 있지 않습니다.\")\n",
    "    if not langchain_project:\n",
    "        print(\"  - LANGCHAIN_PROJECT가 설정되어 있지 않습니다.\")"
   ]
  },
  {
   "cell_type": "markdown",
   "id": "0f14d715",
   "metadata": {},
   "source": [
    "<small>\n",
    "\n",
    "* 셀 출력\n",
    "\n",
    "    ```bash\n",
    "    --- LangSmith 환경 변수 확인 ---\n",
    "    ✅ LangSmith 추적 활성화됨 (LANGCHAIN_TRACING_V2='true')\n",
    "    ✅ LangSmith 프로젝트: 'LangChain-prantice'\n",
    "    ✅ LangSmith API Key: 설정됨\n",
    "    -> 이제 LangSmith 대시보드에서 이 프로젝트를 확인해 보세요.\n",
    "    ```"
   ]
  },
  {
   "cell_type": "markdown",
   "id": "403df77a",
   "metadata": {},
   "source": [
    "---"
   ]
  },
  {
   "cell_type": "code",
   "execution_count": null,
   "id": "34b5dc53",
   "metadata": {},
   "outputs": [],
   "source": [
    "from langchain_community.vectorstores import FAISS\n",
    "from langchain_core.output_parsers import StrOutputParser\n",
    "from langchain_core.prompts import ChatPromptTemplate\n",
    "from langchain_core.runnables import RunnablePassthrough\n",
    "from langchain_huggingface import HuggingFaceEmbeddings\n",
    "\n",
    "from langchain_google_genai import ChatGoogleGenerativeAI\n",
    "from dotenv import load_dotenv\n",
    "import os                                           # 3.4s"
   ]
  },
  {
   "cell_type": "code",
   "execution_count": null,
   "id": "885264cc",
   "metadata": {},
   "outputs": [],
   "source": [
    "# 임베딩 형성\n",
    "\n",
    "import warnings                                             # 경고 무시\n",
    "\n",
    "warnings.filterwarnings(\"ignore\")\n",
    "\n",
    "embeddings = HuggingFaceEmbeddings(\n",
    "    model_name=\"sentence-transformers/all-MiniLM-L6-v2\",    \n",
    "    model_kwargs={'device': 'cpu'},    \n",
    "    encode_kwargs={'normalize_embeddings': True}    \n",
    "    )\n",
    "\n",
    "embeddings = embeddings                                     # 12.7s"
   ]
  },
  {
   "cell_type": "code",
   "execution_count": null,
   "id": "6de325fc",
   "metadata": {},
   "outputs": [],
   "source": [
    "# 텍스트로부터 FAISS 벡터 저장소 생성하기\n",
    "vectorstore = FAISS.from_texts(\n",
    "    [\"A is an AI engineer who loves programming!\"], \n",
    "    embedding=embeddings\n",
    ")                                               # 0.8s"
   ]
  },
  {
   "cell_type": "code",
   "execution_count": null,
   "id": "ae01c013",
   "metadata": {},
   "outputs": [],
   "source": [
    "# 벡터 저장소를 검색기로 사용하기\n",
    "retriever = vectorstore.as_retriever()"
   ]
  },
  {
   "cell_type": "code",
   "execution_count": null,
   "id": "c1d77a94",
   "metadata": {},
   "outputs": [],
   "source": [
    "# 템플릿 정의하기\n",
    "\n",
    "template = \"\"\"Answer the question based only on the following context:\n",
    "{context}\n",
    "\n",
    "Question: {question}\n",
    "\"\"\""
   ]
  },
  {
   "cell_type": "code",
   "execution_count": null,
   "id": "92d96d73",
   "metadata": {},
   "outputs": [],
   "source": [
    "# 템플릿으로부터 채팅 프롬프트 생성하기\n",
    "\n",
    "prompt = ChatPromptTemplate.from_template(template)"
   ]
  },
  {
   "cell_type": "code",
   "execution_count": null,
   "id": "3fec1852",
   "metadata": {},
   "outputs": [],
   "source": [
    "# LLM 초기화\n",
    "\n",
    "# API 키 확인\n",
    "if not os.getenv(\"GOOGLE_API_KEY\"):    \n",
    "    os.environ[\"GOOGLE_API_KEY\"] = input(\"Enter your Google API key: \")\n",
    "    \n",
    "# LLM 생성하기\n",
    "gemini_lc = ChatGoogleGenerativeAI(\n",
    "    model=\"gemini-2.5-flash-lite\",        \n",
    ")"
   ]
  },
  {
   "cell_type": "markdown",
   "id": "8a5edad3",
   "metadata": {},
   "source": [
    "<small>\n",
    "\n",
    "* `gemini-2.5-flash-lite` 생성\n",
    "\n",
    "    ```bash\n",
    "\n",
    "    E0000 00:00:1759979087.687909 1736881 alts_credentials.cc:93] ALTS creds ignored. Not running on GCP and untrusted ALTS is not enabled.\n",
    "\n",
    "    ```"
   ]
  },
  {
   "cell_type": "code",
   "execution_count": null,
   "id": "053e910c",
   "metadata": {},
   "outputs": [],
   "source": [
    "# 검색 체인 구성하기\n",
    "retrieval_chain = (\n",
    "    {\"context\": retriever, \"question\": RunnablePassthrough()}\n",
    "    | prompt\n",
    "    | gemini_lc\n",
    "    | StrOutputParser()\n",
    ")"
   ]
  },
  {
   "cell_type": "code",
   "execution_count": null,
   "id": "68c8518f",
   "metadata": {},
   "outputs": [],
   "source": [
    "# 검색 체인 실행 → 질문에 대한 답변 얻기\n",
    "import warnings                                             # 경고 무시\n",
    "warnings.filterwarnings(\"ignore\")\n",
    "\n",
    "retrieval_chain.invoke(\"What is A's occupation?\")"
   ]
  },
  {
   "cell_type": "markdown",
   "id": "24a7866a",
   "metadata": {},
   "source": [
    "<small>\n",
    "\n",
    "* 검색 체인 실행 (`0.9s`)\n",
    "\n",
    "    ```markdown\n",
    "\n",
    "    'A is an AI engineer.'\n",
    "\n",
    "    ```"
   ]
  },
  {
   "cell_type": "markdown",
   "id": "e5098155",
   "metadata": {},
   "source": [
    "---"
   ]
  },
  {
   "cell_type": "markdown",
   "id": "5747ecee",
   "metadata": {},
   "source": [
    "* **`유의하기`**\n",
    "\n",
    "  * 다른 `Runnable`과 함께 `RunnableParell` 구성 시 **`유형 변환이 자동 처리` → `RunnableParallel` 클래스에서 입력으로 주입되는 `dict` 입력을 `별도 래핑할 필요 없음`**"
   ]
  },
  {
   "cell_type": "markdown",
   "id": "81daff59",
   "metadata": {},
   "source": [
    "* 아래 3가지 방식은 모두 동일하게 처리됨\n",
    "\n",
    "    ```python\n",
    "\n",
    "        # 자체 RunnableParallel 로 래핑됨\n",
    "        # 1번 방법\n",
    "        {\"context\": retriever, \"question\": RunnablePassthrough()}\n",
    "\n",
    "        # 2번 방법\n",
    "        RunnableParallel({\"context\": retriever, \"question\": RunnablePassthrough()})\n",
    "\n",
    "        # 3번 방법\n",
    "        RunnableParallel(context=retriever, question=RunnablePassthrough())\n",
    "\n",
    "    ```"
   ]
  },
  {
   "cell_type": "markdown",
   "id": "217d8c5e",
   "metadata": {},
   "source": [
    "---"
   ]
  },
  {
   "cell_type": "markdown",
   "id": "973c7fc2",
   "metadata": {},
   "source": [
    "#### **2) `itemgetter를 단축어로 사용하기`**"
   ]
  },
  {
   "cell_type": "markdown",
   "id": "983eb6ec",
   "metadata": {},
   "source": [
    "* **`itemgetter` 단축어 사용** → `map`에서 데이터 추출 → `RunnableParellel`과 결합 가능\n",
    "\n",
    "  * *참고: [`Python Documentation - itemgetter`](https://docs.python.org/3/library/operator.html#operator.itemgetter)*"
   ]
  },
  {
   "cell_type": "code",
   "execution_count": null,
   "id": "5773166e",
   "metadata": {},
   "outputs": [],
   "source": [
    "from operator import itemgetter\n",
    "\n",
    "from langchain_community.vectorstores import FAISS\n",
    "from langchain_core.output_parsers import StrOutputParser\n",
    "from langchain_core.prompts import ChatPromptTemplate\n",
    "from langchain_huggingface import HuggingFaceEmbeddings\n",
    "\n",
    "from langchain_google_genai import ChatGoogleGenerativeAI\n",
    "from dotenv import load_dotenv\n",
    "import os "
   ]
  },
  {
   "cell_type": "markdown",
   "id": "75892fc7",
   "metadata": {},
   "source": [
    "* `LLM` 초기화"
   ]
  },
  {
   "cell_type": "code",
   "execution_count": null,
   "id": "3eaf8c4d",
   "metadata": {},
   "outputs": [],
   "source": [
    "# LLM 초기화\n",
    "\n",
    "# API 키 확인\n",
    "if not os.getenv(\"GOOGLE_API_KEY\"):    \n",
    "    os.environ[\"GOOGLE_API_KEY\"] = input(\"Enter your Google API key: \")\n",
    "    \n",
    "# LLM 생성하기\n",
    "model = ChatGoogleGenerativeAI(\n",
    "    model=\"gemini-2.5-flash-lite\",        \n",
    ")"
   ]
  },
  {
   "cell_type": "markdown",
   "id": "ef4a17ce",
   "metadata": {},
   "source": [
    "<small>\n",
    "\n",
    "* `gemini-2.5-flash-lite` → `model`이라는 이름으로 다시 초기화하기\n",
    "\n",
    "    ```bash\n",
    "\n",
    "    E0000 00:00:1759979698.219470 1736881 alts_credentials.cc:93] ALTS creds ignored. Not running on GCP and untrusted ALTS is not enabled.\n",
    "\n",
    "    ```"
   ]
  },
  {
   "cell_type": "code",
   "execution_count": null,
   "id": "15c32240",
   "metadata": {},
   "outputs": [],
   "source": [
    "from langchain_core.prompts import ChatPromptTemplate\n",
    "from langchain_core.runnables import RunnableParallel"
   ]
  },
  {
   "cell_type": "code",
   "execution_count": null,
   "id": "814cf0fa",
   "metadata": {},
   "outputs": [],
   "source": [
    "# 수도를 묻는 질문에 대한 체인 정의하기\n",
    "\n",
    "capital_chain = (\n",
    "    ChatPromptTemplate.from_template(\"{country} 의 수도는 어디입니까?\")\n",
    "    | model\n",
    "    | StrOutputParser()\n",
    ")"
   ]
  },
  {
   "cell_type": "code",
   "execution_count": null,
   "id": "d7894c31",
   "metadata": {},
   "outputs": [],
   "source": [
    "# 면적을 묻는 질문에 대한 체인 정의하기\n",
    "\n",
    "area_chain = (\n",
    "    ChatPromptTemplate.from_template(\"{country} 의 면적은 얼마입니까?\")\n",
    "    | model\n",
    "    | StrOutputParser()\n",
    ")"
   ]
  },
  {
   "cell_type": "code",
   "execution_count": null,
   "id": "ec6ff6fe",
   "metadata": {},
   "outputs": [],
   "source": [
    "# capital_chain, area_chain 을 병렬로 실행할 수 있는 RunnableParallel 객체 생성하기\n",
    "\n",
    "map_chain = RunnableParallel(capital=capital_chain, area=area_chain)"
   ]
  },
  {
   "cell_type": "code",
   "execution_count": null,
   "id": "ad206d9e",
   "metadata": {},
   "outputs": [],
   "source": [
    "# map_chain 호출 → 대한민국의 수도와 면적 묻기\n",
    "\n",
    "map_chain.invoke({\"country\": \"대한민국\"})"
   ]
  },
  {
   "cell_type": "markdown",
   "id": "126b8f3f",
   "metadata": {},
   "source": [
    "<small>\n",
    "\n",
    "* `map_chain` (`\"country\": \"대한민국\"`) - (`1.4s`)\n",
    "\n",
    "    ```python\n",
    "\n",
    "    {'capital': '대한민국의 수도는 **서울**입니다.',\n",
    "    'area': '대한민국(남한)의 면적은 약 **100,403 제곱킬로미터(km²)**입니다.\\n\\n이는 세계 국가 면적 순위에서 약 107~109위 정도에 해당하며, 유럽의 포르투갈이나 헝가리와 비슷한 크기입니다.'}\n",
    "\n",
    "    ```"
   ]
  },
  {
   "cell_type": "markdown",
   "id": "a3488d06",
   "metadata": {},
   "source": [
    "* `chain`별로 **`입력 템플릿의 변수가 달라도`** 상관없이 실행 가능"
   ]
  },
  {
   "cell_type": "code",
   "execution_count": null,
   "id": "129a4bb7",
   "metadata": {},
   "outputs": [],
   "source": [
    "# 수도를 묻는 질문에 대한 체인 재정의\n",
    "\n",
    "capital_chain2 = (\n",
    "    ChatPromptTemplate.from_template(\"{country1} 의 수도는 어디입니까?\")\n",
    "    | model\n",
    "    | StrOutputParser()\n",
    ")"
   ]
  },
  {
   "cell_type": "code",
   "execution_count": null,
   "id": "cb82175f",
   "metadata": {},
   "outputs": [],
   "source": [
    "# 면적을 묻는 질문에 대한 체인 재정의\n",
    "\n",
    "area_chain2 = (\n",
    "    ChatPromptTemplate.from_template(\"{country2} 의 면적은 얼마입니까?\")\n",
    "    | model\n",
    "    | StrOutputParser()\n",
    ")"
   ]
  },
  {
   "cell_type": "code",
   "execution_count": null,
   "id": "f67f593e",
   "metadata": {},
   "outputs": [],
   "source": [
    "# capital_chain, area_chain을 병렬로 실행할 수 있는 RunnableParallel 객체 재생성\n",
    "\n",
    "map_chain2 = RunnableParallel(capital=capital_chain2, area=area_chain2)"
   ]
  },
  {
   "cell_type": "code",
   "execution_count": null,
   "id": "c08ce21b",
   "metadata": {},
   "outputs": [],
   "source": [
    "# map_chain 호출 → 이때 각각의 key에 대한 value를 전달함\n",
    "\n",
    "map_chain2.invoke({\"country1\": \"대한민국\", \"country2\": \"미국\"})"
   ]
  },
  {
   "cell_type": "markdown",
   "id": "7a658ee8",
   "metadata": {},
   "source": [
    "<small>\n",
    "\n",
    "* `map_chain2` (`\"country1\": \"대한민국\", \"country2\": \"미국\"`) - (`0.9s`)\n",
    "\n",
    "    ```python\n",
    "\n",
    "    {'capital': '대한민국의 수도는 **서울**입니다.',\n",
    "    'area': '미국의 총 면적은 약 **9,833,520 제곱 킬로미터 (km²)** 또는 **3,796,742 제곱 마일 (mi²)** 입니다.\\n\\n이 면적에는 육지와 내륙 수역이 모두 포함됩니다.'}\n",
    "\n",
    "    ```"
   ]
  },
  {
   "cell_type": "markdown",
   "id": "8302dce1",
   "metadata": {},
   "source": [
    "---"
   ]
  },
  {
   "cell_type": "markdown",
   "id": "d193e0b6",
   "metadata": {},
   "source": [
    "#### **3) `병렬 처리`**"
   ]
  },
  {
   "cell_type": "markdown",
   "id": "fe1d8afc",
   "metadata": {},
   "source": [
    "* **`map`** 에 있는 각 `Runnable`이 **`병렬`로 `실행` → `독립적인 프로세스`를 `병렬`로 `실행`하는 데에도 `유용`**\n",
    "\n",
    "  * `area_chain`, `capital_chain`, `map_chain` = `map_chain`이 다른 두 체인을 모두 실행함에도 불구하고 **`거의 동일한 실행 시간`** 을 가지는 것을 확인할 수 있음"
   ]
  },
  {
   "cell_type": "code",
   "execution_count": null,
   "id": "94ee1cb0",
   "metadata": {},
   "outputs": [],
   "source": [
    "%%timeit\n",
    "\n",
    "# 면적을 묻는 체인 호출 → 실행 시간 측정하기\n",
    "\n",
    "area_chain.invoke({\"country\": \"대한민국\"})"
   ]
  },
  {
   "cell_type": "markdown",
   "id": "23587d1d",
   "metadata": {},
   "source": [
    "<small>\n",
    "\n",
    "* 면적을 묻는 체인에 걸린 시간 (`6.9s`)\n",
    "\n",
    "    ```bash\n",
    "\n",
    "    828 ms ± 244 ms per loop (mean ± std. dev. of 7 runs, 1 loop each)\n",
    "\n",
    "    ```"
   ]
  },
  {
   "cell_type": "code",
   "execution_count": null,
   "id": "e89077c6",
   "metadata": {},
   "outputs": [],
   "source": [
    "%%timeit\n",
    "\n",
    "# 수도를 묻는 체인 호출 → 실행 시간 측정하기\n",
    "\n",
    "capital_chain.invoke({\"country\": \"대한민국\"})"
   ]
  },
  {
   "cell_type": "markdown",
   "id": "85e98d7d",
   "metadata": {},
   "source": [
    "<small>\n",
    "\n",
    "* 수도를 묻는 체인에 걸린 시간 (`5.0`)\n",
    "\n",
    "    ```bash\n",
    "\n",
    "    630 ms ± 100 ms per loop (mean ± std. dev. of 7 runs, 1 loop each)\n",
    "\n",
    "    ```"
   ]
  },
  {
   "cell_type": "code",
   "execution_count": null,
   "id": "d9b73155",
   "metadata": {},
   "outputs": [],
   "source": [
    "%%timeit\n",
    "\n",
    "# Parallel 구성 체인 호출 → 실행 시간 측정하기\n",
    "\n",
    "map_chain.invoke({\"country\": \"대한민국\"})"
   ]
  },
  {
   "cell_type": "markdown",
   "id": "5ce4b910",
   "metadata": {},
   "source": [
    "<small>\n",
    "\n",
    "* Parallel 구성 체인에 걸린 시간 (`7.0`)\n",
    "\n",
    "    ```bash\n",
    "\n",
    "    844 ms ± 212 ms per loop (mean ± std. dev. of 7 runs, 1 loop each)\n",
    "\n",
    "    ```"
   ]
  },
  {
   "cell_type": "markdown",
   "id": "56b3b031",
   "metadata": {},
   "source": [
    "---"
   ]
  },
  {
   "cell_type": "markdown",
   "id": "0b7626d2",
   "metadata": {},
   "source": [
    "* next: ***`06. 동적 속성 지정 (configurable_fields, configurable_alternatives)`***"
   ]
  },
  {
   "cell_type": "markdown",
   "id": "f2f4de16",
   "metadata": {},
   "source": [
    "---"
   ]
  }
 ],
 "metadata": {
  "kernelspec": {
   "display_name": "lc_env",
   "language": "python",
   "name": "python3"
  },
  "language_info": {
   "codemirror_mode": {
    "name": "ipython",
    "version": 3
   },
   "file_extension": ".py",
   "mimetype": "text/x-python",
   "name": "python",
   "nbconvert_exporter": "python",
   "pygments_lexer": "ipython3",
   "version": "3.13.5"
  }
 },
 "nbformat": 4,
 "nbformat_minor": 5
}
