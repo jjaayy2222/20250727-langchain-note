{
 "cells": [
  {
   "cell_type": "markdown",
   "id": "ba52bed0",
   "metadata": {},
   "source": [
    "---"
   ]
  },
  {
   "cell_type": "markdown",
   "id": "65001001",
   "metadata": {},
   "source": [
    "* 출처: LangChain 공식 문서 또는 해당 교재명\n",
    "* 원본 URL: https://smith.langchain.com/hub/teddynote/summary-stuff-documents"
   ]
  },
  {
   "cell_type": "markdown",
   "id": "0f884510",
   "metadata": {},
   "source": [
    "---"
   ]
  },
  {
   "cell_type": "markdown",
   "id": "fb18b49c",
   "metadata": {},
   "source": [
    "### **10. `Runtime Arguments 바인딩`**"
   ]
  },
  {
   "cell_type": "markdown",
   "id": "5f936725",
   "metadata": {},
   "source": [
    "#### **1) `Runtime Arguments 바인딩`**"
   ]
  },
  {
   "cell_type": "markdown",
   "id": "aad1807f",
   "metadata": {},
   "source": [
    "* **`Runnable.bind()`** \n",
    "\n",
    "  * `Runnable` 시퀀스 내에서 `Runnable` 호출 시, 이전 `Runnable` 출력이나 사용자 입력에 포함되지 않은 상수 인자를 전달해야 할 경우 사용"
   ]
  },
  {
   "cell_type": "markdown",
   "id": "bcf76ad8",
   "metadata": {},
   "source": [
    "* **`RunnablePassthrough`**\n",
    "\n",
    "  * `{equation_statement}` 변수를 프롬프트에 전달 → `StrOutputParser`를 사용 → 모델의 출력을 문자열로 파싱하는 `runnable` 객체를 생성**\n",
    "\n",
    "  * **`runnable.invoke()` 메서드 호출 → `\"x raised to the third plus seven equals 12\"`라는 방정식 문장 전달 → 결과 출력**"
   ]
  },
  {
   "cell_type": "markdown",
   "id": "6d9c68fc",
   "metadata": {},
   "source": [
    "---"
   ]
  },
  {
   "cell_type": "markdown",
   "id": "047df540",
   "metadata": {},
   "source": [
    "* **`환경설정`**"
   ]
  },
  {
   "cell_type": "markdown",
   "id": "bbdb0182",
   "metadata": {},
   "source": [
    "* `LLM` 설정\n",
    "\n",
    "  * ➀ `gemini-2.5.-flash-lite`\n",
    "\n",
    "  * ➁ `gpt-4o-mini`"
   ]
  },
  {
   "cell_type": "code",
   "execution_count": null,
   "id": "f96003d4",
   "metadata": {},
   "outputs": [],
   "source": [
    "from langchain_core.output_parsers import StrOutputParser\n",
    "from langchain_core.prompts import ChatPromptTemplate\n",
    "from langchain_core.runnables import RunnablePassthrough\n",
    "\n",
    "from langchain_google_genai import ChatGoogleGenerativeAI\n",
    "\n",
    "from dotenv import load_dotenv\n",
    "import os \n",
    "\n",
    "# LLM 초기화\n",
    "# API 키 확인\n",
    "if not os.getenv(\"GOOGLE_API_KEY\"):    \n",
    "    os.environ[\"GOOGLE_API_KEY\"] = input(\"Enter your Google API key: \")\n",
    "    \n",
    "# LLM 생성하기\n",
    "gemini_lc = ChatGoogleGenerativeAI(\n",
    "    model=\"gemini-2.5-flash-lite\",\n",
    "    temperature=0,        \n",
    ")"
   ]
  },
  {
   "cell_type": "markdown",
   "id": "fc2aa660",
   "metadata": {},
   "source": [
    "<small>\n",
    "\n",
    "* 기본 `LLM` 생성하기 (`gemini_lc`) - `gemini-2.5.flash-lite`\n",
    "\n",
    "    ```bash\n",
    "\n",
    "    E0000 00:00:1760013374.064014 2375374 alts_credentials.cc:93] ALTS creds ignored. Not running on GCP and untrusted ALTS is not enabled.\n",
    "    ```"
   ]
  },
  {
   "cell_type": "code",
   "execution_count": null,
   "id": "e3a60a22",
   "metadata": {},
   "outputs": [],
   "source": [
    "from langchain_core.output_parsers import StrOutputParser\n",
    "from langchain_core.prompts import ChatPromptTemplate\n",
    "from langchain_core.runnables import RunnablePassthrough"
   ]
  },
  {
   "cell_type": "code",
   "execution_count": null,
   "id": "68f0f975",
   "metadata": {},
   "outputs": [],
   "source": [
    "import getpass\n",
    "import os\n",
    "\n",
    "# 2nd OpenAI API key사용해 OpenAI 모델 초기화\n",
    "OPEN_API_KEY = os.getenv(\"OPENAI_API_KEY2\")\n",
    "\n",
    "if not os.environ.get(\"OPENAI_API_KEY\"):\n",
    "    os.environ[\"OPENAI_API_KEY\"] = getpass.getpass(\"Enter API key for OpenAI: \")\n",
    "\n",
    "from langchain_openai import ChatOpenAI\n",
    "\n",
    "model = ChatOpenAI(model=\"gpt-4o-mini\", temperature=0)               # 4.1s"
   ]
  },
  {
   "cell_type": "markdown",
   "id": "0e4069d0",
   "metadata": {},
   "source": [
    "* **`프롬프트`**"
   ]
  },
  {
   "cell_type": "code",
   "execution_count": null,
   "id": "2253a933",
   "metadata": {},
   "outputs": [],
   "source": [
    "# 프롬프트 생성\n",
    "prompt = ChatPromptTemplate.from_messages(\n",
    "    [\n",
    "        (\n",
    "            \"system\",\n",
    "            # 대수 기호를 사용하여 다음 방정식을 작성한 다음 풀이하세요.\n",
    "            \"Write out the following equation using algebraic symbols then solve it. \"\n",
    "            \"Use the format\\n\\nEQUATION:...\\nSOLUTION:...\\n\\n\",\n",
    "        ),\n",
    "        (\n",
    "            \"human\",\n",
    "            \"{equation_statement}\",                         # 사용자가 입력한 방정식 문장을 변수로 받기\n",
    "        ),\n",
    "    ]\n",
    ")"
   ]
  },
  {
   "cell_type": "markdown",
   "id": "9ef55669",
   "metadata": {},
   "source": [
    "* **`runnable` 객체 생성하기**\n",
    "\n",
    "  * ➀ `gemini-2.5-flash-lite`\n",
    "\n",
    "  * ➁ `gpt-4o-mini`"
   ]
  },
  {
   "cell_type": "code",
   "execution_count": null,
   "id": "4ccd9f40",
   "metadata": {},
   "outputs": [],
   "source": [
    "# runnable 객체 생성하기 ➀\n",
    "# 방정식 문장을 입력 → 프롬프트에 전달 → 모델에서 생성된 결과 → 문자열로 파싱\n",
    "runnable = (\n",
    "    {\"equation_statement\": RunnablePassthrough()} | prompt | gemini_lc | StrOutputParser()\n",
    ")"
   ]
  },
  {
   "cell_type": "code",
   "execution_count": null,
   "id": "c4719d9e",
   "metadata": {},
   "outputs": [],
   "source": [
    "# runnable 객체 생성하기 ➁\n",
    "# 방정식 문장을 입력 → 프롬프트에 전달 → 모델에서 생성된 결과 → 문자열로 파싱\n",
    "runnable = (\n",
    "    {\"equation_statement\": RunnablePassthrough()} | prompt | model | StrOutputParser()\n",
    ")"
   ]
  },
  {
   "cell_type": "markdown",
   "id": "962aad3e",
   "metadata": {},
   "source": [
    "* **`모델 호출` → `출력 결과 비교하기`**\n",
    "\n",
    "  * ➀ `gemini-2.5-flash-lite`\n",
    "\n",
    "  * ➁ `gpt-4o-mini`"
   ]
  },
  {
   "cell_type": "code",
   "execution_count": null,
   "id": "99f06f87",
   "metadata": {},
   "outputs": [],
   "source": [
    "# query_1 - ➀\n",
    "# 예시 방정식 문장을 입력 → 결과 출력하기\n",
    "print(runnable.invoke(\"x raised to the third plus seven equals 12\"))"
   ]
  },
  {
   "cell_type": "markdown",
   "id": "7f2eecbd",
   "metadata": {},
   "source": [
    "<small>\n",
    "\n",
    "* `query_1` / `gemini-2.5-flash-lite` - (`1.5s`)\n",
    "\n",
    "    ```markdown\n",
    "\n",
    "    EQUATION: $x^3 + 7 = 12$\n",
    "\n",
    "    SOLUTION:\n",
    "    To solve for x, we first isolate the $x^3$ term by subtracting 7 from both sides of the equation:\n",
    "    $x^3 + 7 - 7 = 12 - 7$\n",
    "    $x^3 = 5$\n",
    "\n",
    "    Next, we take the cube root of both sides to solve for x:\n",
    "    $\\sqrt[3]{x^3} = \\sqrt[3]{5}$\n",
    "    $x = \\sqrt[3]{5}$\n",
    "\n",
    "    The solution is $x = \\sqrt[3]{5}$.\n",
    "\n",
    "    ```"
   ]
  },
  {
   "cell_type": "code",
   "execution_count": null,
   "id": "ab3e67a3",
   "metadata": {},
   "outputs": [],
   "source": [
    "# query_1 - ➁\n",
    "# 예시 방정식 문장을 입력 → 결과 출력하기\n",
    "print(runnable.invoke(\"x raised to the third plus seven equals 12\"))"
   ]
  },
  {
   "cell_type": "markdown",
   "id": "d57f036c",
   "metadata": {},
   "source": [
    "<small>\n",
    "\n",
    "* `query_1` / `gpt-4o-mini` - (`3.4s`)\n",
    "\n",
    "    ```markdown\n",
    "\n",
    "    EQUATION: \\( x^3 + 7 = 12 \\)\n",
    "\n",
    "    SOLUTION: \n",
    "    1. Subtract 7 from both sides:\n",
    "    \\[\n",
    "    x^3 = 12 - 7\n",
    "    \\]\n",
    "    \\[\n",
    "    x^3 = 5\n",
    "    \\]\n",
    "\n",
    "    2. Take the cube root of both sides:\n",
    "    \\[\n",
    "    x = \\sqrt[3]{5}\n",
    "    \\]\n",
    "\n",
    "    Thus, the solution is:\n",
    "    \\[\n",
    "    x \\approx 1.71\n",
    "    \\] (approximately, to two decimal places)\n",
    "\n",
    "    ```"
   ]
  },
  {
   "cell_type": "markdown",
   "id": "fb60e357",
   "metadata": {},
   "source": [
    "* **특정 `stop` 단어 사용 → 모델 호출하기**\n",
    "\n",
    "  * **`model.bind()`** → 언어 모델 호출 → 생성된 텍스트에서 **`SOLUTION` 토큰까지만 출력하기**\n",
    "\n",
    "* 모델 2개 사용\n",
    "\n",
    "  * ➀ `gemini-2.5-flash-lite`\n",
    "\n",
    "  * ➁ `gpt-4o-mini`"
   ]
  },
  {
   "cell_type": "code",
   "execution_count": null,
   "id": "0f8f21da",
   "metadata": {},
   "outputs": [],
   "source": [
    "# ➀ gemini-2.5-flash-lite\n",
    "runnable = (\n",
    "    # 실행 가능한 패스스루 객체를 생성하여 \"equation_statement\" 키에 할당하기\n",
    "    {\"equation_statement\": RunnablePassthrough()}\n",
    "    | prompt                                                # 프롬프트를 파이프라인에 추가하기\n",
    "    | gemini_lc.bind(                                       # 모델을 바인딩\n",
    "        stop_sequences=\"SOLUTION\"                           # gemini-config에서는 stop 대신 stop_sequences 사용\n",
    "    )                                                       # \"SOLUTION\" 토큰에서 생성을 중지하도록 설정\n",
    "    | StrOutputParser()                                     # 문자열 출력 파서를 파이프라인에 추가합니다.\n",
    ")"
   ]
  },
  {
   "cell_type": "code",
   "execution_count": null,
   "id": "2e40688f",
   "metadata": {},
   "outputs": [],
   "source": [
    "# ➁ gpt-4o-mini\n",
    "runnable = (\n",
    "    # 실행 가능한 패스스루 객체를 생성하여 \"equation_statement\" 키에 할당하기\n",
    "    {\"equation_statement\": RunnablePassthrough()}\n",
    "    | prompt                                                # 프롬프트를 파이프라인에 추가하기\n",
    "    | model.bind(                                           # 모델을 바인딩\n",
    "        stop=\"SOLUTION\"                                     # \"SOLUTION\" 토큰에서 생성을 중지하도록 설정\n",
    "    )\n",
    "    | StrOutputParser()                                     # 문자열 출력 파서를 파이프라인에 추가합니다.\n",
    ")"
   ]
  },
  {
   "cell_type": "markdown",
   "id": "5791e4fe",
   "metadata": {},
   "source": [
    "* **`model.bind()`** 결과 확인하기\n",
    "\n",
    "  * ➀ `gemini-2.5-flash-lite`\n",
    "\n",
    "  * ➁ `gpt-4o-mini`"
   ]
  },
  {
   "cell_type": "code",
   "execution_count": null,
   "id": "20b1bee3",
   "metadata": {},
   "outputs": [],
   "source": [
    "# query_2 ➀\n",
    "# \"x raised to the third plus seven equals 12\"라는 입력으로 파이프라인을 실행 → 결과 출력하기\n",
    "print(runnable.invoke(\"x raised to the third plus seven equals 12\"))"
   ]
  },
  {
   "cell_type": "markdown",
   "id": "1282f5a7",
   "metadata": {},
   "source": [
    "<small>\n",
    "\n",
    "* `query_2` / `gemini-2.5-flash-lite` - (`1.1s`)\n",
    "\n",
    "    ```markdown\n",
    "\n",
    "    EQUATION: $x^3 + 7 = 12$\n",
    "\n",
    "    SOLUTION:\n",
    "    To solve for x, we first isolate the $x^3$ term by subtracting 7 from both sides of the equation:\n",
    "    $x^3 + 7 - 7 = 12 - 7$\n",
    "    $x^3 = 5$\n",
    "\n",
    "    Next, we take the cube root of both sides to solve for x:\n",
    "    $\\sqrt[3]{x^3} = \\sqrt[3]{5}$\n",
    "    $x = \\sqrt[3]{5}$\n",
    "\n",
    "    The solution is $x = \\sqrt[3]{5}$.\n",
    "\n",
    "    ```"
   ]
  },
  {
   "cell_type": "code",
   "execution_count": null,
   "id": "fa116721",
   "metadata": {},
   "outputs": [],
   "source": [
    "# query_2 ➁\n",
    "# \"x raised to the third plus seven equals 12\"라는 입력으로 파이프라인을 실행 → 결과 출력하기\n",
    "print(runnable.invoke(\"x raised to the third plus seven equals 12\"))"
   ]
  },
  {
   "cell_type": "markdown",
   "id": "58f15774",
   "metadata": {},
   "source": [
    "<small>\n",
    "\n",
    "* `query_2` / `gpt-4o-mini` - (`1.2s`)\n",
    "\n",
    "    ```markdown\n",
    "\n",
    "    EQUATION: \\( x^3 + 7 = 12 \\)\n",
    "\n",
    "    ```"
   ]
  },
  {
   "cell_type": "markdown",
   "id": "4f9a52c5",
   "metadata": {},
   "source": [
    "---"
   ]
  },
  {
   "cell_type": "markdown",
   "id": "a26a6937",
   "metadata": {},
   "source": [
    "* `gemini`, `gpt`의 호출 구조, 데이터 구조, config 방법 등이 달라 출력이 다르게 생성\n",
    "\n",
    "* **`아래는 교재에 따라 OpenAI의 방법을 따라 실습 계속 진행 예정`**"
   ]
  },
  {
   "cell_type": "markdown",
   "id": "5e0570e7",
   "metadata": {},
   "source": [
    "---"
   ]
  },
  {
   "cell_type": "markdown",
   "id": "74cd89a2",
   "metadata": {},
   "source": [
    "#### **2) `OpenAI Functions 기능 연결`**"
   ]
  },
  {
   "cell_type": "markdown",
   "id": "6d9d210e",
   "metadata": {},
   "source": [
    "* `binding`의 유용한 활용 방법 중 하나 = **`OpenAI`** 모델에 **`OpenAI Functions`를 연결하는 것**"
   ]
  },
  {
   "cell_type": "markdown",
   "id": "d267d02f",
   "metadata": {},
   "source": [
    "* **`OpenAI Functions`를 `스키마`에 맞게 정의한 코드**"
   ]
  },
  {
   "cell_type": "code",
   "execution_count": null,
   "id": "9684a0d8",
   "metadata": {},
   "outputs": [],
   "source": [
    "openai_function = {\n",
    "    \"name\": \"solver\",                                                       # 함수의 이름\n",
    "    # 함수의 설명: \"방정식을 수립하고 해결합니다.\"\n",
    "    \"description\": \"Formulates and solves an equation\",\n",
    "    # 함수의 매개변수\n",
    "    \"parameters\": {\n",
    "        \"type\": \"object\",                                                   # 매개변수의 타입: 객체\n",
    "        \"properties\": {                                                     # 매개변수의 속성\n",
    "            \"equation\": {                                                   # 방정식 속성\n",
    "                \"type\": \"string\",                                           # 방정식의 타입: 문자열\n",
    "                \"description\": \"The algebraic expression of the equation\",  # 방정식의 대수식 표현\n",
    "            },\n",
    "            \"solution\": {                                                   # 해답 속성\n",
    "                \"type\": \"string\",                                           # 해답의 타입: 문자열\n",
    "                \"description\": \"The solution to the equation\",              # 방정식의 해답\n",
    "            },\n",
    "        },\n",
    "        \"required\": [\"equation\", \"solution\"],                               # 필수 매개변수: 방정식과 해답\n",
    "    },\n",
    "}"
   ]
  },
  {
   "cell_type": "markdown",
   "id": "dbc8af7e",
   "metadata": {},
   "source": [
    "* **`bind()`** 메서드 사용 → **`solver`** 함수 호출 → 모델에 바인딩하기"
   ]
  },
  {
   "cell_type": "code",
   "execution_count": null,
   "id": "1e5dba32",
   "metadata": {},
   "outputs": [],
   "source": [
    "# 프롬프트 생성\n",
    "prompt = ChatPromptTemplate.from_messages(\n",
    "    [\n",
    "        (\n",
    "            \"system\",\n",
    "            \"Write out the following equation using algebraic symbols then solve it.\",\n",
    "            # 다음 방정식을 대수 기호를 사용하여 작성한 다음 해결하세요.\n",
    "        ),\n",
    "        (\"human\", \"{equation_statement}\"),\n",
    "    ]\n",
    ")\n",
    "\n",
    "# LLM 초기화\n",
    "model = ChatOpenAI(model=\"gpt-4o-mini\", temperature=0).bind(     # openai_function schema 바인딩\n",
    "    function_call={\"name\": \"solver\"},                           # 사전 정의한 openai_function의 name, solver\n",
    "    functions=[openai_function],\n",
    ")\n",
    "\n",
    "# runnable 객체 생성하기\n",
    "runnable = {\"equation_statement\": RunnablePassthrough()} | prompt | model\n",
    "\n",
    "# 출력하기\n",
    "runnable.invoke(\"x raised to the third plus seven equals 12\")   # \"x의 세제곱에 7을 더하면 12와 같다\""
   ]
  },
  {
   "cell_type": "markdown",
   "id": "7fd54d9b",
   "metadata": {},
   "source": [
    "<samll>\n",
    "\n",
    "* **`model.bind()` → `openai_function`** - (`1.7s`)\n",
    "\n",
    "    ```bash\n",
    "\n",
    "    AIMessage(content='', additional_kwargs={'function_call': {'arguments': '{\"equation\":\"x^3 + 7 = 12\",\"solution\":\"x\"}', 'name': 'solver'}, 'refusal': None}, response_metadata={'token_usage': {'completion_tokens': 18, 'prompt_tokens': 95, 'total_tokens': 113, 'completion_tokens_details': {'accepted_prediction_tokens': 0, 'audio_tokens': 0, 'reasoning_tokens': 0, 'rejected_prediction_tokens': 0}, 'prompt_tokens_details': {'audio_tokens': 0, 'cached_tokens': 0}}, 'model_name': 'gpt-4o-mini-2024-07-18', 'system_fingerprint': 'fp_51db84afab', 'id': 'chatcmpl-COvjKJxHw52XYRiQIAPwKYvZkHdh6', 'service_tier': 'default', 'finish_reason': 'stop', 'logprobs': None}, id='run--625ea776-ae03-47fd-90a2-e2c9dbd139c1-0', usage_metadata={'input_tokens': 95, 'output_tokens': 18, 'total_tokens': 113, 'input_token_details': {'audio': 0, 'cache_read': 0}, 'output_token_details': {'audio': 0, 'reasoning': 0}})\n",
    "\n",
    "    ```"
   ]
  },
  {
   "cell_type": "markdown",
   "id": "03be80a9",
   "metadata": {},
   "source": [
    "---"
   ]
  },
  {
   "cell_type": "markdown",
   "id": "c7ebfc3a",
   "metadata": {},
   "source": [
    "#### **3) `OpenAI tools 연결하기`**"
   ]
  },
  {
   "cell_type": "markdown",
   "id": "0d3ae01f",
   "metadata": {},
   "source": [
    "* **`OpenAI tools` 연결 → 활용하는 방법**\n",
    "\n",
    "  * **`tools`** 객체 = **`OpenAI`** 의 다양한 기능을 간편하게 사용할 수 있도록 도움\n",
    "\n",
    "  * *예시: `tool.run` 메서드 호출 → 자연어 질문 입력 → 해당 질문에 대한 답변 생성*"
   ]
  },
  {
   "cell_type": "code",
   "execution_count": null,
   "id": "32163bfa",
   "metadata": {},
   "outputs": [],
   "source": [
    "# OpenAI tools\n",
    "\n",
    "tools = [\n",
    "    {\n",
    "        \"type\": \"function\",\n",
    "        \"function\": {\n",
    "            \"name\": \"get_current_weather\",                               # 현재 날씨를 가져오는 함수의 이름\n",
    "            \"description\": \"주어진 위치의 현재 날씨를 가져옵니다\",                # 함수에 대한 설명\n",
    "            \"parameters\": {\n",
    "                \"type\": \"object\",\n",
    "                \"properties\": {\n",
    "                    \"location\": {\n",
    "                        \"type\": \"string\",\n",
    "                        \"description\": \"도시와 주, 예: San Francisco, CA\",  # 위치 매개변수에 대한 설명\n",
    "                    },\n",
    "                    # 온도 단위 매개변수 (섭씨 또는 화씨)\n",
    "                    \"unit\": {\"type\": \"string\", \"enum\": [\"celsius\", \"fahrenheit\"]},\n",
    "                },\n",
    "                \"required\": [\"location\"],                                # 필수 매개변수 지정\n",
    "            },\n",
    "        },\n",
    "    }\n",
    "]"
   ]
  },
  {
   "cell_type": "markdown",
   "id": "97bec63d",
   "metadata": {},
   "source": [
    "* **`bind()`** 메서드 → **`tools`를 모델에 바인딩** \n",
    "\n",
    "* **`invoke()`** 메서드 호출 → *`\"샌프란시스코, 뉴욕, 로스앤젤레스의 현재 날씨에 대해 알려줘?\"` 질문* → *모델에 전달*"
   ]
  },
  {
   "cell_type": "code",
   "execution_count": null,
   "id": "15e2b87a",
   "metadata": {},
   "outputs": [],
   "source": [
    "# ChatOpenAI 모델 초기화 → 도구 바인딩하기\n",
    "model = ChatOpenAI(model=\"gpt-4o-mini\").bind(tools=tools)"
   ]
  },
  {
   "cell_type": "code",
   "execution_count": null,
   "id": "8bccb2f7",
   "metadata": {},
   "outputs": [],
   "source": [
    "# 모델 호출 → 샌프란시스코, 뉴욕, 로스앤젤레스의 날씨에 대해 질문하기\n",
    "model.invoke(\"샌프란시스코, 뉴욕, 로스앤젤레스의 현재 날씨에 대해 알려줘?\")"
   ]
  },
  {
   "cell_type": "markdown",
   "id": "024c7b70",
   "metadata": {},
   "source": [
    "<small>\n",
    "\n",
    "* **`model.bind()` → `openai tools` 연결** - (`2.6s`)\n",
    "\n",
    "    ```bash\n",
    "\n",
    "    AIMessage(content='', additional_kwargs={'tool_calls': [{'id': 'call_fqPlWHHjJKwI3LAUXSaFFoU6', 'function': {'arguments': '{\"location\": \"San Francisco, CA\"}', 'name': 'get_current_weather'}, 'type': 'function'}, {'id': 'call_S8NzSWK2zZzWoNFt5THfxEPk', 'function': {'arguments': '{\"location\": \"New York, NY\"}', 'name': 'get_current_weather'}, 'type': 'function'}, {'id': 'call_QbQPSpi44YQsu0swdMDzROZb', 'function': {'arguments': '{\"location\": \"Los Angeles, CA\"}', 'name': 'get_current_weather'}, 'type': 'function'}], 'refusal': None}, response_metadata={'token_usage': {'completion_tokens': 70, 'prompt_tokens': 99, 'total_tokens': 169, 'completion_tokens_details': {'accepted_prediction_tokens': 0, 'audio_tokens': 0, 'reasoning_tokens': 0, 'rejected_prediction_tokens': 0}, 'prompt_tokens_details': {'audio_tokens': 0, 'cached_tokens': 0}}, 'model_name': 'gpt-4o-mini-2024-07-18', 'system_fingerprint': 'fp_560af6e559', 'id': 'chatcmpl-COvrIM0E5b8a2zA5WaRpgTdMcuOHj', 'service_tier': 'default', 'finish_reason': 'tool_calls', 'logprobs': None}, id='run--3f19f8aa-2ccb-4242-bbe4-a477c2483f47-0', tool_calls=[{'name': 'get_current_weather', 'args': {'location': 'San Francisco, CA'}, 'id': 'call_fqPlWHHjJKwI3LAUXSaFFoU6', 'type': 'tool_call'}, {'name': 'get_current_weather', 'args': {'location': 'New York, NY'}, 'id': 'call_S8NzSWK2zZzWoNFt5THfxEPk', 'type': 'tool_call'}, {'name': 'get_current_weather', 'args': {'location': 'Los Angeles, CA'}, 'id': 'call_QbQPSpi44YQsu0swdMDzROZb', 'type': 'tool_call'}], usage_metadata={'input_tokens': 99, 'output_tokens': 70, 'total_tokens': 169, 'input_token_details': {'audio': 0, 'cache_read': 0}, 'output_token_details': {'audio': 0, 'reasoning': 0}})\n",
    "\n",
    "    ```"
   ]
  },
  {
   "cell_type": "markdown",
   "id": "403df77a",
   "metadata": {},
   "source": [
    "---"
   ]
  },
  {
   "cell_type": "markdown",
   "id": "0b7626d2",
   "metadata": {},
   "source": [
    "* next: ***`11. 폴백 (fallback) 모델 지정`***"
   ]
  },
  {
   "cell_type": "markdown",
   "id": "f2f4de16",
   "metadata": {},
   "source": [
    "---"
   ]
  }
 ],
 "metadata": {
  "kernelspec": {
   "display_name": "lc_env",
   "language": "python",
   "name": "python3"
  },
  "language_info": {
   "codemirror_mode": {
    "name": "ipython",
    "version": 3
   },
   "file_extension": ".py",
   "mimetype": "text/x-python",
   "name": "python",
   "nbconvert_exporter": "python",
   "pygments_lexer": "ipython3",
   "version": "3.13.5"
  }
 },
 "nbformat": 4,
 "nbformat_minor": 5
}
