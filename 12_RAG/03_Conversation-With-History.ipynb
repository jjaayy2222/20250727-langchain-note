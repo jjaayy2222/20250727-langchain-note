{
 "cells": [
  {
   "cell_type": "markdown",
   "id": "14bd064b",
   "metadata": {},
   "source": [
    "---"
   ]
  },
  {
   "cell_type": "markdown",
   "id": "4d7cf4d9",
   "metadata": {},
   "source": [
    "* 출처: LangChain 공식 문서 또는 해당 교재명\n",
    "* 원본 URL: https://smith.langchain.com/hub/teddynote/summary-stuff-documents"
   ]
  },
  {
   "cell_type": "markdown",
   "id": "c14946d5",
   "metadata": {},
   "source": [
    "---"
   ]
  },
  {
   "cell_type": "markdown",
   "id": "3d46aac0",
   "metadata": {},
   "source": [
    "### **3. `이전 대화를 기억하는 Chain 생성 방법`**"
   ]
  },
  {
   "cell_type": "markdown",
   "id": "0c88b2da",
   "metadata": {},
   "source": [
    "* 참고: [**`RunnableWithMessageHistory`**](https://wikidocs.net/235581)"
   ]
  },
  {
   "cell_type": "markdown",
   "id": "c27bd7d3",
   "metadata": {},
   "source": [
    "---"
   ]
  },
  {
   "cell_type": "markdown",
   "id": "882ca0af",
   "metadata": {},
   "source": [
    "* **`환경설정`**"
   ]
  },
  {
   "cell_type": "code",
   "execution_count": null,
   "id": "87635a2c",
   "metadata": {},
   "outputs": [],
   "source": [
    "# API 키를 환경변수로 관리하기 위한 설정 파일\n",
    "from dotenv import load_dotenv\n",
    "\n",
    "# API 키 정보 로드\n",
    "load_dotenv()                           # True"
   ]
  },
  {
   "cell_type": "code",
   "execution_count": null,
   "id": "d72357db",
   "metadata": {},
   "outputs": [],
   "source": [
    "from langsmith import Client\n",
    "from langsmith import traceable\n",
    "\n",
    "import os\n",
    "\n",
    "# LangSmith 환경 변수 확인\n",
    "\n",
    "print(\"\\n--- LangSmith 환경 변수 확인 ---\")\n",
    "langchain_tracing_v2 = os.getenv('LANGCHAIN_TRACING_V2')\n",
    "langchain_project = os.getenv('LANGCHAIN_PROJECT')\n",
    "langchain_api_key_status = \"설정됨\" if os.getenv('LANGCHAIN_API_KEY') else \"설정되지 않음\" # API 키 값은 직접 출력하지 않음\n",
    "\n",
    "if langchain_tracing_v2 == \"true\" and os.getenv('LANGCHAIN_API_KEY') and langchain_project:\n",
    "    print(f\"✅ LangSmith 추적 활성화됨 (LANGCHAIN_TRACING_V2='{langchain_tracing_v2}')\")\n",
    "    print(f\"✅ LangSmith 프로젝트: '{langchain_project}'\")\n",
    "    print(f\"✅ LangSmith API Key: {langchain_api_key_status}\")\n",
    "    print(\"  -> 이제 LangSmith 대시보드에서 이 프로젝트를 확인해 보세요.\")\n",
    "else:\n",
    "    print(\"❌ LangSmith 추적이 완전히 활성화되지 않았습니다. 다음을 확인하세요:\")\n",
    "    if langchain_tracing_v2 != \"true\":\n",
    "        print(f\"  - LANGCHAIN_TRACING_V2가 'true'로 설정되어 있지 않습니다 (현재: '{langchain_tracing_v2}').\")\n",
    "    if not os.getenv('LANGCHAIN_API_KEY'):\n",
    "        print(\"  - LANGCHAIN_API_KEY가 설정되어 있지 않습니다.\")\n",
    "    if not langchain_project:\n",
    "        print(\"  - LANGCHAIN_PROJECT가 설정되어 있지 않습니다.\")"
   ]
  },
  {
   "cell_type": "markdown",
   "id": "d6a6147e",
   "metadata": {},
   "source": [
    "<small>\n",
    "\n",
    "* 셀 출력\n",
    "\n",
    "    ```bash\n",
    "    --- LangSmith 환경 변수 확인 ---\n",
    "    ✅ LangSmith 추적 활성화됨 (LANGCHAIN_TRACING_V2='true')\n",
    "    ✅ LangSmith 프로젝트: 'LangChain-prantice'\n",
    "    ✅ LangSmith API Key: 설정됨\n",
    "    -> 이제 LangSmith 대시보드에서 이 프로젝트를 확인해 보세요.\n",
    "    ```"
   ]
  },
  {
   "cell_type": "markdown",
   "id": "4081b662",
   "metadata": {},
   "source": [
    "---"
   ]
  },
  {
   "cell_type": "markdown",
   "id": "cb463829",
   "metadata": {},
   "source": [
    "#### **1) `일반 Chain에 대화기록 추가`**"
   ]
  },
  {
   "cell_type": "code",
   "execution_count": null,
   "id": "9faf29cf",
   "metadata": {},
   "outputs": [],
   "source": [
    "from langchain_core.prompts import ChatPromptTemplate, MessagesPlaceholder\n",
    "from langchain_community.chat_message_histories import ChatMessageHistory\n",
    "from langchain_core.chat_history import BaseChatMessageHistory\n",
    "from langchain_core.runnables.history import RunnableWithMessageHistory\n",
    "from langchain_core.output_parsers import StrOutputParser\n",
    "from langchain_google_genai import ChatGoogleGenerativeAI\n",
    "from langchain_huggingface import HuggingFaceEmbeddings"
   ]
  },
  {
   "cell_type": "code",
   "execution_count": null,
   "id": "ce52ec8b",
   "metadata": {},
   "outputs": [],
   "source": [
    "# 프롬프트 정의\n",
    "\n",
    "prompt = ChatPromptTemplate.from_messages(\n",
    "    [\n",
    "        (\n",
    "            \"system\",\n",
    "            \"당신은 Question-Answering 챗봇입니다. 주어진 질문에 대한 답변을 제공해주세요.\",\n",
    "        ),\n",
    "        MessagesPlaceholder(variable_name=\"chat_history\"),       # 대화기록용 key 인 chat_history 는 가급적 변경 없이 사용하기\n",
    "        (\"human\", \"#Question:\\n{question}\"),                     # 사용자 입력을 변수로 사용\n",
    "    ]\n",
    ")"
   ]
  },
  {
   "cell_type": "code",
   "execution_count": null,
   "id": "f8d2e479",
   "metadata": {},
   "outputs": [],
   "source": [
    "# 모델(LLM) 생성하기\n",
    "from langchain_google_genai import ChatGoogleGenerativeAI\n",
    "from dotenv import load_dotenv\n",
    "import os\n",
    "\n",
    "load_dotenv()\n",
    "\n",
    "# API 키 확인\n",
    "if not os.getenv(\"GOOGLE_API_KEY\"):\n",
    "    os.environ[\"GOOGLE_API_KEY\"] = input(\"Enter your Google API key: \")\n",
    "\n",
    "# LLM 초기화\n",
    "gemini_lc = ChatGoogleGenerativeAI(\n",
    "        model=\"gemini-2.5-flash-lite\",\n",
    "        temperature=0,                                              # temperature = 0으로 설정  \n",
    "        max_output_tokens=4096,\n",
    "    )"
   ]
  },
  {
   "cell_type": "markdown",
   "id": "c95e42b2",
   "metadata": {},
   "source": [
    "<small>\n",
    "\n",
    "* `LLM` 생성하기\n",
    "\n",
    "    ```bash\n",
    "    E0000 00:00:1759709796.839492 1446418 alts_credentials.cc:93] ALTS creds ignored. Not running on GCP and untrusted ALTS is not enabled.\n",
    "    ```"
   ]
  },
  {
   "cell_type": "code",
   "execution_count": null,
   "id": "ccbbd7b5",
   "metadata": {},
   "outputs": [],
   "source": [
    "# 일반 Chain 생성\n",
    "chain = prompt | gemini_lc | StrOutputParser()"
   ]
  },
  {
   "cell_type": "markdown",
   "id": "694b98e0",
   "metadata": {},
   "source": [
    "* 대화를 기록하는 체인 생성 (**`chain_with_history`**)"
   ]
  },
  {
   "cell_type": "code",
   "execution_count": null,
   "id": "d730a3bc",
   "metadata": {},
   "outputs": [],
   "source": [
    "# 세션 기록을 저장할 딕셔너리\n",
    "store = {}\n",
    "\n",
    "# 세션 ID를 기반으로 세션 기록을 가져오는 함수\n",
    "def get_session_history(session_ids):\n",
    "    print(f\"[대화 세션ID]: {session_ids}\")\n",
    "    if session_ids not in store:                    # 세션 ID가 store에 없는 경우\n",
    "        # 새로운 ChatMessageHistory 객체를 생성하여 store에 저장\n",
    "        store[session_ids] = ChatMessageHistory()\n",
    "    return store[session_ids]                       # 해당 세션 ID에 대한 세션 기록 반환\n",
    "\n",
    "chain_with_history = RunnableWithMessageHistory(\n",
    "    chain,\n",
    "    get_session_history,                            # 세션 기록을 가져오는 함수\n",
    "    input_messages_key=\"question\",                  # 사용자의 질문이 템플릿 변수에 들어갈 key\n",
    "    history_messages_key=\"chat_history\",            # 기록 메시지의 키\n",
    ")"
   ]
  },
  {
   "cell_type": "markdown",
   "id": "9d26d096",
   "metadata": {},
   "source": [
    "* **`첫 번째 질문 실행`**"
   ]
  },
  {
   "cell_type": "code",
   "execution_count": null,
   "id": "ada37ed1",
   "metadata": {},
   "outputs": [],
   "source": [
    "# 첫 번째 질문\n",
    "chain_with_history.invoke(\n",
    "    {\"question\": \"나의 이름은 앨리스입니다.\"},                    # 질문 입력\n",
    "    config={\"configurable\": {\"session_id\": \"abc123\"}},      # 세션 ID 기준으로 대화 기록하기\n",
    ")"
   ]
  },
  {
   "cell_type": "markdown",
   "id": "5fcebdda",
   "metadata": {},
   "source": [
    "<small>\n",
    "\n",
    "* 첫 번째 대화 (`0.9s`)\n",
    "\n",
    "    ```markdown\n",
    "    [대화 세션ID]: abc123\n",
    "\n",
    "    '#Answer:\\n안녕하세요, 앨리스님! 만나서 반갑습니다.'\n",
    "    ```"
   ]
  },
  {
   "cell_type": "markdown",
   "id": "6d800f71",
   "metadata": {},
   "source": [
    "* **`이어서 질문하기`**"
   ]
  },
  {
   "cell_type": "code",
   "execution_count": null,
   "id": "f454ed7f",
   "metadata": {},
   "outputs": [],
   "source": [
    "# 이어서 질문하기\n",
    "chain_with_history.invoke(\n",
    "    {\"question\": \"내 이름이 뭐라고?\"},                          # 질문 입력\n",
    "    config={\"configurable\": {\"session_id\": \"abc123\"}},      # 세션 ID 기준으로 대화 기록하기\n",
    ")"
   ]
  },
  {
   "cell_type": "markdown",
   "id": "c67edc10",
   "metadata": {},
   "source": [
    "<small>\n",
    "\n",
    "* 이어서 질문하기 (`0.4s`)\n",
    "\n",
    "    ```markdown\n",
    "    [대화 세션ID]: abc123\n",
    "\n",
    "    '#Answer:\\n앨리스님이라고 하셨습니다.'\n",
    "    ```"
   ]
  },
  {
   "cell_type": "markdown",
   "id": "cdaeb157",
   "metadata": {},
   "source": [
    "---"
   ]
  },
  {
   "cell_type": "markdown",
   "id": "23bee04d",
   "metadata": {},
   "source": [
    "#### **2) `RAG` + `RunnableWithMessageHistory`**"
   ]
  },
  {
   "cell_type": "markdown",
   "id": "97d7736a",
   "metadata": {},
   "source": [
    "* 먼저 일반 `RAG Chain` 생성 → 단, 6단계의 **`{chat_history}`** 를 반드시 추가하기"
   ]
  },
  {
   "cell_type": "code",
   "execution_count": null,
   "id": "ad74f12f",
   "metadata": {},
   "outputs": [],
   "source": [
    "from langchain_text_splitters import RecursiveCharacterTextSplitter\n",
    "from langchain_community.document_loaders import PDFPlumberLoader\n",
    "from langchain_community.vectorstores import FAISS\n",
    "from langchain_core.output_parsers import StrOutputParser\n",
    "from langchain_core.prompts import PromptTemplate\n",
    "from langchain_community.chat_message_histories import ChatMessageHistory\n",
    "from langchain_core.runnables.history import RunnableWithMessageHistory\n",
    "from langchain_core.output_parsers import StrOutputParser\n",
    "from operator import itemgetter\n",
    "from langchain_google_genai import ChatGoogleGenerativeAI\n",
    "from langchain_huggingface import HuggingFaceEmbeddings\n",
    "import warnings"
   ]
  },
  {
   "cell_type": "code",
   "execution_count": null,
   "id": "97134775",
   "metadata": {},
   "outputs": [],
   "source": [
    "# 단계 1: 문서 로드(Load Documents)\n",
    "loader = PDFPlumberLoader(\"../12_RAG/data/SPRI_AI_Brief_2023년12월호_F.pdf\")\n",
    "docs = loader.load()"
   ]
  },
  {
   "cell_type": "code",
   "execution_count": null,
   "id": "0ecd349d",
   "metadata": {},
   "outputs": [],
   "source": [
    "print(type(docs))               # <class 'list'> "
   ]
  },
  {
   "cell_type": "code",
   "execution_count": null,
   "id": "9c269ccb",
   "metadata": {},
   "outputs": [],
   "source": [
    "# 단계 2: 문서 분할(Split Documents)\n",
    "text_splitter = RecursiveCharacterTextSplitter(chunk_size=1000, chunk_overlap=50)\n",
    "split_documents = text_splitter.split_documents(docs)"
   ]
  },
  {
   "cell_type": "code",
   "execution_count": null,
   "metadata": {},
   "outputs": [],
   "source": [
    "# 단계 3: 임베딩 형성\n",
    "# 경고 무시\n",
    "warnings.filterwarnings(\"ignore\")\n",
    "\n",
    "# HuggingFace Embeddings 사용\n",
    "embeddings = HuggingFaceEmbeddings(\n",
    "    model_name=\"sentence-transformers/all-MiniLM-L6-v2\",\n",
    "    model_kwargs={'device': 'cpu'},\n",
    "    encode_kwargs={'normalize_embeddings': True}\n",
    ")\n",
    "\n",
    "print(\"✅ hugging-face 임베딩 모델 로딩 완료!\")"
   ]
  },
  {
   "cell_type": "markdown",
   "id": "ea1f9ff4",
   "metadata": {},
   "source": [
    "<small>\n",
    "\n",
    "* ✅ hugging-face 임베딩 모델 로딩 완료!  (`6.9s`)"
   ]
  },
  {
   "cell_type": "code",
   "execution_count": null,
   "metadata": {},
   "outputs": [],
   "source": [
    "# 단계 4: DB 생성(Create DB) 및 저장\n",
    "# 벡터스토어 생성하기\n",
    "vectorstore = FAISS.from_documents(documents=split_documents, embedding=embeddings)     # 1.3s"
   ]
  },
  {
   "cell_type": "code",
   "execution_count": null,
   "id": "986e9739",
   "metadata": {},
   "outputs": [],
   "source": [
    "# 단계 5: 검색기(Retriever) 생성\n",
    "# 문서에 포함되어 있는 정보를 검색하고 생성하기\n",
    "retriever = vectorstore.as_retriever()\n",
    "\n",
    "# 병렬처리 비활성화\n",
    "import os\n",
    "os.environ[\"TOKENIZERS_PARALLELISM\"] = \"false\""
   ]
  },
  {
   "cell_type": "code",
   "execution_count": null,
   "id": "701207ce",
   "metadata": {},
   "outputs": [],
   "source": [
    "# 단계 6: 프롬프트 생성(Create Prompt)\n",
    "# 프롬프트 생성하기\n",
    "\n",
    "prompt = PromptTemplate.from_template(\n",
    "    \"\"\"You are an assistant for question-answering tasks. \n",
    "Use the following pieces of retrieved context to answer the question. \n",
    "If you don't know the answer, just say that you don't know. \n",
    "Answer in Korean.\n",
    "\n",
    "#Previous Chat History:\n",
    "{chat_history}\n",
    "\n",
    "#Question: \n",
    "{question} \n",
    "\n",
    "#Context: \n",
    "{context} \n",
    "\n",
    "#Answer:\"\"\"\n",
    ")"
   ]
  },
  {
   "cell_type": "code",
   "execution_count": null,
   "id": "a105bba9",
   "metadata": {},
   "outputs": [],
   "source": [
    "# 단계 7: 언어모델(LLM) 생성\n",
    "# 모델(LLM) 생성하기\n",
    "from langchain_google_genai import ChatGoogleGenerativeAI\n",
    "from dotenv import load_dotenv\n",
    "import os\n",
    "\n",
    "load_dotenv()\n",
    "\n",
    "# API 키 확인\n",
    "if not os.getenv(\"GOOGLE_API_KEY\"):\n",
    "    os.environ[\"GOOGLE_API_KEY\"] = input(\"Enter your Google API key: \")\n",
    "\n",
    "# LLM 초기화\n",
    "gemini_lc = ChatGoogleGenerativeAI(\n",
    "        model=\"gemini-2.5-flash-lite\",\n",
    "        temperature=0,                                              # temperature = 0으로 설정  \n",
    "        max_output_tokens=4096,\n",
    "    )"
   ]
  },
  {
   "cell_type": "markdown",
   "id": "225cf244",
   "metadata": {},
   "source": [
    "<small>\n",
    "\n",
    "* `gemini-2.5-flash-lite` 생성\n",
    "\n",
    "    ```bash\n",
    "    E0000 00:00:1759710894.725306 1446418 alts_credentials.cc:93] ALTS creds ignored. Not running on GCP and untrusted ALTS is not enabled.\n",
    "    ```"
   ]
  },
  {
   "cell_type": "markdown",
   "id": "e6f50ba8",
   "metadata": {},
   "source": [
    "* **`대화를 저장할 수 있는 함수를 정의하기`**"
   ]
  },
  {
   "cell_type": "code",
   "execution_count": null,
   "id": "5aa991f2",
   "metadata": {},
   "outputs": [],
   "source": [
    "# 세션 기록을 저장할 딕셔너리\n",
    "store = {}\n",
    "\n",
    "# 세션 ID를 기반으로 세션 기록을 가져오는 함수\n",
    "def get_session_history(session_ids):\n",
    "    print(f\"[대화 세션ID]: {session_ids}\")\n",
    "    if session_ids not in store:                    # 세션 ID가 store에 없는 경우\n",
    "        # 새로운 ChatMessageHistory 객체를 생성하여 store에 저장\n",
    "        store[session_ids] = ChatMessageHistory()\n",
    "    return store[session_ids]                       # 해당 세션 ID에 대한 세션 기록 반환\n",
    "\n",
    "# 대화를 기록하는 RAG 체인 생성\n",
    "rag_with_history = RunnableWithMessageHistory(\n",
    "    chain,\n",
    "    get_session_history,                            # 세션 기록을 가져오는 함수\n",
    "    input_messages_key=\"question\",                  # 사용자의 질문이 템플릿 변수에 들어갈 key\n",
    "    history_messages_key=\"chat_history\",            # 기록 메시지의 키\n",
    ")"
   ]
  },
  {
   "cell_type": "markdown",
   "id": "af2d5da3",
   "metadata": {},
   "source": [
    "* **`첫 번째 질문 생성`**"
   ]
  },
  {
   "cell_type": "code",
   "execution_count": null,
   "id": "b95eb3ff",
   "metadata": {},
   "outputs": [],
   "source": [
    "# 첫 번째 질문하기\n",
    "rag_with_history.invoke(\n",
    "    {\"question\": \"삼성전자가 만든 생성형 AI 이름은?\"},                  # 질문 입력\n",
    "    config={\"configurable\": {\"session_id\": \"rag123\"}},          # 세션 ID 기준으로 대화 기록하기\n",
    ")"
   ]
  },
  {
   "cell_type": "markdown",
   "id": "213218dd",
   "metadata": {},
   "source": [
    "<small>\n",
    "\n",
    "* 첫 번째 대화 (`0.9s`)\n",
    "\n",
    "    ```markdown\n",
    "    [대화 세션ID]: rag123\n",
    "\n",
    "    '삼성전자가 만든 생성형 AI의 이름은 **삼성 가우스(Samsung Gauss)**입니다.'\n",
    "    ```"
   ]
  },
  {
   "cell_type": "markdown",
   "id": "01480d07",
   "metadata": {},
   "source": [
    "* **`이어서 질문하기`**"
   ]
  },
  {
   "cell_type": "code",
   "execution_count": null,
   "id": "50fd09a2",
   "metadata": {},
   "outputs": [],
   "source": [
    "# 두 번째 질문하기\n",
    "rag_with_history.invoke(\n",
    "    {\"question\": \"이전 답변을 영어로 번역해주세요.\"},                   # 질문 입력\n",
    "    config={\"configurable\": {\"session_id\": \"rag123\"}},          # 세션 ID 기준으로 대화 기록하기\n",
    ")"
   ]
  },
  {
   "cell_type": "markdown",
   "id": "3fe3773a",
   "metadata": {},
   "source": [
    "<small>\n",
    "\n",
    "* 이어서 질문하기 (`0.8s`)\n",
    "\n",
    "    ```markdown\n",
    "    [대화 세션ID]: rag123\n",
    "\n",
    "    'Sure, here is the English translation of the previous answer:  # Question: Please translate the previous answer into English.  **Answer:** The name of the generative AI created by Samsung Electronics is **Samsung Gauss**.'\n",
    "    ```"
   ]
  },
  {
   "cell_type": "markdown",
   "id": "8f5a6766",
   "metadata": {},
   "source": [
    "---"
   ]
  },
  {
   "cell_type": "markdown",
   "id": "99113bb5",
   "metadata": {},
   "source": [
    "* next: ***`04. RAPTOR: 긴 문맥 요약 (Long Context Summary)`***"
   ]
  },
  {
   "cell_type": "markdown",
   "id": "68a4f342",
   "metadata": {},
   "source": [
    "---"
   ]
  }
 ],
 "metadata": {
  "kernelspec": {
   "display_name": "lc_env",
   "language": "python",
   "name": "python3"
  },
  "language_info": {
   "codemirror_mode": {
    "name": "ipython",
    "version": 3
   },
   "file_extension": ".py",
   "mimetype": "text/x-python",
   "name": "python",
   "nbconvert_exporter": "python",
   "pygments_lexer": "ipython3",
   "version": "3.13.5"
  }
 },
 "nbformat": 4,
 "nbformat_minor": 5
}
