{
 "cells": [
  {
   "cell_type": "markdown",
   "id": "b020fbde",
   "metadata": {},
   "source": [
    "---"
   ]
  },
  {
   "cell_type": "markdown",
   "id": "f558e90d",
   "metadata": {},
   "source": [
    "* 출처: LangChain 공식 문서 또는 해당 교재명\n",
    "* 원본 URL: https://smith.langchain.com/hub/teddynote/summary-stuff-documents"
   ]
  },
  {
   "cell_type": "markdown",
   "id": "afcec000",
   "metadata": {},
   "source": [
    "---"
   ]
  },
  {
   "cell_type": "markdown",
   "id": "54adba9b",
   "metadata": {},
   "source": [
    "### **5. `대화내용을 기억하는 RAG 체인`**"
   ]
  },
  {
   "cell_type": "markdown",
   "id": "8c9805aa",
   "metadata": {},
   "source": [
    "---"
   ]
  },
  {
   "cell_type": "markdown",
   "metadata": {},
   "source": [
    "#### 1) **`이전 대화를 기억하는 Chain 생성 방법`**"
   ]
  },
  {
   "cell_type": "markdown",
   "id": "0ef0b14c",
   "metadata": {},
   "source": [
    "* 필요 사전 지식: [*`RunnableWithMessageHistory`*](https://wikidocs.net/235581)"
   ]
  },
  {
   "cell_type": "markdown",
   "id": "d4ac6db0",
   "metadata": {},
   "source": [
    "---"
   ]
  },
  {
   "cell_type": "markdown",
   "id": "f45499c4",
   "metadata": {},
   "source": [
    "* **`환경설정`**"
   ]
  },
  {
   "cell_type": "code",
   "execution_count": null,
   "id": "ee804bff",
   "metadata": {},
   "outputs": [],
   "source": [
    "# API 키를 환경변수로 관리하기 위한 설정 파일\n",
    "from dotenv import load_dotenv\n",
    "\n",
    "# API 키 정보 로드\n",
    "load_dotenv()                           # True"
   ]
  },
  {
   "cell_type": "code",
   "execution_count": null,
   "id": "aeb4b762",
   "metadata": {},
   "outputs": [],
   "source": [
    "from langsmith import Client\n",
    "from langsmith import traceable\n",
    "\n",
    "import os\n",
    "\n",
    "# LangSmith 환경 변수 확인\n",
    "\n",
    "print(\"\\n--- LangSmith 환경 변수 확인 ---\")\n",
    "langchain_tracing_v2 = os.getenv('LANGCHAIN_TRACING_V2')\n",
    "langchain_project = os.getenv('LANGCHAIN_PROJECT')\n",
    "langchain_api_key_status = \"설정됨\" if os.getenv('LANGCHAIN_API_KEY') else \"설정되지 않음\" # API 키 값은 직접 출력하지 않음\n",
    "\n",
    "if langchain_tracing_v2 == \"true\" and os.getenv('LANGCHAIN_API_KEY') and langchain_project:\n",
    "    print(f\"✅ LangSmith 추적 활성화됨 (LANGCHAIN_TRACING_V2='{langchain_tracing_v2}')\")\n",
    "    print(f\"✅ LangSmith 프로젝트: '{langchain_project}'\")\n",
    "    print(f\"✅ LangSmith API Key: {langchain_api_key_status}\")\n",
    "    print(\"  -> 이제 LangSmith 대시보드에서 이 프로젝트를 확인해 보세요.\")\n",
    "else:\n",
    "    print(\"❌ LangSmith 추적이 완전히 활성화되지 않았습니다. 다음을 확인하세요:\")\n",
    "    if langchain_tracing_v2 != \"true\":\n",
    "        print(f\"  - LANGCHAIN_TRACING_V2가 'true'로 설정되어 있지 않습니다 (현재: '{langchain_tracing_v2}').\")\n",
    "    if not os.getenv('LANGCHAIN_API_KEY'):\n",
    "        print(\"  - LANGCHAIN_API_KEY가 설정되어 있지 않습니다.\")\n",
    "    if not langchain_project:\n",
    "        print(\"  - LANGCHAIN_PROJECT가 설정되어 있지 않습니다.\")"
   ]
  },
  {
   "cell_type": "markdown",
   "id": "f3c3db85",
   "metadata": {},
   "source": [
    "<small>\n",
    "\n",
    "* 셀 출력\n",
    "\n",
    "    ```bash\n",
    "    --- LangSmith 환경 변수 확인 ---\n",
    "    ✅ LangSmith 추적 활성화됨 (LANGCHAIN_TRACING_V2='true')\n",
    "    ✅ LangSmith 프로젝트: 'LangChain-prantice'\n",
    "    ✅ LangSmith API Key: 설정됨\n",
    "    -> 이제 LangSmith 대시보드에서 이 프로젝트를 확인해 보세요.\n",
    "    ```"
   ]
  },
  {
   "cell_type": "markdown",
   "id": "0424b2e9",
   "metadata": {},
   "source": [
    "---"
   ]
  },
  {
   "cell_type": "markdown",
   "id": "978476f8",
   "metadata": {},
   "source": [
    "#### **2) `일반 Chain에 대화기록만 추가`**"
   ]
  },
  {
   "cell_type": "code",
   "execution_count": null,
   "id": "2d396afa",
   "metadata": {},
   "outputs": [],
   "source": [
    "from langchain_core.prompts import ChatPromptTemplate, MessagesPlaceholder\n",
    "from langchain_community.chat_message_histories import ChatMessageHistory\n",
    "from langchain_core.chat_history import BaseChatMessageHistory\n",
    "from langchain_core.runnables.history import RunnableWithMessageHistory\n",
    "from langchain_google_genai import ChatGoogleGenerativeAI\n",
    "from langchain_core.output_parsers import StrOutputParser\n",
    "\n",
    "from dotenv import load_dotenv\n",
    "import os\n",
    "\n",
    "load_dotenv()\n",
    "\n",
    "# 프롬프트 정의\n",
    "prompt = ChatPromptTemplate.from_messages(\n",
    "    [\n",
    "        (\n",
    "            \"system\",\n",
    "            \"당신은 Question-Answering 챗봇입니다. 주어진 질문에 대한 답변을 제공해주세요.\",\n",
    "        ),\n",
    "        # 대화기록용 key 인 chat_history 는 가급적 변경 없이 사용하세요!\n",
    "        MessagesPlaceholder(variable_name=\"chat_history\"),\n",
    "        (\"human\", \"#Question:\\n{question}\"),  # 사용자 입력을 변수로 사용\n",
    "    ]\n",
    ")\n",
    "\n",
    "# API 키 확인\n",
    "if not os.getenv(\"GOOGLE_API_KEY\"):    \n",
    "    os.environ[\"GOOGLE_API_KEY\"] = input(\"Enter your Google API key: \")\n",
    "    \n",
    "# LLM 초기화\n",
    "gemini_lc = ChatGoogleGenerativeAI(\n",
    "    model=\"gemini-2.5-flash-lite\",        \n",
    "    temperature=0,                                              # temperature = 0으로 설정          \n",
    "    max_output_tokens=4096,\n",
    ")\n",
    "\n",
    "# 일반 Chain 생성\n",
    "chain = prompt | gemini_lc | StrOutputParser()"
   ]
  },
  {
   "cell_type": "markdown",
   "id": "1943a063",
   "metadata": {},
   "source": [
    "<small>\n",
    "\n",
    "* 셀 출력\n",
    "\n",
    "    ```bash\n",
    "    E0000 00:00:1759821431.490766 2567372 alts_credentials.cc:93] ALTS creds ignored. Not running on GCP and untrusted ALTS is not enabled.\n",
    "    ```"
   ]
  },
  {
   "cell_type": "markdown",
   "id": "e1405283",
   "metadata": {},
   "source": [
    "* 대화를 기록하는 체인 생성 (**`chain_with_history`**)"
   ]
  },
  {
   "cell_type": "code",
   "execution_count": null,
   "id": "4dd966cf",
   "metadata": {},
   "outputs": [],
   "source": [
    "# 세션 기록을 저장할 딕셔너리\n",
    "store = {}\n",
    "\n",
    "\n",
    "# 세션 ID를 기반으로 세션 기록을 가져오는 함수\n",
    "def get_session_history(session_ids):\n",
    "    print(f\"[대화 세션ID]: {session_ids}\")\n",
    "    if session_ids not in store:                                # 세션 ID가 store에 없는 경우\n",
    "        # 새로운 ChatMessageHistory 객체를 생성하여 store에 저장\n",
    "        store[session_ids] = ChatMessageHistory()\n",
    "    return store[session_ids]                                   # 해당 세션 ID에 대한 세션 기록 반환\n",
    "\n",
    "\n",
    "chain_with_history = RunnableWithMessageHistory(\n",
    "    chain,\n",
    "    get_session_history,                                        # 세션 기록을 가져오는 함수\n",
    "    input_messages_key=\"question\",                              # 사용자의 질문이 템플릿 변수에 들어갈 key\n",
    "    history_messages_key=\"chat_history\",                        # 기록 메시지의 키\n",
    ")"
   ]
  },
  {
   "cell_type": "markdown",
   "id": "1413a0e0",
   "metadata": {},
   "source": [
    "* **`첫 번째 질문 실행`**"
   ]
  },
  {
   "cell_type": "code",
   "execution_count": null,
   "id": "2d36bb2a",
   "metadata": {},
   "outputs": [],
   "source": [
    "# query_1\n",
    "\n",
    "chain_with_history.invoke(\n",
    "    {\"question\": \"나의 이름은 앨리스입니다.\"},                          # 질문 입력\n",
    "    config={\"configurable\": {\"session_id\": \"abc123\"}},            # 세션 ID 기준으로 대화 기록\n",
    ")"
   ]
  },
  {
   "cell_type": "markdown",
   "id": "562b1a87",
   "metadata": {},
   "source": [
    "<small>\n",
    "\n",
    "* `query_1` (`1.4s`)\n",
    "\n",
    "    ```markdown\n",
    "\n",
    "    [대화 세션ID]: abc123\n",
    "\n",
    "    '#Answer:\\n안녕하세요, 앨리스님! 만나서 반갑습니다.'\n",
    "\n",
    "    ```"
   ]
  },
  {
   "cell_type": "markdown",
   "id": "4f3be1cc",
   "metadata": {},
   "source": [
    "* **`이어서 질문 실행`**"
   ]
  },
  {
   "cell_type": "code",
   "execution_count": null,
   "id": "0ca59375",
   "metadata": {},
   "outputs": [],
   "source": [
    "# query_2\n",
    "\n",
    "chain_with_history.invoke(\n",
    "    {\"question\": \"내 이름이 뭐라고?\"},                                  # 질문 입력\n",
    "    config={\"configurable\": {\"session_id\": \"abc123\"}},              # 세션 ID 기준으로 대화 기록\n",
    ")"
   ]
  },
  {
   "cell_type": "markdown",
   "id": "40c2c270",
   "metadata": {},
   "source": [
    "<small>\n",
    "\n",
    "* `query_2` (`0.8s`)\n",
    "\n",
    "    ```makrdown\n",
    "\n",
    "    [대화 세션ID]: abc123\n",
    "\n",
    "    '#Answer:\\n앨리스님이라고 하셨습니다.'\n",
    "\n",
    "    ```"
   ]
  },
  {
   "cell_type": "markdown",
   "id": "f799b872",
   "metadata": {},
   "source": [
    "---"
   ]
  },
  {
   "cell_type": "markdown",
   "id": "76e5894e",
   "metadata": {},
   "source": [
    "#### **2) `RAG` + `RunnableWithMessageHistory`**"
   ]
  },
  {
   "cell_type": "markdown",
   "id": "7a17c1c7",
   "metadata": {},
   "source": [
    "* 일반 `RAG Chain` 생성하기\n",
    "\n",
    "  * 단, 6단계에 `prompt`에 `{chat_history}`를 꼭 추가"
   ]
  },
  {
   "cell_type": "code",
   "execution_count": null,
   "id": "e5ac3e15",
   "metadata": {},
   "outputs": [],
   "source": [
    "from langchain_text_splitters import RecursiveCharacterTextSplitter\n",
    "from langchain_community.document_loaders import PDFPlumberLoader\n",
    "from langchain_community.vectorstores import FAISS\n",
    "from langchain_core.output_parsers import StrOutputParser\n",
    "from langchain_core.prompts import PromptTemplate\n",
    "from langchain_community.chat_message_histories import ChatMessageHistory\n",
    "from langchain_core.runnables.history import RunnableWithMessageHistory\n",
    "from langchain_core.output_parsers import StrOutputParser\n",
    "from operator import itemgetter\n",
    "from langchain_huggingface import HuggingFaceEmbeddings\n",
    "import warnings\n",
    "from langchain_google_genai import ChatGoogleGenerativeAI\n",
    "from dotenv import load_dotenv\n",
    "import os"
   ]
  },
  {
   "cell_type": "code",
   "execution_count": null,
   "id": "68f28172",
   "metadata": {},
   "outputs": [],
   "source": [
    "# 단계 1: 문서 로드(Load Documents)\n",
    "loader = PDFPlumberLoader(\"../12_RAG/data/SPRI_AI_Brief_2023년12월호_F.pdf\")\n",
    "docs = loader.load()"
   ]
  },
  {
   "cell_type": "code",
   "execution_count": null,
   "id": "6a039a7c",
   "metadata": {},
   "outputs": [],
   "source": [
    "# 단계 2: 문서 분할(Split Documents)\n",
    "text_splitter = RecursiveCharacterTextSplitter(chunk_size=1000, chunk_overlap=50)\n",
    "split_documents = text_splitter.split_documents(docs)"
   ]
  },
  {
   "cell_type": "code",
   "execution_count": null,
   "id": "5b3a056d",
   "metadata": {},
   "outputs": [],
   "source": [
    "# 단계 3: 임베딩(Embedding) 생성\n",
    "\n",
    "from langchain_huggingface import HuggingFaceEmbeddings\n",
    "import warnings                                                     # 경고 무시\n",
    "\n",
    "warnings.filterwarnings(\"ignore\")                                   # HuggingFace Embeddings 사용\n",
    "\n",
    "embeddings = HuggingFaceEmbeddings(\n",
    "    model_name=\"sentence-transformers/all-MiniLM-L6-v2\",    \n",
    "    model_kwargs={'device': 'cpu'},    \\\n",
    "    encode_kwargs={'normalize_embeddings': True})\n",
    "\n",
    "print(\"✅ hugging-face 임베딩 모델 로딩 완료!\")"
   ]
  },
  {
   "cell_type": "markdown",
   "id": "bb55b632",
   "metadata": {},
   "source": [
    "<small>\n",
    "\n",
    "* ✅ hugging-face 임베딩 모델 로딩 완료!  (`11.0s`)"
   ]
  },
  {
   "cell_type": "code",
   "execution_count": null,
   "id": "0d6c9905",
   "metadata": {},
   "outputs": [],
   "source": [
    "# 단계 4: DB 생성(Create DB) 및 저장\n",
    "# 벡터스토어 생성하기\n",
    "\n",
    "vectorstore = FAISS.from_documents(\n",
    "    documents=split_documents, \n",
    "    embedding=embeddings\n",
    "    )\n",
    "\n",
    "print(\"✅ 벡터스토어 생성 완료!\")"
   ]
  },
  {
   "cell_type": "markdown",
   "id": "5c052954",
   "metadata": {},
   "source": [
    "<small>\n",
    "\n",
    "* ✅ 벡터스토어 생성 완료!  (`2.5s`)"
   ]
  },
  {
   "cell_type": "code",
   "execution_count": null,
   "id": "0845ddb7",
   "metadata": {},
   "outputs": [],
   "source": [
    "# 단계 5: 검색기(Retriever) 생성\n",
    "# 문서에 포함되어 있는 정보를 검색하고 생성하기\n",
    "retriever = vectorstore.as_retriever()"
   ]
  },
  {
   "cell_type": "code",
   "execution_count": null,
   "id": "ac7f59ab",
   "metadata": {},
   "outputs": [],
   "source": [
    "# 단계 6: 프롬프트 생성(Create Prompt)\n",
    "# 프롬프트 생성하기\n",
    "\n",
    "prompt = PromptTemplate.from_template(\n",
    "    \"\"\"You are an assistant for question-answering tasks. \n",
    "Use the following pieces of retrieved context to answer the question. \n",
    "If you don't know the answer, just say that you don't know. \n",
    "Answer in Korean.\n",
    "\n",
    "#Previous Chat History:\n",
    "{chat_history}\n",
    "\n",
    "#Question: \n",
    "{question} \n",
    "\n",
    "#Context: \n",
    "{context} \n",
    "\n",
    "#Answer:\"\"\"\n",
    ")"
   ]
  },
  {
   "cell_type": "code",
   "execution_count": null,
   "id": "5ee95fb5",
   "metadata": {},
   "outputs": [],
   "source": [
    "print(type(prompt))\n",
    "print(prompt.template)"
   ]
  },
  {
   "cell_type": "markdown",
   "id": "a3bf503f",
   "metadata": {},
   "source": [
    "<small>\n",
    "\n",
    "* 셀 출력 \n",
    "\n",
    "    ```python\n",
    "\n",
    "    <class 'langchain_core.prompts.prompt.PromptTemplate'>\n",
    "\n",
    "    ```\n",
    "\n",
    "\n",
    "    ```markdown\n",
    "\n",
    "    You are an assistant for question-answering tasks. \n",
    "    Use the following pieces of retrieved context to answer the question. \n",
    "    If you don't know the answer, just say that you don't know. \n",
    "    Answer in Korean.\n",
    "\n",
    "    #Previous Chat History:\n",
    "    {chat_history}\n",
    "\n",
    "    #Question: \n",
    "    {question} \n",
    "\n",
    "    #Context: \n",
    "    {context} \n",
    "\n",
    "    #Answer:\n",
    "\n",
    "    ```"
   ]
  },
  {
   "cell_type": "code",
   "execution_count": null,
   "id": "e5f5581b",
   "metadata": {},
   "outputs": [],
   "source": [
    "# 단계 7: 언어모델(LLM) 생성\n",
    "# 모델(LLM) 생성하기\n",
    "\n",
    "# LLM 초기화\n",
    "gemini_lc = ChatGoogleGenerativeAI(\n",
    "    model=\"gemini-2.5-flash-lite\",        \n",
    "    temperature=0,                                              # temperature = 0으로 설정          \n",
    "    max_output_tokens=4096,\n",
    ")"
   ]
  },
  {
   "cell_type": "markdown",
   "id": "f3b20020",
   "metadata": {},
   "source": [
    "<small>\n",
    "\n",
    "* 셀 출력\n",
    "\n",
    "    ```bash\n",
    "    E0000 00:00:1759822385.103469 2567372 alts_credentials.cc:93] ALTS creds ignored. Not running on GCP and untrusted ALTS is not enabled.\n",
    "    ```"
   ]
  },
  {
   "cell_type": "code",
   "execution_count": null,
   "id": "46400e6b",
   "metadata": {},
   "outputs": [],
   "source": [
    "# 단계 8: 체인(Chain) 생성\n",
    "\n",
    "chain = (\n",
    "    {\n",
    "        \"context\": itemgetter(\"question\") | retriever,\n",
    "        \"question\": itemgetter(\"question\"),\n",
    "        \"chat_history\": itemgetter(\"chat_history\"),\n",
    "    }\n",
    "    | prompt\n",
    "    | gemini_lc\n",
    "    | StrOutputParser()\n",
    ")"
   ]
  },
  {
   "cell_type": "markdown",
   "id": "23dfdd96",
   "metadata": {},
   "source": [
    "* **`대화를 저장할 수 있는 함수 정의하기`**"
   ]
  },
  {
   "cell_type": "code",
   "execution_count": null,
   "id": "149abce1",
   "metadata": {},
   "outputs": [],
   "source": [
    "# 세션 기록을 저장할 딕셔너리\n",
    "store = {}\n",
    "\n",
    "\n",
    "# 세션 ID를 기반으로 세션 기록을 가져오는 함수\n",
    "def get_session_history(session_ids):\n",
    "    print(f\"[대화 세션ID]: {session_ids}\")\n",
    "    if session_ids not in store:                             # 세션 ID가 store에 없는 경우\n",
    "        store[session_ids] = ChatMessageHistory()            # 새로운 ChatMessageHistory 객체를 생성하여 store에 저장\n",
    "    return store[session_ids]                                # 해당 세션 ID에 대한 세션 기록 반환\n",
    "\n",
    "\n",
    "# 대화를 기록하는 RAG 체인 생성\n",
    "rag_with_history = RunnableWithMessageHistory(\n",
    "    chain,\n",
    "    get_session_history,                                    # 세션 기록을 가져오는 함수\n",
    "    input_messages_key=\"question\",                          # 사용자의 질문이 템플릿 변수에 들어갈 key\n",
    "    history_messages_key=\"chat_history\",                    # 기록 메시지의 키\n",
    ")"
   ]
  },
  {
   "cell_type": "markdown",
   "id": "73496b1d",
   "metadata": {},
   "source": [
    "* **`첫 번째 질문 실행`**"
   ]
  },
  {
   "cell_type": "code",
   "execution_count": null,
   "id": "10c3399b",
   "metadata": {},
   "outputs": [],
   "source": [
    "# query_1\n",
    "\n",
    "rag_with_history.invoke(\n",
    "    # 질문 입력\n",
    "    {\"question\": \"삼성전자가 만든 생성형 AI 이름은?\"},\n",
    "    # 세션 ID 기준으로 대화를 기록합니다.\n",
    "    config={\"configurable\": {\"session_id\": \"rag123\"}},\n",
    ")"
   ]
  },
  {
   "cell_type": "markdown",
   "id": "0ef6fc62",
   "metadata": {},
   "source": [
    "<small>\n",
    "\n",
    "* `query_1`  (`1.4s`)\n",
    "\n",
    "    ```markdown\n",
    "\n",
    "    [대화 세션ID]: rag123\n",
    "\n",
    "    \"삼성전자가 만든 생성형 AI 이름은 '삼성 가우스'입니다.\"\n",
    "\n",
    "    ```"
   ]
  },
  {
   "cell_type": "markdown",
   "id": "1e4af005",
   "metadata": {},
   "source": [
    "* **`이어진 질문 실행`**"
   ]
  },
  {
   "cell_type": "code",
   "execution_count": null,
   "id": "19701f6a",
   "metadata": {},
   "outputs": [],
   "source": [
    "# query_2\n",
    "\n",
    "rag_with_history.invoke(\n",
    "    # 질문 입력\n",
    "    {\"question\": \"이전 답변을 영어로 번역해주세요.\"},\n",
    "    # 세션 ID 기준으로 대화를 기록합니다.\n",
    "    config={\"configurable\": {\"session_id\": \"rag123\"}},\n",
    ")"
   ]
  },
  {
   "cell_type": "markdown",
   "id": "5ffcab8f",
   "metadata": {},
   "source": [
    "<small>\n",
    "\n",
    "* `query_2`  (`1.1s`)\n",
    "\n",
    "    ```markdown\n",
    "\n",
    "    [대화 세션ID]: rag123\n",
    "\n",
    "    \"The generative AI created by Samsung Electronics is named 'Samsung Gauss'.\"\n",
    "\n",
    "    ```"
   ]
  },
  {
   "cell_type": "markdown",
   "id": "01fe518e",
   "metadata": {},
   "source": [
    "---"
   ]
  },
  {
   "cell_type": "markdown",
   "id": "8afc31eb",
   "metadata": {},
   "source": [
    "* next: ***`CH13 LangChain Expression Language (LCEL)`***"
   ]
  },
  {
   "cell_type": "markdown",
   "id": "eb457d86",
   "metadata": {},
   "source": [
    "---"
   ]
  }
 ],
 "metadata": {
  "kernelspec": {
   "display_name": "lc_env",
   "language": "python",
   "name": "python3"
  },
  "language_info": {
   "codemirror_mode": {
    "name": "ipython",
    "version": 3
   },
   "file_extension": ".py",
   "mimetype": "text/x-python",
   "name": "python",
   "nbconvert_exporter": "python",
   "pygments_lexer": "ipython3",
   "version": "3.13.5"
  }
 },
 "nbformat": 4,
 "nbformat_minor": 5
}
