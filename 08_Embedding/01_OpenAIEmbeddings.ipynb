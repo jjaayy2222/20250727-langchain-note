{
 "cells": [
  {
   "cell_type": "markdown",
   "id": "cf989cca",
   "metadata": {},
   "source": [
    "---"
   ]
  },
  {
   "cell_type": "markdown",
   "id": "f5587735",
   "metadata": {},
   "source": [
    "* 출처: LangChain 공식 문서 또는 해당 교재명\n",
    "* 원본 URL: https://smith.langchain.com/hub/teddynote/summary-stuff-documents"
   ]
  },
  {
   "cell_type": "markdown",
   "id": "48fe9ecc",
   "metadata": {},
   "source": [
    "---"
   ]
  },
  {
   "cell_type": "markdown",
   "id": "827aa7b4",
   "metadata": {},
   "source": [
    "## **`CH08 임베딩(Embedding)`**"
   ]
  },
  {
   "cell_type": "markdown",
   "id": "f6d118df",
   "metadata": {},
   "source": [
    "* 임베딩 = **`RAG`(`Retrieval-Augmented Generation`) 시스템의 세 번째 단계**\\\n",
    "\n",
    "  * `문서분할` 단계에서 `생성된 문서` 단위들을 **`기계가 이해할 수 있는 수치적 형태로 변환`하는 과정**\n",
    "\n",
    "  * `RAG` 시스템의 핵심적인 부분 중 하나: `문서의 의미`를 `벡터`(`숫자의 배열`) 형태로 `표현` → `사용자`가 입력한 `질문`(`Query`) 에 대하여 `DB`에 저장한 `문서 조각`/`단락`(`Chunk`)을 `검색`하여 가져올 때 **`유사도 계산`시 활용 가능**"
   ]
  },
  {
   "cell_type": "markdown",
   "id": "99f40ca9",
   "metadata": {},
   "source": [
    "* 임베딩의 **`필요성`**\n",
    "\n",
    "  * **`의미 이해`**: `자연 언어`(매우 복잡, 다양한 의미 내포) → `정량화된 형태로 변화` → `컴퓨터가 문서의 내용, 의미 더 잘 이해하고 처리 가능`\n",
    "\n",
    "  * **`정보 검색 향상`**\n",
    "\n",
    "    * **`수치화된 벡터 형태로의 변환` = `문서 간 유사성 계산`의 필수**\n",
    "\n",
    "    * 관련된 문서 검색 or 질문에 가장 적합한 문서 찾는 작업 용이"
   ]
  },
  {
   "cell_type": "markdown",
   "id": "f5ff7281",
   "metadata": {},
   "source": [
    "* 예시: **`임베딩` = 문장을 수치 표현으로 변경?**\n",
    "\n",
    "  ![임베딩 표현](../08_Embedding/images/embedding_1.png)"
   ]
  },
  {
   "cell_type": "markdown",
   "id": "002fc4ce",
   "metadata": {},
   "source": [
    "  * 임베딩된 단락 활용 예시\n",
    "\n",
    "    ![임베딩된 단락 활용 예시](../08_Embedding/images/embedding_2.png)\n",
    "\n",
    "    * 1번 단락: [0.1, 0.5, 0.9, ... , 0.1, 0.2]\n",
    "    * 2번 단락: [0.7, 0.1, 0.3, ... , 0.5, 0.6]\n",
    "    * 3번 단락: [0.9, 0.4, 0.5, ... , 0.4, 0.3]\n",
    "\n",
    "  * 질문: **`시장조사기관 IDC가 예측한 AI 소프트웨어 시장의 연평균 성장률은 어떻게 되나요?`**\n",
    "    * [0.1, 0.5, 0.9, ..., 0.2, 0.4]\n",
    "\n",
    "  * *유사도 계산 예시*\n",
    "    * 1번: **`80%` → ✓ 선택**\n",
    "    * 2번: `30%`\n",
    "    * 3번: `25%`"
   ]
  },
  {
   "cell_type": "markdown",
   "id": "507003e2",
   "metadata": {},
   "source": [
    "### **`코드`**"
   ]
  },
  {
   "cell_type": "markdown",
   "id": "5aaf2d75",
   "metadata": {},
   "source": [
    "* 코드 예시\n",
    "\n",
    "```python\n",
    "\n",
    "        from langchain_openai import OpenAIEmbeddings\n",
    "\n",
    "        # 단계 3: 임베딩(Embedding) 생성\n",
    "        embeddings = OpenAIEmbeddings()\n",
    "\n",
    "```"
   ]
  },
  {
   "cell_type": "markdown",
   "id": "00db166b",
   "metadata": {},
   "source": [
    "### **`참고`**"
   ]
  },
  {
   "cell_type": "markdown",
   "id": "3faed0fd",
   "metadata": {},
   "source": [
    "* *[**`Embedding`**](https://wikidocs.net/233815)*\n",
    "\n",
    "* *[**`LangChain Text Embeddings`**](https://python.langchain.com/v0.1/docs/modules/data_connection/text_embedding/)*"
   ]
  },
  {
   "cell_type": "markdown",
   "id": "5eaf4fcb",
   "metadata": {},
   "source": [
    "---"
   ]
  },
  {
   "cell_type": "markdown",
   "id": "2e46434a",
   "metadata": {},
   "source": [
    "### **1. `OpenAIEmbeddings`**"
   ]
  },
  {
   "cell_type": "markdown",
   "id": "d2724843",
   "metadata": {},
   "source": [
    "* `문서 임베딩` = 문서의 내용을 수치적인 벡터로 변환하는 과정입\n",
    "\n",
    "  * `문서의 의미`를 `수치화`하고, `다양한 자연어 처리 작업`에 `활용` 가능\n",
    "\n",
    "  * 대표적인 사전 학습된 언어 모델: **`BERT`**, **`GPT`** → `문맥적 정보`를 `포착`하여 문서의 `의미`를 `인코딩` "
   ]
  },
  {
   "cell_type": "markdown",
   "id": "5985ef3c",
   "metadata": {},
   "source": [
    "* 문서 임베딩 과정\n",
    "\n",
    "  * **`토큰화된 문서` → `모델`에 `입력` → `임베딩 벡터 생성` → 이를 `평균` → `전체 문서`의 `벡터 생성`**\n",
    "\n",
    "  * 문서 분류, 감성 분석, 문서 간 유사도 계산 등에 활용\n",
    "\n",
    "* [더 알아보기](https://platform.openai.com/docs/guides/embeddings/embedding-models)"
   ]
  },
  {
   "cell_type": "markdown",
   "id": "57d5a301",
   "metadata": {},
   "source": [
    "---"
   ]
  },
  {
   "cell_type": "markdown",
   "id": "d8748488",
   "metadata": {},
   "source": [
    "#### **1) `설정`**"
   ]
  },
  {
   "cell_type": "markdown",
   "id": "642a1105",
   "metadata": {},
   "source": [
    "* **먼저 `langchain-openai` 설치 → `필요한 환경 변수`를 `설정`**"
   ]
  },
  {
   "cell_type": "code",
   "execution_count": null,
   "id": "36b37773",
   "metadata": {},
   "outputs": [],
   "source": [
    "# API 키를 환경변수로 관리하기 위한 설정 파일\n",
    "from dotenv import load_dotenv\n",
    "\n",
    "# API 키 정보 로드\n",
    "load_dotenv()                               # True"
   ]
  },
  {
   "cell_type": "code",
   "execution_count": null,
   "id": "22b64773",
   "metadata": {},
   "outputs": [],
   "source": [
    "from langsmith import Client\n",
    "from langsmith import traceable         # @traceable 데코레이터 사용 시\n",
    "\n",
    "import os\n",
    "\n",
    "# LangSmith 환경 변수 확인\n",
    "\n",
    "print(\"\\n--- LangSmith 환경 변수 확인 ---\")\n",
    "langchain_tracing_v2 = os.getenv('LANGCHAIN_TRACING_V2')\n",
    "langchain_project = os.getenv('LANGCHAIN_PROJECT')\n",
    "langchain_api_key_status = \"설정됨\" if os.getenv('LANGCHAIN_API_KEY') else \"설정되지 않음\" # API 키 값은 직접 출력하지 않음\n",
    "\n",
    "if langchain_tracing_v2 == \"true\" and os.getenv('LANGCHAIN_API_KEY') and langchain_project:\n",
    "    print(f\"✅ LangSmith 추적 활성화됨 (LANGCHAIN_TRACING_V2='{langchain_tracing_v2}')\")\n",
    "    print(f\"✅ LangSmith 프로젝트: '{langchain_project}'\")\n",
    "    print(f\"✅ LangSmith API Key: {langchain_api_key_status}\")\n",
    "    print(\"  -> 이제 LangSmith 대시보드에서 이 프로젝트를 확인해 보세요.\")\n",
    "else:\n",
    "    print(\"❌ LangSmith 추적이 완전히 활성화되지 않았습니다. 다음을 확인하세요:\")\n",
    "    if langchain_tracing_v2 != \"true\":\n",
    "        print(f\"  - LANGCHAIN_TRACING_V2가 'true'로 설정되어 있지 않습니다 (현재: '{langchain_tracing_v2}').\")\n",
    "    if not os.getenv('LANGCHAIN_API_KEY'):\n",
    "        print(\"  - LANGCHAIN_API_KEY가 설정되어 있지 않습니다.\")\n",
    "    if not langchain_project:\n",
    "        print(\"  - LANGCHAIN_PROJECT가 설정되어 있지 않습니다.\")"
   ]
  },
  {
   "cell_type": "markdown",
   "id": "4ecadfe5",
   "metadata": {},
   "source": [
    "<small>\n",
    "\n",
    "* 셀 출력\n",
    "\n",
    "    ```markdown\n",
    "    --- LangSmith 환경 변수 확인 ---\n",
    "    ✅ LangSmith 추적 활성화됨 (LANGCHAIN_TRACING_V2='true')\n",
    "    ✅ LangSmith 프로젝트: 'LangChain-prantice'\n",
    "    ✅ LangSmith API Key: 설정됨\n",
    "    -> 이제 LangSmith 대시보드에서 이 프로젝트를 확인해 보세요.\n",
    "    ```"
   ]
  },
  {
   "cell_type": "markdown",
   "id": "483ab565",
   "metadata": {},
   "source": [
    "* 지원되는 모델 목록\n",
    "\n",
    "  ![지원되는 모델 목록](../08_Embedding/images/embedding_3.png)"
   ]
  },
  {
   "cell_type": "code",
   "execution_count": 4,
   "id": "23453c6a",
   "metadata": {},
   "outputs": [],
   "source": [
    "from langchain_openai import OpenAIEmbeddings\n",
    "\n",
    "# OpenAI의 \"text-embedding-3-small\" 모델 → 임베딩 생성하기\n",
    "embeddings = OpenAIEmbeddings(model=\"text-embedding-3-small\")"
   ]
  },
  {
   "cell_type": "code",
   "execution_count": 5,
   "id": "00541ca6",
   "metadata": {},
   "outputs": [],
   "source": [
    "text = \"임베딩 테스트를 하기 위한 샘플 문장입니다.\""
   ]
  },
  {
   "cell_type": "markdown",
   "id": "758fbebb",
   "metadata": {},
   "source": [
    "#### **2) `쿼리 임베딩`**"
   ]
  },
  {
   "cell_type": "markdown",
   "id": "08285a94",
   "metadata": {},
   "source": [
    "* **`embeddings.embed_query(text)` = 주어진 텍스트를 `임베딩 벡터`로 `변환`하는 함수**\n",
    "\n",
    "  * `텍스트`를 `벡터 공간`에 `매핑`하여 `의미적`으로 `유사한 텍스트`를 찾거나 `텍스트 간의 유사도`를 `계산`하는 데 사용"
   ]
  },
  {
   "cell_type": "code",
   "execution_count": null,
   "id": "973c5ca7",
   "metadata": {},
   "outputs": [],
   "source": [
    "# 텍스트 임베딩해 쿼리 결과 생성하기\n",
    "\n",
    "query_result = embeddings.embed_query(text)"
   ]
  },
  {
   "cell_type": "markdown",
   "id": "a9c80557",
   "metadata": {},
   "source": [
    "* **`query_result[:5]` = `query_result` 리스트의 처음 5개 요소를 슬라이싱(slicing)하여 선택**"
   ]
  },
  {
   "cell_type": "code",
   "execution_count": null,
   "id": "3af37ee3",
   "metadata": {},
   "outputs": [],
   "source": [
    "# 쿼리 결과 처음 5개 항목 선택하기\n",
    "\n",
    "query_result[:5]"
   ]
  },
  {
   "cell_type": "markdown",
   "id": "fa497b6c",
   "metadata": {},
   "source": [
    "<small>\n",
    "\n",
    "* 셀 출력\n",
    "\n",
    "    ```python\n",
    "    [-0.007747666910290718, 0.03676600381731987, 0.019548965618014336, -0.0197015218436718, 0.017206139862537384]\n",
    "    ```"
   ]
  },
  {
   "cell_type": "markdown",
   "id": "f93f8fbc",
   "metadata": {},
   "source": [
    "#### **3) `Document 임베딩`**"
   ]
  },
  {
   "cell_type": "markdown",
   "id": "766fcf40",
   "metadata": {},
   "source": [
    "* **`embeddings.embed_documents()` 함수 사용 → 텍스트 문서를 임베딩**\n",
    "\n",
    "  * `[text]`를 인자로 전달 → **`단일 문서`를 `리스트` 형태로 `임베딩 함수`에 전달**\n",
    "  * 함수 호출 `결과`로 **`반환된 임베딩 벡터` = `doc_result` 변수에 할당**\n"
   ]
  },
  {
   "cell_type": "code",
   "execution_count": null,
   "id": "e3f5d387",
   "metadata": {},
   "outputs": [],
   "source": [
    "doc_result = embeddings.embed_documents(\n",
    "    [text, text, text, text]                            # 텍스트를 임베딩하여 문서 벡터를 생성하기\n",
    ")"
   ]
  },
  {
   "cell_type": "markdown",
   "id": "aafdee91",
   "metadata": {},
   "source": [
    "* **`doc_result[0][:5]` = `doc_result` 리스트의 첫 번째 요소에서 처음 5개의 문자를 슬라이싱하여 선택**"
   ]
  },
  {
   "cell_type": "code",
   "execution_count": null,
   "id": "6c13b154",
   "metadata": {},
   "outputs": [],
   "source": [
    "# 문서 벡터의 길이 확인하기\n",
    "\n",
    "len(doc_result)"
   ]
  },
  {
   "cell_type": "code",
   "execution_count": null,
   "id": "d7565438",
   "metadata": {},
   "outputs": [],
   "source": [
    "# 문서 결과의 첫 번째 요소에서 처음 5개 항목 선택하기\n",
    "\n",
    "doc_result[0][:5]"
   ]
  },
  {
   "cell_type": "markdown",
   "id": "4a245a14",
   "metadata": {},
   "source": [
    "<small>\n",
    "\n",
    "* 셀 출력\n",
    "\n",
    "    ```python\n",
    "            [-0.007747666910290718, 0.03676600381731987, 0.019548965618014336, -0.0197015218436718, 0.017206139862537384]\n",
    "    ```"
   ]
  },
  {
   "cell_type": "markdown",
   "id": "d79f47ff",
   "metadata": {},
   "source": [
    "#### **4) `차원 지정`**"
   ]
  },
  {
   "cell_type": "markdown",
   "id": "6797b48b",
   "metadata": {},
   "source": [
    "* **`text-embedding-3` 모델 클래스를 사용 시 → 반환되는 임베딩의 크기 지정 가능**\n",
    "\n",
    "* 기본적으로 **`text-embedding-3-small` = `1536 차원`의 임베딩 반환**"
   ]
  },
  {
   "cell_type": "code",
   "execution_count": null,
   "id": "bb82bb0f",
   "metadata": {},
   "outputs": [],
   "source": [
    "# 문서 결과의 첫 번째 요소의 길이 반환하기\n",
    "\n",
    "len(doc_result[0])                                  # 1536"
   ]
  },
  {
   "cell_type": "markdown",
   "id": "4d60da32",
   "metadata": {},
   "source": [
    "#### **5) `차원(dimensions) 조정`**"
   ]
  },
  {
   "cell_type": "markdown",
   "id": "1f1ab358",
   "metadata": {},
   "source": [
    "* **`dimensions=1024` 전달 → 임베딩의 크기 = `1024`로 줄일 수 있음**"
   ]
  },
  {
   "cell_type": "code",
   "execution_count": 12,
   "id": "fdfa8cb2",
   "metadata": {},
   "outputs": [],
   "source": [
    "# OpenAI의 \"text-embedding-3-small\" 모델 사용 → 1024차원의 임베딩을 생성하는 객체 초기화하기\n",
    "\n",
    "embeddings_1024 = OpenAIEmbeddings(\n",
    "    model=\"text-embedding-3-small\", \n",
    "    dimensions=1024)                        # 차원 조정 (임베딩 크기를 1024로 설정)"
   ]
  },
  {
   "cell_type": "code",
   "execution_count": null,
   "id": "e3fbcdaa",
   "metadata": {},
   "outputs": [],
   "source": [
    "# 주어진 텍스트를 임베딩하고 첫 번째 임베딩 벡터의 길이 반환하기\n",
    "\n",
    "len(embeddings_1024.embed_documents([text])[0])             # 1024"
   ]
  },
  {
   "cell_type": "markdown",
   "id": "66a8ca34",
   "metadata": {},
   "source": [
    "#### **6) `유사도 계산`**"
   ]
  },
  {
   "cell_type": "code",
   "execution_count": 14,
   "id": "dddbb423",
   "metadata": {},
   "outputs": [],
   "source": [
    "sentence1 = \"안녕하세요? 반갑습니다.\"\n",
    "sentence2 = \"안녕하세요? 반갑습니다!\"\n",
    "sentence3 = \"안녕하세요? 만나서 반가워요.\"\n",
    "sentence4 = \"Hi, nice to meet you.\"\n",
    "sentence5 = \"I like to eat apples.\""
   ]
  },
  {
   "cell_type": "code",
   "execution_count": null,
   "id": "8662aafb",
   "metadata": {},
   "outputs": [],
   "source": [
    "from sklearn.metrics.pairwise import cosine_similarity\n",
    "\n",
    "sentences = [sentence1, sentence2, sentence3, sentence4, sentence5]\n",
    "\n",
    "embedded_sentences = embeddings_1024.embed_documents(sentences)"
   ]
  },
  {
   "cell_type": "code",
   "execution_count": 16,
   "id": "5d9e24a4",
   "metadata": {},
   "outputs": [],
   "source": [
    "def similarity(a, b):\n",
    "    return cosine_similarity([a], [b])[0][0]"
   ]
  },
  {
   "cell_type": "code",
   "execution_count": null,
   "id": "58fbf371",
   "metadata": {},
   "outputs": [],
   "source": [
    "# sentence1 = \"안녕하세요? 반갑습니다.\"\n",
    "# sentence2 = \"안녕하세요? 만나서 반가워요.\"\n",
    "# sentence3 = \"Hi, nice to meet you.\"\n",
    "# sentence4 = \"I like to eat apples.\"\n",
    "\n",
    "for i, sentence in enumerate(embedded_sentences):\n",
    "    for j, other_sentence in enumerate(embedded_sentences):\n",
    "        if i < j:\n",
    "            print(\n",
    "                f\"[유사도 {similarity(sentence, other_sentence):.4f}] {sentences[i]} \\t <=====> \\t {sentences[j]}\"\n",
    "            )"
   ]
  },
  {
   "cell_type": "markdown",
   "id": "a3738c5c",
   "metadata": {},
   "source": [
    "<small>\n",
    "\n",
    "* 셀 출력\n",
    "\n",
    "    ```markdown\n",
    "    [유사도 0.9644] 안녕하세요? 반갑습니다.   <=====>     안녕하세요? 반갑습니다!\n",
    "    [유사도 0.8375] 안녕하세요? 반갑습니다.   <=====>     안녕하세요? 만나서 반가워요.\n",
    "    [유사도 0.5043] 안녕하세요? 반갑습니다.   <=====>     Hi, nice to meet you.\n",
    "    [유사도 0.1362] 안녕하세요? 반갑습니다.   <=====>     I like to eat apples.\n",
    "    [유사도 0.8142] 안녕하세요? 반갑습니다!   <=====>     안녕하세요? 만나서 반가워요.\n",
    "    [유사도 0.4792] 안녕하세요? 반갑습니다!   <=====>     Hi, nice to meet you.\n",
    "    [유사도 0.1318] 안녕하세요? 반갑습니다!   <=====>     I like to eat apples.\n",
    "    [유사도 0.5128] 안녕하세요? 만나서 반가워요.    <=====>     Hi, nice to meet you.\n",
    "    [유사도 0.1409] 안녕하세요? 만나서 반가워요.    <=====>     I like to eat apples.\n",
    "    [유사도 0.2250] Hi, nice to meet you.   <=====>     I like to eat apples.\n",
    "    ```"
   ]
  },
  {
   "cell_type": "markdown",
   "id": "9b72c37c",
   "metadata": {},
   "source": [
    "---"
   ]
  },
  {
   "cell_type": "markdown",
   "id": "ac6704e2",
   "metadata": {},
   "source": [
    "### **2. `gemini-embedding`**"
   ]
  },
  {
   "cell_type": "code",
   "execution_count": null,
   "id": "cad8ef5c",
   "metadata": {},
   "outputs": [],
   "source": [
    "# API 키를 환경변수로 관리하기 위한 설정 파일\n",
    "from dotenv import load_dotenv\n",
    "\n",
    "# API 키 정보 로드\n",
    "load_dotenv()                               # True"
   ]
  },
  {
   "cell_type": "code",
   "execution_count": null,
   "id": "07ec1935",
   "metadata": {},
   "outputs": [],
   "source": [
    "from langsmith import Client\n",
    "from langsmith import traceable         # @traceable 데코레이터 사용 시\n",
    "\n",
    "import os\n",
    "\n",
    "# LangSmith 환경 변수 확인\n",
    "\n",
    "print(\"\\n--- LangSmith 환경 변수 확인 ---\")\n",
    "langchain_tracing_v2 = os.getenv('LANGCHAIN_TRACING_V2')\n",
    "langchain_project = os.getenv('LANGCHAIN_PROJECT')\n",
    "langchain_api_key_status = \"설정됨\" if os.getenv('LANGCHAIN_API_KEY') else \"설정되지 않음\" # API 키 값은 직접 출력하지 않음\n",
    "\n",
    "if langchain_tracing_v2 == \"true\" and os.getenv('LANGCHAIN_API_KEY') and langchain_project:\n",
    "    print(f\"✅ LangSmith 추적 활성화됨 (LANGCHAIN_TRACING_V2='{langchain_tracing_v2}')\")\n",
    "    print(f\"✅ LangSmith 프로젝트: '{langchain_project}'\")\n",
    "    print(f\"✅ LangSmith API Key: {langchain_api_key_status}\")\n",
    "    print(\"  -> 이제 LangSmith 대시보드에서 이 프로젝트를 확인해 보세요.\")\n",
    "else:\n",
    "    print(\"❌ LangSmith 추적이 완전히 활성화되지 않았습니다. 다음을 확인하세요:\")\n",
    "    if langchain_tracing_v2 != \"true\":\n",
    "        print(f\"  - LANGCHAIN_TRACING_V2가 'true'로 설정되어 있지 않습니다 (현재: '{langchain_tracing_v2}').\")\n",
    "    if not os.getenv('LANGCHAIN_API_KEY'):\n",
    "        print(\"  - LANGCHAIN_API_KEY가 설정되어 있지 않습니다.\")\n",
    "    if not langchain_project:\n",
    "        print(\"  - LANGCHAIN_PROJECT가 설정되어 있지 않습니다.\")"
   ]
  },
  {
   "cell_type": "markdown",
   "id": "3670ac59",
   "metadata": {},
   "source": [
    "<small>\n",
    "\n",
    "* 셀 출력\n",
    "\n",
    "    ```markdown\n",
    "    --- LangSmith 환경 변수 확인 ---\n",
    "    ✅ LangSmith 추적 활성화됨 (LANGCHAIN_TRACING_V2='true')\n",
    "    ✅ LangSmith 프로젝트: 'LangChain-prantice'\n",
    "    ✅ LangSmith API Key: 설정됨\n",
    "    -> 이제 LangSmith 대시보드에서 이 프로젝트를 확인해 보세요.\n",
    "    ```"
   ]
  },
  {
   "cell_type": "markdown",
   "id": "57aca908",
   "metadata": {},
   "source": [
    "* 임베딩 모델 생성하기"
   ]
  },
  {
   "cell_type": "code",
   "execution_count": null,
   "id": "1e1ec8b2",
   "metadata": {},
   "outputs": [],
   "source": [
    "from langchain_google_genai import GoogleGenerativeAIEmbeddings\n",
    "\n",
    "from dotenv import load_dotenv\n",
    "import os\n",
    "\n",
    "load_dotenv()\n",
    "\n",
    "# API 키 확인\n",
    "if not os.getenv(\"GOOGLE_API_KEY\"):\n",
    "    os.environ[\"GOOGLE_API_KEY\"] = input(\"Enter your Google API key: \")\n",
    "\n",
    "# Gemini 임베딩 모델 생성 (task_type 명시)\n",
    "# embeddings1 = 쿼리 검색 임베딩 모델\n",
    "embeddings1 = GoogleGenerativeAIEmbeddings(\n",
    "    model=\"models/gemini-embedding-001\",\n",
    "    #task_type=\"retrieval_document\",                 # 문서 검색을 위한 임베딩 생성\n",
    "    task_type=\"retrieval_query\",                    # 쿼리 검색을 위한 임베딩 생성\n",
    "    google_api_key=os.getenv(\"GOOGLE_API_KEY\")\n",
    ")\n",
    "\n",
    "# embeddings2 = 문서 검색을 위한 임베딩 생성\n",
    "embeddings2 = GoogleGenerativeAIEmbeddings(\n",
    "    model=\"models/gemini-embedding-001\",\n",
    "    task_type=\"retrieval_document\",                 # 문서 검색을 위한 임베딩 생성\n",
    "    #task_type=\"retrieval_query\",                    # 쿼리 검색을 위한 임베딩 생성\n",
    "    google_api_key=os.getenv(\"GOOGLE_API_KEY\")\n",
    ")"
   ]
  },
  {
   "cell_type": "markdown",
   "id": "9e864775",
   "metadata": {},
   "source": [
    "<small>\n",
    "\n",
    "* 셀 출력 \n",
    "\n",
    "    ```markdown\n",
    "    WARNING: All log messages before absl::InitializeLog() is called are written to STDERR\n",
    "    E0000 00:00:1758420472.472639 1563901 alts_credentials.cc:93] ALTS creds ignored. Not running on GCP and untrusted ALTS is not enabled.\n",
    "    E0000 00:00:1758420472.475082 1563901 alts_credentials.cc:93] ALTS creds ignored. Not running on GCP and untrusted ALTS is not enabled.\n",
    "    ```"
   ]
  },
  {
   "cell_type": "code",
   "execution_count": null,
   "id": "46075a66",
   "metadata": {},
   "outputs": [],
   "source": [
    "text = \"임베딩 테스트를 하기 위한 샘플 문장입니다.\"\n",
    "\n",
    "print(type(text))                               # <class 'str'>"
   ]
  },
  {
   "cell_type": "markdown",
   "id": "76ed8f62",
   "metadata": {},
   "source": [
    "* **쿼리 임베딩** → **`embeddings1` 사용하기**"
   ]
  },
  {
   "cell_type": "code",
   "execution_count": null,
   "id": "d4dcf281",
   "metadata": {},
   "outputs": [],
   "source": [
    "query_result2 = embeddings1.embed_query(text)       # 0.8s 소요\n",
    "\n",
    "print(type(query_result2))                      # <class 'list'>"
   ]
  },
  {
   "cell_type": "code",
   "execution_count": null,
   "id": "78be1115",
   "metadata": {},
   "outputs": [],
   "source": [
    "# 쿼리 벡터의 길이 확인하기\n",
    "\n",
    "len(query_result2)          # 3072"
   ]
  },
  {
   "cell_type": "markdown",
   "id": "3a046992",
   "metadata": {},
   "source": [
    "* **`query_results[:5]` → 쿼리 결과 리스트의 첫 5개 요소로를 슬라이싱해 선택하기**"
   ]
  },
  {
   "cell_type": "code",
   "execution_count": null,
   "id": "5af00c74",
   "metadata": {},
   "outputs": [],
   "source": [
    "query_result2[:5]"
   ]
  },
  {
   "cell_type": "markdown",
   "id": "ee05f4a4",
   "metadata": {},
   "source": [
    "<small>\n",
    "\n",
    "* 셀 출력\n",
    "\n",
    "    ```python\n",
    "    [-0.030985329300165176,\n",
    "    0.015072823502123356,\n",
    "    0.011131638661026955,\n",
    "    -0.07030871510505676,\n",
    "    -0.0013758750865235925]\n",
    "    ```"
   ]
  },
  {
   "cell_type": "markdown",
   "id": "11f0eb7f",
   "metadata": {},
   "source": [
    "---"
   ]
  },
  {
   "cell_type": "markdown",
   "id": "f033d404",
   "metadata": {},
   "source": [
    "* **`Document` 임베딩 → `embeddings2` 사용하기**"
   ]
  },
  {
   "cell_type": "code",
   "execution_count": 8,
   "id": "9299405d",
   "metadata": {},
   "outputs": [],
   "source": [
    "from text_utils import save_sentences_to_data_folder\n",
    "\n",
    "sentence1 = \"안녕하세요? 반갑습니다.\"\n",
    "sentence2 = \"안녕하세요? 반갑습니다!\"\n",
    "sentence3 = \"안녕하세요? 만나서 반가워요.\"\n",
    "sentence4 = \"Hi, nice to meet you.\"\n",
    "sentence5 = \"I like to eat apples.\"\n",
    "\n",
    "sentences = [sentence1, sentence2, sentence3, sentence4, sentence5]\n",
    "\n",
    "# sentences 리스트를 data 폴더에 sentences.txt 파일로 저장\n",
    "save_sentences_to_data_folder(sentences, \"sentences.txt\")"
   ]
  },
  {
   "cell_type": "code",
   "execution_count": null,
   "id": "3f72689d",
   "metadata": {},
   "outputs": [],
   "source": [
    "query_result3 = embeddings2.embed_query(\"../08_Embedding/data/sentences.txt\")       # 0.7s 소요\n",
    "\n",
    "print(type(query_result3))                      # <class 'list'>"
   ]
  },
  {
   "cell_type": "code",
   "execution_count": null,
   "id": "6748271c",
   "metadata": {},
   "outputs": [],
   "source": [
    "# 문서 벡터의 길이 확인해보기\n",
    "\n",
    "len(query_result3)                              # 3072"
   ]
  },
  {
   "cell_type": "code",
   "execution_count": null,
   "id": "f7bd7433",
   "metadata": {},
   "outputs": [],
   "source": [
    "# 문서 결과의 첫 번째 요소에서 첫 5개 항목 선택하기\n",
    "\n",
    "query_result3[:5]"
   ]
  },
  {
   "cell_type": "markdown",
   "id": "0e388abd",
   "metadata": {},
   "source": [
    "<small>\n",
    "\n",
    "* 셀 출력\n",
    "\n",
    "    ```python\n",
    "    [-0.010087567381560802,\n",
    "    0.021242860704660416,\n",
    "    0.01916883885860443,\n",
    "    -0.07958440482616425,\n",
    "    0.014998613856732845]\n",
    "    ```"
   ]
  },
  {
   "cell_type": "markdown",
   "id": "018f41b6",
   "metadata": {},
   "source": [
    "---"
   ]
  },
  {
   "cell_type": "markdown",
   "id": "6e96df86",
   "metadata": {},
   "source": [
    "* **`차원 지정`**: `models/gemini-embedding-001` 모델 = **`768` 차원 생성**\n",
    "\n",
    "* **`차원 조정`**\n",
    "\n",
    "  * **`GoogleGenerativeAIEmbeddings` 클래스의 `dimensions` 매개변수** 사용해야 함\n",
    "\n",
    "  * **`dimensions` 매개변수 = `1 ~ 2048` 사이** "
   ]
  },
  {
   "cell_type": "markdown",
   "id": "f46db651",
   "metadata": {},
   "source": [
    "* **`차원 조정_1` - 문서 검색**"
   ]
  },
  {
   "cell_type": "code",
   "execution_count": 12,
   "id": "619b42f3",
   "metadata": {},
   "outputs": [
    {
     "name": "stderr",
     "output_type": "stream",
     "text": [
      "E0000 00:00:1758425583.513673 1715309 alts_credentials.cc:93] ALTS creds ignored. Not running on GCP and untrusted ALTS is not enabled.\n"
     ]
    }
   ],
   "source": [
    "# 차원 조정해보기\n",
    "\n",
    "from langchain_google_genai import GoogleGenerativeAIEmbeddings\n",
    "\n",
    "embeddings3 = GoogleGenerativeAIEmbeddings(\n",
    "    model=\"models/gemini-embedding-001\",\n",
    "    task_type=\"retrieval_document\",                 # 문서 검색을 위한 임베딩 생성\n",
    "    dimensions=1,                                            # 임베딩 차원 조정\n",
    "    google_api_key=os.getenv(\"GOOGLE_API_KEY\")\n",
    ")"
   ]
  },
  {
   "cell_type": "markdown",
   "id": "3c1a6ec1",
   "metadata": {},
   "source": [
    "<small>\n",
    "\n",
    "* 셀 출력\n",
    "\n",
    "    ```markdown\n",
    "    E0000 00:00:1758423695.696036 1563901 alts_credentials.cc:93] ALTS creds ignored. Not running on GCP and untrusted ALTS is not enabled.\n",
    "    ```"
   ]
  },
  {
   "cell_type": "code",
   "execution_count": 13,
   "id": "8e01d51b",
   "metadata": {},
   "outputs": [
    {
     "name": "stdout",
     "output_type": "stream",
     "text": [
      "<class 'list'>\n"
     ]
    }
   ],
   "source": [
    "query_result4 = embeddings3.embed_query(\"../08_Embedding/data/sentences.txt\")           # 0.7s 소요\n",
    "\n",
    "print(type(query_result4))              # <class 'list'>"
   ]
  },
  {
   "cell_type": "code",
   "execution_count": null,
   "id": "730cb029",
   "metadata": {},
   "outputs": [],
   "source": [
    "# 차원 조정에 따른 임베딩 결과 비교해보기\n",
    "from langchain_experimental.text_splitter import SemanticChunker\n",
    "\n",
    "text_splitter1 = SemanticChunker(embeddings2)       # 차원 = 기본값\n",
    "text_splitter2 = SemanticChunker(embeddings3)       # 차원 조정 (1)\n",
    "\n",
    "# 임베딩 결과 확인\n",
    "query_result3 = embeddings2.embed_query(\"../08_Embedding/data/sentences.txt\") \n",
    "query_result4 = embeddings3.embed_query(\"../08_Embedding/data/sentences.txt\")\n",
    "\n",
    "# 출력해보기\n",
    "print(f\"임베딩 결과의 길이: {len(query_result3)}\")\n",
    "print(\"\\n\", \"=\"*50, \"\\n\")\n",
    "print(f\"임베딩 결과의 길이: {len(query_result4)}\")"
   ]
  },
  {
   "cell_type": "markdown",
   "id": "674ddc62",
   "metadata": {},
   "source": [
    "<small>\n",
    "\n",
    "* 셀 출력\n",
    "\n",
    "    ```markdown\n",
    "    임베딩 결과의 길이: 3072\n",
    "\n",
    "    ================================================== \n",
    "\n",
    "    임베딩 결과의 길이: 3072\n",
    "    ```"
   ]
  },
  {
   "cell_type": "code",
   "execution_count": null,
   "id": "adc8e2f1",
   "metadata": {},
   "outputs": [],
   "source": [
    "# 문서 결과의 첫 번째 요소에서 첫 5개 항목 선택하기\n",
    "\n",
    "query_result4[:5]"
   ]
  },
  {
   "cell_type": "markdown",
   "id": "bb69654a",
   "metadata": {},
   "source": [
    "<small>\n",
    "\n",
    "* 셀 출력\n",
    "\n",
    "    ```python\n",
    "    [-0.010087567381560802,\n",
    "    0.021242860704660416,\n",
    "    0.01916883885860443,\n",
    "    -0.07958440482616425,\n",
    "    0.014998613856732845]\n",
    "    ```"
   ]
  },
  {
   "cell_type": "markdown",
   "id": "cac0812e",
   "metadata": {},
   "source": [
    "---"
   ]
  },
  {
   "cell_type": "markdown",
   "id": "40805e2d",
   "metadata": {},
   "source": [
    "* **`차원 조정_2` - 쿼리 검색**"
   ]
  },
  {
   "cell_type": "code",
   "execution_count": null,
   "id": "239668be",
   "metadata": {},
   "outputs": [],
   "source": [
    "# 차원 조정해보기\n",
    "\n",
    "from langchain_google_genai import GoogleGenerativeAIEmbeddings\n",
    "\n",
    "embeddings4 = GoogleGenerativeAIEmbeddings(\n",
    "    model=\"models/gemini-embedding-001\",\n",
    "    task_type=\"retrieval_query\",                    # 문서 검색을 위한 임베딩 생성\n",
    "    dimensions=1,                                            # 임베딩 차원 조정\n",
    "    google_api_key=os.getenv(\"GOOGLE_API_KEY\")\n",
    ")"
   ]
  },
  {
   "cell_type": "markdown",
   "id": "6ab72876",
   "metadata": {},
   "source": [
    "<small>\n",
    "\n",
    "* 셀 출력\n",
    "\n",
    "    ```markdown\n",
    "    E0000 00:00:1758423423.919711 1563901 alts_credentials.cc:93] ALTS creds ignored. Not running on GCP and untrusted ALTS is not enabled.\n",
    "    ```"
   ]
  },
  {
   "cell_type": "code",
   "execution_count": null,
   "id": "ee899b68",
   "metadata": {},
   "outputs": [],
   "source": [
    "query_result5= embeddings4.embed_query(text)       # 0.7s 소요\n",
    "\n",
    "print(type(query_result2))                      # <class 'list'>"
   ]
  },
  {
   "cell_type": "code",
   "execution_count": null,
   "id": "e4de28a2",
   "metadata": {},
   "outputs": [],
   "source": [
    "# 쿼리 벡터의 길이 확인하기\n",
    "\n",
    "len(query_result5)                     # 3072"
   ]
  },
  {
   "cell_type": "code",
   "execution_count": null,
   "id": "62dca6d7",
   "metadata": {},
   "outputs": [],
   "source": [
    "# 쿼리 결과에서 첫 5개 요소 출력하기\n",
    "\n",
    "query_result5[:5]"
   ]
  },
  {
   "cell_type": "markdown",
   "id": "28703be7",
   "metadata": {},
   "source": [
    "<small>\n",
    "\n",
    "* 셀 출력\n",
    "\n",
    "    ```python\n",
    "    [-0.030985329300165176,\n",
    "    0.015072823502123356,\n",
    "    0.011131638661026955,\n",
    "    -0.07030871510505676,\n",
    "    -0.0013758750865235925]\n",
    "    ```"
   ]
  },
  {
   "cell_type": "markdown",
   "id": "66fe6115",
   "metadata": {},
   "source": [
    "---"
   ]
  },
  {
   "cell_type": "markdown",
   "id": "5de4e117",
   "metadata": {},
   "source": [
    "* **`차원 조정 이후 임베딩 결과의 길이 비교해보기`**"
   ]
  },
  {
   "cell_type": "markdown",
   "id": "80d3fa00",
   "metadata": {},
   "source": [
    "|                          | 쿼리 검색                   | 문서 검색                   |\n",
    "|--------------------------|-------------------------|-------------------------|\n",
    "| 차원 = 기본값                 | [-0.030985329300165176, | [-0.010087567381560802, |\n",
    "|                          | 0.015072823502123356,   | 0.021242860704660416,   |\n",
    "|                          | 0.011131638661026955,   | 0.01916883885860443,    |\n",
    "|                          | -0.07030871510505676,   | -0.07958440482616425,   |\n",
    "|                          | -0.0013758750865235925] | 0.014998613856732845]   |\n",
    "| 차원 조정 (`dimentions = 1`) | [-0.030985329300165176, | [-0.010087567381560802, |\n",
    "|                          | 0.015072823502123356,   | 0.021242860704660416,   |\n",
    "|                          | 0.011131638661026955,   | 0.01916883885860443,    |\n",
    "|                          | -0.07030871510505676,   | -0.07958440482616425,   |\n",
    "|                          | -0.0013758750865235925] | 0.014998613856732845]   |\n",
    "\n"
   ]
  },
  {
   "cell_type": "markdown",
   "id": "b4b6b454",
   "metadata": {},
   "source": [
    "* 쿼리 벡터 길이, 문서 벡터 길이 모두 동일\n",
    "\n",
    "* **`GoogleGenerativeAIEmbeddings` 클래스의 `dimensions` 매개변수를 조정해도 `기본적으로 생성되는 임베딩의 차원은 변하지 않음**\n",
    "  * 공식 가이드 페이지에 따르면, `dimensions 매개변수`는 임베딩의 차원을 조정하는 것이 아니라, **`임베딩`을 `생성`할 때 `사용할 차원을 지정하는 것`**\n",
    "  * *조금 더 공부가 필요*"
   ]
  },
  {
   "cell_type": "markdown",
   "id": "33f297a6",
   "metadata": {},
   "source": [
    "---"
   ]
  },
  {
   "cell_type": "markdown",
   "id": "b4b0671b",
   "metadata": {},
   "source": [
    "* **`유사도 계산`**"
   ]
  },
  {
   "cell_type": "code",
   "execution_count": null,
   "id": "d3899e14",
   "metadata": {},
   "outputs": [],
   "source": [
    "from langchain_google_genai import GoogleGenerativeAIEmbeddings\n",
    "from sklearn.metrics.pairwise import cosine_similarity\n",
    "import numpy as np\n",
    "\n",
    "embeddings6 = GoogleGenerativeAIEmbeddings(\n",
    "    model=\"models/gemini-embedding-001\",\n",
    "    task_type=\"semantic_similarity\",                 # 유사도 검색을 위한 임베딩 생성\n",
    "    google_api_key=os.getenv(\"GOOGLE_API_KEY\")\n",
    ")"
   ]
  },
  {
   "cell_type": "markdown",
   "id": "9b6d03d0",
   "metadata": {},
   "source": [
    "<small>\n",
    "\n",
    "* 셀 출력\n",
    "\n",
    "    ```markdown\n",
    "    E0000 00:00:1758426508.045810 1715309 alts_credentials.cc:93] ALTS creds ignored. Not running on GCP and untrusted ALTS is not enabled.\n",
    "    ```"
   ]
  },
  {
   "cell_type": "code",
   "execution_count": 28,
   "id": "8b855061",
   "metadata": {},
   "outputs": [],
   "source": [
    "# 문장 리스트\n",
    "sentences = [\n",
    "    \"안녕하세요? 반갑습니다.\",\n",
    "    \"안녕하세요? 반갑습니다!\",\n",
    "    \"안녕하세요? 만나서 반가워요.\",\n",
    "    \"Hi, nice to meet you.\",\n",
    "    \"I like to eat apples.\"\n",
    "]"
   ]
  },
  {
   "cell_type": "code",
   "execution_count": null,
   "id": "41f7ac4b",
   "metadata": {},
   "outputs": [],
   "source": [
    "# 문장 임베딩 생성\n",
    "sentence_embeddings = embeddings6.embed_documents(sentences)\n",
    "\n",
    "# 유사도 행렬 계산\n",
    "similarity_matrix = cosine_similarity(sentence_embeddings)"
   ]
  },
  {
   "cell_type": "code",
   "execution_count": null,
   "id": "ce458ec0",
   "metadata": {},
   "outputs": [],
   "source": [
    "# 유사도 출력\n",
    "for i in range(len(sentences)):\n",
    "    for j in range(i + 1, len(sentences)):\n",
    "        print(f\"[유사도 {similarity_matrix[i][j]:.4f}] {sentences[i]} \\t <=====> \\t {sentences[j]}\")"
   ]
  },
  {
   "cell_type": "markdown",
   "id": "cf5d5d5a",
   "metadata": {},
   "source": [
    "<small>\n",
    "\n",
    "* 셀 출력\n",
    "\n",
    "    ```markdown\n",
    "    [유사도 0.9940] 안녕하세요? 반갑습니다. \t <=====> \t 안녕하세요? 반갑습니다!\n",
    "    [유사도 0.9751] 안녕하세요? 반갑습니다. \t <=====> \t 안녕하세요? 만나서 반가워요.\n",
    "    [유사도 0.9221] 안녕하세요? 반갑습니다. \t <=====> \t Hi, nice to meet you.\n",
    "    [유사도 0.7319] 안녕하세요? 반갑습니다. \t <=====> \t I like to eat apples.\n",
    "    [유사도 0.9704] 안녕하세요? 반갑습니다! \t <=====> \t 안녕하세요? 만나서 반가워요.\n",
    "    [유사도 0.9146] 안녕하세요? 반갑습니다! \t <=====> \t Hi, nice to meet you.\n",
    "    [유사도 0.7284] 안녕하세요? 반갑습니다! \t <=====> \t I like to eat apples.\n",
    "    [유사도 0.9269] 안녕하세요? 만나서 반가워요. \t <=====> \t Hi, nice to meet you.\n",
    "    [유사도 0.7295] 안녕하세요? 만나서 반가워요. \t <=====> \t I like to eat apples.\n",
    "    [유사도 0.7580] Hi, nice to meet you. \t <=====> \t I like to eat apples.\n",
    "    ```"
   ]
  },
  {
   "cell_type": "markdown",
   "id": "e313d4f3",
   "metadata": {},
   "source": [
    "---"
   ]
  },
  {
   "cell_type": "markdown",
   "id": "3a9480ef",
   "metadata": {},
   "source": [
    "* *next: **`캐시 임베딩 (CacheBackedEmbeddings)`***"
   ]
  },
  {
   "cell_type": "markdown",
   "id": "c888d3dc",
   "metadata": {},
   "source": [
    "---"
   ]
  }
 ],
 "metadata": {
  "kernelspec": {
   "display_name": "lc_env",
   "language": "python",
   "name": "python3"
  },
  "language_info": {
   "codemirror_mode": {
    "name": "ipython",
    "version": 3
   },
   "file_extension": ".py",
   "mimetype": "text/x-python",
   "name": "python",
   "nbconvert_exporter": "python",
   "pygments_lexer": "ipython3",
   "version": "3.13.5"
  }
 },
 "nbformat": 4,
 "nbformat_minor": 5
}
