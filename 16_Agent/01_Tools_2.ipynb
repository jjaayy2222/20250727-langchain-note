{
  "cells": [
    {
      "cell_type": "markdown",
      "metadata": {
        "id": "6aoDciyIXL1x"
      },
      "source": [
        "---"
      ]
    },
    {
      "cell_type": "markdown",
      "metadata": {
        "id": "oplmmbQ7XAHD"
      },
      "source": [
        "* **`Colab에서 실행할 것!`**"
      ]
    },
    {
      "cell_type": "markdown",
      "metadata": {
        "id": "UCBv-3cYW8tE"
      },
      "source": [
        "---"
      ]
    },
    {
      "cell_type": "markdown",
      "metadata": {
        "id": "vT0ukuusFanO"
      },
      "source": [
        "### **1.2. `Colab` 버전으로 시도**\n",
        "\n",
        "| 구분    | 교재 코드               | 코랩 안내 코드                        |\n",
        "|-------|---------------------|---------------------------------|\n",
        "| 실습 방식 | 외부 API/서비스 위주       | 오픈소스/무료 내장 함수 위주                |\n",
        "| 요구사항  | API 키, 서드파티 설치      | 키/서드파티 필요 없음                    |\n",
        "| 목적    | API 실전 연결·LLM 활용 중점 | 도구 원리·로컬/무료 환경 학습 중점            |\n",
        "| 확장성   | 다양한 외부 서비스와 연계 가능   | Colab/Python 환경에서 모든 도구 자유롭게 확장 |\n"
      ]
    },
    {
      "cell_type": "markdown",
      "metadata": {
        "id": "hT_C9fFCXPgx"
      },
      "source": [
        "#### **1) 코랩 환경 준비**\n",
        "\n",
        "* 코랩 환경 업데이트 및 필수 설치"
      ]
    },
    {
      "cell_type": "code",
      "execution_count": null,
      "metadata": {
        "collapsed": true,
        "id": "rnPJO4szWdu-"
      },
      "outputs": [],
      "source": [
        "!pip install langchain diffusers transformers accelerate --upgrade"
      ]
    },
    {
      "cell_type": "markdown",
      "metadata": {
        "id": "jIG03BgBGrUU"
      },
      "source": [
        "* 뉴스 RSS 처리 / 이미지 출력을 위해 추가"
      ]
    },
    {
      "cell_type": "markdown",
      "metadata": {
        "id": "684Z8e2RGxQP"
      },
      "source": [
        "<small>\n",
        "\n",
        "* **`RSS`**\n",
        "\n",
        "|           | 설명                                                                  |\n",
        "|-----------|---------------------------------------------------------------------|\n",
        "| 기본 개념     | “Really Simple Syndication” 또는 “Rich Site Summary”의 줄임말             |\n",
        "|           | 웹사이트(뉴스, 블로그 등)에 새 글이나 소식이 올라올 때, 그 소식을 자동으로 알려주는 전용 파일(피드)         |\n",
        "|           | 파일 ≒ 일종의 알림 목록 → 사이트에서 새 소식이 생기면 그 내용이 바로 RSS 피드에 추가됨               |\n",
        "| RSS 피드 특징 | **`자동으로 최신 글을 알려줌`** → 직접 웹사이트에 방문하지 않아도, 새로운 글을 놓치지 않고 받아볼 수 있음    |\n",
        "|           | **특별한 프로그램(=RSS 리더)** 사용 → 여러 사이트의 RSS 피드를 한 곳에서 한 번에 볼 수 있음        |\n",
        "|           | 주로 **`XML`이라는 특별한 파일 형식을 사용** - 코드처럼 생겼지만, 사람이 읽을 수도 있고 컴퓨터도 쉽게 읽음  |\n",
        "| 장점        | **`시간 절약`**: 여러 뉴스 사이트, 블로그를 일일이 방문하지 않고도 모든 새 글을 한꺼번에 볼 수 있음       |\n",
        "|           | **`광고나 쓸데없는 디자인 없이 보기 가능`**: 필요한 정보만 골라서 볼 수 있음                     |\n",
        "|           | **`무료/개방형`**: 누구나 사용할 수 있고, 사이트마다 거의 제한 없이 지원됨                      |\n",
        "| 단점        | **`사진·동영상` 등 화려한 콘텐츠는 보기 힘듦**: 거의 글 위주로 전달 → 사이트의 멋진 디자인은 잘 안 나옴    |\n",
        "|           | **`인터넷 사이트가 RSS를 지원해야 함`**: 모든 사이트가 RSS 피드를 제공하는 건 아님               |\n",
        "|           | **`댓글, 포럼 등 상호작용 기능`은 `제한적`**: RSS로 단순 정보만 받을 뿐, 바로 댓글을 달거나 토론은 어려움 |\n",
        "| 사용되는 경우   | 뉴스, 블로그, 유튜브 채널 등을 자주 확인할 때                                         |\n",
        "|           | 공부 정보/사이트/웹툰 등 최신 업데이트를 빠르게 받고 싶을 때                                 |\n",
        "|           | 여러 사이트의 새 글을 한 번에, 빠르고 간편하게 보고 싶을 때                                 |\n",
        "| 사용 예시     | **`RSS 리더(앱)`**: Feedly, Inoreader, Old Reader, Google 뉴스 등         |\n",
        "|           | **`구글 뉴스 RSS`**: 원하는 뉴스 키워드를 입력하면 “RSS” 파일로 최신 뉴스를 자동 수집해줌          |\n",
        "|           | **`유튜브 채널 RSS`**: 좋아하는 채널별로 새 영상 알림을 RSS로 받을 수 있음                   |\n",
        "|           | **`블로그 피드`**: 공부 블로그, IT 소식, 만화, 스포츠 기사 등 새 글이 올라올 때마다 RSS로 알림      |\n",
        "| 비유 및 정리   | RSS = **`자동 알림장을 모아 보는 서비스`**                                       |\n",
        "|           | ≒ 우리 반, 옆반, 3학년 게시판 새 소식이 하나의 알림장에 자동으로 모여서 볼 수 있는 것                |\n",
        "|           | **`∴`  RSS = 웹사이트 새 소식을 자동으로 모아서 한 번에 쉽게 알려주는 알림 시스템**              |\n"
      ]
    },
    {
      "cell_type": "code",
      "execution_count": null,
      "metadata": {
        "collapsed": true,
        "id": "crJ2w8TbWtcU"
      },
      "outputs": [],
      "source": [
        "!pip install feedparser pillow --upgrade"
      ]
    },
    {
      "cell_type": "markdown",
      "metadata": {
        "id": "cnjsiT2rKrox"
      },
      "source": [
        "#### **2)** *위키독스* vs **`Colab` 실습 코드**"
      ]
    },
    {
      "cell_type": "markdown",
      "metadata": {
        "id": "eajtkyNQPR2-"
      },
      "source": [
        "|                           | 위키독스 코드                                                 | Colab 코드 시도                                                   |\n",
        "|---------------------------|---------------------------------------------------------|---------------------------------------------------------------|\n",
        "| **`➀ API 사용 방식`**         | **외부 API/유료 서비스(DALL-E, Tavily 등)의 키 설정 및 호출** 중심       | **오픈소스/무료 모델(Stable Diffusion, 구글 뉴스 RSS) 기반**                |\n",
        "|                           |                                                         | → 모든 기능이 로컬 혹은 무료 공용 서비스만으로 구성 / Key ❌                        |\n",
        "| - 예시                      | DALL-E 이미지 생성 → DallEAPIWrapper로 OpenAI API 사용(유료 키 필요) | Stable Diffusion 직접 실행 (diffusers)                            |\n",
        "|                           | TavilySearch → Tavily 서비스 API 키 등록 및 사용                 | 구글 뉴스 RSS + feedparser (API 키, 서드파티 없음)                       |\n",
        "| **`➁ 도구 (Tool) 구현 방식`**   | LangChain의 다양한 built-in tool, 실제 커스텀 tool 등 실습 예시 다수    | 정식 LangChain @tool 데코레이터/Tool 클래스로 도구를 구현                     |\n",
        "|                           | @tool 데코레이터와 Tool 객체 혼용                                 | 커스텀 함수/Python 도구 기반                                           |\n",
        "|                           | Tavily/GoogleNews 등 일부는 래핑된 API 클래스를 바로 사용              | Stable Diffusion 이미지 생성, 구글 뉴스 검색을 직접 파이썬 함수로 구현 + @tool로 래핑  |\n",
        "| **`➂ 이미지 생성 부분`**         | DALL-E API 기반, 프롬프트 생성 및 API 호출 흐름                      | **`Stable Diffusion`** 오픈소스 모델로 직접 프롬프트→이미지 생성                |\n",
        "|                           | a. 프롬프트를 LLM으로 영어, 상세하게 생성                              | a. diffusers로 모델 셋업 후 바로 사용(프롬프트별)                            |\n",
        "|                           | b. DallEAPIWrapper로 이미지를 생성                             | b. 이미지 저장 후 경로 반환 및 PIL로 결과 표시                                |\n",
        "|                           | c. Image(url=image_url)로 결과 출력                          |                                                               |\n",
        "|                           | *반드시 OpenAI API 키가 있어야 사용 가능*                           | **`완전 무료`·`로컬 실행`** / **`Colab GPU 사용`**, **`키 필요 없음`**       |\n",
        "| **`➃ 뉴스 검색 부분`**          | langchain_teddynote의 GoogleNews 또는 TavilySearch tool 사용 | **`feedparser` 표준 파이썬 라이브러리** → 구글 뉴스 RSS 자체를 파싱              |\n",
        "|                           | a. teddynote 패키지(비공식) 설치 필요                             | @tool 데코레이터로 LangChain 툴로 등록                                  |\n",
        "|                           | b. Tavily는 서드파티 API 키 필요                                | 비용, 설치, 등록 키 전혀 없음                                            |\n",
        "|                           | 함수 및 LangChain의 툴 형태로 래핑하여 agent workflow 연결            |                                                               |\n",
        "| **`➄ LangChain 에이전트 연결`** | 여러 built-in/사용자 도구를 에이전트에 연결, 대부분 LLM(OpenAI 기반) 연동 전제  | 도구 목록을 직접 만들어 에이전트에 연결                                        |\n",
        "|                           | agent/run으로 명령 작성 → workflow 자동화                        | 무료 환경 실습을 위해 `LLM` → dummy 함수 or **`로컬 LLM`도 추가 연결 가능**       |\n",
        "|                           |                                                         | 실제 도구 기능은 모두 로컬 함수에서 직접 실행                                    |\n",
        "| **`➅ 환경과 의존성`**           | API 키, 서드파티, 비공식 패키지(langchain_teddynote) 등이 곳곳에 필요     | PyPI에서 공식 패키지만 사용(langchain, diffusers, feedparser, pillow 등) |\n",
        "|                           | 일부 section은 설치/키 등록을 못하면 실습 불가                          | Colab에서 바로 실행 가능, 오픈북 환경                                      |\n",
        "| **`➆ 학습 흐름 및 활용성`**       | 실습 방식: 외부 API/서비스 위주                                    | 실습 방식: 오픈소스/무료 내장 함수 위주                                       |\n",
        "|                           | 요구 사항: API 키, 서드파티 설치                                   | 요구 사항: 키/서드파티 필요 없음                                           |\n",
        "|                           | 목적: API 실전 연결·LLM 활용 중점                                 | 목적: 도구 원리·로컬/무료 환경 학습 중점                                      |\n",
        "|                           | 확장성: 다양한 외부 서비스와 연계 가능                                  | 확장성: Colab/Python 환경에서 모든 도구 자유롭게 확장                          |\n",
        "\n",
        "\n",
        "* 위키독스: *`실제 상업/실전 API와 LangChain의 공식 빌트인·커스텀 도구 연동, agent 활용까지 포괄적 학습용`*\n",
        "\n",
        "* `Colab` 시도: **`비용·설치 제약 없는 환경에서 LangChain의 핵심 원리, 파이프라인 구현, agent+도구 구조를 실습하는 데 최적화`**"
      ]
    },
    {
      "cell_type": "markdown",
      "metadata": {
        "id": "-RGGp2oZKql1"
      },
      "source": [
        "---"
      ]
    },
    {
      "cell_type": "markdown",
      "metadata": {
        "id": "7bOT9tn3Pucs"
      },
      "source": [
        "#### **3) 이미지 생성**"
      ]
    },
    {
      "cell_type": "markdown",
      "metadata": {
        "id": "d-KR-XQFXe44"
      },
      "source": [
        "* **이미지 생성: `Stable Diffusion`**\n",
        "\n",
        "  * `Stable Diffusion` 파이프라인 함수 만들기"
      ]
    },
    {
      "cell_type": "code",
      "execution_count": null,
      "metadata": {
        "id": "x8RcWiAFXItn"
      },
      "outputs": [],
      "source": [
        "from diffusers import StableDiffusionPipeline\n",
        "import torch\n",
        "from PIL import Image\n",
        "\n",
        "# pipeline 셋업 (최초 실행 시 2~3분 소요)\n",
        "pipe = StableDiffusionPipeline.from_pretrained(\n",
        "    \"runwayml/stable-diffusion-v1-5\"\n",
        ").to(\"cpu\")                             # Colab: 'cuda', Mac: 'mps', CPU: 'cpu'\n",
        "\n",
        "def generate_image(prompt: str, path=\"output.png\") -> str:\n",
        "    # 이미지를 프롬프트로 생성\n",
        "    image = pipe(prompt).images[0]\n",
        "    image.save(path)\n",
        "    return path"
      ]
    },
    {
      "cell_type": "markdown",
      "metadata": {
        "id": "MuvphZuWZwE5"
      },
      "source": [
        "<small>\n",
        "\n",
        "```bash\n",
        "\n",
        "    Loading pipeline components...: 100% 7/7 [00:00<00:00, 15.76it/s]\n",
        "\n",
        " ```"
      ]
    },
    {
      "cell_type": "markdown",
      "metadata": {
        "id": "QRwsolwCaqhd"
      },
      "source": [
        "<small>\n",
        "\n",
        "```python\n",
        "\n",
        "    # pipeline 셋업 (최초 실행 시 2~3분 소요)\n",
        "    pipe = StableDiffusionPipeline.from_pretrained(\n",
        "        \"runwayml/stable-diffusion-v1-5\"\n",
        "    ).to(\"cuda\")  # Colab: 'cuda', Mac: 'mps', CPU: 'cpu'\n",
        "\n",
        "```\n",
        "\n",
        "* → `Error` 발생\n",
        "* → `cuda`에서 `cpu`로 수정해서 실행"
      ]
    },
    {
      "cell_type": "markdown",
      "metadata": {
        "id": "JvM5F_62Xs8E"
      },
      "source": [
        "  * `LangChain` 도구로 등록하기"
      ]
    },
    {
      "cell_type": "code",
      "execution_count": null,
      "metadata": {
        "id": "pW8p719OXNdx"
      },
      "outputs": [],
      "source": [
        "from langchain.tools import tool\n",
        "\n",
        "@tool\n",
        "def generate_image_tool(prompt: str) -> str:\n",
        "    \"\"\"텍스트 프롬프트를 받아 이미지를 생성하고 파일 경로를 반환합니다.\"\"\"\n",
        "    print(f\"이미지 프롬프트: {prompt}\")\n",
        "    return generate_image(prompt)"
      ]
    },
    {
      "cell_type": "markdown",
      "metadata": {
        "id": "ox49AL5pX1pW"
      },
      "source": [
        "  * *실습 예시*"
      ]
    },
    {
      "cell_type": "code",
      "execution_count": null,
      "metadata": {
        "id": "fuy8mJ0jX0JQ"
      },
      "outputs": [],
      "source": [
        "# 직접 함수 테스트\n",
        "image_path = generate_image_tool.invoke({\"prompt\": \"A cat reading a book in a library, digital painting\"})\n",
        "Image.open(image_path).show()"
      ]
    },
    {
      "cell_type": "markdown",
      "metadata": {
        "id": "eNTNl1XhZ-t2"
      },
      "source": [
        "<small>\n",
        "\n",
        "```bash\n",
        "\n",
        "    이미지 프롬프트: A cat reading a book in a library, digital painting\n",
        "    \n",
        "    # 28% 14/50 [06:38<15:08, 25.24s/it]\n",
        "    # 52% 26/50 [11:38<09:59, 24.98s/it]\n",
        "    # 82% 41/50 [17:28<03:30, 23.38s/it]\n",
        "\n",
        "    100% 50/50 [21:10<00:00, 24.15s/it]\n",
        "\n",
        "\n",
        "\n",
        "```"
      ]
    },
    {
      "cell_type": "code",
      "execution_count": null,
      "metadata": {
        "collapsed": true,
        "id": "d6jab2iNd108"
      },
      "outputs": [],
      "source": [
        "import os\n",
        "print(os.path.exists(image_path))"
      ]
    },
    {
      "cell_type": "markdown",
      "metadata": {
        "id": "vEv2tcpBeZ1E"
      },
      "source": [
        "<small>\n",
        "\n",
        "* `True`면 파일 생성 완료!\n",
        "\n",
        "```bash\n",
        "\n",
        "  True\n",
        "\n",
        "```"
      ]
    },
    {
      "cell_type": "code",
      "execution_count": null,
      "metadata": {
        "collapsed": true,
        "id": "Jwx8Pbyud7FZ"
      },
      "outputs": [],
      "source": [
        "from PIL import Image\n",
        "from IPython.display import display\n",
        "\n",
        "img = Image.open(image_path)\n",
        "display(img)"
      ]
    },
    {
      "cell_type": "markdown",
      "metadata": {},
      "source": [
        "<small>\n",
        "\n",
        "* **`display(img)`**\n",
        "\n",
        "  * ![display(img)](../16_Agent/assets/stable_diffusion_image_1.png)"
      ]
    },
    {
      "cell_type": "markdown",
      "metadata": {
        "id": "x8X2ny9vX7tX"
      },
      "source": [
        "---"
      ]
    },
    {
      "cell_type": "markdown",
      "metadata": {
        "id": "sLcBZlH_Pz-J"
      },
      "source": [
        "#### **4) 구글 뉴스 검색**"
      ]
    },
    {
      "cell_type": "markdown",
      "metadata": {
        "id": "9jHSGJNEX9As"
      },
      "source": [
        "* **`구글 뉴스 검색` - `공식 RSS` + `LangChain` 도구화**\n",
        "\n",
        "  * 뉴스 검색 함수 정의 *(feedparser 사용)*"
      ]
    },
    {
      "cell_type": "code",
      "execution_count": null,
      "metadata": {
        "id": "WRkz_oMkX8Wa"
      },
      "outputs": [],
      "source": [
        "import feedparser\n",
        "import urllib.parse\n",
        "\n",
        "def google_news_search(keyword: str, max_results=5):\n",
        "    # 구글 뉴스 RSS URL 구성\n",
        "    encoded_keyword = urllib.parse.quote(keyword)\n",
        "    url = f\"https://news.google.com/rss/search?q={encoded_keyword}&hl=ko&gl=KR&ceid=KR:ko\"\n",
        "    feed = feedparser.parse(url)\n",
        "    results = []\n",
        "    for entry in feed.entries[:max_results]:\n",
        "        results.append({\n",
        "            \"title\": entry.title,\n",
        "            \"url\": entry.link,\n",
        "            \"published\": entry.published,\n",
        "            \"summary\": entry.summary\n",
        "        })\n",
        "    return results"
      ]
    },
    {
      "cell_type": "markdown",
      "metadata": {
        "id": "32JnHanBYp3v"
      },
      "source": [
        "  * `LangChain` 도구로 등록하기"
      ]
    },
    {
      "cell_type": "code",
      "execution_count": null,
      "metadata": {
        "id": "W2RDTNqrYnh-"
      },
      "outputs": [],
      "source": [
        "from langchain.tools import tool\n",
        "\n",
        "@tool\n",
        "def google_news_tool(keyword: str) -> list:\n",
        "    \"\"\"키워드로 구글 뉴스 검색 결과(최대 5개)를 리스트로 반환\"\"\"\n",
        "    print(f\"뉴스 키워드: {keyword}\")\n",
        "    return google_news_search(keyword)"
      ]
    },
    {
      "cell_type": "markdown",
      "metadata": {
        "id": "7osAnvG-YyZj"
      },
      "source": [
        "  * *실습 예시*"
      ]
    },
    {
      "cell_type": "code",
      "execution_count": null,
      "metadata": {
        "collapsed": true,
        "id": "aoA4k4yaYnfH"
      },
      "outputs": [],
      "source": [
        "results = google_news_tool.invoke({\"keyword\": \"일론 머스크\"})\n",
        "for idx, item in enumerate(results):\n",
        "    print(f\"{idx + 1}. {item['title']} ({item['published']})\\n{item['url']}\\n\")"
      ]
    },
    {
      "cell_type": "markdown",
      "metadata": {
        "id": "cG6P5kLUfP-h"
      },
      "source": [
        "<small>\n",
        "\n",
        "* **`뉴스 키워드`: `일론 머스크`**\n",
        "\n",
        "```markdown\n",
        "\n",
        "  1. [일론 머스크 “TSMC·삼성전자와 AI5칩 함께 개발” - v.daum.net (Thu, 23 Oct 2025 01:32:00 GMT)](\n",
        "  https://news.google.com/rss/articles/CBMiT0FVX3lxTFBYU2RZNy05WnZqU011SkdON0NsMHFBbnFHX1p4N1lCWVpIOUo5eDdKWngydURzZnQ2OTVVNG1HWUVmTm5yVVhtV3RRMHd3amM?oc=5)\n",
        "\n",
        "  2. [일론 머스크 “‘로봇 군대’ 만들려면 내게 더 많은 지분 달라”...1조달러 보상안 논란 - 로봇신문 (Fri, 24 Oct 2025 05:29:08 GMT)](\n",
        "  https://news.google.com/rss/articles/CBMibEFVX3lxTE9Uc3JLRElFalpYc1ozTkFSUmlrUkxfM1ZCQXNPYlRZRENvOGtZNExDMXRRX2JWa1ZDTk4xU19iTUpwM25zNGxMeEFGdy1ZazhyRjlIXzNxU3gyMzVvVTVhLTQtZjgwdmgxZXc1Vg?oc=5)\n",
        "\n",
        "  3. [트럼프 정책 변화로 테슬라 AI 신사업 재조명, 일론 머스크 '비전' 힘 실린다 - 비즈니스포스트 (Thu, 23 Oct 2025 06:14:27 GMT)](\n",
        "  https://news.google.com/rss/articles/CBMic0FVX3lxTE05UUZMT1ZhcGRlcTlMQmR5a1diUnRtRGVYUFh5ZE41QXVmOUZZRUZmdG9xR0ZaRHE5WjdQTW1UWFpvWTVmZ29saDA1LXVaT2NUTlA2MFVnVl82QUNkUkhzYVVneF8tcVgtX1p1dEl3UExkQVU?oc=5)\n",
        "\n",
        "  4. [시키지도 않은 19금 그렸다…머스크가 푹 빠진 AI, 그록 -AI마스터클래스⑤ , 중앙일보 (Thu, 23 Oct 2025 20:00:57 GMT)](\n",
        "  https://news.google.com/rss/articles/CBMiVkFVX3lxTE9BVHFzNW5WeTdMQmsxcUVzTC1vejFiYlRaQmdQa242SHdOaDNLMngwcllvTDJtQm9BVm5qS001dHhhUkNqeTl1YW9CWmxhUzVVVmthT2RR?oc=5)\n",
        "\n",
        "  5. [머스크, 로보택시 목표 대폭 축소…옵티머스 양산도 내년으로 연기 - 글로벌이코노믹 (Thu, 23 Oct 2025 17:15:00 GMT)](\n",
        "  https://news.google.com/rss/articles/CBMiiAFBVV95cUxPYWl4TW9kNk1odXpGN0ZUc3d3cGh3cHNZV3d1cW9VRVRYbHFWRUtNQXZ5cWxTS09NdllPb1A4Sl9ISWxxeFZucC1FR1pSWUtQaFJiVXpZZk5vZktnZ1BIMDd3b2NOWDJERGdZZFZEMWRNUG95WlZKY3BsQno3aHpOT1dNb2x6WFpt?oc=5)\n",
        "\n",
        "```\n"
      ]
    },
    {
      "cell_type": "markdown",
      "metadata": {
        "id": "lgGgHRXTP8-p"
      },
      "source": [
        "#### **5) 최신 `LCEL` 문법 트렌드**"
      ]
    },
    {
      "cell_type": "markdown",
      "metadata": {
        "id": "CJ-dKIYwP873"
      },
      "source": [
        "* 핵심\n",
        "\n",
        "  * `체인`(Chain), `도구`(Tool), `파서`(Parser), `프롬프트`(Prompt) 등 모든 객체가 **`.invoke()`** 또는 **`|`(파이프)** 오퍼레이터로 `연결`되는 **`함수형 파이프라인`** 스타일을 지향\n",
        "\n",
        "  * **체인 생성/조합 문법이 일관되게 함수형 API로 개편**\n",
        "\n",
        "  * **`async 지원 확대`**: **`.ainvoke()`, `.abatch()` 등 비동기 처리 강화**\n",
        "\n",
        "  * **`중간 결과`(프롬프트, 파서 등) `추적`·`재사용`이 `간결`해짐**"
      ]
    },
    {
      "cell_type": "markdown",
      "metadata": {
        "id": "JrXjW1o6P85V"
      },
      "source": [
        "* 최신 `LCEL` 코드의 예시\n",
        "\n",
        "```python\n",
        "\n",
        "  from langchain_openai import ChatOpenAI\n",
        "  from langchain_core.prompts import ChatPromptTemplate\n",
        "  from langchain_core.output_parsers import StrOutputParser\n",
        "\n",
        "  llm = ChatOpenAI(model=\"gpt-3.5-turbo\")\n",
        "\n",
        "  prompt = ChatPromptTemplate.from_messages([\n",
        "      (\"system\", \"You are an expert.\"),\n",
        "      (\"human\", \"{input}\")\n",
        "  ])\n",
        "\n",
        "  chain = prompt | llm | StrOutputParser()\n",
        "\n",
        "  # 동기 실행\n",
        "  res = chain.invoke({\"input\": \"Hello, what can you do?\"})\n",
        "\n",
        "  # 비동기 실행\n",
        "  res = await chain.ainvoke({\"input\": \"Hello\"})\n",
        "\n",
        "```\n",
        "\n",
        "* * *기존의 `LLMChain(prompt=..., llm=...)`보다 훨씬 `직관적`*\n",
        "\n",
        "* * **`chain | tool | parser = 파이프라인 식 연결`**\n",
        "\n",
        "* 특징\n",
        "  * **`코드가 더 짧고 가독성, 확장성이 매우 좋음`**\n",
        "  * **`비동기·스트림 처리 시나리오도 일관된 방식으로 가능`**\n",
        "  * **`체인 내에 분기, 조건부 실행(| if, filter, map 등)도 LCEL에서 지원`**"
      ]
    },
    {
      "cell_type": "markdown",
      "metadata": {
        "id": "_ezxLyYbR8xD"
      },
      "source": [
        "#### **6) `LangGraph` 최신 트렌드**"
      ]
    },
    {
      "cell_type": "markdown",
      "metadata": {
        "id": "EMooFn4LP82n"
      },
      "source": [
        "* 핵심\n",
        "\n",
        "  * **`LLM 워크플로우의 Directed Graph 구조`** 지향\n",
        "  * → 노드(node: 도구/체인/함수 등)와 간선(edge: 조건 분기, 룰 등)으로 에이전트, 멀티스텝 플로우를 유연하게 구성\n",
        "\n",
        "  * 거대한 파이프라인과 수많은 도구/프롬프트들이 실제 서비스 수준으로 배포 가능하도록 설계"
      ]
    },
    {
      "cell_type": "markdown",
      "metadata": {
        "id": "YpMd-aprP8z6"
      },
      "source": [
        "* `LangGraph 에이전트 & 워크플로우` 정의 예시\n",
        "\n",
        "```python\n",
        "\n",
        "  from langgraph.prebuilt import create_react_agent, ToolNode\n",
        "  from langchain_openai import ChatOpenAI\n",
        "  from langchain_core.tools import tool\n",
        "\n",
        "  @tool\n",
        "  def calculator(expr: str) -> str:\n",
        "      return str(eval(expr))\n",
        "\n",
        "  # 노드 정의\n",
        "  tools = [ToolNode(calculator)]\n",
        "  llm = ChatOpenAI(model=\"gpt-3.5-turbo\")\n",
        "\n",
        "  # REACT 기반 LangGraph Agent 생성\n",
        "  agent = create_react_agent(llm, tools)\n",
        "\n",
        "  # 플로우 실행\n",
        "  result = agent.invoke({\"messages\": [(\"user\", \"2+2를 계산해줘\")]})\n",
        "\n",
        "  print(result)\n",
        "\n",
        "```\n",
        "\n",
        "* * **`노드`** (`도구`, `프롬프트`, `체인`) → **`간선`** (`조건`, `라우팅`) `조합`으로 큰 `플로우 구현` 가능\n",
        "\n",
        "* * `agent.batch()`, `ainvoke()` 등 대용량/비동기 지원"
      ]
    },
    {
      "cell_type": "markdown",
      "metadata": {
        "id": "e205KudBP8wp"
      },
      "source": [
        "* 특징\n",
        "\n",
        "  * 분기/조건/스테이트풀 워크플로우가 **`그래프`** 로 표현 → `복잡한 멀티에이전트` 또는 `연속 프로세스 구현`에 최적\n",
        "\n",
        "  * 기존 체인의 `단방향` 파이프라인 `한계`를 `극복`\n",
        "\n",
        "  * `대규모 서비스`, `자동화 에이전트`, `데이터 파이프라인`까지 손쉽게 `확장`"
      ]
    },
    {
      "cell_type": "markdown",
      "metadata": {
        "id": "fkF-zjKoY4pj"
      },
      "source": [
        "---"
      ]
    },
    {
      "cell_type": "markdown",
      "metadata": {
        "id": "Bz_yb_8MDbaa"
      },
      "source": [
        "* next: ***`01_Tools_3`***"
      ]
    },
    {
      "cell_type": "markdown",
      "metadata": {
        "id": "lhnM0jazDjC8"
      },
      "source": [
        "---"
      ]
    }
  ],
  "metadata": {
    "colab": {
      "provenance": []
    },
    "kernelspec": {
      "display_name": "Python 3",
      "name": "python3"
    },
    "language_info": {
      "name": "python"
    }
  },
  "nbformat": 4,
  "nbformat_minor": 0
}
