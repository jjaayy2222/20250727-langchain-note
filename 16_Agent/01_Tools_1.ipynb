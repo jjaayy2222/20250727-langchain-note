{
 "cells": [
  {
   "cell_type": "markdown",
   "id": "ba52bed0",
   "metadata": {},
   "source": [
    "---"
   ]
  },
  {
   "cell_type": "markdown",
   "id": "65001001",
   "metadata": {},
   "source": [
    "* 출처: LangChain 공식 문서 또는 해당 교재명\n",
    "* 원본 URL: https://smith.langchain.com/hub/teddynote/summary-stuff-documents"
   ]
  },
  {
   "cell_type": "markdown",
   "id": "3fb2ea90",
   "metadata": {},
   "source": [
    "---"
   ]
  },
  {
   "cell_type": "markdown",
   "id": "9c6662ac",
   "metadata": {},
   "source": [
    "## **`CH16.` `에이전트`** *(Agent)*"
   ]
  },
  {
   "cell_type": "markdown",
   "id": "79a0d6f0",
   "metadata": {},
   "source": [
    "* `LangChain` 및 기타 `LLM` (Large Language Model) 애플리케이션에서 중요한 개념\n",
    "\n",
    "* **`인공지능 시스템`이 `더욱 자율적`이고 `목표 지향적`으로 `작업`을 `수행`할 수 있게 해주는 `컴포넌트`**\n",
    "\n",
    "* **주어진 `목표`를 달성하기 위해 `환경`과 `상호작용`하며 `의사 결정`을 내리고 `행동`을 취하는 `지능형 개체`로 볼 수 있음**"
   ]
  },
  {
   "cell_type": "markdown",
   "id": "c80cc512",
   "metadata": {},
   "source": [
    "---"
   ]
  },
  {
   "cell_type": "markdown",
   "id": "587082c6",
   "metadata": {},
   "source": [
    "* **`주요 특징`**\n",
    "\n",
    "  * **`자율성`**: `사전`에 `정의된 규칙`이나 명시적인 `프로그래밍 ❌` **→ `스스로 결정`을 내리고 `행동`**\n",
    "\n",
    "  * **`목표 지향성`**: `특정 목표` or `작업`을 `달성`하기 위해 **`설계`**\n",
    "\n",
    "  * **`환경 인식`**: `주변 환경` or `상황`을 `인식` **→ 이에 따라 `적응`**\n",
    "\n",
    "  * **`도구 사용`**: `다양한 도구` or `API` 활용 **→ 작업 수행**\n",
    "\n",
    "  * **`연속성`**: `주어진 목표`를 `달성`하기 위하여 1회 수행 ❌ → **`반복 수행` → `목표 달성` 추구**"
   ]
  },
  {
   "cell_type": "markdown",
   "id": "a7c8d745",
   "metadata": {},
   "source": [
    "---"
   ]
  },
  {
   "cell_type": "markdown",
   "id": "219f5f1d",
   "metadata": {},
   "source": [
    "* **`LangChain에서의 Evaluation`** \n",
    "\n",
    "  * *`LangChain`은 `LLM`의 애플리케이션의 평가를 위한 다양한 도구와 프레임워크를 제공함*\n",
    "\n",
    "    * **`모듈화된 평가 컴포넌트`**: 다양한 평가방법 쉽게 구현 및 조합 가능\n",
    "\n",
    "    * **`Chain 평가`**: 전체 `LLM` 애플리케이션 파이프라인 평가\n",
    "\n",
    "    * **`데이터셋 기반 평가`**: 사용자 정의 데이터셋 사용 → 모델 평가\n",
    "\n",
    "    * **`평가 자표`**: 정확성, 일관성, 관련성 등 다양한 지료 제공"
   ]
  },
  {
   "cell_type": "markdown",
   "id": "4512cf84",
   "metadata": {},
   "source": [
    "---"
   ]
  },
  {
   "cell_type": "markdown",
   "id": "5633eef2",
   "metadata": {},
   "source": [
    "* **`LangChain에`서의 `에이전트`**\n",
    "\n",
    "  * **`Agent`**: **`의사 결정`을 `담당`하는 `핵심 컴포넌트`**\n",
    "\n",
    "  * **`Tools`**: **`에이전트`가 `사용`할 수 있는 `기능`들의 `집합`**\n",
    "\n",
    "  * **`Toolkits`**: **`관련된 도구`들의 `그룹`**\n",
    "\n",
    "  * **`AgentExecutor`**: **`에이전트`의 `실행`을 `관리`하는 `컴포넌트`**"
   ]
  },
  {
   "cell_type": "markdown",
   "id": "edad7d33",
   "metadata": {},
   "source": [
    "---"
   ]
  },
  {
   "cell_type": "markdown",
   "id": "ae144b7b",
   "metadata": {},
   "source": [
    "* **`에이전트`의 `작동 방식`**\n",
    "\n",
    "  * **`입력 수신`**: 사용자로부터 `작업` or  `질문` 받기\n",
    "\n",
    "  * **`계획 수립`**: `주어진 작업`을 `완료`하기 위한 `단계별 계획` 세우기\n",
    "\n",
    "  * **`도구 선택`**: `각 단계`에 `적합한 도구 선택`하기\n",
    "\n",
    "  * **`실행`**: `선택한 도구` 사용 → `작업 수행`\n",
    "\n",
    "  * **`결과 평가`**: `수행 결과` `평가` → `필요시 계획을 조정`\n",
    "\n",
    "  * **`출력 생성`**: `최종 결과` or `답변`을 `사용자`에게 `제공`"
   ]
  },
  {
   "cell_type": "markdown",
   "id": "fe64470e",
   "metadata": {},
   "source": [
    "---"
   ]
  },
  {
   "cell_type": "markdown",
   "id": "4c8c3b71",
   "metadata": {},
   "source": [
    "* **`활용 사례`**\n",
    "\n",
    "  * **`정보 검색` 및 `분석`**: `웹 검색`, `데이터베이스 쿼리` 등을 수행\n",
    "\n",
    "  * **`작업 자동화`**: `복잡한 워크플오우` → `자동`으로 처리\n",
    "\n",
    "  * **`고객 서비스`**: `질문`에 `답변` → `문제`를 `해결`\n",
    "\n",
    "  * **`의사 결정 지원`**: `데이터 분석` → `권장 사항 제공`\n",
    "\n",
    "  * **`창의적 작업`**: `글쓰기`, `코드 생성` 등의 **`창의적 작업` 수행**"
   ]
  },
  {
   "cell_type": "markdown",
   "id": "f233a1e0",
   "metadata": {},
   "source": [
    "---"
   ]
  },
  {
   "cell_type": "markdown",
   "id": "1d26a18d",
   "metadata": {},
   "source": [
    "* **`장점, 한계`**\n",
    "\n",
    "  * **장점**\n",
    "\n",
    "    * 복잡한 작업의 자동화\n",
    "\n",
    "    * 유연성, 적응성\n",
    "\n",
    "    * 다양한 도구와의 통합 가능성\n",
    "\n",
    "  * **한계**\n",
    "\n",
    "    * 제어, 예측 가능성의 어려움\n",
    "\n",
    "    * 계산 비욕, 리소스 요구 사항"
   ]
  },
  {
   "cell_type": "markdown",
   "id": "05ead82c",
   "metadata": {},
   "source": [
    "* `Agent`\n",
    "\n",
    "  * *`LangChain`, `LLM app`에서 강력한 도구 → 인공지능 시스템의 `자율성`, `문제 해결 능력`을 크게 향상 → 지속적 연구, 개발 → `Agent`의 능력, 응용 분야는 계속해서 확장될 것임*"
   ]
  },
  {
   "cell_type": "markdown",
   "id": "a84487e3",
   "metadata": {},
   "source": [
    "---"
   ]
  },
  {
   "cell_type": "markdown",
   "id": "fb18b49c",
   "metadata": {},
   "source": [
    "### **1. `도구`** *(Tools)*"
   ]
  },
  {
   "cell_type": "markdown",
   "id": "5f936725",
   "metadata": {},
   "source": [
    "#### **1) `도구`** *(Tools)*"
   ]
  },
  {
   "cell_type": "markdown",
   "id": "db6ede17",
   "metadata": {},
   "source": [
    "* **Tools = `에이전트`, `체인` 또는 `LLM`이 외부 세계와 `상호작용`하기 위한 `인터페이스`**\n",
    "\n",
    "* 방법\n",
    "\n",
    "  * **a. `LangChain`에서 `기본 제공`하는 `도구` 사용** → 쉽게 도구를 활용할 수 있음 \n",
    "\n",
    "  * **b. `사용자 정의 도구` (Custom Tool)** 를 쉽게 구축하는 것도 가능\n",
    "\n",
    "* 참고\n",
    "\n",
    "  * [**`LangChain 통합 도구 리스트`**](https://docs.langchain.com/oss/python/langchain/overview)"
   ]
  },
  {
   "cell_type": "markdown",
   "id": "6dd6b318",
   "metadata": {},
   "source": [
    "* 사전에 `VS Code` 터미널에 설치할 것\n",
    "\n",
    "```bash\n",
    "\n",
    "        pip install -qU ragas\n",
    "\n",
    "```"
   ]
  },
  {
   "cell_type": "markdown",
   "id": "716fbfa2",
   "metadata": {},
   "source": [
    "---"
   ]
  },
  {
   "cell_type": "markdown",
   "id": "d763fc98",
   "metadata": {},
   "source": [
    "* **`환경설정`**"
   ]
  },
  {
   "cell_type": "code",
   "execution_count": null,
   "id": "e1ca9302",
   "metadata": {},
   "outputs": [],
   "source": [
    "# API 키를 환경변수로 관리하기 위한 설정 파일\n",
    "from dotenv import load_dotenv\n",
    "\n",
    "# API 키 정보 로드\n",
    "load_dotenv()                           # True"
   ]
  },
  {
   "cell_type": "code",
   "execution_count": null,
   "id": "80ef86f8",
   "metadata": {},
   "outputs": [],
   "source": [
    "from langsmith import Client\n",
    "from langsmith import traceable\n",
    "\n",
    "import os\n",
    "\n",
    "# LangSmith 환경 변수 확인\n",
    "\n",
    "print(\"\\n--- LangSmith 환경 변수 확인 ---\")\n",
    "langchain_tracing_v2 = os.getenv('LANGCHAIN_TRACING_V2')\n",
    "langchain_project = os.getenv('LANGCHAIN_PROJECT')\n",
    "langchain_api_key_status = \"설정됨\" if os.getenv('LANGCHAIN_API_KEY') else \"설정되지 않음\" # API 키 값은 직접 출력하지 않음\n",
    "\n",
    "if langchain_tracing_v2 == \"true\" and os.getenv('LANGCHAIN_API_KEY') and langchain_project:\n",
    "    print(f\"✅ LangSmith 추적 활성화됨 (LANGCHAIN_TRACING_V2='{langchain_tracing_v2}')\")\n",
    "    print(f\"✅ LangSmith 프로젝트: '{langchain_project}'\")\n",
    "    print(f\"✅ LangSmith API Key: {langchain_api_key_status}\")\n",
    "    print(\"  -> 이제 LangSmith 대시보드에서 이 프로젝트를 확인해 보세요.\")\n",
    "else:\n",
    "    print(\"❌ LangSmith 추적이 완전히 활성화되지 않았습니다. 다음을 확인하세요:\")\n",
    "    if langchain_tracing_v2 != \"true\":\n",
    "        print(f\"  - LANGCHAIN_TRACING_V2가 'true'로 설정되어 있지 않습니다 (현재: '{langchain_tracing_v2}').\")\n",
    "    if not os.getenv('LANGCHAIN_API_KEY'):\n",
    "        print(\"  - LANGCHAIN_API_KEY가 설정되어 있지 않습니다.\")\n",
    "    if not langchain_project:\n",
    "        print(\"  - LANGCHAIN_PROJECT가 설정되어 있지 않습니다.\")"
   ]
  },
  {
   "cell_type": "markdown",
   "id": "0f14d715",
   "metadata": {},
   "source": [
    "<small>\n",
    "\n",
    "* 셀 출력\n",
    "\n",
    "    ```bash\n",
    "    --- LangSmith 환경 변수 확인 ---\n",
    "    ✅ LangSmith 추적 활성화됨 (LANGCHAIN_TRACING_V2='true')\n",
    "    ✅ LangSmith 프로젝트: 'LangChain-prantice'\n",
    "    ✅ LangSmith API Key: 설정됨\n",
    "    -> 이제 LangSmith 대시보드에서 이 프로젝트를 확인해 보세요.\n",
    "    ```"
   ]
  },
  {
   "cell_type": "code",
   "execution_count": null,
   "id": "3a9135f5",
   "metadata": {},
   "outputs": [],
   "source": [
    "# ========================================\n",
    "# 경고 메시지 무시\n",
    "# ========================================\n",
    "import os\n",
    "os.environ['TOKENIZERS_PARALLELISM'] = 'false'"
   ]
  },
  {
   "cell_type": "markdown",
   "id": "7e618ebf",
   "metadata": {},
   "source": [
    "---"
   ]
  },
  {
   "cell_type": "markdown",
   "id": "046abb29",
   "metadata": {},
   "source": [
    "#### **2) `빌트인 도구`** *(built-in tools)*"
   ]
  },
  {
   "cell_type": "markdown",
   "id": "c7c0dfbb",
   "metadata": {},
   "source": [
    "* `랭체인`에서 제공하는 **`사전`에 `정의된 도구`(tool)** 와 **`툴킷`(toolkit)** 을 사용할 수 있음\n",
    "\n",
    "  * **`tool`** = `단일 도구`\n",
    "\n",
    "  * **`toolkit`** = `여러 도구`를 `묶어서` `하나의 도구`로 `사용`할 수 있음\n",
    "\n",
    "* 참고: \n",
    "\n",
    "  * [**`LangChain Tools/Toolkits`**](https://docs.langchain.com/oss/python/langchain/overview)\n",
    "\n",
    "  * [langchin tools/toolkits - old vers](https://python.langchain.com/docs/integrations/tools/)"
   ]
  },
  {
   "cell_type": "markdown",
   "id": "61272fdd",
   "metadata": {},
   "source": [
    "---"
   ]
  },
  {
   "cell_type": "markdown",
   "id": "f9719d0c",
   "metadata": {},
   "source": [
    "#### **3) `Python REPL 도구`**"
   ]
  },
  {
   "cell_type": "markdown",
   "id": "f386424b",
   "metadata": {},
   "source": [
    "* Python 코드를 **`REPL`** *(Read-Eval-Print Loop)* 환경에서 실행하기 위한 클래스 제공\n",
    "\n",
    "  * 참고\n",
    "\n",
    "  * [구 링크](https://python.langchain.com/api_reference/experimental/tools/langchain_experimental.tools.python.tool.PythonREPLTool.html)\n",
    "\n",
    "  * [**`ver.1.0.`**](https://docs.langchain.com/oss/python/langchain/tools)\n",
    "\n",
    "<br>\n",
    "\n",
    "* **설명**\n",
    "\n",
    "  * Python 셀 환경 제공\n",
    "\n",
    "  * 유효한 Python 명령어를 입력으로 받아 실행\n",
    "\n",
    "  * `print()`함수 → 결과 출력\n",
    "\n",
    "<br>\n",
    "\n",
    "* **주요 특징**\n",
    "\n",
    "  * `sanitize_input`: 입력 정제 옵션 *(기본값 = True)*\n",
    "\n",
    "  * `python_repl`: PythonREPL 인스턴스 *(기본값 = 전역 범위에서 실행)*\n",
    "\n",
    "<br>\n",
    "\n",
    "* **사용 방법**\n",
    "\n",
    "  * `PythonREPLTool` 인스턴스 생성\n",
    "\n",
    "  * `run` or `arun`, `invoke` 메서드 사용 → Python 코드 실행\n",
    "\n",
    "<br>\n",
    "\n",
    "* **입력 정제**\n",
    "\n",
    "  * 입력 문자열에서 불필요한 `공백`, `백틱`, `'python'` 키워드 등을 제거함"
   ]
  },
  {
   "cell_type": "markdown",
   "id": "98dbece1",
   "metadata": {},
   "source": [
    "---"
   ]
  },
  {
   "cell_type": "code",
   "execution_count": null,
   "id": "d3974c1b",
   "metadata": {},
   "outputs": [],
   "source": [
    "# 파이썬 코드 실행 → 결과 반환하기\n",
    "print(python_tool.invoke(\"print(100 + 200)\"))"
   ]
  },
  {
   "cell_type": "markdown",
   "id": "e13395b3",
   "metadata": {},
   "source": [
    "<small>\n",
    "\n",
    "* *Python REPL can execute arbitrary code. Use with caution.*\n",
    "\n",
    "* 300"
   ]
  },
  {
   "cell_type": "markdown",
   "id": "ca804860",
   "metadata": {},
   "source": [
    "---"
   ]
  },
  {
   "cell_type": "markdown",
   "id": "40361246",
   "metadata": {},
   "source": [
    "* **흐름 정리**\n",
    "\n",
    "  * `LLM` 모델에게 특정 작업을 수행하는 `Python` 코드를 작성하도록 요청\n",
    "\n",
    "  * 작성된 코드 실행 → 결과 얻기\n",
    "\n",
    "  * 결과 출력하기"
   ]
  },
  {
   "cell_type": "markdown",
   "id": "9440a7ee",
   "metadata": {},
   "source": [
    "---"
   ]
  },
  {
   "cell_type": "markdown",
   "id": "0c04b86b",
   "metadata": {},
   "source": [
    "#### **4) `검색 API 도구`**"
   ]
  },
  {
   "cell_type": "markdown",
   "id": "dfc6ef45",
   "metadata": {},
   "source": [
    "##### **`➀ 검색 도구`**"
   ]
  },
  {
   "cell_type": "markdown",
   "id": "d7705179",
   "metadata": {},
   "source": [
    "* **`검색 API 도구`**\n",
    "\n",
    "  * Tavily 검색 API 활용 → 검색 기능 구현하는 도구\n",
    "\n",
    "    * **a. `TavilySearchResults`**\n",
    "\n",
    "    * **b. `TavilyAnswer`**\n",
    "\n",
    "<br>\n",
    "\n",
    "* \n",
    "  * **API 키 발급**: [API 키 발급 링크](https://app.tavily.com/)\n",
    "\n",
    "    * `.env` 파일에 환경변수로 설정하기\n",
    "\n",
    "```bash\n",
    "\n",
    "                    TAVILY_API_KEY=tvly-abc...\n",
    "\n",
    "```"
   ]
  },
  {
   "cell_type": "markdown",
   "id": "74b2626c",
   "metadata": {},
   "source": [
    "##### **`➁ Tavily Search Results`**"
   ]
  },
  {
   "cell_type": "markdown",
   "id": "a0a52a72",
   "metadata": {},
   "source": [
    "* **`설명`**\n",
    "\n",
    "  * `Tavily 검색 API` 쿼리 → **`JSON 형식`의 `결과` 반환**\n",
    "\n",
    "  * `포괄적`이고 `정확`하며 `신뢰`할 수 있는 `결과`에 `최적화`된 `검색 엔진`\n",
    "\n",
    "  * `현재 이벤트`에 대한 `질문`에 `답변`할 때 `유용`"
   ]
  },
  {
   "cell_type": "markdown",
   "id": "cae038de",
   "metadata": {},
   "source": [
    "* **`주요 매개변수`**\n",
    "\n",
    "  * **`max_results`** *(int)*: 반환할 `최대 검색 결과 수` *(기본값 = 5)*\n",
    "  * **`search_depth`** *(str)*: `검색 깊이` *(`\"basic\"` 또는 `\"advanced\"`)*\n",
    "  * **`include_domains`** *(List[str])*: 검색 결과에 `포함`할 도메인 목록\n",
    "  * **`exclude_domains`** *(List[str])*: 검색 결과에서 `제외`할 도메인 목록\n",
    "  * **`include_answer`** *(bool)*: 원본 쿼리에 대한 `짧은 답변 포함 여부`\n",
    "  * **`include_raw_content`** *(bool)*: 각 사이트의 `정제된 HTML 콘텐츠 포함 여부`\n",
    "  * **`include_images`** *(bool)*: 쿼리 관련 `이미지 목록 포함 여부`"
   ]
  },
  {
   "cell_type": "markdown",
   "id": "b2d5ee59",
   "metadata": {},
   "source": [
    "* **`반환 값`**\n",
    "\n",
    "  * 검색 결과를 포함하는 **`JSON` 형식의 `문자열`**: *`url`, `content`*"
   ]
  },
  {
   "cell_type": "markdown",
   "id": "21127cdd",
   "metadata": {},
   "source": [
    "---"
   ]
  },
  {
   "cell_type": "code",
   "execution_count": null,
   "id": "a770d4bf",
   "metadata": {},
   "outputs": [],
   "source": [
    "# -----------------------------------------------------------\n",
    "# 1. 환경 설정 및 API 키 로드\n",
    "# -----------------------------------------------------------\n",
    "\n",
    "from dotenv import load_dotenv\n",
    "\n",
    "load_dotenv()\n",
    "\n",
    "import warnings\n",
    "warnings.filterwarnings(\"ignore\")\n",
    "\n",
    "print(\"환경 설정 및 라이브러리 로드 완료.\")"
   ]
  },
  {
   "cell_type": "code",
   "execution_count": null,
   "id": "8fb0a1d5",
   "metadata": {},
   "outputs": [],
   "source": [
    "# -----------------------------------------------------------\n",
    "# 2. 도구(Tools) 정의\n",
    "# -----------------------------------------------------------\n",
    "from langchain_experimental.tools import PythonREPLTool\n",
    "from langchain_community.tools.tavily_search import TavilySearchResults\n",
    "from langchain_core.tools import Tool\n",
    "# LCEL 체인 구성에 필요한 임포트\n",
    "from langchain_google_genai import ChatGoogleGenerativeAI\n",
    "from langchain_core.prompts import ChatPromptTemplate\n",
    "from langchain_core.messages import HumanMessage, ToolMessage, SystemMessage"
   ]
  },
  {
   "cell_type": "code",
   "execution_count": null,
   "id": "59c9ba0e",
   "metadata": {},
   "outputs": [],
   "source": [
    "# 2-1. Python REPL 도구 초기화 및 래핑 (***오류 수정 부분***)\n",
    "# 1. PythonREPLTool 객체 생성\n",
    "python_repl = PythonREPLTool() "
   ]
  },
  {
   "cell_type": "code",
   "execution_count": null,
   "id": "45be0c42",
   "metadata": {},
   "outputs": [],
   "source": [
    "# 2. Tool 객체로 래핑\n",
    "python_repl_tool = Tool(\n",
    "    name=python_repl.name,\n",
    "    description=python_repl.description,\n",
    "    func=python_repl.run,\n",
    ")\n",
    "print(f\"Python REPL 도구 이름: {python_repl_tool.name}\")"
   ]
  },
  {
   "cell_type": "markdown",
   "id": "22d33492",
   "metadata": {},
   "source": [
    "<small>\n",
    "\n",
    "* `Python REPL` 도구 이름: `Python_REPL`"
   ]
  },
  {
   "cell_type": "code",
   "execution_count": null,
   "id": "ea90ece4",
   "metadata": {},
   "outputs": [],
   "source": [
    "# 2-2. Tavily 검색 도구 초기화 및 래핑\n",
    "\n",
    "# ➀ TavilySearchResults 객체 생성\n",
    "tavily_search = TavilySearchResults(\n",
    "    max_results=5,\n",
    "    include_answer=True,\n",
    "    search_depth=\"advanced\"\n",
    ")\n",
    "\n",
    "# ➁ Tool 객체로 래핑\n",
    "tavily_tool = Tool(\n",
    "    name=tavily_search.name,\n",
    "    description=tavily_search.description,\n",
    "    func=tavily_search.run,\n",
    ")\n",
    "\n",
    "print(f\"Tavily 검색 도구 이름: {tavily_tool.name}\")"
   ]
  },
  {
   "cell_type": "markdown",
   "id": "2e8ecb93",
   "metadata": {},
   "source": [
    "<small>\n",
    "\n",
    "* Tavily 검색 도구 이름: `tavily_search_results_json`"
   ]
  },
  {
   "cell_type": "code",
   "execution_count": null,
   "id": "bc731287",
   "metadata": {},
   "outputs": [],
   "source": [
    "# -----------------------------------------------------------\n",
    "# 3. Gemini LLM 및 LCEL 체인 설정\n",
    "# -----------------------------------------------------------\n",
    "\n",
    "# 3-1. LLM 모델 초기화\n",
    "import os\n",
    "\n",
    "tools = [python_repl_tool, tavily_tool]\n",
    "\n",
    "llm = ChatGoogleGenerativeAI(\n",
    "    model=\"gemini-2.5-flash\", \n",
    "    temperature=0,\n",
    "    google_api_key=os.getenv(\"GOOGLE_API_KEY\"))\n",
    "\n",
    "# LLM에 도구 정보를 바인딩\n",
    "llm_with_tools = llm.bind_tools(tools)\n",
    "\n",
    "print(f\"LLM 모델 초기화 및 도구 바인딩 완료: {llm.model}\")"
   ]
  },
  {
   "cell_type": "code",
   "execution_count": null,
   "id": "c378706e",
   "metadata": {},
   "outputs": [],
   "source": [
    "# 3-2. 프롬프트 정의\n",
    "prompt = ChatPromptTemplate.from_messages(\n",
    "    [\n",
    "        SystemMessage(\n",
    "            content=(\n",
    "                \"You are a helpful and powerful AI assistant named Gemini. \"\n",
    "                \"You have access to the following tools: {tool_names}. \"\n",
    "                \"You should use them when appropriate.\"\n",
    "            )\n",
    "        ),\n",
    "        (\"human\", \"{input}\"),\n",
    "    ]\n",
    ")"
   ]
  },
  {
   "cell_type": "code",
   "execution_count": null,
   "id": "1ba26019",
   "metadata": {},
   "outputs": [],
   "source": [
    "# 3-3. 도구 호출 및 실행을 처리하는 함수\n",
    "def _handle_tool_calls(model_output):\n",
    "    \"\"\"모델 출력에서 도구 호출을 확인하고 실행합니다. (인수 전달 로직 개선)\"\"\"\n",
    "    \n",
    "    if not model_output.tool_calls:\n",
    "        return model_output.content\n",
    "    \n",
    "    tool_messages = []\n",
    "    \n",
    "    for tool_call in model_output.tool_calls:\n",
    "        tool_name = tool_call[\"name\"]\n",
    "        tool_args = tool_call[\"args\"]\n",
    "        tool_call_id = tool_call[\"id\"]\n",
    "        \n",
    "        print(f\"\\n[Tool Call] 도구 이름: {tool_name}, 인수: {tool_args}\")\n",
    "        \n",
    "        tool_to_run = next(\n",
    "            (tool for tool in tools if tool.name == tool_name), None\n",
    "        )\n",
    "        \n",
    "        if tool_to_run:\n",
    "            try:\n",
    "                # TavilySearch는 Tool 객체로 래핑되었을 때, .run이 쿼리 문자열을 기대함\n",
    "                if tool_name == \"tavily_search_results_json\":\n",
    "                    # TavilyResultsTool의 run 메서드는 'query' 인수를 기대\n",
    "                    result = tool_to_run.func(tool_args.get(\"query\"))\n",
    "                # Python REPL 도구는 'code' 인수를 기대\n",
    "                elif tool_name == \"python_repl_tool\":\n",
    "                    # PythonREPLTool의 run 메서드는 'code' 인수를 기대\n",
    "                    result = tool_to_run.func(tool_args.get(\"code\"))\n",
    "                else:\n",
    "                    # 기타 도구는 args 전체를 전달 (이는 도구 정의에 따라 달라질 수 있음)\n",
    "                    result = tool_to_run.func(**tool_args)\n",
    "\n",
    "            except Exception as e:\n",
    "                result = f\"Error executing tool {tool_name}: {e}\"\n",
    "            \n",
    "            tool_messages.append(\n",
    "                ToolMessage(\n",
    "                    content=str(result),\n",
    "                    tool_call_id=tool_call_id,\n",
    "                )\n",
    "            )\n",
    "        else:\n",
    "            tool_messages.append(\n",
    "                ToolMessage(\n",
    "                    content=f\"Error: Tool '{tool_name}' not found.\",\n",
    "                    tool_call_id=tool_call_id,\n",
    "                )\n",
    "            )\n",
    "\n",
    "    return [model_output] + tool_messages"
   ]
  },
  {
   "cell_type": "code",
   "execution_count": null,
   "id": "907a5f89",
   "metadata": {},
   "outputs": [],
   "source": [
    "# 3-4. LCEL 기반 체인 구성\n",
    "\n",
    "def tool_calling_chain(input_text):\n",
    "    \"\"\"사용자 입력에 대해 도구 호출을 반복적으로 처리하는 체인입니다.\"\"\"\n",
    "    \n",
    "    tool_names = \", \".join([tool.name for tool in tools])\n",
    "\n",
    "    full_chain = prompt | llm_with_tools\n",
    "    \n",
    "    first_response = full_chain.invoke({\"input\": input_text, \"tool_names\": tool_names})\n",
    "    \n",
    "    # 도구 호출이 없다면 여기서 종료\n",
    "    if not first_response.tool_calls:\n",
    "        return {\"output\": first_response.content}\n",
    "    \n",
    "    current_messages = [\n",
    "        HumanMessage(content=input_text),\n",
    "        first_response,\n",
    "    ]\n",
    "    \n",
    "    # 최대 2회 추가 반복 (총 3단계)\n",
    "    for _ in range(2):\n",
    "        tool_messages = _handle_tool_calls(current_messages[-1])\n",
    "        \n",
    "        current_messages.extend(tool_messages)\n",
    "        \n",
    "        next_response = llm_with_tools.invoke(current_messages)\n",
    "        \n",
    "        current_messages.append(next_response)\n",
    "        \n",
    "        # 만약 다음 응답이 최종 응답이라면 (도구 호출이 없다면) 종료\n",
    "        if not next_response.tool_calls:\n",
    "            # 최종 응답이 빈 문자열일 경우, AI 메시지 객체 자체를 반환하기\n",
    "            return {\"output\": next_response.content if next_response.content else str(next_response)}\n",
    "\n",
    "    # 최대 반복 횟수를 초과하면, 마지막 LLM 응답을 반환하기\n",
    "    return {\"output\": current_messages[-1].content if current_messages[-1].content else str(current_messages[-1])}"
   ]
  },
  {
   "cell_type": "code",
   "execution_count": null,
   "id": "391c7fd4",
   "metadata": {},
   "outputs": [],
   "source": [
    "# -----------------------------------------------------------\n",
    "# 4. 에이전트 실행 테스트_1.1\n",
    "# -----------------------------------------------------------\n",
    "\n",
    "print(\"\\n\" + \"=\"*50)\n",
    "print(\"TEST 1: Python REPL 도구 사용 (코드 실행)\")\n",
    "print(\"=\"*50)\n",
    "\n",
    "result_code = tool_calling_chain(\"파이썬으로 12345와 67890을 곱한 결과를 계산해 줘.\")\n",
    "print(f\"\\n[Gemini 최종 응답]: {result_code['output']}\")"
   ]
  },
  {
   "cell_type": "markdown",
   "id": "ccf3f33d",
   "metadata": {},
   "source": [
    "<small>\n",
    "\n",
    "* **`test_1`** - (`5.6s`)\n",
    "\n",
    "```bash\n",
    "\n",
    "    ==================================================\n",
    "    TEST 1: Python REPL 도구 사용 (코드 실행)\n",
    "    ==================================================\n",
    "\n",
    "    [Tool Call] 도구 이름: Python_REPL, 인수: {'__arg1': 'print(12345 * 67890)'}\n",
    "\n",
    "    [Tool Call] 도구 이름: Python_REPL, 인수: {'__arg1': 'print(12345 * 67890)'}\n",
    "\n",
    "    [Gemini 최종 응답]: content='' additional_kwargs={'function_call': {'name': 'Python_REPL', 'arguments': '{\"__arg1\": \"print(12345 * 67890)\"}'}} response_metadata={'prompt_feedback': {'block_reason': 0, 'safety_ratings': []}, 'finish_reason': 'STOP', 'model_name': 'gemini-2.5-flash', 'safety_ratings': []} id='lc_run--428f665a-aa29-4407-90a4-bcf60cc8a90f-0' tool_calls=[{'name': 'Python_REPL', 'args': {'__arg1': 'print(12345 * 67890)'}, 'id': '2b04b505-344e-4183-b8d3-14abf9795b52', 'type': 'tool_call'}] usage_metadata={'input_tokens': 457, 'output_tokens': 151, 'total_tokens': 608, 'input_token_details': {'cache_read': 0}, 'output_token_details': {'reasoning': 121}}\n",
    "\n",
    "```"
   ]
  },
  {
   "cell_type": "code",
   "execution_count": null,
   "id": "53ecd578",
   "metadata": {},
   "outputs": [],
   "source": [
    "# -----------------------------------------------------------\n",
    "# 4. 에이전트 실행 테스트_1.2\n",
    "# -----------------------------------------------------------\n",
    "print(\"\\n\" + \"=\"*50)\n",
    "print(\"TEST 5: Python REPL 도구 사용 (대규모 리스트 처리)\")\n",
    "print(\"=\"*50)\n",
    "\n",
    "# Python REPL을 유도하는 질문 (복잡한 데이터 처리)\n",
    "result_repl_2 = tool_calling_chain(\"다음 리스트 [389, 452, 102, 578, 931, 224, 765] 의 모든 값들을 더한 합계에 3을 곱한 결과는 얼마야?\")\n",
    "print(f\"\\n[Gemini 최종 응답]: {result_repl_2['output']}\")"
   ]
  },
  {
   "cell_type": "markdown",
   "id": "e3282004",
   "metadata": {},
   "source": [
    "<small>\n",
    "\n",
    "* **`test_1.2`** - (`5.9s`)\n",
    "\n",
    "```bash\n",
    "\n",
    "    ==================================================\n",
    "    TEST 5: Python REPL 도구 사용 (대규모 리스트 처리)\n",
    "    ==================================================\n",
    "\n",
    "    [Tool Call] 도구 이름: Python_REPL, 인수: {'code': '(389 + 452 + 102 + 578 + 931 + 224 + 765) * 3'}\n",
    "\n",
    "    [Tool Call] 도구 이름: Python_REPL, 인수: {'code': '(389 + 452 + 102 + 578 + 931 + 224 + 765) * 3'}\n",
    "\n",
    "    [Gemini 최종 응답]: content='' additional_kwargs={'function_call': {'name': 'Python_REPL', 'arguments': '{\"code\": \"(389 + 452 + 102 + 578 + 931 + 224 + 765) * 3\"}'}} response_metadata={'prompt_feedback': {'block_reason': 0, 'safety_ratings': []}, 'finish_reason': 'STOP', 'model_name': 'gemini-2.5-flash', 'safety_ratings': []} id='lc_run--38766496-ad05-46fc-bdbf-54e63256ecb3-0' tool_calls=[{'name': 'Python_REPL', 'args': {'code': '(389 + 452 + 102 + 578 + 931 + 224 + 765) * 3'}, 'id': 'f7f03153-f989-4b64-a702-8c90290ab839', 'type': 'tool_call'}] usage_metadata={'input_tokens': 502, 'output_tokens': 117, 'total_tokens': 619, 'input_token_details': {'cache_read': 0}, 'output_token_details': {'reasoning': 65}}\n",
    "\n",
    "```"
   ]
  },
  {
   "cell_type": "code",
   "execution_count": null,
   "id": "48153982",
   "metadata": {},
   "outputs": [],
   "source": [
    "# -----------------------------------------------------------\n",
    "# 4. 에이전트 실행 테스트_2.1\n",
    "# -----------------------------------------------------------\n",
    "\n",
    "print(\"\\n\" + \"=\"*50)\n",
    "print(\"TEST 2: Tavily 검색 및 계산 도구 사용 (복합 질문)\")\n",
    "print(\"=\"*50)\n",
    "\n",
    "result_tavily_1 = tool_calling_chain(\"최근 2년간의 대한민국 인구 증가율이 어떻게 돼? 그리고 그 값에 100을 곱한 결과는 얼마야?\")\n",
    "print(f\"\\n[Gemini 최종 응답]: {result_tavily_1['output']}\")"
   ]
  },
  {
   "cell_type": "markdown",
   "id": "ca876bf7",
   "metadata": {},
   "source": [
    "<small>\n",
    "\n",
    "* **`test_2`** - (`21.4s`)\n",
    "\n",
    "```bash\n",
    "\n",
    "    ==================================================\n",
    "    TEST 2: Tavily 검색 및 계산 도구 사용 (복합 질문)\n",
    "    ==================================================\n",
    "\n",
    "    [Tool Call] 도구 이름: tavily_search_results_json, 인수: {'query': '대한민국 인구 증가율 2022'}\n",
    "\n",
    "    [Tool Call] 도구 이름: tavily_search_results_json, 인수: {'query': '대한민국 인구 증가율 2023'}\n",
    "\n",
    "    [Gemini 최종 응답]: 2022년 대한민국의 인구 증가율은 -0.1%이며, 이 값에 100을 곱하면 -10이 됩니다.\n",
    "    2023년 대한민국의 인구 증가율은 0.2%이며, 이 값에 100을 곱하면 20이 됩니다.\n",
    "\n",
    "```"
   ]
  },
  {
   "cell_type": "code",
   "execution_count": null,
   "id": "0ffe6c5b",
   "metadata": {},
   "outputs": [],
   "source": [
    "# -----------------------------------------------------------\n",
    "# 4. 에이전트 실행 테스트_2.2\n",
    "# -----------------------------------------------------------\n",
    "print(\"\\n\" + \"=\"*50)\n",
    "print(\"TEST 4: Tavily 검색 도구 사용 (최신 정보 확인)\")\n",
    "print(\"=\"*50)\n",
    "\n",
    "# Tavily 검색을 유도하는 질문 (오늘의 이슈)\n",
    "result_tavily_2 = tool_calling_chain(\"오늘(현재 날짜 기준) 전 세계적으로 가장 큰 이슈가 되는 뉴스는 뭐야? 3가지 핵심 내용을 요약해 줘.\")\n",
    "print(f\"\\n[Gemini 최종 응답]: {result_tavily_2['output']}\")"
   ]
  },
  {
   "cell_type": "markdown",
   "id": "4a78b69c",
   "metadata": {},
   "source": [
    "<small>\n",
    "\n",
    "* **`test_2.2`** - (`19.0s`)\n",
    "\n",
    "```bash\n",
    "\n",
    "    ==================================================\n",
    "    TEST 4: Tavily 검색 도구 사용 (최신 정보 확인)\n",
    "    ==================================================\n",
    "\n",
    "    [Tool Call] 도구 이름: tavily_search_results_json, 인수: {'query': '오늘 전 세계적으로 가장 큰 이슈 뉴스'}\n",
    "\n",
    "    [Gemini 최종 응답]: 죄송합니다. 현재 검색된 뉴스 기사들의 날짜가 2025년으로 표시되어 있어, 오늘(현재 날짜 기준)의 가장 큰 전 세계적 이슈를 정확하게 파악하여 요약해 드리기 어렵습니다.\n",
    "\n",
    "    하지만 제공된 검색 결과들을 바탕으로 주요하게 언급되는 국제 이슈들을 정리해 드리자면 다음과 같습니다. (다시 한번 말씀드리지만, 이 정보는 현재 시점의 최신 뉴스가 아닐 수 있습니다.)\n",
    "\n",
    "    1.  **러시아-우크라이나 전쟁 관련 소식:** 러시아와 우크라이나 간의 평화 회담 가능성, 우크라이나의 러시아 원전 등에 대한 대규모 드론 공격, 그리고 트럼프 대통령의 러시아 제재 관련 발언 등이 주요하게 다뤄지고 있습니다.\n",
    "    2.  **미국 정치 및 국제 외교 (특히 트럼프 관련):** 트럼프 대통령의 우크라이나 전쟁 관련 중요 결정 시사, 평화 구상, 그리고 한국과의 자동차 관세 인하 논의 등 미국과 관련된 국제적인 외교 및 경제 이슈들이 언급됩니다.\n",
    "    3.  **중동 지역 분쟁:** 이스라엘의 예멘 수도 사나 에너지 인프라 공습, 팔레스타인 가족 사망 소식 등 중동 지역의 불안정한 상황과 관련된 기사들이 나타납니다.\n",
    "\n",
    "```"
   ]
  },
  {
   "cell_type": "markdown",
   "id": "3266f81f",
   "metadata": {},
   "source": [
    "---"
   ]
  },
  {
   "cell_type": "markdown",
   "id": "564ba992",
   "metadata": {},
   "source": [
    "##### **5) `이미지 생성해보기`**"
   ]
  },
  {
   "cell_type": "code",
   "execution_count": null,
   "id": "23520720",
   "metadata": {},
   "outputs": [],
   "source": [
    "# -----------------------------------------------------------\n",
    "# 1. 환경 설정 및 API 키 로드\n",
    "# -----------------------------------------------------------\n",
    "from dotenv import load_dotenv\n",
    "load_dotenv()\n",
    "\n",
    "import warnings\n",
    "warnings.filterwarnings(\"ignore\")\n",
    "\n",
    "print(\"환경 설정 및 라이브러리 로드 완료\")"
   ]
  },
  {
   "cell_type": "markdown",
   "id": "97be8f6f",
   "metadata": {},
   "source": [
    "<small>\n",
    "\n",
    "* 환경 설정 및 라이브러리 로드 완료"
   ]
  },
  {
   "cell_type": "code",
   "execution_count": null,
   "id": "403dfd53",
   "metadata": {},
   "outputs": [],
   "source": [
    "# -----------------------------------------------------------\n",
    "# 2. 도구(Tools) 정의 (공식 모듈 사용 + 사용자 정의 도구)\n",
    "# -----------------------------------------------------------\n",
    "\n",
    "import os\n",
    "from typing import Dict, Any\n",
    "\n",
    "from langchain_experimental.tools import PythonREPLTool\n",
    "from langchain_community.tools.tavily_search import TavilySearchResults\n",
    "from langchain_core.tools import Tool\n",
    "\n",
    "# LCEL 체인 구성에 필요한 임포트\n",
    "from langchain_google_genai import ChatGoogleGenerativeAI\n",
    "from langchain_core.prompts import ChatPromptTemplate\n",
    "from langchain_core.messages import HumanMessage, ToolMessage, SystemMessage"
   ]
  },
  {
   "cell_type": "code",
   "execution_count": null,
   "id": "128b47a7",
   "metadata": {},
   "outputs": [],
   "source": [
    "# *** LangChain 모듈 오류 회피를 위해 'GoogleImageGenerationTool' 대신\n",
    "# *** 사용자 정의 이미지 생성 도구 구현하기\n",
    "def generate_image_by_imagen(prompt: str, api_key: str = None) -> str:\n",
    "    \"\"\"\n",
    "    Google Imagen 모델을 사용하여 이미지를 생성하고 결과를 반환합니다.\n",
    "    이 함수는 LangChain 모듈 임포트 오류를 우회하기 위한 사용자 정의 도구입니다.\n",
    "    \"\"\"\n",
    "    try:\n",
    "        # langchain_google_genai에 포함된 Image API 사용하기\n",
    "        # 이 함수가 직접 API 키와 프롬프트를 사용하여 이미지 생성 논리 수행하기\n",
    "        from google import genai\n",
    "        \n",
    "        # API 키는 환경 변수에서 가져오는 것이 가장 좋음\n",
    "        # 여기서는 ChatGoogleGenerativeAI가 내부적으로 사용할 수 있도록 API 키를 설정하기\n",
    "        if not api_key:\n",
    "            api_key = os.getenv(\"GOOGLE_API_KEY\")\n",
    "\n",
    "        if not api_key:\n",
    "            return \"ERROR: GOOGLE_API_KEY 환경 변수가 설정되지 않았습니다. 이미지 생성을 위해 키가 필요합니다.\"\n",
    "\n",
    "        client = genai.Client(api_key=api_key)\n",
    "        \n",
    "        print(f\"-> Imagen 모델로 이미지 생성 요청: '{prompt[:50]}...'\")\n",
    "        \n",
    "        # Imagen 모델 호출\n",
    "        result = client.models.generate_images(\n",
    "            model='imagen-3.0-generate-002',\n",
    "            prompt=prompt,\n",
    "            config=dict(\n",
    "                number_of_images=1,\n",
    "                output_mime_type=\"image/jpeg\",\n",
    "                aspect_ratio=\"1:1\"\n",
    "            )\n",
    "        )\n",
    "        \n",
    "        if result.generated_images:\n",
    "            # 생성된 이미지의 URI 또는 기타 유용한 정보를 반환하기\n",
    "            image_uri = result.generated_images[0].uri\n",
    "            \n",
    "            # 사용자에게 이미지가 생성되었고, URI가 반환되었음을 알리는 메시지를 반환\n",
    "            return f\"Image successfully generated. (URI: {image_uri}). Please inform the user that the image has been created and provide the URI.\"\n",
    "        else:\n",
    "            return \"Image generation failed. No images were returned.\"\n",
    "            \n",
    "    except ImportError:\n",
    "        return \"ERROR: google-genai 라이브러리를 임포트할 수 없습니다. 'pip install google-genai'를 실행하세요.\"\n",
    "    except Exception as e:\n",
    "        return f\"ERROR: 이미지 생성 중 오류 발생: {e}\""
   ]
  },
  {
   "cell_type": "code",
   "execution_count": null,
   "id": "7e0d5dea",
   "metadata": {},
   "outputs": [],
   "source": [
    "# 2-1. Python REPL 도구 초기화 및 래핑\n",
    "# 1. PythonREPLTool 객체 생성\n",
    "python_repl = PythonREPLTool() \n",
    "\n",
    "# 2. Tool 객체로 래핑\n",
    "python_repl_tool = Tool(\n",
    "    name=python_repl.name,\n",
    "    description=\"Python 코드를 실행하여 수학적 계산이나 데이터 처리를 수행합니다. 'code' 인수를 사용합니다.\",\n",
    "    func=python_repl.run,\n",
    ")\n",
    "\n",
    "print(f\"Python REPL 도구 이름: {python_repl_tool.name}\")"
   ]
  },
  {
   "cell_type": "code",
   "execution_count": null,
   "id": "bf142d1a",
   "metadata": {},
   "outputs": [],
   "source": [
    "# 2-2. Tavily 검색 도구 초기화 및 래핑\n",
    "# 1. TavilySearchResults 객체 생성\n",
    "tavily_search = TavilySearchResults(\n",
    "    max_results=5,\n",
    "    include_answer=True,\n",
    "    search_depth=\"advanced\"\n",
    ")"
   ]
  },
  {
   "cell_type": "code",
   "execution_count": null,
   "id": "5549fbaf",
   "metadata": {},
   "outputs": [],
   "source": [
    "# 2. Tool 객체로 래핑\n",
    "tavily_tool = Tool(\n",
    "    name=tavily_search.name,\n",
    "    description=\"인터넷에서 최신 정보를 검색할 때 사용합니다. 'query' 인수를 사용합니다.\",\n",
    "    func=tavily_search.run,)\n",
    "print(f\"Tavily 검색 도구 이름: {tavily_tool.name}\")"
   ]
  },
  {
   "cell_type": "markdown",
   "id": "13d0735a",
   "metadata": {},
   "source": [
    "<small>\n",
    "\n",
    "* `Tavily` 검색 도구 이름: `tavily_search_results_json`"
   ]
  },
  {
   "cell_type": "code",
   "execution_count": null,
   "id": "67b640bf",
   "metadata": {},
   "outputs": [],
   "source": [
    "# 2-3. 사용자 정의 Gemini Image Generation 도구 래핑\n",
    "gemini_image_tool = Tool(\n",
    "    name=\"imagen_generator\",                                # 도구 이름을 명시적으로 지정\n",
    "    description=\"주어진 'prompt'를 기반으로 Google Imagen 모델을 사용하여 이미지를 생성합니다.\",\n",
    "    func=generate_image_by_imagen,\n",
    ")\n",
    "print(f\"Gemini 이미지 생성 도구 이름 (사용자 정의): {gemini_image_tool.name}\")"
   ]
  },
  {
   "cell_type": "markdown",
   "id": "ca26c8cc",
   "metadata": {},
   "source": [
    "<small>\n",
    "\n",
    "* `Gemini` 이미지 생성 도구 이름 (사용자 정의): `imagen_generator`"
   ]
  },
  {
   "cell_type": "code",
   "execution_count": null,
   "id": "a4dcf1d0",
   "metadata": {},
   "outputs": [],
   "source": [
    "# -----------------------------------------------------------\n",
    "# 3. Gemini LLM 및 LCEL 체인 설정\n",
    "# -----------------------------------------------------------\n",
    "\n",
    "# 3-1. LLM 모델 초기화\n",
    "# 이미지 생성 도구 (gemini_image_tool) 추가하기\n",
    "tools = [python_repl_tool, tavily_tool, gemini_image_tool]\n",
    "llm2 = ChatGoogleGenerativeAI(model=\"gemini-2.5-flash\", temperature=0.0)\n",
    "\n",
    "# LLM에 도구 정보를 바인딩\n",
    "llm_with_tools = llm2.bind_tools(tools)\n",
    "print(f\"LLM 모델 초기화 및 도구 바인딩 완료: {llm2.model}\")"
   ]
  },
  {
   "cell_type": "markdown",
   "id": "25232b17",
   "metadata": {},
   "source": [
    "<small>\n",
    "\n",
    "* `LLM` 모델 초기화 및 도구 바인딩 완료: `models/gemini-2.5-flash`"
   ]
  },
  {
   "cell_type": "code",
   "execution_count": null,
   "id": "d0622c4d",
   "metadata": {},
   "outputs": [],
   "source": [
    "# 3-2. 프롬프트 정의 (참고 사이트 에이전트 구조를 모방)\n",
    "prompt = ChatPromptTemplate.from_messages(\n",
    "    [\n",
    "        SystemMessage(\n",
    "            content=(\n",
    "                \"You are a helpful and powerful AI assistant named Gemini. \"\n",
    "                \"You have access to the following tools: {tool_names}. \"\n",
    "                \"You should use them when appropriate.\"\n",
    "            )\n",
    "        ),\n",
    "        (\"human\", \"{input}\"),\n",
    "    ]\n",
    ")"
   ]
  },
  {
   "cell_type": "code",
   "execution_count": null,
   "id": "b2c4d0be",
   "metadata": {},
   "outputs": [],
   "source": [
    "# 3-3. 도구 호출 및 실행을 처리하는 함수\n",
    "\n",
    "def _handle_tool_calls(model_output):\n",
    "    \"\"\"모델 출력에서 도구 호출을 확인하고 실행합니다. (인수 전달 로직 개선)\"\"\"\n",
    "    \n",
    "    if not model_output.tool_calls:\n",
    "        return model_output.content\n",
    "    \n",
    "    tool_messages = []\n",
    "    \n",
    "    for tool_call in model_output.tool_calls:\n",
    "        tool_name = tool_call[\"name\"]\n",
    "        tool_args = tool_call[\"args\"]\n",
    "        tool_call_id = tool_call[\"id\"]\n",
    "        \n",
    "        print(f\"\\n[Tool Call] 도구 이름: {tool_name}, 인수: {tool_args}\")\n",
    "        \n",
    "        tool_to_run = next(\n",
    "            (tool for tool in tools if tool.name == tool_name), None\n",
    "        )\n",
    "        \n",
    "        if tool_to_run:\n",
    "            try:\n",
    "                # 사용자 정의 Imagen 도구 처리 (prompt 인수를 기대)\n",
    "                if tool_name == gemini_image_tool.name:\n",
    "                    # 사용자 정의 함수에 필요한 인수를 전달함\n",
    "                    # API 키는 환경 변수에서 가져오므로, 여기서는 prompt만 전달함\n",
    "                    result = tool_to_run.func(prompt=tool_args.get(\"prompt\"))\n",
    "                # TavilySearch 도구 처리 (query 인수를 기대)\n",
    "                elif tool_name == tavily_tool.name:\n",
    "                    # TavilyResultsTool의 run 메서드는 'query' 인수를 기대\n",
    "                    result = tool_to_run.func(tool_args.get(\"query\"))\n",
    "                # Python REPL 도구 처리 (code 인수를 기대)\n",
    "                elif tool_name == python_repl_tool.name:\n",
    "                    # PythonREPLTool의 run 메서드는 'code' 인수를 기대\n",
    "                    result = tool_to_run.func(tool_args.get(\"code\"))\n",
    "                else:\n",
    "                    # 기타 도구는 args 전체를 전달\n",
    "                    result = tool_to_run.func(**tool_args)\n",
    "\n",
    "            except Exception as e:\n",
    "                # API 키 누락 오류 등에 대비\n",
    "                error_message = f\"Error executing tool {tool_name}: {e}\"\n",
    "                if \"api_key\" in str(e).lower() or \"not authorized\" in str(e).lower():\n",
    "                    error_message += \"\\n(Note: GOOGLE_API_KEY 환경 변수가 유효한지 확인하세요.)\"\n",
    "                result = error_message\n",
    "            \n",
    "            tool_messages.append(\n",
    "                ToolMessage(\n",
    "                    content=str(result),\n",
    "                    tool_call_id=tool_call_id,\n",
    "                )\n",
    "            )\n",
    "        else:\n",
    "            tool_messages.append(\n",
    "                ToolMessage(\n",
    "                    content=f\"Error: Tool '{tool_name}' not found.\",\n",
    "                    tool_call_id=tool_call_id,\n",
    "                )\n",
    "            )\n",
    "\n",
    "    return [model_output] + tool_messages"
   ]
  },
  {
   "cell_type": "code",
   "execution_count": null,
   "id": "2b02cabb",
   "metadata": {},
   "outputs": [],
   "source": [
    "# 3-4. LCEL 기반 체인 구성\n",
    "def tool_calling_chain(input_text):\n",
    "    \"\"\"사용자 입력에 대해 도구 호출을 반복적으로 처리하는 체인입니다.\"\"\"\n",
    "    \n",
    "    tool_names = \", \".join([tool.name for tool in tools])\n",
    "\n",
    "    full_chain = prompt | llm_with_tools\n",
    "    \n",
    "    first_response = full_chain.invoke({\"input\": input_text, \"tool_names\": tool_names})\n",
    "    \n",
    "    # 도구 호출이 없다면 여기서 종료\n",
    "    if not first_response.tool_calls:\n",
    "        return {\"output\": first_response.content}\n",
    "    \n",
    "    current_messages = [\n",
    "        HumanMessage(content=input_text),\n",
    "        first_response,\n",
    "    ]\n",
    "    \n",
    "    # 최대 2회 추가 반복 (총 3단계)\n",
    "    for _ in range(2):\n",
    "        \n",
    "        tool_messages = _handle_tool_calls(current_messages[-1])\n",
    "        \n",
    "        current_messages.extend(tool_messages)\n",
    "        \n",
    "        next_response = llm_with_tools.invoke(current_messages)\n",
    "        \n",
    "        current_messages.append(next_response)\n",
    "        \n",
    "        # 만약 다음 응답이 최종 응답이라면 (도구 호출이 없다면) 종료\n",
    "        if not next_response.tool_calls:\n",
    "            # 최종 응답이 빈 문자열일 경우, AI 메시지 객체 자체를 반환함\n",
    "            return {\"output\": next_response.content if next_response.content else str(next_response)}\n",
    "\n",
    "    # 최대 반복 횟수를 초과하면, 마지막 LLM 응답을 반환함\n",
    "    return {\"output\": current_messages[-1].content if current_messages[-1].content else str(current_messages[-1])}"
   ]
  },
  {
   "cell_type": "code",
   "execution_count": null,
   "id": "813a9159",
   "metadata": {},
   "outputs": [],
   "source": [
    "# -----------------------------------------------------------\n",
    "# 4. 에이전트 실행 테스트\n",
    "# -----------------------------------------------------------\n",
    "print(\"\\n\" + \"=\"*50)\n",
    "print(\"TEST 3: 이미지 생성 도구 사용 (Gemini Imagen)\")\n",
    "print(\"=\"*50)\n",
    "\n",
    "# 이미지 생성 도구를 사용하도록 유도하는 질문\n",
    "result_dalle = tool_calling_chain(\"귀여운 아기 고양이가 우주복을 입고 토성 근처에 떠 있는 이미지를 만들어 줘.\")\n",
    "print(f\"\\n[Gemini 최종 응답]: {result_dalle['output']}\")"
   ]
  },
  {
   "cell_type": "markdown",
   "id": "489bdeb3",
   "metadata": {},
   "source": [
    "<small>\n",
    "\n",
    "* **`이미지 생성 시도`** - (`2.7s`)\n",
    "\n",
    "```bash\n",
    "\n",
    "    ==================================================\n",
    "    TEST 3: 이미지 생성 도구 사용 (Gemini Imagen)\n",
    "    ==================================================\n",
    "    Both GOOGLE_API_KEY and GEMINI_API_KEY are set. Using GOOGLE_API_KEY.\n",
    "\n",
    "    [Tool Call] 도구 이름: imagen_generator, 인수: {'prompt': 'A cute baby cat in a spacesuit floating near Saturn.'}\n",
    "    -> Imagen 모델로 이미지 생성 요청: 'A cute baby cat in a spacesuit floating near Satur...'\n",
    "\n",
    "    [Gemini 최종 응답]: 죄송합니다. 현재로서는 이미지 생성 기능을 사용할 수 없습니다.\n",
    "\n",
    "```"
   ]
  },
  {
   "cell_type": "markdown",
   "id": "93befb09",
   "metadata": {},
   "source": [
    "---"
   ]
  },
  {
   "cell_type": "markdown",
   "id": "9a065ba1",
   "metadata": {},
   "source": [
    "* 디버깅"
   ]
  },
  {
   "cell_type": "code",
   "execution_count": null,
   "id": "7037b6cd",
   "metadata": {},
   "outputs": [],
   "source": [
    "# *** LangChain 모듈 오류 회피를 위해 'GoogleImageGenerationTool' 대신\n",
    "# *** 사용자 정의 이미지 생성 도구로 구현해보기\n",
    "def generate_image_by_imagen(prompt: str, api_key: str = None) -> str:\n",
    "    \"\"\"\n",
    "    Google Imagen 모델을 사용하여 이미지를 생성하고 결과를 반환합니다.\n",
    "    이 함수는 LangChain 모듈 임포트 오류를 우회하기 위한 사용자 정의 도구입니다.\n",
    "    \"\"\"\n",
    "    try:\n",
    "        # langchain_google_genai에 포함된 Image API를 사용하기\n",
    "        # 이 함수가 직접 API 키와 프롬프트를 사용하여 이미지 생성 논리를 수행하기\n",
    "        from google import genai\n",
    "        \n",
    "        # API 키는 환경 변수에서 가져오는 것이 가장 좋음\n",
    "        # 여기서는 ChatGoogleGenerativeAI가 내부적으로 사용할 수 있도록 API 키를 설정하기\n",
    "        if not api_key:\n",
    "            api_key = os.getenv(\"GOOGLE_API_KEY\")\n",
    "\n",
    "        if not api_key:\n",
    "            return \"ERROR: GOOGLE_API_KEY 환경 변수가 설정되지 않았습니다. 이미지 생성을 위해 키가 필요합니다.\"\n",
    "\n",
    "        client = genai.Client(api_key=api_key)\n",
    "        \n",
    "        print(f\"-> Imagen 모델로 이미지 생성 요청: '{prompt[:50]}...'\")\n",
    "        \n",
    "        # Imagen 모델 호출\n",
    "        result = client.models.generate_images(\n",
    "            model='imagen-3.0-generate-002',\n",
    "            prompt=prompt,\n",
    "            config=dict(\n",
    "                number_of_images=1,\n",
    "                output_mime_type=\"image/jpeg\",\n",
    "                aspect_ratio=\"1:1\"\n",
    "            )\n",
    "        )\n",
    "        \n",
    "        if result.generated_images:\n",
    "            # 생성된 이미지의 URI 또는 기타 유용한 정보를 반환하기\n",
    "            image_uri = result.generated_images[0].uri\n",
    "            \n",
    "            # 사용자에게 이미지가 생성되었고, URI가 반환되었음을 알리는 메시지를 반환\n",
    "            return f\"Image successfully generated. (URI: {image_uri}). Please inform the user that the image has been created and provide the URI.\"\n",
    "        else:\n",
    "            return \"Image generation failed. No images were returned.\"\n",
    "            \n",
    "    except ImportError:\n",
    "        return \"ERROR: google-genai 라이브러리를 임포트할 수 없습니다. 'pip install google-genai'를 실행하세요.\"\n",
    "    except Exception as e:\n",
    "        # **수정된 부분: API 오류를 더 자세히 출력**\n",
    "        print(f\"\\n[IMAGE GENERATION API ERROR]: {e}\") \n",
    "        return f\"ERROR: 이미지 생성 중 API 오류 발생. 상세 정보는 콘솔을 확인하거나, GOOGLE_API_KEY 및 권한을 확인해 주세요.\""
   ]
  },
  {
   "cell_type": "code",
   "execution_count": null,
   "id": "db2dc83f",
   "metadata": {},
   "outputs": [],
   "source": [
    "# 2-1. Python REPL 도구 초기화 및 래핑\n",
    "# 1. PythonREPLTool 객체 생성\n",
    "python_repl = PythonREPLTool() "
   ]
  },
  {
   "cell_type": "code",
   "execution_count": null,
   "id": "cca05fc9",
   "metadata": {},
   "outputs": [],
   "source": [
    "# 2. Tool 객체로 래핑\n",
    "python_repl_tool = Tool(\n",
    "    name=python_repl.name,\n",
    "    description=\"Python 코드를 실행하여 수학적 계산이나 데이터 처리를 수행합니다. 'code' 인수를 사용합니다.\",\n",
    "    func=python_repl.run, # .run 메서드는 문자열 인수를 받습니다.\n",
    ")\n",
    "print(f\"Python REPL 도구 이름: {python_repl_tool.name}\")"
   ]
  },
  {
   "cell_type": "code",
   "execution_count": null,
   "id": "aaed461d",
   "metadata": {},
   "outputs": [],
   "source": [
    "# 2-2. Tavily 검색 도구 초기화 및 래핑\n",
    "# 1. TavilySearchResults 객체 생성\n",
    "tavily_search = TavilySearchResults(\n",
    "    max_results=5,\n",
    "    include_answer=True,\n",
    "    search_depth=\"advanced\"\n",
    ")\n",
    "# 2. Tool 객체로 래핑\n",
    "tavily_tool = Tool(\n",
    "    name=tavily_search.name,\n",
    "    description=\"인터넷에서 최신 정보를 검색할 때 사용합니다. 'query' 인수를 사용합니다.\",\n",
    "    func=tavily_search.run, # .run 메서드는 문자열 인수를 받습니다.\n",
    ")\n",
    "print(f\"Tavily 검색 도구 이름: {tavily_tool.name}\")\n",
    "\n",
    "# 2-3. 사용자 정의 Gemini Image Generation 도구 래핑\n",
    "gemini_image_tool = Tool(\n",
    "    name=\"imagen_generator\", # 도구 이름을 명시적으로 지정\n",
    "    description=\"주어진 'prompt'를 기반으로 Google Imagen 모델을 사용하여 이미지를 생성합니다.\",\n",
    "    func=generate_image_by_imagen,\n",
    ")\n",
    "print(f\"Gemini 이미지 생성 도구 이름 (사용자 정의): {gemini_image_tool.name}\")"
   ]
  },
  {
   "cell_type": "code",
   "execution_count": null,
   "id": "e01be6e0",
   "metadata": {},
   "outputs": [],
   "source": [
    "# -----------------------------------------------------------\n",
    "# 3. Gemini LLM 및 LCEL 체인 설정\n",
    "# -----------------------------------------------------------\n",
    "\n",
    "# 3-1. LLM 모델 초기화\n",
    "# 이미지 생성 도구 (gemini_image_tool)를 추가하기\n",
    "tools = [python_repl_tool, tavily_tool, gemini_image_tool]\n",
    "llm3 = ChatGoogleGenerativeAI(model=\"gemini-2.5-flash\", temperature=0.0)\n",
    "\n",
    "# LLM에 도구 정보를 바인딩\n",
    "llm_with_tools = llm3.bind_tools(tools)\n",
    "print(f\"LLM 모델 초기화 및 도구 바인딩 완료: {llm3.model}\")"
   ]
  },
  {
   "cell_type": "code",
   "execution_count": null,
   "id": "cb4ef865",
   "metadata": {},
   "outputs": [],
   "source": [
    "# 3-2. 프롬프트 정의 (참고 사이트 에이전트 구조를 모방)\n",
    "prompt = ChatPromptTemplate.from_messages(\n",
    "    [\n",
    "        SystemMessage(\n",
    "            content=(\n",
    "                \"You are a helpful and powerful AI assistant named Gemini. \"\n",
    "                \"You have access to the following tools: {tool_names}. \"\n",
    "                \"You should use them when appropriate.\"\n",
    "            )\n",
    "        ),\n",
    "        (\"human\", \"{input}\"),\n",
    "    ]\n",
    ")"
   ]
  },
  {
   "cell_type": "code",
   "execution_count": null,
   "id": "d5f9098b",
   "metadata": {},
   "outputs": [],
   "source": [
    "# 3-3. 도구 호출 및 실행을 처리하는 함수\n",
    "def _handle_tool_calls(model_output):\n",
    "    \"\"\"모델 출력에서 도구 호출을 확인하고 실행합니다. (인수 전달 로직 개선)\"\"\"\n",
    "    \n",
    "    if not model_output.tool_calls:\n",
    "        return model_output.content\n",
    "    \n",
    "    tool_messages = []\n",
    "    \n",
    "    for tool_call in model_output.tool_calls:\n",
    "        tool_name = tool_call[\"name\"]\n",
    "        tool_args = tool_call[\"args\"]\n",
    "        tool_call_id = tool_call[\"id\"]\n",
    "        \n",
    "        print(f\"\\n[Tool Call] 도구 이름: {tool_name}, 인수: {tool_args}\")\n",
    "        \n",
    "        tool_to_run = next(\n",
    "            (tool for tool in tools if tool.name == tool_name), None\n",
    "        )\n",
    "        \n",
    "        if tool_to_run:\n",
    "            try:\n",
    "                # 사용자 정의 Imagen 도구 처리 (prompt 인수를 기대)\n",
    "                if tool_name == gemini_image_tool.name:\n",
    "                    # 사용자 정의 함수에 필요한 인수를 전달합니다.\n",
    "                    # API 키는 환경 변수에서 가져오므로, 여기서는 prompt만 전달하기\n",
    "                    result = tool_to_run.func(prompt=tool_args.get(\"prompt\"))\n",
    "                # TavilySearch 도구 처리 (query 인수를 기대)\n",
    "                elif tool_name == tavily_tool.name:\n",
    "                    # TavilyResultsTool의 run 메서드는 'query' 인수를 기대\n",
    "                    result = tool_to_run.func(tool_args.get(\"query\"))\n",
    "                # Python REPL 도구 처리 (code 인수를 기대)\n",
    "                elif tool_name == python_repl_tool.name:\n",
    "                    # PythonREPLTool의 run 메서드는 'code' 인수를 기대\n",
    "                    result = tool_to_run.func(tool_args.get(\"code\"))\n",
    "                else:\n",
    "                    # 기타 도구는 args 전체를 전달\n",
    "                    result = tool_to_run.func(**tool_args)\n",
    "\n",
    "            except Exception as e:\n",
    "                # API 키 누락 오류 등에 대비\n",
    "                error_message = f\"Error executing tool {tool_name}: {e}\"\n",
    "                if \"api_key\" in str(e).lower() or \"not authorized\" in str(e).lower():\n",
    "                    error_message += \"\\n(Note: GOOGLE_API_KEY 환경 변수가 유효한지 확인하세요.)\"\n",
    "                result = error_message\n",
    "            \n",
    "            tool_messages.append(\n",
    "                ToolMessage(\n",
    "                    content=str(result),\n",
    "                    tool_call_id=tool_call_id,\n",
    "                )\n",
    "            )\n",
    "        else:\n",
    "            tool_messages.append(\n",
    "                ToolMessage(\n",
    "                    content=f\"Error: Tool '{tool_name}' not found.\",\n",
    "                    tool_call_id=tool_call_id,\n",
    "                )\n",
    "            )\n",
    "    return [model_output] + tool_messages"
   ]
  },
  {
   "cell_type": "code",
   "execution_count": null,
   "id": "6ed65b1c",
   "metadata": {},
   "outputs": [],
   "source": [
    "# 3-4. LCEL 기반 체인 구성\n",
    "def tool_calling_chain(input_text):\n",
    "    \"\"\"사용자 입력에 대해 도구 호출을 반복적으로 처리하는 체인입니다.\"\"\"\n",
    "    \n",
    "    tool_names = \", \".join([tool.name for tool in tools])\n",
    "\n",
    "    full_chain = prompt | llm_with_tools\n",
    "    \n",
    "    first_response = full_chain.invoke({\"input\": input_text, \"tool_names\": tool_names})\n",
    "    \n",
    "    # 도구 호출이 없다면 여기서 종료\n",
    "    if not first_response.tool_calls:\n",
    "        return {\"output\": first_response.content}\n",
    "    \n",
    "    current_messages = [\n",
    "        HumanMessage(content=input_text),\n",
    "        first_response,\n",
    "    ]\n",
    "    \n",
    "    # 최대 2회 추가 반복 (총 3단계)\n",
    "    for _ in range(2):\n",
    "        tool_messages = _handle_tool_calls(current_messages[-1])\n",
    "        \n",
    "        current_messages.extend(tool_messages)\n",
    "        \n",
    "        next_response = llm_with_tools.invoke(current_messages)\n",
    "        \n",
    "        current_messages.append(next_response)\n",
    "        \n",
    "        # 만약 다음 응답이 최종 응답이라면 (도구 호출이 없다면) 종료함\n",
    "        if not next_response.tool_calls:\n",
    "            # 최종 응답이 빈 문자열일 경우, AI 메시지 객체 자체를 반환함\n",
    "            return {\"output\": next_response.content if next_response.content else str(next_response)}\n",
    "    # 최대 반복 횟수를 초과하면, 마지막 LLM 응답을 반환함\n",
    "    return {\"output\": current_messages[-1].content if current_messages[-1].content else str(current_messages[-1])}"
   ]
  },
  {
   "cell_type": "code",
   "execution_count": null,
   "id": "0268e34d",
   "metadata": {},
   "outputs": [],
   "source": [
    "# -----------------------------------------------------------\n",
    "# 4. 에이전트 실행 테스트_2\n",
    "# -----------------------------------------------------------\n",
    "print(\"\\n\" + \"=\"*50)\n",
    "print(\"TEST 3: 이미지 생성 도구 사용 (Gemini Imagen)\")\n",
    "print(\"=\"*50)\n",
    "\n",
    "# 이미지 생성 도구를 사용하도록 유도하는 질문\n",
    "result_dalle = tool_calling_chain(\"귀여운 아기 고양이가 우주복을 입고 토성 근처에 떠 있는 이미지를 만들어 줘.\")\n",
    "print(f\"\\n[Gemini 최종 응답]: {result_dalle['output']}\")"
   ]
  },
  {
   "cell_type": "markdown",
   "id": "d985655a",
   "metadata": {},
   "source": [
    "<small>\n",
    "\n",
    "* **`이미지 생성 시도_2`** - (`5.5s`)\n",
    "\n",
    "```bash\n",
    "\n",
    "    ==================================================\n",
    "    TEST 3: 이미지 생성 도구 사용 (Gemini Imagen)\n",
    "    ==================================================\n",
    "    Both GOOGLE_API_KEY and GEMINI_API_KEY are set. Using GOOGLE_API_KEY.\n",
    "\n",
    "    [Tool Call] 도구 이름: imagen_generator, 인수: {'prompt': '귀여운 아기 고양이가 우주복을 입고 토성 근처에 떠 있는 모습'}\n",
    "    -> Imagen 모델로 이미지 생성 요청: '귀여운 아기 고양이가 우주복을 입고 토성 근처에 떠 있는 모습...'\n",
    "\n",
    "    [IMAGE GENERATION API ERROR]: 400 INVALID_ARGUMENT. {'error': {'code': 400, 'message': 'Imagen API is only accessible to billed users at this time.', 'status': 'INVALID_ARGUMENT'}}\n",
    "\n",
    "    [Gemini 최종 응답]: 죄송합니다. 이미지 생성 중 오류가 발생했습니다. 다시 시도해 주시거나, 나중에 다시 시도해 주세요.\n",
    "\n",
    "```\n",
    "\n",
    "<br>\n",
    "\n",
    "* 해당 이미지 생성 `API` 생성 권한 ❌ → 추후 다시 시도 예정"
   ]
  },
  {
   "cell_type": "markdown",
   "id": "ca2fe4dc",
   "metadata": {},
   "source": [
    "---"
   ]
  },
  {
   "cell_type": "markdown",
   "id": "09795f13",
   "metadata": {},
   "source": [
    "* next: ***`01_Tools_2`***"
   ]
  },
  {
   "cell_type": "markdown",
   "id": "7b71fb18",
   "metadata": {},
   "source": [
    "---"
   ]
  }
 ],
 "metadata": {
  "kernelspec": {
   "display_name": "lc_env",
   "language": "python",
   "name": "python3"
  },
  "language_info": {
   "codemirror_mode": {
    "name": "ipython",
    "version": 3
   },
   "file_extension": ".py",
   "mimetype": "text/x-python",
   "name": "python",
   "nbconvert_exporter": "python",
   "pygments_lexer": "ipython3",
   "version": "3.13.5"
  }
 },
 "nbformat": 4,
 "nbformat_minor": 5
}
