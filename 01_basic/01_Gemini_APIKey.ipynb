{
 "cells": [
  {
   "cell_type": "markdown",
   "metadata": {},
   "source": [
    "## CH01. 02. **GEMINI API Key** 발급 및 설정\n",
    "\n",
    "1. GEMINI API 키 발급\n",
    "\n",
    "  - [GEMINI API 키 발급방법](https://ai.google.dev/gemini-api/docs/quickstart?lang=python&hl=ko) \n",
    "\n",
    "2. `.env` 파일 설정\n",
    "\n",
    "  - 프로젝트 루트 디렉토리에 `.env` 파일을 생성\n",
    "  - 파일에 API 키를 다음 형식으로 저장 : `GOOGLE_API_KEY` 에 발급받은 API KEY 입력\n",
    "  - `.env` 파일에 발급한 API KEY 입력\n"
   ]
  },
  {
   "cell_type": "markdown",
   "metadata": {},
   "source": [
    "#### (1) requirements 설치\n",
    "\n",
    "- LangChain 업데이트\n",
    "  - 교재 안내: `!pip install -r https://raw.githubusercontent.com/teddylee777/langchain-kr/main/requirements.txt`\n",
    "\n",
    "- 터미널에서 설치함 -> `pip install -r requirements.txt`\n"
   ]
  },
  {
   "cell_type": "markdown",
   "metadata": {},
   "source": [
    "#### (2) dotenv 설정 확인"
   ]
  },
  {
   "cell_type": "code",
   "execution_count": null,
   "metadata": {},
   "outputs": [],
   "source": [
    "# API KEY를 환경변수로 관리하기 위한 설정 파일\n",
    "from dotenv import load_dotenv\n",
    "\n",
    "# API KEY 정보로드\n",
    "load_dotenv()               # true"
   ]
  },
  {
   "cell_type": "markdown",
   "metadata": {},
   "source": [
    "#### (3) API Key 설정 확인"
   ]
  },
  {
   "cell_type": "markdown",
   "metadata": {},
   "source": [
    "- `API Key`가 잘 설정되었는지 확인하기\n",
    "- `.env`에서 잘 설정되어 있는 경우\n",
    "    - 앞부분 몇 글자 + 뒷부분은 ***로 마스킹 처리되어 출력됨\n",
    "- `.env`에서 잘 설정되어 있지 않은 경우\n",
    "    - `KeyError : GOOGLE_API_KEY` 와 같은 오류 메시지 발생 -> 프로그램 종료"
   ]
  },
  {
   "cell_type": "code",
   "execution_count": null,
   "metadata": {},
   "outputs": [],
   "source": [
    "import os\n",
    "\n",
    "print(f\"[API KEY]\\n{os.environ['GOOGLE_API_KEY'][:-15]}\" + \"*\" * 15)        # 출력 성공"
   ]
  },
  {
   "cell_type": "markdown",
   "metadata": {},
   "source": [
    "설치된 LangChain 버전을 확인합니다."
   ]
  },
  {
   "cell_type": "code",
   "execution_count": null,
   "metadata": {},
   "outputs": [],
   "source": [
    "from importlib.metadata import version\n",
    "\n",
    "print(\"[LangChain 관련 패키지 버전]\")\n",
    "for package_name in [\n",
    "    \"langchain\",\n",
    "    \"langchain-core\",\n",
    "    \"langchain-experimental\",\n",
    "    \"langchain-community\",\n",
    "    \"langchain-openai\",\n",
    "    \"langchain-teddynote\",\n",
    "    \"langchain-huggingface\",\n",
    "    \"langchain-google-genai\",\n",
    "    \"langchain-anthropic\",\n",
    "    \"langchain-cohere\",\n",
    "    \"langchain-chroma\",\n",
    "    \"langchain-elasticsearch\",\n",
    "    \"langchain-upstage\",\n",
    "    \"langchain-cohere\",\n",
    "    \"langchain-milvus\",\n",
    "    \"langchain-text-splitters\",\n",
    "]:\n",
    "    try:\n",
    "        package_version = version(package_name)\n",
    "        print(f\"{package_name}: {package_version}\")\n",
    "    except ImportError:\n",
    "        print(f\"{package_name}: 설치되지 않음\")"
   ]
  },
  {
   "cell_type": "markdown",
   "metadata": {},
   "source": [
    "<small>\n",
    "\n",
    "* [LangChain 관련 패키지 버전]\n",
    "    * langchain: 0.3.21\n",
    "    * langchain-core: 0.3.46\n",
    "    * langchain-experimental: 0.3.4\n",
    "    * langchain-community: 0.3.20\n",
    "    * langchain-openai: 0.3.9\n",
    "    * langchain-teddynote: 0.3.44\n",
    "    * langchain-huggingface: 0.1.2\n",
    "    * langchain-google-genai: 2.1.0\n",
    "    * langchain-anthropic: 0.3.10\n",
    "    * langchain-cohere: 0.4.3\n",
    "    * langchain-chroma: 0.2.2\n",
    "    * langchain-elasticsearch: 0.3.2\n",
    "    * langchain-upstage: 설치되지 않음\n",
    "    * langchain-cohere: 0.4.3\n",
    "    * langchain-milvus: 0.1.8\n",
    "    * langchain-text-splitters: 0.3.7\n",
    "</small>"
   ]
  }
 ],
 "metadata": {
  "kernelspec": {
   "display_name": "lc_env",
   "language": "python",
   "name": "python3"
  },
  "language_info": {
   "codemirror_mode": {
    "name": "ipython",
    "version": 3
   },
   "file_extension": ".py",
   "mimetype": "text/x-python",
   "name": "python",
   "nbconvert_exporter": "python",
   "pygments_lexer": "ipython3",
   "version": "3.13.5"
  }
 },
 "nbformat": 4,
 "nbformat_minor": 2
}
