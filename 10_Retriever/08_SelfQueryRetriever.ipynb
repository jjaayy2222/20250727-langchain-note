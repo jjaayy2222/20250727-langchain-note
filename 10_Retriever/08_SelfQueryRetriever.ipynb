{
 "cells": [
  {
   "cell_type": "markdown",
   "id": "8b18a900",
   "metadata": {},
   "source": [
    "---"
   ]
  },
  {
   "cell_type": "markdown",
   "id": "48a69be3",
   "metadata": {},
   "source": [
    "* 출처: LangChain 공식 문서 또는 해당 교재명\n",
    "* 원본 URL: https://smith.langchain.com/hub/teddynote/summary-stuff-documents"
   ]
  },
  {
   "cell_type": "markdown",
   "id": "b7a10c23",
   "metadata": {},
   "source": [
    "---"
   ]
  },
  {
   "cell_type": "markdown",
   "id": "aedc62e7",
   "metadata": {},
   "source": [
    "### **8. `SelfQueryRetriever`**"
   ]
  },
  {
   "cell_type": "markdown",
   "id": "c4c01397",
   "metadata": {},
   "source": [
    "#### **`1) 셀프 쿼리`**"
   ]
  },
  {
   "cell_type": "markdown",
   "id": "36e950aa",
   "metadata": {},
   "source": [
    "* **`SelfQueryRetriever` = 자체적으로 질문을 생성하고 해결할 수 있는 기능을 갖춘 검색 도구**\n",
    "\n",
    "  * 사용자가 제공한 자연어 질의 → **`query-constructing` LLM chain** 사용 → 구조화된 질의 생성 → 기본 벡터 데이터 저장소(`VectorStore`)에 적용 → 검색 수행\n",
    "\n",
    "  * 저장된 문서의 내용에서 의미적으로 비교하는 것을 넘어 **`사용자의 질의에서 문서의 메타데이터에 대한 필터를 추출 → 필터를 실행해 관련도니 문서 찾을 수 있음`**"
   ]
  },
  {
   "cell_type": "markdown",
   "id": "047cb5f0",
   "metadata": {},
   "source": [
    "* *참고: [`LangChain`이 지원하는 셀프 쿼리 검색기 목록](https://python.langchain.com/docs/integrations/retrievers/self_query/)*"
   ]
  },
  {
   "cell_type": "markdown",
   "id": "7291415a",
   "metadata": {},
   "source": [
    "---"
   ]
  },
  {
   "cell_type": "markdown",
   "id": "0202add5",
   "metadata": {},
   "source": [
    "#### **2) `설정`**"
   ]
  },
  {
   "cell_type": "code",
   "execution_count": null,
   "id": "7efc0084",
   "metadata": {},
   "outputs": [],
   "source": [
    "# API 키를 환경변수로 관리하기 위한 설정 파일\n",
    "from dotenv import load_dotenv\n",
    "\n",
    "# API 키 정보 로드\n",
    "load_dotenv()                               # True"
   ]
  },
  {
   "cell_type": "code",
   "execution_count": null,
   "id": "ab58a41e",
   "metadata": {},
   "outputs": [],
   "source": [
    "from langsmith import Client\n",
    "from langsmith import traceable\n",
    "\n",
    "import os\n",
    "\n",
    "# LangSmith 환경 변수 확인\n",
    "\n",
    "print(\"\\n--- LangSmith 환경 변수 확인 ---\")\n",
    "langchain_tracing_v2 = os.getenv('LANGCHAIN_TRACING_V2')\n",
    "langchain_project = os.getenv('LANGCHAIN_PROJECT')\n",
    "langchain_api_key_status = \"설정됨\" if os.getenv('LANGCHAIN_API_KEY') else \"설정되지 않음\" # API 키 값은 직접 출력하지 않음\n",
    "\n",
    "if langchain_tracing_v2 == \"true\" and os.getenv('LANGCHAIN_API_KEY') and langchain_project:\n",
    "    print(f\"✅ LangSmith 추적 활성화됨 (LANGCHAIN_TRACING_V2='{langchain_tracing_v2}')\")\n",
    "    print(f\"✅ LangSmith 프로젝트: '{langchain_project}'\")\n",
    "    print(f\"✅ LangSmith API Key: {langchain_api_key_status}\")\n",
    "    print(\"  -> 이제 LangSmith 대시보드에서 이 프로젝트를 확인해 보세요.\")\n",
    "else:\n",
    "    print(\"❌ LangSmith 추적이 완전히 활성화되지 않았습니다. 다음을 확인하세요:\")\n",
    "    if langchain_tracing_v2 != \"true\":\n",
    "        print(f\"  - LANGCHAIN_TRACING_V2가 'true'로 설정되어 있지 않습니다 (현재: '{langchain_tracing_v2}').\")\n",
    "    if not os.getenv('LANGCHAIN_API_KEY'):\n",
    "        print(\"  - LANGCHAIN_API_KEY가 설정되어 있지 않습니다.\")\n",
    "    if not langchain_project:\n",
    "        print(\"  - LANGCHAIN_PROJECT가 설정되어 있지 않습니다.\")"
   ]
  },
  {
   "cell_type": "markdown",
   "id": "dc237161",
   "metadata": {},
   "source": [
    "<small>\n",
    "\n",
    "* 셀 출력\n",
    "\n",
    "  ```markdown\n",
    "  --- LangSmith 환경 변수 확인 ---\n",
    "  ✅ LangSmith 추적 활성화됨 (LANGCHAIN_TRACING_V2='true')\n",
    "  ✅ LangSmith 프로젝트: 'LangChain-prantice'\n",
    "  ✅ LangSmith API Key: 설정됨\n",
    "    -> 이제 LangSmith 대시보드에서 이 프로젝트를 확인해 보세요.\n",
    "  ```"
   ]
  },
  {
   "cell_type": "markdown",
   "id": "12f8a485",
   "metadata": {},
   "source": [
    "---"
   ]
  },
  {
   "cell_type": "markdown",
   "id": "7b03a059",
   "metadata": {},
   "source": [
    "#### **3) `샘플 데이터 생성`**"
   ]
  },
  {
   "cell_type": "markdown",
   "id": "bbef1b91",
   "metadata": {},
   "source": [
    "* 화장품 상품의 설명과 메타 데이터를 기반으로 유사도 검색이 가능한 벡터 저장소 구축하기"
   ]
  },
  {
   "cell_type": "code",
   "execution_count": null,
   "id": "bcb1b1d3",
   "metadata": {},
   "outputs": [],
   "source": [
    "from langchain.embeddings import HuggingFaceEmbeddings\n",
    "\n",
    "# 업그레이드된 임베딩 모델 사용하기: 다국어 고성능 모델 (1024차원)\n",
    "multilingual_embeddings = HuggingFaceEmbeddings(\n",
    "    model_name=\"sentence-transformers/paraphrase-multilingual-mpnet-base-v2\",  # 1024차원\n",
    "    model_kwargs={'device': 'cpu'},\n",
    "    encode_kwargs={'normalize_embeddings': True}\n",
    ")                                                                              # 9.7s "
   ]
  },
  {
   "cell_type": "code",
   "execution_count": null,
   "id": "3e9aac93",
   "metadata": {},
   "outputs": [],
   "source": [
    "from langchain_chroma import Chroma\n",
    "from langchain_core.documents import Document\n",
    "from langchain_huggingface import HuggingFaceEmbeddings\n",
    "\n",
    "# 화장품 상품의 설명과 메타데이터 생성\n",
    "docs = [\n",
    "    Document(\n",
    "        page_content=\"수분 가득한 히알루론산 세럼으로 피부 속 깊은 곳까지 수분을 공급합니다.\",\n",
    "        metadata={\"year\": 2024, \"category\": \"스킨케어\", \"user_rating\": 4.7},\n",
    "    ),\n",
    "    Document(\n",
    "        page_content=\"24시간 지속되는 매트한 피니시의 파운데이션, 모공을 커버하고 자연스러운 피부 표현이 가능합니다.\",\n",
    "        metadata={\"year\": 2023, \"category\": \"메이크업\", \"user_rating\": 4.5},\n",
    "    ),\n",
    "    Document(\n",
    "        page_content=\"식물성 성분으로 만든 저자극 클렌징 오일, 메이크업과 노폐물을 부드럽게 제거합니다.\",\n",
    "        metadata={\"year\": 2023, \"category\": \"클렌징\", \"user_rating\": 4.8},\n",
    "    ),\n",
    "    Document(\n",
    "        page_content=\"비타민 C 함유 브라이트닝 크림, 칙칙한 피부톤을 환하게 밝혀줍니다.\",\n",
    "        metadata={\"year\": 2023, \"category\": \"스킨케어\", \"user_rating\": 4.6},\n",
    "    ),\n",
    "    Document(\n",
    "        page_content=\"롱래스팅 립스틱, 선명한 발색과 촉촉한 사용감으로 하루종일 편안하게 사용 가능합니다.\",\n",
    "        metadata={\"year\": 2024, \"category\": \"메이크업\", \"user_rating\": 4.4},\n",
    "    ),\n",
    "    Document(\n",
    "        page_content=\"자외선 차단 기능이 있는 톤업 선크림, SPF50+/PA++++ 높은 자외선 차단 지수로 피부를 보호합니다.\",\n",
    "        metadata={\"year\": 2024, \"category\": \"선케어\", \"user_rating\": 4.9},\n",
    "    ),\n",
    "]\n",
    "\n",
    "# 벡터 저장소 생성\n",
    "vectorstore = Chroma.from_documents(\n",
    "    docs, multilingual_embeddings)                                                      # 24.3s"
   ]
  },
  {
   "cell_type": "markdown",
   "id": "8a7abe1a",
   "metadata": {},
   "source": [
    "---"
   ]
  },
  {
   "cell_type": "markdown",
   "id": "c2d672ad",
   "metadata": {},
   "source": [
    "#### **4) `SelfQueryRetiever`**"
   ]
  },
  {
   "cell_type": "markdown",
   "id": "55ffd1dd",
   "metadata": {},
   "source": [
    "* `retriever` 인스턴스화: 문서가 지원하는 **`메타데이터 필드`**, 문서 내용에 대한 **`간단한 설명`을 미리 제공** 해야 함 "
   ]
  },
  {
   "cell_type": "markdown",
   "id": "37c2b087",
   "metadata": {},
   "source": [
    "* **`AttributeInfo`** 클래스 → 화장품 메타데이터 필드에 대한 정보 정의하기\n",
    "\n",
    "  * **`category`** (카테고리)\n",
    "    * 문자열 타입, 화장품의 카테고리\n",
    "    * [`스킨케어`, `메이크업`, `클렌징`, `선케어`] 중 하나의 값을 가짐\n",
    "\n",
    "  * **`year`** (연도)\n",
    "    * 정수 타입\n",
    "    * 화장품이 출시된 연도\n",
    "\n",
    "  * **`user_rating`** (사용자 평점)\n",
    "    * 실수 타입\n",
    "    * 1~5 범위의 사용자 평점"
   ]
  },
  {
   "cell_type": "code",
   "execution_count": null,
   "id": "f36ab3f0",
   "metadata": {},
   "outputs": [],
   "source": [
    "from langchain.chains.query_constructor.base import AttributeInfo\n",
    "\n",
    "# 메타데이터 필드 정보 생성\n",
    "metadata_field_info = [\n",
    "    AttributeInfo(\n",
    "        name=\"category\",\n",
    "        description=\"The category of the cosmetic product. One of ['스킨케어', '메이크업', '클렌징', '선케어']\",\n",
    "        type=\"string\",\n",
    "    ),\n",
    "    AttributeInfo(\n",
    "        name=\"year\",\n",
    "        description=\"The year the cosmetic product was released\",\n",
    "        type=\"integer\",\n",
    "    ),\n",
    "    AttributeInfo(\n",
    "        name=\"user_rating\",\n",
    "        description=\"A user rating for the cosmetic product, ranging from 1 to 5\",\n",
    "        type=\"float\",\n",
    "    ),\n",
    "]                                                                       # 0.1s"
   ]
  },
  {
   "cell_type": "markdown",
   "id": "950826f1",
   "metadata": {},
   "source": [
    "* **`SelfQueryRetriever.from_llm()`** 메서드 사용 → **`retriever`** 객체 생성\n",
    "\n",
    "  * **`llm`**: 언어 모델\n",
    "  * **`vectorstore`**: 벡터 저장소\n",
    "  * **`document_contents`**: 문서들의 내용 설명\n",
    "  * **`metadata_field_info`**: 메타데이터 필드 정보"
   ]
  },
  {
   "cell_type": "code",
   "execution_count": null,
   "id": "baa697c2",
   "metadata": {},
   "outputs": [],
   "source": [
    "from langchain.retrievers.self_query.base import SelfQueryRetriever\n",
    "from langchain_ollama import OllamaLLM\n",
    "\n",
    "# LLM 정의하기\n",
    "llm_lama = OllamaLLM(model=\"exaone3.5:7.8b\", temperature=0)\n",
    "\n",
    "# SelfQueryRetriever 생성\n",
    "retriever = SelfQueryRetriever.from_llm(\n",
    "    llm=llm_lama,\n",
    "    vectorstore=vectorstore,\n",
    "    document_contents=\"Brief summary of a cosmetic product\",\n",
    "    metadata_field_info=metadata_field_info,\n",
    "#    verbose = True,\n",
    "#    search_kwargs = {\"k\":1}                                   # 검색 결과에서 중복 답변 허용 X\n",
    ")                                                              # 0.8s"
   ]
  },
  {
   "cell_type": "markdown",
   "id": "15a4ffab",
   "metadata": {},
   "source": [
    "---"
   ]
  },
  {
   "cell_type": "markdown",
   "id": "3b3a89ef",
   "metadata": {},
   "source": [
    "#### **4) `Query 테스트`**"
   ]
  },
  {
   "cell_type": "markdown",
   "id": "333a2f19",
   "metadata": {},
   "source": [
    "* 필터를 걸 수 있는 질의 입력 → 검색 수행하기"
   ]
  },
  {
   "cell_type": "code",
   "execution_count": null,
   "id": "4530ad86",
   "metadata": {},
   "outputs": [],
   "source": [
    "# Self-query 검색_1\n",
    "\n",
    "retriever.invoke(\"평점이 4.8 이상인 제품을 추천해주세요\")"
   ]
  },
  {
   "cell_type": "markdown",
   "id": "092e8fb4",
   "metadata": {},
   "source": [
    "<small>\n",
    "\n",
    "* 검색_1 (16.2s)\n",
    "\n",
    "    ```python\n",
    "    [Document(id='43171779-45b4-4fdb-bc35-f1ab632fa5f6', metadata={'year': 2024, 'category': '선케어', 'user_rating': 4.9}, page_content='자외선 차단 기능이 있는 톤업 선크림, SPF50+/PA++++ 높은 자외선 차단 지수로 피부를 보호합니다.')]\n",
    "    ```"
   ]
  },
  {
   "cell_type": "code",
   "execution_count": null,
   "id": "da37b131",
   "metadata": {},
   "outputs": [],
   "source": [
    "# Self-query 검색_1\n",
    "\n",
    "retriever.invoke(\"평점이 4.8이거나 그 이상인 제품을 추천해주세요\")"
   ]
  },
  {
   "cell_type": "markdown",
   "id": "4f07adbe",
   "metadata": {},
   "source": [
    "<small>\n",
    "\n",
    "* 검색_1-ver.2 (14.8s)\n",
    "\n",
    "    ```python\n",
    "    [Document(id='43171779-45b4-4fdb-bc35-f1ab632fa5f6', metadata={'year': 2024, 'user_rating': 4.9, 'category': '선케어'}, page_content='자외선 차단 기능이 있는 톤업 선크림, SPF50+/PA++++ 높은 자외선 차단 지수로 피부를 보호합니다.'),\n",
    "    Document(id='d82f2168-06c5-46f2-a934-d174d09da1c1', metadata={'year': 2023, 'category': '클렌징', 'user_rating': 4.8}, page_content='식물성 성분으로 만든 저자극 클렌징 오일, 메이크업과 노폐물을 부드럽게 제거합니다.')]\n",
    "    ```"
   ]
  },
  {
   "cell_type": "code",
   "execution_count": null,
   "id": "8c262e82",
   "metadata": {},
   "outputs": [],
   "source": [
    "# Self-query 검색_2\n",
    "\n",
    "retriever.invoke(\"2023년에 출시된 상품을 추천해주세요\")"
   ]
  },
  {
   "cell_type": "markdown",
   "id": "03760e13",
   "metadata": {},
   "source": [
    "<small>\n",
    "\n",
    "* `Self-query 검색_2` (9.8s)\n",
    "\n",
    "    ```python\n",
    "    [Document(id='f84e3ca8-d48d-4c77-9f6e-fc922acc4554', metadata={'year': 2023, 'user_rating': 4.6, 'category': '스킨케어'}, page_content='비타민 C 함유 브라이트닝 크림, 칙칙한 피부톤을 환하게 밝혀줍니다.'),\n",
    "    Document(id='d82f2168-06c5-46f2-a934-d174d09da1c1', metadata={'year': 2023, 'user_rating': 4.8, 'category': '클렌징'}, page_content='식물성 성분으로 만든 저자극 클렌징 오일, 메이크업과 노폐물을 부드럽게 제거합니다.'),\n",
    "    Document(id='969fe0e9-09e2-4a87-915e-221b4a96f448', metadata={'year': 2023, 'category': '메이크업', 'user_rating': 4.5}, page_content='24시간 지속되는 매트한 피니시의 파운데이션, 모공을 커버하고 자연스러운 피부 표현이 가능합니다.')]\n",
    "    ```"
   ]
  },
  {
   "cell_type": "code",
   "execution_count": null,
   "id": "9af49dac",
   "metadata": {},
   "outputs": [],
   "source": [
    "# Self-query 검색_3\n",
    "\n",
    "retriever.invoke(\"카테고리에서 '선케어'와 일치하는 상품만 찾아주세요\")"
   ]
  },
  {
   "cell_type": "markdown",
   "id": "4b64b3bd",
   "metadata": {},
   "source": [
    "<small>\n",
    "\n",
    "* `Self-query 검색_3` (17.4s)\n",
    "\n",
    "    ```python\n",
    "    [Document(id='f84e3ca8-d48d-4c77-9f6e-fc922acc4554', metadata={'user_rating': 4.6, 'year': 2023, 'category': '스킨케어'}, page_content='비타민 C 함유 브라이트닝 크림, 칙칙한 피부톤을 환하게 밝혀줍니다.'),\n",
    "    Document(id='9e665b64-41ac-499b-baa5-8b491e30afbf', metadata={'user_rating': 4.7, 'year': 2024, 'category': '스킨케어'}, page_content='수분 가득한 히알루론산 세럼으로 피부 속 깊은 곳까지 수분을 공급합니다.')]\n",
    "    ```"
   ]
  },
  {
   "cell_type": "code",
   "execution_count": null,
   "id": "8e98d2b7",
   "metadata": {},
   "outputs": [],
   "source": [
    "retriever.invoke(\"카테고리별로 상품을 정리해주세요\")"
   ]
  },
  {
   "cell_type": "markdown",
   "id": "9bb50062",
   "metadata": {},
   "source": [
    "<small>\n",
    "\n",
    "* 카테고리별 검색해보기 (`50.0s`)\n",
    "\n",
    "    ```python\n",
    "    [Document(id='43171779-45b4-4fdb-bc35-f1ab632fa5f6', metadata={'category': '선케어', 'user_rating': 4.9, 'year': 2024}, page_content='자외선 차단 기능이 있는 톤업 선크림, SPF50+/PA++++ 높은 자외선 차단 지수로 피부를 보호합니다.'),\n",
    "    Document(id='d82f2168-06c5-46f2-a934-d174d09da1c1', metadata={'year': 2023, 'user_rating': 4.8, 'category': '클렌징'}, page_content='식물성 성분으로 만든 저자극 클렌징 오일, 메이크업과 노폐물을 부드럽게 제거합니다.'),\n",
    "    Document(id='dd779b39-52d0-40c6-b4ca-02048816a2f0', metadata={'year': 2024, 'user_rating': 4.4, 'category': '메이크업'}, page_content='롱래스팅 립스틱, 선명한 발색과 촉촉한 사용감으로 하루종일 편안하게 사용 가능합니다.'),\n",
    "    Document(id='9e665b64-41ac-499b-baa5-8b491e30afbf', metadata={'year': 2024, 'user_rating': 4.7, 'category': '스킨케어'}, page_content='수분 가득한 히알루론산 세럼으로 피부 속 깊은 곳까지 수분을 공급합니다.')]\n",
    "    ```"
   ]
  },
  {
   "cell_type": "code",
   "execution_count": null,
   "id": "2191a454",
   "metadata": {},
   "outputs": [],
   "source": [
    "retriever.invoke(\"카테고리에서 '선케어'로 분류되는 상품을 출력해주세요\")"
   ]
  },
  {
   "cell_type": "markdown",
   "id": "81b7dd96",
   "metadata": {},
   "source": [
    "<small>\n",
    "\n",
    "* 카테고리에서 '선케어'로 분류되는 상품 출력해보기 → 실패 (`15.6s`)\n",
    "\n",
    "    ```python\n",
    "    [Document(id='f84e3ca8-d48d-4c77-9f6e-fc922acc4554', metadata={'category': '스킨케어', 'year': 2023, 'user_rating': 4.6}, page_content='비타민 C 함유 브라이트닝 크림, 칙칙한 피부톤을 환하게 밝혀줍니다.'),\n",
    "    Document(id='9e665b64-41ac-499b-baa5-8b491e30afbf', metadata={'user_rating': 4.7, 'category': '스킨케어', 'year': 2024}, page_content='수분 가득한 히알루론산 세럼으로 피부 속 깊은 곳까지 수분을 공급합니다.')]\n",
    "    ```"
   ]
  },
  {
   "cell_type": "markdown",
   "id": "b02d90f7",
   "metadata": {},
   "source": [
    "---"
   ]
  },
  {
   "cell_type": "markdown",
   "id": "166838c6",
   "metadata": {},
   "source": [
    "<small>\n",
    "\n",
    "* `input`으로 검색 → 모두 실패\n",
    "\n",
    "    ```python\n",
    "    \n",
    "    # try_1\n",
    "    retriever.invoke(input=\"선케어\")\n",
    "\n",
    "    # try_2\n",
    "    retriever.invoke(input=\"선케어\", metadata={'category': '선케어'}, search_type='filter')\n",
    "    \n",
    "    ```\n",
    "\n",
    "    ```bash\n",
    "    ---------------------------------------------------------------------------\n",
    "    UnexpectedCharacters                      Traceback (most recent call last)\n",
    "    File ~/.pyenv/versions/lc_env/lib/python3.13/site-packages/lark/lexer.py:665, in ContextualLexer.lex(self, lexer_state, parser_state)\n",
    "        664         lexer = self.lexers[parser_state.position]\n",
    "    --> 665         yield lexer.next_token(lexer_state, parser_state)\n",
    "        666 except EOFError:\n",
    "\n",
    "    File ~/.pyenv/versions/lc_env/lib/python3.13/site-packages/lark/lexer.py:598, in BasicLexer.next_token(self, lex_state, parser_state)\n",
    "        597         allowed = {\"<END-OF-FILE>\"}\n",
    "    --> 598     raise UnexpectedCharacters(lex_state.text, line_ctr.char_pos, line_ctr.line, line_ctr.column,\n",
    "        599                                allowed=allowed, token_history=lex_state.last_token and [lex_state.last_token],\n",
    "        600                                state=parser_state, terminals_by_name=self.terminals_by_name)\n",
    "        602 value, type_ = res\n",
    "\n",
    "    UnexpectedCharacters: No terminal matches ',' in the current parser context, at line 1 col 12\n",
    "\n",
    "    eq(category, '\\uc2a4\\ud0a8\\ucf00\\uc5b4')\n",
    "            ^\n",
    "    Expected one of: \n",
    "        * LPAR\n",
    "\n",
    "    Previous tokens: Token('CNAME', 'category')\n",
    "\n",
    "\n",
    "    During handling of the above exception, another exception occurred:\n",
    "\n",
    "    UnexpectedToken                           Traceback (most recent call last)\n",
    "    File ~/.pyenv/versions/lc_env/lib/python3.13/site-packages/langchain/chains/query_constructor/base.py:59, in StructuredQueryOutputParser.parse(self, text)\n",
    "        58 else:\n",
    "    ---> 59     parsed[\"filter\"] = self.ast_parse(parsed[\"filter\"])\n",
    "        60 if not parsed.get(\"limit\"):\n",
    "\n",
    "    File ~/.pyenv/versions/lc_env/lib/python3.13/site-packages/lark/lark.py:655, in Lark.parse(self, text, start, on_error)\n",
    "        638 \"\"\"Parse the given text, according to the options provided.\n",
    "        639 \n",
    "        640 Parameters:\n",
    "    (...)    653 \n",
    "        654 \"\"\"\n",
    "    --> 655 return self.parser.parse(text, start=start, on_error=on_error)\n",
    "\n",
    "    File ~/.pyenv/versions/lc_env/lib/python3.13/site-packages/lark/parser_frontends.py:104, in ParsingFrontend.parse(self, text, start, on_error)\n",
    "        103 stream = self._make_lexer_thread(text)\n",
    "    --> 104 return self.parser.parse(stream, chosen_start, **kw)\n",
    "\n",
    "    File ~/.pyenv/versions/lc_env/lib/python3.13/site-packages/lark/parsers/lalr_parser.py:42, in LALR_Parser.parse(self, lexer, start, on_error)\n",
    "        41 try:\n",
    "    ---> 42     return self.parser.parse(lexer, start)\n",
    "        43 except UnexpectedInput as e:\n",
    "\n",
    "    File ~/.pyenv/versions/lc_env/lib/python3.13/site-packages/lark/parsers/lalr_parser.py:88, in _Parser.parse(self, lexer, start, value_stack, state_stack, start_interactive)\n",
    "        87     return InteractiveParser(self, parser_state, parser_state.lexer)\n",
    "    ---> 88 return self.parse_from_state(parser_state)\n",
    "\n",
    "    File ~/.pyenv/versions/lc_env/lib/python3.13/site-packages/lark/parsers/lalr_parser.py:111, in _Parser.parse_from_state(self, state, last_token)\n",
    "        110         pass\n",
    "    --> 111     raise e\n",
    "        112 except Exception as e:\n",
    "\n",
    "    File ~/.pyenv/versions/lc_env/lib/python3.13/site-packages/lark/parsers/lalr_parser.py:100, in _Parser.parse_from_state(self, state, last_token)\n",
    "        99 token = last_token\n",
    "    --> 100 for token in state.lexer.lex(state):\n",
    "        101     assert token is not None\n",
    "\n",
    "    File ~/.pyenv/versions/lc_env/lib/python3.13/site-packages/lark/lexer.py:674, in ContextualLexer.lex(self, lexer_state, parser_state)\n",
    "        673     token = self.root_lexer.next_token(lexer_state, parser_state)\n",
    "    --> 674     raise UnexpectedToken(token, e.allowed, state=parser_state, token_history=[last_token], terminals_by_name=self.root_lexer.terminals_by_name)\n",
    "        675 except UnexpectedCharacters:\n",
    "\n",
    "    UnexpectedToken: Unexpected token Token('COMMA', ',') at line 1, column 12.\n",
    "    Expected one of: \n",
    "        * LPAR\n",
    "    Previous tokens: [Token('CNAME', 'category')]\n",
    "\n",
    "\n",
    "    The above exception was the direct cause of the following exception:\n",
    "\n",
    "    OutputParserException                     Traceback (most recent call last)\n",
    "    Cell In[20], line 1\n",
    "    ----> 1 retriever.invoke(input=\"선케어\")\n",
    "\n",
    "    File ~/.pyenv/versions/lc_env/lib/python3.13/site-packages/langchain_core/retrievers.py:263, in BaseRetriever.invoke(self, input, config, **kwargs)\n",
    "        261 kwargs_ = kwargs if self._expects_other_args else {}\n",
    "        262 if self._new_arg_supported:\n",
    "    --> 263     result = self._get_relevant_documents(\n",
    "        264         input, run_manager=run_manager, **kwargs_\n",
    "        265     )\n",
    "        266 else:\n",
    "        267     result = self._get_relevant_documents(input, **kwargs_)\n",
    "\n",
    "    File ~/.pyenv/versions/lc_env/lib/python3.13/site-packages/langchain/retrievers/self_query/base.py:318, in SelfQueryRetriever._get_relevant_documents(self, query, run_manager)\n",
    "        304 def _get_relevant_documents(\n",
    "        305     self,\n",
    "        306     query: str,\n",
    "        307     *,\n",
    "        308     run_manager: CallbackManagerForRetrieverRun,\n",
    "        309 ) -> list[Document]:\n",
    "        310     \"\"\"Get documents relevant for a query.\n",
    "        311 \n",
    "        312     Args:\n",
    "    (...)    316         List of relevant documents\n",
    "        317     \"\"\"\n",
    "    --> 318     structured_query = self.query_constructor.invoke(\n",
    "        319         {\"query\": query},\n",
    "        320         config={\"callbacks\": run_manager.get_child()},\n",
    "        321     )\n",
    "        322     if self.verbose:\n",
    "        323         logger.info(\"Generated Query: %s\", structured_query)\n",
    "\n",
    "    File ~/.pyenv/versions/lc_env/lib/python3.13/site-packages/langchain_core/runnables/base.py:5710, in RunnableBindingBase.invoke(self, input, config, **kwargs)\n",
    "    5703 @override\n",
    "    5704 def invoke(\n",
    "    5705     self,\n",
    "    (...)   5708     **kwargs: Optional[Any],\n",
    "    5709 ) -> Output:\n",
    "    -> 5710     return self.bound.invoke(\n",
    "    5711         input,\n",
    "    5712         self._merge_configs(config),\n",
    "    5713         **{**self.kwargs, **kwargs},\n",
    "    5714     )\n",
    "\n",
    "    File ~/.pyenv/versions/lc_env/lib/python3.13/site-packages/langchain_core/runnables/base.py:3245, in RunnableSequence.invoke(self, input, config, **kwargs)\n",
    "    3243                 input_ = context.run(step.invoke, input_, config, **kwargs)\n",
    "    3244             else:\n",
    "    -> 3245                 input_ = context.run(step.invoke, input_, config)\n",
    "    3246 # finish the root run\n",
    "    3247 except BaseException as e:\n",
    "\n",
    "    File ~/.pyenv/versions/lc_env/lib/python3.13/site-packages/langchain_core/output_parsers/base.py:208, in BaseOutputParser.invoke(self, input, config, **kwargs)\n",
    "        199 if isinstance(input, BaseMessage):\n",
    "        200     return self._call_with_config(\n",
    "        201         lambda inner_input: self.parse_result(\n",
    "        202             [ChatGeneration(message=inner_input)]\n",
    "    (...)    206         run_type=\"parser\",\n",
    "        207     )\n",
    "    --> 208 return self._call_with_config(\n",
    "        209     lambda inner_input: self.parse_result([Generation(text=inner_input)]),\n",
    "        210     input,\n",
    "        211     config,\n",
    "        212     run_type=\"parser\",\n",
    "        213 )\n",
    "\n",
    "    File ~/.pyenv/versions/lc_env/lib/python3.13/site-packages/langchain_core/runnables/base.py:2089, in Runnable._call_with_config(self, func, input_, config, run_type, serialized, **kwargs)\n",
    "    2085     child_config = patch_config(config, callbacks=run_manager.get_child())\n",
    "    2086     with set_config_context(child_config) as context:\n",
    "    2087         output = cast(\n",
    "    2088             \"Output\",\n",
    "    -> 2089             context.run(\n",
    "    2090                 call_func_with_variable_args,  # type: ignore[arg-type]\n",
    "    2091                 func,\n",
    "    2092                 input_,\n",
    "    2093                 config,\n",
    "    2094                 run_manager,\n",
    "    2095                 **kwargs,\n",
    "    2096             ),\n",
    "    2097         )\n",
    "    2098 except BaseException as e:\n",
    "    2099     run_manager.on_chain_error(e)\n",
    "\n",
    "    File ~/.pyenv/versions/lc_env/lib/python3.13/site-packages/langchain_core/runnables/config.py:430, in call_func_with_variable_args(func, input, config, run_manager, **kwargs)\n",
    "        428 if run_manager is not None and accepts_run_manager(func):\n",
    "        429     kwargs[\"run_manager\"] = run_manager\n",
    "    --> 430 return func(input, **kwargs)\n",
    "\n",
    "    File ~/.pyenv/versions/lc_env/lib/python3.13/site-packages/langchain_core/output_parsers/base.py:209, in BaseOutputParser.invoke.<locals>.<lambda>(inner_input)\n",
    "        199 if isinstance(input, BaseMessage):\n",
    "        200     return self._call_with_config(\n",
    "        201         lambda inner_input: self.parse_result(\n",
    "        202             [ChatGeneration(message=inner_input)]\n",
    "    (...)    206         run_type=\"parser\",\n",
    "        207     )\n",
    "        208 return self._call_with_config(\n",
    "    --> 209     lambda inner_input: self.parse_result([Generation(text=inner_input)]),\n",
    "        210     input,\n",
    "        211     config,\n",
    "        212     run_type=\"parser\",\n",
    "        213 )\n",
    "\n",
    "    File ~/.pyenv/versions/lc_env/lib/python3.13/site-packages/langchain_core/output_parsers/base.py:254, in BaseOutputParser.parse_result(self, result, partial)\n",
    "        238 @override\n",
    "        239 def parse_result(self, result: list[Generation], *, partial: bool = False) -> T:\n",
    "        240     \"\"\"Parse a list of candidate model Generations into a specific format.\n",
    "        241 \n",
    "        242     The return value is parsed from only the first Generation in the result, which\n",
    "    (...)    252         Structured output.\n",
    "        253     \"\"\"\n",
    "    --> 254     return self.parse(result[0].text)\n",
    "\n",
    "    File ~/.pyenv/versions/lc_env/lib/python3.13/site-packages/langchain/chains/query_constructor/base.py:67, in StructuredQueryOutputParser.parse(self, text)\n",
    "        65 except Exception as e:\n",
    "        66     msg = f\"Parsing text\\n{text}\\n raised following error:\\n{e}\"\n",
    "    ---> 67     raise OutputParserException(msg) from e\n",
    "\n",
    "    OutputParserException: Parsing text\n",
    "    ```json\n",
    "    {\n",
    "        \"query\": \"선케어\",\n",
    "        \"filter\": \"eq(category, '\\\\uc2a4\\\\ud0a8\\\\ucf00\\\\uc5b4')\"\n",
    "    }\n",
    "    ```\n",
    "\n",
    "    **Explanation:**\n",
    "    - **Query:** \"선케어\" directly translates to \"sun care\" in English, which aligns with one of the category descriptions provided ('자외선 차단').\n",
    "    - **Filter:** Since the query focuses on identifying products within the 'sun care' category, the filter checks if the `category` attribute matches the Korean term for 'sun care'. Note that exact matching might require localization adjustments based on how categories are stored in the actual data source. Here, `\\uc2a4\\ud0a8\\ucf00\\uc5b4` represents 'sun care' in Unicode Korean characters as per the provided attribute descriptions. If exact Unicode matching isn't supported, a more straightforward Korean text match might be necessary depending on data storage conventions.\n",
    "    raised following error:\n",
    "    Unexpected token Token('COMMA', ',') at line 1, column 12.\n",
    "    Expected one of: \n",
    "        * LPAR\n",
    "    Previous tokens: [Token('CNAME', 'category')]\n",
    "\n",
    "    For troubleshooting, visit: https://python.langchain.com/docs/troubleshooting/errors/OUTPUT_PARSING_FAILURE\n",
    "    ```"
   ]
  },
  {
   "cell_type": "code",
   "execution_count": null,
   "id": "a39fa45c",
   "metadata": {},
   "outputs": [],
   "source": [
    "# Self-query 검색_4\n",
    "\n",
    "retriever.invoke(\"카테고리가 메이크업과 일치하는 상품만 찾아주세요\")"
   ]
  },
  {
   "cell_type": "markdown",
   "id": "8095e782",
   "metadata": {},
   "source": [
    "<small>\n",
    "\n",
    "* 카테고리에서 메이크업으로는 검색이 가능 (`50.3s`)\n",
    "\n",
    "    ```python\n",
    "    [Document(id='9e665b64-41ac-499b-baa5-8b491e30afbf', metadata={'year': 2024, 'user_rating': 4.7, 'category': '스킨케어'}, page_content='수분 가득한 히알루론산 세럼으로 피부 속 깊은 곳까지 수분을 공급합니다.'),\n",
    "    Document(id='f84e3ca8-d48d-4c77-9f6e-fc922acc4554', metadata={'year': 2023, 'user_rating': 4.6, 'category': '스킨케어'}, page_content='비타민 C 함유 브라이트닝 크림, 칙칙한 피부톤을 환하게 밝혀줍니다.')]\n",
    "    ```"
   ]
  },
  {
   "cell_type": "markdown",
   "id": "ef5a3c2d",
   "metadata": {},
   "source": [
    "---"
   ]
  },
  {
   "cell_type": "markdown",
   "id": "36d00d88",
   "metadata": {},
   "source": [
    "#### **5)`한글 카테고리 이름을 Unicode로 변환해서 필터 생성함으로써 오류 발생`**"
   ]
  },
  {
   "cell_type": "markdown",
   "id": "df5b92c5",
   "metadata": {},
   "source": [
    "* **`영어로 카테고리 변경해서 다시 시도`**"
   ]
  },
  {
   "cell_type": "code",
   "execution_count": null,
   "id": "49714d57",
   "metadata": {},
   "outputs": [],
   "source": [
    "# 숫자 코드로 매핑하기\n",
    "from langchain_core.documents import Document\n",
    "\n",
    "# 카테고리를 영어로 변경!\n",
    "docs = [\n",
    "    Document(\n",
    "        page_content=\"수분 가득한 히알루론산 세럼으로 피부 속 깊은 곳까지 수분을 공급합니다.\",\n",
    "        metadata={\"year\": 2024, \"category\": \"skincare\", \"user_rating\": 4.7},  # 영어!\n",
    "    ),\n",
    "    Document(\n",
    "        page_content=\"24시간 지속되는 매트한 피니시의 파운데이션, 모공을 커버하고 자연스러운 피부 표현이 가능합니다.\",\n",
    "        metadata={\"year\": 2023, \"category\": \"makeup\", \"user_rating\": 4.5},\n",
    "    ),\n",
    "    Document(\n",
    "        page_content=\"식물성 성분으로 만든 저자극 클렌징 오일, 메이크업과 노폐물을 부드럽게 제거합니다.\",\n",
    "        metadata={\"year\": 2023, \"category\": \"cleansing\", \"user_rating\": 4.8},\n",
    "    ),\n",
    "    Document(\n",
    "        page_content=\"비타민 C 함유 브라이트닝 크림, 칙칙한 피부톤을 환하게 밝혀줍니다.\",\n",
    "        metadata={\"year\": 2023, \"category\": \"skincare\", \"user_rating\": 4.6},\n",
    "    ),\n",
    "    Document(\n",
    "        page_content=\"롱래스팅 립스틱, 선명한 발색과 촉촉한 사용감으로 하루종일 편안하게 사용 가능합니다.\",\n",
    "        metadata={\"year\": 2024, \"category\": \"makeup\", \"user_rating\": 4.4},\n",
    "    ),\n",
    "    Document(\n",
    "        page_content=\"자외선 차단 기능이 있는 톤업 선크림, SPF50+/PA++++ 높은 자외선 차단 지수로 피부를 보호합니다.\",\n",
    "        metadata={\"year\": 2024, \"category\": \"suncare\", \"user_rating\": 4.9},\n",
    "    ),\n",
    "]"
   ]
  },
  {
   "cell_type": "code",
   "execution_count": null,
   "id": "4b1f8de7",
   "metadata": {},
   "outputs": [],
   "source": [
    "# 메타데이터 정의\n",
    "metadata_field_info = [\n",
    "    AttributeInfo(\n",
    "        name=\"category\",\n",
    "        description=\"The category code: 1=스킨케어, 2=메이크업, 3=클렌징, 4=선케어\",\n",
    "        type=\"integer\",  # 정수 타입!\n",
    "    ),\n",
    "    AttributeInfo(\n",
    "        name=\"year\",\n",
    "        description=\"The year the product was released\",\n",
    "        type=\"integer\",\n",
    "    ),\n",
    "    AttributeInfo(\n",
    "        name=\"user_rating\",\n",
    "        description=\"User rating from 1 to 5\",\n",
    "        type=\"float\",\n",
    "    ),\n",
    "]"
   ]
  },
  {
   "cell_type": "code",
   "execution_count": null,
   "id": "2129df68",
   "metadata": {},
   "outputs": [],
   "source": [
    "# 메타데이터 설명도 영어로\n",
    "metadata_field_info = [\n",
    "    AttributeInfo(\n",
    "        name=\"category\",\n",
    "        description=\"The category of the cosmetic product. One of ['skincare', 'makeup', 'cleansing', 'suncare']\",\n",
    "        type=\"string\",\n",
    "    ),\n",
    "    AttributeInfo(\n",
    "        name=\"year\",\n",
    "        description=\"The year the cosmetic product was released\",\n",
    "        type=\"integer\",\n",
    "    ),\n",
    "    AttributeInfo(\n",
    "        name=\"user_rating\",\n",
    "        description=\"A user rating for the cosmetic product, ranging from 1 to 5\",\n",
    "        type=\"float\",\n",
    "    ),\n",
    "]"
   ]
  },
  {
   "cell_type": "code",
   "execution_count": null,
   "id": "ab7312da",
   "metadata": {},
   "outputs": [],
   "source": [
    "# 벡터스토어 재생성\n",
    "vectorstore2 = Chroma.from_documents(docs, multilingual_embeddings)"
   ]
  },
  {
   "cell_type": "code",
   "execution_count": null,
   "id": "bbdd798d",
   "metadata": {},
   "outputs": [],
   "source": [
    "from langchain.retrievers.self_query.base import SelfQueryRetriever\n",
    "from langchain_ollama import OllamaLLM\n",
    "from langchain_community.vectorstores import Chroma\n",
    "from langchain_community.embeddings import OllamaEmbeddings\n",
    "\n",
    "# LLM 정의하기\n",
    "llm_lama = OllamaLLM(model=\"exaone3.5:7.8b\", temperature=0)\n",
    "\n",
    "\n",
    "# SelfQueryRetriever 재생성\n",
    "retriever = SelfQueryRetriever.from_llm(\n",
    "    llm=llm_lama,\n",
    "    vectorstore=vectorstore2,\n",
    "    document_contents=\"Brief summary of a cosmetic product\",\n",
    "    metadata_field_info=metadata_field_info,\n",
    "    verbose=True,                                   # 디버깅용\n",
    ")"
   ]
  },
  {
   "cell_type": "code",
   "execution_count": null,
   "id": "e4b8f6ec",
   "metadata": {},
   "outputs": [],
   "source": [
    "# 테스트 (한글 쿼리 가능 여부 확인하기)\n",
    "results = retriever.invoke(\"선케어 제품 찾아줘\")\n",
    "print(f\"✅ 검색 성공! {len(results)}개 찾음\")               # 14.9s"
   ]
  },
  {
   "cell_type": "code",
   "execution_count": null,
   "id": "3b92bbf7",
   "metadata": {},
   "outputs": [],
   "source": [
    "retriever.invoke(\"선케어 제품 찾아줘\")"
   ]
  },
  {
   "cell_type": "markdown",
   "id": "2c15b990",
   "metadata": {},
   "source": [
    "<small>\n",
    "\n",
    "* `✅ 검색 성공! 1개 찾음 (8.9s)`\n",
    "\n",
    "    ```python\n",
    "    [Document(id='aa61a1b7-357a-4144-824d-4a065bba2e0c', metadata={'category': '선케어', 'user_rating': 4.9, 'year': 2024}, page_content='자외선 차단 기능이 있는 톤업 선크림, SPF50+/PA++++ 높은 자외선 차단 지수로 피부를 보호합니다.')]\n",
    "    ```"
   ]
  },
  {
   "cell_type": "markdown",
   "id": "04688b4e",
   "metadata": {},
   "source": [
    "<small>\n",
    "\n",
    "* ✅ 검색 성공! 0개 찾음 (`14.0s`)"
   ]
  },
  {
   "cell_type": "code",
   "execution_count": null,
   "id": "2a33f447",
   "metadata": {},
   "outputs": [],
   "source": [
    "# 테스트2\n",
    "results = retriever.invoke(\"suncare 제품 찾아줘\")\n",
    "print(f\"✅ 검색 성공! {len(results)}개 찾음\")               # 9.7s"
   ]
  },
  {
   "cell_type": "code",
   "execution_count": null,
   "id": "33fda767",
   "metadata": {},
   "outputs": [],
   "source": [
    "retriever.invoke(\"suncare 제품 찾아줘\")"
   ]
  },
  {
   "cell_type": "markdown",
   "id": "c5dcc697",
   "metadata": {},
   "source": [
    "<small>\n",
    "\n",
    "* `✅ 검색 성공! 1개 찾음 (10.6s)`\n",
    "\n",
    "    ```python\n",
    "    [Document(id='f148a004-9fcf-4574-96a9-e7c5fe835701', metadata={'category': 'suncare', 'year': 2024, 'user_rating': 4.9}, page_content='자외선 차단 기능이 있는 톤업 선크림, SPF50+/PA++++ 높은 자외선 차단 지수로 피부를 보호합니다.')]\n",
    "    ```"
   ]
  },
  {
   "cell_type": "code",
   "execution_count": null,
   "id": "5c257fb5",
   "metadata": {},
   "outputs": [],
   "source": [
    "retriever.invoke(\"suncare 제품 찾아줘\")"
   ]
  },
  {
   "cell_type": "markdown",
   "id": "f09660bd",
   "metadata": {},
   "source": [
    "<small>\n",
    "\n",
    "* ✅ 검색 성공! 4개 찾음 (`11.2s`)"
   ]
  },
  {
   "cell_type": "code",
   "execution_count": null,
   "id": "14e93589",
   "metadata": {},
   "outputs": [],
   "source": [
    "[Document(metadata={'year': 2024, 'category': 'suncare', 'user_rating': 4.9}, page_content='자외선 차단 기능이 있는 톤업 선크림, SPF50+/PA++++ 높은 자외선 차단 지수로 피부를 보호합니다.'),\n",
    " Document(metadata={'category': 'suncare', 'user_rating': 4.9, 'year': 2024}, page_content='자외선 차단 기능이 있는 톤업 선크림, SPF50+/PA++++ 높은 자외선 차단 지수로 피부를 보호합니다.'),\n",
    " Document(metadata={'year': 2024, 'user_rating': 4.9, 'category': 'suncare'}, page_content='자외선 차단 기능이 있는 톤업 선크림, SPF50+/PA++++ 높은 자외선 차단 지수로 피부를 보호합니다.'),\n",
    " Document(metadata={'year': 2024, 'user_rating': 4.9, 'category': 'suncare'}, page_content='자외선 차단 기능이 있는 톤업 선크림, SPF50+/PA++++ 높은 자외선 차단 지수로 피부를 보호합니다.')]"
   ]
  },
  {
   "cell_type": "markdown",
   "id": "900a48da",
   "metadata": {},
   "source": [
    "<small>\n",
    "\n",
    "* 4개의 결과 검색된 이유 확인해보기 (`9.5s`)\n",
    "\n",
    "    ```python\n",
    "    [Document(metadata={'year': 2024, 'category': 'suncare', 'user_rating': 4.9}, page_content='자외선 차단 기능이 있는 톤업 선크림, SPF50+/PA++++ 높은 자외선 차단 지수로 피부를 보호합니다.'),\n",
    "    Document(metadata={'category': 'suncare', 'user_rating': 4.9, 'year': 2024}, page_content='자외선 차단 기능이 있는 톤업 선크림, SPF50+/PA++++ 높은 자외선 차단 지수로 피부를 보호합니다.'),\n",
    "    Document(metadata={'year': 2024, 'user_rating': 4.9, 'category': 'suncare'}, page_content='자외선 차단 기능이 있는 톤업 선크림, SPF50+/PA++++ 높은 자외선 차단 지수로 피부를 보호합니다.'),\n",
    "    Document(metadata={'year': 2024, 'user_rating': 4.9, 'category': 'suncare'}, page_content='자외선 차단 기능이 있는 톤업 선크림, SPF50+/PA++++ 높은 자외선 차단 지수로 피부를 보호합니다.')]\n",
    "    ```"
   ]
  },
  {
   "cell_type": "markdown",
   "id": "4b1c9fe7",
   "metadata": {},
   "source": [
    "---"
   ]
  },
  {
   "cell_type": "markdown",
   "id": "c62dd18c",
   "metadata": {},
   "source": [
    "* 한글 쿼리가 되지 않는 이유 살펴보기\n",
    "\n",
    "  * 원인: `LLM`이 `선케어`를 `suncare`로 매핑하지 못함\n",
    "```python\n",
    "\n",
    "        # ❌ 실패\n",
    "        retriever.invoke(\"선케어 제품 찾아줘\")  # 0개\n",
    "\n",
    "        # ✅ 성공\n",
    "        retriever.invoke(\"suncare 제품 찾아줘\")  # 4개\n",
    "\n",
    "```\n",
    "\n",
    "*  * 증거: **`Chroma`가 같은 문서를 여러번 저장함**\n",
    "```python\n",
    "\n",
    "        {'year': 2024, 'category': 'suncare', 'user_rating': 4.9},\n",
    "        {'category': 'suncare', 'user_rating': 4.9, 'year': 2024},\n",
    "        {'year': 2024, 'user_rating': 4.9, 'category': 'suncare'},\n",
    "        {'user_rating': 4.9, 'category': 'suncare', 'year': 2024}\n",
    "\n",
    "```\n",
    "\n",
    "*  * 해결책: 중복을 방지하기 위해 각 문서에 **`고유 ID`** 부여하기\n",
    "\n",
    "<br>\n",
    "\n",
    "* `error` 방지 위한 조치\n",
    "  \n",
    "  * `Chroma DB` 파일이 다른 프로세스에서 열려있음을 방지하기\n",
    "  \n",
    "  * 파일 권한 문제 (*읽기 전용으로 잠겨있지 않은지 확인하기*)\n",
    "  \n",
    "  * `Jupyter` 커널이 이전 연결을 유지하지 않도록 하기\n"
   ]
  },
  {
   "cell_type": "markdown",
   "id": "0339509c",
   "metadata": {},
   "source": [
    "---"
   ]
  },
  {
   "cell_type": "code",
   "execution_count": null,
   "id": "1d0671c3",
   "metadata": {},
   "outputs": [],
   "source": [
    "# ========================================\n",
    "# 🚑 응급처치: Jupyter 커널 재시작 전에 실행!\n",
    "# ========================================\n",
    "\n",
    "import shutil\n",
    "import os\n",
    "import gc\n",
    "\n",
    "# 1. 모든 Chroma 연결 해제\n",
    "try:\n",
    "    if 'vectorstore_clean' in globals():\n",
    "        del vectorstore\n",
    "    if 'vectorstore2' in globals():\n",
    "        del vectorstore2\n",
    "    gc.collect()                                    # 가비지 컬렉션 강제 실행\n",
    "    print(\"✅ 기존 연결 해제 완료\")\n",
    "except:\n",
    "    pass\n",
    "\n",
    "# 2. DB 디렉토리 강제 삭제\n",
    "chroma_db_path = \"./chroma_cosmetic_db\"\n",
    "\n",
    "# 여러 경로 시도\n",
    "possible_paths = [\n",
    "    \"./chroma_cosmetic_db\",\n",
    "    \"./chroma_db\",\n",
    "    \"./chroma\",\n",
    "    \"./cosmetics_clean\"\n",
    "]\n",
    "\n",
    "for path in possible_paths:\n",
    "    if os.path.exists(path):\n",
    "        try:\n",
    "            shutil.rmtree(path)\n",
    "            print(f\"✅ {path} 삭제 완료\")\n",
    "        except Exception as e:\n",
    "            print(f\"⚠️ {path} 삭제 실패: {e}\")\n",
    "\n",
    "print(\"\\n🔄 이제 Jupyter 커널을 재시작하세요!\")\n",
    "print(\"   메뉴: Kernel -> Restart Kernel\")"
   ]
  },
  {
   "cell_type": "markdown",
   "id": "ead19a41",
   "metadata": {},
   "source": [
    "<small>\n",
    "\n",
    "* 셀 출력 → **`커널 재시작하기`**\n",
    "\n",
    "    ```markdown\n",
    "    ✅ 기존 연결 해제 완료\n",
    "\n",
    "    🔄 이제 Jupyter 커널을 재시작하세요!\n",
    "    메뉴: Kernel -> Restart Kernel\n",
    "    ```"
   ]
  },
  {
   "cell_type": "markdown",
   "id": "1225a805",
   "metadata": {},
   "source": [
    "#### **6) `각 문서에 고유 ID 부여해 다시 벡터스토어 생성하기`**"
   ]
  },
  {
   "cell_type": "code",
   "execution_count": null,
   "id": "3fcdaa7c",
   "metadata": {},
   "outputs": [],
   "source": [
    "# 각 문서에 고유 ID 부여해 다시 시도하기\n",
    "\n",
    "from langchain_chroma import Chroma\n",
    "from langchain_core.documents import Document\n",
    "from langchain_huggingface import HuggingFaceEmbeddings\n",
    "from langchain.chains.query_constructor.base import AttributeInfo\n",
    "from langchain.retrievers.self_query.base import SelfQueryRetriever\n",
    "from langchain_openai import ChatOpenAI\n",
    "import uuid\n",
    "\n",
    "# 1. 임베딩 모델 생성\n",
    "multilingual_embeddings = HuggingFaceEmbeddings(\n",
    "    model_name=\"sentence-transformers/paraphrase-multilingual-mpnet-base-v2\",\n",
    "    model_kwargs={'device': 'cpu'},\n",
    "    encode_kwargs={\n",
    "        'normalize_embeddings': True,}\n",
    ")\n",
    "                                                                                    # 12.5s"
   ]
  },
  {
   "cell_type": "code",
   "execution_count": null,
   "id": "0456dbd6",
   "metadata": {},
   "outputs": [],
   "source": [
    "# 2. 중복 방지: 각 문서에 고유 ID 부여\n",
    "\n",
    "docs_unique = [\n",
    "    Document(\n",
    "        page_content=\"수분 가득한 히알루론산 세럼으로 피부 속 깊은 곳까지 수분을 공급합니다.\",\n",
    "        metadata={\n",
    "            \"id\": \"doc_001\",                                                        # 고유 ID!\n",
    "            \"year\": 2024,\n",
    "            \"category\": \"skincare\",\n",
    "            \"user_rating\": 4.7\n",
    "        },\n",
    "    ),\n",
    "    Document(\n",
    "        page_content=\"24시간 지속되는 매트한 피니시의 파운데이션, 모공을 커버하고 자연스러운 피부 표현이 가능합니다.\",\n",
    "        metadata={\n",
    "            \"id\": \"doc_002\",\n",
    "            \"year\": 2023,\n",
    "            \"category\": \"makeup\",\n",
    "            \"user_rating\": 4.5\n",
    "        },\n",
    "    ),\n",
    "    Document(\n",
    "        page_content=\"식물성 성분으로 만든 저자극 클렌징 오일, 메이크업과 노폐물을 부드럽게 제거합니다.\",\n",
    "        metadata={\n",
    "            \"id\": \"doc_003\",\n",
    "            \"year\": 2023,\n",
    "            \"category\": \"cleansing\",\n",
    "            \"user_rating\": 4.8\n",
    "        },\n",
    "    ),\n",
    "    Document(\n",
    "        page_content=\"비타민 C 함유 브라이트닝 크림, 칙칙한 피부톤을 환하게 밝혀줍니다.\",\n",
    "        metadata={\n",
    "            \"id\": \"doc_004\",\n",
    "            \"year\": 2023,\n",
    "            \"category\": \"skincare\",\n",
    "            \"user_rating\": 4.6\n",
    "        },\n",
    "    ),\n",
    "    Document(\n",
    "        page_content=\"롱래스팅 립스틱, 선명한 발색과 촉촉한 사용감으로 하루종일 편안하게 사용 가능합니다.\",\n",
    "        metadata={\n",
    "            \"id\": \"doc_005\",\n",
    "            \"year\": 2024,\n",
    "            \"category\": \"makeup\",\n",
    "            \"user_rating\": 4.4\n",
    "        },\n",
    "    ),\n",
    "    Document(\n",
    "        page_content=\"자외선 차단 기능이 있는 톤업 선크림, SPF50+/PA++++ 높은 자외선 차단 지수로 피부를 보호합니다.\",\n",
    "        metadata={\n",
    "            \"id\": \"doc_006\",\n",
    "            \"year\": 2024,\n",
    "            \"category\": \"suncare\",\n",
    "            \"user_rating\": 4.9\n",
    "        },\n",
    "    ),\n",
    "]"
   ]
  },
  {
   "cell_type": "code",
   "execution_count": null,
   "id": "fbe4a5bc",
   "metadata": {},
   "outputs": [],
   "source": [
    "# 3. ✅ 타임스탬프로 고유한 경로 생성 (충돌 방지!)\n",
    "import time\n",
    "\n",
    "timestamp = int(time.time())\n",
    "chroma_db_path_new = f\"./chroma_cosmetic_{timestamp}\"\n",
    "\n",
    "print(f\"📁 새 DB 경로: {chroma_db_path_new}\")"
   ]
  },
  {
   "cell_type": "markdown",
   "id": "d6c1bf07",
   "metadata": {},
   "source": [
    "<small>\n",
    "\n",
    "* 📁 새 DB 경로: ./chroma_cosmetic_1759394599"
   ]
  },
  {
   "cell_type": "code",
   "execution_count": null,
   "id": "28097c24",
   "metadata": {},
   "outputs": [],
   "source": [
    "# 4. ✅ persist_directory 없이 생성 (메모리 모드)\n",
    "# 또는 새 경로에 생성\n",
    "vectorstore_memory = Chroma.from_documents(\n",
    "    documents=docs_unique,\n",
    "    embedding=multilingual_embeddings,\n",
    "    collection_name=f\"cosmetics_{timestamp}\",                       # 고유 이름\n",
    "    # persist_directory=None,  # 메모리 모드 (권장!)\n",
    "    # 또는:\n",
    "    #persist_directory=chroma_db_path_new,                           # 새 경로\n",
    ")\n",
    "\n",
    "#print(f\"✅ 벡터스토어 생성 완료: {vectorstore_fresh._collection.count()}개 문서\")\n",
    "print(f\"✅ 메모리 벡터스토어 생성: {vectorstore_memory._collection.count()}개\")"
   ]
  },
  {
   "cell_type": "markdown",
   "id": "b0014d25",
   "metadata": {},
   "source": [
    "<small>\n",
    "\n",
    "* ✅ 벡터스토어 생성 : 6개 (`0.9s`)"
   ]
  },
  {
   "cell_type": "code",
   "execution_count": null,
   "id": "e4cb0aec",
   "metadata": {},
   "outputs": [],
   "source": [
    "# 5. 메타데이터 정의\n",
    "\n",
    "metadata_field_info = [\n",
    "    AttributeInfo(\n",
    "        name=\"category\",\n",
    "        description=\"Product category: 'skincare' (스킨케어), 'makeup' (메이크업), 'cleansing' (클렌징), 'suncare' (선케어)\",\n",
    "        type=\"string\",\n",
    "    ),\n",
    "    AttributeInfo(\n",
    "        name=\"year\",\n",
    "        description=\"Release year\",\n",
    "        type=\"integer\",\n",
    "    ),\n",
    "    AttributeInfo(\n",
    "        name=\"user_rating\",\n",
    "        description=\"User rating (1.0-5.0)\",\n",
    "        type=\"float\",\n",
    "    ),\n",
    "]\n"
   ]
  },
  {
   "cell_type": "code",
   "execution_count": null,
   "id": "505ef139",
   "metadata": {},
   "outputs": [],
   "source": [
    "# 6. LLM\n",
    "llm_openai = ChatOpenAI(\n",
    "    model=\"gpt-4o-mini\",\n",
    "    temperature=0,\n",
    ")"
   ]
  },
  {
   "cell_type": "code",
   "execution_count": null,
   "id": "f10371b0",
   "metadata": {},
   "outputs": [],
   "source": [
    "# 7. Retriever\n",
    "\n",
    "retriever_fixed = SelfQueryRetriever.from_llm(\n",
    "    llm=llm_openai,\n",
    "    vectorstore=vectorstore_memory,\n",
    "    document_contents=\"Brief summary of a cosmetic product\",\n",
    "    metadata_field_info=metadata_field_info,\n",
    "    enable_limit=True,              # k 파라미터 활성화\n",
    "    verbose=True,                   # 디버깅용\n",
    ")                                                       # 0.3s"
   ]
  },
  {
   "cell_type": "code",
   "execution_count": null,
   "id": "e3c5e84c",
   "metadata": {},
   "outputs": [],
   "source": [
    "# 8. 후처리 함수 (중복 제거 + k 제한)\n",
    "def deduplicated_search(retriever, query, k=3):\n",
    "    \"\"\"중복 제거된 검색 결과 반환\"\"\"\n",
    "    \n",
    "    results = retriever.invoke(query)\n",
    "    \n",
    "    # ID 기반 중복 제거\n",
    "    seen_ids = set()\n",
    "    unique_results = []\n",
    "    \n",
    "    for doc in results:\n",
    "        doc_id = doc.metadata.get(\"id\")\n",
    "        if doc_id not in seen_ids:\n",
    "            seen_ids.add(doc_id)\n",
    "            unique_results.append(doc)\n",
    "    \n",
    "    # k개만 반환\n",
    "    return unique_results[:k]"
   ]
  },
  {
   "cell_type": "code",
   "execution_count": null,
   "id": "8a03ceb5",
   "metadata": {},
   "outputs": [],
   "source": [
    "# ========================================\n",
    "# 🎉 테스트!\n",
    "# ========================================\n",
    "\n",
    "print(\"\\n\" + \"=\" * 60)\n",
    "print(\"테스트 1: 한글 쿼리 (선케어)\")\n",
    "print(\"=\" * 60)\n",
    "results1 = deduplicated_search(retriever_fixed, \"선케어 제품을 찾아줘\", k=3)\n",
    "print(f\"✅ {len(results1)}개 검색됨\\n\")\n",
    "for i, doc in enumerate(results1, 1):\n",
    "    print(f\"{i}. [{doc.metadata['category']}] {doc.page_content[:40]}...\")\n",
    "    print(f\"   📅 {doc.metadata['year']}년 | ⭐ {doc.metadata['user_rating']}\")\n",
    "\n",
    "print(\"\\n\" + \"=\" * 60)\n",
    "print(\"테스트 2: 2024년 제품\")\n",
    "print(\"=\" * 60)\n",
    "results2 = deduplicated_search(retriever_fixed, \"2024년에 출시된 제품\", k=3)\n",
    "print(f\"✅ {len(results2)}개 검색됨\\n\")\n",
    "for i, doc in enumerate(results2, 1):\n",
    "    print(f\"{i}. [{doc.metadata['category']}] {doc.page_content[:40]}...\")\n",
    "    print(f\"   📅 {doc.metadata['year']}년 | ⭐ {doc.metadata['user_rating']}\")\n",
    "\n",
    "print(\"\\n\" + \"=\" * 60)\n",
    "print(\"테스트 3: 평점 4.7 이상\")\n",
    "print(\"=\" * 60)\n",
    "results3 = deduplicated_search(retriever_fixed, \"평점이 4.7 이상인 제품\", k=3)\n",
    "print(f\"✅ {len(results3)}개 검색됨\\n\")\n",
    "for i, doc in enumerate(results3, 1):\n",
    "    print(f\"{i}. [{doc.metadata['category']}] {doc.page_content[:40]}...\")\n",
    "    print(f\"   📅 {doc.metadata['year']}년 | ⭐ {doc.metadata['user_rating']}\")\n",
    "\n",
    "print(\"\\n🎉 모든 테스트 완료!\")"
   ]
  },
  {
   "cell_type": "markdown",
   "id": "1b2e210c",
   "metadata": {},
   "source": [
    "<small>\n",
    "\n",
    "* test (`3.3s`)\n",
    "\n",
    "    ```markdown\n",
    "    ============================================================\n",
    "    테스트 1: 한글 쿼리 (선케어)\n",
    "    ============================================================\n",
    "    ✅ 3개 검색됨\n",
    "\n",
    "    1. [makeup] 24시간 지속되는 매트한 피니시의 파운데이션, 모공을 커버하고 자연스러운...\n",
    "    📅 2023년 | ⭐ 4.5\n",
    "    2. [suncare] 자외선 차단 기능이 있는 톤업 선크림, SPF50+/PA++++ 높은 자...\n",
    "    📅 2024년 | ⭐ 4.9\n",
    "    3. [skincare] 비타민 C 함유 브라이트닝 크림, 칙칙한 피부톤을 환하게 밝혀줍니다....\n",
    "    📅 2023년 | ⭐ 4.6\n",
    "\n",
    "    ============================================================\n",
    "    테스트 2: 2024년 제품\n",
    "    ============================================================\n",
    "    ✅ 3개 검색됨\n",
    "\n",
    "    1. [suncare] 자외선 차단 기능이 있는 톤업 선크림, SPF50+/PA++++ 높은 자...\n",
    "    📅 2024년 | ⭐ 4.9\n",
    "    2. [makeup] 롱래스팅 립스틱, 선명한 발색과 촉촉한 사용감으로 하루종일 편안하게 사용...\n",
    "    📅 2024년 | ⭐ 4.4\n",
    "    3. [skincare] 수분 가득한 히알루론산 세럼으로 피부 속 깊은 곳까지 수분을 공급합니다....\n",
    "    📅 2024년 | ⭐ 4.7\n",
    "\n",
    "    ============================================================\n",
    "    테스트 3: 평점 4.7 이상\n",
    "    ============================================================\n",
    "    ✅ 3개 검색됨\n",
    "\n",
    "    1. [suncare] 자외선 차단 기능이 있는 톤업 선크림, SPF50+/PA++++ 높은 자...\n",
    "    📅 2024년 | ⭐ 4.9\n",
    "    2. [cleansing] 식물성 성분으로 만든 저자극 클렌징 오일, 메이크업과 노폐물을 부드럽게 ...\n",
    "    📅 2023년 | ⭐ 4.8\n",
    "    3. [skincare] 수분 가득한 히알루론산 세럼으로 피부 속 깊은 곳까지 수분을 공급합니다....\n",
    "    📅 2024년 | ⭐ 4.7\n",
    "\n",
    "    🎉 모든 테스트 완료!\n",
    "    ```"
   ]
  },
  {
   "cell_type": "markdown",
   "id": "22d3a310",
   "metadata": {},
   "source": [
    "---"
   ]
  },
  {
   "cell_type": "markdown",
   "id": "e2e7509b",
   "metadata": {},
   "source": [
    "#### **7) `Query 테스트`**"
   ]
  },
  {
   "cell_type": "code",
   "execution_count": null,
   "id": "6b7df23d",
   "metadata": {},
   "outputs": [],
   "source": [
    "# Self-query_1\n",
    "\n",
    "print(\"\\n\" + \"=\" * 60)\n",
    "print(\"Self-query_1: 평점이 4.8 이상인 제품\")\n",
    "print(\"=\" * 60)\n",
    "results1 = deduplicated_search(retriever_fixed, \"평점이 4.8 이상인 제품\", k=3)\n",
    "print(f\"✅ {len(results1)}개 검색됨\\n\")\n",
    "for i, doc in enumerate(results1, 1):\n",
    "    print(f\"{i}. [{doc.metadata['category']}] {doc.page_content[:40]}...\")\n",
    "    print(f\"   📅 {doc.metadata['year']}년 | ⭐ {doc.metadata['user_rating']}\")"
   ]
  },
  {
   "cell_type": "markdown",
   "id": "ed43ea8c",
   "metadata": {},
   "source": [
    "<small>\n",
    "\n",
    "* Self-query_1 (`0.9s`)\n",
    "\n",
    "    ```markdown\n",
    "    ============================================================\n",
    "    Self-query_1: 평점이 4.8 이상인 제품\n",
    "    ============================================================\n",
    "    ✅ 2개 검색됨\n",
    "\n",
    "    1. [suncare] 자외선 차단 기능이 있는 톤업 선크림, SPF50+/PA++++ 높은 자...\n",
    "    📅 2024년 | ⭐ 4.9\n",
    "    2. [cleansing] 식물성 성분으로 만든 저자극 클렌징 오일, 메이크업과 노폐물을 부드럽게 ...\n",
    "    📅 2023년 | ⭐ 4.8\n",
    "    ```"
   ]
  },
  {
   "cell_type": "code",
   "execution_count": null,
   "id": "2d9b4e26",
   "metadata": {},
   "outputs": [],
   "source": [
    "# Self-query_2\n",
    "\n",
    "print(\"\\n\" + \"=\" * 60)\n",
    "print(\"Self-query_2: 2023년에 출시된 상품\")\n",
    "print(\"=\" * 60)\n",
    "results1 = deduplicated_search(retriever_fixed, \"2023년에 출시된 상품\", k=5)            # 최대 5개까지\n",
    "print(f\"✅ {len(results1)}개 검색됨\\n\")\n",
    "for i, doc in enumerate(results1, 1):\n",
    "    print(f\"{i}. [{doc.metadata['category']}] {doc.page_content[:40]}...\")\n",
    "    print(f\"   📅 {doc.metadata['year']}년 | ⭐ {doc.metadata['user_rating']}\")"
   ]
  },
  {
   "cell_type": "markdown",
   "id": "ea013cd3",
   "metadata": {},
   "source": [
    "<small>\n",
    "\n",
    "* Self-query_2 (`1.5s`)\n",
    "\n",
    "    ```markdown\n",
    "    ============================================================\n",
    "    Self-query_2: 2023년에 출시된 상품\n",
    "    ============================================================\n",
    "    ✅ 3개 검색됨\n",
    "\n",
    "    1. [cleansing] 식물성 성분으로 만든 저자극 클렌징 오일, 메이크업과 노폐물을 부드럽게 ...\n",
    "    📅 2023년 | ⭐ 4.8\n",
    "    2. [makeup] 24시간 지속되는 매트한 피니시의 파운데이션, 모공을 커버하고 자연스러운...\n",
    "    📅 2023년 | ⭐ 4.5\n",
    "    3. [skincare] 비타민 C 함유 브라이트닝 크림, 칙칙한 피부톤을 환하게 밝혀줍니다....\n",
    "    📅 2023년 | ⭐ 4.6\n",
    "    ```"
   ]
  },
  {
   "cell_type": "code",
   "execution_count": null,
   "id": "68909f90",
   "metadata": {},
   "outputs": [],
   "source": [
    "# Self-query_3\n",
    "\n",
    "print(\"\\n\" + \"=\" * 60)\n",
    "print(\"Self-query_3: suncare 상품\")\n",
    "print(\"=\" * 60)\n",
    "results1 = deduplicated_search(retriever_fixed, \"suncare 상품\", k=1)\n",
    "print(f\"✅ {len(results1)}개 검색됨\\n\")\n",
    "for i, doc in enumerate(results1, 1):\n",
    "    print(f\"{i}. [{doc.metadata['category']}] {doc.page_content[:40]}...\")\n",
    "    print(f\"   📅 {doc.metadata['year']}년 | ⭐ {doc.metadata['user_rating']}\")"
   ]
  },
  {
   "cell_type": "markdown",
   "id": "5d13d25f",
   "metadata": {},
   "source": [
    "<small>\n",
    "\n",
    "* Self-query_3 (`1.2s`)\n",
    "\n",
    "    ```markdown\n",
    "    ============================================================\n",
    "    Self-query_3: suncare 상품\n",
    "    ============================================================\n",
    "    ✅ 1개 검색됨\n",
    "\n",
    "    1. [suncare] 자외선 차단 기능이 있는 톤업 선크림, SPF50+/PA++++ 높은 자...\n",
    "    📅 2024년 | ⭐ 4.9\n",
    "    ```"
   ]
  },
  {
   "cell_type": "markdown",
   "id": "26311775",
   "metadata": {},
   "source": [
    "---"
   ]
  },
  {
   "cell_type": "markdown",
   "id": "31708e42",
   "metadata": {},
   "source": [
    "* **`복합 필터`**"
   ]
  },
  {
   "cell_type": "code",
   "execution_count": null,
   "id": "ea10bb2d",
   "metadata": {},
   "outputs": [],
   "source": [
    "# Self-query_4\n",
    "\n",
    "print(\"\\n\" + \"=\" * 60)\n",
    "print(\"Self-query_4: makeup 상품 & 평점이 4.5 이상인 상품\")\n",
    "print(\"=\" * 60)\n",
    "results1 = deduplicated_search(retriever_fixed, \"makeup 상품 & 평점이 4.5 이상인 상품\", k=1)\n",
    "print(f\"✅ {len(results1)}개 검색됨\\n\")\n",
    "for i, doc in enumerate(results1, 1):\n",
    "    print(f\"{i}. [{doc.metadata['category']}] {doc.page_content[:40]}...\")\n",
    "    print(f\"   📅 {doc.metadata['year']}년 | ⭐ {doc.metadata['user_rating']}\")"
   ]
  },
  {
   "cell_type": "code",
   "execution_count": null,
   "id": "78633a5e",
   "metadata": {},
   "outputs": [],
   "source": [
    "# Self-query_4\n",
    "\n",
    "print(\"\\n\" + \"=\" * 60)\n",
    "print(\"Self-query_4: makeup 상품 중 평점이 4.5 이상인 상품\")\n",
    "print(\"=\" * 60)\n",
    "results1 = deduplicated_search(retriever_fixed, \"반드시 makeup 상품이면서 평점이 4.5 이상인 상품\")\n",
    "print(f\"✅ {len(results1)}개 검색됨\\n\")\n",
    "for i, doc in enumerate(results1, 1):\n",
    "    print(f\"{i}. [{doc.metadata['category']}] {doc.page_content[:40]}...\")\n",
    "    print(f\"   📅 {doc.metadata['year']}년 | ⭐ {doc.metadata['user_rating']}\")"
   ]
  },
  {
   "cell_type": "markdown",
   "id": "02bd675f",
   "metadata": {},
   "source": [
    "---"
   ]
  },
  {
   "cell_type": "markdown",
   "id": "a3d04ef4",
   "metadata": {},
   "source": [
    "* **`k`** = 가져올 문서의 수 조정\n",
    "\n",
    "  * **`SelfQueryRetriever`** 파라미터 중 **`enable_limit = True`** 설정"
   ]
  },
  {
   "cell_type": "code",
   "execution_count": null,
   "id": "087a57b4",
   "metadata": {},
   "outputs": [],
   "source": [
    "retriever = SelfQueryRetriever.from_llm(\n",
    "    llm=llm_openai,\n",
    "    vectorstore=vectorstore_memory,\n",
    "    document_contents=\"Brief summary of a cosmetic product\",\n",
    "    metadata_field_info=metadata_field_info,\n",
    "    enable_limit=True,                      # 검색 결과 제한 기능 활성화\n",
    "    search_kwargs={\"k\": 2},                 # k의 값 = 2 → 검색 결과를 2개로 제한\n",
    ")"
   ]
  },
  {
   "cell_type": "markdown",
   "id": "68810f22",
   "metadata": {},
   "source": [
    "* 2023년도 출시된 상품은 3개가 있지만 **`k`** 값을 2개로 지정 → **`2개만 반환하도록 함`**"
   ]
  },
  {
   "cell_type": "code",
   "execution_count": null,
   "id": "2fed8b20",
   "metadata": {},
   "outputs": [],
   "source": [
    "# Self-query_5\n",
    "\n",
    "print(\"\\n\" + \"=\" * 60)\n",
    "print(\"Self-query_5: 2023년에 출시된 상품\")\n",
    "print(\"=\" * 60)\n",
    "results1 = deduplicated_search(retriever, \"2023년에 출시된 상품\")\n",
    "print(f\"✅ {len(results1)}개 검색됨\\n\")\n",
    "for i, doc in enumerate(results1, 1):\n",
    "    print(f\"{i}. [{doc.metadata['category']}] {doc.page_content[:40]}...\")\n",
    "    print(f\"   📅 {doc.metadata['year']}년 | ⭐ {doc.metadata['user_rating']}\")"
   ]
  },
  {
   "cell_type": "markdown",
   "id": "ab107265",
   "metadata": {},
   "source": [
    "<small>\n",
    "\n",
    "* Self-query_5 (`1.7s`)\n",
    "\n",
    "    ```markdown\n",
    "    ============================================================\n",
    "    Self-query_5: 2023년에 출시된 상품\n",
    "    ============================================================\n",
    "    ✅ 2개 검색됨\n",
    "\n",
    "    1. [cleansing] 식물성 성분으로 만든 저자극 클렌징 오일, 메이크업과 노폐물을 부드럽게 ...\n",
    "    📅 2023년 | ⭐ 4.8\n",
    "    2. [makeup] 24시간 지속되는 매트한 피니시의 파운데이션, 모공을 커버하고 자연스러운...\n",
    "    📅 2023년 | ⭐ 4.5\n",
    "    ```"
   ]
  },
  {
   "cell_type": "markdown",
   "id": "3722b0f7",
   "metadata": {},
   "source": [
    "---"
   ]
  },
  {
   "cell_type": "markdown",
   "id": "400db2e3",
   "metadata": {},
   "source": [
    "* 코드 (`search_kwargs`)로 명시적으로 지정하지 않고, **`query`** 에서 **`1개`, `2개`** 등의 숫자를 사용해 검색 결과를 제할 수 있음"
   ]
  },
  {
   "cell_type": "code",
   "execution_count": null,
   "id": "ef5b5cd5",
   "metadata": {},
   "outputs": [],
   "source": [
    "retriever2 = SelfQueryRetriever.from_llm(\n",
    "    llm=llm_openai,\n",
    "    vectorstore=vectorstore_memory,\n",
    "    document_contents=\"Brief summary of a cosmetic product\",\n",
    "    metadata_field_info=metadata_field_info,\n",
    "    enable_limit=True,\n",
    ")"
   ]
  },
  {
   "cell_type": "code",
   "execution_count": null,
   "id": "f7c9ca77",
   "metadata": {},
   "outputs": [],
   "source": [
    "# Self-query_6 ver.1\n",
    "retriever2.invoke(\"2023년에 출시된 상품 1개를 추천해주세요\")"
   ]
  },
  {
   "cell_type": "code",
   "execution_count": null,
   "id": "8ee0392d",
   "metadata": {},
   "outputs": [],
   "source": [
    "# Self-query_6 ver.2\n",
    "\n",
    "print(\"\\n\" + \"=\" * 60)\n",
    "print(\"Self-query_6: 2023년에 출시된 상품 1개를 추천해주세요\")\n",
    "print(\"=\" * 60)\n",
    "results1 = deduplicated_search(retriever2, \"2023년에 출시된 상품 1개를 추천해주세요\")\n",
    "print(f\"✅ {len(results1)}개 검색됨\\n\")\n",
    "for i, doc in enumerate(results1, 1):\n",
    "    print(f\"{i}. [{doc.metadata['category']}] {doc.page_content[:40]}...\")\n",
    "    print(f\"   📅 {doc.metadata['year']}년 | ⭐ {doc.metadata['user_rating']}\")"
   ]
  },
  {
   "cell_type": "markdown",
   "id": "ff3893e0",
   "metadata": {},
   "source": [
    "<small>\n",
    "\n",
    "* Self-query_6 ver.1 (`2.4s`)\n",
    "\n",
    "    ```python\n",
    "\n",
    "    [Document(id='996155f0-cf85-4761-b1bf-3a75a4006d7e', metadata={'id': 'doc_003', 'category': 'cleansing', 'year': 2023, 'user_rating': 4.8}, page_content='식물성 성분으로 만든 저자극 클렌징 오일, 메이크업과 노폐물을 부드럽게 제거합니다.')]\n",
    "\n",
    "    ```\n",
    "\n",
    "* Self-query_6 ver.2 (`1.9s`)\n",
    "\n",
    "    ```markdown\n",
    "    \n",
    "    ============================================================\n",
    "    Self-query_6: 2023년에 출시된 상품 1개를 추천해주세요\n",
    "    ============================================================\n",
    "    ✅ 1개 검색됨\n",
    "\n",
    "    1. [cleansing] 식물성 성분으로 만든 저자극 클렌징 오일, 메이크업과 노폐물을 부드럽게 ...\n",
    "    📅 2023년 | ⭐ 4.8\n",
    "    ```"
   ]
  },
  {
   "cell_type": "code",
   "execution_count": null,
   "id": "5b10e162",
   "metadata": {},
   "outputs": [],
   "source": [
    "# Self-query_7 ver.1\n",
    "retriever.invoke(\"2023년에 출시된 상품 2개를 추천해주세요\")"
   ]
  },
  {
   "cell_type": "code",
   "execution_count": null,
   "id": "19b1f56d",
   "metadata": {},
   "outputs": [],
   "source": [
    "# Self-query_7 ver.2\n",
    "\n",
    "print(\"\\n\" + \"=\" * 60)\n",
    "print(\"Self-query_7: 2023년에 출시된 상품 2개를 추천해주세요\")\n",
    "print(\"=\" * 60)\n",
    "results1 = deduplicated_search(retriever2, \"2023년에 출시된 상품 2개를 추천해주세요\")\n",
    "print(f\"✅ {len(results1)}개 검색됨\\n\")\n",
    "for i, doc in enumerate(results1, 1):\n",
    "    print(f\"{i}. [{doc.metadata['category']}] {doc.page_content[:40]}...\")\n",
    "    print(f\"   📅 {doc.metadata['year']}년 | ⭐ {doc.metadata['user_rating']}\")"
   ]
  },
  {
   "cell_type": "markdown",
   "id": "3b566baf",
   "metadata": {},
   "source": [
    "<small>\n",
    "\n",
    "* Self-query_7 ver.1 (`1.2s`)\n",
    "\n",
    "    ```python\n",
    "\n",
    "    [Document(id='996155f0-cf85-4761-b1bf-3a75a4006d7e', metadata={'category': 'cleansing', 'year': 2023, 'user_rating': 4.8, 'id': 'doc_003'}, page_content='식물성 성분으로 만든 저자극 클렌징 오일, 메이크업과 노폐물을 부드럽게 제거합니다.'),\n",
    "    Document(id='7e44e475-ceb6-4ba3-be2b-d48216669931', metadata={'year': 2023, 'id': 'doc_002', 'category': 'makeup', 'user_rating': 4.5}, page_content='24시간 지속되는 매트한 피니시의 파운데이션, 모공을 커버하고 자연스러운 피부 표현이 가능합니다.')]\n",
    "\n",
    "    ```\n",
    "\n",
    "* Self-query_7 ver.2 (`1.3s`)\n",
    "\n",
    "    ```markdown\n",
    "    \n",
    "    ============================================================\n",
    "    Self-query_7: 2023년에 출시된 상품 2개를 추천해주세요\n",
    "    ============================================================\n",
    "    ✅ 2개 검색됨\n",
    "\n",
    "    1. [cleansing] 식물성 성분으로 만든 저자극 클렌징 오일, 메이크업과 노폐물을 부드럽게 ...\n",
    "    📅 2023년 | ⭐ 4.8\n",
    "    2. [makeup] 24시간 지속되는 매트한 피니시의 파운데이션, 모공을 커버하고 자연스러운...\n",
    "    📅 2023년 | ⭐ 4.5\n",
    "    ```"
   ]
  },
  {
   "cell_type": "markdown",
   "id": "6b3d0185",
   "metadata": {},
   "source": [
    "---"
   ]
  },
  {
   "cell_type": "markdown",
   "id": "a40df744",
   "metadata": {},
   "source": [
    "#### **8) `더 깊게 들어가기`**"
   ]
  },
  {
   "cell_type": "markdown",
   "id": "1646a11a",
   "metadata": {},
   "source": [
    "* 처음부터 **`retriever`** 재구성 가능 \n",
    "\n",
    "  * **`query-construction chain`** 생성에서부터 시작함\n",
    "\n",
    "* *[`참고 튜토리얼`](https://github.com/langchain-ai/langchain/blob/master/cookbook/self_query_hotel_search.ipynb)*"
   ]
  },
  {
   "cell_type": "markdown",
   "id": "b24719ea",
   "metadata": {},
   "source": [
    "* **`query_constructor chain`** 생성\n",
    "\n",
    "  * `get_query_constructor_prompt` 함수 사용 → 쿼리 생성기 프롬프트 가져오기"
   ]
  },
  {
   "cell_type": "code",
   "execution_count": null,
   "id": "c6a388a6",
   "metadata": {},
   "outputs": [],
   "source": [
    "from langchain.chains.query_constructor.base import (\n",
    "    StructuredQueryOutputParser,\n",
    "    get_query_constructor_prompt,\n",
    ")\n",
    "\n",
    "# 쿼리 생성기 프롬프트 가져오기\n",
    "prompt = get_query_constructor_prompt(\n",
    "    \"Brief summary of a cosmetic product\",              # 문서 내용 설명\n",
    "    metadata_field_info,                                # 메타데이터 필드 정보\n",
    ")\n",
    "\n",
    "# StructuredQueryOutputParser 를 생성\n",
    "output_parser = StructuredQueryOutputParser.from_components()\n",
    "\n",
    "# query_constructor chain 생성\n",
    "query_constructor = prompt | llm_openai | output_parser\n"
   ]
  },
  {
   "cell_type": "markdown",
   "id": "b05bb04b",
   "metadata": {},
   "source": [
    "* **`query_constructor.invoke()`** 메서드 호출 → 주어진 쿼리에 대한 처리 수행"
   ]
  },
  {
   "cell_type": "code",
   "execution_count": null,
   "id": "80c79608",
   "metadata": {},
   "outputs": [],
   "source": [
    "query_output = query_constructor.invoke(\n",
    "    {\n",
    "        # 쿼리 생성기 호출 → 주어진 질문에 대한 쿼리 생성\n",
    "        \"query\": \"2023년도에 출시한 상품 중 평점이 4.5 이상인 상품중에서 스킨케어 제품을 추천해주세요\"\n",
    "    }\n",
    ")\n",
    "                                                                            # 1.5s"
   ]
  },
  {
   "cell_type": "markdown",
   "id": "bf515cbd",
   "metadata": {},
   "source": [
    "* 생성된 쿼리 확인해보기"
   ]
  },
  {
   "cell_type": "code",
   "execution_count": null,
   "id": "11122ba8",
   "metadata": {},
   "outputs": [],
   "source": [
    "# 쿼리 출력해보기\n",
    "\n",
    "query_output.filter.arguments"
   ]
  },
  {
   "cell_type": "markdown",
   "id": "eaa15ee6",
   "metadata": {},
   "source": [
    "<small>\n",
    "\n",
    "* 생성된 쿼리 출력해보기\n",
    "\n",
    "    ```python\n",
    "    [Comparison(comparator=<Comparator.EQ: 'eq'>, attribute='year', value=2023),\n",
    "    Comparison(comparator=<Comparator.GTE: 'gte'>, attribute='user_rating', value=4.5),\n",
    "    Comparison(comparator=<Comparator.EQ: 'eq'>, attribute='category', value='skincare')]\n",
    "    ```"
   ]
  },
  {
   "cell_type": "markdown",
   "id": "bed8fcf9",
   "metadata": {},
   "source": [
    "---"
   ]
  },
  {
   "cell_type": "markdown",
   "id": "c5323cda",
   "metadata": {},
   "source": [
    "#### **9) `구조화된 쿼리 변환기를 사용해 구조화된 쿼리로 변환하기`**"
   ]
  },
  {
   "cell_type": "markdown",
   "id": "02b44d30",
   "metadata": {},
   "source": [
    "* **`structured query translator`**\n",
    "\n",
    "  * 일반적인 `StructuredQuery` 객체를 사용중인 `vector store` 구문에 맞는 메타데이터 필터로 변환하는 역할 담당"
   ]
  },
  {
   "cell_type": "code",
   "execution_count": null,
   "id": "e528b3bb",
   "metadata": {},
   "outputs": [],
   "source": [
    "from langchain.retrievers.self_query.chroma import ChromaTranslator\n",
    "\n",
    "retriever3 = SelfQueryRetriever(\n",
    "    query_constructor=query_constructor,              # 이전에 생성한 query_constructor chain을 지정\n",
    "    vectorstore=vectorstore_memory,                   # 벡터 저장소를 지정\n",
    "    structured_query_translator=ChromaTranslator(),   # 쿼리 변환기\n",
    ")"
   ]
  },
  {
   "cell_type": "markdown",
   "id": "1cb45b1d",
   "metadata": {},
   "source": [
    "* **`retriever.invoke()`** 메서드 사용 → 주어진 질문에 대한 답변 생성하기"
   ]
  },
  {
   "cell_type": "code",
   "execution_count": null,
   "id": "ff61c9c7",
   "metadata": {},
   "outputs": [],
   "source": [
    "retriever3.invoke(\n",
    "    \"2023년도에 출시한 상품 중 평점이 4.5 이상인 상품중에서 스킨케어 제품을 추천해주세요\"       # 질문\n",
    ")"
   ]
  },
  {
   "cell_type": "markdown",
   "id": "418dc17d",
   "metadata": {},
   "source": [
    "<small>\n",
    "\n",
    "* Structured query translator (`2.2s`)\n",
    "\n",
    "    ```python\n",
    "    [Document(id='6768ce36-89aa-4bd3-a81b-5da51c1b1bbe', metadata={'year': 2023, 'id': 'doc_004', 'category': 'skincare', 'user_rating': 4.6}, page_content='비타민 C 함유 브라이트닝 크림, 칙칙한 피부톤을 환하게 밝혀줍니다.')]\n",
    "    ```"
   ]
  },
  {
   "cell_type": "code",
   "execution_count": null,
   "id": "bbef488e",
   "metadata": {},
   "outputs": [],
   "source": [
    "# Structured query translator\n",
    "\n",
    "print(\"\\n\" + \"=\" * 60)\n",
    "print(\"Structured query translator: 2023년도에 출시한 상품 중 평점이 4.5 이상인 상품중에서 스킨케어 제품을 추천해주세요\")\n",
    "print(\"=\" * 60)\n",
    "results3 = deduplicated_search(retriever3, \"2023년도에 출시한 상품 중 평점이 4.5 이상인 상품중에서 스킨케어 제품을 추천해주세요\")\n",
    "print(f\"✅ {len(results3)}개 검색됨\\n\")\n",
    "for i, doc in enumerate(results3, 1):\n",
    "    print(f\"{i}. [{doc.metadata['category']}] {doc.page_content[:40]}...\")\n",
    "    print(f\"   📅 {doc.metadata['year']}년 | ⭐ {doc.metadata['user_rating']}\")"
   ]
  },
  {
   "cell_type": "markdown",
   "id": "89731b3e",
   "metadata": {},
   "source": [
    "<small>\n",
    "\n",
    "* Structured query translator (`2.2s`)\n",
    "\n",
    "    ```python\n",
    "\n",
    "    [Document(id='6768ce36-89aa-4bd3-a81b-5da51c1b1bbe', metadata={'year': 2023, 'id': 'doc_004', 'category': 'skincare', 'user_rating': 4.6}, page_content='비타민 C 함유 브라이트닝 크림, 칙칙한 피부톤을 환하게 밝혀줍니다.')]\n",
    "\n",
    "    ```\n",
    "\n",
    "<br>\n",
    "\n",
    "* 깔끔하게 출력하기 (`1.4s`)\n",
    "\n",
    "    ```markdown\n",
    "\n",
    "    ============================================================\n",
    "    Structured query translator: 2023년도에 출시한 상품 중 평점이 4.5 이상인 상품중에서 스킨케어 제품을 추천해주세요\n",
    "    ============================================================\n",
    "    ✅ 1개 검색됨\n",
    "\n",
    "    1. [skincare] 비타민 C 함유 브라이트닝 크림, 칙칙한 피부톤을 환하게 밝혀줍니다....\n",
    "    📅 2023년 | ⭐ 4.6\n",
    "    ``` "
   ]
  },
  {
   "cell_type": "markdown",
   "id": "8139dcdc",
   "metadata": {},
   "source": [
    "---"
   ]
  },
  {
   "cell_type": "markdown",
   "id": "829716b9",
   "metadata": {},
   "source": [
    "* *next: **`시간 가중 벡터저장소 검색기 (TimeWeightedVectorStoreRetriever)`***"
   ]
  },
  {
   "cell_type": "markdown",
   "id": "77b5a622",
   "metadata": {},
   "source": [
    "---"
   ]
  }
 ],
 "metadata": {
  "kernelspec": {
   "display_name": "lc_env",
   "language": "python",
   "name": "python3"
  },
  "language_info": {
   "codemirror_mode": {
    "name": "ipython",
    "version": 3
   },
   "file_extension": ".py",
   "mimetype": "text/x-python",
   "name": "python",
   "nbconvert_exporter": "python",
   "pygments_lexer": "ipython3",
   "version": "3.13.5"
  }
 },
 "nbformat": 4,
 "nbformat_minor": 5
}
