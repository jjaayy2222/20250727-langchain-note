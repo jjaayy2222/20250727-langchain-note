{
 "cells": [
  {
   "cell_type": "markdown",
   "id": "70a79bc3",
   "metadata": {},
   "source": [
    "---"
   ]
  },
  {
   "cell_type": "markdown",
   "id": "f7062113",
   "metadata": {},
   "source": [
    "* 출처: LangChain 공식 문서 또는 해당 교재명\n",
    "* 원본 URL: https://smith.langchain.com/hub/teddynote/summary-stuff-documents"
   ]
  },
  {
   "cell_type": "markdown",
   "id": "79eccb97",
   "metadata": {},
   "source": [
    "---"
   ]
  },
  {
   "cell_type": "markdown",
   "id": "73ab2017",
   "metadata": {},
   "source": [
    "### **11. `Convex Combination(CC) 적용된 앙상블 검색기(EnsembleRetriever)`**"
   ]
  },
  {
   "cell_type": "markdown",
   "id": "519bf8c2",
   "metadata": {},
   "source": [
    "#### **1) Ensemble Retriever `Convex Combination(CC)` 추가**"
   ]
  },
  {
   "cell_type": "markdown",
   "id": "17c94be4",
   "metadata": {},
   "source": [
    "* [참고]: [`AutoRAG가 제개한 알고리즘 방식의 차이 설명`](https://velog.io/@autorag/%EB%9E%AD%EC%B2%B4%EC%9D%B8%EC%9D%98-Ensemble-Retriever-%EC%9D%B4%EA%B2%8C-%EB%8C%80%EC%B2%B4-%EB%AD%90%EC%A7%80)"
   ]
  },
  {
   "cell_type": "markdown",
   "id": "8b65a190",
   "metadata": {},
   "source": [
    "---"
   ]
  },
  {
   "cell_type": "markdown",
   "id": "d0a006c3",
   "metadata": {},
   "source": [
    "#### **2) `실험을 위한 사전 셋업`**"
   ]
  },
  {
   "cell_type": "code",
   "execution_count": 2,
   "id": "cf15c645",
   "metadata": {},
   "outputs": [
    {
     "name": "stdout",
     "output_type": "stream",
     "text": [
      "   ✅ 217개 청크 생성\n"
     ]
    }
   ],
   "source": [
    "from langchain.retrievers import EnsembleRetriever as OriginalEnsembleRetriever\n",
    "from langchain_text_splitters import RecursiveCharacterTextSplitter\n",
    "from langchain_community.document_loaders import PDFPlumberLoader\n",
    "from langchain_community.vectorstores import FAISS\n",
    "\n",
    "# 문서 로드(Load Documents)\n",
    "loader = PDFPlumberLoader(\"../10_Retriever/data/디지털_정부혁신_추진계획.pdf\")\n",
    "\n",
    "# 문서 분할(Split Documents): 테스트를 위하여 작은 Chunk Size로 설정\n",
    "text_splitter = RecursiveCharacterTextSplitter(chunk_size=100, chunk_overlap=0)\n",
    "split_documents = loader.load_and_split(text_splitter)\n",
    "\n",
    "print(f\"   ✅ {len(split_documents)}개 청크 생성\")"
   ]
  },
  {
   "cell_type": "markdown",
   "id": "41befa53",
   "metadata": {},
   "source": [
    "<small>\n",
    "\n",
    "* ✅ 217개 청크 생성 (`5.7s`)"
   ]
  },
  {
   "cell_type": "code",
   "execution_count": 3,
   "id": "77098da4",
   "metadata": {},
   "outputs": [
    {
     "name": "stdout",
     "output_type": "stream",
     "text": [
      "768\n"
     ]
    }
   ],
   "source": [
    "import gc\n",
    "import numpy as np\n",
    "import time\n",
    "from langchain_huggingface import HuggingFaceEmbeddings\n",
    "import warnings\n",
    "\n",
    "# 경고 무시\n",
    "warnings.filterwarnings(\"ignore\")\n",
    "\n",
    "# 임베딩\n",
    "embeddings = HuggingFaceEmbeddings()\n",
    "\n",
    "# 임베딩 차원 크기 계산해보기\n",
    "dimention_size = len(embeddings.embed_query(\"hello world\"))\n",
    "print(dimention_size)                                       # 768"
   ]
  },
  {
   "cell_type": "code",
   "execution_count": 4,
   "id": "0a0e4405",
   "metadata": {},
   "outputs": [
    {
     "name": "stdout",
     "output_type": "stream",
     "text": [
      "   ✅ FAISS 생성\n"
     ]
    }
   ],
   "source": [
    "# FaissRetriever 생성\n",
    "\n",
    "faiss = FAISS.from_documents(\n",
    "    documents=split_documents, embedding=embeddings\n",
    ").as_retriever(search_kwargs={\"k\": 5})\n",
    "\n",
    "print(\"   ✅ FAISS 생성\")"
   ]
  },
  {
   "cell_type": "markdown",
   "id": "386c1a06",
   "metadata": {},
   "source": [
    "<small>\n",
    "\n",
    "* ✅ FAISS 생성 (`13.1s`)"
   ]
  },
  {
   "cell_type": "code",
   "execution_count": 5,
   "id": "3846fddb",
   "metadata": {},
   "outputs": [
    {
     "name": "stdout",
     "output_type": "stream",
     "text": [
      "   ✅ BM25 생성\n"
     ]
    }
   ],
   "source": [
    "# KiwiBM25Retriever 생성(한글 형태소 분석기 + BM25 알고리즘)\n",
    "from utils.korean_bm25_retriever_2 import KoreanBM25Retriever, pretty_print\n",
    "\n",
    "# 검색기 생성하기\n",
    "bm25 = KoreanBM25Retriever.from_documents(\n",
    "    documents=split_documents,\n",
    "    embedding=embeddings\n",
    ")\n",
    "bm25.k = 5\n",
    "print(\"   ✅ BM25 생성\")"
   ]
  },
  {
   "cell_type": "markdown",
   "id": "b99ac14c",
   "metadata": {},
   "source": [
    "<small>\n",
    "\n",
    "* ✅ BM25 생성 (`2.2s`)"
   ]
  },
  {
   "cell_type": "code",
   "execution_count": 7,
   "id": "7fd7b0d5",
   "metadata": {},
   "outputs": [],
   "source": [
    "# Langchain EnsembleRetriever 생성\n",
    "\n",
    "original_ensemble_retriever = OriginalEnsembleRetriever(retrievers=[faiss, bm25])"
   ]
  },
  {
   "cell_type": "markdown",
   "id": "a72035ab",
   "metadata": {},
   "source": [
    "---"
   ]
  },
  {
   "cell_type": "markdown",
   "id": "740fbbe9",
   "metadata": {},
   "source": [
    "#### **3) `CC 방식`과 `RRF 방식`의 `EnsembleRetriever` 생성**"
   ]
  },
  {
   "cell_type": "markdown",
   "id": "2602ddad",
   "metadata": {},
   "source": [
    "* **`RRF` (Reciprocal Rank Fusion)**\n",
    "\n",
    "  * 특징: 각 검색기의 **`순위를 결합` → `상위 순위에 높은 가중치`**\n",
    "\n",
    "  * 공식\n",
    "  ```python\n",
    "\n",
    "        RRF_score = sum(1 / ( k + rank ))       # k = 60 (기본값)\n",
    "                                                # rank = 각 검색기에서의 순위\n",
    "\n",
    "  ```\n",
    "\n",
    "  * 에시\n",
    "  ```markdown\n",
    "  \n",
    "      문서 A:\n",
    "      - FAISS: 1위 → 1/(60+1) = 0.0164\n",
    "      - BM25: 3위 → 1/(60+3) = 0.0159\n",
    "      - RRF: 0.0323\n",
    "\n",
    "      문서 B:\n",
    "      - FAISS: 2위 → 1/(60+2) = 0.0161\n",
    "      - BM25: 1위 → 1/(60+1) = 0.0164\n",
    "      - RRF: 0.0325                                  ← 1위!\n",
    "\n",
    "    ```\n",
    "\n",
    "  * 유용한 경우\n",
    "    * 검색 점수를 신회할 수 없을 때\n",
    "    * 다양한 검색기 조합할 때\n",
    "    * 일반적인 경우 *(안전한 선택)*"
   ]
  },
  {
   "cell_type": "markdown",
   "id": "41917089",
   "metadata": {},
   "source": [
    "* **`CC`** (Convex Combination)\n",
    "\n",
    "  * 특징: 각 검색기의 **`점수를 결합` → `가중치 조정 가능`**\n",
    "  * 공식\n",
    "  ```python\n",
    "\n",
    "        CC_score = w1 * score1 + w2 * score2\n",
    "        # w1, w2 = 가중치 (기본: 0.5, 0.5)\n",
    "        # score = 각 검색기의 유사도 점수\n",
    "\n",
    "  ```\n",
    "\n",
    "  * 예시\n",
    "  ```markdown\n",
    "\n",
    "      문서 A:\n",
    "      - FAISS: 0.8 → 0.5 * 0.8 = 0.4\n",
    "      - BM25: 0.6 → 0.5 * 0.6 = 0.3\n",
    "      - CC: 0.7\n",
    "\n",
    "      문서 B:\n",
    "      - FAISS: 0.7 → 0.5 * 0.7 = 0.35\n",
    "      - BM25: 0.9 → 0.5 * 0.9 = 0.45\n",
    "      - CC: 0.8                                       ← 1위!\n",
    "\n",
    "  ```\n",
    "\n",
    "  * 유용한 경우\n",
    "    * 검색 점수를 신뢰할 때\n",
    "    * 특정 검색기에 가중치를 주고 싶을 때\n",
    "    * 점수 기반 세밀한 조정이 필요할 때"
   ]
  },
  {
   "cell_type": "code",
   "execution_count": null,
   "id": "f3a1179a",
   "metadata": {},
   "outputs": [
    {
     "name": "stdout",
     "output_type": "stream",
     "text": [
      "============================================================\n",
      "🚀 Custom Ensemble Retriever 실습\n",
      "============================================================\n",
      "\n",
      " Custom Ensemble Retriever 생성...\n",
      "   ✅ RRF Ensemble\n",
      "   ✅ CC Ensemble (균등)\n",
      "   ✅ CC Ensemble (균등)\n",
      "   ✅ CC Ensemble (FAISS 70%)\n",
      "   ✅ CC Ensemble (BM25 70%)\n"
     ]
    }
   ],
   "source": [
    "from dotenv import load_dotenv\n",
    "load_dotenv()\n",
    "\n",
    "from utils.korean_bm25_retriever_2 import KoreanBM25Retriever\n",
    "from utils.ensemble_retriever import (\n",
    "    CustomEnsembleRetriever,\n",
    "    EnsembleMethod,\n",
    "    compare_methods,\n",
    ")\n",
    "\n",
    "import warnings\n",
    "\n",
    "warnings.filterwarnings(\"ignore\")\n",
    "\n",
    "print(\"=\" * 60)\n",
    "print(\"🚀 Custom Ensemble Retriever 실습\")\n",
    "print(\"=\" * 60)\n",
    "\n",
    "\n",
    "# Custom Ensemble Retriever\n",
    "\n",
    "print(\"\\n Custom Ensemble Retriever 생성...\")\n",
    "\n",
    "# RRF 방식\n",
    "rrf_ensemble = CustomEnsembleRetriever(\n",
    "    retrievers=[faiss, bm25],\n",
    "    method=EnsembleMethod.RRF,\n",
    "    k=5\n",
    ")\n",
    "print(\"   ✅ RRF Ensemble\")\n",
    "\n",
    "# CC 방식 (균등 가중치)\n",
    "cc_ensemble = CustomEnsembleRetriever(\n",
    "    retrievers=[faiss, bm25],\n",
    "    method=EnsembleMethod.CC,\n",
    "    k=5\n",
    ")\n",
    "print(\"   ✅ CC Ensemble (균등)\")\n",
    "\n",
    "# CC 방식 (FAISS 우선)\n",
    "cc_faiss_weighted = CustomEnsembleRetriever(\n",
    "    retrievers=[faiss, bm25],\n",
    "    method=EnsembleMethod.CC,\n",
    "    weights=[0.7, 0.3],                         # FAISS 70%, BM25 30%\n",
    "    k=5\n",
    ")\n",
    "print(\"   ✅ CC Ensemble (FAISS 70%)\")\n",
    "\n",
    "# CC 방식 (BM25 우선)\n",
    "cc_bm25_weighted = CustomEnsembleRetriever(\n",
    "    retrievers=[faiss, bm25],\n",
    "    method=EnsembleMethod.CC,\n",
    "    weights=[0.3, 0.7],                         # FAISS 30%, BM25 70%\n",
    "    k=5\n",
    ")\n",
    "print(\"   ✅ CC Ensemble (BM25 70%)\")"
   ]
  },
  {
   "cell_type": "markdown",
   "id": "e6075f85",
   "metadata": {},
   "source": [
    "<small>\n",
    "\n",
    "* 셀 출력\n",
    "\n",
    "    ```markdown\n",
    "    ============================================================\n",
    "    🚀 Custom Ensemble Retriever 실습\n",
    "    ============================================================\n",
    "\n",
    "    Custom Ensemble Retriever 생성...\n",
    "    ✅ RRF Ensemble\n",
    "    ✅ CC Ensemble (균등)\n",
    "\n",
    "    ✅ CC Ensemble (FAISS 70%)\n",
    "    ✅ CC Ensemble (BM25 70%)\n",
    "    ```"
   ]
  },
  {
   "cell_type": "markdown",
   "id": "d46d6843",
   "metadata": {},
   "source": [
    "* 검색 결과 비교하기"
   ]
  },
  {
   "cell_type": "code",
   "execution_count": 9,
   "id": "dad26633",
   "metadata": {},
   "outputs": [
    {
     "name": "stdout",
     "output_type": "stream",
     "text": [
      "\n",
      " 검색 비교결과...\n",
      "\n",
      "============================================================\n",
      "🔍 검색어: 디지털 트랜스포메이션이란 무엇인가요?\n",
      "============================================================\n"
     ]
    },
    {
     "name": "stderr",
     "output_type": "stream",
     "text": [
      "huggingface/tokenizers: The current process just got forked, after parallelism has already been used. Disabling parallelism to avoid deadlocks...\n",
      "To disable this warning, you can either:\n",
      "\t- Avoid using `tokenizers` before the fork if possible\n",
      "\t- Explicitly set the environment variable TOKENIZERS_PARALLELISM=(true | false)\n"
     ]
    },
    {
     "name": "stdout",
     "output_type": "stream",
     "text": [
      "\n",
      "============================================================\n",
      "📊 RRF (Reciprocal Rank Fusion)\n",
      "============================================================\n",
      "\n",
      "[1] 점수: 0.0310\n",
      "    Ⅱ. 디지털 정부혁신 추진계획 ······················· 2...\n",
      "\n",
      "[2] 점수: 0.0164\n",
      "    ☞ (기존) 공공시설 이용료 감면 혜택을 주기 위해 이용자에게 각종 증명서(장애인증명, 기초생활...\n",
      "\n",
      "[3] 점수: 0.0164\n",
      "    Ⅱ. 디지털 정부혁신 추진계획\n",
      "‣ (비전) 디지털로 여는 좋은 세상 ※ 부제 : 대한민국이 먼저 갑니다....\n",
      "\n",
      "[4] 점수: 0.0161\n",
      "    □ 추진체계 강화 △ 디지털정부혁신기획단, 디자인‧개발 전문가팀 신설\n",
      "△ 범정부 T/F 운영...\n",
      "\n",
      "[5] 점수: 0.0161\n",
      "    ○ (디지털 고지 수납) 각종 고지서·안내문* 등을 온라인(공공 민간)\n",
      "으로 받고, 간편하게 납부할 수 있도록 디지털 고지 수납 활성화...\n",
      "\n",
      "============================================================\n",
      "📊 CC (Convex Combination)\n",
      "============================================================\n",
      "\n",
      "[1] 점수: 0.5000\n",
      "    ☞ (기존) 공공시설 이용료 감면 혜택을 주기 위해 이용자에게 각종 증명서(장애인증명, 기초생활...\n",
      "\n",
      "[2] 점수: 0.5000\n",
      "    Ⅱ. 디지털 정부혁신 추진계획\n",
      "‣ (비전) 디지털로 여는 좋은 세상 ※ 부제 : 대한민국이 먼저 갑니다....\n",
      "\n",
      "[3] 점수: 0.3750\n",
      "    □ 추진체계 강화 △ 디지털정부혁신기획단, 디자인‧개발 전문가팀 신설\n",
      "△ 범정부 T/F 운영...\n",
      "\n",
      "[4] 점수: 0.3750\n",
      "    ○ (디지털 고지 수납) 각종 고지서·안내문* 등을 온라인(공공 민간)\n",
      "으로 받고, 간편하게 납부할 수 있도록 디지털 고지 수납 활성화...\n",
      "\n",
      "[5] 점수: 0.2500\n",
      "    하여 공공분야 디지털 전환을 위한 추진계획 마련\n",
      "* 관계부처 협의 21회(행안,과기정통,기재,복지,권익위,국정원 등), 민간전문가 의견청취 10...\n",
      "\n",
      "============================================================\n",
      "📊 차이 분석\n",
      "============================================================\n",
      "\n",
      "⚠️ RRF와 CC가 다른 1위 선택!\n",
      "\n",
      "RRF 1위: Ⅱ. 디지털 정부혁신 추진계획 ······················· 2...\n",
      "CC 1위:  ☞ (기존) 공공시설 이용료 감면 혜택을 주기 위해 이용자에게 각종 증명서(장애인증명, 기초생활...\n",
      "\n",
      "============================================================\n",
      "📊 가중치별 비교\n",
      "============================================================\n",
      "\n",
      "[균등 가중치] 1위:\n",
      "  ☞ (기존) 공공시설 이용료 감면 혜택을 주기 위해 이용자에게 각종 증명서(장애인증명, 기초생활...\n",
      "\n",
      "[FAISS 70%] 1위:\n",
      "  ☞ (기존) 공공시설 이용료 감면 혜택을 주기 위해 이용자에게 각종 증명서(장애인증명, 기초생활...\n",
      "\n",
      "[BM25 70%] 1위:\n",
      "  Ⅱ. 디지털 정부혁신 추진계획\n",
      "‣ (비전) 디지털로 여는 좋은 세상 ※ 부제 : 대한민국이 먼저 갑니다....\n",
      "\n",
      "============================================================\n",
      "✅ 실습 완료!\n",
      "============================================================\n"
     ]
    }
   ],
   "source": [
    "print(\"\\n 검색 비교결과...\")\n",
    "\n",
    "query = \"디지털 트랜스포메이션이란 무엇인가요?\"\n",
    "\n",
    "# RRF vs CC 비교\n",
    "compare_methods([faiss, bm25], query, k=5)\n",
    "\n",
    "# 가중치 비교\n",
    "print(\"\\n\" + \"=\"*60)\n",
    "print(\"📊 가중치별 비교\")\n",
    "print(\"=\"*60)\n",
    "\n",
    "results_equal = cc_ensemble.invoke(query)\n",
    "results_faiss = cc_faiss_weighted.invoke(query)\n",
    "results_bm25 = cc_bm25_weighted.invoke(query)\n",
    "\n",
    "print(\"\\n[균등 가중치] 1위:\")\n",
    "print(f\"  {results_equal[0].page_content[:60]}...\")\n",
    "\n",
    "print(\"\\n[FAISS 70%] 1위:\")\n",
    "print(f\"  {results_faiss[0].page_content[:60]}...\")\n",
    "\n",
    "print(\"\\n[BM25 70%] 1위:\")\n",
    "print(f\"  {results_bm25[0].page_content[:60]}...\")\n",
    "\n",
    "print(\"\\n\" + \"=\"*60)\n",
    "print(\"✅ 실습 완료!\")\n",
    "print(\"=\"*60)"
   ]
  },
  {
   "cell_type": "markdown",
   "id": "d778a62f",
   "metadata": {},
   "source": [
    "<small>\n",
    "\n",
    "* 검색 비교 결과\n",
    "\n",
    "    ```markdown\n",
    "\n",
    "    검색 비교결과...\n",
    "\n",
    "    ============================================================\n",
    "    🔍 검색어: 디지털 트랜스포메이션이란 무엇인가요?\n",
    "    ============================================================\n",
    "\n",
    "    ============================================================\n",
    "    📊 RRF (Reciprocal Rank Fusion)\n",
    "    ============================================================\n",
    "\n",
    "    [1] 점수: 0.0310\n",
    "        Ⅱ. 디지털 정부혁신 추진계획 ······················· 2...\n",
    "\n",
    "    [2] 점수: 0.0164\n",
    "        ☞ (기존) 공공시설 이용료 감면 혜택을 주기 위해 이용자에게 각종 증명서(장애인증명, 기초생활...\n",
    "\n",
    "    [3] 점수: 0.0164\n",
    "        Ⅱ. 디지털 정부혁신 추진계획\n",
    "    ‣ (비전) 디지털로 여는 좋은 세상 ※ 부제 : 대한민국이 먼저 갑니다....\n",
    "\n",
    "    [4] 점수: 0.0161\n",
    "        □ 추진체계 강화 △ 디지털정부혁신기획단, 디자인‧개발 전문가팀 신설\n",
    "    △ 범정부 T/F 운영...\n",
    "\n",
    "    [5] 점수: 0.0161\n",
    "        ○ (디지털 고지 수납) 각종 고지서·안내문* 등을 온라인(공공 민간)\n",
    "    으로 받고, 간편하게 납부할 수 있도록 디지털 고지 수납 활성화...\n",
    "\n",
    "    ============================================================\n",
    "    📊 CC (Convex Combination)\n",
    "    ============================================================\n",
    "\n",
    "    [1] 점수: 0.5000\n",
    "        ☞ (기존) 공공시설 이용료 감면 혜택을 주기 위해 이용자에게 각종 증명서(장애인증명, 기초생활...\n",
    "\n",
    "    [2] 점수: 0.5000\n",
    "        Ⅱ. 디지털 정부혁신 추진계획\n",
    "    ‣ (비전) 디지털로 여는 좋은 세상 ※ 부제 : 대한민국이 먼저 갑니다....\n",
    "\n",
    "    [3] 점수: 0.3750\n",
    "        □ 추진체계 강화 △ 디지털정부혁신기획단, 디자인‧개발 전문가팀 신설\n",
    "    △ 범정부 T/F 운영...\n",
    "\n",
    "    [4] 점수: 0.3750\n",
    "        ○ (디지털 고지 수납) 각종 고지서·안내문* 등을 온라인(공공 민간)\n",
    "    으로 받고, 간편하게 납부할 수 있도록 디지털 고지 수납 활성화...\n",
    "\n",
    "    [5] 점수: 0.2500\n",
    "        하여 공공분야 디지털 전환을 위한 추진계획 마련\n",
    "    * 관계부처 협의 21회(행안,과기정통,기재,복지,권익위,국정원 등), 민간전문가 의견청취 10...\n",
    "\n",
    "    ============================================================\n",
    "    📊 차이 분석\n",
    "    ============================================================\n",
    "\n",
    "    ⚠️ RRF와 CC가 다른 1위 선택!\n",
    "\n",
    "    RRF 1위: Ⅱ. 디지털 정부혁신 추진계획 ······················· 2...\n",
    "    CC 1위:  ☞ (기존) 공공시설 이용료 감면 혜택을 주기 위해 이용자에게 각종 증명서(장애인증명, 기초생활...\n",
    "\n",
    "    ============================================================\n",
    "    📊 가중치별 비교\n",
    "    ============================================================\n",
    "\n",
    "    [균등 가중치] 1위:\n",
    "    ☞ (기존) 공공시설 이용료 감면 혜택을 주기 위해 이용자에게 각종 증명서(장애인증명, 기초생활...\n",
    "\n",
    "    [FAISS 70%] 1위:\n",
    "    ☞ (기존) 공공시설 이용료 감면 혜택을 주기 위해 이용자에게 각종 증명서(장애인증명, 기초생활...\n",
    "\n",
    "    [BM25 70%] 1위:\n",
    "    Ⅱ. 디지털 정부혁신 추진계획\n",
    "    ‣ (비전) 디지털로 여는 좋은 세상 ※ 부제 : 대한민국이 먼저 갑니다....\n",
    "\n",
    "    ============================================================\n",
    "    ✅ 실습 완료!\n",
    "    ============================================================\n",
    "\n",
    "    ```"
   ]
  },
  {
   "cell_type": "markdown",
   "id": "1497f6fc",
   "metadata": {},
   "source": [
    "---"
   ]
  },
  {
   "cell_type": "markdown",
   "id": "884391ad",
   "metadata": {},
   "source": [
    "* next: **`CH11. 리랭커 (Reranker)`**"
   ]
  },
  {
   "cell_type": "markdown",
   "id": "403ac8ee",
   "metadata": {},
   "source": [
    "---"
   ]
  }
 ],
 "metadata": {
  "kernelspec": {
   "display_name": "lc_env",
   "language": "python",
   "name": "python3"
  },
  "language_info": {
   "codemirror_mode": {
    "name": "ipython",
    "version": 3
   },
   "file_extension": ".py",
   "mimetype": "text/x-python",
   "name": "python",
   "nbconvert_exporter": "python",
   "pygments_lexer": "ipython3",
   "version": "3.13.5"
  }
 },
 "nbformat": 4,
 "nbformat_minor": 5
}
