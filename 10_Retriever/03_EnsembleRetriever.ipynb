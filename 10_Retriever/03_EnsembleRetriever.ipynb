{
 "cells": [
  {
   "cell_type": "markdown",
   "id": "cf989cca",
   "metadata": {},
   "source": [
    "---"
   ]
  },
  {
   "cell_type": "markdown",
   "id": "f5587735",
   "metadata": {},
   "source": [
    "* 출처: LangChain 공식 문서 또는 해당 교재명\n",
    "* 원본 URL: https://smith.langchain.com/hub/teddynote/summary-stuff-documents"
   ]
  },
  {
   "cell_type": "markdown",
   "id": "48fe9ecc",
   "metadata": {},
   "source": [
    "---"
   ]
  },
  {
   "cell_type": "markdown",
   "id": "2e46434a",
   "metadata": {},
   "source": [
    "#### **3. `Ensemble Retriever`**"
   ]
  },
  {
   "cell_type": "markdown",
   "id": "d2724843",
   "metadata": {},
   "source": [
    "#### **1) `앙상블 검색기`**"
   ]
  },
  {
   "cell_type": "markdown",
   "id": "480d76a2",
   "metadata": {},
   "source": [
    "* **`Ensembel Retriever`**\n",
    "\n",
    "  * 여러 검색기를 결합해 더 강력한 검색 결과를 제공하는 Langchain의 기능\n",
    "\n",
    "  * 다양한 검색 알고리즘의 장점을 활용해 단일 알고리즘보다 더 나은 성능을 달성할 수 있음"
   ]
  },
  {
   "cell_type": "markdown",
   "id": "48cb0322",
   "metadata": {},
   "source": [
    "* **`주요 특징`**\n",
    "\n",
    "  * **`1. 여러 검색기 통합`**: 다양한 유형의 검색기를 입력 → 결과를 결합함\n",
    "\n",
    "  * **`2. 결과 재순위화`**: [**`Reciprocal Rank Fusion`**](cormack.uwaterloo.ca/cormacksigir09-rrf.pdf) 알고리즘 사용 → 결과의 순위 조정\n",
    "\n",
    "  * **`3. 하이브리드 검색`**: 주로 **`sparse retriever`** (예시: `BM25`)와 **`dense retriever`** (예시: `임베딩 유사도`)를 결합해 사용"
   ]
  },
  {
   "cell_type": "markdown",
   "id": "133d6f47",
   "metadata": {},
   "source": [
    "* **`장점`**\n",
    "\n",
    "  * `sparse retriever`: *`키워드 기반`* 검색에 효과적\n",
    "\n",
    "  * `Dense retriever`: *`의미적 유사성 기반`* 검색에 효과적\n",
    "\n",
    "    * 상호보완적 특성 → **`EmsembleRetriever`** = 다양한 검색 시나리오에서 향상된 성능 제공 가능"
   ]
  },
  {
   "cell_type": "markdown",
   "id": "cc508430",
   "metadata": {},
   "source": [
    "* *참고: [`LangChain 공식 문서`](https://python.langchain.com/docs/how_to/ensemble_retriever/)*"
   ]
  },
  {
   "cell_type": "markdown",
   "id": "57d5a301",
   "metadata": {},
   "source": [
    "---"
   ]
  },
  {
   "cell_type": "markdown",
   "id": "d8748488",
   "metadata": {},
   "source": [
    "#### **2) `설정`**"
   ]
  },
  {
   "cell_type": "code",
   "execution_count": null,
   "id": "36b37773",
   "metadata": {},
   "outputs": [],
   "source": [
    "# API 키를 환경변수로 관리하기 위한 설정 파일\n",
    "from dotenv import load_dotenv\n",
    "\n",
    "# API 키 정보 로드\n",
    "load_dotenv()                               # True"
   ]
  },
  {
   "cell_type": "code",
   "execution_count": null,
   "id": "22b64773",
   "metadata": {},
   "outputs": [],
   "source": [
    "from langsmith import Client\n",
    "from langsmith import traceable\n",
    "\n",
    "import os\n",
    "\n",
    "# LangSmith 환경 변수 확인\n",
    "\n",
    "print(\"\\n--- LangSmith 환경 변수 확인 ---\")\n",
    "langchain_tracing_v2 = os.getenv('LANGCHAIN_TRACING_V2')\n",
    "langchain_project = os.getenv('LANGCHAIN_PROJECT')\n",
    "langchain_api_key_status = \"설정됨\" if os.getenv('LANGCHAIN_API_KEY') else \"설정되지 않음\" # API 키 값은 직접 출력하지 않음\n",
    "\n",
    "if langchain_tracing_v2 == \"true\" and os.getenv('LANGCHAIN_API_KEY') and langchain_project:\n",
    "    print(f\"✅ LangSmith 추적 활성화됨 (LANGCHAIN_TRACING_V2='{langchain_tracing_v2}')\")\n",
    "    print(f\"✅ LangSmith 프로젝트: '{langchain_project}'\")\n",
    "    print(f\"✅ LangSmith API Key: {langchain_api_key_status}\")\n",
    "    print(\"  -> 이제 LangSmith 대시보드에서 이 프로젝트를 확인해 보세요.\")\n",
    "else:\n",
    "    print(\"❌ LangSmith 추적이 완전히 활성화되지 않았습니다. 다음을 확인하세요:\")\n",
    "    if langchain_tracing_v2 != \"true\":\n",
    "        print(f\"  - LANGCHAIN_TRACING_V2가 'true'로 설정되어 있지 않습니다 (현재: '{langchain_tracing_v2}').\")\n",
    "    if not os.getenv('LANGCHAIN_API_KEY'):\n",
    "        print(\"  - LANGCHAIN_API_KEY가 설정되어 있지 않습니다.\")\n",
    "    if not langchain_project:\n",
    "        print(\"  - LANGCHAIN_PROJECT가 설정되어 있지 않습니다.\")"
   ]
  },
  {
   "cell_type": "markdown",
   "id": "4ecadfe5",
   "metadata": {},
   "source": [
    "<small>\n",
    "\n",
    "* 셀 출력\n",
    "\n",
    "    ```markdown\n",
    "    --- LangSmith 환경 변수 확인 ---\n",
    "    ✅ LangSmith 추적 활성화됨 (LANGCHAIN_TRACING_V2='true')\n",
    "    ✅ LangSmith 프로젝트: 'LangChain-prantice'\n",
    "    ✅ LangSmith API Key: 설정됨\n",
    "    -> 이제 LangSmith 대시보드에서 이 프로젝트를 확인해 보세요.\n",
    "    ```"
   ]
  },
  {
   "cell_type": "markdown",
   "id": "adf86c0a",
   "metadata": {},
   "source": [
    "---"
   ]
  },
  {
   "cell_type": "markdown",
   "id": "f6285df6",
   "metadata": {},
   "source": [
    "* **`EnsembleRetriever`** 초기화 → **`BM25Retriever`**, **`FAISS`** 검색기 결합\n",
    "\n",
    "  * *각 검색기의 가중치 설정됨*"
   ]
  },
  {
   "cell_type": "code",
   "execution_count": null,
   "id": "ebf3a08f",
   "metadata": {},
   "outputs": [
    {
     "name": "stdout",
     "output_type": "stream",
     "text": [
      "384\n",
      "✅ HuggingFaceEmbeddings 초기화 완료!\n"
     ]
    }
   ],
   "source": [
    "from langchain_community.vectorstores import FAISS\n",
    "from langchain_huggingface import HuggingFaceEmbeddings\n",
    "from langchain_text_splitters import CharacterTextSplitter\n",
    "from langchain_community.document_loaders import TextLoader\n",
    "from langchain.retrievers import BM25Retriever, EnsembleRetriever\n",
    "import warnings\n",
    "\n",
    "# 경고 무시\n",
    "warnings.filterwarnings(\"ignore\")\n",
    "\n",
    "embeddings = HuggingFaceEmbeddings(\n",
    "    model_name=\"sentence-transformers/all-MiniLM-L6-v2\",\n",
    "    model_kwargs={'device': 'cpu'},\n",
    "    encode_kwargs={'normalize_embeddings': True}\n",
    "    )\n",
    "\n",
    "# 1단계: Embeddings 사용\n",
    "embeddings = embeddings\n",
    "\n",
    "# 임베딩 차원 크기를 계산\n",
    "dimension_size = len(embeddings.embed_query(\"hello world\"))\n",
    "print(dimension_size)                                                     # 384 (12.0s 소요)\n",
    "print(\"✅ HuggingFaceEmbeddings 초기화 완료!\")                               # ✅ HuggingFaceEmbeddings 초기화 완료!"
   ]
  },
  {
   "cell_type": "code",
   "execution_count": null,
   "id": "29107ad0",
   "metadata": {},
   "outputs": [],
   "source": [
    "# 2단계: 샘플 문서 리스트\n",
    "\n",
    "doc_list = [\n",
    "    \"I like apples\",\n",
    "    \"I like apple company\",\n",
    "    \"I like apple's iphone\",\n",
    "    \"Apple is my favorite company\",\n",
    "    \"I like apple's ipad\",\n",
    "    \"I like apple's macbook\",\n",
    "]\n",
    "\n",
    "print(doc_list)"
   ]
  },
  {
   "cell_type": "markdown",
   "id": "3fffcefe",
   "metadata": {},
   "source": [
    "<small>\n",
    "\n",
    "* 셀 출력\n",
    "\n",
    "    ```python\n",
    "    ['I like apples', 'I like apple company', \"I like apple's iphone\", 'Apple is my favorite company', \"I like apple's ipad\", \"I like apple's macbook\"]\n",
    "    ```"
   ]
  },
  {
   "cell_type": "code",
   "execution_count": 5,
   "id": "8242992b",
   "metadata": {},
   "outputs": [],
   "source": [
    "# bm25 retriever와 faiss retriever를 초기화하기\n",
    "bm25_retriever = BM25Retriever.from_texts(\n",
    "    doc_list,\n",
    ")\n",
    "bm25_retriever.k = 1                                        # BM25Retriever의 검색 결과 개수 = 1\n",
    "\n",
    "# 허깅페이스 임베딩 사용하기\n",
    "embedding = embeddings                                      \n",
    "\n",
    "faiss_vectorstore = FAISS.from_texts(\n",
    "    doc_list,\n",
    "    embedding,\n",
    ")\n",
    "\n",
    "faiss_retriever = faiss_vectorstore.as_retriever(search_kwargs={\"k\": 1})"
   ]
  },
  {
   "cell_type": "code",
   "execution_count": 6,
   "id": "f5864aeb",
   "metadata": {},
   "outputs": [],
   "source": [
    "# 앙상블 retriever를 초기화하기\n",
    "ensemble_retriever = EnsembleRetriever(\n",
    "    retrievers=[bm25_retriever, faiss_retriever],\n",
    "    weights=[0.7, 0.3],\n",
    ")"
   ]
  },
  {
   "cell_type": "markdown",
   "id": "cceaf055",
   "metadata": {},
   "source": [
    "* **`ensemble_retriever`** 객체의 **`get_relevant_document()`** 메서드 호출 → 관련성 높은 문서 검색"
   ]
  },
  {
   "cell_type": "markdown",
   "id": "ab503eb1",
   "metadata": {},
   "source": [
    "---"
   ]
  },
  {
   "cell_type": "markdown",
   "id": "32d89759",
   "metadata": {},
   "source": [
    "* **`query_1`**"
   ]
  },
  {
   "cell_type": "code",
   "execution_count": 7,
   "id": "156036c1",
   "metadata": {},
   "outputs": [
    {
     "name": "stderr",
     "output_type": "stream",
     "text": [
      "huggingface/tokenizers: The current process just got forked, after parallelism has already been used. Disabling parallelism to avoid deadlocks...\n",
      "To disable this warning, you can either:\n",
      "\t- Avoid using `tokenizers` before the fork if possible\n",
      "\t- Explicitly set the environment variable TOKENIZERS_PARALLELISM=(true | false)\n"
     ]
    }
   ],
   "source": [
    "# 5단계: 검색 결과 문서 가져오기\n",
    "\n",
    "query = \"my favorite fruit is apple\"\n",
    "\n",
    "ensemble_result = ensemble_retriever.invoke(query)\n",
    "bm25_result = bm25_retriever.invoke(query)\n",
    "faiss_result = faiss_retriever.invoke(query)"
   ]
  },
  {
   "cell_type": "code",
   "execution_count": null,
   "id": "e78c75d7",
   "metadata": {},
   "outputs": [],
   "source": [
    "# 6단계: 가져온 문서 출력하기\n",
    "\n",
    "print(\"[Ensemble Retriever]\")\n",
    "for doc in ensemble_result:\n",
    "    print(f\"Content: {doc.page_content}\")\n",
    "    print()\n",
    "\n",
    "\n",
    "print(\"[BM25 Retriever]\")\n",
    "for doc in bm25_result:\n",
    "    print(f\"Content: {doc.page_content}\")\n",
    "    print()\n",
    "\n",
    "\n",
    "print(\"[FAISS Retriever]\")\n",
    "for doc in faiss_result:\n",
    "    print(f\"Content: {doc.page_content}\")\n",
    "    print()"
   ]
  },
  {
   "cell_type": "markdown",
   "id": "5491120e",
   "metadata": {},
   "source": [
    "<small>\n",
    "\n",
    "* 셀 출력\n",
    "\n",
    "    ```markdown\n",
    "    [Ensemble Retriever]\n",
    "    Content: Apple is my favorite company\n",
    "\n",
    "    Content: I like apples\n",
    "\n",
    "    [BM25 Retriever]\n",
    "    Content: Apple is my favorite company\n",
    "\n",
    "    [FAISS Retriever]\n",
    "    Content: I like apples\n",
    "    ```"
   ]
  },
  {
   "cell_type": "markdown",
   "id": "ac79e429",
   "metadata": {},
   "source": [
    "---"
   ]
  },
  {
   "cell_type": "markdown",
   "id": "2d85d95a",
   "metadata": {},
   "source": [
    "* **`query_2`**"
   ]
  },
  {
   "cell_type": "code",
   "execution_count": null,
   "id": "23c3f352",
   "metadata": {},
   "outputs": [],
   "source": [
    "# 5단계: 검색 결과 문서 가져오기\n",
    "\n",
    "query = \"Apple company makes my favorite iphone\"\n",
    "\n",
    "ensemble_result = ensemble_retriever.invoke(query)\n",
    "bm25_result = bm25_retriever.invoke(query)\n",
    "faiss_result = faiss_retriever.invoke(query)\n",
    "\n",
    "\n",
    "# 6단계: 가져온 문서 출력하기\n",
    "\n",
    "print(\"[Ensemble Retriever]\")\n",
    "for doc in ensemble_result:\n",
    "    print(f\"Content: {doc.page_content}\")\n",
    "    print()\n",
    "\n",
    "print(\"[BM25 Retriever]\")\n",
    "for doc in bm25_result:\n",
    "    print(f\"Content: {doc.page_content}\")\n",
    "    print()\n",
    "\n",
    "print(\"[FAISS Retriever]\")\n",
    "for doc in faiss_result:\n",
    "    print(f\"Content: {doc.page_content}\")\n",
    "    print()"
   ]
  },
  {
   "cell_type": "markdown",
   "id": "5e20b69c",
   "metadata": {},
   "source": [
    "<small>\n",
    "\n",
    "* 셀 출력 (0.1s)\n",
    "\n",
    "    ```markdown\n",
    "    [Ensemble Retriever]\n",
    "    Content: Apple is my favorite company\n",
    "\n",
    "    [BM25 Retriever]\n",
    "    Content: Apple is my favorite company\n",
    "\n",
    "    [FAISS Retriever]\n",
    "    Content: Apple is my favorite company\n",
    "    ```"
   ]
  },
  {
   "cell_type": "markdown",
   "id": "7941d483",
   "metadata": {},
   "source": [
    "---"
   ]
  },
  {
   "cell_type": "markdown",
   "id": "aa744ba3",
   "metadata": {},
   "source": [
    "#### **3) `런타임 Config 변경`**"
   ]
  },
  {
   "cell_type": "markdown",
   "id": "d3cedc01",
   "metadata": {},
   "source": [
    "* **`ConfigurableField`** 클래스: 런타임에서 `retriever` 속성 변경 가능\n",
    "\n",
    "  * **`weights`** 매개변수 = **`ConfigurableField`** 객체로 정의\n",
    "    * 필드의 `ID` = **`ensemble_weights`**"
   ]
  },
  {
   "cell_type": "code",
   "execution_count": 10,
   "id": "1c30f6f7",
   "metadata": {},
   "outputs": [],
   "source": [
    "from langchain_core.runnables import ConfigurableField\n",
    "\n",
    "# 앙상블 검색기 설정하기\n",
    "ensemble_retriever = EnsembleRetriever(\n",
    "    retrievers=[bm25_retriever, faiss_retriever],       # 리트리버 목록 설정: bm25, faiss_retriever\n",
    ").configurable_fields(\n",
    "    weights = ConfigurableField(\n",
    "        id=\"ensemble_weights\",                          # 검색 매개변수의 고유 식별자 설정\n",
    "        name=\"Ensemble Weights\",                        # 검색 매개변수의 이름 설정\n",
    "        description=\"Ensemble Weights\",                 # 검색 매개변수에 대한 설명 작성하기\n",
    "    )\n",
    ")"
   ]
  },
  {
   "cell_type": "markdown",
   "id": "a327c3ec",
   "metadata": {},
   "source": [
    "* 검색: **`config`** 매개변수를 통해 검색 설정 지정\n",
    "\n",
    "* **`ensemble_weights`** 옵션의 가중치 = **`[1, 0]`** → **`모든 검색의 결과의 가중치와 BM25 retriever에 더 많이 보여되도록 함`**"
   ]
  },
  {
   "cell_type": "code",
   "execution_count": null,
   "id": "b5042ad1",
   "metadata": {},
   "outputs": [],
   "source": [
    "config = {\"configurable\": {\"ensemble_weights\": [1, 0]}}\n",
    "\n",
    "# config 매개변수 사용 → 검색 설정 지정하기\n",
    "docs = ensemble_retriever.invoke(\"my favorite fruit is apple\", config=config)\n",
    "\n",
    "# 검색 결과인 docs를 출력하기\n",
    "docs  "
   ]
  },
  {
   "cell_type": "markdown",
   "id": "5ee59f0d",
   "metadata": {},
   "source": [
    "<small>\n",
    "\n",
    "* 셀 출력 \n",
    "\n",
    "    ```python\n",
    "    [Document(metadata={}, page_content='Apple is my favorite company'),\n",
    "    Document(id='dc412634-c1ab-47d1-bec3-f5245c65f832', metadata={}, page_content='I like apples')]\n",
    "    ```"
   ]
  },
  {
   "cell_type": "markdown",
   "id": "c7b27f9c",
   "metadata": {},
   "source": [
    "---"
   ]
  },
  {
   "cell_type": "markdown",
   "id": "44eeab27",
   "metadata": {},
   "source": [
    "* 검색시 모든 검색 결과의 가중치가 **`FAISS retriever`에 많이 부여되도록 해보기** "
   ]
  },
  {
   "cell_type": "code",
   "execution_count": null,
   "id": "28a1df76",
   "metadata": {},
   "outputs": [],
   "source": [
    "config = {\"configurable\": {\"ensemble_weights\": [0, 1]}}\n",
    "\n",
    "# config 매개변수 사용 → 검색 설정 지정하기\n",
    "docs = ensemble_retriever.invoke(\"my favorite fruit is apple\", config=config)\n",
    "\n",
    "# 검색 결과인 docs를 출력하기\n",
    "docs"
   ]
  },
  {
   "cell_type": "markdown",
   "id": "612fc342",
   "metadata": {},
   "source": [
    "<small>\n",
    "\n",
    "* 셀 출력 (0.1s 소요)\n",
    "\n",
    "    ```python\n",
    "    [Document(id='dc412634-c1ab-47d1-bec3-f5245c65f832', metadata={}, page_content='I like apples'),\n",
    "    Document(metadata={}, page_content='Apple is my favorite company')]\n",
    "    ```"
   ]
  },
  {
   "cell_type": "markdown",
   "id": "2c709751",
   "metadata": {},
   "source": [
    "---"
   ]
  },
  {
   "cell_type": "markdown",
   "id": "2b4a2323",
   "metadata": {},
   "source": [
    "* **`가중치에 따른 결과 해석하기`**\n",
    "\n",
    "  * **`BM25 Retriever` vs `FAISS Retriever`**\n",
    "\n",
    "    * **`BM25 Retriever`**\n",
    "      * 주로 **`키워드 기반`** 통계적 검색 방식\n",
    "      * 질의, 문서 간의 단어 일치도와 빈도를 바탕으로 순위를 매김 → **`질이와 정확히 일치하는 단어가 포함된 문서를 찾는데 효과적`**\n",
    "\n",
    "    * **`FAISS Retriever`**\n",
    "      * **`의미 (Sementic) 기반`** 검색 방식\n",
    "      * 문서, 질의를 벡터로 변환 → 벡터 공간에서 거리가 가까운 문서 찾음 = 유사도가 높은 문서를 찾음\n",
    "      * 키워드가 직접 일치하지 않더라도 **`의미상 비슷한` 문서를 찾는데 효과적**\n",
    "\n",
    "<br>\n",
    "\n",
    "  * 결과 비교\n",
    "\n",
    "    | **Ensemble Retriever** | 가중치: BM25 > FAISS                                                                                                                                                        | 가중치: BM25 < FAISS                                                                                                                                                        |\n",
    "    |------------------------|--------------------------------------------------------------------------------------------------------------------------------------------------------------------------|--------------------------------------------------------------------------------------------------------------------------------------------------------------------------|\n",
    "    | 코드                     | config = {\"configurable\": {\"ensemble_weights\": [1, 0]}}                                                                                                                  | config = {\"configurable\": {\"ensemble_weights\": [0, 1]}}                                                                                                                  |\n",
    "    | 결과                     | [Document(metadata={}, page_content='Apple is my favorite company'),<br> Document(id='dc412634-c1ab-47d1-bec3-f5245c65f832', metadata={}, page_content='I like apples')] | [Document(id='dc412634-c1ab-47d1-bec3-f5245c65f832', metadata={}, page_content='I like apples'),<br> Document(metadata={}, page_content='Apple is my favorite company')] |\n",
    "\n",
    "<br>\n",
    "\n",
    "  * 해석\n",
    "\n",
    "    | 가중치 설정 (코드) | BM25 > FAISS ([1, 0])                    | BM25 < FAISS ([0, 1])                    |\n",
    "    |-------------|------------------------------------------|------------------------------------------|\n",
    "    | 의미          | BM25의 결과만 사용하고, FAISS의 결과는 무시함        | FAISS의 결과만 사용하고, BM25의 결과는 무시함        |\n",
    "    | 순위 1위 문서    | 'Apple is my favorite company'           | 'I like apples'                          |\n",
    "    | 해석          | BM25가 이 문서를 질의에 가장 키워드적으로 관련 있다고 판단함 | FAISS가 이 문서를 질의에 가장 의미적으로 관련 있다고 판단함 |\n",
    "\n",
    "<br>\n",
    "\n",
    "* **`앙상블 검색기의 역할`**\n",
    "\n",
    "  * 두 검색기가 **`동일한 질의에 대해 다른 기준`** 으로 관련성을 판단 → **`다른 순위 부여할 수 있음`** 을 보여줌\n",
    "\n",
    "  * 따라서 두 가중치(`BM25`=키워드 일치, `FAISS`=의미적 유사성)를 적절히 조합 (**[`0.5, 0.5`]** 혹은 **[`0.7, 0.3`]**)해서 사용할 때 장점이 드러남\n",
    "\n",
    "  * 두 검색기의 결과가 다른 경우: 가중치에 따라 두 결과를 `합산`(`융합`) → `최종 순위 결정`"
   ]
  },
  {
   "cell_type": "markdown",
   "id": "fcfa68ee",
   "metadata": {},
   "source": [
    "---"
   ]
  },
  {
   "cell_type": "markdown",
   "id": "3a9480ef",
   "metadata": {},
   "source": [
    "* *next: **`긴 문맥 재정렬 (LongContextReorder)`***"
   ]
  },
  {
   "cell_type": "markdown",
   "id": "c888d3dc",
   "metadata": {},
   "source": [
    "---"
   ]
  }
 ],
 "metadata": {
  "kernelspec": {
   "display_name": "lc_env",
   "language": "python",
   "name": "python3"
  },
  "language_info": {
   "codemirror_mode": {
    "name": "ipython",
    "version": 3
   },
   "file_extension": ".py",
   "mimetype": "text/x-python",
   "name": "python",
   "nbconvert_exporter": "python",
   "pygments_lexer": "ipython3",
   "version": "3.13.5"
  }
 },
 "nbformat": 4,
 "nbformat_minor": 5
}
