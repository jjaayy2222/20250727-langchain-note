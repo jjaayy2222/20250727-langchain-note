{
  "cells": [
    {
      "cell_type": "markdown",
      "id": "8b18a900",
      "metadata": {
        "id": "8b18a900"
      },
      "source": [
        "---"
      ]
    },
    {
      "cell_type": "markdown",
      "id": "48a69be3",
      "metadata": {
        "id": "48a69be3"
      },
      "source": [
        "* 출처: LangChain 공식 문서 또는 해당 교재명\n",
        "* 원본 URL: https://smith.langchain.com/hub/teddynote/summary-stuff-documents"
      ]
    },
    {
      "cell_type": "markdown",
      "id": "b7a10c23",
      "metadata": {
        "id": "b7a10c23"
      },
      "source": [
        "---"
      ]
    },
    {
      "cell_type": "markdown",
      "id": "aedc62e7",
      "metadata": {
        "id": "aedc62e7"
      },
      "source": [
        "### **9. `TimeWeightedVectorStoreRetriever`**"
      ]
    },
    {
      "cell_type": "markdown",
      "id": "9954ca84",
      "metadata": {
        "id": "9954ca84"
      },
      "source": [
        "#### **1) `시간 가중 벡터저장소 검색기`**"
      ]
    },
    {
      "cell_type": "markdown",
      "id": "36e950aa",
      "metadata": {
        "id": "36e950aa"
      },
      "source": [
        "* **`TimeWeightedVectorStoreRetriever`**\n",
        "\n",
        "  * `의미론적 유사성`과 `시간에 따른 감쇠`를 결합해 사용하는 검색 도구\n",
        "\n",
        "  * 문서 또는 데이터의 **`신선함`** 과 **`관련성`** 을 모두 고려하여 결과를 제공"
      ]
    },
    {
      "cell_type": "markdown",
      "id": "f17771f0",
      "metadata": {
        "id": "f17771f0"
      },
      "source": [
        "* **`스코어링 알고리즘`**\n",
        "\n",
        "  * ![scoring_algorithm.png](data:image/png;base64,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)\n",
        "\n",
        "  * `semantic_similarity` = 문서 or 데이터 간의 의미적 유사도\n",
        "  * `decay_rate` = 시간이 지남에 따라 점수가 얼마나 감소하는지를 나타내는 비율\n",
        "  * `hours_passed` = 객체가 마지막으로 접근한 후 부터 현재까지 경과한 시간 *(시간 단위)*"
      ]
    },
    {
      "cell_type": "markdown",
      "id": "89e07aca",
      "metadata": {
        "id": "89e07aca"
      },
      "source": [
        "* 주요 특징\n",
        "\n",
        "  * 객체가 마지막으로 접근된 시간을 기준 = **`정보의 신선함`** 평가\n",
        "  * **`자주 접근되는 객체 = 시간이 지나도 높은 점수 유지` → `자주 사용되거나 중요하게 여겨지는 정보가 상위에 위치할 가능성 ↑`**\n",
        "  * **`동적인 검색 결과 제공`**: 최신성, 관련성을 모두 고려함"
      ]
    },
    {
      "cell_type": "markdown",
      "id": "45d06310",
      "metadata": {
        "id": "45d06310"
      },
      "source": [
        "* **`decay_rate`**\n",
        "\n",
        "  * **≠ `retriever의 객체가 생성된 이후`**\n",
        "\n",
        "  * **= `마지막으로 액세스된 이후 경과된 시간`**\n",
        "\n",
        "  * **`자주 액세스하는 객체 = 최신으로 유지`**"
      ]
    },
    {
      "cell_type": "markdown",
      "id": "7291415a",
      "metadata": {
        "id": "7291415a"
      },
      "source": [
        "---"
      ]
    },
    {
      "cell_type": "markdown",
      "id": "0202add5",
      "metadata": {
        "id": "0202add5"
      },
      "source": [
        "#### **2) `설정`**"
      ]
    },
    {
      "cell_type": "code",
      "execution_count": null,
      "id": "7efc0084",
      "metadata": {
        "id": "7efc0084"
      },
      "outputs": [],
      "source": [
        "# API 키를 환경변수로 관리하기 위한 설정 파일\n",
        "from dotenv import load_dotenv\n",
        "\n",
        "# API 키 정보 로드\n",
        "load_dotenv()                               # True"
      ]
    },
    {
      "cell_type": "code",
      "execution_count": null,
      "id": "ab58a41e",
      "metadata": {
        "id": "ab58a41e"
      },
      "outputs": [],
      "source": [
        "from langsmith import Client\n",
        "from langsmith import traceable\n",
        "\n",
        "import os\n",
        "\n",
        "# LangSmith 환경 변수 확인\n",
        "\n",
        "print(\"\\n--- LangSmith 환경 변수 확인 ---\")\n",
        "langchain_tracing_v2 = os.getenv('LANGCHAIN_TRACING_V2')\n",
        "langchain_project = os.getenv('LANGCHAIN_PROJECT')\n",
        "langchain_api_key_status = \"설정됨\" if os.getenv('LANGCHAIN_API_KEY') else \"설정되지 않음\" # API 키 값은 직접 출력하지 않음\n",
        "\n",
        "if langchain_tracing_v2 == \"true\" and os.getenv('LANGCHAIN_API_KEY') and langchain_project:\n",
        "    print(f\"✅ LangSmith 추적 활성화됨 (LANGCHAIN_TRACING_V2='{langchain_tracing_v2}')\")\n",
        "    print(f\"✅ LangSmith 프로젝트: '{langchain_project}'\")\n",
        "    print(f\"✅ LangSmith API Key: {langchain_api_key_status}\")\n",
        "    print(\"  -> 이제 LangSmith 대시보드에서 이 프로젝트를 확인해 보세요.\")\n",
        "else:\n",
        "    print(\"❌ LangSmith 추적이 완전히 활성화되지 않았습니다. 다음을 확인하세요:\")\n",
        "    if langchain_tracing_v2 != \"true\":\n",
        "        print(f\"  - LANGCHAIN_TRACING_V2가 'true'로 설정되어 있지 않습니다 (현재: '{langchain_tracing_v2}').\")\n",
        "    if not os.getenv('LANGCHAIN_API_KEY'):\n",
        "        print(\"  - LANGCHAIN_API_KEY가 설정되어 있지 않습니다.\")\n",
        "    if not langchain_project:\n",
        "        print(\"  - LANGCHAIN_PROJECT가 설정되어 있지 않습니다.\")"
      ]
    },
    {
      "cell_type": "markdown",
      "id": "dc237161",
      "metadata": {
        "id": "dc237161"
      },
      "source": [
        "<small>\n",
        "\n",
        "* 셀 출력\n",
        "\n",
        "  ```markdown\n",
        "  --- LangSmith 환경 변수 확인 ---\n",
        "  ✅ LangSmith 추적 활성화됨 (LANGCHAIN_TRACING_V2='true')\n",
        "  ✅ LangSmith 프로젝트: 'LangChain-prantice'\n",
        "  ✅ LangSmith API Key: 설정됨\n",
        "    -> 이제 LangSmith 대시보드에서 이 프로젝트를 확인해 보세요.\n",
        "  ```"
      ]
    },
    {
      "cell_type": "markdown",
      "id": "12f8a485",
      "metadata": {
        "id": "12f8a485"
      },
      "source": [
        "---"
      ]
    },
    {
      "cell_type": "markdown",
      "id": "7b03a059",
      "metadata": {
        "id": "7b03a059"
      },
      "source": [
        "#### **3) `낮은 감쇠율` (`low decay_rate`)**"
      ]
    },
    {
      "cell_type": "markdown",
      "id": "bbef1b91",
      "metadata": {
        "id": "bbef1b91"
      },
      "source": [
        "* 낮은 감쇠율의 의미\n",
        "\n",
        "  * **`decay rate`가 낮다는 것** = 기억이 **`더 오래 기억될 것`임을 의미**\n",
        "\n",
        "  * **`decay rate` = 0**\n",
        "    * **`기억이 절대 잊혀지지 않는다는 것`을 의미**\n",
        "    * 이 `retriever`를 `vector lookup`과 동등하게 만듦"
      ]
    },
    {
      "cell_type": "markdown",
      "id": "12fa6517",
      "metadata": {
        "id": "12fa6517"
      },
      "source": [
        "* **`TimeWeightedVectorStoreRetriever`** 초기화\n",
        "\n",
        "  * `벡터 저장소`, 감쇠율(`decay_rate`)을 매우 작은 값으로 설정(`여기에서는 0`)\n",
        "  * 검색할 벡터의 개수(`k`)를 1로 지정"
      ]
    },
    {
      "cell_type": "code",
      "execution_count": 7,
      "id": "37a5d325",
      "metadata": {
        "colab": {
          "base_uri": "https://localhost:8080/",
          "height": 406,
          "referenced_widgets": [
            "d6fa4b521a37447983044e87c8022af2",
            "39b85d695e4846b8bc637451e95eac38",
            "50e83f02ce594ef7b13466c6a82d8565",
            "2e0b46ae3bdf4d07a7ae40737bac74f9",
            "21bd86e3dd304608b2e6993c719ca13a",
            "463ec4d7436843389e92c377fd954171",
            "fe6c3683f79f467bb703a05c996a4fd4",
            "aafed5c22ac04c63ab79525886347dd9",
            "b097cf7fdc474fb9a19d2cc3c651f13c",
            "6f14f5d178ee48cea94e8cefa42c4457",
            "28101bdec80f4956a83fd80033cddec6",
            "a50b105b6fb843268abc601b86d758d0",
            "06fa008493484619a895a635bbbe3bfb",
            "9531335844d5483e8d853be2486de60b",
            "92ade85852c24877b8ddae879a8cf201",
            "d4c035a066ee4f479b95ad37e3ac37fb",
            "876d35b8b377443999fd54dfe571e285",
            "ba822bbca0f24290938756c1237cdecb",
            "92c12450334144fea2792bc76165045e",
            "1bf9f66d19c343a19b2996cd06411915",
            "435eb15151bb40f38d065fa7e6078607",
            "2390c94ec4b34e26899d6ae3375e7b8b",
            "0b2d33cefd224fab986ba25b5039b7ba",
            "059f5cb2cb5f42d99072b263db0f45da",
            "bab4c195b67b4f8fbd03f2dd3b632e99",
            "d9c9c2cc0d3a4e76b5dff824a4acfb7c",
            "f0fd536baac04b0f92a7b0da060e18b5",
            "ada10cce67c54c0fa1a370a11d462d18",
            "c453c3d04e4047d69ad9b6dffa0bcda2",
            "bce9aa5f813644f0a847a6137ac5954a",
            "16ad04d653f24ada82d1244a13664003",
            "0fb7b4cda5754138bd7d758cc616232c",
            "a234cfea274f460aa26f999553db7be1",
            "9ce460f4102940318fc79067b2a65740",
            "becd019015a446b0ab0ab40d4bfdad1f",
            "bb173d93c624432eae60fc4dc8244e35",
            "a971545d4f454f5283bdf4729ab4d567",
            "66c8254ceae04db9a7f9ee68d8cabbb5",
            "03b5773281974ded8138dd3710fc7957",
            "21fd6c24d49b4f77bda7a1735719578e",
            "e69c726e19e94e83ba1d749dc24b5de1",
            "6baefac7e14049bdb8d4e24ec0f22b48",
            "b4194e2cf6aa488fbe0c745d2ee9dbf7",
            "b837c49bc52c492a991e96868f586cf3",
            "d54d2639e8a0492e99e035bdfa35075d",
            "a4ebf5ddfd7e48959c3e416e8feb1afd",
            "7ccfd8ab74c14831aa926e52b10f9303",
            "42f2bb357abe4582b8d6c6899933bfb8",
            "51693029717544eca90c74312205d2ac",
            "a8775caae06c4d8f854efd91da0a7c95",
            "dc739bffc6624e85a13ff61d5dcf5b48",
            "38e4f74b5a674b3db0f4aa833a4ce7d2",
            "6cf4a8f8aad5420db3429bfece9c3698",
            "39c021d9144e42859cde1073573f101d",
            "8566c01960494d12a9a3776f596a6349",
            "dcf1f1cebc244172aab6af67fb24ce82",
            "59f454453ead44fab664406c414a67b5",
            "973e0a8966b54f14ab1199d597a7bbd1",
            "03254cd29e6e4161988114ceaeedccc7",
            "bfe30ed0acdc429b817462dbf5925f81",
            "1c38e6cf563e482dbfb9d7b171394ecd",
            "a10d0e6bbeb544f784d46f8df0ca9580",
            "1e1644dd773d403d8ff0d9615ea76e35",
            "8f4a0266debd4984947573c5308da4c7",
            "61c0e240296148b5a94190930b873f88",
            "0d595e9a5faa438c883ac8cfbdf1fa9c",
            "9d8153bff1ed4b508d69683437f7b17f",
            "0f393854ed3246edacea14da581b53e0",
            "4075f9bfa76440218cdfbc9856ee51e5",
            "e17dae075fdb4b2691f8f903953953ce",
            "496c9568e8e34bb085845c2e2c63a6ab",
            "a966c68e82cb469bbbbdef7501aebe15",
            "e8755e4e9068426481ae1fbe4f417182",
            "8620f95fef264a7e84752ac0abc6f500",
            "3e91d8c717e04f0baea526084d559476",
            "c8506377eb3a40ab9a06d3e682eda041",
            "d1ca0903b28a4b1eba6fdb03c21ffec3",
            "bccbfd499c244637bff842e3b646f007",
            "d9639c1b9d764a8e8dd68280a55881c3",
            "59e7da72a14645faa2deac0ce18416ed",
            "2395bee057184dd89a527091d7369104",
            "879ac8b86ad24eaf9b3345da25d00911",
            "6ec6821776434959a6bc2bc854dc6295",
            "4d39c11c23b84e64b211bc6158690b49",
            "2db0808610da4dc8b57c0f83f14b993f",
            "6ca0add346684396943081ff7a7fe203",
            "67ac18f607394964b0ef056eda4fe364",
            "6a258b8b85e7402a825c53850804cc5b",
            "709a9dcc55cd4e13b8695620f7d64339",
            "e75289d794f4448c8be20066edc88975",
            "0cde5f48ef974ba7af9901c7a22789c6",
            "dc75db42b5494f0fb76ebb360ba8b6f8",
            "5639cdeaad5d4942901343e591c5a4dc",
            "b8be8fff1871460da240994ba793373e",
            "cb021eae52ce48ea93a77714d79b48f6",
            "247172793bae48989b2d73d9d5c5c5f6",
            "67ffd9787de44fc2821edf849b6c8ad8",
            "97ca492489b540d2a2cce84448fc134f",
            "83e10ca9ea0641b095998ed12c0f680f",
            "693c3a9ca82e45d1838bae0f103d0b6b",
            "1a1395d89eb648d3a848585d12a5578f",
            "fb065526671047c59ef1ff464799382f",
            "23cfeabc81534f188cc3d6a6fef47011",
            "395c0b84ba994abd8c877ae9ec330be2",
            "3a8e7ef749e6470f9f184c52d78331d0",
            "0c5e04f780b043398d28d322ebb35eaa",
            "02713499032e42a7ab6e4e2e9b677279",
            "cd8f279155b84ee1afcaf4a7fb37d496",
            "a9931e72bf0747f4854d3829bd0312ba",
            "88b35f81d53f4fe59f21942f22487200",
            "0b89f12cf496455da0b661893af75904",
            "c0057529cbf143ccb0d869f67300b140",
            "3e66fd965bba4529b4b3b40aa1a10f52",
            "ede78b66ba2a423f828c2d97ab1dd299",
            "04918ce6e0474fa9bd3d101384795ef2",
            "5c81cafab0174bd4a38d1a8c3d5a1001",
            "8d69d5978fcc49ddbb4793688a42e637",
            "9c8976e2ca7c45358366e9563962e974",
            "9106f35937964da28d6e6c6ef1dda597",
            "cbe17b41e87e485fbf069ea8170c9435",
            "071ed1f731d8443c9e5437e9222977bd"
          ]
        },
        "collapsed": true,
        "id": "37a5d325",
        "outputId": "c63323c1-6932-478f-e9fb-7ff5b5416a97"
      },
      "outputs": [
        {
          "output_type": "display_data",
          "data": {
            "text/plain": [
              "modules.json:   0%|          | 0.00/349 [00:00<?, ?B/s]"
            ],
            "application/vnd.jupyter.widget-view+json": {
              "version_major": 2,
              "version_minor": 0,
              "model_id": "d6fa4b521a37447983044e87c8022af2"
            }
          },
          "metadata": {}
        },
        {
          "output_type": "display_data",
          "data": {
            "text/plain": [
              "config_sentence_transformers.json:   0%|          | 0.00/116 [00:00<?, ?B/s]"
            ],
            "application/vnd.jupyter.widget-view+json": {
              "version_major": 2,
              "version_minor": 0,
              "model_id": "a50b105b6fb843268abc601b86d758d0"
            }
          },
          "metadata": {}
        },
        {
          "output_type": "display_data",
          "data": {
            "text/plain": [
              "README.md: 0.00B [00:00, ?B/s]"
            ],
            "application/vnd.jupyter.widget-view+json": {
              "version_major": 2,
              "version_minor": 0,
              "model_id": "0b2d33cefd224fab986ba25b5039b7ba"
            }
          },
          "metadata": {}
        },
        {
          "output_type": "display_data",
          "data": {
            "text/plain": [
              "sentence_bert_config.json:   0%|          | 0.00/53.0 [00:00<?, ?B/s]"
            ],
            "application/vnd.jupyter.widget-view+json": {
              "version_major": 2,
              "version_minor": 0,
              "model_id": "9ce460f4102940318fc79067b2a65740"
            }
          },
          "metadata": {}
        },
        {
          "output_type": "display_data",
          "data": {
            "text/plain": [
              "config.json:   0%|          | 0.00/612 [00:00<?, ?B/s]"
            ],
            "application/vnd.jupyter.widget-view+json": {
              "version_major": 2,
              "version_minor": 0,
              "model_id": "d54d2639e8a0492e99e035bdfa35075d"
            }
          },
          "metadata": {}
        },
        {
          "output_type": "display_data",
          "data": {
            "text/plain": [
              "model.safetensors:   0%|          | 0.00/90.9M [00:00<?, ?B/s]"
            ],
            "application/vnd.jupyter.widget-view+json": {
              "version_major": 2,
              "version_minor": 0,
              "model_id": "dcf1f1cebc244172aab6af67fb24ce82"
            }
          },
          "metadata": {}
        },
        {
          "output_type": "display_data",
          "data": {
            "text/plain": [
              "tokenizer_config.json:   0%|          | 0.00/350 [00:00<?, ?B/s]"
            ],
            "application/vnd.jupyter.widget-view+json": {
              "version_major": 2,
              "version_minor": 0,
              "model_id": "9d8153bff1ed4b508d69683437f7b17f"
            }
          },
          "metadata": {}
        },
        {
          "output_type": "display_data",
          "data": {
            "text/plain": [
              "vocab.txt: 0.00B [00:00, ?B/s]"
            ],
            "application/vnd.jupyter.widget-view+json": {
              "version_major": 2,
              "version_minor": 0,
              "model_id": "bccbfd499c244637bff842e3b646f007"
            }
          },
          "metadata": {}
        },
        {
          "output_type": "display_data",
          "data": {
            "text/plain": [
              "tokenizer.json: 0.00B [00:00, ?B/s]"
            ],
            "application/vnd.jupyter.widget-view+json": {
              "version_major": 2,
              "version_minor": 0,
              "model_id": "709a9dcc55cd4e13b8695620f7d64339"
            }
          },
          "metadata": {}
        },
        {
          "output_type": "display_data",
          "data": {
            "text/plain": [
              "special_tokens_map.json:   0%|          | 0.00/112 [00:00<?, ?B/s]"
            ],
            "application/vnd.jupyter.widget-view+json": {
              "version_major": 2,
              "version_minor": 0,
              "model_id": "693c3a9ca82e45d1838bae0f103d0b6b"
            }
          },
          "metadata": {}
        },
        {
          "output_type": "display_data",
          "data": {
            "text/plain": [
              "config.json:   0%|          | 0.00/190 [00:00<?, ?B/s]"
            ],
            "application/vnd.jupyter.widget-view+json": {
              "version_major": 2,
              "version_minor": 0,
              "model_id": "0b89f12cf496455da0b661893af75904"
            }
          },
          "metadata": {}
        },
        {
          "output_type": "stream",
          "name": "stdout",
          "text": [
            "✅ hugging-face 임베딩 모델 로딩 완료!\n"
          ]
        },
        {
          "output_type": "execute_result",
          "data": {
            "text/plain": [
              "'\\nembeddings3 = FakeEmbeddings(size=1536)\\n\\nembeddings = embeddings3                                                  # 3.2s\\n'"
            ],
            "application/vnd.google.colaboratory.intrinsic+json": {
              "type": "string"
            }
          },
          "metadata": {},
          "execution_count": 7
        }
      ],
      "source": [
        "from datetime import datetime, timedelta\n",
        "\n",
        "import faiss\n",
        "from langchain.docstore import InMemoryDocstore\n",
        "from langchain.retrievers import TimeWeightedVectorStoreRetriever\n",
        "from langchain_community.vectorstores import FAISS\n",
        "from langchain_core.documents import Document\n",
        "from langchain_huggingface import HuggingFaceEmbeddings\n",
        "#from langchain_core.embeddings import FakeEmbeddings\n",
        "\n",
        "import warnings\n",
        "\n",
        "# 경고 무시\n",
        "warnings.filterwarnings(\"ignore\")\n",
        "\n",
        "# 임베딩 사용하기 (try_1)\n",
        "embeddings = HuggingFaceEmbeddings(\n",
        "    model_name=\"sentence-transformers/all-MiniLM-L6-v2\",\n",
        "    model_kwargs={'device': 'cpu'},\n",
        "    encode_kwargs={'normalize_embeddings': True}\n",
        "    )\n",
        "\n",
        "print(\"✅ hugging-face 임베딩 모델 로딩 완료!\")\n",
        "\n",
        "\n",
        "# 768차원 임베딩 불러오기 (try_2)\n",
        "\"\"\"\n",
        "embeddings2 = HuggingFaceEmbeddings(\n",
        "                model_name=\"sentence-transformers/all-mpnet-base-v2\",   # 768차원\n",
        "                model_kwargs={'device': 'cpu'},\n",
        "                encode_kwargs={'normalize_embeddings': True})\n",
        "\n",
        "embeddings = embeddings2\n",
        "\"\"\"\n",
        "\n",
        "# fake huggingface 임베딩 (1536) (try_3)\n",
        "\"\"\"\n",
        "embeddings3 = FakeEmbeddings(size=1536)\n",
        "\n",
        "embeddings = embeddings3\n",
        "\"\"\""
      ]
    },
    {
      "cell_type": "markdown",
      "source": [
        "<small>\n",
        "\n",
        "* 설치 과정 및 결과\n",
        "  * ![스크린샷 2025-10-03 10.36.53.png](data:image/png;base64,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)\n",
        "\n",
        "* ✅ hugging-face 임베딩 모델 로딩 완료!"
      ],
      "metadata": {
        "id": "DXrWOgmSuCcf"
      },
      "id": "DXrWOgmSuCcf"
    },
    {
      "cell_type": "code",
      "execution_count": 8,
      "id": "906be15e",
      "metadata": {
        "colab": {
          "base_uri": "https://localhost:8080/",
          "height": 0
        },
        "collapsed": true,
        "id": "906be15e",
        "outputId": "3a89f105-5702-4fef-bbdc-b70d5a6efc8e"
      },
      "outputs": [
        {
          "output_type": "stream",
          "name": "stdout",
          "text": [
            "384\n",
            "✅ fake hugginsface 임베딩 차원 확인 완료!\n"
          ]
        }
      ],
      "source": [
        "dimension_size = len(embeddings.embed_query(\"hello world\"))\n",
        "print(dimension_size)\n",
        "print(\"✅ fake hugginsface 임베딩 차원 확인 완료!\")"
      ]
    },
    {
      "cell_type": "markdown",
      "id": "e74b3d05",
      "metadata": {
        "id": "e74b3d05"
      },
      "source": [
        "<small>\n",
        "\n",
        "* 384\n",
        "* ✅ fake hugginsface 임베딩 차원 확인 완료!"
      ]
    },
    {
      "cell_type": "code",
      "execution_count": 9,
      "id": "99f05db3",
      "metadata": {
        "id": "99f05db3"
      },
      "outputs": [],
      "source": [
        "# FAISS 인덱스는 임베딩 모델의 출력 차원과 일치해야 함\n",
        "embedding_size = 384\n",
        "\n",
        "# FAISS 인덱스 생성\n",
        "index = faiss.IndexFlatL2(embedding_size)\n",
        "\n",
        "# FAISS 벡터 저장소 초기화\n",
        "vectorstore = FAISS(\n",
        "    embeddings,\n",
        "    index,                        # FAISS 인덱스\n",
        "    InMemoryDocstore({}),         # 초기에는 비어있는 Docstore\n",
        "    {},                           # Index to docstore ID 맵핑 (초기에는 비어 있음)\n",
        ")"
      ]
    },
    {
      "cell_type": "code",
      "execution_count": 10,
      "id": "228a9e06",
      "metadata": {
        "id": "228a9e06"
      },
      "outputs": [],
      "source": [
        "# 시간 가중치가 적용된 벡터 저장소 검색기를 초기화하기\n",
        "\n",
        "retriever = TimeWeightedVectorStoreRetriever(\n",
        "    vectorstore=vectorstore,\n",
        "    decay_rate=0.0000000000000000000000001,                 # 낮은 감쇠율 적용\n",
        "    k=1                                                     # k = 1\n",
        ")"
      ]
    },
    {
      "cell_type": "markdown",
      "id": "4555a068",
      "metadata": {
        "id": "4555a068"
      },
      "source": [
        "* 간단한 예제 데이터 추가해보기"
      ]
    },
    {
      "cell_type": "code",
      "execution_count": 11,
      "id": "459cd0fb",
      "metadata": {
        "colab": {
          "base_uri": "https://localhost:8080/",
          "height": 0
        },
        "collapsed": true,
        "id": "459cd0fb",
        "outputId": "29e348db-71a4-41ce-a42f-c38e860b4025"
      },
      "outputs": [
        {
          "output_type": "stream",
          "name": "stdout",
          "text": [
            "2025-10-02 01:29:41.959180\n"
          ]
        }
      ],
      "source": [
        "# 어제 날짜 계산해보기\n",
        "yesterday = datetime.now() - timedelta(days=1)\n",
        "print(yesterday)                                          # 2025-10-02 01:29:41.959180"
      ]
    },
    {
      "cell_type": "code",
      "execution_count": 13,
      "id": "a109b5cf",
      "metadata": {
        "colab": {
          "base_uri": "https://localhost:8080/",
          "height": 0
        },
        "collapsed": true,
        "id": "a109b5cf",
        "outputId": "d50b54eb-9cef-469c-9741-89c633c7a304"
      },
      "outputs": [
        {
          "output_type": "stream",
          "name": "stdout",
          "text": [
            "384\n"
          ]
        }
      ],
      "source": [
        "print(index.d)            # FAISS 인덱스의 차원 확인\n",
        "# 384"
      ]
    },
    {
      "cell_type": "code",
      "execution_count": 14,
      "id": "e74063f5",
      "metadata": {
        "colab": {
          "base_uri": "https://localhost:8080/",
          "height": 0
        },
        "collapsed": true,
        "id": "e74063f5",
        "outputId": "a7fe6e4a-32b7-4082-e9df-b88592e75a51"
      },
      "outputs": [
        {
          "output_type": "execute_result",
          "data": {
            "text/plain": [
              "['c92a51f4-b6e1-4014-a66b-33a78e0dc262']"
            ]
          },
          "metadata": {},
          "execution_count": 14
        }
      ],
      "source": [
        "retriever.add_documents(\n",
        "    [\n",
        "        Document(\n",
        "            page_content=\"어제 날짜를 설정해 추가합니다.\",         # 문서 추가하기\n",
        "            metadata={\"last_accessed_at\": yesterday},       # 어제 날짜 설정\n",
        "        )\n",
        "    ]\n",
        ")                               # ['c92a51f4-b6e1-4014-a66b-33a78e0dc262']"
      ]
    },
    {
      "cell_type": "code",
      "execution_count": 15,
      "id": "aa19d164",
      "metadata": {
        "colab": {
          "base_uri": "https://localhost:8080/",
          "height": 0
        },
        "collapsed": true,
        "id": "aa19d164",
        "outputId": "93ab97cb-2a5e-475b-827e-988811eefe98"
      },
      "outputs": [
        {
          "output_type": "execute_result",
          "data": {
            "text/plain": [
              "['c8df1817-e43a-4b97-abbe-00b4f3a7b6f0']"
            ]
          },
          "metadata": {},
          "execution_count": 15
        }
      ],
      "source": [
        "# 다른 문서를 추가하기\n",
        "\n",
        "retriever.add_documents(\n",
        "    [\n",
        "        Document(\n",
        "            page_content=\"어제 날짜는요?\"\n",
        "            # metadata = 별도로 설정하지 않음\n",
        "            )])                 # ['c8df1817-e43a-4b97-abbe-00b4f3a7b6f0']"
      ]
    },
    {
      "cell_type": "markdown",
      "id": "4b306e22",
      "metadata": {
        "id": "4b306e22"
      },
      "source": [
        "* **`retriever.invoke()`** 호출 → 검색 수행하기\n",
        "\n",
        "  * 가장 두드러진 (`salient`) 문서이기 때문\n",
        "  * **`decay_rate`** **`→ 0에 가깝기 때문`** 에 문서는 여전히 최신(`recent`)으로 간주됨"
      ]
    },
    {
      "cell_type": "code",
      "execution_count": 16,
      "id": "50394897",
      "metadata": {
        "colab": {
          "base_uri": "https://localhost:8080/",
          "height": 0
        },
        "collapsed": true,
        "id": "50394897",
        "outputId": "13e67303-8fb0-4452-ae1a-423be81859c6"
      },
      "outputs": [
        {
          "output_type": "execute_result",
          "data": {
            "text/plain": [
              "[Document(metadata={'last_accessed_at': datetime.datetime(2025, 10, 3, 1, 30, 20, 338939), 'created_at': datetime.datetime(2025, 10, 3, 1, 30, 8, 130345), 'buffer_idx': 1}, page_content='어제 날짜는요?')]"
            ]
          },
          "metadata": {},
          "execution_count": 16
        }
      ],
      "source": [
        "retriever.invoke(\"어제 날짜\")"
      ]
    },
    {
      "cell_type": "markdown",
      "source": [
        "<small>\n",
        "\n",
        "* 낮은 감쇠율 출력\n",
        "\n",
        "  ```python\n",
        "  [Document(metadata={'last_accessed_at': datetime.datetime(2025, 10, 3, 1, 30, 20, 338939), 'created_at': datetime.datetime(2025, 10, 3, 1, 30, 8, 130345), 'buffer_idx': 1}, page_content='어제 날짜는요?')]\n",
        "  ```"
      ],
      "metadata": {
        "id": "Pa-OmPScsSfU"
      },
      "id": "Pa-OmPScsSfU"
    },
    {
      "cell_type": "markdown",
      "source": [
        "#### **4) `높은 감쇠율` (`high decay_rate`)**"
      ],
      "metadata": {
        "id": "yKutqtoGseZA"
      },
      "id": "yKutqtoGseZA"
    },
    {
      "cell_type": "markdown",
      "source": [
        "* 높은 **`decay_rate` 사용 시 = `recency score` 빠르게 `0`으로 수렴**\n",
        "  * *예시: `decay_rate` = 0.9999...*\n",
        "  * 만약 `decay_rate` = 1 → 모든 객체의 `recency`값 = `0` → `Vector Lookup`과 동일한 결과"
      ],
      "metadata": {
        "id": "YlwKigfSslme"
      },
      "id": "YlwKigfSslme"
    },
    {
      "cell_type": "markdown",
      "source": [
        "* **`TimeWeightedVectorStorRetriever`** 사용 → 검색기 초기화\n",
        "\n",
        "  * `decay_rate` = `0.999` → *시간에 따른 가중치 감소율 조정*"
      ],
      "metadata": {
        "id": "GZyatFcOtT8T"
      },
      "id": "GZyatFcOtT8T"
    },
    {
      "cell_type": "code",
      "execution_count": 17,
      "id": "b328fb0f",
      "metadata": {
        "colab": {
          "base_uri": "https://localhost:8080/",
          "height": 0
        },
        "collapsed": true,
        "id": "b328fb0f",
        "outputId": "1b40242a-a0d9-4104-8b72-a3035d071f8a"
      },
      "outputs": [
        {
          "output_type": "stream",
          "name": "stdout",
          "text": [
            "✅ hugging-face 임베딩 모델 로딩 완료!\n"
          ]
        }
      ],
      "source": [
        "# 임베딩 모델 정의하기\n",
        "import warnings\n",
        "\n",
        "# 경고 무시\n",
        "warnings.filterwarnings(\"ignore\")\n",
        "\n",
        "# 임베딩 사용하기 (try_1)\n",
        "embeddings = HuggingFaceEmbeddings(\n",
        "    model_name=\"sentence-transformers/all-MiniLM-L6-v2\",\n",
        "    model_kwargs={'device': 'cpu'},\n",
        "    encode_kwargs={'normalize_embeddings': True}\n",
        "    )\n",
        "\n",
        "print(\"✅ hugging-face 임베딩 모델 로딩 완료!\")"
      ]
    },
    {
      "cell_type": "markdown",
      "source": [
        "<small>\n",
        "\n",
        "* ✅ hugging-face 임베딩 모델 로딩 완료!"
      ],
      "metadata": {
        "id": "X2jWydYkukjv"
      },
      "id": "X2jWydYkukjv"
    },
    {
      "cell_type": "code",
      "execution_count": 18,
      "id": "a5e9178f",
      "metadata": {
        "id": "a5e9178f"
      },
      "outputs": [],
      "source": [
        "# 벡터 저장소 초기화하기\n",
        "embedding_size = 384\n",
        "\n",
        "# FAISS 인덱스 생성\n",
        "index = faiss.IndexFlatL2(embedding_size)\n",
        "\n",
        "# FAISS 벡터 저장소 초기화\n",
        "vectorstore = FAISS(\n",
        "    embeddings,\n",
        "    index,                        # FAISS 인덱스\n",
        "    InMemoryDocstore({}),         # 초기에는 비어있는 Docstore\n",
        "    {},                           # Index to docstore ID 맵핑 (초기에는 비어 있음)\n",
        ")"
      ]
    },
    {
      "cell_type": "code",
      "source": [
        "# 시간가중치가 적용된 벡터저장소 검색기 초기화하기\n",
        "\n",
        "retriever = TimeWeightedVectorStoreRetriever(\n",
        "    vectorstore=vectorstore,\n",
        "    decay_rate=0.999,                                       # 높은 감쇠율 적용\n",
        "    k=1                                                     # k = 1\n",
        ")"
      ],
      "metadata": {
        "id": "09hmL5gqucbJ"
      },
      "id": "09hmL5gqucbJ",
      "execution_count": 19,
      "outputs": []
    },
    {
      "cell_type": "markdown",
      "source": [
        "* 다시 문서를 새롭게 추가하기"
      ],
      "metadata": {
        "id": "tO_6Pcl8vC_m"
      },
      "id": "tO_6Pcl8vC_m"
    },
    {
      "cell_type": "code",
      "source": [
        "# 어제 날짜 계산해보기\n",
        "yesterday = datetime.now() - timedelta(days=1)\n",
        "print(yesterday)                                            # 2025-10-02 01:43:09.683966"
      ],
      "metadata": {
        "colab": {
          "base_uri": "https://localhost:8080/",
          "height": 0
        },
        "collapsed": true,
        "id": "aK1MAMusucYj",
        "outputId": "c387562d-78fd-47f0-edf8-76e9c4c0ed8b"
      },
      "id": "aK1MAMusucYj",
      "execution_count": 20,
      "outputs": [
        {
          "output_type": "stream",
          "name": "stdout",
          "text": [
            "2025-10-02 01:43:09.683966\n"
          ]
        }
      ]
    },
    {
      "cell_type": "code",
      "source": [
        "# 문서 추가 및 메타데이터에 어제 날짜 추가하기\n",
        "retriever.add_documents(\n",
        "    [\n",
        "        Document(\n",
        "            page_content=\"어제 날짜를 설정해 추가합니다.\",         # 문서 추가하기\n",
        "            metadata={\"last_accessed_at\": yesterday},       # 어제 날짜 설정\n",
        "        )\n",
        "    ]\n",
        ")                                                           # ['89f7ca8d-2ab0-48fa-991f-bc6e7aae6bfc']"
      ],
      "metadata": {
        "colab": {
          "base_uri": "https://localhost:8080/",
          "height": 0
        },
        "collapsed": true,
        "id": "AvOwoV2AucV8",
        "outputId": "f4f26a72-ccaf-40ec-ffd5-1654669cd04f"
      },
      "id": "AvOwoV2AucV8",
      "execution_count": 21,
      "outputs": [
        {
          "output_type": "execute_result",
          "data": {
            "text/plain": [
              "['89f7ca8d-2ab0-48fa-991f-bc6e7aae6bfc']"
            ]
          },
          "metadata": {},
          "execution_count": 21
        }
      ]
    },
    {
      "cell_type": "code",
      "source": [
        "# 다른 문서 추가하기\n",
        "retriever.add_documents(\n",
        "    [\n",
        "        Document(\n",
        "            page_content=\"어제 날짜는요?\"\n",
        "            # metadata = 별도로 설정하지 않음\n",
        "            )])                                             # ['9a6466d8-58c3-4e0a-9027-7c8c604a6977']"
      ],
      "metadata": {
        "colab": {
          "base_uri": "https://localhost:8080/",
          "height": 0
        },
        "collapsed": true,
        "id": "EnCC_o08ucTV",
        "outputId": "8801444f-c329-4357-a416-a198ceffabcc"
      },
      "id": "EnCC_o08ucTV",
      "execution_count": 22,
      "outputs": [
        {
          "output_type": "execute_result",
          "data": {
            "text/plain": [
              "['9a6466d8-58c3-4e0a-9027-7c8c604a6977']"
            ]
          },
          "metadata": {},
          "execution_count": 22
        }
      ]
    },
    {
      "cell_type": "markdown",
      "source": [
        "* **`retriever.invoke()`** 호출해보기"
      ],
      "metadata": {
        "id": "j8GPAADYvldk"
      },
      "id": "j8GPAADYvldk"
    },
    {
      "cell_type": "code",
      "source": [
        "retriever.invoke(\"어제 날짜\")"
      ],
      "metadata": {
        "colab": {
          "base_uri": "https://localhost:8080/",
          "height": 0
        },
        "collapsed": true,
        "id": "d11IVI4XucRK",
        "outputId": "71248f06-1921-4655-e6c8-8763b96e4810"
      },
      "id": "d11IVI4XucRK",
      "execution_count": 23,
      "outputs": [
        {
          "output_type": "execute_result",
          "data": {
            "text/plain": [
              "[Document(metadata={'last_accessed_at': datetime.datetime(2025, 10, 3, 1, 45, 44, 33873), 'created_at': datetime.datetime(2025, 10, 3, 1, 44, 40, 312475), 'buffer_idx': 1}, page_content='어제 날짜는요?')]"
            ]
          },
          "metadata": {},
          "execution_count": 23
        }
      ]
    },
    {
      "cell_type": "markdown",
      "source": [
        "<small>\n",
        "\n",
        "* 높은 감쇠율 출력\n",
        "\n",
        "  ```python\n",
        "  [Document(metadata={'last_accessed_at': datetime.datetime(2025, 10, 3, 1, 45, 44, 33873), 'created_at': datetime.datetime(2025, 10, 3, 1, 44, 40, 312475), 'buffer_idx': 1}, page_content='어제 날짜는요?')]\n",
        "  ```\n",
        "\n",
        "  * **`'어제 날짜는요?'` 가 먼저 반환**\n",
        "  * **`retriever` → `어제 날짜를 설정해 추가합니다` 와 관련된 문서를 대부분 잊어버렸기 때문**"
      ],
      "metadata": {
        "id": "mc93jJlVvydC"
      },
      "id": "mc93jJlVvydC"
    },
    {
      "cell_type": "markdown",
      "source": [
        "---"
      ],
      "metadata": {
        "id": "RYJZz8tPwvzM"
      },
      "id": "RYJZz8tPwvzM"
    },
    {
      "cell_type": "markdown",
      "source": [
        "* **`감쇠율` (`decay_rate`) 정리**\n",
        "\n",
        "  * `decay_rate` = `0.000001` *→ 매우 작게 설정한 경우*\n",
        "    * 감쇠율 (**`= 정보를 망각하는 비율`**)이 매우 낮음 → **정보를 거의 잊지 않음**\n",
        "    * **`최신 정보이든 오래된 정보이든 시간 가중치 차이가 거의 없음` → `이런 경우 유사도에 더 높은 점수를 주게 됨`**\n",
        "\n",
        "  * `decay_rate` = `0.999` *→ 1에 가깝게 설정한 경우*\n",
        "    * 감쇠율 (**`= 정보를 망각하는 비율`**)이 매우 높음 → **과거의 정보를 거의 다 잊어버림**\n",
        "    * **`최신 정보에 더 높은 점수를 주게 됨`**"
      ],
      "metadata": {
        "id": "ZaSUzMWowf63"
      },
      "id": "ZaSUzMWowf63"
    },
    {
      "cell_type": "markdown",
      "source": [
        "---"
      ],
      "metadata": {
        "id": "88qdGLhTxr2N"
      },
      "id": "88qdGLhTxr2N"
    },
    {
      "cell_type": "markdown",
      "source": [
        "#### **5) `가상의 시간으로 decay_rate` 조정**"
      ],
      "metadata": {
        "id": "kNpdCH_Exs8A"
      },
      "id": "kNpdCH_Exs8A"
    },
    {
      "cell_type": "markdown",
      "source": [
        "* `LangChain`의 일뷰 유틸리티 사용 → 시간 구성 요소를 모의(`mock`) 테스트 가능\n",
        "\n",
        "  * **`mock_now`**\n",
        "    * `LangChain`에서 제공하는 유틸리티 함수\n",
        "    * 현재 시간을 모의(`moke`)하는 데 사용"
      ],
      "metadata": {
        "id": "GVS2vJcsxy8i"
      },
      "id": "GVS2vJcsxy8i"
    },
    {
      "cell_type": "code",
      "source": [
        "import datetime\n",
        "from langchain.utils import mock_now\n",
        "\n",
        "# 현재 시간을 특정 시점으로 설정\n",
        "mock_now(datetime.datetime(2024, 8, 30, 00, 00))\n",
        "\n",
        "# 현재 시간 출력\n",
        "print(datetime.datetime.now())                    # 2025-10-03 01:56:28.768333"
      ],
      "metadata": {
        "colab": {
          "base_uri": "https://localhost:8080/",
          "height": 0
        },
        "collapsed": true,
        "id": "1Zw-vu4ByLTH",
        "outputId": "9a464b2b-fda9-4f4e-a9fd-23757d87f275"
      },
      "id": "1Zw-vu4ByLTH",
      "execution_count": 24,
      "outputs": [
        {
          "output_type": "stream",
          "name": "stdout",
          "text": [
            "2025-10-03 01:56:28.768333\n"
          ]
        }
      ]
    },
    {
      "cell_type": "markdown",
      "source": [
        "* **`mock_now`** 함수 사용\n",
        "  * 현재 시간 변경하면서 검색 결과 테스트 가능\n",
        "  * 해당 기능 활용해 적절한 `decay_rate` 찾는데 도움을 받을 수 있음\n",
        "\n",
        "* *주의: 만약 너무 오래전의 시간으로 설정하면, `decay_rate` 계산 시 오류가 발생할 수 있음*"
      ],
      "metadata": {
        "id": "aKFICyAVyS3M"
      },
      "id": "aKFICyAVyS3M"
    },
    {
      "cell_type": "code",
      "execution_count": 27,
      "id": "77958ba3",
      "metadata": {
        "colab": {
          "base_uri": "https://localhost:8080/",
          "height": 0
        },
        "collapsed": true,
        "id": "77958ba3",
        "outputId": "db224413-3a4f-4a02-d215-e495985eae18"
      },
      "outputs": [
        {
          "output_type": "stream",
          "name": "stdout",
          "text": [
            "[Document(metadata={'last_accessed_at': MockDateTime(2025, 10, 2, 0, 0), 'created_at': datetime.datetime(2025, 10, 3, 1, 44, 40, 312475), 'buffer_idx': 1}, page_content='어제 날짜는요?')]\n"
          ]
        }
      ],
      "source": [
        "# 현재 시간을 임의의 시간으로 변경하기\n",
        "\n",
        "with mock_now(datetime.datetime(2025, 10, 2, 00, 00)):\n",
        "    # 변경된 시점에서 문서를 검색하기\n",
        "    print(retriever.invoke(\"어제 날짜\"))\n"
      ]
    },
    {
      "cell_type": "markdown",
      "source": [
        "<small>\n",
        "\n",
        "* **`moco_now`** 사용한 결과\n",
        "\n",
        "  ```python\n",
        "  [Document(metadata={'last_accessed_at': MockDateTime(2025, 10, 2, 0, 0), 'created_at': datetime.datetime(2025, 10, 3, 1, 44, 40, 312475), 'buffer_idx': 1}, page_content='어제 날짜는요?')]\n",
        "  ```"
      ],
      "metadata": {
        "id": "7R2R9iZxzGl0"
      },
      "id": "7R2R9iZxzGl0"
    },
    {
      "cell_type": "markdown",
      "id": "8139dcdc",
      "metadata": {
        "id": "8139dcdc"
      },
      "source": [
        "---"
      ]
    },
    {
      "cell_type": "markdown",
      "id": "829716b9",
      "metadata": {
        "id": "829716b9"
      },
      "source": [
        "* *next: **`10. 한글 형태소 분석기(Kiwi, Kkma, Okt) + BM25 검색기`***"
      ]
    },
    {
      "cell_type": "markdown",
      "id": "77b5a622",
      "metadata": {
        "id": "77b5a622"
      },
      "source": [
        "---"
      ]
    }
  ],
  "metadata": {
    "kernelspec": {
      "display_name": "lc_env",
      "language": "python",
      "name": "python3"
    },
    "language_info": {
      "codemirror_mode": {
        "name": "ipython",
        "version": 3
      },
      "file_extension": ".py",
      "mimetype": "text/x-python",
      "name": "python",
      "nbconvert_exporter": "python",
      "pygments_lexer": "ipython3",
      "version": "3.13.5"
    },
    "colab": {
      "provenance": []
    },
    "widgets": {
      "application/vnd.jupyter.widget-state+json": {
        "d6fa4b521a37447983044e87c8022af2": {
          "model_module": "@jupyter-widgets/controls",
          "model_name": "HBoxModel",
          "model_module_version": "1.5.0",
          "state": {
            "_dom_classes": [],
            "_model_module": "@jupyter-widgets/controls",
            "_model_module_version": "1.5.0",
            "_model_name": "HBoxModel",
            "_view_count": null,
            "_view_module": "@jupyter-widgets/controls",
            "_view_module_version": "1.5.0",
            "_view_name": "HBoxView",
            "box_style": "",
            "children": [
              "IPY_MODEL_39b85d695e4846b8bc637451e95eac38",
              "IPY_MODEL_50e83f02ce594ef7b13466c6a82d8565",
              "IPY_MODEL_2e0b46ae3bdf4d07a7ae40737bac74f9"
            ],
            "layout": "IPY_MODEL_21bd86e3dd304608b2e6993c719ca13a"
          }
        },
        "39b85d695e4846b8bc637451e95eac38": {
          "model_module": "@jupyter-widgets/controls",
          "model_name": "HTMLModel",
          "model_module_version": "1.5.0",
          "state": {
            "_dom_classes": [],
            "_model_module": "@jupyter-widgets/controls",
            "_model_module_version": "1.5.0",
            "_model_name": "HTMLModel",
            "_view_count": null,
            "_view_module": "@jupyter-widgets/controls",
            "_view_module_version": "1.5.0",
            "_view_name": "HTMLView",
            "description": "",
            "description_tooltip": null,
            "layout": "IPY_MODEL_463ec4d7436843389e92c377fd954171",
            "placeholder": "​",
            "style": "IPY_MODEL_fe6c3683f79f467bb703a05c996a4fd4",
            "value": "modules.json: 100%"
          }
        },
        "50e83f02ce594ef7b13466c6a82d8565": {
          "model_module": "@jupyter-widgets/controls",
          "model_name": "FloatProgressModel",
          "model_module_version": "1.5.0",
          "state": {
            "_dom_classes": [],
            "_model_module": "@jupyter-widgets/controls",
            "_model_module_version": "1.5.0",
            "_model_name": "FloatProgressModel",
            "_view_count": null,
            "_view_module": "@jupyter-widgets/controls",
            "_view_module_version": "1.5.0",
            "_view_name": "ProgressView",
            "bar_style": "success",
            "description": "",
            "description_tooltip": null,
            "layout": "IPY_MODEL_aafed5c22ac04c63ab79525886347dd9",
            "max": 349,
            "min": 0,
            "orientation": "horizontal",
            "style": "IPY_MODEL_b097cf7fdc474fb9a19d2cc3c651f13c",
            "value": 349
          }
        },
        "2e0b46ae3bdf4d07a7ae40737bac74f9": {
          "model_module": "@jupyter-widgets/controls",
          "model_name": "HTMLModel",
          "model_module_version": "1.5.0",
          "state": {
            "_dom_classes": [],
            "_model_module": "@jupyter-widgets/controls",
            "_model_module_version": "1.5.0",
            "_model_name": "HTMLModel",
            "_view_count": null,
            "_view_module": "@jupyter-widgets/controls",
            "_view_module_version": "1.5.0",
            "_view_name": "HTMLView",
            "description": "",
            "description_tooltip": null,
            "layout": "IPY_MODEL_6f14f5d178ee48cea94e8cefa42c4457",
            "placeholder": "​",
            "style": "IPY_MODEL_28101bdec80f4956a83fd80033cddec6",
            "value": " 349/349 [00:00&lt;00:00, 16.8kB/s]"
          }
        },
        "21bd86e3dd304608b2e6993c719ca13a": {
          "model_module": "@jupyter-widgets/base",
          "model_name": "LayoutModel",
          "model_module_version": "1.2.0",
          "state": {
            "_model_module": "@jupyter-widgets/base",
            "_model_module_version": "1.2.0",
            "_model_name": "LayoutModel",
            "_view_count": null,
            "_view_module": "@jupyter-widgets/base",
            "_view_module_version": "1.2.0",
            "_view_name": "LayoutView",
            "align_content": null,
            "align_items": null,
            "align_self": null,
            "border": null,
            "bottom": null,
            "display": null,
            "flex": null,
            "flex_flow": null,
            "grid_area": null,
            "grid_auto_columns": null,
            "grid_auto_flow": null,
            "grid_auto_rows": null,
            "grid_column": null,
            "grid_gap": null,
            "grid_row": null,
            "grid_template_areas": null,
            "grid_template_columns": null,
            "grid_template_rows": null,
            "height": null,
            "justify_content": null,
            "justify_items": null,
            "left": null,
            "margin": null,
            "max_height": null,
            "max_width": null,
            "min_height": null,
            "min_width": null,
            "object_fit": null,
            "object_position": null,
            "order": null,
            "overflow": null,
            "overflow_x": null,
            "overflow_y": null,
            "padding": null,
            "right": null,
            "top": null,
            "visibility": null,
            "width": null
          }
        },
        "463ec4d7436843389e92c377fd954171": {
          "model_module": "@jupyter-widgets/base",
          "model_name": "LayoutModel",
          "model_module_version": "1.2.0",
          "state": {
            "_model_module": "@jupyter-widgets/base",
            "_model_module_version": "1.2.0",
            "_model_name": "LayoutModel",
            "_view_count": null,
            "_view_module": "@jupyter-widgets/base",
            "_view_module_version": "1.2.0",
            "_view_name": "LayoutView",
            "align_content": null,
            "align_items": null,
            "align_self": null,
            "border": null,
            "bottom": null,
            "display": null,
            "flex": null,
            "flex_flow": null,
            "grid_area": null,
            "grid_auto_columns": null,
            "grid_auto_flow": null,
            "grid_auto_rows": null,
            "grid_column": null,
            "grid_gap": null,
            "grid_row": null,
            "grid_template_areas": null,
            "grid_template_columns": null,
            "grid_template_rows": null,
            "height": null,
            "justify_content": null,
            "justify_items": null,
            "left": null,
            "margin": null,
            "max_height": null,
            "max_width": null,
            "min_height": null,
            "min_width": null,
            "object_fit": null,
            "object_position": null,
            "order": null,
            "overflow": null,
            "overflow_x": null,
            "overflow_y": null,
            "padding": null,
            "right": null,
            "top": null,
            "visibility": null,
            "width": null
          }
        },
        "fe6c3683f79f467bb703a05c996a4fd4": {
          "model_module": "@jupyter-widgets/controls",
          "model_name": "DescriptionStyleModel",
          "model_module_version": "1.5.0",
          "state": {
            "_model_module": "@jupyter-widgets/controls",
            "_model_module_version": "1.5.0",
            "_model_name": "DescriptionStyleModel",
            "_view_count": null,
            "_view_module": "@jupyter-widgets/base",
            "_view_module_version": "1.2.0",
            "_view_name": "StyleView",
            "description_width": ""
          }
        },
        "aafed5c22ac04c63ab79525886347dd9": {
          "model_module": "@jupyter-widgets/base",
          "model_name": "LayoutModel",
          "model_module_version": "1.2.0",
          "state": {
            "_model_module": "@jupyter-widgets/base",
            "_model_module_version": "1.2.0",
            "_model_name": "LayoutModel",
            "_view_count": null,
            "_view_module": "@jupyter-widgets/base",
            "_view_module_version": "1.2.0",
            "_view_name": "LayoutView",
            "align_content": null,
            "align_items": null,
            "align_self": null,
            "border": null,
            "bottom": null,
            "display": null,
            "flex": null,
            "flex_flow": null,
            "grid_area": null,
            "grid_auto_columns": null,
            "grid_auto_flow": null,
            "grid_auto_rows": null,
            "grid_column": null,
            "grid_gap": null,
            "grid_row": null,
            "grid_template_areas": null,
            "grid_template_columns": null,
            "grid_template_rows": null,
            "height": null,
            "justify_content": null,
            "justify_items": null,
            "left": null,
            "margin": null,
            "max_height": null,
            "max_width": null,
            "min_height": null,
            "min_width": null,
            "object_fit": null,
            "object_position": null,
            "order": null,
            "overflow": null,
            "overflow_x": null,
            "overflow_y": null,
            "padding": null,
            "right": null,
            "top": null,
            "visibility": null,
            "width": null
          }
        },
        "b097cf7fdc474fb9a19d2cc3c651f13c": {
          "model_module": "@jupyter-widgets/controls",
          "model_name": "ProgressStyleModel",
          "model_module_version": "1.5.0",
          "state": {
            "_model_module": "@jupyter-widgets/controls",
            "_model_module_version": "1.5.0",
            "_model_name": "ProgressStyleModel",
            "_view_count": null,
            "_view_module": "@jupyter-widgets/base",
            "_view_module_version": "1.2.0",
            "_view_name": "StyleView",
            "bar_color": null,
            "description_width": ""
          }
        },
        "6f14f5d178ee48cea94e8cefa42c4457": {
          "model_module": "@jupyter-widgets/base",
          "model_name": "LayoutModel",
          "model_module_version": "1.2.0",
          "state": {
            "_model_module": "@jupyter-widgets/base",
            "_model_module_version": "1.2.0",
            "_model_name": "LayoutModel",
            "_view_count": null,
            "_view_module": "@jupyter-widgets/base",
            "_view_module_version": "1.2.0",
            "_view_name": "LayoutView",
            "align_content": null,
            "align_items": null,
            "align_self": null,
            "border": null,
            "bottom": null,
            "display": null,
            "flex": null,
            "flex_flow": null,
            "grid_area": null,
            "grid_auto_columns": null,
            "grid_auto_flow": null,
            "grid_auto_rows": null,
            "grid_column": null,
            "grid_gap": null,
            "grid_row": null,
            "grid_template_areas": null,
            "grid_template_columns": null,
            "grid_template_rows": null,
            "height": null,
            "justify_content": null,
            "justify_items": null,
            "left": null,
            "margin": null,
            "max_height": null,
            "max_width": null,
            "min_height": null,
            "min_width": null,
            "object_fit": null,
            "object_position": null,
            "order": null,
            "overflow": null,
            "overflow_x": null,
            "overflow_y": null,
            "padding": null,
            "right": null,
            "top": null,
            "visibility": null,
            "width": null
          }
        },
        "28101bdec80f4956a83fd80033cddec6": {
          "model_module": "@jupyter-widgets/controls",
          "model_name": "DescriptionStyleModel",
          "model_module_version": "1.5.0",
          "state": {
            "_model_module": "@jupyter-widgets/controls",
            "_model_module_version": "1.5.0",
            "_model_name": "DescriptionStyleModel",
            "_view_count": null,
            "_view_module": "@jupyter-widgets/base",
            "_view_module_version": "1.2.0",
            "_view_name": "StyleView",
            "description_width": ""
          }
        },
        "a50b105b6fb843268abc601b86d758d0": {
          "model_module": "@jupyter-widgets/controls",
          "model_name": "HBoxModel",
          "model_module_version": "1.5.0",
          "state": {
            "_dom_classes": [],
            "_model_module": "@jupyter-widgets/controls",
            "_model_module_version": "1.5.0",
            "_model_name": "HBoxModel",
            "_view_count": null,
            "_view_module": "@jupyter-widgets/controls",
            "_view_module_version": "1.5.0",
            "_view_name": "HBoxView",
            "box_style": "",
            "children": [
              "IPY_MODEL_06fa008493484619a895a635bbbe3bfb",
              "IPY_MODEL_9531335844d5483e8d853be2486de60b",
              "IPY_MODEL_92ade85852c24877b8ddae879a8cf201"
            ],
            "layout": "IPY_MODEL_d4c035a066ee4f479b95ad37e3ac37fb"
          }
        },
        "06fa008493484619a895a635bbbe3bfb": {
          "model_module": "@jupyter-widgets/controls",
          "model_name": "HTMLModel",
          "model_module_version": "1.5.0",
          "state": {
            "_dom_classes": [],
            "_model_module": "@jupyter-widgets/controls",
            "_model_module_version": "1.5.0",
            "_model_name": "HTMLModel",
            "_view_count": null,
            "_view_module": "@jupyter-widgets/controls",
            "_view_module_version": "1.5.0",
            "_view_name": "HTMLView",
            "description": "",
            "description_tooltip": null,
            "layout": "IPY_MODEL_876d35b8b377443999fd54dfe571e285",
            "placeholder": "​",
            "style": "IPY_MODEL_ba822bbca0f24290938756c1237cdecb",
            "value": "config_sentence_transformers.json: 100%"
          }
        },
        "9531335844d5483e8d853be2486de60b": {
          "model_module": "@jupyter-widgets/controls",
          "model_name": "FloatProgressModel",
          "model_module_version": "1.5.0",
          "state": {
            "_dom_classes": [],
            "_model_module": "@jupyter-widgets/controls",
            "_model_module_version": "1.5.0",
            "_model_name": "FloatProgressModel",
            "_view_count": null,
            "_view_module": "@jupyter-widgets/controls",
            "_view_module_version": "1.5.0",
            "_view_name": "ProgressView",
            "bar_style": "success",
            "description": "",
            "description_tooltip": null,
            "layout": "IPY_MODEL_92c12450334144fea2792bc76165045e",
            "max": 116,
            "min": 0,
            "orientation": "horizontal",
            "style": "IPY_MODEL_1bf9f66d19c343a19b2996cd06411915",
            "value": 116
          }
        },
        "92ade85852c24877b8ddae879a8cf201": {
          "model_module": "@jupyter-widgets/controls",
          "model_name": "HTMLModel",
          "model_module_version": "1.5.0",
          "state": {
            "_dom_classes": [],
            "_model_module": "@jupyter-widgets/controls",
            "_model_module_version": "1.5.0",
            "_model_name": "HTMLModel",
            "_view_count": null,
            "_view_module": "@jupyter-widgets/controls",
            "_view_module_version": "1.5.0",
            "_view_name": "HTMLView",
            "description": "",
            "description_tooltip": null,
            "layout": "IPY_MODEL_435eb15151bb40f38d065fa7e6078607",
            "placeholder": "​",
            "style": "IPY_MODEL_2390c94ec4b34e26899d6ae3375e7b8b",
            "value": " 116/116 [00:00&lt;00:00, 6.11kB/s]"
          }
        },
        "d4c035a066ee4f479b95ad37e3ac37fb": {
          "model_module": "@jupyter-widgets/base",
          "model_name": "LayoutModel",
          "model_module_version": "1.2.0",
          "state": {
            "_model_module": "@jupyter-widgets/base",
            "_model_module_version": "1.2.0",
            "_model_name": "LayoutModel",
            "_view_count": null,
            "_view_module": "@jupyter-widgets/base",
            "_view_module_version": "1.2.0",
            "_view_name": "LayoutView",
            "align_content": null,
            "align_items": null,
            "align_self": null,
            "border": null,
            "bottom": null,
            "display": null,
            "flex": null,
            "flex_flow": null,
            "grid_area": null,
            "grid_auto_columns": null,
            "grid_auto_flow": null,
            "grid_auto_rows": null,
            "grid_column": null,
            "grid_gap": null,
            "grid_row": null,
            "grid_template_areas": null,
            "grid_template_columns": null,
            "grid_template_rows": null,
            "height": null,
            "justify_content": null,
            "justify_items": null,
            "left": null,
            "margin": null,
            "max_height": null,
            "max_width": null,
            "min_height": null,
            "min_width": null,
            "object_fit": null,
            "object_position": null,
            "order": null,
            "overflow": null,
            "overflow_x": null,
            "overflow_y": null,
            "padding": null,
            "right": null,
            "top": null,
            "visibility": null,
            "width": null
          }
        },
        "876d35b8b377443999fd54dfe571e285": {
          "model_module": "@jupyter-widgets/base",
          "model_name": "LayoutModel",
          "model_module_version": "1.2.0",
          "state": {
            "_model_module": "@jupyter-widgets/base",
            "_model_module_version": "1.2.0",
            "_model_name": "LayoutModel",
            "_view_count": null,
            "_view_module": "@jupyter-widgets/base",
            "_view_module_version": "1.2.0",
            "_view_name": "LayoutView",
            "align_content": null,
            "align_items": null,
            "align_self": null,
            "border": null,
            "bottom": null,
            "display": null,
            "flex": null,
            "flex_flow": null,
            "grid_area": null,
            "grid_auto_columns": null,
            "grid_auto_flow": null,
            "grid_auto_rows": null,
            "grid_column": null,
            "grid_gap": null,
            "grid_row": null,
            "grid_template_areas": null,
            "grid_template_columns": null,
            "grid_template_rows": null,
            "height": null,
            "justify_content": null,
            "justify_items": null,
            "left": null,
            "margin": null,
            "max_height": null,
            "max_width": null,
            "min_height": null,
            "min_width": null,
            "object_fit": null,
            "object_position": null,
            "order": null,
            "overflow": null,
            "overflow_x": null,
            "overflow_y": null,
            "padding": null,
            "right": null,
            "top": null,
            "visibility": null,
            "width": null
          }
        },
        "ba822bbca0f24290938756c1237cdecb": {
          "model_module": "@jupyter-widgets/controls",
          "model_name": "DescriptionStyleModel",
          "model_module_version": "1.5.0",
          "state": {
            "_model_module": "@jupyter-widgets/controls",
            "_model_module_version": "1.5.0",
            "_model_name": "DescriptionStyleModel",
            "_view_count": null,
            "_view_module": "@jupyter-widgets/base",
            "_view_module_version": "1.2.0",
            "_view_name": "StyleView",
            "description_width": ""
          }
        },
        "92c12450334144fea2792bc76165045e": {
          "model_module": "@jupyter-widgets/base",
          "model_name": "LayoutModel",
          "model_module_version": "1.2.0",
          "state": {
            "_model_module": "@jupyter-widgets/base",
            "_model_module_version": "1.2.0",
            "_model_name": "LayoutModel",
            "_view_count": null,
            "_view_module": "@jupyter-widgets/base",
            "_view_module_version": "1.2.0",
            "_view_name": "LayoutView",
            "align_content": null,
            "align_items": null,
            "align_self": null,
            "border": null,
            "bottom": null,
            "display": null,
            "flex": null,
            "flex_flow": null,
            "grid_area": null,
            "grid_auto_columns": null,
            "grid_auto_flow": null,
            "grid_auto_rows": null,
            "grid_column": null,
            "grid_gap": null,
            "grid_row": null,
            "grid_template_areas": null,
            "grid_template_columns": null,
            "grid_template_rows": null,
            "height": null,
            "justify_content": null,
            "justify_items": null,
            "left": null,
            "margin": null,
            "max_height": null,
            "max_width": null,
            "min_height": null,
            "min_width": null,
            "object_fit": null,
            "object_position": null,
            "order": null,
            "overflow": null,
            "overflow_x": null,
            "overflow_y": null,
            "padding": null,
            "right": null,
            "top": null,
            "visibility": null,
            "width": null
          }
        },
        "1bf9f66d19c343a19b2996cd06411915": {
          "model_module": "@jupyter-widgets/controls",
          "model_name": "ProgressStyleModel",
          "model_module_version": "1.5.0",
          "state": {
            "_model_module": "@jupyter-widgets/controls",
            "_model_module_version": "1.5.0",
            "_model_name": "ProgressStyleModel",
            "_view_count": null,
            "_view_module": "@jupyter-widgets/base",
            "_view_module_version": "1.2.0",
            "_view_name": "StyleView",
            "bar_color": null,
            "description_width": ""
          }
        },
        "435eb15151bb40f38d065fa7e6078607": {
          "model_module": "@jupyter-widgets/base",
          "model_name": "LayoutModel",
          "model_module_version": "1.2.0",
          "state": {
            "_model_module": "@jupyter-widgets/base",
            "_model_module_version": "1.2.0",
            "_model_name": "LayoutModel",
            "_view_count": null,
            "_view_module": "@jupyter-widgets/base",
            "_view_module_version": "1.2.0",
            "_view_name": "LayoutView",
            "align_content": null,
            "align_items": null,
            "align_self": null,
            "border": null,
            "bottom": null,
            "display": null,
            "flex": null,
            "flex_flow": null,
            "grid_area": null,
            "grid_auto_columns": null,
            "grid_auto_flow": null,
            "grid_auto_rows": null,
            "grid_column": null,
            "grid_gap": null,
            "grid_row": null,
            "grid_template_areas": null,
            "grid_template_columns": null,
            "grid_template_rows": null,
            "height": null,
            "justify_content": null,
            "justify_items": null,
            "left": null,
            "margin": null,
            "max_height": null,
            "max_width": null,
            "min_height": null,
            "min_width": null,
            "object_fit": null,
            "object_position": null,
            "order": null,
            "overflow": null,
            "overflow_x": null,
            "overflow_y": null,
            "padding": null,
            "right": null,
            "top": null,
            "visibility": null,
            "width": null
          }
        },
        "2390c94ec4b34e26899d6ae3375e7b8b": {
          "model_module": "@jupyter-widgets/controls",
          "model_name": "DescriptionStyleModel",
          "model_module_version": "1.5.0",
          "state": {
            "_model_module": "@jupyter-widgets/controls",
            "_model_module_version": "1.5.0",
            "_model_name": "DescriptionStyleModel",
            "_view_count": null,
            "_view_module": "@jupyter-widgets/base",
            "_view_module_version": "1.2.0",
            "_view_name": "StyleView",
            "description_width": ""
          }
        },
        "0b2d33cefd224fab986ba25b5039b7ba": {
          "model_module": "@jupyter-widgets/controls",
          "model_name": "HBoxModel",
          "model_module_version": "1.5.0",
          "state": {
            "_dom_classes": [],
            "_model_module": "@jupyter-widgets/controls",
            "_model_module_version": "1.5.0",
            "_model_name": "HBoxModel",
            "_view_count": null,
            "_view_module": "@jupyter-widgets/controls",
            "_view_module_version": "1.5.0",
            "_view_name": "HBoxView",
            "box_style": "",
            "children": [
              "IPY_MODEL_059f5cb2cb5f42d99072b263db0f45da",
              "IPY_MODEL_bab4c195b67b4f8fbd03f2dd3b632e99",
              "IPY_MODEL_d9c9c2cc0d3a4e76b5dff824a4acfb7c"
            ],
            "layout": "IPY_MODEL_f0fd536baac04b0f92a7b0da060e18b5"
          }
        },
        "059f5cb2cb5f42d99072b263db0f45da": {
          "model_module": "@jupyter-widgets/controls",
          "model_name": "HTMLModel",
          "model_module_version": "1.5.0",
          "state": {
            "_dom_classes": [],
            "_model_module": "@jupyter-widgets/controls",
            "_model_module_version": "1.5.0",
            "_model_name": "HTMLModel",
            "_view_count": null,
            "_view_module": "@jupyter-widgets/controls",
            "_view_module_version": "1.5.0",
            "_view_name": "HTMLView",
            "description": "",
            "description_tooltip": null,
            "layout": "IPY_MODEL_ada10cce67c54c0fa1a370a11d462d18",
            "placeholder": "​",
            "style": "IPY_MODEL_c453c3d04e4047d69ad9b6dffa0bcda2",
            "value": "README.md: "
          }
        },
        "bab4c195b67b4f8fbd03f2dd3b632e99": {
          "model_module": "@jupyter-widgets/controls",
          "model_name": "FloatProgressModel",
          "model_module_version": "1.5.0",
          "state": {
            "_dom_classes": [],
            "_model_module": "@jupyter-widgets/controls",
            "_model_module_version": "1.5.0",
            "_model_name": "FloatProgressModel",
            "_view_count": null,
            "_view_module": "@jupyter-widgets/controls",
            "_view_module_version": "1.5.0",
            "_view_name": "ProgressView",
            "bar_style": "success",
            "description": "",
            "description_tooltip": null,
            "layout": "IPY_MODEL_bce9aa5f813644f0a847a6137ac5954a",
            "max": 1,
            "min": 0,
            "orientation": "horizontal",
            "style": "IPY_MODEL_16ad04d653f24ada82d1244a13664003",
            "value": 1
          }
        },
        "d9c9c2cc0d3a4e76b5dff824a4acfb7c": {
          "model_module": "@jupyter-widgets/controls",
          "model_name": "HTMLModel",
          "model_module_version": "1.5.0",
          "state": {
            "_dom_classes": [],
            "_model_module": "@jupyter-widgets/controls",
            "_model_module_version": "1.5.0",
            "_model_name": "HTMLModel",
            "_view_count": null,
            "_view_module": "@jupyter-widgets/controls",
            "_view_module_version": "1.5.0",
            "_view_name": "HTMLView",
            "description": "",
            "description_tooltip": null,
            "layout": "IPY_MODEL_0fb7b4cda5754138bd7d758cc616232c",
            "placeholder": "​",
            "style": "IPY_MODEL_a234cfea274f460aa26f999553db7be1",
            "value": " 10.5k/? [00:00&lt;00:00, 514kB/s]"
          }
        },
        "f0fd536baac04b0f92a7b0da060e18b5": {
          "model_module": "@jupyter-widgets/base",
          "model_name": "LayoutModel",
          "model_module_version": "1.2.0",
          "state": {
            "_model_module": "@jupyter-widgets/base",
            "_model_module_version": "1.2.0",
            "_model_name": "LayoutModel",
            "_view_count": null,
            "_view_module": "@jupyter-widgets/base",
            "_view_module_version": "1.2.0",
            "_view_name": "LayoutView",
            "align_content": null,
            "align_items": null,
            "align_self": null,
            "border": null,
            "bottom": null,
            "display": null,
            "flex": null,
            "flex_flow": null,
            "grid_area": null,
            "grid_auto_columns": null,
            "grid_auto_flow": null,
            "grid_auto_rows": null,
            "grid_column": null,
            "grid_gap": null,
            "grid_row": null,
            "grid_template_areas": null,
            "grid_template_columns": null,
            "grid_template_rows": null,
            "height": null,
            "justify_content": null,
            "justify_items": null,
            "left": null,
            "margin": null,
            "max_height": null,
            "max_width": null,
            "min_height": null,
            "min_width": null,
            "object_fit": null,
            "object_position": null,
            "order": null,
            "overflow": null,
            "overflow_x": null,
            "overflow_y": null,
            "padding": null,
            "right": null,
            "top": null,
            "visibility": null,
            "width": null
          }
        },
        "ada10cce67c54c0fa1a370a11d462d18": {
          "model_module": "@jupyter-widgets/base",
          "model_name": "LayoutModel",
          "model_module_version": "1.2.0",
          "state": {
            "_model_module": "@jupyter-widgets/base",
            "_model_module_version": "1.2.0",
            "_model_name": "LayoutModel",
            "_view_count": null,
            "_view_module": "@jupyter-widgets/base",
            "_view_module_version": "1.2.0",
            "_view_name": "LayoutView",
            "align_content": null,
            "align_items": null,
            "align_self": null,
            "border": null,
            "bottom": null,
            "display": null,
            "flex": null,
            "flex_flow": null,
            "grid_area": null,
            "grid_auto_columns": null,
            "grid_auto_flow": null,
            "grid_auto_rows": null,
            "grid_column": null,
            "grid_gap": null,
            "grid_row": null,
            "grid_template_areas": null,
            "grid_template_columns": null,
            "grid_template_rows": null,
            "height": null,
            "justify_content": null,
            "justify_items": null,
            "left": null,
            "margin": null,
            "max_height": null,
            "max_width": null,
            "min_height": null,
            "min_width": null,
            "object_fit": null,
            "object_position": null,
            "order": null,
            "overflow": null,
            "overflow_x": null,
            "overflow_y": null,
            "padding": null,
            "right": null,
            "top": null,
            "visibility": null,
            "width": null
          }
        },
        "c453c3d04e4047d69ad9b6dffa0bcda2": {
          "model_module": "@jupyter-widgets/controls",
          "model_name": "DescriptionStyleModel",
          "model_module_version": "1.5.0",
          "state": {
            "_model_module": "@jupyter-widgets/controls",
            "_model_module_version": "1.5.0",
            "_model_name": "DescriptionStyleModel",
            "_view_count": null,
            "_view_module": "@jupyter-widgets/base",
            "_view_module_version": "1.2.0",
            "_view_name": "StyleView",
            "description_width": ""
          }
        },
        "bce9aa5f813644f0a847a6137ac5954a": {
          "model_module": "@jupyter-widgets/base",
          "model_name": "LayoutModel",
          "model_module_version": "1.2.0",
          "state": {
            "_model_module": "@jupyter-widgets/base",
            "_model_module_version": "1.2.0",
            "_model_name": "LayoutModel",
            "_view_count": null,
            "_view_module": "@jupyter-widgets/base",
            "_view_module_version": "1.2.0",
            "_view_name": "LayoutView",
            "align_content": null,
            "align_items": null,
            "align_self": null,
            "border": null,
            "bottom": null,
            "display": null,
            "flex": null,
            "flex_flow": null,
            "grid_area": null,
            "grid_auto_columns": null,
            "grid_auto_flow": null,
            "grid_auto_rows": null,
            "grid_column": null,
            "grid_gap": null,
            "grid_row": null,
            "grid_template_areas": null,
            "grid_template_columns": null,
            "grid_template_rows": null,
            "height": null,
            "justify_content": null,
            "justify_items": null,
            "left": null,
            "margin": null,
            "max_height": null,
            "max_width": null,
            "min_height": null,
            "min_width": null,
            "object_fit": null,
            "object_position": null,
            "order": null,
            "overflow": null,
            "overflow_x": null,
            "overflow_y": null,
            "padding": null,
            "right": null,
            "top": null,
            "visibility": null,
            "width": "20px"
          }
        },
        "16ad04d653f24ada82d1244a13664003": {
          "model_module": "@jupyter-widgets/controls",
          "model_name": "ProgressStyleModel",
          "model_module_version": "1.5.0",
          "state": {
            "_model_module": "@jupyter-widgets/controls",
            "_model_module_version": "1.5.0",
            "_model_name": "ProgressStyleModel",
            "_view_count": null,
            "_view_module": "@jupyter-widgets/base",
            "_view_module_version": "1.2.0",
            "_view_name": "StyleView",
            "bar_color": null,
            "description_width": ""
          }
        },
        "0fb7b4cda5754138bd7d758cc616232c": {
          "model_module": "@jupyter-widgets/base",
          "model_name": "LayoutModel",
          "model_module_version": "1.2.0",
          "state": {
            "_model_module": "@jupyter-widgets/base",
            "_model_module_version": "1.2.0",
            "_model_name": "LayoutModel",
            "_view_count": null,
            "_view_module": "@jupyter-widgets/base",
            "_view_module_version": "1.2.0",
            "_view_name": "LayoutView",
            "align_content": null,
            "align_items": null,
            "align_self": null,
            "border": null,
            "bottom": null,
            "display": null,
            "flex": null,
            "flex_flow": null,
            "grid_area": null,
            "grid_auto_columns": null,
            "grid_auto_flow": null,
            "grid_auto_rows": null,
            "grid_column": null,
            "grid_gap": null,
            "grid_row": null,
            "grid_template_areas": null,
            "grid_template_columns": null,
            "grid_template_rows": null,
            "height": null,
            "justify_content": null,
            "justify_items": null,
            "left": null,
            "margin": null,
            "max_height": null,
            "max_width": null,
            "min_height": null,
            "min_width": null,
            "object_fit": null,
            "object_position": null,
            "order": null,
            "overflow": null,
            "overflow_x": null,
            "overflow_y": null,
            "padding": null,
            "right": null,
            "top": null,
            "visibility": null,
            "width": null
          }
        },
        "a234cfea274f460aa26f999553db7be1": {
          "model_module": "@jupyter-widgets/controls",
          "model_name": "DescriptionStyleModel",
          "model_module_version": "1.5.0",
          "state": {
            "_model_module": "@jupyter-widgets/controls",
            "_model_module_version": "1.5.0",
            "_model_name": "DescriptionStyleModel",
            "_view_count": null,
            "_view_module": "@jupyter-widgets/base",
            "_view_module_version": "1.2.0",
            "_view_name": "StyleView",
            "description_width": ""
          }
        },
        "9ce460f4102940318fc79067b2a65740": {
          "model_module": "@jupyter-widgets/controls",
          "model_name": "HBoxModel",
          "model_module_version": "1.5.0",
          "state": {
            "_dom_classes": [],
            "_model_module": "@jupyter-widgets/controls",
            "_model_module_version": "1.5.0",
            "_model_name": "HBoxModel",
            "_view_count": null,
            "_view_module": "@jupyter-widgets/controls",
            "_view_module_version": "1.5.0",
            "_view_name": "HBoxView",
            "box_style": "",
            "children": [
              "IPY_MODEL_becd019015a446b0ab0ab40d4bfdad1f",
              "IPY_MODEL_bb173d93c624432eae60fc4dc8244e35",
              "IPY_MODEL_a971545d4f454f5283bdf4729ab4d567"
            ],
            "layout": "IPY_MODEL_66c8254ceae04db9a7f9ee68d8cabbb5"
          }
        },
        "becd019015a446b0ab0ab40d4bfdad1f": {
          "model_module": "@jupyter-widgets/controls",
          "model_name": "HTMLModel",
          "model_module_version": "1.5.0",
          "state": {
            "_dom_classes": [],
            "_model_module": "@jupyter-widgets/controls",
            "_model_module_version": "1.5.0",
            "_model_name": "HTMLModel",
            "_view_count": null,
            "_view_module": "@jupyter-widgets/controls",
            "_view_module_version": "1.5.0",
            "_view_name": "HTMLView",
            "description": "",
            "description_tooltip": null,
            "layout": "IPY_MODEL_03b5773281974ded8138dd3710fc7957",
            "placeholder": "​",
            "style": "IPY_MODEL_21fd6c24d49b4f77bda7a1735719578e",
            "value": "sentence_bert_config.json: 100%"
          }
        },
        "bb173d93c624432eae60fc4dc8244e35": {
          "model_module": "@jupyter-widgets/controls",
          "model_name": "FloatProgressModel",
          "model_module_version": "1.5.0",
          "state": {
            "_dom_classes": [],
            "_model_module": "@jupyter-widgets/controls",
            "_model_module_version": "1.5.0",
            "_model_name": "FloatProgressModel",
            "_view_count": null,
            "_view_module": "@jupyter-widgets/controls",
            "_view_module_version": "1.5.0",
            "_view_name": "ProgressView",
            "bar_style": "success",
            "description": "",
            "description_tooltip": null,
            "layout": "IPY_MODEL_e69c726e19e94e83ba1d749dc24b5de1",
            "max": 53,
            "min": 0,
            "orientation": "horizontal",
            "style": "IPY_MODEL_6baefac7e14049bdb8d4e24ec0f22b48",
            "value": 53
          }
        },
        "a971545d4f454f5283bdf4729ab4d567": {
          "model_module": "@jupyter-widgets/controls",
          "model_name": "HTMLModel",
          "model_module_version": "1.5.0",
          "state": {
            "_dom_classes": [],
            "_model_module": "@jupyter-widgets/controls",
            "_model_module_version": "1.5.0",
            "_model_name": "HTMLModel",
            "_view_count": null,
            "_view_module": "@jupyter-widgets/controls",
            "_view_module_version": "1.5.0",
            "_view_name": "HTMLView",
            "description": "",
            "description_tooltip": null,
            "layout": "IPY_MODEL_b4194e2cf6aa488fbe0c745d2ee9dbf7",
            "placeholder": "​",
            "style": "IPY_MODEL_b837c49bc52c492a991e96868f586cf3",
            "value": " 53.0/53.0 [00:00&lt;00:00, 2.39kB/s]"
          }
        },
        "66c8254ceae04db9a7f9ee68d8cabbb5": {
          "model_module": "@jupyter-widgets/base",
          "model_name": "LayoutModel",
          "model_module_version": "1.2.0",
          "state": {
            "_model_module": "@jupyter-widgets/base",
            "_model_module_version": "1.2.0",
            "_model_name": "LayoutModel",
            "_view_count": null,
            "_view_module": "@jupyter-widgets/base",
            "_view_module_version": "1.2.0",
            "_view_name": "LayoutView",
            "align_content": null,
            "align_items": null,
            "align_self": null,
            "border": null,
            "bottom": null,
            "display": null,
            "flex": null,
            "flex_flow": null,
            "grid_area": null,
            "grid_auto_columns": null,
            "grid_auto_flow": null,
            "grid_auto_rows": null,
            "grid_column": null,
            "grid_gap": null,
            "grid_row": null,
            "grid_template_areas": null,
            "grid_template_columns": null,
            "grid_template_rows": null,
            "height": null,
            "justify_content": null,
            "justify_items": null,
            "left": null,
            "margin": null,
            "max_height": null,
            "max_width": null,
            "min_height": null,
            "min_width": null,
            "object_fit": null,
            "object_position": null,
            "order": null,
            "overflow": null,
            "overflow_x": null,
            "overflow_y": null,
            "padding": null,
            "right": null,
            "top": null,
            "visibility": null,
            "width": null
          }
        },
        "03b5773281974ded8138dd3710fc7957": {
          "model_module": "@jupyter-widgets/base",
          "model_name": "LayoutModel",
          "model_module_version": "1.2.0",
          "state": {
            "_model_module": "@jupyter-widgets/base",
            "_model_module_version": "1.2.0",
            "_model_name": "LayoutModel",
            "_view_count": null,
            "_view_module": "@jupyter-widgets/base",
            "_view_module_version": "1.2.0",
            "_view_name": "LayoutView",
            "align_content": null,
            "align_items": null,
            "align_self": null,
            "border": null,
            "bottom": null,
            "display": null,
            "flex": null,
            "flex_flow": null,
            "grid_area": null,
            "grid_auto_columns": null,
            "grid_auto_flow": null,
            "grid_auto_rows": null,
            "grid_column": null,
            "grid_gap": null,
            "grid_row": null,
            "grid_template_areas": null,
            "grid_template_columns": null,
            "grid_template_rows": null,
            "height": null,
            "justify_content": null,
            "justify_items": null,
            "left": null,
            "margin": null,
            "max_height": null,
            "max_width": null,
            "min_height": null,
            "min_width": null,
            "object_fit": null,
            "object_position": null,
            "order": null,
            "overflow": null,
            "overflow_x": null,
            "overflow_y": null,
            "padding": null,
            "right": null,
            "top": null,
            "visibility": null,
            "width": null
          }
        },
        "21fd6c24d49b4f77bda7a1735719578e": {
          "model_module": "@jupyter-widgets/controls",
          "model_name": "DescriptionStyleModel",
          "model_module_version": "1.5.0",
          "state": {
            "_model_module": "@jupyter-widgets/controls",
            "_model_module_version": "1.5.0",
            "_model_name": "DescriptionStyleModel",
            "_view_count": null,
            "_view_module": "@jupyter-widgets/base",
            "_view_module_version": "1.2.0",
            "_view_name": "StyleView",
            "description_width": ""
          }
        },
        "e69c726e19e94e83ba1d749dc24b5de1": {
          "model_module": "@jupyter-widgets/base",
          "model_name": "LayoutModel",
          "model_module_version": "1.2.0",
          "state": {
            "_model_module": "@jupyter-widgets/base",
            "_model_module_version": "1.2.0",
            "_model_name": "LayoutModel",
            "_view_count": null,
            "_view_module": "@jupyter-widgets/base",
            "_view_module_version": "1.2.0",
            "_view_name": "LayoutView",
            "align_content": null,
            "align_items": null,
            "align_self": null,
            "border": null,
            "bottom": null,
            "display": null,
            "flex": null,
            "flex_flow": null,
            "grid_area": null,
            "grid_auto_columns": null,
            "grid_auto_flow": null,
            "grid_auto_rows": null,
            "grid_column": null,
            "grid_gap": null,
            "grid_row": null,
            "grid_template_areas": null,
            "grid_template_columns": null,
            "grid_template_rows": null,
            "height": null,
            "justify_content": null,
            "justify_items": null,
            "left": null,
            "margin": null,
            "max_height": null,
            "max_width": null,
            "min_height": null,
            "min_width": null,
            "object_fit": null,
            "object_position": null,
            "order": null,
            "overflow": null,
            "overflow_x": null,
            "overflow_y": null,
            "padding": null,
            "right": null,
            "top": null,
            "visibility": null,
            "width": null
          }
        },
        "6baefac7e14049bdb8d4e24ec0f22b48": {
          "model_module": "@jupyter-widgets/controls",
          "model_name": "ProgressStyleModel",
          "model_module_version": "1.5.0",
          "state": {
            "_model_module": "@jupyter-widgets/controls",
            "_model_module_version": "1.5.0",
            "_model_name": "ProgressStyleModel",
            "_view_count": null,
            "_view_module": "@jupyter-widgets/base",
            "_view_module_version": "1.2.0",
            "_view_name": "StyleView",
            "bar_color": null,
            "description_width": ""
          }
        },
        "b4194e2cf6aa488fbe0c745d2ee9dbf7": {
          "model_module": "@jupyter-widgets/base",
          "model_name": "LayoutModel",
          "model_module_version": "1.2.0",
          "state": {
            "_model_module": "@jupyter-widgets/base",
            "_model_module_version": "1.2.0",
            "_model_name": "LayoutModel",
            "_view_count": null,
            "_view_module": "@jupyter-widgets/base",
            "_view_module_version": "1.2.0",
            "_view_name": "LayoutView",
            "align_content": null,
            "align_items": null,
            "align_self": null,
            "border": null,
            "bottom": null,
            "display": null,
            "flex": null,
            "flex_flow": null,
            "grid_area": null,
            "grid_auto_columns": null,
            "grid_auto_flow": null,
            "grid_auto_rows": null,
            "grid_column": null,
            "grid_gap": null,
            "grid_row": null,
            "grid_template_areas": null,
            "grid_template_columns": null,
            "grid_template_rows": null,
            "height": null,
            "justify_content": null,
            "justify_items": null,
            "left": null,
            "margin": null,
            "max_height": null,
            "max_width": null,
            "min_height": null,
            "min_width": null,
            "object_fit": null,
            "object_position": null,
            "order": null,
            "overflow": null,
            "overflow_x": null,
            "overflow_y": null,
            "padding": null,
            "right": null,
            "top": null,
            "visibility": null,
            "width": null
          }
        },
        "b837c49bc52c492a991e96868f586cf3": {
          "model_module": "@jupyter-widgets/controls",
          "model_name": "DescriptionStyleModel",
          "model_module_version": "1.5.0",
          "state": {
            "_model_module": "@jupyter-widgets/controls",
            "_model_module_version": "1.5.0",
            "_model_name": "DescriptionStyleModel",
            "_view_count": null,
            "_view_module": "@jupyter-widgets/base",
            "_view_module_version": "1.2.0",
            "_view_name": "StyleView",
            "description_width": ""
          }
        },
        "d54d2639e8a0492e99e035bdfa35075d": {
          "model_module": "@jupyter-widgets/controls",
          "model_name": "HBoxModel",
          "model_module_version": "1.5.0",
          "state": {
            "_dom_classes": [],
            "_model_module": "@jupyter-widgets/controls",
            "_model_module_version": "1.5.0",
            "_model_name": "HBoxModel",
            "_view_count": null,
            "_view_module": "@jupyter-widgets/controls",
            "_view_module_version": "1.5.0",
            "_view_name": "HBoxView",
            "box_style": "",
            "children": [
              "IPY_MODEL_a4ebf5ddfd7e48959c3e416e8feb1afd",
              "IPY_MODEL_7ccfd8ab74c14831aa926e52b10f9303",
              "IPY_MODEL_42f2bb357abe4582b8d6c6899933bfb8"
            ],
            "layout": "IPY_MODEL_51693029717544eca90c74312205d2ac"
          }
        },
        "a4ebf5ddfd7e48959c3e416e8feb1afd": {
          "model_module": "@jupyter-widgets/controls",
          "model_name": "HTMLModel",
          "model_module_version": "1.5.0",
          "state": {
            "_dom_classes": [],
            "_model_module": "@jupyter-widgets/controls",
            "_model_module_version": "1.5.0",
            "_model_name": "HTMLModel",
            "_view_count": null,
            "_view_module": "@jupyter-widgets/controls",
            "_view_module_version": "1.5.0",
            "_view_name": "HTMLView",
            "description": "",
            "description_tooltip": null,
            "layout": "IPY_MODEL_a8775caae06c4d8f854efd91da0a7c95",
            "placeholder": "​",
            "style": "IPY_MODEL_dc739bffc6624e85a13ff61d5dcf5b48",
            "value": "config.json: 100%"
          }
        },
        "7ccfd8ab74c14831aa926e52b10f9303": {
          "model_module": "@jupyter-widgets/controls",
          "model_name": "FloatProgressModel",
          "model_module_version": "1.5.0",
          "state": {
            "_dom_classes": [],
            "_model_module": "@jupyter-widgets/controls",
            "_model_module_version": "1.5.0",
            "_model_name": "FloatProgressModel",
            "_view_count": null,
            "_view_module": "@jupyter-widgets/controls",
            "_view_module_version": "1.5.0",
            "_view_name": "ProgressView",
            "bar_style": "success",
            "description": "",
            "description_tooltip": null,
            "layout": "IPY_MODEL_38e4f74b5a674b3db0f4aa833a4ce7d2",
            "max": 612,
            "min": 0,
            "orientation": "horizontal",
            "style": "IPY_MODEL_6cf4a8f8aad5420db3429bfece9c3698",
            "value": 612
          }
        },
        "42f2bb357abe4582b8d6c6899933bfb8": {
          "model_module": "@jupyter-widgets/controls",
          "model_name": "HTMLModel",
          "model_module_version": "1.5.0",
          "state": {
            "_dom_classes": [],
            "_model_module": "@jupyter-widgets/controls",
            "_model_module_version": "1.5.0",
            "_model_name": "HTMLModel",
            "_view_count": null,
            "_view_module": "@jupyter-widgets/controls",
            "_view_module_version": "1.5.0",
            "_view_name": "HTMLView",
            "description": "",
            "description_tooltip": null,
            "layout": "IPY_MODEL_39c021d9144e42859cde1073573f101d",
            "placeholder": "​",
            "style": "IPY_MODEL_8566c01960494d12a9a3776f596a6349",
            "value": " 612/612 [00:00&lt;00:00, 54.2kB/s]"
          }
        },
        "51693029717544eca90c74312205d2ac": {
          "model_module": "@jupyter-widgets/base",
          "model_name": "LayoutModel",
          "model_module_version": "1.2.0",
          "state": {
            "_model_module": "@jupyter-widgets/base",
            "_model_module_version": "1.2.0",
            "_model_name": "LayoutModel",
            "_view_count": null,
            "_view_module": "@jupyter-widgets/base",
            "_view_module_version": "1.2.0",
            "_view_name": "LayoutView",
            "align_content": null,
            "align_items": null,
            "align_self": null,
            "border": null,
            "bottom": null,
            "display": null,
            "flex": null,
            "flex_flow": null,
            "grid_area": null,
            "grid_auto_columns": null,
            "grid_auto_flow": null,
            "grid_auto_rows": null,
            "grid_column": null,
            "grid_gap": null,
            "grid_row": null,
            "grid_template_areas": null,
            "grid_template_columns": null,
            "grid_template_rows": null,
            "height": null,
            "justify_content": null,
            "justify_items": null,
            "left": null,
            "margin": null,
            "max_height": null,
            "max_width": null,
            "min_height": null,
            "min_width": null,
            "object_fit": null,
            "object_position": null,
            "order": null,
            "overflow": null,
            "overflow_x": null,
            "overflow_y": null,
            "padding": null,
            "right": null,
            "top": null,
            "visibility": null,
            "width": null
          }
        },
        "a8775caae06c4d8f854efd91da0a7c95": {
          "model_module": "@jupyter-widgets/base",
          "model_name": "LayoutModel",
          "model_module_version": "1.2.0",
          "state": {
            "_model_module": "@jupyter-widgets/base",
            "_model_module_version": "1.2.0",
            "_model_name": "LayoutModel",
            "_view_count": null,
            "_view_module": "@jupyter-widgets/base",
            "_view_module_version": "1.2.0",
            "_view_name": "LayoutView",
            "align_content": null,
            "align_items": null,
            "align_self": null,
            "border": null,
            "bottom": null,
            "display": null,
            "flex": null,
            "flex_flow": null,
            "grid_area": null,
            "grid_auto_columns": null,
            "grid_auto_flow": null,
            "grid_auto_rows": null,
            "grid_column": null,
            "grid_gap": null,
            "grid_row": null,
            "grid_template_areas": null,
            "grid_template_columns": null,
            "grid_template_rows": null,
            "height": null,
            "justify_content": null,
            "justify_items": null,
            "left": null,
            "margin": null,
            "max_height": null,
            "max_width": null,
            "min_height": null,
            "min_width": null,
            "object_fit": null,
            "object_position": null,
            "order": null,
            "overflow": null,
            "overflow_x": null,
            "overflow_y": null,
            "padding": null,
            "right": null,
            "top": null,
            "visibility": null,
            "width": null
          }
        },
        "dc739bffc6624e85a13ff61d5dcf5b48": {
          "model_module": "@jupyter-widgets/controls",
          "model_name": "DescriptionStyleModel",
          "model_module_version": "1.5.0",
          "state": {
            "_model_module": "@jupyter-widgets/controls",
            "_model_module_version": "1.5.0",
            "_model_name": "DescriptionStyleModel",
            "_view_count": null,
            "_view_module": "@jupyter-widgets/base",
            "_view_module_version": "1.2.0",
            "_view_name": "StyleView",
            "description_width": ""
          }
        },
        "38e4f74b5a674b3db0f4aa833a4ce7d2": {
          "model_module": "@jupyter-widgets/base",
          "model_name": "LayoutModel",
          "model_module_version": "1.2.0",
          "state": {
            "_model_module": "@jupyter-widgets/base",
            "_model_module_version": "1.2.0",
            "_model_name": "LayoutModel",
            "_view_count": null,
            "_view_module": "@jupyter-widgets/base",
            "_view_module_version": "1.2.0",
            "_view_name": "LayoutView",
            "align_content": null,
            "align_items": null,
            "align_self": null,
            "border": null,
            "bottom": null,
            "display": null,
            "flex": null,
            "flex_flow": null,
            "grid_area": null,
            "grid_auto_columns": null,
            "grid_auto_flow": null,
            "grid_auto_rows": null,
            "grid_column": null,
            "grid_gap": null,
            "grid_row": null,
            "grid_template_areas": null,
            "grid_template_columns": null,
            "grid_template_rows": null,
            "height": null,
            "justify_content": null,
            "justify_items": null,
            "left": null,
            "margin": null,
            "max_height": null,
            "max_width": null,
            "min_height": null,
            "min_width": null,
            "object_fit": null,
            "object_position": null,
            "order": null,
            "overflow": null,
            "overflow_x": null,
            "overflow_y": null,
            "padding": null,
            "right": null,
            "top": null,
            "visibility": null,
            "width": null
          }
        },
        "6cf4a8f8aad5420db3429bfece9c3698": {
          "model_module": "@jupyter-widgets/controls",
          "model_name": "ProgressStyleModel",
          "model_module_version": "1.5.0",
          "state": {
            "_model_module": "@jupyter-widgets/controls",
            "_model_module_version": "1.5.0",
            "_model_name": "ProgressStyleModel",
            "_view_count": null,
            "_view_module": "@jupyter-widgets/base",
            "_view_module_version": "1.2.0",
            "_view_name": "StyleView",
            "bar_color": null,
            "description_width": ""
          }
        },
        "39c021d9144e42859cde1073573f101d": {
          "model_module": "@jupyter-widgets/base",
          "model_name": "LayoutModel",
          "model_module_version": "1.2.0",
          "state": {
            "_model_module": "@jupyter-widgets/base",
            "_model_module_version": "1.2.0",
            "_model_name": "LayoutModel",
            "_view_count": null,
            "_view_module": "@jupyter-widgets/base",
            "_view_module_version": "1.2.0",
            "_view_name": "LayoutView",
            "align_content": null,
            "align_items": null,
            "align_self": null,
            "border": null,
            "bottom": null,
            "display": null,
            "flex": null,
            "flex_flow": null,
            "grid_area": null,
            "grid_auto_columns": null,
            "grid_auto_flow": null,
            "grid_auto_rows": null,
            "grid_column": null,
            "grid_gap": null,
            "grid_row": null,
            "grid_template_areas": null,
            "grid_template_columns": null,
            "grid_template_rows": null,
            "height": null,
            "justify_content": null,
            "justify_items": null,
            "left": null,
            "margin": null,
            "max_height": null,
            "max_width": null,
            "min_height": null,
            "min_width": null,
            "object_fit": null,
            "object_position": null,
            "order": null,
            "overflow": null,
            "overflow_x": null,
            "overflow_y": null,
            "padding": null,
            "right": null,
            "top": null,
            "visibility": null,
            "width": null
          }
        },
        "8566c01960494d12a9a3776f596a6349": {
          "model_module": "@jupyter-widgets/controls",
          "model_name": "DescriptionStyleModel",
          "model_module_version": "1.5.0",
          "state": {
            "_model_module": "@jupyter-widgets/controls",
            "_model_module_version": "1.5.0",
            "_model_name": "DescriptionStyleModel",
            "_view_count": null,
            "_view_module": "@jupyter-widgets/base",
            "_view_module_version": "1.2.0",
            "_view_name": "StyleView",
            "description_width": ""
          }
        },
        "dcf1f1cebc244172aab6af67fb24ce82": {
          "model_module": "@jupyter-widgets/controls",
          "model_name": "HBoxModel",
          "model_module_version": "1.5.0",
          "state": {
            "_dom_classes": [],
            "_model_module": "@jupyter-widgets/controls",
            "_model_module_version": "1.5.0",
            "_model_name": "HBoxModel",
            "_view_count": null,
            "_view_module": "@jupyter-widgets/controls",
            "_view_module_version": "1.5.0",
            "_view_name": "HBoxView",
            "box_style": "",
            "children": [
              "IPY_MODEL_59f454453ead44fab664406c414a67b5",
              "IPY_MODEL_973e0a8966b54f14ab1199d597a7bbd1",
              "IPY_MODEL_03254cd29e6e4161988114ceaeedccc7"
            ],
            "layout": "IPY_MODEL_bfe30ed0acdc429b817462dbf5925f81"
          }
        },
        "59f454453ead44fab664406c414a67b5": {
          "model_module": "@jupyter-widgets/controls",
          "model_name": "HTMLModel",
          "model_module_version": "1.5.0",
          "state": {
            "_dom_classes": [],
            "_model_module": "@jupyter-widgets/controls",
            "_model_module_version": "1.5.0",
            "_model_name": "HTMLModel",
            "_view_count": null,
            "_view_module": "@jupyter-widgets/controls",
            "_view_module_version": "1.5.0",
            "_view_name": "HTMLView",
            "description": "",
            "description_tooltip": null,
            "layout": "IPY_MODEL_1c38e6cf563e482dbfb9d7b171394ecd",
            "placeholder": "​",
            "style": "IPY_MODEL_a10d0e6bbeb544f784d46f8df0ca9580",
            "value": "model.safetensors: 100%"
          }
        },
        "973e0a8966b54f14ab1199d597a7bbd1": {
          "model_module": "@jupyter-widgets/controls",
          "model_name": "FloatProgressModel",
          "model_module_version": "1.5.0",
          "state": {
            "_dom_classes": [],
            "_model_module": "@jupyter-widgets/controls",
            "_model_module_version": "1.5.0",
            "_model_name": "FloatProgressModel",
            "_view_count": null,
            "_view_module": "@jupyter-widgets/controls",
            "_view_module_version": "1.5.0",
            "_view_name": "ProgressView",
            "bar_style": "success",
            "description": "",
            "description_tooltip": null,
            "layout": "IPY_MODEL_1e1644dd773d403d8ff0d9615ea76e35",
            "max": 90868376,
            "min": 0,
            "orientation": "horizontal",
            "style": "IPY_MODEL_8f4a0266debd4984947573c5308da4c7",
            "value": 90868376
          }
        },
        "03254cd29e6e4161988114ceaeedccc7": {
          "model_module": "@jupyter-widgets/controls",
          "model_name": "HTMLModel",
          "model_module_version": "1.5.0",
          "state": {
            "_dom_classes": [],
            "_model_module": "@jupyter-widgets/controls",
            "_model_module_version": "1.5.0",
            "_model_name": "HTMLModel",
            "_view_count": null,
            "_view_module": "@jupyter-widgets/controls",
            "_view_module_version": "1.5.0",
            "_view_name": "HTMLView",
            "description": "",
            "description_tooltip": null,
            "layout": "IPY_MODEL_61c0e240296148b5a94190930b873f88",
            "placeholder": "​",
            "style": "IPY_MODEL_0d595e9a5faa438c883ac8cfbdf1fa9c",
            "value": " 90.9M/90.9M [00:01&lt;00:00, 93.0MB/s]"
          }
        },
        "bfe30ed0acdc429b817462dbf5925f81": {
          "model_module": "@jupyter-widgets/base",
          "model_name": "LayoutModel",
          "model_module_version": "1.2.0",
          "state": {
            "_model_module": "@jupyter-widgets/base",
            "_model_module_version": "1.2.0",
            "_model_name": "LayoutModel",
            "_view_count": null,
            "_view_module": "@jupyter-widgets/base",
            "_view_module_version": "1.2.0",
            "_view_name": "LayoutView",
            "align_content": null,
            "align_items": null,
            "align_self": null,
            "border": null,
            "bottom": null,
            "display": null,
            "flex": null,
            "flex_flow": null,
            "grid_area": null,
            "grid_auto_columns": null,
            "grid_auto_flow": null,
            "grid_auto_rows": null,
            "grid_column": null,
            "grid_gap": null,
            "grid_row": null,
            "grid_template_areas": null,
            "grid_template_columns": null,
            "grid_template_rows": null,
            "height": null,
            "justify_content": null,
            "justify_items": null,
            "left": null,
            "margin": null,
            "max_height": null,
            "max_width": null,
            "min_height": null,
            "min_width": null,
            "object_fit": null,
            "object_position": null,
            "order": null,
            "overflow": null,
            "overflow_x": null,
            "overflow_y": null,
            "padding": null,
            "right": null,
            "top": null,
            "visibility": null,
            "width": null
          }
        },
        "1c38e6cf563e482dbfb9d7b171394ecd": {
          "model_module": "@jupyter-widgets/base",
          "model_name": "LayoutModel",
          "model_module_version": "1.2.0",
          "state": {
            "_model_module": "@jupyter-widgets/base",
            "_model_module_version": "1.2.0",
            "_model_name": "LayoutModel",
            "_view_count": null,
            "_view_module": "@jupyter-widgets/base",
            "_view_module_version": "1.2.0",
            "_view_name": "LayoutView",
            "align_content": null,
            "align_items": null,
            "align_self": null,
            "border": null,
            "bottom": null,
            "display": null,
            "flex": null,
            "flex_flow": null,
            "grid_area": null,
            "grid_auto_columns": null,
            "grid_auto_flow": null,
            "grid_auto_rows": null,
            "grid_column": null,
            "grid_gap": null,
            "grid_row": null,
            "grid_template_areas": null,
            "grid_template_columns": null,
            "grid_template_rows": null,
            "height": null,
            "justify_content": null,
            "justify_items": null,
            "left": null,
            "margin": null,
            "max_height": null,
            "max_width": null,
            "min_height": null,
            "min_width": null,
            "object_fit": null,
            "object_position": null,
            "order": null,
            "overflow": null,
            "overflow_x": null,
            "overflow_y": null,
            "padding": null,
            "right": null,
            "top": null,
            "visibility": null,
            "width": null
          }
        },
        "a10d0e6bbeb544f784d46f8df0ca9580": {
          "model_module": "@jupyter-widgets/controls",
          "model_name": "DescriptionStyleModel",
          "model_module_version": "1.5.0",
          "state": {
            "_model_module": "@jupyter-widgets/controls",
            "_model_module_version": "1.5.0",
            "_model_name": "DescriptionStyleModel",
            "_view_count": null,
            "_view_module": "@jupyter-widgets/base",
            "_view_module_version": "1.2.0",
            "_view_name": "StyleView",
            "description_width": ""
          }
        },
        "1e1644dd773d403d8ff0d9615ea76e35": {
          "model_module": "@jupyter-widgets/base",
          "model_name": "LayoutModel",
          "model_module_version": "1.2.0",
          "state": {
            "_model_module": "@jupyter-widgets/base",
            "_model_module_version": "1.2.0",
            "_model_name": "LayoutModel",
            "_view_count": null,
            "_view_module": "@jupyter-widgets/base",
            "_view_module_version": "1.2.0",
            "_view_name": "LayoutView",
            "align_content": null,
            "align_items": null,
            "align_self": null,
            "border": null,
            "bottom": null,
            "display": null,
            "flex": null,
            "flex_flow": null,
            "grid_area": null,
            "grid_auto_columns": null,
            "grid_auto_flow": null,
            "grid_auto_rows": null,
            "grid_column": null,
            "grid_gap": null,
            "grid_row": null,
            "grid_template_areas": null,
            "grid_template_columns": null,
            "grid_template_rows": null,
            "height": null,
            "justify_content": null,
            "justify_items": null,
            "left": null,
            "margin": null,
            "max_height": null,
            "max_width": null,
            "min_height": null,
            "min_width": null,
            "object_fit": null,
            "object_position": null,
            "order": null,
            "overflow": null,
            "overflow_x": null,
            "overflow_y": null,
            "padding": null,
            "right": null,
            "top": null,
            "visibility": null,
            "width": null
          }
        },
        "8f4a0266debd4984947573c5308da4c7": {
          "model_module": "@jupyter-widgets/controls",
          "model_name": "ProgressStyleModel",
          "model_module_version": "1.5.0",
          "state": {
            "_model_module": "@jupyter-widgets/controls",
            "_model_module_version": "1.5.0",
            "_model_name": "ProgressStyleModel",
            "_view_count": null,
            "_view_module": "@jupyter-widgets/base",
            "_view_module_version": "1.2.0",
            "_view_name": "StyleView",
            "bar_color": null,
            "description_width": ""
          }
        },
        "61c0e240296148b5a94190930b873f88": {
          "model_module": "@jupyter-widgets/base",
          "model_name": "LayoutModel",
          "model_module_version": "1.2.0",
          "state": {
            "_model_module": "@jupyter-widgets/base",
            "_model_module_version": "1.2.0",
            "_model_name": "LayoutModel",
            "_view_count": null,
            "_view_module": "@jupyter-widgets/base",
            "_view_module_version": "1.2.0",
            "_view_name": "LayoutView",
            "align_content": null,
            "align_items": null,
            "align_self": null,
            "border": null,
            "bottom": null,
            "display": null,
            "flex": null,
            "flex_flow": null,
            "grid_area": null,
            "grid_auto_columns": null,
            "grid_auto_flow": null,
            "grid_auto_rows": null,
            "grid_column": null,
            "grid_gap": null,
            "grid_row": null,
            "grid_template_areas": null,
            "grid_template_columns": null,
            "grid_template_rows": null,
            "height": null,
            "justify_content": null,
            "justify_items": null,
            "left": null,
            "margin": null,
            "max_height": null,
            "max_width": null,
            "min_height": null,
            "min_width": null,
            "object_fit": null,
            "object_position": null,
            "order": null,
            "overflow": null,
            "overflow_x": null,
            "overflow_y": null,
            "padding": null,
            "right": null,
            "top": null,
            "visibility": null,
            "width": null
          }
        },
        "0d595e9a5faa438c883ac8cfbdf1fa9c": {
          "model_module": "@jupyter-widgets/controls",
          "model_name": "DescriptionStyleModel",
          "model_module_version": "1.5.0",
          "state": {
            "_model_module": "@jupyter-widgets/controls",
            "_model_module_version": "1.5.0",
            "_model_name": "DescriptionStyleModel",
            "_view_count": null,
            "_view_module": "@jupyter-widgets/base",
            "_view_module_version": "1.2.0",
            "_view_name": "StyleView",
            "description_width": ""
          }
        },
        "9d8153bff1ed4b508d69683437f7b17f": {
          "model_module": "@jupyter-widgets/controls",
          "model_name": "HBoxModel",
          "model_module_version": "1.5.0",
          "state": {
            "_dom_classes": [],
            "_model_module": "@jupyter-widgets/controls",
            "_model_module_version": "1.5.0",
            "_model_name": "HBoxModel",
            "_view_count": null,
            "_view_module": "@jupyter-widgets/controls",
            "_view_module_version": "1.5.0",
            "_view_name": "HBoxView",
            "box_style": "",
            "children": [
              "IPY_MODEL_0f393854ed3246edacea14da581b53e0",
              "IPY_MODEL_4075f9bfa76440218cdfbc9856ee51e5",
              "IPY_MODEL_e17dae075fdb4b2691f8f903953953ce"
            ],
            "layout": "IPY_MODEL_496c9568e8e34bb085845c2e2c63a6ab"
          }
        },
        "0f393854ed3246edacea14da581b53e0": {
          "model_module": "@jupyter-widgets/controls",
          "model_name": "HTMLModel",
          "model_module_version": "1.5.0",
          "state": {
            "_dom_classes": [],
            "_model_module": "@jupyter-widgets/controls",
            "_model_module_version": "1.5.0",
            "_model_name": "HTMLModel",
            "_view_count": null,
            "_view_module": "@jupyter-widgets/controls",
            "_view_module_version": "1.5.0",
            "_view_name": "HTMLView",
            "description": "",
            "description_tooltip": null,
            "layout": "IPY_MODEL_a966c68e82cb469bbbbdef7501aebe15",
            "placeholder": "​",
            "style": "IPY_MODEL_e8755e4e9068426481ae1fbe4f417182",
            "value": "tokenizer_config.json: 100%"
          }
        },
        "4075f9bfa76440218cdfbc9856ee51e5": {
          "model_module": "@jupyter-widgets/controls",
          "model_name": "FloatProgressModel",
          "model_module_version": "1.5.0",
          "state": {
            "_dom_classes": [],
            "_model_module": "@jupyter-widgets/controls",
            "_model_module_version": "1.5.0",
            "_model_name": "FloatProgressModel",
            "_view_count": null,
            "_view_module": "@jupyter-widgets/controls",
            "_view_module_version": "1.5.0",
            "_view_name": "ProgressView",
            "bar_style": "success",
            "description": "",
            "description_tooltip": null,
            "layout": "IPY_MODEL_8620f95fef264a7e84752ac0abc6f500",
            "max": 350,
            "min": 0,
            "orientation": "horizontal",
            "style": "IPY_MODEL_3e91d8c717e04f0baea526084d559476",
            "value": 350
          }
        },
        "e17dae075fdb4b2691f8f903953953ce": {
          "model_module": "@jupyter-widgets/controls",
          "model_name": "HTMLModel",
          "model_module_version": "1.5.0",
          "state": {
            "_dom_classes": [],
            "_model_module": "@jupyter-widgets/controls",
            "_model_module_version": "1.5.0",
            "_model_name": "HTMLModel",
            "_view_count": null,
            "_view_module": "@jupyter-widgets/controls",
            "_view_module_version": "1.5.0",
            "_view_name": "HTMLView",
            "description": "",
            "description_tooltip": null,
            "layout": "IPY_MODEL_c8506377eb3a40ab9a06d3e682eda041",
            "placeholder": "​",
            "style": "IPY_MODEL_d1ca0903b28a4b1eba6fdb03c21ffec3",
            "value": " 350/350 [00:00&lt;00:00, 33.4kB/s]"
          }
        },
        "496c9568e8e34bb085845c2e2c63a6ab": {
          "model_module": "@jupyter-widgets/base",
          "model_name": "LayoutModel",
          "model_module_version": "1.2.0",
          "state": {
            "_model_module": "@jupyter-widgets/base",
            "_model_module_version": "1.2.0",
            "_model_name": "LayoutModel",
            "_view_count": null,
            "_view_module": "@jupyter-widgets/base",
            "_view_module_version": "1.2.0",
            "_view_name": "LayoutView",
            "align_content": null,
            "align_items": null,
            "align_self": null,
            "border": null,
            "bottom": null,
            "display": null,
            "flex": null,
            "flex_flow": null,
            "grid_area": null,
            "grid_auto_columns": null,
            "grid_auto_flow": null,
            "grid_auto_rows": null,
            "grid_column": null,
            "grid_gap": null,
            "grid_row": null,
            "grid_template_areas": null,
            "grid_template_columns": null,
            "grid_template_rows": null,
            "height": null,
            "justify_content": null,
            "justify_items": null,
            "left": null,
            "margin": null,
            "max_height": null,
            "max_width": null,
            "min_height": null,
            "min_width": null,
            "object_fit": null,
            "object_position": null,
            "order": null,
            "overflow": null,
            "overflow_x": null,
            "overflow_y": null,
            "padding": null,
            "right": null,
            "top": null,
            "visibility": null,
            "width": null
          }
        },
        "a966c68e82cb469bbbbdef7501aebe15": {
          "model_module": "@jupyter-widgets/base",
          "model_name": "LayoutModel",
          "model_module_version": "1.2.0",
          "state": {
            "_model_module": "@jupyter-widgets/base",
            "_model_module_version": "1.2.0",
            "_model_name": "LayoutModel",
            "_view_count": null,
            "_view_module": "@jupyter-widgets/base",
            "_view_module_version": "1.2.0",
            "_view_name": "LayoutView",
            "align_content": null,
            "align_items": null,
            "align_self": null,
            "border": null,
            "bottom": null,
            "display": null,
            "flex": null,
            "flex_flow": null,
            "grid_area": null,
            "grid_auto_columns": null,
            "grid_auto_flow": null,
            "grid_auto_rows": null,
            "grid_column": null,
            "grid_gap": null,
            "grid_row": null,
            "grid_template_areas": null,
            "grid_template_columns": null,
            "grid_template_rows": null,
            "height": null,
            "justify_content": null,
            "justify_items": null,
            "left": null,
            "margin": null,
            "max_height": null,
            "max_width": null,
            "min_height": null,
            "min_width": null,
            "object_fit": null,
            "object_position": null,
            "order": null,
            "overflow": null,
            "overflow_x": null,
            "overflow_y": null,
            "padding": null,
            "right": null,
            "top": null,
            "visibility": null,
            "width": null
          }
        },
        "e8755e4e9068426481ae1fbe4f417182": {
          "model_module": "@jupyter-widgets/controls",
          "model_name": "DescriptionStyleModel",
          "model_module_version": "1.5.0",
          "state": {
            "_model_module": "@jupyter-widgets/controls",
            "_model_module_version": "1.5.0",
            "_model_name": "DescriptionStyleModel",
            "_view_count": null,
            "_view_module": "@jupyter-widgets/base",
            "_view_module_version": "1.2.0",
            "_view_name": "StyleView",
            "description_width": ""
          }
        },
        "8620f95fef264a7e84752ac0abc6f500": {
          "model_module": "@jupyter-widgets/base",
          "model_name": "LayoutModel",
          "model_module_version": "1.2.0",
          "state": {
            "_model_module": "@jupyter-widgets/base",
            "_model_module_version": "1.2.0",
            "_model_name": "LayoutModel",
            "_view_count": null,
            "_view_module": "@jupyter-widgets/base",
            "_view_module_version": "1.2.0",
            "_view_name": "LayoutView",
            "align_content": null,
            "align_items": null,
            "align_self": null,
            "border": null,
            "bottom": null,
            "display": null,
            "flex": null,
            "flex_flow": null,
            "grid_area": null,
            "grid_auto_columns": null,
            "grid_auto_flow": null,
            "grid_auto_rows": null,
            "grid_column": null,
            "grid_gap": null,
            "grid_row": null,
            "grid_template_areas": null,
            "grid_template_columns": null,
            "grid_template_rows": null,
            "height": null,
            "justify_content": null,
            "justify_items": null,
            "left": null,
            "margin": null,
            "max_height": null,
            "max_width": null,
            "min_height": null,
            "min_width": null,
            "object_fit": null,
            "object_position": null,
            "order": null,
            "overflow": null,
            "overflow_x": null,
            "overflow_y": null,
            "padding": null,
            "right": null,
            "top": null,
            "visibility": null,
            "width": null
          }
        },
        "3e91d8c717e04f0baea526084d559476": {
          "model_module": "@jupyter-widgets/controls",
          "model_name": "ProgressStyleModel",
          "model_module_version": "1.5.0",
          "state": {
            "_model_module": "@jupyter-widgets/controls",
            "_model_module_version": "1.5.0",
            "_model_name": "ProgressStyleModel",
            "_view_count": null,
            "_view_module": "@jupyter-widgets/base",
            "_view_module_version": "1.2.0",
            "_view_name": "StyleView",
            "bar_color": null,
            "description_width": ""
          }
        },
        "c8506377eb3a40ab9a06d3e682eda041": {
          "model_module": "@jupyter-widgets/base",
          "model_name": "LayoutModel",
          "model_module_version": "1.2.0",
          "state": {
            "_model_module": "@jupyter-widgets/base",
            "_model_module_version": "1.2.0",
            "_model_name": "LayoutModel",
            "_view_count": null,
            "_view_module": "@jupyter-widgets/base",
            "_view_module_version": "1.2.0",
            "_view_name": "LayoutView",
            "align_content": null,
            "align_items": null,
            "align_self": null,
            "border": null,
            "bottom": null,
            "display": null,
            "flex": null,
            "flex_flow": null,
            "grid_area": null,
            "grid_auto_columns": null,
            "grid_auto_flow": null,
            "grid_auto_rows": null,
            "grid_column": null,
            "grid_gap": null,
            "grid_row": null,
            "grid_template_areas": null,
            "grid_template_columns": null,
            "grid_template_rows": null,
            "height": null,
            "justify_content": null,
            "justify_items": null,
            "left": null,
            "margin": null,
            "max_height": null,
            "max_width": null,
            "min_height": null,
            "min_width": null,
            "object_fit": null,
            "object_position": null,
            "order": null,
            "overflow": null,
            "overflow_x": null,
            "overflow_y": null,
            "padding": null,
            "right": null,
            "top": null,
            "visibility": null,
            "width": null
          }
        },
        "d1ca0903b28a4b1eba6fdb03c21ffec3": {
          "model_module": "@jupyter-widgets/controls",
          "model_name": "DescriptionStyleModel",
          "model_module_version": "1.5.0",
          "state": {
            "_model_module": "@jupyter-widgets/controls",
            "_model_module_version": "1.5.0",
            "_model_name": "DescriptionStyleModel",
            "_view_count": null,
            "_view_module": "@jupyter-widgets/base",
            "_view_module_version": "1.2.0",
            "_view_name": "StyleView",
            "description_width": ""
          }
        },
        "bccbfd499c244637bff842e3b646f007": {
          "model_module": "@jupyter-widgets/controls",
          "model_name": "HBoxModel",
          "model_module_version": "1.5.0",
          "state": {
            "_dom_classes": [],
            "_model_module": "@jupyter-widgets/controls",
            "_model_module_version": "1.5.0",
            "_model_name": "HBoxModel",
            "_view_count": null,
            "_view_module": "@jupyter-widgets/controls",
            "_view_module_version": "1.5.0",
            "_view_name": "HBoxView",
            "box_style": "",
            "children": [
              "IPY_MODEL_d9639c1b9d764a8e8dd68280a55881c3",
              "IPY_MODEL_59e7da72a14645faa2deac0ce18416ed",
              "IPY_MODEL_2395bee057184dd89a527091d7369104"
            ],
            "layout": "IPY_MODEL_879ac8b86ad24eaf9b3345da25d00911"
          }
        },
        "d9639c1b9d764a8e8dd68280a55881c3": {
          "model_module": "@jupyter-widgets/controls",
          "model_name": "HTMLModel",
          "model_module_version": "1.5.0",
          "state": {
            "_dom_classes": [],
            "_model_module": "@jupyter-widgets/controls",
            "_model_module_version": "1.5.0",
            "_model_name": "HTMLModel",
            "_view_count": null,
            "_view_module": "@jupyter-widgets/controls",
            "_view_module_version": "1.5.0",
            "_view_name": "HTMLView",
            "description": "",
            "description_tooltip": null,
            "layout": "IPY_MODEL_6ec6821776434959a6bc2bc854dc6295",
            "placeholder": "​",
            "style": "IPY_MODEL_4d39c11c23b84e64b211bc6158690b49",
            "value": "vocab.txt: "
          }
        },
        "59e7da72a14645faa2deac0ce18416ed": {
          "model_module": "@jupyter-widgets/controls",
          "model_name": "FloatProgressModel",
          "model_module_version": "1.5.0",
          "state": {
            "_dom_classes": [],
            "_model_module": "@jupyter-widgets/controls",
            "_model_module_version": "1.5.0",
            "_model_name": "FloatProgressModel",
            "_view_count": null,
            "_view_module": "@jupyter-widgets/controls",
            "_view_module_version": "1.5.0",
            "_view_name": "ProgressView",
            "bar_style": "success",
            "description": "",
            "description_tooltip": null,
            "layout": "IPY_MODEL_2db0808610da4dc8b57c0f83f14b993f",
            "max": 1,
            "min": 0,
            "orientation": "horizontal",
            "style": "IPY_MODEL_6ca0add346684396943081ff7a7fe203",
            "value": 1
          }
        },
        "2395bee057184dd89a527091d7369104": {
          "model_module": "@jupyter-widgets/controls",
          "model_name": "HTMLModel",
          "model_module_version": "1.5.0",
          "state": {
            "_dom_classes": [],
            "_model_module": "@jupyter-widgets/controls",
            "_model_module_version": "1.5.0",
            "_model_name": "HTMLModel",
            "_view_count": null,
            "_view_module": "@jupyter-widgets/controls",
            "_view_module_version": "1.5.0",
            "_view_name": "HTMLView",
            "description": "",
            "description_tooltip": null,
            "layout": "IPY_MODEL_67ac18f607394964b0ef056eda4fe364",
            "placeholder": "​",
            "style": "IPY_MODEL_6a258b8b85e7402a825c53850804cc5b",
            "value": " 232k/? [00:00&lt;00:00, 7.07MB/s]"
          }
        },
        "879ac8b86ad24eaf9b3345da25d00911": {
          "model_module": "@jupyter-widgets/base",
          "model_name": "LayoutModel",
          "model_module_version": "1.2.0",
          "state": {
            "_model_module": "@jupyter-widgets/base",
            "_model_module_version": "1.2.0",
            "_model_name": "LayoutModel",
            "_view_count": null,
            "_view_module": "@jupyter-widgets/base",
            "_view_module_version": "1.2.0",
            "_view_name": "LayoutView",
            "align_content": null,
            "align_items": null,
            "align_self": null,
            "border": null,
            "bottom": null,
            "display": null,
            "flex": null,
            "flex_flow": null,
            "grid_area": null,
            "grid_auto_columns": null,
            "grid_auto_flow": null,
            "grid_auto_rows": null,
            "grid_column": null,
            "grid_gap": null,
            "grid_row": null,
            "grid_template_areas": null,
            "grid_template_columns": null,
            "grid_template_rows": null,
            "height": null,
            "justify_content": null,
            "justify_items": null,
            "left": null,
            "margin": null,
            "max_height": null,
            "max_width": null,
            "min_height": null,
            "min_width": null,
            "object_fit": null,
            "object_position": null,
            "order": null,
            "overflow": null,
            "overflow_x": null,
            "overflow_y": null,
            "padding": null,
            "right": null,
            "top": null,
            "visibility": null,
            "width": null
          }
        },
        "6ec6821776434959a6bc2bc854dc6295": {
          "model_module": "@jupyter-widgets/base",
          "model_name": "LayoutModel",
          "model_module_version": "1.2.0",
          "state": {
            "_model_module": "@jupyter-widgets/base",
            "_model_module_version": "1.2.0",
            "_model_name": "LayoutModel",
            "_view_count": null,
            "_view_module": "@jupyter-widgets/base",
            "_view_module_version": "1.2.0",
            "_view_name": "LayoutView",
            "align_content": null,
            "align_items": null,
            "align_self": null,
            "border": null,
            "bottom": null,
            "display": null,
            "flex": null,
            "flex_flow": null,
            "grid_area": null,
            "grid_auto_columns": null,
            "grid_auto_flow": null,
            "grid_auto_rows": null,
            "grid_column": null,
            "grid_gap": null,
            "grid_row": null,
            "grid_template_areas": null,
            "grid_template_columns": null,
            "grid_template_rows": null,
            "height": null,
            "justify_content": null,
            "justify_items": null,
            "left": null,
            "margin": null,
            "max_height": null,
            "max_width": null,
            "min_height": null,
            "min_width": null,
            "object_fit": null,
            "object_position": null,
            "order": null,
            "overflow": null,
            "overflow_x": null,
            "overflow_y": null,
            "padding": null,
            "right": null,
            "top": null,
            "visibility": null,
            "width": null
          }
        },
        "4d39c11c23b84e64b211bc6158690b49": {
          "model_module": "@jupyter-widgets/controls",
          "model_name": "DescriptionStyleModel",
          "model_module_version": "1.5.0",
          "state": {
            "_model_module": "@jupyter-widgets/controls",
            "_model_module_version": "1.5.0",
            "_model_name": "DescriptionStyleModel",
            "_view_count": null,
            "_view_module": "@jupyter-widgets/base",
            "_view_module_version": "1.2.0",
            "_view_name": "StyleView",
            "description_width": ""
          }
        },
        "2db0808610da4dc8b57c0f83f14b993f": {
          "model_module": "@jupyter-widgets/base",
          "model_name": "LayoutModel",
          "model_module_version": "1.2.0",
          "state": {
            "_model_module": "@jupyter-widgets/base",
            "_model_module_version": "1.2.0",
            "_model_name": "LayoutModel",
            "_view_count": null,
            "_view_module": "@jupyter-widgets/base",
            "_view_module_version": "1.2.0",
            "_view_name": "LayoutView",
            "align_content": null,
            "align_items": null,
            "align_self": null,
            "border": null,
            "bottom": null,
            "display": null,
            "flex": null,
            "flex_flow": null,
            "grid_area": null,
            "grid_auto_columns": null,
            "grid_auto_flow": null,
            "grid_auto_rows": null,
            "grid_column": null,
            "grid_gap": null,
            "grid_row": null,
            "grid_template_areas": null,
            "grid_template_columns": null,
            "grid_template_rows": null,
            "height": null,
            "justify_content": null,
            "justify_items": null,
            "left": null,
            "margin": null,
            "max_height": null,
            "max_width": null,
            "min_height": null,
            "min_width": null,
            "object_fit": null,
            "object_position": null,
            "order": null,
            "overflow": null,
            "overflow_x": null,
            "overflow_y": null,
            "padding": null,
            "right": null,
            "top": null,
            "visibility": null,
            "width": "20px"
          }
        },
        "6ca0add346684396943081ff7a7fe203": {
          "model_module": "@jupyter-widgets/controls",
          "model_name": "ProgressStyleModel",
          "model_module_version": "1.5.0",
          "state": {
            "_model_module": "@jupyter-widgets/controls",
            "_model_module_version": "1.5.0",
            "_model_name": "ProgressStyleModel",
            "_view_count": null,
            "_view_module": "@jupyter-widgets/base",
            "_view_module_version": "1.2.0",
            "_view_name": "StyleView",
            "bar_color": null,
            "description_width": ""
          }
        },
        "67ac18f607394964b0ef056eda4fe364": {
          "model_module": "@jupyter-widgets/base",
          "model_name": "LayoutModel",
          "model_module_version": "1.2.0",
          "state": {
            "_model_module": "@jupyter-widgets/base",
            "_model_module_version": "1.2.0",
            "_model_name": "LayoutModel",
            "_view_count": null,
            "_view_module": "@jupyter-widgets/base",
            "_view_module_version": "1.2.0",
            "_view_name": "LayoutView",
            "align_content": null,
            "align_items": null,
            "align_self": null,
            "border": null,
            "bottom": null,
            "display": null,
            "flex": null,
            "flex_flow": null,
            "grid_area": null,
            "grid_auto_columns": null,
            "grid_auto_flow": null,
            "grid_auto_rows": null,
            "grid_column": null,
            "grid_gap": null,
            "grid_row": null,
            "grid_template_areas": null,
            "grid_template_columns": null,
            "grid_template_rows": null,
            "height": null,
            "justify_content": null,
            "justify_items": null,
            "left": null,
            "margin": null,
            "max_height": null,
            "max_width": null,
            "min_height": null,
            "min_width": null,
            "object_fit": null,
            "object_position": null,
            "order": null,
            "overflow": null,
            "overflow_x": null,
            "overflow_y": null,
            "padding": null,
            "right": null,
            "top": null,
            "visibility": null,
            "width": null
          }
        },
        "6a258b8b85e7402a825c53850804cc5b": {
          "model_module": "@jupyter-widgets/controls",
          "model_name": "DescriptionStyleModel",
          "model_module_version": "1.5.0",
          "state": {
            "_model_module": "@jupyter-widgets/controls",
            "_model_module_version": "1.5.0",
            "_model_name": "DescriptionStyleModel",
            "_view_count": null,
            "_view_module": "@jupyter-widgets/base",
            "_view_module_version": "1.2.0",
            "_view_name": "StyleView",
            "description_width": ""
          }
        },
        "709a9dcc55cd4e13b8695620f7d64339": {
          "model_module": "@jupyter-widgets/controls",
          "model_name": "HBoxModel",
          "model_module_version": "1.5.0",
          "state": {
            "_dom_classes": [],
            "_model_module": "@jupyter-widgets/controls",
            "_model_module_version": "1.5.0",
            "_model_name": "HBoxModel",
            "_view_count": null,
            "_view_module": "@jupyter-widgets/controls",
            "_view_module_version": "1.5.0",
            "_view_name": "HBoxView",
            "box_style": "",
            "children": [
              "IPY_MODEL_e75289d794f4448c8be20066edc88975",
              "IPY_MODEL_0cde5f48ef974ba7af9901c7a22789c6",
              "IPY_MODEL_dc75db42b5494f0fb76ebb360ba8b6f8"
            ],
            "layout": "IPY_MODEL_5639cdeaad5d4942901343e591c5a4dc"
          }
        },
        "e75289d794f4448c8be20066edc88975": {
          "model_module": "@jupyter-widgets/controls",
          "model_name": "HTMLModel",
          "model_module_version": "1.5.0",
          "state": {
            "_dom_classes": [],
            "_model_module": "@jupyter-widgets/controls",
            "_model_module_version": "1.5.0",
            "_model_name": "HTMLModel",
            "_view_count": null,
            "_view_module": "@jupyter-widgets/controls",
            "_view_module_version": "1.5.0",
            "_view_name": "HTMLView",
            "description": "",
            "description_tooltip": null,
            "layout": "IPY_MODEL_b8be8fff1871460da240994ba793373e",
            "placeholder": "​",
            "style": "IPY_MODEL_cb021eae52ce48ea93a77714d79b48f6",
            "value": "tokenizer.json: "
          }
        },
        "0cde5f48ef974ba7af9901c7a22789c6": {
          "model_module": "@jupyter-widgets/controls",
          "model_name": "FloatProgressModel",
          "model_module_version": "1.5.0",
          "state": {
            "_dom_classes": [],
            "_model_module": "@jupyter-widgets/controls",
            "_model_module_version": "1.5.0",
            "_model_name": "FloatProgressModel",
            "_view_count": null,
            "_view_module": "@jupyter-widgets/controls",
            "_view_module_version": "1.5.0",
            "_view_name": "ProgressView",
            "bar_style": "success",
            "description": "",
            "description_tooltip": null,
            "layout": "IPY_MODEL_247172793bae48989b2d73d9d5c5c5f6",
            "max": 1,
            "min": 0,
            "orientation": "horizontal",
            "style": "IPY_MODEL_67ffd9787de44fc2821edf849b6c8ad8",
            "value": 1
          }
        },
        "dc75db42b5494f0fb76ebb360ba8b6f8": {
          "model_module": "@jupyter-widgets/controls",
          "model_name": "HTMLModel",
          "model_module_version": "1.5.0",
          "state": {
            "_dom_classes": [],
            "_model_module": "@jupyter-widgets/controls",
            "_model_module_version": "1.5.0",
            "_model_name": "HTMLModel",
            "_view_count": null,
            "_view_module": "@jupyter-widgets/controls",
            "_view_module_version": "1.5.0",
            "_view_name": "HTMLView",
            "description": "",
            "description_tooltip": null,
            "layout": "IPY_MODEL_97ca492489b540d2a2cce84448fc134f",
            "placeholder": "​",
            "style": "IPY_MODEL_83e10ca9ea0641b095998ed12c0f680f",
            "value": " 466k/? [00:00&lt;00:00, 13.8MB/s]"
          }
        },
        "5639cdeaad5d4942901343e591c5a4dc": {
          "model_module": "@jupyter-widgets/base",
          "model_name": "LayoutModel",
          "model_module_version": "1.2.0",
          "state": {
            "_model_module": "@jupyter-widgets/base",
            "_model_module_version": "1.2.0",
            "_model_name": "LayoutModel",
            "_view_count": null,
            "_view_module": "@jupyter-widgets/base",
            "_view_module_version": "1.2.0",
            "_view_name": "LayoutView",
            "align_content": null,
            "align_items": null,
            "align_self": null,
            "border": null,
            "bottom": null,
            "display": null,
            "flex": null,
            "flex_flow": null,
            "grid_area": null,
            "grid_auto_columns": null,
            "grid_auto_flow": null,
            "grid_auto_rows": null,
            "grid_column": null,
            "grid_gap": null,
            "grid_row": null,
            "grid_template_areas": null,
            "grid_template_columns": null,
            "grid_template_rows": null,
            "height": null,
            "justify_content": null,
            "justify_items": null,
            "left": null,
            "margin": null,
            "max_height": null,
            "max_width": null,
            "min_height": null,
            "min_width": null,
            "object_fit": null,
            "object_position": null,
            "order": null,
            "overflow": null,
            "overflow_x": null,
            "overflow_y": null,
            "padding": null,
            "right": null,
            "top": null,
            "visibility": null,
            "width": null
          }
        },
        "b8be8fff1871460da240994ba793373e": {
          "model_module": "@jupyter-widgets/base",
          "model_name": "LayoutModel",
          "model_module_version": "1.2.0",
          "state": {
            "_model_module": "@jupyter-widgets/base",
            "_model_module_version": "1.2.0",
            "_model_name": "LayoutModel",
            "_view_count": null,
            "_view_module": "@jupyter-widgets/base",
            "_view_module_version": "1.2.0",
            "_view_name": "LayoutView",
            "align_content": null,
            "align_items": null,
            "align_self": null,
            "border": null,
            "bottom": null,
            "display": null,
            "flex": null,
            "flex_flow": null,
            "grid_area": null,
            "grid_auto_columns": null,
            "grid_auto_flow": null,
            "grid_auto_rows": null,
            "grid_column": null,
            "grid_gap": null,
            "grid_row": null,
            "grid_template_areas": null,
            "grid_template_columns": null,
            "grid_template_rows": null,
            "height": null,
            "justify_content": null,
            "justify_items": null,
            "left": null,
            "margin": null,
            "max_height": null,
            "max_width": null,
            "min_height": null,
            "min_width": null,
            "object_fit": null,
            "object_position": null,
            "order": null,
            "overflow": null,
            "overflow_x": null,
            "overflow_y": null,
            "padding": null,
            "right": null,
            "top": null,
            "visibility": null,
            "width": null
          }
        },
        "cb021eae52ce48ea93a77714d79b48f6": {
          "model_module": "@jupyter-widgets/controls",
          "model_name": "DescriptionStyleModel",
          "model_module_version": "1.5.0",
          "state": {
            "_model_module": "@jupyter-widgets/controls",
            "_model_module_version": "1.5.0",
            "_model_name": "DescriptionStyleModel",
            "_view_count": null,
            "_view_module": "@jupyter-widgets/base",
            "_view_module_version": "1.2.0",
            "_view_name": "StyleView",
            "description_width": ""
          }
        },
        "247172793bae48989b2d73d9d5c5c5f6": {
          "model_module": "@jupyter-widgets/base",
          "model_name": "LayoutModel",
          "model_module_version": "1.2.0",
          "state": {
            "_model_module": "@jupyter-widgets/base",
            "_model_module_version": "1.2.0",
            "_model_name": "LayoutModel",
            "_view_count": null,
            "_view_module": "@jupyter-widgets/base",
            "_view_module_version": "1.2.0",
            "_view_name": "LayoutView",
            "align_content": null,
            "align_items": null,
            "align_self": null,
            "border": null,
            "bottom": null,
            "display": null,
            "flex": null,
            "flex_flow": null,
            "grid_area": null,
            "grid_auto_columns": null,
            "grid_auto_flow": null,
            "grid_auto_rows": null,
            "grid_column": null,
            "grid_gap": null,
            "grid_row": null,
            "grid_template_areas": null,
            "grid_template_columns": null,
            "grid_template_rows": null,
            "height": null,
            "justify_content": null,
            "justify_items": null,
            "left": null,
            "margin": null,
            "max_height": null,
            "max_width": null,
            "min_height": null,
            "min_width": null,
            "object_fit": null,
            "object_position": null,
            "order": null,
            "overflow": null,
            "overflow_x": null,
            "overflow_y": null,
            "padding": null,
            "right": null,
            "top": null,
            "visibility": null,
            "width": "20px"
          }
        },
        "67ffd9787de44fc2821edf849b6c8ad8": {
          "model_module": "@jupyter-widgets/controls",
          "model_name": "ProgressStyleModel",
          "model_module_version": "1.5.0",
          "state": {
            "_model_module": "@jupyter-widgets/controls",
            "_model_module_version": "1.5.0",
            "_model_name": "ProgressStyleModel",
            "_view_count": null,
            "_view_module": "@jupyter-widgets/base",
            "_view_module_version": "1.2.0",
            "_view_name": "StyleView",
            "bar_color": null,
            "description_width": ""
          }
        },
        "97ca492489b540d2a2cce84448fc134f": {
          "model_module": "@jupyter-widgets/base",
          "model_name": "LayoutModel",
          "model_module_version": "1.2.0",
          "state": {
            "_model_module": "@jupyter-widgets/base",
            "_model_module_version": "1.2.0",
            "_model_name": "LayoutModel",
            "_view_count": null,
            "_view_module": "@jupyter-widgets/base",
            "_view_module_version": "1.2.0",
            "_view_name": "LayoutView",
            "align_content": null,
            "align_items": null,
            "align_self": null,
            "border": null,
            "bottom": null,
            "display": null,
            "flex": null,
            "flex_flow": null,
            "grid_area": null,
            "grid_auto_columns": null,
            "grid_auto_flow": null,
            "grid_auto_rows": null,
            "grid_column": null,
            "grid_gap": null,
            "grid_row": null,
            "grid_template_areas": null,
            "grid_template_columns": null,
            "grid_template_rows": null,
            "height": null,
            "justify_content": null,
            "justify_items": null,
            "left": null,
            "margin": null,
            "max_height": null,
            "max_width": null,
            "min_height": null,
            "min_width": null,
            "object_fit": null,
            "object_position": null,
            "order": null,
            "overflow": null,
            "overflow_x": null,
            "overflow_y": null,
            "padding": null,
            "right": null,
            "top": null,
            "visibility": null,
            "width": null
          }
        },
        "83e10ca9ea0641b095998ed12c0f680f": {
          "model_module": "@jupyter-widgets/controls",
          "model_name": "DescriptionStyleModel",
          "model_module_version": "1.5.0",
          "state": {
            "_model_module": "@jupyter-widgets/controls",
            "_model_module_version": "1.5.0",
            "_model_name": "DescriptionStyleModel",
            "_view_count": null,
            "_view_module": "@jupyter-widgets/base",
            "_view_module_version": "1.2.0",
            "_view_name": "StyleView",
            "description_width": ""
          }
        },
        "693c3a9ca82e45d1838bae0f103d0b6b": {
          "model_module": "@jupyter-widgets/controls",
          "model_name": "HBoxModel",
          "model_module_version": "1.5.0",
          "state": {
            "_dom_classes": [],
            "_model_module": "@jupyter-widgets/controls",
            "_model_module_version": "1.5.0",
            "_model_name": "HBoxModel",
            "_view_count": null,
            "_view_module": "@jupyter-widgets/controls",
            "_view_module_version": "1.5.0",
            "_view_name": "HBoxView",
            "box_style": "",
            "children": [
              "IPY_MODEL_1a1395d89eb648d3a848585d12a5578f",
              "IPY_MODEL_fb065526671047c59ef1ff464799382f",
              "IPY_MODEL_23cfeabc81534f188cc3d6a6fef47011"
            ],
            "layout": "IPY_MODEL_395c0b84ba994abd8c877ae9ec330be2"
          }
        },
        "1a1395d89eb648d3a848585d12a5578f": {
          "model_module": "@jupyter-widgets/controls",
          "model_name": "HTMLModel",
          "model_module_version": "1.5.0",
          "state": {
            "_dom_classes": [],
            "_model_module": "@jupyter-widgets/controls",
            "_model_module_version": "1.5.0",
            "_model_name": "HTMLModel",
            "_view_count": null,
            "_view_module": "@jupyter-widgets/controls",
            "_view_module_version": "1.5.0",
            "_view_name": "HTMLView",
            "description": "",
            "description_tooltip": null,
            "layout": "IPY_MODEL_3a8e7ef749e6470f9f184c52d78331d0",
            "placeholder": "​",
            "style": "IPY_MODEL_0c5e04f780b043398d28d322ebb35eaa",
            "value": "special_tokens_map.json: 100%"
          }
        },
        "fb065526671047c59ef1ff464799382f": {
          "model_module": "@jupyter-widgets/controls",
          "model_name": "FloatProgressModel",
          "model_module_version": "1.5.0",
          "state": {
            "_dom_classes": [],
            "_model_module": "@jupyter-widgets/controls",
            "_model_module_version": "1.5.0",
            "_model_name": "FloatProgressModel",
            "_view_count": null,
            "_view_module": "@jupyter-widgets/controls",
            "_view_module_version": "1.5.0",
            "_view_name": "ProgressView",
            "bar_style": "success",
            "description": "",
            "description_tooltip": null,
            "layout": "IPY_MODEL_02713499032e42a7ab6e4e2e9b677279",
            "max": 112,
            "min": 0,
            "orientation": "horizontal",
            "style": "IPY_MODEL_cd8f279155b84ee1afcaf4a7fb37d496",
            "value": 112
          }
        },
        "23cfeabc81534f188cc3d6a6fef47011": {
          "model_module": "@jupyter-widgets/controls",
          "model_name": "HTMLModel",
          "model_module_version": "1.5.0",
          "state": {
            "_dom_classes": [],
            "_model_module": "@jupyter-widgets/controls",
            "_model_module_version": "1.5.0",
            "_model_name": "HTMLModel",
            "_view_count": null,
            "_view_module": "@jupyter-widgets/controls",
            "_view_module_version": "1.5.0",
            "_view_name": "HTMLView",
            "description": "",
            "description_tooltip": null,
            "layout": "IPY_MODEL_a9931e72bf0747f4854d3829bd0312ba",
            "placeholder": "​",
            "style": "IPY_MODEL_88b35f81d53f4fe59f21942f22487200",
            "value": " 112/112 [00:00&lt;00:00, 8.05kB/s]"
          }
        },
        "395c0b84ba994abd8c877ae9ec330be2": {
          "model_module": "@jupyter-widgets/base",
          "model_name": "LayoutModel",
          "model_module_version": "1.2.0",
          "state": {
            "_model_module": "@jupyter-widgets/base",
            "_model_module_version": "1.2.0",
            "_model_name": "LayoutModel",
            "_view_count": null,
            "_view_module": "@jupyter-widgets/base",
            "_view_module_version": "1.2.0",
            "_view_name": "LayoutView",
            "align_content": null,
            "align_items": null,
            "align_self": null,
            "border": null,
            "bottom": null,
            "display": null,
            "flex": null,
            "flex_flow": null,
            "grid_area": null,
            "grid_auto_columns": null,
            "grid_auto_flow": null,
            "grid_auto_rows": null,
            "grid_column": null,
            "grid_gap": null,
            "grid_row": null,
            "grid_template_areas": null,
            "grid_template_columns": null,
            "grid_template_rows": null,
            "height": null,
            "justify_content": null,
            "justify_items": null,
            "left": null,
            "margin": null,
            "max_height": null,
            "max_width": null,
            "min_height": null,
            "min_width": null,
            "object_fit": null,
            "object_position": null,
            "order": null,
            "overflow": null,
            "overflow_x": null,
            "overflow_y": null,
            "padding": null,
            "right": null,
            "top": null,
            "visibility": null,
            "width": null
          }
        },
        "3a8e7ef749e6470f9f184c52d78331d0": {
          "model_module": "@jupyter-widgets/base",
          "model_name": "LayoutModel",
          "model_module_version": "1.2.0",
          "state": {
            "_model_module": "@jupyter-widgets/base",
            "_model_module_version": "1.2.0",
            "_model_name": "LayoutModel",
            "_view_count": null,
            "_view_module": "@jupyter-widgets/base",
            "_view_module_version": "1.2.0",
            "_view_name": "LayoutView",
            "align_content": null,
            "align_items": null,
            "align_self": null,
            "border": null,
            "bottom": null,
            "display": null,
            "flex": null,
            "flex_flow": null,
            "grid_area": null,
            "grid_auto_columns": null,
            "grid_auto_flow": null,
            "grid_auto_rows": null,
            "grid_column": null,
            "grid_gap": null,
            "grid_row": null,
            "grid_template_areas": null,
            "grid_template_columns": null,
            "grid_template_rows": null,
            "height": null,
            "justify_content": null,
            "justify_items": null,
            "left": null,
            "margin": null,
            "max_height": null,
            "max_width": null,
            "min_height": null,
            "min_width": null,
            "object_fit": null,
            "object_position": null,
            "order": null,
            "overflow": null,
            "overflow_x": null,
            "overflow_y": null,
            "padding": null,
            "right": null,
            "top": null,
            "visibility": null,
            "width": null
          }
        },
        "0c5e04f780b043398d28d322ebb35eaa": {
          "model_module": "@jupyter-widgets/controls",
          "model_name": "DescriptionStyleModel",
          "model_module_version": "1.5.0",
          "state": {
            "_model_module": "@jupyter-widgets/controls",
            "_model_module_version": "1.5.0",
            "_model_name": "DescriptionStyleModel",
            "_view_count": null,
            "_view_module": "@jupyter-widgets/base",
            "_view_module_version": "1.2.0",
            "_view_name": "StyleView",
            "description_width": ""
          }
        },
        "02713499032e42a7ab6e4e2e9b677279": {
          "model_module": "@jupyter-widgets/base",
          "model_name": "LayoutModel",
          "model_module_version": "1.2.0",
          "state": {
            "_model_module": "@jupyter-widgets/base",
            "_model_module_version": "1.2.0",
            "_model_name": "LayoutModel",
            "_view_count": null,
            "_view_module": "@jupyter-widgets/base",
            "_view_module_version": "1.2.0",
            "_view_name": "LayoutView",
            "align_content": null,
            "align_items": null,
            "align_self": null,
            "border": null,
            "bottom": null,
            "display": null,
            "flex": null,
            "flex_flow": null,
            "grid_area": null,
            "grid_auto_columns": null,
            "grid_auto_flow": null,
            "grid_auto_rows": null,
            "grid_column": null,
            "grid_gap": null,
            "grid_row": null,
            "grid_template_areas": null,
            "grid_template_columns": null,
            "grid_template_rows": null,
            "height": null,
            "justify_content": null,
            "justify_items": null,
            "left": null,
            "margin": null,
            "max_height": null,
            "max_width": null,
            "min_height": null,
            "min_width": null,
            "object_fit": null,
            "object_position": null,
            "order": null,
            "overflow": null,
            "overflow_x": null,
            "overflow_y": null,
            "padding": null,
            "right": null,
            "top": null,
            "visibility": null,
            "width": null
          }
        },
        "cd8f279155b84ee1afcaf4a7fb37d496": {
          "model_module": "@jupyter-widgets/controls",
          "model_name": "ProgressStyleModel",
          "model_module_version": "1.5.0",
          "state": {
            "_model_module": "@jupyter-widgets/controls",
            "_model_module_version": "1.5.0",
            "_model_name": "ProgressStyleModel",
            "_view_count": null,
            "_view_module": "@jupyter-widgets/base",
            "_view_module_version": "1.2.0",
            "_view_name": "StyleView",
            "bar_color": null,
            "description_width": ""
          }
        },
        "a9931e72bf0747f4854d3829bd0312ba": {
          "model_module": "@jupyter-widgets/base",
          "model_name": "LayoutModel",
          "model_module_version": "1.2.0",
          "state": {
            "_model_module": "@jupyter-widgets/base",
            "_model_module_version": "1.2.0",
            "_model_name": "LayoutModel",
            "_view_count": null,
            "_view_module": "@jupyter-widgets/base",
            "_view_module_version": "1.2.0",
            "_view_name": "LayoutView",
            "align_content": null,
            "align_items": null,
            "align_self": null,
            "border": null,
            "bottom": null,
            "display": null,
            "flex": null,
            "flex_flow": null,
            "grid_area": null,
            "grid_auto_columns": null,
            "grid_auto_flow": null,
            "grid_auto_rows": null,
            "grid_column": null,
            "grid_gap": null,
            "grid_row": null,
            "grid_template_areas": null,
            "grid_template_columns": null,
            "grid_template_rows": null,
            "height": null,
            "justify_content": null,
            "justify_items": null,
            "left": null,
            "margin": null,
            "max_height": null,
            "max_width": null,
            "min_height": null,
            "min_width": null,
            "object_fit": null,
            "object_position": null,
            "order": null,
            "overflow": null,
            "overflow_x": null,
            "overflow_y": null,
            "padding": null,
            "right": null,
            "top": null,
            "visibility": null,
            "width": null
          }
        },
        "88b35f81d53f4fe59f21942f22487200": {
          "model_module": "@jupyter-widgets/controls",
          "model_name": "DescriptionStyleModel",
          "model_module_version": "1.5.0",
          "state": {
            "_model_module": "@jupyter-widgets/controls",
            "_model_module_version": "1.5.0",
            "_model_name": "DescriptionStyleModel",
            "_view_count": null,
            "_view_module": "@jupyter-widgets/base",
            "_view_module_version": "1.2.0",
            "_view_name": "StyleView",
            "description_width": ""
          }
        },
        "0b89f12cf496455da0b661893af75904": {
          "model_module": "@jupyter-widgets/controls",
          "model_name": "HBoxModel",
          "model_module_version": "1.5.0",
          "state": {
            "_dom_classes": [],
            "_model_module": "@jupyter-widgets/controls",
            "_model_module_version": "1.5.0",
            "_model_name": "HBoxModel",
            "_view_count": null,
            "_view_module": "@jupyter-widgets/controls",
            "_view_module_version": "1.5.0",
            "_view_name": "HBoxView",
            "box_style": "",
            "children": [
              "IPY_MODEL_c0057529cbf143ccb0d869f67300b140",
              "IPY_MODEL_3e66fd965bba4529b4b3b40aa1a10f52",
              "IPY_MODEL_ede78b66ba2a423f828c2d97ab1dd299"
            ],
            "layout": "IPY_MODEL_04918ce6e0474fa9bd3d101384795ef2"
          }
        },
        "c0057529cbf143ccb0d869f67300b140": {
          "model_module": "@jupyter-widgets/controls",
          "model_name": "HTMLModel",
          "model_module_version": "1.5.0",
          "state": {
            "_dom_classes": [],
            "_model_module": "@jupyter-widgets/controls",
            "_model_module_version": "1.5.0",
            "_model_name": "HTMLModel",
            "_view_count": null,
            "_view_module": "@jupyter-widgets/controls",
            "_view_module_version": "1.5.0",
            "_view_name": "HTMLView",
            "description": "",
            "description_tooltip": null,
            "layout": "IPY_MODEL_5c81cafab0174bd4a38d1a8c3d5a1001",
            "placeholder": "​",
            "style": "IPY_MODEL_8d69d5978fcc49ddbb4793688a42e637",
            "value": "config.json: 100%"
          }
        },
        "3e66fd965bba4529b4b3b40aa1a10f52": {
          "model_module": "@jupyter-widgets/controls",
          "model_name": "FloatProgressModel",
          "model_module_version": "1.5.0",
          "state": {
            "_dom_classes": [],
            "_model_module": "@jupyter-widgets/controls",
            "_model_module_version": "1.5.0",
            "_model_name": "FloatProgressModel",
            "_view_count": null,
            "_view_module": "@jupyter-widgets/controls",
            "_view_module_version": "1.5.0",
            "_view_name": "ProgressView",
            "bar_style": "success",
            "description": "",
            "description_tooltip": null,
            "layout": "IPY_MODEL_9c8976e2ca7c45358366e9563962e974",
            "max": 190,
            "min": 0,
            "orientation": "horizontal",
            "style": "IPY_MODEL_9106f35937964da28d6e6c6ef1dda597",
            "value": 190
          }
        },
        "ede78b66ba2a423f828c2d97ab1dd299": {
          "model_module": "@jupyter-widgets/controls",
          "model_name": "HTMLModel",
          "model_module_version": "1.5.0",
          "state": {
            "_dom_classes": [],
            "_model_module": "@jupyter-widgets/controls",
            "_model_module_version": "1.5.0",
            "_model_name": "HTMLModel",
            "_view_count": null,
            "_view_module": "@jupyter-widgets/controls",
            "_view_module_version": "1.5.0",
            "_view_name": "HTMLView",
            "description": "",
            "description_tooltip": null,
            "layout": "IPY_MODEL_cbe17b41e87e485fbf069ea8170c9435",
            "placeholder": "​",
            "style": "IPY_MODEL_071ed1f731d8443c9e5437e9222977bd",
            "value": " 190/190 [00:00&lt;00:00, 18.2kB/s]"
          }
        },
        "04918ce6e0474fa9bd3d101384795ef2": {
          "model_module": "@jupyter-widgets/base",
          "model_name": "LayoutModel",
          "model_module_version": "1.2.0",
          "state": {
            "_model_module": "@jupyter-widgets/base",
            "_model_module_version": "1.2.0",
            "_model_name": "LayoutModel",
            "_view_count": null,
            "_view_module": "@jupyter-widgets/base",
            "_view_module_version": "1.2.0",
            "_view_name": "LayoutView",
            "align_content": null,
            "align_items": null,
            "align_self": null,
            "border": null,
            "bottom": null,
            "display": null,
            "flex": null,
            "flex_flow": null,
            "grid_area": null,
            "grid_auto_columns": null,
            "grid_auto_flow": null,
            "grid_auto_rows": null,
            "grid_column": null,
            "grid_gap": null,
            "grid_row": null,
            "grid_template_areas": null,
            "grid_template_columns": null,
            "grid_template_rows": null,
            "height": null,
            "justify_content": null,
            "justify_items": null,
            "left": null,
            "margin": null,
            "max_height": null,
            "max_width": null,
            "min_height": null,
            "min_width": null,
            "object_fit": null,
            "object_position": null,
            "order": null,
            "overflow": null,
            "overflow_x": null,
            "overflow_y": null,
            "padding": null,
            "right": null,
            "top": null,
            "visibility": null,
            "width": null
          }
        },
        "5c81cafab0174bd4a38d1a8c3d5a1001": {
          "model_module": "@jupyter-widgets/base",
          "model_name": "LayoutModel",
          "model_module_version": "1.2.0",
          "state": {
            "_model_module": "@jupyter-widgets/base",
            "_model_module_version": "1.2.0",
            "_model_name": "LayoutModel",
            "_view_count": null,
            "_view_module": "@jupyter-widgets/base",
            "_view_module_version": "1.2.0",
            "_view_name": "LayoutView",
            "align_content": null,
            "align_items": null,
            "align_self": null,
            "border": null,
            "bottom": null,
            "display": null,
            "flex": null,
            "flex_flow": null,
            "grid_area": null,
            "grid_auto_columns": null,
            "grid_auto_flow": null,
            "grid_auto_rows": null,
            "grid_column": null,
            "grid_gap": null,
            "grid_row": null,
            "grid_template_areas": null,
            "grid_template_columns": null,
            "grid_template_rows": null,
            "height": null,
            "justify_content": null,
            "justify_items": null,
            "left": null,
            "margin": null,
            "max_height": null,
            "max_width": null,
            "min_height": null,
            "min_width": null,
            "object_fit": null,
            "object_position": null,
            "order": null,
            "overflow": null,
            "overflow_x": null,
            "overflow_y": null,
            "padding": null,
            "right": null,
            "top": null,
            "visibility": null,
            "width": null
          }
        },
        "8d69d5978fcc49ddbb4793688a42e637": {
          "model_module": "@jupyter-widgets/controls",
          "model_name": "DescriptionStyleModel",
          "model_module_version": "1.5.0",
          "state": {
            "_model_module": "@jupyter-widgets/controls",
            "_model_module_version": "1.5.0",
            "_model_name": "DescriptionStyleModel",
            "_view_count": null,
            "_view_module": "@jupyter-widgets/base",
            "_view_module_version": "1.2.0",
            "_view_name": "StyleView",
            "description_width": ""
          }
        },
        "9c8976e2ca7c45358366e9563962e974": {
          "model_module": "@jupyter-widgets/base",
          "model_name": "LayoutModel",
          "model_module_version": "1.2.0",
          "state": {
            "_model_module": "@jupyter-widgets/base",
            "_model_module_version": "1.2.0",
            "_model_name": "LayoutModel",
            "_view_count": null,
            "_view_module": "@jupyter-widgets/base",
            "_view_module_version": "1.2.0",
            "_view_name": "LayoutView",
            "align_content": null,
            "align_items": null,
            "align_self": null,
            "border": null,
            "bottom": null,
            "display": null,
            "flex": null,
            "flex_flow": null,
            "grid_area": null,
            "grid_auto_columns": null,
            "grid_auto_flow": null,
            "grid_auto_rows": null,
            "grid_column": null,
            "grid_gap": null,
            "grid_row": null,
            "grid_template_areas": null,
            "grid_template_columns": null,
            "grid_template_rows": null,
            "height": null,
            "justify_content": null,
            "justify_items": null,
            "left": null,
            "margin": null,
            "max_height": null,
            "max_width": null,
            "min_height": null,
            "min_width": null,
            "object_fit": null,
            "object_position": null,
            "order": null,
            "overflow": null,
            "overflow_x": null,
            "overflow_y": null,
            "padding": null,
            "right": null,
            "top": null,
            "visibility": null,
            "width": null
          }
        },
        "9106f35937964da28d6e6c6ef1dda597": {
          "model_module": "@jupyter-widgets/controls",
          "model_name": "ProgressStyleModel",
          "model_module_version": "1.5.0",
          "state": {
            "_model_module": "@jupyter-widgets/controls",
            "_model_module_version": "1.5.0",
            "_model_name": "ProgressStyleModel",
            "_view_count": null,
            "_view_module": "@jupyter-widgets/base",
            "_view_module_version": "1.2.0",
            "_view_name": "StyleView",
            "bar_color": null,
            "description_width": ""
          }
        },
        "cbe17b41e87e485fbf069ea8170c9435": {
          "model_module": "@jupyter-widgets/base",
          "model_name": "LayoutModel",
          "model_module_version": "1.2.0",
          "state": {
            "_model_module": "@jupyter-widgets/base",
            "_model_module_version": "1.2.0",
            "_model_name": "LayoutModel",
            "_view_count": null,
            "_view_module": "@jupyter-widgets/base",
            "_view_module_version": "1.2.0",
            "_view_name": "LayoutView",
            "align_content": null,
            "align_items": null,
            "align_self": null,
            "border": null,
            "bottom": null,
            "display": null,
            "flex": null,
            "flex_flow": null,
            "grid_area": null,
            "grid_auto_columns": null,
            "grid_auto_flow": null,
            "grid_auto_rows": null,
            "grid_column": null,
            "grid_gap": null,
            "grid_row": null,
            "grid_template_areas": null,
            "grid_template_columns": null,
            "grid_template_rows": null,
            "height": null,
            "justify_content": null,
            "justify_items": null,
            "left": null,
            "margin": null,
            "max_height": null,
            "max_width": null,
            "min_height": null,
            "min_width": null,
            "object_fit": null,
            "object_position": null,
            "order": null,
            "overflow": null,
            "overflow_x": null,
            "overflow_y": null,
            "padding": null,
            "right": null,
            "top": null,
            "visibility": null,
            "width": null
          }
        },
        "071ed1f731d8443c9e5437e9222977bd": {
          "model_module": "@jupyter-widgets/controls",
          "model_name": "DescriptionStyleModel",
          "model_module_version": "1.5.0",
          "state": {
            "_model_module": "@jupyter-widgets/controls",
            "_model_module_version": "1.5.0",
            "_model_name": "DescriptionStyleModel",
            "_view_count": null,
            "_view_module": "@jupyter-widgets/base",
            "_view_module_version": "1.2.0",
            "_view_name": "StyleView",
            "description_width": ""
          }
        }
      }
    }
  },
  "nbformat": 4,
  "nbformat_minor": 5
}