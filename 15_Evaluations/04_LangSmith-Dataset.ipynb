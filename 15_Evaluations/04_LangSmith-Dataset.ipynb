{
 "cells": [
  {
   "cell_type": "markdown",
   "id": "574f6502",
   "metadata": {},
   "source": [
    "---"
   ]
  },
  {
   "cell_type": "markdown",
   "id": "bf366bf9",
   "metadata": {},
   "source": [
    "* 출처: LangChain 공식 문서 또는 해당 교재명\n",
    "* 원본 URL: https://smith.langchain.com/hub/teddynote/summary-stuff-documents"
   ]
  },
  {
   "cell_type": "markdown",
   "id": "f31f7552",
   "metadata": {},
   "source": [
    "---"
   ]
  },
  {
   "cell_type": "markdown",
   "id": "af770941",
   "metadata": {},
   "source": [
    "### **4. `LangSmith 데이터셋 생성`**"
   ]
  },
  {
   "cell_type": "markdown",
   "id": "dd4af52a",
   "metadata": {},
   "source": [
    "* 자체 `RAG` 평가용 데이터셋 구축하는 방법 알아보기\n",
    "\n",
    "  * **a. `Question - Retrieval` 평가**\n",
    "    * ![question-retrieval](../15_Evaluations/assets/eval-03.png)\n",
    "\n",
    "  * **b. `Question - Answer` 평가**\n",
    "    * ![question-answer](../15_Evaluations/assets/eval-04.png)\n",
    "\n",
    "  * **c. `Retrieval - Answer` 평가**\n",
    "    * ![retrieval-answer](../15_Evaluations/assets/eval-05.png)\n",
    "\n",
    "<br>\n",
    "\n",
    "* \n",
    "  * `Retrieval`에 대한 `Ground Truth` 구축 어려움\n",
    "    * *a. `Retrieval`에 대한 `Ground Truth`가 존재한다면 모두 데이터셋으로 저장하여 활용*\n",
    "    * *b. 그렇지 않다면 `Question`, `Answer`만으로 데이터셋 구축 → 활용 가능*"
   ]
  },
  {
   "cell_type": "markdown",
   "id": "f802a885",
   "metadata": {},
   "source": [
    "---"
   ]
  },
  {
   "cell_type": "markdown",
   "id": "bfb9c7b9",
   "metadata": {},
   "source": [
    "* **`환경 설정`**"
   ]
  },
  {
   "cell_type": "code",
   "execution_count": null,
   "id": "3acf7ae7",
   "metadata": {},
   "outputs": [],
   "source": [
    "# API 키를 환경변수로 관리하기 위한 설정 파일\n",
    "from dotenv import load_dotenv\n",
    "\n",
    "# API 키 정보 로드\n",
    "load_dotenv()                           # True"
   ]
  },
  {
   "cell_type": "code",
   "execution_count": null,
   "id": "d9d33436",
   "metadata": {},
   "outputs": [],
   "source": [
    "from langsmith import Client\n",
    "from langsmith import traceable\n",
    "\n",
    "import os\n",
    "\n",
    "# LangSmith 환경 변수 확인\n",
    "\n",
    "print(\"\\n--- LangSmith 환경 변수 확인 ---\")\n",
    "langchain_tracing_v2 = os.getenv('LANGCHAIN_TRACING_V2')\n",
    "langchain_project = os.getenv('LANGCHAIN_PROJECT')\n",
    "langchain_api_key_status = \"설정됨\" if os.getenv('LANGCHAIN_API_KEY') else \"설정되지 않음\" # API 키 값은 직접 출력하지 않음\n",
    "\n",
    "if langchain_tracing_v2 == \"true\" and os.getenv('LANGCHAIN_API_KEY') and langchain_project:\n",
    "    print(f\"✅ LangSmith 추적 활성화됨 (LANGCHAIN_TRACING_V2='{langchain_tracing_v2}')\")\n",
    "    print(f\"✅ LangSmith 프로젝트: '{langchain_project}'\")\n",
    "    print(f\"✅ LangSmith API Key: {langchain_api_key_status}\")\n",
    "    print(\"  -> 이제 LangSmith 대시보드에서 이 프로젝트를 확인해 보세요.\")\n",
    "else:\n",
    "    print(\"❌ LangSmith 추적이 완전히 활성화되지 않았습니다. 다음을 확인하세요:\")\n",
    "    if langchain_tracing_v2 != \"true\":\n",
    "        print(f\"  - LANGCHAIN_TRACING_V2가 'true'로 설정되어 있지 않습니다 (현재: '{langchain_tracing_v2}').\")\n",
    "    if not os.getenv('LANGCHAIN_API_KEY'):\n",
    "        print(\"  - LANGCHAIN_API_KEY가 설정되어 있지 않습니다.\")\n",
    "    if not langchain_project:\n",
    "        print(\"  - LANGCHAIN_PROJECT가 설정되어 있지 않습니다.\")"
   ]
  },
  {
   "cell_type": "markdown",
   "id": "ee3cee3b",
   "metadata": {},
   "source": [
    "<small>\n",
    "\n",
    "* 셀 출력\n",
    "\n",
    "    ```bash\n",
    "    --- LangSmith 환경 변수 확인 ---\n",
    "    ✅ LangSmith 추적 활성화됨 (LANGCHAIN_TRACING_V2='true')\n",
    "    ✅ LangSmith 프로젝트: 'LangChain-prantice'\n",
    "    ✅ LangSmith API Key: 설정됨\n",
    "    -> 이제 LangSmith 대시보드에서 이 프로젝트를 확인해 보세요.\n",
    "    ```"
   ]
  },
  {
   "cell_type": "markdown",
   "id": "2f78e3c7",
   "metadata": {},
   "source": [
    "---"
   ]
  },
  {
   "cell_type": "markdown",
   "id": "af9fee68",
   "metadata": {},
   "source": [
    "#### **1) `데이터셋 생성`**"
   ]
  },
  {
   "cell_type": "markdown",
   "id": "31900cc9",
   "metadata": {},
   "source": [
    "* **`inputs`, `outputs` → 데이터셋 생성하기**\n",
    "\n",
    "* 데이터셋 구성: **`question`**, **`answer`**"
   ]
  },
  {
   "cell_type": "markdown",
   "id": "e4a93bdb",
   "metadata": {},
   "source": [
    "##### **`➀ 직접 생성하기`**"
   ]
  },
  {
   "cell_type": "code",
   "execution_count": null,
   "id": "dfc2a9c3",
   "metadata": {},
   "outputs": [],
   "source": [
    "import pandas as pd\n",
    "\n",
    "# 질문과 답변 목록\n",
    "inputs = [\n",
    "    \"삼성전자가 만든 생성형 AI의 이름은 무엇인가요?\",\n",
    "    \"미국 바이든 대통령이 안전하고 신뢰할 수 있는 AI 개발과 사용을 보장하기 위한 행정명령을 발표한 날은 언제인가요?\",\n",
    "    \"코히어의 데이터 출처 탐색기에 대해서 간략히 말해주세요.\",\n",
    "]\n",
    "\n",
    "# 질문에 대한 답변 목록\n",
    "outputs = [\n",
    "    \"삼성전자가 만든 생성형 AI의 이름은 삼성 가우스 입니다.\",\n",
    "    \"2023년 10월 30일 미국 바이든 대통령이 행정명령을 발표했습니다.\",\n",
    "    \"코히어의 데이터 출처 탐색기는 AI 모델 훈련에 사용되는 데이터셋의 출처와 라이선스 상태를 추적하고 투명성을 확보하기 위한 플랫폼입니다. 12개 기관과 협력하여 2,000여 개 데이터셋의 출처 정보를 제공하며, 개발자들이 데이터의 구성과 계보를 쉽게 파악할 수 있게 돕습니다.\",\n",
    "]"
   ]
  },
  {
   "cell_type": "code",
   "execution_count": null,
   "id": "05b4c167",
   "metadata": {},
   "outputs": [],
   "source": [
    "# 질문과 답변 쌍 생성\n",
    "qa_pairs = [{\"question\": q, \"answer\": a} for q, a in zip(inputs, outputs)]"
   ]
  },
  {
   "cell_type": "code",
   "execution_count": null,
   "id": "296e9426",
   "metadata": {},
   "outputs": [],
   "source": [
    "# 데이터프레임으로 변환\n",
    "df = pd.DataFrame(qa_pairs)"
   ]
  },
  {
   "cell_type": "code",
   "execution_count": null,
   "id": "4cf1d2e7",
   "metadata": {},
   "outputs": [],
   "source": [
    "# 데이터프레임 출력\n",
    "df.head()"
   ]
  },
  {
   "cell_type": "markdown",
   "id": "7fe08182",
   "metadata": {},
   "source": [
    "<small>\n",
    "\n",
    "* `df.head()`\n",
    "\n",
    "  * ![df.head()](../15_Evaluations/assets/df_head_2.png)"
   ]
  },
  {
   "cell_type": "markdown",
   "id": "8e206505",
   "metadata": {},
   "source": [
    "##### **`➁ 이전에서 생성한`** ***`Synthetic Dataset`*** **`활용하기`**"
   ]
  },
  {
   "cell_type": "markdown",
   "id": "365cc82b",
   "metadata": {},
   "source": [
    "* 업로드했던 `HuggingFace Dataset` 활용하기"
   ]
  },
  {
   "cell_type": "markdown",
   "id": "69d54310",
   "metadata": {},
   "source": [
    "* 사전에 `VS Code` 터미널에 설치할 것\n",
    "\n",
    "```bash\n",
    "            pip install -qU datasets\n",
    "```"
   ]
  },
  {
   "cell_type": "code",
   "execution_count": null,
   "id": "5f0392c5",
   "metadata": {},
   "outputs": [],
   "source": [
    "import pandas as pd\n",
    "from datasets import load_dataset, Dataset\n",
    "import os\n",
    "\n",
    "# huggingface Dataset에서 repo_id로 데이터셋 다운로드\n",
    "dataset = load_dataset(\n",
    "    \"livemylife23/rag-synthetic-dataset-korean\",   # 데이터셋 이름\n",
    "    token=os.environ[\"HUGGINGFACEHUB_API_TOKEN\"],  # private 데이터인 경우 필요\n",
    ")"
   ]
  },
  {
   "cell_type": "markdown",
   "id": "2ae21461",
   "metadata": {},
   "source": [
    "<small>\n",
    "\n",
    "* 다운로드 완료 - (`7.1s`)\n",
    "\n",
    "  * ![hugginface_dataset_download](../15_Evaluations/assets/hugging_face_download.png)"
   ]
  },
  {
   "cell_type": "code",
   "execution_count": null,
   "id": "14854914",
   "metadata": {},
   "outputs": [],
   "source": [
    "# 데이터셋에서 split 기준으로 조회\n",
    "huggingface_df = dataset[\"train\"].to_pandas()\n",
    "huggingface_df.head()"
   ]
  },
  {
   "cell_type": "markdown",
   "id": "04b1a435",
   "metadata": {},
   "source": [
    "<small>\n",
    "\n",
    "  * `huggingface_df.head()`\n",
    "\n",
    "    * ![huggingface_df.head()](../15_Evaluations/assets/df_head_3.png)"
   ]
  },
  {
   "cell_type": "markdown",
   "id": "701a711e",
   "metadata": {},
   "source": [
    "---"
   ]
  },
  {
   "cell_type": "markdown",
   "id": "bd3db68a",
   "metadata": {},
   "source": [
    "#### **2) `LangSmith 테스트를 위한 Dataset 생성`**"
   ]
  },
  {
   "cell_type": "markdown",
   "id": "dfb905c0",
   "metadata": {},
   "source": [
    "* **`Dataset & Testing`에 새로운 데이터셋 생성하기**\n",
    "\n",
    "<small>\n",
    "\n",
    "  * ![langsmith에 새로운 데이터셋 생성하기](../15_Evaluations/assets/eval-06.png)"
   ]
  },
  {
   "cell_type": "markdown",
   "id": "94a8bae4",
   "metadata": {},
   "source": [
    "* `csv` 파일에서 `LangSmith UI` 사용 → 직접 데이터셋 생성 가능\n",
    "\n",
    "* *참고: [`LangSmith UI 문서`](https://docs.langchain.com/langsmith/manage-datasets)*"
   ]
  },
  {
   "cell_type": "code",
   "execution_count": null,
   "id": "615871d1",
   "metadata": {},
   "outputs": [],
   "source": [
    "from langsmith import Client\n",
    "\n",
    "client = Client()\n",
    "dataset_name = \"RAG_EVAL_DATASET\""
   ]
  },
  {
   "cell_type": "code",
   "execution_count": null,
   "id": "509aaa95",
   "metadata": {},
   "outputs": [],
   "source": [
    "# 데이터셋 생성 함수\n",
    "\n",
    "def create_dataset(client, dataset_name, description=None):\n",
    "    for dataset in client.list_datasets():\n",
    "        if dataset.name == dataset_name:\n",
    "            return dataset\n",
    "\n",
    "    dataset = client.create_dataset(\n",
    "        dataset_name=dataset_name,\n",
    "        description=description,\n",
    "    )\n",
    "    return dataset"
   ]
  },
  {
   "cell_type": "code",
   "execution_count": null,
   "id": "bea80981",
   "metadata": {},
   "outputs": [],
   "source": [
    "# 데이터셋 생성\n",
    "dataset = create_dataset(client, dataset_name)          # 2.9s"
   ]
  },
  {
   "cell_type": "code",
   "execution_count": null,
   "id": "1ef9d52b",
   "metadata": {},
   "outputs": [],
   "source": [
    "# 생성된 데이터셋에 예제 추가\n",
    "\n",
    "client.create_examples(\n",
    "    inputs=[{\"question\": q} for q in df[\"question\"].tolist()],\n",
    "    outputs=[{\"answer\": a} for a in df[\"answer\"].tolist()],\n",
    "    dataset_id=dataset.id,\n",
    ")"
   ]
  },
  {
   "cell_type": "markdown",
   "id": "ebe3ee15",
   "metadata": {},
   "source": [
    "<small>\n",
    "\n",
    "* **`client.creat_examples() 추가하기`** - (`0.1s`)\n",
    "\n",
    "    ```python\n",
    "    {'example_ids': ['8d34ad4e-e3be-47ca-9a6a-9929608b60ca',\n",
    "    '71841ffc-cfbe-4e05-b0b0-ef85e8a6ebd4',\n",
    "    'e0d645a9-6d97-41da-8d45-cc5e8d6f0a37'],\n",
    "    'count': 3}\n",
    "    ```"
   ]
  },
  {
   "cell_type": "markdown",
   "id": "a3df2b1a",
   "metadata": {},
   "source": [
    "* **`데이터셋에 예제 나중에 추가 가능`**"
   ]
  },
  {
   "cell_type": "code",
   "execution_count": null,
   "id": "89400605",
   "metadata": {},
   "outputs": [],
   "source": [
    "# 새로운 질문 목록\n",
    "new_questions = [\n",
    "    \"삼성전자가 만든 생성형 AI의 이름은 무엇인가요?\",\n",
    "    \"구글이 테디노트에게 20억달러를 투자한 것이 사실입니까?\",\n",
    "]"
   ]
  },
  {
   "cell_type": "code",
   "execution_count": null,
   "id": "1612eec9",
   "metadata": {},
   "outputs": [],
   "source": [
    "# 새로운 답변 목록\n",
    "new_answers = [\n",
    "    \"삼성전자가 만든 생성형 AI의 이름은 테디노트 입니다.\",\n",
    "    \"사실이 아닙니다. 구글은 앤스로픽에 최대 20억 달러를 투자하기로 합의했으며, 이 중 5억 달러를 우선 투자하고 향후 15억 달러를 추가로 투자하기로 했습니다.\",\n",
    "]"
   ]
  },
  {
   "cell_type": "code",
   "execution_count": null,
   "id": "4c7cb209",
   "metadata": {},
   "outputs": [],
   "source": [
    "# UI에서 업데이트된 버전 확인\n",
    "\n",
    "client.create_examples(\n",
    "    inputs=[{\"question\": q} for q in new_questions],\n",
    "    outputs=[{\"answer\": a} for a in new_answers],\n",
    "    dataset_id=dataset.id,\n",
    ")"
   ]
  },
  {
   "cell_type": "markdown",
   "id": "22e8351c",
   "metadata": {},
   "source": [
    "<small>\n",
    "\n",
    "* **`UI에서 업데이트된 버전 확인하기`** - (`0.1s`)\n",
    "\n",
    "    ```python\n",
    "    {'example_ids': ['7080404f-878d-4e22-9256-70a5d1b86ab3',\n",
    "    'b8599d26-9990-4153-8a92-0dc779087f2c'],\n",
    "    'count': 2}\n",
    "    ```"
   ]
  },
  {
   "cell_type": "markdown",
   "id": "9215acbf",
   "metadata": {},
   "source": [
    "* **✓ `데이터셋 준비 완료됨`**"
   ]
  },
  {
   "cell_type": "markdown",
   "id": "a333ef40",
   "metadata": {},
   "source": [
    "---"
   ]
  },
  {
   "cell_type": "markdown",
   "id": "2ff26a34",
   "metadata": {},
   "source": [
    "* next: ***`05. LLM-as-Judge`***"
   ]
  },
  {
   "cell_type": "markdown",
   "id": "719f0c8c",
   "metadata": {},
   "source": [
    "---"
   ]
  }
 ],
 "metadata": {
  "kernelspec": {
   "display_name": "lc_env",
   "language": "python",
   "name": "python3"
  },
  "language_info": {
   "codemirror_mode": {
    "name": "ipython",
    "version": 3
   },
   "file_extension": ".py",
   "mimetype": "text/x-python",
   "name": "python",
   "nbconvert_exporter": "python",
   "pygments_lexer": "ipython3",
   "version": "3.13.5"
  }
 },
 "nbformat": 4,
 "nbformat_minor": 5
}
