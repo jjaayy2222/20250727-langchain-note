{
 "cells": [
  {
   "cell_type": "markdown",
   "id": "574f6502",
   "metadata": {},
   "source": [
    "---"
   ]
  },
  {
   "cell_type": "markdown",
   "id": "bf366bf9",
   "metadata": {},
   "source": [
    "* 출처: LangChain 공식 문서 또는 해당 교재명\n",
    "* 원본 URL: https://smith.langchain.com/hub/teddynote/summary-stuff-documents"
   ]
  },
  {
   "cell_type": "markdown",
   "id": "f31f7552",
   "metadata": {},
   "source": [
    "---"
   ]
  },
  {
   "cell_type": "markdown",
   "id": "af770941",
   "metadata": {},
   "source": [
    "### **3. `생성한 평가용 데이터셋 업로드`** *(HuggingFace Dataset)*"
   ]
  },
  {
   "cell_type": "markdown",
   "id": "dd4af52a",
   "metadata": {},
   "source": [
    "* **`평가 데이터 세트`**\n",
    "\n",
    "  * `AI` 애플리케이션 성능, 기능을 평가가기 위해 설계된 동질적인 `데이터 샘플` 모음\n",
    "\n",
    "    * *data-sample*: *특정 시나리오에서 `LLM` 애플리케이션의 성능을 평가하고 측정하는 데 사용되는 단일 구조화된 데이터 인스턴스*\n",
    "      * *AI 애플리케이션이 처리할 것으로 예상되는 단일 상호작용 단위 or 특정 사용 사례*\n",
    "      * *`RAGAS`의 평가샘플: `SingleTurnSample`, `MultiTurnSample` 클래스로 사용하여 표현됨*\n",
    "\n",
    "  * 구조 (구성)\n",
    "    * **`샘플`**\n",
    "      * `SingleTurnSample` or `MultiTurnSample` 인스턴스의 모음\n",
    "      * 각 샘플 = 고유한 상호작용 or 시나리오\n",
    "    * **`일관성`**\n",
    "      * 평가의 일관성을 유지하기 위해 데이터 세트 내의 모든 샘플 = **`동일한 유형`** *(`모두 단일 턴 샘플` or `모두 다중 턴 샘플`)* 이어야 함\n",
    "\n",
    "  * 효과적인 평가 데이터세트 큐레이션을 위한 지침\n",
    "    * **`명확한 목표 정의`**\n",
    "      * 평가하려는 AI 애플리케이션의 `구체적인 측면`과 `테스트`하려는 `시나리오`를 `파악`하기 \n",
    "      * 이러한 `목표`를 `반영`하는 `데이터 샘플`을 `수집`하기\n",
    "\n",
    "    * **`대표 데이터 수집`**\n",
    "      * `AI 애플리케이션`에 대한 `포괄적인 평가`를 제공하기 위해 데이터 세트가 `다양한 시나리오`, `사용자 입력` 및 `예상 응답`을 `포괄`하는지 `확인`하기\n",
    "      * `다양한 소스`에서 `데이터`를 `수집`하거나 `합성 데이터`를 `생성`하여 달성 가능\n",
    "\n",
    "    * **`품질 및 크기`**\n",
    "      * 목표: `유의미한 통찰력`을 제공할 만큼 충분히 `크지만`, `다루기 힘들 정도로 크지 않은 데이터 세트`\n",
    "      * 데이터가 `고품질`이고 평가하려는 `실제 상황`을 `정확하게 반영`하는지 확인"
   ]
  },
  {
   "cell_type": "markdown",
   "id": "36d9cb34",
   "metadata": {},
   "source": [
    "---"
   ]
  },
  {
   "cell_type": "markdown",
   "id": "cb6b5f79",
   "metadata": {},
   "source": [
    "* **`Ragas 구성 요소`**\n",
    "\n",
    "  * **`프롬프트 객체`**: 다양한 지표 및 합성 데이터 생성 작업 내에서 사용\n",
    "    * **`Instruction`** (`지시`)\n",
    "      * 모든 프롬프트의 기본 요소인 지시는 언어 모델(LLM)이 수행해야 하는 작업을 명확하게 설명하는 자연어 지시어\n",
    "      * instruction프롬프트 객체 내의 변수를 사용 → 지정\n",
    "\n",
    "    * **`Few-Shot Examples`** (`소수 예시`)\n",
    "      * `LLM`은 소수 예시를 제공받을 때 더 나은 성능을 보이는 것으로 알려져 있음\n",
    "      * `Few-shot Examples`: 모델이 작업 맥락을 이해하고 더 정확한 응답을 생성하는 데 도움이 되기 때문\n",
    "        * **`examples프롬프트 객체의 변수`를 사용 → 지정** \n",
    "        * 각 예시는 `입력`과 `해당 출력`으로 구성되며, `LLM`은 이를 사용하여 작업을 `학습`함\n",
    "\n",
    "    * **`Input Model`** (`입력 모델`)\n",
    "      * 모든 프롬프트는 `입력`을 통해 `출력`을 `생성`\n",
    "      * Ragas에서 이 입력의 예상 형식: **`input_model변수`를 사용 → 정의**\n",
    "      * 입력의 구조를 개략적으로 보여주는 `Pydantic 모델`: 프롬프트에 제공된 `데이터의 유효성 검사` 및 `구문 분석 가능`\n",
    "\n",
    "    * **`Output Model`** (`출력 모델`)\n",
    "      * 프롬프트 실행 → 출력 생성됨 \n",
    "      * 이 출력의 형식: **`output_model프롬프트` 객체의 변수 사용 → 지정** \n",
    "      * 입력 모델과 마찬가지로 출력 모델은 `출력의 구조`를 정의하는 `Pydantic 모델`: `LLM`에서 생성된 데이터의 `유효성 검사` 및 `구문 분석`을 용이하게 함\n",
    "\n",
    "<br>\n",
    "\n",
    "* \n",
    "  * **`평가 샘플`**\n",
    "    * **`SingleTurnSample`**\n",
    "      * 사용자, LLM, 그리고 예상 평가 결과 간의 `단일 턴 상호작용`을 나타냄\n",
    "      * 단일 질문과 답변 쌍을 포함하는 평가에 적합하며, 추가적인 맥락이나 참조 정보가 포함됨\n",
    "      * 코드 예시\n",
    "\n",
    "      ```python\n",
    "\n",
    "        from ragas import SingleTurnSample\n",
    "\n",
    "        # User's question\n",
    "        user_input = \"What is the capital of France?\"\n",
    "\n",
    "        # Retrieved contexts (e.g., from a knowledge base or search engine)\n",
    "        retrieved_contexts = [\"Paris is the capital and most populous city of France.\"]\n",
    "\n",
    "        # AI's response\n",
    "        response = \"The capital of France is Paris.\"\n",
    "\n",
    "        # Reference answer (ground truth)\n",
    "        reference = \"Paris\"\n",
    "\n",
    "        # Evaluation rubric\n",
    "        rubric = {\n",
    "            \"accuracy\": \"Correct\",\n",
    "            \"completeness\": \"High\",\n",
    "            \"fluency\": \"Excellent\"\n",
    "        }\n",
    "\n",
    "        # Create the SingleTurnSample instance\n",
    "        sample = SingleTurnSample(\n",
    "            user_input=user_input,\n",
    "            retrieved_contexts=retrieved_contexts,\n",
    "            response=response,\n",
    "            reference=reference,\n",
    "            rubric=rubric\n",
    "        )\n",
    "\n",
    "      ```\n",
    "\n",
    "    * **`MultiTurnSample`**\n",
    "      * `인간`, `AI`, 그리고 `선택적으로 도구 간`의 `다중 턴 상호작용`과 `평가`를 위한 예상 결과\n",
    "      * 평가를 위해 더 복잡한 상호작용에서 대화형 에이전트를 표현하는 데 적합함\n",
    "        * **`user_input` 속성** = `인간 사용자`와 `AI` 시스템 간의 다중 턴 대화를 구성하는 *`일련의 메시지`*\n",
    "        * *`일련의 메시지`* = **`HumanMessage`, `AIMessage`, `ToolMessage` class**\n",
    "      * 코드 예시\n",
    "\n",
    "      ```python\n",
    "\n",
    "        # 뉴욕시의 현재 날씨를 알고 싶어하는 사용자 → AI 비서 → 날씨 API 도구 사용 → 정보 가져옴 → 사용자에게 응답하기\n",
    "\n",
    "        from ragas.messages import HumanMessage, AIMessage, ToolMessage, ToolCall\n",
    "\n",
    "        # User asks about the weather in New York City\n",
    "        user_message = HumanMessage(content=\"What's the weather like in New York City today?\")\n",
    "\n",
    "        # AI decides to use a weather API tool to fetch the information\n",
    "        ai_initial_response = AIMessage(\n",
    "            content=\"Let me check the current weather in New York City for you.\",\n",
    "            tool_calls=[ToolCall(name=\"WeatherAPI\", args={\"location\": \"New York City\"})]\n",
    "        )\n",
    "\n",
    "        # Tool provides the weather information\n",
    "        tool_response = ToolMessage(content=\"It's sunny with a temperature of 75°F in New York City.\")\n",
    "\n",
    "        # AI delivers the final response to the user\n",
    "        ai_final_response = AIMessage(content=\"It's sunny and 75 degrees Fahrenheit in New York City today.\")\n",
    "\n",
    "        # Combine all messages into a list to represent the conversation\n",
    "        conversation = [\n",
    "            user_message,\n",
    "            ai_initial_response,\n",
    "            tool_response,\n",
    "            ai_final_response\n",
    "          ]\n",
    "\n",
    "        # 대화를 사용하여 참조 응답과 평가 기준을 포함한 MultiTurnSample 객체 만들기\n",
    "        \n",
    "        from ragas import MultiTurnSample\n",
    "\n",
    "        # Reference response for evaluation purposes\n",
    "        reference_response = \"Provide the current weather in New York City to the user.\"\n",
    "\n",
    "        # Create the MultiTurnSample instance\n",
    "        sample = MultiTurnSample(\n",
    "            user_input=conversation,\n",
    "            reference=reference_response,\n",
    "        )\n",
    "\n",
    "      ```\n",
    "\n",
    "\n",
    "<br>\n",
    "\n",
    "* \n",
    "  * **`평가 데이터 세트`**\n",
    "    * `AI 애플리케이션`의 성능과 기능을 평가하기 위해 설계된 `동질적인 데이터 샘플 모음`\n",
    "    * `Ragas` 평가 데이터 세트: `EvaluationDataset` 클래스 사용 → 표현 → 평가 목적으로 데이터 샘플을 구성하고 관리하는 체계적인 방법 제공\n",
    "\n",
    "    * **`SingleTurnSample` → `평가 데이터 세트 만들기`**: *개별 샘플 생성 → 데이터세트로 조립 → 기본 작업 수행*\n",
    "      * **a. `필요한 클래스 가져오기`**: 모듈에서 `SingleTurnSample` 및 `EvaluationDataset` `클래스` 가져옴\n",
    "      ```python\n",
    "\n",
    "      from ragas import SingleTurnSample, EvaluationDataset\n",
    "\n",
    "      ``` \n",
    "\n",
    "      * **b. `개별 샘플 만들기`**: 개별 평가 샘플을 나타내는 `여러 개`의 `SingleTurnSample 인스턴스` 만들기\n",
    "      ```python\n",
    "\n",
    "      # Sample 1\n",
    "      sample1 = SingleTurnSample(\n",
    "          user_input=\"What is the capital of Germany?\",\n",
    "          retrieved_contexts=[\"Berlin is the capital and largest city of Germany.\"],\n",
    "          response=\"The capital of Germany is Berlin.\",\n",
    "          reference=\"Berlin\",\n",
    "      )\n",
    "\n",
    "      # Sample 2\n",
    "      sample2 = SingleTurnSample(\n",
    "          user_input=\"Who wrote 'Pride and Prejudice'?\",\n",
    "          retrieved_contexts=[\"'Pride and Prejudice' is a novel by Jane Austen.\"],\n",
    "          response=\"'Pride and Prejudice' was written by Jane Austen.\",\n",
    "          reference=\"Jane Austen\",\n",
    "      )\n",
    "\n",
    "      # Sample 3\n",
    "      sample3 = SingleTurnSample(\n",
    "          user_input=\"What's the chemical formula for water?\",\n",
    "          retrieved_contexts=[\"Water has the chemical formula H2O.\"],\n",
    "          response=\"The chemical formula for water is H2O.\",\n",
    "          reference=\"H2O\",\n",
    "      )\n",
    "\n",
    "      ``` \n",
    "\n",
    "      * **c. `EvaluationDataset 만들기`**: `SingleTurnSample` 인스턴스 목록 전달 → `EvaluationDataset` 만들기\n",
    "      ```python\n",
    "\n",
    "      dataset = EvaluationDataset(samples=[sample1, sample2, sample3])\n",
    "\n",
    "      ```\n",
    "    * **`Hugging Face 데이터세트` → `평가 데이터세트 로드하기`**\n",
    "      * `Hugging Face Datasets` 라이브러리와 같은 기존 데이터셋 소스에서 평가 데이터셋을 불러올 수 있음\n",
    "\n",
    "      * 기존의 `Hugging Face 평가 데이터셋` 로드 → `EvaluationDataset` 인스턴스 변환하는 방법\n",
    "        * 사용자 입력, 검색된 컨텍스트, 응답, 참조 등 평가에 필요한 필드가 데이터 세트에 포함되어 있는지 확인하기\n",
    "\n",
    "        ```python\n",
    "\n",
    "        from datasets import load_dataset\n",
    "\n",
    "        dataset = load_dataset(\"explodinggradients/amnesty_qa\",\"english_v3\")\n",
    "\n",
    "        ```\n",
    "\n",
    "        * `Ragas EvaluationDataset` 객체 = 데이터 세트 로드하기\n",
    "        \n",
    "        ```python\n",
    "\n",
    "        from ragas import EvaluationDataset\n",
    "\n",
    "        eval_dataset = EvaluationDataset.from_hf_dataset(dataset[\"eval\"])\n",
    "\n",
    "        ```"
   ]
  },
  {
   "cell_type": "markdown",
   "id": "f802a885",
   "metadata": {},
   "source": [
    "---"
   ]
  },
  {
   "cell_type": "markdown",
   "id": "bfb9c7b9",
   "metadata": {},
   "source": [
    "* **`환경 설정`**"
   ]
  },
  {
   "cell_type": "code",
   "execution_count": null,
   "id": "3acf7ae7",
   "metadata": {},
   "outputs": [],
   "source": [
    "# API 키를 환경변수로 관리하기 위한 설정 파일\n",
    "from dotenv import load_dotenv\n",
    "\n",
    "# API 키 정보 로드\n",
    "load_dotenv()                           # True"
   ]
  },
  {
   "cell_type": "code",
   "execution_count": null,
   "id": "d9d33436",
   "metadata": {},
   "outputs": [],
   "source": [
    "from langsmith import Client\n",
    "from langsmith import traceable\n",
    "\n",
    "import os\n",
    "\n",
    "# LangSmith 환경 변수 확인\n",
    "\n",
    "print(\"\\n--- LangSmith 환경 변수 확인 ---\")\n",
    "langchain_tracing_v2 = os.getenv('LANGCHAIN_TRACING_V2')\n",
    "langchain_project = os.getenv('LANGCHAIN_PROJECT')\n",
    "langchain_api_key_status = \"설정됨\" if os.getenv('LANGCHAIN_API_KEY') else \"설정되지 않음\" # API 키 값은 직접 출력하지 않음\n",
    "\n",
    "if langchain_tracing_v2 == \"true\" and os.getenv('LANGCHAIN_API_KEY') and langchain_project:\n",
    "    print(f\"✅ LangSmith 추적 활성화됨 (LANGCHAIN_TRACING_V2='{langchain_tracing_v2}')\")\n",
    "    print(f\"✅ LangSmith 프로젝트: '{langchain_project}'\")\n",
    "    print(f\"✅ LangSmith API Key: {langchain_api_key_status}\")\n",
    "    print(\"  -> 이제 LangSmith 대시보드에서 이 프로젝트를 확인해 보세요.\")\n",
    "else:\n",
    "    print(\"❌ LangSmith 추적이 완전히 활성화되지 않았습니다. 다음을 확인하세요:\")\n",
    "    if langchain_tracing_v2 != \"true\":\n",
    "        print(f\"  - LANGCHAIN_TRACING_V2가 'true'로 설정되어 있지 않습니다 (현재: '{langchain_tracing_v2}').\")\n",
    "    if not os.getenv('LANGCHAIN_API_KEY'):\n",
    "        print(\"  - LANGCHAIN_API_KEY가 설정되어 있지 않습니다.\")\n",
    "    if not langchain_project:\n",
    "        print(\"  - LANGCHAIN_PROJECT가 설정되어 있지 않습니다.\")"
   ]
  },
  {
   "cell_type": "markdown",
   "id": "ee3cee3b",
   "metadata": {},
   "source": [
    "<small>\n",
    "\n",
    "* 셀 출력\n",
    "\n",
    "    ```bash\n",
    "    --- LangSmith 환경 변수 확인 ---\n",
    "    ✅ LangSmith 추적 활성화됨 (LANGCHAIN_TRACING_V2='true')\n",
    "    ✅ LangSmith 프로젝트: 'LangChain-prantice'\n",
    "    ✅ LangSmith API Key: 설정됨\n",
    "    -> 이제 LangSmith 대시보드에서 이 프로젝트를 확인해 보세요.\n",
    "    ```"
   ]
  },
  {
   "cell_type": "code",
   "execution_count": null,
   "id": "cf1dc99b",
   "metadata": {},
   "outputs": [],
   "source": [
    "# 데이터 로드하기\n",
    "import pandas as pd\n",
    "\n",
    "df = pd.read_csv(\"../15_Evaluations/data/ragas_synthetic_dataset.csv\")\n",
    "df.head()"
   ]
  },
  {
   "cell_type": "markdown",
   "id": "375dc584",
   "metadata": {},
   "source": [
    "<small>\n",
    "\n",
    "* **`df.head()`** - (`0.8s`)\n",
    "\n",
    "  * ![`df.head()`](../15_Evaluations/assets/df_head_1.png)"
   ]
  },
  {
   "cell_type": "markdown",
   "id": "dcfc5260",
   "metadata": {},
   "source": [
    "#### **1) `googletrans를 활용한 번역`**"
   ]
  },
  {
   "cell_type": "markdown",
   "id": "522805eb",
   "metadata": {},
   "source": [
    "* [`DeepL API Key`](https://www.deepl.com/ko/your-account/keys) 발급\n",
    "  * `API` 발급에서 결제, `IP` 우회 등 여러 문제 발생 \n",
    "\n",
    "* **`goolgletrans`를 활용한 번역**\n",
    "  * 사전에 `VS Code` 터미널에 설치할 것\n",
    "```bash\n",
    "            pip install googletrans\n",
    "```"
   ]
  },
  {
   "cell_type": "code",
   "execution_count": null,
   "id": "16801599",
   "metadata": {},
   "outputs": [],
   "source": [
    "# googletrans로 번역\n",
    "\n",
    "import pandas as pd\n",
    "from googletrans import Translator\n",
    "from tqdm import tqdm\n",
    "import time\n",
    "\n",
    "# Translator 생성\n",
    "translator = Translator()\n",
    "print(\"✅ googletrans 번역 시작\")"
   ]
  },
  {
   "cell_type": "markdown",
   "id": "bee9d6c4",
   "metadata": {},
   "source": [
    "<small>\n",
    "\n",
    "* **`✅ googletrans 번역 시작`** - (`1.3s`)"
   ]
  },
  {
   "cell_type": "code",
   "execution_count": null,
   "id": "174ee79e",
   "metadata": {},
   "outputs": [],
   "source": [
    "# DataFrame 로드\n",
    "df = pd.read_csv(\"data/ragas_synthetic_dataset.csv\")"
   ]
  },
  {
   "cell_type": "code",
   "execution_count": null,
   "id": "d0be3dfb",
   "metadata": {},
   "outputs": [],
   "source": [
    "print(df.head())"
   ]
  },
  {
   "cell_type": "markdown",
   "id": "f9f916f8",
   "metadata": {},
   "source": [
    "<small>\n",
    "\n",
    "* **`print(df.head())`**\n",
    "\n",
    "    ```markdown\n",
    "\n",
    "    user_input  \\\n",
    "    0  미국 바이든 대통령은 안전하고 신뢰할 수 있는 AI 개발과 사용에 관한 행정명령을 ...   \n",
    "    1  AI의 안전과 보안 기준 마련과 관련하여, 미국 정부에 정보 공유를 요구받는 컴퓨팅...   \n",
    "    2  미국 행정명령은 AI가 사회 전반에 미치는 영향을 고려하여 어떤 분야에서 형평성과 ...   \n",
    "    3            G7이 AI 기업을 대상으로 마련한 국제 행동강령의 명칭은 무엇인가요?   \n",
    "    4    AI 국제 행동강령에서 AI 수명주기 전반에 걸쳐 요구하는 주요 조치들은 무엇인가요?   \n",
    "\n",
    "                                            reference  \\\n",
    "    0                                      2023년 10월 30일   \n",
    "    1  단일 데이터센터에서 1,000Gbit/s 이상의 네트워킹으로 연결되며 AI 훈련에서...   \n",
    "    2  법률, 주택, 보건 분야에서 AI의 무책임한 사용으로 인한 차별과 편견 및 기타 문...   \n",
    "    3  AI 국제 행동강령(International Code of Conduct for A...   \n",
    "    4  AI 수명주기 전반에 걸쳐 위험을 평가 및 완화하고, 출시 및 배포 이후 취약점, ...   \n",
    "\n",
    "                                    reference_contexts synthesizer_name  \n",
    "    0  ['미국 바이든 대통령이 2023년 10월 30일 연방정부 차원에서 안전하고 신뢰할...           simple  \n",
    "    1  ['△1026 플롭스(FLOPS, Floating Point Operation Pe...        reasoning  \n",
    "    2  ['행정명령은 △AI의 안전과 보안 기준 마련 △개인정보보호 △형평성과 시민권 향상...    multi_context  \n",
    "    3  ['G7이 첨단 AI 시스템을 개발하는 기업을 대상으로 AI 위험 식별과 완화를 위...           simple  \n",
    "    4  ['행동강령은 AI 수명주기 전반에 걸친 위험 평가와 완화, 투명성과 책임성의 보장...        reasoning\n",
    "\n",
    "    ```"
   ]
  },
  {
   "cell_type": "code",
   "execution_count": null,
   "id": "5a22aa4d",
   "metadata": {},
   "outputs": [],
   "source": [
    "# 데이터프레임의 컬럼명 출력\n",
    "print(df.columns)"
   ]
  },
  {
   "cell_type": "markdown",
   "id": "34e5a989",
   "metadata": {},
   "source": [
    "<small>\n",
    "\n",
    "* **`print(df.columns)`**\n",
    "\n",
    "    ```python\n",
    "        Index(['user_input', 'reference', 'reference_contexts', 'synthesizer_name'], dtype='object')\n",
    "    ```"
   ]
  },
  {
   "cell_type": "code",
   "execution_count": null,
   "id": "bab49823",
   "metadata": {},
   "outputs": [],
   "source": [
    "# 컬럼 확인\n",
    "\n",
    "print(\"✅ 현재 컬럼명:\")\n",
    "print(df.columns.tolist())\n",
    "print(f\"\\n✅ 데이터 수: {len(df)}개\")\n",
    "print(\"\\n샘플 데이터:\")\n",
    "print(df.head())"
   ]
  },
  {
   "cell_type": "markdown",
   "id": "76273131",
   "metadata": {},
   "source": [
    "<small>\n",
    "\n",
    "* ✅ 현재 컬럼명:\n",
    "\n",
    "```python\n",
    "        ['user_input', 'reference', 'reference_contexts', 'synthesizer_name']\n",
    "```\n",
    "\n",
    "* ✅ 데이터 수: 9개\n",
    "\n",
    "```markdown\n",
    "        샘플 데이터:\n",
    "                                                user_input  \\\n",
    "        0  미국 바이든 대통령은 안전하고 신뢰할 수 있는 AI 개발과 사용에 관한 행정명령을 ...   \n",
    "        1  AI의 안전과 보안 기준 마련과 관련하여, 미국 정부에 정보 공유를 요구받는 컴퓨팅...   \n",
    "        2  미국 행정명령은 AI가 사회 전반에 미치는 영향을 고려하여 어떤 분야에서 형평성과 ...   \n",
    "        3            G7이 AI 기업을 대상으로 마련한 국제 행동강령의 명칭은 무엇인가요?   \n",
    "        4    AI 국제 행동강령에서 AI 수명주기 전반에 걸쳐 요구하는 주요 조치들은 무엇인가요?   \n",
    "\n",
    "                                                reference  \\\n",
    "        0                                      2023년 10월 30일   \n",
    "        1  단일 데이터센터에서 1,000Gbit/s 이상의 네트워킹으로 연결되며 AI 훈련에서...   \n",
    "        2  법률, 주택, 보건 분야에서 AI의 무책임한 사용으로 인한 차별과 편견 및 기타 문...   \n",
    "        3  AI 국제 행동강령(International Code of Conduct for A...   \n",
    "        4  AI 수명주기 전반에 걸쳐 위험을 평가 및 완화하고, 출시 및 배포 이후 취약점, ...   \n",
    "\n",
    "                                        reference_contexts synthesizer_name  \n",
    "        0  ['미국 바이든 대통령이 2023년 10월 30일 연방정부 차원에서 안전하고 신뢰할...           simple  \n",
    "        1  ['△1026 플롭스(FLOPS, Floating Point Operation Pe...        reasoning  \n",
    "        2  ['행정명령은 △AI의 안전과 보안 기준 마련 △개인정보보호 △형평성과 시민권 향상...    multi_context  \n",
    "        3  ['G7이 첨단 AI 시스템을 개발하는 기업을 대상으로 AI 위험 식별과 완화를 위...           simple  \n",
    "        4  ['행동강령은 AI 수명주기 전반에 걸친 위험 평가와 완화, 투명성과 책임성의 보장...        reasoning\n",
    "```"
   ]
  },
  {
   "cell_type": "code",
   "execution_count": null,
   "id": "d09653c9",
   "metadata": {},
   "outputs": [],
   "source": [
    "# Translator 생성\n",
    "translator = Translator()\n",
    "print(\"✅ googletrans 3.1.0a0 번역 시작\")"
   ]
  },
  {
   "cell_type": "markdown",
   "id": "89dca3cb",
   "metadata": {},
   "source": [
    "<small>\n",
    "\n",
    "* **`✅ googletrans 3.1.0a0 번역 시작`** "
   ]
  },
  {
   "cell_type": "code",
   "execution_count": null,
   "id": "915cee7f",
   "metadata": {},
   "outputs": [],
   "source": [
    "# 번역 함수\n",
    "def translate_text(text):\n",
    "    \"\"\"googletrans로 영어 → 한국어 번역\"\"\"\n",
    "    if pd.isna(text) or text == \"\":\n",
    "        return text\n",
    "    \n",
    "    try:\n",
    "        result = translator.translate(text, src='en', dest='ko')\n",
    "        return result.text\n",
    "    except Exception as e:\n",
    "        print(f\"⚠️ 번역 실패: {e}\")\n",
    "        time.sleep(1)\n",
    "        try:\n",
    "            result = translator.translate(text, src='en', dest='ko')\n",
    "            return result.text\n",
    "        except:\n",
    "            return text"
   ]
  },
  {
   "cell_type": "code",
   "execution_count": null,
   "id": "2e606d80",
   "metadata": {},
   "outputs": [],
   "source": [
    "# 번역 실행\n",
    "print(\"\\n⏳ 번역 진행 중...\")\n",
    "\n",
    "for i, row in tqdm(df.iterrows(), total=len(df), desc=\"번역 진행 중\"):\n",
    "    # user_input 번역\n",
    "    if pd.notna(row[\"user_input\"]):\n",
    "        df.loc[i, \"user_input_translated\"] = translate_text(row[\"user_input\"])\n",
    "    \n",
    "    # reference 번역\n",
    "    if pd.notna(row[\"reference\"]):\n",
    "        df.loc[i, \"reference_translated\"] = translate_text(row[\"reference\"])\n",
    "    \n",
    "    time.sleep(0.2)\n",
    "\n",
    "print(\"\\n✅ 번역 완료!\")"
   ]
  },
  {
   "cell_type": "markdown",
   "id": "cbc85c56",
   "metadata": {},
   "source": [
    "<small>\n",
    "\n",
    "* **`googletrans`** - (`19.9s`)\n",
    "\n",
    "    ```markdown\n",
    "\n",
    "    ⏳ 번역 진행 중...\n",
    "    번역 진행 중:   0%|          | 0/9 [00:00<?, ?it/s]⚠️ 번역 실패: 'coroutine' object has no attribute 'text'\n",
    "    ⚠️ 번역 실패: 'coroutine' object has no attribute 'text'\n",
    "    번역 진행 중:  11%|█         | 1/9 [00:02<00:17,  2.22s/it]⚠️ 번역 실패: 'coroutine' object has no attribute 'text'\n",
    "    ⚠️ 번역 실패: 'coroutine' object has no attribute 'text'\n",
    "    번역 진행 중:  22%|██▏       | 2/9 [00:04<00:15,  2.21s/it]⚠️ 번역 실패: 'coroutine' object has no attribute 'text'\n",
    "    ⚠️ 번역 실패: 'coroutine' object has no attribute 'text'\n",
    "    번역 진행 중:  33%|███▎      | 3/9 [00:06<00:13,  2.22s/it]⚠️ 번역 실패: 'coroutine' object has no attribute 'text'\n",
    "    ⚠️ 번역 실패: 'coroutine' object has no attribute 'text'\n",
    "    번역 진행 중:  44%|████▍     | 4/9 [00:08<00:11,  2.21s/it]⚠️ 번역 실패: 'coroutine' object has no attribute 'text'\n",
    "    ⚠️ 번역 실패: 'coroutine' object has no attribute 'text'\n",
    "    번역 진행 중:  56%|█████▌    | 5/9 [00:11<00:08,  2.21s/it]⚠️ 번역 실패: 'coroutine' object has no attribute 'text'\n",
    "    ⚠️ 번역 실패: 'coroutine' object has no attribute 'text'\n",
    "    번역 진행 중:  67%|██████▋   | 6/9 [00:13<00:06,  2.21s/it]⚠️ 번역 실패: 'coroutine' object has no attribute 'text'\n",
    "    ⚠️ 번역 실패: 'coroutine' object has no attribute 'text'\n",
    "    번역 진행 중:  78%|███████▊  | 7/9 [00:15<00:04,  2.21s/it]⚠️ 번역 실패: 'coroutine' object has no attribute 'text'\n",
    "    ⚠️ 번역 실패: 'coroutine' object has no attribute 'text'\n",
    "    번역 진행 중:  89%|████████▉ | 8/9 [00:17<00:02,  2.21s/it]⚠️ 번역 실패: 'coroutine' object has no attribute 'text'\n",
    "    ⚠️ 번역 실패: 'coroutine' object has no attribute 'text'\n",
    "    번역 진행 중: 100%|██████████| 9/9 [00:19<00:00,  2.22s/it]\n",
    "    ✅ 번역 완료!\n",
    "\n",
    "    ```"
   ]
  },
  {
   "cell_type": "markdown",
   "id": "4ca54d49",
   "metadata": {},
   "source": [
    "* **`📊 문제 분석`**\n",
    "\n",
    "  * `asynco`, `await` 기능 필요 → **`번역 실패`**\n",
    "\n",
    "  * → `llm` 사용해서 번역하는 것으로 방향 바꾸기"
   ]
  },
  {
   "cell_type": "markdown",
   "id": "10d95d6a",
   "metadata": {},
   "source": [
    "---"
   ]
  },
  {
   "cell_type": "markdown",
   "id": "af91d37b",
   "metadata": {},
   "source": [
    "#### **2) `Groq으로 번역하기`**"
   ]
  },
  {
   "cell_type": "code",
   "execution_count": null,
   "id": "88535ced",
   "metadata": {},
   "outputs": [],
   "source": [
    "from langchain_groq import ChatGroq\n",
    "from dotenv import load_dotenv\n",
    "import os\n",
    "\n",
    "from dotenv import load_dotenv\n",
    "import os \n",
    "import warnings                             \n",
    "warnings.filterwarnings(\"ignore\")               # 경고 메시지 무시\n",
    "\n",
    "# API 키 확인 (GROQ_API_KEY로 변경)\n",
    "if not os.getenv(\"GROQ_API_KEY\"):        # 환경 변수에서 로드하거나 사용자에게 입력 요청\n",
    "    api_key = os.getenv(\"GROQ_API_KEY\")        \n",
    "    \n",
    "    if not api_key:        \n",
    "        print(\"GROQ_API_KEY 환경 변수를 설정해주세요.\")\n",
    "\n",
    "# ChatGroq 사용\n",
    "llm = ChatGroq(\n",
    "    model=\"llama-3.1-8b-instant\",\n",
    "    temperature=0)                       # 0.1s"
   ]
  },
  {
   "cell_type": "code",
   "execution_count": null,
   "id": "9be117b7",
   "metadata": {},
   "outputs": [],
   "source": [
    "print(\"\\n✅ Groq 번역 시작\")\n",
    "\n",
    "# 번역 함수\n",
    "def translate_text(text):\n",
    "    \"\"\"Gemini로 영어 → 한국어 번역\"\"\"\n",
    "    if pd.isna(text) or text == \"\":\n",
    "        return text\n",
    "    \n",
    "    try:\n",
    "        prompt = f\"다음 영어 문장을 자연스러운 한국어로 번역하세요. 번역 결과만 출력하세요:\\n\\n{text}\"\n",
    "        result = llm.invoke(prompt)\n",
    "        return result.content.strip()\n",
    "    except Exception as e:\n",
    "        print(f\"⚠️ 번역 실패: {e}\")\n",
    "        return text"
   ]
  },
  {
   "cell_type": "markdown",
   "id": "8615b510",
   "metadata": {},
   "source": [
    "<small>\n",
    "\n",
    "* **`✅ Groq 번역 시작`**"
   ]
  },
  {
   "cell_type": "code",
   "execution_count": null,
   "id": "155310aa",
   "metadata": {},
   "outputs": [],
   "source": [
    "# 번역 실행\n",
    "print(\"\\n⏳ 번역 진행 중...\")\n",
    "\n",
    "for i, row in tqdm(df.iterrows(), total=len(df), desc=\"번역 진행 중\"):\n",
    "    # user_input 번역\n",
    "    if pd.notna(row[\"user_input\"]):\n",
    "        translated = translate_text(row[\"user_input\"])\n",
    "        df.loc[i, \"user_input_translated\"] = translated\n",
    "    \n",
    "    # reference 번역\n",
    "    if pd.notna(row[\"reference\"]):\n",
    "        translated = translate_text(row[\"reference\"])\n",
    "        df.loc[i, \"reference_translated\"] = translated\n",
    "\n",
    "print(\"\\n✅ 번역 완료!\")"
   ]
  },
  {
   "cell_type": "markdown",
   "id": "c5d26644",
   "metadata": {},
   "source": [
    "<small>\n",
    "\n",
    "* **`번역 완료`** - (`5.8s`)\n",
    "\n",
    "    ```markdown\n",
    "\n",
    "    ⏳ 번역 진행 중...\n",
    "    번역 진행 중: 100%|██████████| 9/9 [00:05<00:00,  1.54it/s]\n",
    "    ✅ 번역 완료!\n",
    "\n",
    "    ```"
   ]
  },
  {
   "cell_type": "code",
   "execution_count": null,
   "id": "98ee6796",
   "metadata": {},
   "outputs": [],
   "source": [
    "# 번역 전 확인\n",
    "print(\"\\n📋 번역 전:\")\n",
    "print(df[['user_input', 'reference']].head())"
   ]
  },
  {
   "cell_type": "markdown",
   "id": "c8d4e911",
   "metadata": {},
   "source": [
    "<small>\n",
    "\n",
    "* **`번역 전`**\n",
    "\n",
    "    ```markdown\n",
    "\n",
    "    📋 번역 전:\n",
    "                                            user_input  \\\n",
    "    0  미국 바이든 대통령은 안전하고 신뢰할 수 있는 AI 개발과 사용에 관한 행정명령을 ...   \n",
    "    1  AI의 안전과 보안 기준 마련과 관련하여, 미국 정부에 정보 공유를 요구받는 컴퓨팅...   \n",
    "    2  미국 행정명령은 AI가 사회 전반에 미치는 영향을 고려하여 어떤 분야에서 형평성과 ...   \n",
    "    3            G7이 AI 기업을 대상으로 마련한 국제 행동강령의 명칭은 무엇인가요?   \n",
    "    4    AI 국제 행동강령에서 AI 수명주기 전반에 걸쳐 요구하는 주요 조치들은 무엇인가요?   \n",
    "\n",
    "                                            reference  \n",
    "    0                                      2023년 10월 30일  \n",
    "    1  단일 데이터센터에서 1,000Gbit/s 이상의 네트워킹으로 연결되며 AI 훈련에서...  \n",
    "    2  법률, 주택, 보건 분야에서 AI의 무책임한 사용으로 인한 차별과 편견 및 기타 문...  \n",
    "    3  AI 국제 행동강령(International Code of Conduct for A...  \n",
    "    4  AI 수명주기 전반에 걸쳐 위험을 평가 및 완화하고, 출시 및 배포 이후 취약점, ...\n",
    "\n",
    "    ```"
   ]
  },
  {
   "cell_type": "code",
   "execution_count": null,
   "id": "7f0c9014",
   "metadata": {},
   "outputs": [],
   "source": [
    "# 번역 후 확인\n",
    "print(\"\\n📋 번역 후:\")\n",
    "print(df[['user_input_translated', 'reference_translated']].head())"
   ]
  },
  {
   "cell_type": "markdown",
   "id": "1800ad5e",
   "metadata": {},
   "source": [
    "<small>\n",
    "\n",
    "* **`번역 후`**\n",
    "\n",
    "    ```markdown\n",
    "\n",
    "    📋 번역 후:\n",
    "                                user_input_translated  \\\n",
    "    0  미국 바이든 대통령은 안전하고 신뢰할 수 있는 AI 개발과 사용에 관한 행정명령을 ...   \n",
    "    1  AI의 안전과 보안 기준 마련과 관련하여, 미국 정부에 정보 공유를 요구받는 컴퓨팅...   \n",
    "    2  미국 행정명령은 AI가 사회 전반에 미치는 영향을 고려하여 어떤 분야에서 형평성과 ...   \n",
    "    3  G7이 AI 기업을 대상으로 마련한 국제 행동강령의 명칭은 'AI 비즈니스 코드'입니다.   \n",
    "    4  AI 국제 행동강령에서 AI 수명주기 전반에 걸쳐 요구하는 주요 조치들은 AI 개발...   \n",
    "\n",
    "                                    reference_translated  \n",
    "    0                                      2023년 10월 30일  \n",
    "    1  단일 데이터센터에서 1,000Gbit/s 이상의 네트워킹으로 연결되며 AI 훈련에서...  \n",
    "    2  법률, 주택, 보건 분야에서 AI의 무책임한 사용으로 인한 차별과 편견 및 기타 문...  \n",
    "    3                        고급 인공지능 시스템에 대한 국제 행동강령입니다.  \n",
    "    4  AI 수명주기 전반에 걸쳐 위험을 평가 및 완화하고, 출시 및 배포 이후 취약점, ...\n",
    "\n",
    "    ```"
   ]
  },
  {
   "cell_type": "code",
   "execution_count": null,
   "id": "7eeb9b73",
   "metadata": {},
   "outputs": [],
   "source": [
    "# 컬럼 정리\n",
    "df.drop(columns=[\"user_input\", \"reference\"], inplace=True)\n",
    "\n",
    "df.rename(\n",
    "    columns={\n",
    "        \"user_input_translated\": \"user_input\",\n",
    "        \"reference_translated\": \"reference\",\n",
    "    },\n",
    "    inplace=True,\n",
    ")"
   ]
  },
  {
   "cell_type": "code",
   "execution_count": null,
   "id": "d2dcf6fb",
   "metadata": {},
   "outputs": [],
   "source": [
    "# 저장\n",
    "df.to_csv(\"../15_Evaluations/data/ragas_synthetic_dataset_translated.csv\", index=False)\n",
    "\n",
    "print(\"\\n✅ 저장 완료!\")\n",
    "print(f\"파일 경로: data/ragas_synthetic_dataset_translated.csv\")\n",
    "print(\"\\n최종 데이터:\")\n",
    "print(df[['user_input', 'reference']].head())"
   ]
  },
  {
   "cell_type": "markdown",
   "id": "c90a227c",
   "metadata": {},
   "source": [
    "<small>\n",
    "\n",
    "* **`저장 완료`**\n",
    "\n",
    "    ```markdown\n",
    "\n",
    "    ✅ 저장 완료!\n",
    "    파일 경로: data/ragas_synthetic_dataset_translated.csv\n",
    "\n",
    "    최종 데이터:\n",
    "                                            user_input  \\\n",
    "    0  미국 바이든 대통령은 안전하고 신뢰할 수 있는 AI 개발과 사용에 관한 행정명령을 ...   \n",
    "    1  AI의 안전과 보안 기준 마련과 관련하여, 미국 정부에 정보 공유를 요구받는 컴퓨팅...   \n",
    "    2  미국 행정명령은 AI가 사회 전반에 미치는 영향을 고려하여 어떤 분야에서 형평성과 ...   \n",
    "    3  G7이 AI 기업을 대상으로 마련한 국제 행동강령의 명칭은 'AI 비즈니스 코드'입니다.   \n",
    "    4  AI 국제 행동강령에서 AI 수명주기 전반에 걸쳐 요구하는 주요 조치들은 AI 개발...   \n",
    "\n",
    "                                            reference  \n",
    "    0                                      2023년 10월 30일  \n",
    "    1  단일 데이터센터에서 1,000Gbit/s 이상의 네트워킹으로 연결되며 AI 훈련에서...  \n",
    "    2  법률, 주택, 보건 분야에서 AI의 무책임한 사용으로 인한 차별과 편견 및 기타 문...  \n",
    "    3                        고급 인공지능 시스템에 대한 국제 행동강령입니다.  \n",
    "    4  AI 수명주기 전반에 걸쳐 위험을 평가 및 완화하고, 출시 및 배포 이후 취약점, ...\n",
    "\n",
    "    ```"
   ]
  },
  {
   "cell_type": "markdown",
   "id": "475d2577",
   "metadata": {},
   "source": [
    "---"
   ]
  },
  {
   "cell_type": "markdown",
   "id": "3f7a022c",
   "metadata": {},
   "source": [
    "#### **4) `Hugging Face Dataset 업로드`**"
   ]
  },
  {
   "cell_type": "markdown",
   "id": "66e47f6e",
   "metadata": {},
   "source": [
    "* **`Pandas DataFrame` → `Hugging Face Dataset`으로 변환 → 업로드 진행해보기**"
   ]
  },
  {
   "cell_type": "code",
   "execution_count": null,
   "id": "c21b7a01",
   "metadata": {},
   "outputs": [],
   "source": [
    "from datasets import Dataset\n",
    "\n",
    "# pandas DataFrame을 Hugging Face Dataset으로 변환\n",
    "dataset = Dataset.from_pandas(df)\n",
    "\n",
    "# 데이터셋 확인\n",
    "print(dataset)"
   ]
  },
  {
   "cell_type": "markdown",
   "id": "e59e5755",
   "metadata": {},
   "source": [
    "<small>\n",
    "\n",
    "* **`pandas DataFrame` → `Hugging Face Dataset`**\n",
    "\n",
    "    ```bash\n",
    "\n",
    "        Dataset({\n",
    "            features: ['reference_contexts', 'synthesizer_name', 'user_input', 'reference', 'user_input_translated', 'reference_translated'],\n",
    "            num_rows: 9\n",
    "        })\n",
    "\n",
    "    ```"
   ]
  },
  {
   "cell_type": "code",
   "execution_count": null,
   "id": "765c33c6",
   "metadata": {},
   "outputs": [],
   "source": [
    "print(type(dataset))        # <class 'datasets.arrow_dataset.Dataset'>"
   ]
  },
  {
   "cell_type": "code",
   "execution_count": null,
   "id": "84c57e4a",
   "metadata": {},
   "outputs": [],
   "source": [
    "# 번역된 데이터 확인하기\n",
    "df_upload = df.copy()\n",
    "\n",
    "print(\"\\n✅ 업로드할 데이터:\")\n",
    "print(df_upload.head())"
   ]
  },
  {
   "cell_type": "markdown",
   "id": "cc7ad077",
   "metadata": {},
   "source": [
    "<small>\n",
    "\n",
    "* **`업로드할 데이터로 copy하기`**\n",
    "\n",
    "    ```markdown\n",
    "\n",
    "    ✅ 업로드할 데이터:\n",
    "                                    reference_contexts synthesizer_name  \\\n",
    "    0  ['미국 바이든 대통령이 2023년 10월 30일 연방정부 차원에서 안전하고 신뢰할...           simple   \n",
    "    1  ['△1026 플롭스(FLOPS, Floating Point Operation Pe...        reasoning   \n",
    "    2  ['행정명령은 △AI의 안전과 보안 기준 마련 △개인정보보호 △형평성과 시민권 향상...    multi_context   \n",
    "    3  ['G7이 첨단 AI 시스템을 개발하는 기업을 대상으로 AI 위험 식별과 완화를 위...           simple   \n",
    "    4  ['행동강령은 AI 수명주기 전반에 걸친 위험 평가와 완화, 투명성과 책임성의 보장...        reasoning   \n",
    "\n",
    "                                            user_input  \\\n",
    "    0  미국 바이든 대통령은 안전하고 신뢰할 수 있는 AI 개발과 사용에 관한 행정명령을 ...   \n",
    "    1  AI의 안전과 보안 기준 마련과 관련하여, 미국 정부에 정보 공유를 요구받는 컴퓨팅...   \n",
    "    2  미국 행정명령은 AI가 사회 전반에 미치는 영향을 고려하여 어떤 분야에서 형평성과 ...   \n",
    "    3  G7이 AI 기업을 대상으로 마련한 국제 행동강령의 명칭은 'AI 비즈니스 코드'입니다.   \n",
    "    4  AI 국제 행동강령에서 AI 수명주기 전반에 걸쳐 요구하는 주요 조치들은 AI 개발...   \n",
    "\n",
    "                                            reference  \\\n",
    "    0                                      2023년 10월 30일   \n",
    "    1  단일 데이터센터에서 1,000Gbit/s 이상의 네트워킹으로 연결되며 AI 훈련에서...   \n",
    "    2  법률, 주택, 보건 분야에서 AI의 무책임한 사용으로 인한 차별과 편견 및 기타 문...   \n",
    "    3                        고급 인공지능 시스템에 대한 국제 행동강령입니다.   \n",
    "    4  AI 수명주기 전반에 걸쳐 위험을 평가 및 완화하고, 출시 및 배포 이후 취약점, ...   \n",
    "\n",
    "                                user_input_translated  \\\n",
    "    0  미국 바이든 대통령은 안전하고 신뢰할 수 있는 AI 개발과 사용에 관한 행정명령을 ...   \n",
    "    1  AI의 안전과 보안 기준 마련과 관련하여, 미국 정부에 정보 공유를 요구받는 컴퓨팅...   \n",
    "    2  미국 행정명령은 AI가 사회 전반에 미치는 영향을 고려하여 어떤 분야에서 형평성과 ...   \n",
    "    3  G7이 AI 기업을 대상으로 마련한 국제 행동강령의 명칭은 'AI 비즈니스 코드'입니다.   \n",
    "    4  AI 국제 행동강령에서 AI 수명주기 전반에 걸쳐 요구하는 주요 조치들은 AI 개발...   \n",
    "\n",
    "                                    reference_translated  \n",
    "    0                                      2023년 10월 30일  \n",
    "    1  단일 데이터센터에서 1,000Gbit/s 이상의 네트워킹으로 연결되며 AI 훈련에서...  \n",
    "    2  법률, 주택, 보건 분야에서 AI의 무책임한 사용으로 인한 차별과 편견 및 기타 문...  \n",
    "    3                        고급 인공지능 시스템에 대한 국제 행동강령입니다.  \n",
    "    4  AI 수명주기 전반에 걸쳐 위험을 평가 및 완화하고, 출시 및 배포 이후 취약점, ...\n",
    "\n",
    "    ```"
   ]
  },
  {
   "cell_type": "code",
   "execution_count": null,
   "id": "15d2fcf4",
   "metadata": {},
   "outputs": [],
   "source": [
    "# HuggingFace Dataset으로 변환\n",
    "dataset = Dataset.from_pandas(df_upload)\n",
    "\n",
    "print(\"\\n✅ Dataset 변환 완료:\")\n",
    "print(dataset)\n",
    "print(f\"\\n특징: {dataset.features}\")\n",
    "print(f\"데이터 수: {dataset.num_rows}개\")"
   ]
  },
  {
   "cell_type": "markdown",
   "id": "ce203658",
   "metadata": {},
   "source": [
    "<small>\n",
    "\n",
    "* ✅ Dataset 변환 완료:\n",
    "\n",
    "    ```bash\n",
    "    Dataset({\n",
    "        features: ['reference_contexts', 'synthesizer_name', 'user_input', 'reference', 'user_input_translated', 'reference_translated'],\n",
    "        num_rows: 9\n",
    "    })\n",
    "    ```\n",
    "\n",
    "* 특징: \n",
    "\n",
    "    ```bash\n",
    "    {'reference_contexts': Value('string'), 'synthesizer_name': Value('string'), 'user_input': Value('string'), 'reference': Value('string'), 'user_input_translated': Value('string'), 'reference_translated': Value('string')}\n",
    "    ```\n",
    "\n",
    "* 데이터 수: 9개"
   ]
  },
  {
   "cell_type": "code",
   "execution_count": null,
   "id": "c8f2f6e4",
   "metadata": {},
   "outputs": [],
   "source": [
    "# ========================================\n",
    "# HuggingFace CLI 로그인 (권장!)\n",
    "# ========================================\n",
    "import os\n",
    "from dotenv import load_dotenv\n",
    "\n",
    "load_dotenv()\n",
    "\n",
    "# HuggingFace CLI 로그인\n",
    "from huggingface_hub import login\n",
    "\n",
    "# .env에서 토큰 가져오기\n",
    "token = os.getenv(\"HUGGINGFACEHUB_API_TOKEN\")\n",
    "\n",
    "print(f\"토큰: {token[:4]}...\" if token else \"❌ 토큰 없음\")\n",
    "\n",
    "# 로그인 시도\n",
    "try:\n",
    "    login(token=token)\n",
    "    print(\"✅ HuggingFace 로그인 성공!\")\n",
    "except Exception as e:\n",
    "    print(f\"❌ 로그인 실패: {e}\")"
   ]
  },
  {
   "cell_type": "markdown",
   "id": "30be32dc",
   "metadata": {},
   "source": [
    "<small>\n",
    "\n",
    "* 토큰: hf_c...\n",
    "\n",
    "* ✅ HuggingFace 로그인 성공!"
   ]
  },
  {
   "cell_type": "code",
   "execution_count": null,
   "id": "497ae7b9",
   "metadata": {},
   "outputs": [],
   "source": [
    "# ========================================\n",
    "# 토큰 직접 확인\n",
    "# ========================================\n",
    "import os\n",
    "from dotenv import load_dotenv\n",
    "\n",
    "load_dotenv()\n",
    "\n",
    "token = os.getenv(\"HUGGINGFACEHUB_API_TOKEN\")\n",
    "\n",
    "print(\"✅ 토큰 확인:\")\n",
    "print(f\"토큰 존재: {'예' if token else '아니오'}\")\n",
    "print(f\"토큰 길이: {len(token) if token else 0}자\")\n",
    "print(f\"토큰 앞부분: {token[:4] if token else '없음'}...\")\n",
    "print(f\"토큰 타입: {type(token)}\")\n",
    "\n",
    "# 토큰이 비어있는지 확인\n",
    "if not token or token == \"\" or token == \"None\":\n",
    "    print(\"\\n❌ 토큰이 비어있습니다!\")\n",
    "    print(\"\\n해결 방법:\")\n",
    "    print(\"1. HuggingFace에서 새 토큰 발급\")\n",
    "    print(\"2. .env 파일에 다음과 같이 저장:\")\n",
    "    print(\"   HUGGINGFACEHUB_API_TOKEN=hf_xxxxxxxxxxxxx\")\n",
    "    print(\"3. 주피터 노트북 재시작 (커널 재시작)\")\n",
    "else:\n",
    "    print(\"\\n✅ 토큰이 정상적으로 로드되었습니다!\")\n"
   ]
  },
  {
   "cell_type": "markdown",
   "id": "89d48fbc",
   "metadata": {},
   "source": [
    "<small>\n",
    "\n",
    "* ✅ 토큰 확인:\n",
    "* 토큰 존재: 예\n",
    "* 토큰 길이: 37자\n",
    "* 토큰 앞부분: `hf_c...`\n",
    "* 토큰 타입: <class 'str'>\n",
    "\n",
    "* ✅ 토큰이 정상적으로 로드되었습니다!"
   ]
  },
  {
   "cell_type": "code",
   "execution_count": null,
   "id": "eb145589",
   "metadata": {},
   "outputs": [],
   "source": [
    "# HuggingFace Hub 업로드\n",
    "dataset_name = \"livemylife23/rag-synthetic-dataset-korean\"\n",
    "\n",
    "print(f\"\\n⏳ 업로드 시도: {dataset_name}\")\n",
    "\n",
    "print(f\"\\n⏳ HuggingFace Hub 업로드 중...\")\n",
    "print(f\"데이터셋 이름: {dataset_name}\")\n",
    "\n",
    "try:\n",
    "    dataset.push_to_hub(\n",
    "        dataset_name,\n",
    "        private=True,           # private=False로 설정 → 공개\n",
    "        split=\"train\",          # 또는 \"korean_v1\", \"test\" 등\n",
    "        token=os.getenv(\"HUGGINGFACEHUB_API_TOKEN\"),\n",
    "    )\n",
    "    \n",
    "    print(\"\\n✅ 업로드 완료!\")\n",
    "    print(f\"\\n🔗 URL: https://huggingface.co/datasets/{dataset_name}\")\n",
    "    print(\"\\n📌 참고: Dataset Viewer는 표기되기까지 시간이 좀 걸릴 수 있습니다.\")\n",
    "    \n",
    "except Exception as e:\n",
    "    print(f\"\\n❌ 업로드 실패: {e}\")\n",
    "    print(\"\\n확인 사항:\")\n",
    "    print(\"1. HUGGINGFACEHUB_API_TOKEN이 .env 파일에 있는지\")\n",
    "    print(\"2. 토큰이 Write 권한인지\")\n",
    "    print(\"3. 데이터셋 이름이 올바른지 (your_username/dataset_name)\")"
   ]
  },
  {
   "cell_type": "markdown",
   "id": "9a116b14",
   "metadata": {},
   "source": [
    "<small>\n",
    "\n",
    "* ⏳ 업로드 시도: livemylife23/rag-synthetic-dataset-korean\n",
    "\n",
    "* ⏳ HuggingFace Hub 업로드 중...\n",
    "* 데이터셋 이름: livemylife23/rag-synthetic-dataset-korean\n",
    "\n",
    "* ![`Hugging Face upload`](../15_Evaluations/assets/hugging_face_upload.png)\n",
    "\n",
    "* ✅ 업로드 완료!\n",
    "\n",
    "* 🔗 URL: https://huggingface.co/datasets/livemylife23/rag-synthetic-dataset-korean\n",
    "\n",
    "* *📌 참고: Dataset Viewer는 표기되기까지 시간이 좀 걸릴 수 있습니다.*"
   ]
  },
  {
   "cell_type": "markdown",
   "id": "a333ef40",
   "metadata": {},
   "source": [
    "---"
   ]
  },
  {
   "cell_type": "markdown",
   "id": "2ff26a34",
   "metadata": {},
   "source": [
    "* next: ***`04. LangSmith 데이터셋 생성`***"
   ]
  },
  {
   "cell_type": "markdown",
   "id": "719f0c8c",
   "metadata": {},
   "source": [
    "---"
   ]
  }
 ],
 "metadata": {
  "kernelspec": {
   "display_name": "lc_env",
   "language": "python",
   "name": "python3"
  },
  "language_info": {
   "codemirror_mode": {
    "name": "ipython",
    "version": 3
   },
   "file_extension": ".py",
   "mimetype": "text/x-python",
   "name": "python",
   "nbconvert_exporter": "python",
   "pygments_lexer": "ipython3",
   "version": "3.13.5"
  }
 },
 "nbformat": 4,
 "nbformat_minor": 5
}
