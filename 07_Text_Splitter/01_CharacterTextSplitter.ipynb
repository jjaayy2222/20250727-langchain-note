{
 "cells": [
  {
   "cell_type": "markdown",
   "id": "a4553e3c",
   "metadata": {},
   "source": [
    "---"
   ]
  },
  {
   "cell_type": "markdown",
   "id": "ae8616d8",
   "metadata": {},
   "source": [
    "* 출처: LangChain 공식 문서 또는 해당 교재명\n",
    "* 원본 URL: https://smith.langchain.com/hub/teddynote/summary-stuff-documents"
   ]
  },
  {
   "cell_type": "markdown",
   "id": "d0d5f375",
   "metadata": {},
   "source": [
    "---"
   ]
  },
  {
   "cell_type": "markdown",
   "id": "76339959",
   "metadata": {},
   "source": [
    "## **`텍스트 분할 실습`**"
   ]
  },
  {
   "cell_type": "markdown",
   "id": "cfafe1d0",
   "metadata": {},
   "source": [
    "---"
   ]
  },
  {
   "cell_type": "markdown",
   "id": "121ca113",
   "metadata": {},
   "source": [
    "### **`문자 텍스트 분할 (CharacterTextSplitter)`**"
   ]
  },
  {
   "cell_type": "markdown",
   "id": "be28f854",
   "metadata": {},
   "source": [
    "* **`가장 간단한 분할 방식`**\n",
    "\n",
    "* 기본적 기준\n",
    "  * **`\"\\n\\n\"`** = 문자 단위로 텍스트 분할\n",
    "  * **`= 텍스트 분할 방식: 단일 문자 기준`**\n",
    "  \n",
    "  * 청크 크기 = 문사 수로 측정\n",
    "  * **`= 청크 크기 측정 방식: 문자 수 기준`**"
   ]
  },
  {
   "cell_type": "markdown",
   "id": "a13cd1b0",
   "metadata": {},
   "source": [
    "---"
   ]
  },
  {
   "cell_type": "markdown",
   "id": "5e64076f",
   "metadata": {},
   "source": [
    "### **`사전 환경 설정`**"
   ]
  },
  {
   "cell_type": "markdown",
   "id": "64fd3c6c",
   "metadata": {},
   "source": [
    "* 사전 `VS Code` 터미널에 설치할 것\n",
    "\n",
    "```bash\n",
    "        pip install -qU langchain-text-splitters\n",
    "```"
   ]
  },
  {
   "cell_type": "code",
   "execution_count": 9,
   "id": "fbf2b0d4",
   "metadata": {},
   "outputs": [],
   "source": [
    "# data/appendix-keywords.txt 파일을 열어서 f라는 파일 객체 생성하기\n",
    "with open(\"../07_Text_Splitter/data/appendix-keywords.txt\") as f:\n",
    "    file = f.read()                                         # 파일의 내용을 읽어서 file 변수에 저장"
   ]
  },
  {
   "cell_type": "code",
   "execution_count": null,
   "id": "bd5fe26b",
   "metadata": {},
   "outputs": [],
   "source": [
    "print(type(file))                   # <class 'str'>\n",
    "print(len(file))                    # 5733"
   ]
  },
  {
   "cell_type": "markdown",
   "id": "5505dcdf",
   "metadata": {},
   "source": [
    "* 파일로부터 읽은 파일의 일부 내용을 출력해보기"
   ]
  },
  {
   "cell_type": "code",
   "execution_count": null,
   "id": "6c3c41c7",
   "metadata": {},
   "outputs": [],
   "source": [
    "# 파일으로부터 읽은 내용 일부 출력하기\n",
    "\n",
    "print(file[:500])"
   ]
  },
  {
   "cell_type": "markdown",
   "id": "c67b6cc2",
   "metadata": {},
   "source": [
    "<small>\n",
    "\n",
    "* 셀 출력\n",
    "\n",
    "    ```markdown\n",
    "    Semantic Search\n",
    "\n",
    "    정의: 의미론적 검색은 사용자의 질의를 단순한 키워드 매칭을 넘어서 그 의미를 파악하여 관련된 결과를 반환하는 검색 방식입니다.\n",
    "    예시: 사용자가 \"태양계 행성\"이라고 검색하면, \"목성\", \"화성\" 등과 같이 관련된 행성에 대한 정보를 반환합니다.\n",
    "    연관키워드: 자연어 처리, 검색 알고리즘, 데이터 마이닝\n",
    "\n",
    "    Embedding\n",
    "\n",
    "    정의: 임베딩은 단어나 문장 같은 텍스트 데이터를 저차원의 연속적인 벡터로 변환하는 과정입니다. 이를 통해 컴퓨터가 텍스트를 이해하고 처리할 수 있게 합니다.\n",
    "    예시: \"사과\"라는 단어를 [0.65, -0.23, 0.17]과 같은 벡터로 표현합니다.\n",
    "    연관키워드: 자연어 처리, 벡터화, 딥러닝\n",
    "\n",
    "    Token\n",
    "\n",
    "    정의: 토큰은 텍스트를 더 작은 단위로 분할하는 것을 의미합니다. 이는 일반적으로 단어, 문장, 또는 구절일 수 있습니다.\n",
    "    예시: 문장 \"나는 학교에 간다\"를 \"나는\", \"학교에\", \"간다\"로 분할합니다.\n",
    "    연관키워드: 토큰화, 자연어\n",
    "    ```"
   ]
  },
  {
   "cell_type": "markdown",
   "id": "e853f14d",
   "metadata": {},
   "source": [
    "---"
   ]
  },
  {
   "cell_type": "markdown",
   "id": "18bcea0c",
   "metadata": {},
   "source": [
    "### **`CharacterTextSplitter` 사용**"
   ]
  },
  {
   "cell_type": "markdown",
   "id": "0c504a8b",
   "metadata": {},
   "source": [
    "* **`CharacterTextSplitter`를 사용하여 `텍스트`를 `청크(chunk)`로 분할하는 코드**\n",
    "\n",
    "  * **`separator`** \n",
    "    * 매개변수로 분할할 기준을 설정\n",
    "    * 기본 값 = **`\"\\n\\n\"`**\n",
    "\n",
    "  * **`chunk_size`** \n",
    "    * **`매개변수 = 250`** 으로 설정 **→ 각 `청크`의 `최대 크기`를 `250자`로 제한**\n",
    "  \n",
    "  * **`chunk_overlap`** \n",
    "    * **`매개변수 = 50`** 으로 설정 **→ `인접한 청크 간에 50자의 중복`을 허용**\n",
    "\n",
    "  * **`length_function`** \n",
    "    * **`매개변수 = len`** 으로 설정 **→ `텍스트의 길이`를 `계산`하는 함수를 지정**\n",
    "\n",
    "  * **`is_separator_regex`** \n",
    "    * **`매개변수 = False`** 로 설정 **→ `separator`를 정규식이 아닌 `일반 문자열`로 처리**"
   ]
  },
  {
   "cell_type": "code",
   "execution_count": 12,
   "id": "cb695f24",
   "metadata": {},
   "outputs": [],
   "source": [
    "from langchain_text_splitters import CharacterTextSplitter\n",
    "\n",
    "text_splitter = CharacterTextSplitter(\n",
    "    # 텍스트를 분할할 때 사용할 구분자를 지정 (기본값은 \"\\n\\n\")\n",
    "    # separator=\" \",\n",
    "\n",
    "    chunk_size=250,                                 # 분할된 텍스트 청크의 최대 크기 지정\n",
    "    \n",
    "    chunk_overlap=50,                               # 분할된 텍스트 청크 간의 중복되는 문자 수 지정\n",
    "    \n",
    "    length_function=len,                            # 텍스트의 길이를 계산하는 함수 지정\n",
    "    \n",
    "    is_separator_regex=False,                       # 구분자가 정규식인지 여부를 지정\n",
    ")"
   ]
  },
  {
   "cell_type": "markdown",
   "id": "f4bc012d",
   "metadata": {},
   "source": [
    "* **`text_splitter` 사용 → `file 텍스트`를 `문서 단위`로 분할**\n",
    "\n",
    "* **분할된 문서 `리스트` 중 `첫 번째 문서(texts[0])`를 출력**"
   ]
  },
  {
   "cell_type": "code",
   "execution_count": null,
   "id": "5585195c",
   "metadata": {},
   "outputs": [],
   "source": [
    "# text_splitter를 사용하여 state_of_the_union 텍스트를 문서로 분할하기\n",
    "texts = text_splitter.create_documents([file])\n",
    "\n",
    "# 분할된 문서 중 첫 번째 문서 출력하기\n",
    "print(texts[0])          "
   ]
  },
  {
   "cell_type": "markdown",
   "id": "fc853a5e",
   "metadata": {},
   "source": [
    "<small>\n",
    "\n",
    "* 셀 출력\n",
    "\n",
    "    ```markdown\n",
    "    page_content='Semantic Search\n",
    "\n",
    "    정의: 의미론적 검색은 사용자의 질의를 단순한 키워드 매칭을 넘어서 그 의미를 파악하여 관련된 결과를 반환하는 검색 방식입니다.\n",
    "    예시: 사용자가 \"태양계 행성\"이라고 검색하면, \"목성\", \"화성\" 등과 같이 관련된 행성에 대한 정보를 반환합니다.\n",
    "    연관키워드: 자연어 처리, 검색 알고리즘, 데이터 마이닝\n",
    "\n",
    "    Embedding'\n",
    "    ```"
   ]
  },
  {
   "cell_type": "markdown",
   "id": "3cbd0fb2",
   "metadata": {},
   "source": [
    "---"
   ]
  },
  {
   "cell_type": "markdown",
   "id": "bd075e0d",
   "metadata": {},
   "source": [
    "### **`메타데이터 함께 전달하기`**"
   ]
  },
  {
   "cell_type": "markdown",
   "id": "76af5df7",
   "metadata": {},
   "source": [
    "* **`메타데이터`가 문서와 함께 분할됨**\n",
    "\n",
    "* **`create_documents` 메서드: `텍스트 데이터`와 `메타데이터 리스트`를 인자로 받음**"
   ]
  },
  {
   "cell_type": "code",
   "execution_count": null,
   "id": "e74f71b9",
   "metadata": {},
   "outputs": [],
   "source": [
    "# 문서에 대한 메타데이터 리스트를 정의하기\n",
    "# 각 문서에 대한 메타데이터 = 딕셔너리 형태로 저장\n",
    "metadatas = [\n",
    "    {\"document\": 1},                            # 첫 번째 문서에 대한 메타데이터\n",
    "    {\"document\": 2},                            # 두 번째 문서에 대한 메타데이터\n",
    "]\n",
    "\n",
    "# 텍스트 분할기(text_splitter)를 사용해 문서 분할하기\n",
    "# create_documonets 메서드 호출해 문서 분할\n",
    "\"\"\"\n",
    "    create_documents()\n",
    "    - 문서 분할\n",
    "    - 분할할 텍스트 데이터 = 리스트로 전달\n",
    "    - 각 문서에 해당하는 메타데이터 전달\n",
    "\"\"\"\n",
    "\n",
    "# text_splitter.create_documents(텍스트 데이터, 메타데이터)\n",
    "documents = text_splitter.create_documents(\n",
    "    [\n",
    "        file,                                   # 첫 번째 분할할 텍스트 데이터\n",
    "        file,                                   # 두 번째 분할할 텍스트 데이터\n",
    "    ],\n",
    "    metadatas=metadatas,                        # 각 문서에 해당하는 메타데이터 전달\n",
    ")\n",
    "\n",
    "# 분할된 문서 중 첫 번째 문서 출력하기\n",
    "print(documents[0])"
   ]
  },
  {
   "cell_type": "markdown",
   "id": "01819880",
   "metadata": {},
   "source": [
    "<small>\n",
    "\n",
    "* 셀 출력\n",
    "\n",
    "    ```markdown\n",
    "    page_content='Semantic Search\n",
    "\n",
    "    정의: 의미론적 검색은 사용자의 질의를 단순한 키워드 매칭을 넘어서 그 의미를 파악하여 관련된 결과를 반환하는 검색 방식입니다.\n",
    "    예시: 사용자가 \"태양계 행성\"이라고 검색하면, \"목성\", \"화성\" 등과 같이 관련된 행성에 대한 정보를 반환합니다.\n",
    "    연관키워드: 자연어 처리, 검색 알고리즘, 데이터 마이닝\n",
    "\n",
    "    Embedding' metadata={'document': 1}\n",
    "    ```"
   ]
  },
  {
   "cell_type": "markdown",
   "id": "3ebbaabb",
   "metadata": {},
   "source": [
    "---"
   ]
  },
  {
   "cell_type": "markdown",
   "id": "a31844ef",
   "metadata": {},
   "source": [
    "### **`split_text()`**"
   ]
  },
  {
   "cell_type": "markdown",
   "id": "c1754120",
   "metadata": {},
   "source": [
    "* **`split_text()` 메서드 사용 → 텍스트 분할**\n",
    "\n",
    "* **`text_splitter.split_text(file)[0]`**\n",
    "  * **`file` 텍스트를 `text_splitter`를 사용하여 `분할`한 후 → 분할된 텍스트 조각 중 `첫 번째 요소`를 반환**"
   ]
  },
  {
   "cell_type": "code",
   "execution_count": null,
   "id": "42d24ec0",
   "metadata": {},
   "outputs": [],
   "source": [
    "# text_splitter를 사용하여 file 텍스트를 분할 → 텍스트의 첫 번째 요소 반환\n",
    "\n",
    "text_splitter.split_text(file)[0]"
   ]
  },
  {
   "cell_type": "markdown",
   "id": "e787fbee",
   "metadata": {},
   "source": [
    "<small>\n",
    "\n",
    "* 셀 출력\n",
    "\n",
    "    ```markdown\n",
    "    'Semantic Search\\n\\n정의: 의미론적 검색은 사용자의 질의를 단순한 키워드 매칭을 넘어서 그 의미를 파악하여 관련된 결과를 반환하는 검색 방식입니다.\\n예시: 사용자가 \"태양계 행성\"이라고 검색하면, \"목성\", \"화성\" 등과 같이 관련된 행성에 대한 정보를 반환합니다.\\n연관키워드: 자연어 처리, 검색 알고리즘, 데이터 마이닝\\n\\nEmbedding'\n",
    "    ```"
   ]
  },
  {
   "cell_type": "markdown",
   "id": "6f54adbf",
   "metadata": {},
   "source": [
    "---"
   ]
  },
  {
   "cell_type": "markdown",
   "id": "18bfe079",
   "metadata": {},
   "source": [
    "* *next: **`재귀적 문자 텍스트 분할 (RecursiveCharacterTextSplitter)`***"
   ]
  },
  {
   "cell_type": "markdown",
   "id": "353a5347",
   "metadata": {},
   "source": [
    "---"
   ]
  }
 ],
 "metadata": {
  "kernelspec": {
   "display_name": "lc_env",
   "language": "python",
   "name": "python3"
  },
  "language_info": {
   "codemirror_mode": {
    "name": "ipython",
    "version": 3
   },
   "file_extension": ".py",
   "mimetype": "text/x-python",
   "name": "python",
   "nbconvert_exporter": "python",
   "pygments_lexer": "ipython3",
   "version": "3.13.5"
  }
 },
 "nbformat": 4,
 "nbformat_minor": 5
}
