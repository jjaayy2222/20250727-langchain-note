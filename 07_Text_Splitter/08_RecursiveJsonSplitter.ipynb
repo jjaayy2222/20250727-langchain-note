{
 "cells": [
  {
   "cell_type": "markdown",
   "id": "a4553e3c",
   "metadata": {},
   "source": [
    "---"
   ]
  },
  {
   "cell_type": "markdown",
   "id": "ae8616d8",
   "metadata": {},
   "source": [
    "* 출처: LangChain 공식 문서 또는 해당 교재명\n",
    "* 원본 URL: https://smith.langchain.com/hub/teddynote/summary-stuff-documents"
   ]
  },
  {
   "cell_type": "markdown",
   "id": "d0d5f375",
   "metadata": {},
   "source": [
    "---"
   ]
  },
  {
   "cell_type": "markdown",
   "id": "891e95bd",
   "metadata": {},
   "source": [
    "### **`재귀적 JSON 분할(RecursiveJsonSplitter)`**"
   ]
  },
  {
   "cell_type": "markdown",
   "id": "ff7bfb2c",
   "metadata": {},
   "source": [
    "#### **`RecursiveJsonSplitter`**"
   ]
  },
  {
   "cell_type": "markdown",
   "id": "7487e4ae",
   "metadata": {},
   "source": [
    "* **`해당 JSON 분할기`**\n",
    "  * **`JSON` 데이터를 `깊이 우선 탐색`(`depth-first traversal`) → `더 작은` `JSON` `청크`(`chunk`)를 생성**\n",
    "\n",
    "  * **`중첩된 JSON 객체`를 `가능한 한 유지`하려고 `시도`**\n",
    "  \n",
    "    * **필요한 경우 객체 분할**: 청크의 크기를 **`min_chunk_size`와 `max_chunk_size` 사이로 유지하기 위해 필요한 경우\n",
    "    * **분할되지 않는 경우**: `값이 중첩된 JSON이 아니라 매우 큰 문자열인 경우`\n",
    "\n",
    "  * 청크 크기에 대한 `엄격한 제한`이 `필요한 경우`: 이 분할기 사용 이후 → `Recursive Text Splitter`를 사용 → 해당 청크를 처리하는 것을 고려 가능"
   ]
  },
  {
   "cell_type": "markdown",
   "id": "e449ae37",
   "metadata": {},
   "source": [
    "* **분할 기준**\n",
    "\n",
    "  * 텍스트 분할 방식: **`JSON` `값` 기준**\n",
    "\n",
    "  * 청크 크기 측정 방식: **`문자 수` 기준**"
   ]
  },
  {
   "cell_type": "markdown",
   "id": "6aab8aa5",
   "metadata": {},
   "source": [
    "---"
   ]
  },
  {
   "cell_type": "markdown",
   "id": "51e9820a",
   "metadata": {},
   "source": [
    "* 사전에 `VS Code` 터미널에 설치할 것\n",
    "  \n",
    "```bash\n",
    "        pip install -qU langchain-text-splitters\n",
    "```"
   ]
  },
  {
   "cell_type": "markdown",
   "id": "69aa61ff",
   "metadata": {},
   "source": [
    "---"
   ]
  },
  {
   "cell_type": "markdown",
   "id": "5972c13e",
   "metadata": {},
   "source": [
    "* `requests.get()` 함수 사용 → *`\"https://api.smith.langchain.com/openapi.json\"`* `URL`에서 `JSON` 데이터 가져오기\n",
    "\n",
    "* 가져온 `JSON` 데이터 → `json()` 메서드 → **`Python` 딕셔너리 형태로 변환** → **`json_data` 변수에 저장**"
   ]
  },
  {
   "cell_type": "code",
   "execution_count": 1,
   "id": "dda5f6b6",
   "metadata": {},
   "outputs": [],
   "source": [
    "import requests\n",
    "\n",
    "# JSON 데이터 가져오기\n",
    "json_data = requests.get(\"https://api.smith.langchain.com/openapi.json\").json()"
   ]
  },
  {
   "cell_type": "code",
   "execution_count": null,
   "id": "d1d47ed8",
   "metadata": {},
   "outputs": [],
   "source": [
    "print(type(json_data))          # <class 'dict'>"
   ]
  },
  {
   "cell_type": "markdown",
   "id": "2550ea46",
   "metadata": {},
   "source": [
    "* **`RecursiveJsonSplitter` 사용 → `JSON` 데이터 분할하기**"
   ]
  },
  {
   "cell_type": "code",
   "execution_count": 3,
   "id": "59733932",
   "metadata": {},
   "outputs": [],
   "source": [
    "from langchain_text_splitters import RecursiveJsonSplitter\n",
    "\n",
    "# JSON 데이터를 최대 300 크기의 청크로 분할하는 RecursiveJsonSplitter 객체 생성하기\n",
    "splitter = RecursiveJsonSplitter(max_chunk_size=300)"
   ]
  },
  {
   "cell_type": "markdown",
   "id": "0d8878e4",
   "metadata": {},
   "source": [
    "* **`splitter.split_json()` 함수 사용 → `JSON` 데이터를 `재귀적으로` 분할**"
   ]
  },
  {
   "cell_type": "code",
   "execution_count": 4,
   "id": "d49d3167",
   "metadata": {},
   "outputs": [],
   "source": [
    "# JSON 데이터 재귀적으로 분할하기 \n",
    "# 작은 JSON 조각에 접근하거나 조작해야 하는 경우에 사용하기\n",
    "json_chunks = splitter.split_json(json_data=json_data)"
   ]
  },
  {
   "cell_type": "markdown",
   "id": "c2719400",
   "metadata": {},
   "source": [
    "* **`splitter.create_documents()` 메서드 사용 → `JSON` 데이터를 문서 형식으로 변환**\n",
    "\n",
    "* **`splitter.split_text()` 메서드 사용 → `JSON` 데이터 문자열 `리스트`로 분할**"
   ]
  },
  {
   "cell_type": "code",
   "execution_count": null,
   "id": "4aaaadec",
   "metadata": {},
   "outputs": [],
   "source": [
    "# JSON 데이터를 기반으로 문서 생성하기\n",
    "docs = splitter.create_documents(texts=[json_data])\n",
    "\n",
    "# JSON 데이터를 기반으로 문자열 청크 생성하기\n",
    "texts = splitter.split_text(json_data=json_data)\n",
    "\n",
    "# 첫 번째 문자열 출력해보기\n",
    "print(docs[0].page_content)\n",
    "\n",
    "print(\"\\n\", \"===\" * 20, \"\\n\")\n",
    "\n",
    "# 분할된 문자열 청크 출력해보기\n",
    "print(texts[0])"
   ]
  },
  {
   "cell_type": "markdown",
   "id": "8c7194fb",
   "metadata": {},
   "source": [
    "<small>\n",
    "\n",
    "* 셀 출력\n",
    "\n",
    "    ```python\n",
    "    {\"openapi\": \"3.1.0\", \"info\": {\"title\": \"LangSmith\", \"description\": \"The LangSmith API is used to programmatically create and manage LangSmith resources.\\n\\n## Host\\nhttps://api.smith.langchain.com\\n\\n## Authentication\\nTo authenticate with the LangSmith API, set the `X-Api-Key` header\\nto a valid [LangSmith API key](https://docs.langchain.com/langsmith/create-account-api-key#create-an-api-key).\\n\\n\"}}\n",
    "\n",
    "    ============================================================ \n",
    "\n",
    "    {\"openapi\": \"3.1.0\", \"info\": {\"title\": \"LangSmith\", \"description\": \"The LangSmith API is used to programmatically create and manage LangSmith resources.\\n\\n## Host\\nhttps://api.smith.langchain.com\\n\\n## Authentication\\nTo authenticate with the LangSmith API, set the `X-Api-Key` header\\nto a valid [LangSmith API key](https://docs.langchain.com/langsmith/create-account-api-key#create-an-api-key).\\n\\n\"}}\n",
    "    ```"
   ]
  },
  {
   "cell_type": "code",
   "execution_count": null,
   "id": "9d040c42",
   "metadata": {},
   "outputs": [],
   "source": [
    "# 청크의 크기 확인해보기\n",
    "\n",
    "print([len(text) for text in texts][:10])"
   ]
  },
  {
   "cell_type": "markdown",
   "id": "48a265c0",
   "metadata": {},
   "source": [
    "<small>\n",
    "\n",
    "* 셀 촐력\n",
    "\n",
    "    ```python\n",
    "    [404, 244, 238, 344, 207, 227, 224, 231, 126, 646]\n",
    "    ```"
   ]
  },
  {
   "cell_type": "markdown",
   "id": "84202d09",
   "metadata": {},
   "source": [
    "* **`texts[9]`을 출력하여 큰 청크 중 하나를 검토한 결과, 해당 청크에 리스트 객체가 포함되어 있음을 확인**\n",
    "\n",
    "  * `9번째 청크`의 `크기`가 `제한`(300) 을 `초과한 이유`: **`리스트 객체`이기 때문**\n",
    "\n",
    "  * 이는 `RecursiveJsonSplitter`가 `리스트 객체`는 `분할하지 않기 때문`"
   ]
  },
  {
   "cell_type": "code",
   "execution_count": null,
   "id": "071560fd",
   "metadata": {},
   "outputs": [],
   "source": [
    "print(texts[2])"
   ]
  },
  {
   "cell_type": "code",
   "execution_count": null,
   "id": "5f3413ef",
   "metadata": {},
   "outputs": [],
   "source": [
    "print(texts[9])"
   ]
  },
  {
   "cell_type": "markdown",
   "id": "b7ae091b",
   "metadata": {},
   "source": [
    "<small>\n",
    "\n",
    "* 출력: `texts[2]`\n",
    "\n",
    "    ```python\n",
    "    {\"paths\": {\"/api/v1/sessions/{session_id}/dashboard\": {\"post\": {\"operationId\": \"get_tracing_project_prebuilt_dashboard_api_v1_sessions__session_id__dashboard_post\", \"security\": [{\"API Key\": []}, {\"Tenant ID\": []}, {\"Bearer Auth\": []}]}}}}\n",
    "    ```\n",
    "\n",
    "***\n",
    "\n",
    "* 출력: `texts[9]`\n",
    "\n",
    "    ```python\n",
    "    {\"paths\": {\"/api/v1/sessions/{session_id}\": {\"get\": {\"parameters\": [{\"name\": \"session_id\", \"in\": \"path\", \"required\": true, \"schema\": {\"type\": \"string\", \"format\": \"uuid\", \"title\": \"Session Id\"}}, {\"name\": \"include_stats\", \"in\": \"query\", \"required\": false, \"schema\": {\"type\": \"boolean\", \"default\": false, \"title\": \"Include Stats\"}}, {\"name\": \"stats_start_time\", \"in\": \"query\", \"required\": false, \"schema\": {\"anyOf\": [{\"type\": \"string\", \"format\": \"date-time\"}, {\"type\": \"null\"}], \"title\": \"Stats Start Time\"}}, {\"name\": \"accept\", \"in\": \"header\", \"required\": false, \"schema\": {\"anyOf\": [{\"type\": \"string\"}, {\"type\": \"null\"}], \"title\": \"Accept\"}}]}}}}\n",
    "    ```"
   ]
  },
  {
   "cell_type": "markdown",
   "id": "e2199b57",
   "metadata": {},
   "source": [
    "* **`2, 9번 index 청크` 파싱하기 ← `json` 모듈 사용**"
   ]
  },
  {
   "cell_type": "code",
   "execution_count": null,
   "id": "6e71f32b",
   "metadata": {},
   "outputs": [],
   "source": [
    "import json\n",
    "\n",
    "json_data2 = json.loads(texts[2])\n",
    "json_data2[\"paths\"]"
   ]
  },
  {
   "cell_type": "code",
   "execution_count": null,
   "id": "37a5431b",
   "metadata": {},
   "outputs": [],
   "source": [
    "import json\n",
    "\n",
    "json_data = json.loads(texts[9])\n",
    "json_data[\"paths\"]"
   ]
  },
  {
   "cell_type": "markdown",
   "id": "4a99e743",
   "metadata": {},
   "source": [
    "<small>\n",
    "\n",
    "* 출력: `texts[2]`\n",
    "    ```json\n",
    "    {'/api/v1/sessions/{session_id}': {'get': {'parameters': {'2': {'name': 'stats_start_time',\n",
    "     'in': 'query',\n",
    "     'required': False,\n",
    "     'schema': {'anyOf': {'0': {'type': 'string', 'format': 'date-time'},\n",
    "       '1': {'type': 'null'}},\n",
    "      'title': 'Stats Start Time'}}}}}}\n",
    "    ```\n",
    "\n",
    "* 출력: `texts[9]`\n",
    "\n",
    "    ```json\n",
    "    {'/api/v1/sessions/{session_id}': {'get': {'parameters': [{'name': 'session_id',\n",
    "        'in': 'path',\n",
    "        'required': True,\n",
    "        'schema': {'type': 'string', 'format': 'uuid', 'title': 'Session Id'}},\n",
    "        {'name': 'include_stats',\n",
    "        'in': 'query',\n",
    "        'required': False,\n",
    "        'schema': {'type': 'boolean',\n",
    "        'default': False,\n",
    "        'title': 'Include Stats'}},\n",
    "        {'name': 'stats_start_time',\n",
    "        'in': 'query',\n",
    "        'required': False,\n",
    "        'schema': {'anyOf': [{'type': 'string', 'format': 'date-time'},\n",
    "        {'type': 'null'}],\n",
    "        'title': 'Stats Start Time'}},\n",
    "        {'name': 'accept',\n",
    "        'in': 'header',\n",
    "        'required': False,\n",
    "        'schema': {'anyOf': [{'type': 'string'}, {'type': 'null'}],\n",
    "        'title': 'Accept'}}]}}}\n",
    "    ```"
   ]
  },
  {
   "cell_type": "markdown",
   "id": "14f8642a",
   "metadata": {},
   "source": [
    "* **`convert_lists` 매개변수를 `True`로 설정 → `JSON` 내의 `리스트`를 `index:item 형태`의 `key:value` 쌍으로 변환**"
   ]
  },
  {
   "cell_type": "code",
   "execution_count": 20,
   "id": "8977bbcd",
   "metadata": {},
   "outputs": [],
   "source": [
    "# 다음은 JSON을 전처리하고 리스트를 인덱스:항목을 키:값 쌍으로 하는 딕셔너리로 변환하기\n",
    "\n",
    "texts = splitter.split_text(json_data=json_data, convert_lists=True)         # 딕셔너리로 설정"
   ]
  },
  {
   "cell_type": "code",
   "execution_count": null,
   "id": "1b42a20c",
   "metadata": {},
   "outputs": [],
   "source": [
    "# 청크의 크기 확인해보기\n",
    "print([len(text) for text in texts][:10])"
   ]
  },
  {
   "cell_type": "markdown",
   "id": "0325a47a",
   "metadata": {},
   "source": [
    "<small>\n",
    "\n",
    "* 청크 크기 감소, 숫자도 감소\n",
    "\n",
    "    ```python\n",
    "    [203, 212, 263, 221]\n",
    "    ```"
   ]
  },
  {
   "cell_type": "code",
   "execution_count": null,
   "id": "239827ab",
   "metadata": {},
   "outputs": [],
   "source": [
    "# 리스트 → 딕셔너리로 변환\n",
    "# 결과 확인해보기\n",
    "print(texts[2])"
   ]
  },
  {
   "cell_type": "markdown",
   "id": "297c3f2c",
   "metadata": {},
   "source": [
    "<small>\n",
    "\n",
    "* 셀 출력 (`dict`로 변환된 `texts[2]`)\n",
    "\n",
    "    ```python\n",
    "    {\"paths\": {\"/api/v1/sessions/{session_id}\": {\"get\": {\"parameters\": {\"2\": {\"name\": \"stats_start_time\", \"in\": \"query\", \"required\": false, \"schema\": {\"anyOf\": {\"0\": {\"type\": \"string\", \"format\": \"date-time\"}, \"1\": {\"type\": \"null\"}}, \"title\": \"Stats Start Time\"}}}}}}}\n",
    "    ```"
   ]
  },
  {
   "cell_type": "markdown",
   "id": "bbd4ef80",
   "metadata": {},
   "source": [
    "* **`docs` 리스트의 특정 인덱스에 해당하는 문서 확인해보기**"
   ]
  },
  {
   "cell_type": "code",
   "execution_count": 26,
   "id": "98402f32",
   "metadata": {},
   "outputs": [
    {
     "data": {
      "text/plain": [
       "Document(metadata={}, page_content='{\"paths\": {\"/api/v1/sessions/{session_id}/dashboard\": {\"post\": {\"operationId\": \"get_tracing_project_prebuilt_dashboard_api_v1_sessions__session_id__dashboard_post\", \"security\": [{\"API Key\": []}, {\"Tenant ID\": []}, {\"Bearer Auth\": []}]}}}}')"
      ]
     },
     "execution_count": 26,
     "metadata": {},
     "output_type": "execute_result"
    }
   ],
   "source": [
    "# 2번 문서 확인해보기\n",
    "\n",
    "docs[2]"
   ]
  },
  {
   "cell_type": "markdown",
   "id": "d358a3ca",
   "metadata": {},
   "source": [
    "<small>\n",
    "\n",
    "* 셀 출력: `texts[2]`의 문서 출력\n",
    "\n",
    "    ```python\n",
    "    Document(metadata={}, page_content='{\"paths\": {\"/api/v1/sessions/{session_id}/dashboard\": {\"post\": {\"operationId\": \"get_tracing_project_prebuilt_dashboard_api_v1_sessions__session_id__dashboard_post\", \"security\": [{\"API Key\": []}, {\"Tenant ID\": []}, {\"Bearer Auth\": []}]}}}}')\n",
    "    ```"
   ]
  },
  {
   "cell_type": "markdown",
   "id": "6f54adbf",
   "metadata": {},
   "source": [
    "---"
   ]
  },
  {
   "cell_type": "markdown",
   "id": "18bfe079",
   "metadata": {},
   "source": [
    "* *next: **`CH08 임베딩 (Embedding)`***"
   ]
  },
  {
   "cell_type": "markdown",
   "id": "353a5347",
   "metadata": {},
   "source": [
    "---"
   ]
  }
 ],
 "metadata": {
  "kernelspec": {
   "display_name": "lc_env",
   "language": "python",
   "name": "python3"
  },
  "language_info": {
   "codemirror_mode": {
    "name": "ipython",
    "version": 3
   },
   "file_extension": ".py",
   "mimetype": "text/x-python",
   "name": "python",
   "nbconvert_exporter": "python",
   "pygments_lexer": "ipython3",
   "version": "3.13.5"
  }
 },
 "nbformat": 4,
 "nbformat_minor": 5
}
