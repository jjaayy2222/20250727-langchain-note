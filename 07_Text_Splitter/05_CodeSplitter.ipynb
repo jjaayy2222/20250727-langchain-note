{
 "cells": [
  {
   "cell_type": "markdown",
   "id": "a4553e3c",
   "metadata": {},
   "source": [
    "---"
   ]
  },
  {
   "cell_type": "markdown",
   "id": "ae8616d8",
   "metadata": {},
   "source": [
    "* 출처: LangChain 공식 문서 또는 해당 교재명\n",
    "* 원본 URL: https://smith.langchain.com/hub/teddynote/summary-stuff-documents"
   ]
  },
  {
   "cell_type": "markdown",
   "id": "d0d5f375",
   "metadata": {},
   "source": [
    "---"
   ]
  },
  {
   "cell_type": "markdown",
   "id": "891e95bd",
   "metadata": {},
   "source": [
    "### **`코드 분할 (Python, Markdown, JAVA, C++, C#, GO, JS, Latex 등)`**"
   ]
  },
  {
   "cell_type": "markdown",
   "id": "ff7bfb2c",
   "metadata": {},
   "source": [
    "#### **`Split code`**"
   ]
  },
  {
   "cell_type": "markdown",
   "id": "29cd7463",
   "metadata": {},
   "source": [
    "* **`CodeTextSplitter` 사용 → 다양한 프로그래밍 언어로 작성된 코드 분할 가능**\n",
    "\n",
    "* **`Language enum` → `import` → `해당하는 프로그래밍 언어` 지정**"
   ]
  },
  {
   "cell_type": "markdown",
   "id": "6aab8aa5",
   "metadata": {},
   "source": [
    "---"
   ]
  },
  {
   "cell_type": "markdown",
   "id": "51e9820a",
   "metadata": {},
   "source": [
    "* 사전에 `VS Code` 터미널에 설치할 것\n",
    "  \n",
    "```bash\n",
    "        pip install -qU langchain-text-splitters\n",
    "```"
   ]
  },
  {
   "cell_type": "markdown",
   "id": "69aa61ff",
   "metadata": {},
   "source": [
    "---"
   ]
  },
  {
   "cell_type": "markdown",
   "id": "aa3fbcee",
   "metadata": {},
   "source": [
    "#### **1) `RecursiveCharacterTextSplitter`**"
   ]
  },
  {
   "cell_type": "markdown",
   "id": "5972c13e",
   "metadata": {},
   "source": [
    "* **`langchain_text_splitters` 모듈: `Language`와 `RecursiveCharacterTextSplitter` 클래스 `임포트`**\n",
    "\n",
    "* **`RecursiveCharacterTextSplitter` = 텍스트를 `문자 단위`로 `재귀적`으로 `분할`하는 텍스트 분할기**"
   ]
  },
  {
   "cell_type": "code",
   "execution_count": 1,
   "id": "13ad2e91",
   "metadata": {},
   "outputs": [],
   "source": [
    "from langchain_text_splitters import (\n",
    "    Language,\n",
    "    RecursiveCharacterTextSplitter,\n",
    ")"
   ]
  },
  {
   "cell_type": "markdown",
   "id": "34316ea6",
   "metadata": {},
   "source": [
    "* **`지원되는 언어`의 전체 `목록`** 가져오기"
   ]
  },
  {
   "cell_type": "code",
   "execution_count": null,
   "id": "58f48b84",
   "metadata": {},
   "outputs": [],
   "source": [
    "# 지원되는 언어의 전체 목록 가져오기\n",
    "\n",
    "[e.value for e in Language]"
   ]
  },
  {
   "cell_type": "markdown",
   "id": "30a89260",
   "metadata": {},
   "source": [
    "<small>\n",
    "\n",
    "* 셀 출력\n",
    "\n",
    "    ```python\n",
    "    ['cpp', 'go', 'java', 'kotlin', 'js', 'ts', 'php', 'proto', 'python', 'rst', 'ruby', 'rust', 'scala', 'swift', 'markdown', 'latex', 'html', 'sol', 'csharp', 'cobol', 'c', 'lua', 'perl', 'haskell', 'elixir', 'powershell', 'visualbasic6']\n",
    "    ```"
   ]
  },
  {
   "cell_type": "markdown",
   "id": "c8fca693",
   "metadata": {},
   "source": [
    "* **`RecursiveCharacterTextSplitter` 클래스의 `get_separators_for_language` 메서드 사용 → `특정 언어`에 사용되는 `구분자`(`separators`)를 확인 가능**\n",
    "\n",
    "  * 예시: `Langauge.PYTHON` 열거형 값을 인자로 전달 → `Python` 언어에 사용되는 구분자 확인"
   ]
  },
  {
   "cell_type": "code",
   "execution_count": null,
   "id": "ea80cfea",
   "metadata": {},
   "outputs": [],
   "source": [
    "# 주어진 언어에 대해 사용되는 구분자 확인 가능\n",
    "\n",
    "RecursiveCharacterTextSplitter.get_separators_for_language(Language.PYTHON)"
   ]
  },
  {
   "cell_type": "markdown",
   "id": "b062bc90",
   "metadata": {},
   "source": [
    "<small>\n",
    "\n",
    "* 셀 출력\n",
    "\n",
    "    ```python\n",
    "    ['\\nclass ', '\\ndef ', '\\n\\tdef ', '\\n\\n', '\\n', ' ', '']\n",
    "    ```"
   ]
  },
  {
   "cell_type": "markdown",
   "id": "9b4042a3",
   "metadata": {},
   "source": [
    "---"
   ]
  },
  {
   "cell_type": "markdown",
   "id": "c9f72efc",
   "metadata": {},
   "source": [
    "#### **2) `Python`**"
   ]
  },
  {
   "cell_type": "markdown",
   "id": "abe3ba82",
   "metadata": {},
   "source": [
    "* **`RecursiveCharacterTextSplitter` 사용한 예제**\n",
    "\n",
    "  * `RecursiveCharacterTextSplitter` → `Python 코드`를 `문서` 단위로 `분할`\n",
    "  * `language` 매개변수에 `Language.PYTHON`을 지정 → `Python 언어`를 `사용`\n",
    "  * `chunk_size` = `50` → `각 문서의 최대 크기 제한`\n",
    "  * `chunk_overlap` = `0` → `문서 간의 중복 허용 X`"
   ]
  },
  {
   "cell_type": "code",
   "execution_count": 4,
   "id": "ef23a7e7",
   "metadata": {},
   "outputs": [],
   "source": [
    "PYTHON_CODE = \"\"\"\n",
    "def hello_world():\n",
    "    print(\"Hello, World!\")\n",
    "\n",
    "hello_world()\n",
    "\"\"\"\n",
    "\n",
    "# RecursiveCharacterTextSplitter.from_language() 사용하기\n",
    "python_splitter = RecursiveCharacterTextSplitter.from_language(\n",
    "    language=Language.PYTHON,               # 언어 = Python\n",
    "    chunk_size=50,                          # 각 문서 최대 크기 = 50\n",
    "    chunk_overlap=0                         # 문서 간 중복 X\n",
    ")"
   ]
  },
  {
   "cell_type": "markdown",
   "id": "149f3970",
   "metadata": {},
   "source": [
    "* `Document` 생성: `Document` = `리스트 형태`로 반환"
   ]
  },
  {
   "cell_type": "code",
   "execution_count": null,
   "id": "a5155812",
   "metadata": {},
   "outputs": [],
   "source": [
    "python_docs = python_splitter.create_documents([PYTHON_CODE])\n",
    "\n",
    "python_docs"
   ]
  },
  {
   "cell_type": "markdown",
   "id": "5416e5f9",
   "metadata": {},
   "source": [
    "<small>\n",
    "\n",
    "* 셀 출력\n",
    "\n",
    "    ```python\n",
    "    [Document(metadata={}, page_content='def hello_world():\\n    print(\"Hello, World!\")'),\n",
    "    Document(metadata={}, page_content='hello_world()')]\n",
    "    ```"
   ]
  },
  {
   "cell_type": "code",
   "execution_count": null,
   "id": "794e7cd9",
   "metadata": {},
   "outputs": [],
   "source": [
    "print(type(python_docs))                # <class 'list'>"
   ]
  },
  {
   "cell_type": "code",
   "execution_count": null,
   "id": "c532b614",
   "metadata": {},
   "outputs": [],
   "source": [
    "# 출력해보기\n",
    "\n",
    "for doc in python_docs:\n",
    "    print(doc.page_content, end=\"\\n==================\\n\")"
   ]
  },
  {
   "cell_type": "markdown",
   "id": "d2ff5756",
   "metadata": {},
   "source": [
    "<small>\n",
    "\n",
    "* 셀 출력\n",
    "\n",
    "    ```markdown\n",
    "    def hello_world():\n",
    "        print(\"Hello, World!\")\n",
    "    ==================\n",
    "    hello_world()\n",
    "    ==================\n",
    "    ```"
   ]
  },
  {
   "cell_type": "markdown",
   "id": "49ffed09",
   "metadata": {},
   "source": [
    "---"
   ]
  },
  {
   "cell_type": "markdown",
   "id": "2709bc78",
   "metadata": {},
   "source": [
    "#### **3) `JS`**"
   ]
  },
  {
   "cell_type": "markdown",
   "id": "de431b3c",
   "metadata": {},
   "source": [
    "* **`JS` 텍스트 분할기를 사용한 예시**"
   ]
  },
  {
   "cell_type": "code",
   "execution_count": null,
   "id": "642bbd0c",
   "metadata": {},
   "outputs": [],
   "source": [
    "JS_CODE = \"\"\"\n",
    "function helloWorld() {\n",
    "    console.log(\"Hello, World!\");\n",
    "}\n",
    "\n",
    "helloWorld();\n",
    "\"\"\"\n",
    "\n",
    "# RecursiveCharacterTextSplitter.from_language() 사용하기\n",
    "js_splitter = RecursiveCharacterTextSplitter.from_language(\n",
    "    language=Language.JS,                   # 언어 = JS\n",
    "    chunk_size=60,                          # 최대 문서 크기 = 60\n",
    "    chunk_overlap=0                         # 문서 간 중복 허용 X\n",
    ")\n",
    "\n",
    "# 문서로 만들어 출력해보기\n",
    "js_docs = js_splitter.create_documents([JS_CODE])\n",
    "js_docs"
   ]
  },
  {
   "cell_type": "markdown",
   "id": "a4e52b58",
   "metadata": {},
   "source": [
    "<small>\n",
    "\n",
    "* 셀 출력 (참고: js_docs의 type = <class `list`> )\n",
    "\n",
    "    ```python\n",
    "    [Document(metadata={}, page_content='function helloWorld() {\\n    console.log(\"Hello, World!\");\\n}'),\n",
    "    Document(metadata={}, page_content='helloWorld();')]\n",
    "    ```"
   ]
  },
  {
   "cell_type": "markdown",
   "id": "a62484f2",
   "metadata": {},
   "source": [
    "#### **4) `TS`**"
   ]
  },
  {
   "cell_type": "markdown",
   "id": "abd028b7",
   "metadata": {},
   "source": [
    "* **`TS` 텍스트 분할기를 사용한 예시**\n",
    "\n",
    "<br>\n",
    "\n",
    "* `TS` = `TypeScript`\n",
    "\n",
    "  * `JavaScript`의 `상위 집합` 언어: `JavaScript`와 호환, 더 많은 기능 제공\n",
    "\n",
    "\n",
    "  * `JavaScript`에 **정적 타입(`static typing`) 추가한 언어 → `웹 개발` 에서 주로 사용**\n",
    "\n",
    "  * 주요 사용 용도: **`웹 애플리케이션`, `모바일 애플리케이션`, `데스크톱 애플리케이션` 등 개발**"
   ]
  },
  {
   "cell_type": "code",
   "execution_count": null,
   "id": "d7135157",
   "metadata": {},
   "outputs": [],
   "source": [
    "TS_CODE = \"\"\"\n",
    "function helloWorld(): void {\n",
    "    console.log(\"Hello, World!\");\n",
    "}\n",
    "\n",
    "helloWorld();\n",
    "\"\"\"\n",
    "\n",
    "ts_splitter = RecursiveCharacterTextSplitter.from_language(\n",
    "    language=Language.TS, \n",
    "    chunk_size=60, \n",
    "    chunk_overlap=0\n",
    ")\n",
    "\n",
    "# 문서로 만들어 출력하기\n",
    "ts_docs = ts_splitter.create_documents([TS_CODE])\n",
    "ts_docs"
   ]
  },
  {
   "cell_type": "markdown",
   "id": "3324ced2",
   "metadata": {},
   "source": [
    "<small>\n",
    "\n",
    "* 셀 출력 (참고: ts_docs의 type = <class `list`>)\n",
    "\n",
    "    ```python\n",
    "    [Document(metadata={}, page_content='function helloWorld(): void {'),\n",
    "    Document(metadata={}, page_content='console.log(\"Hello, World!\");\\n}'),\n",
    "    Document(metadata={}, page_content='helloWorld();')]\n",
    "    ```"
   ]
  },
  {
   "cell_type": "markdown",
   "id": "64e076c6",
   "metadata": {},
   "source": [
    "---"
   ]
  },
  {
   "cell_type": "markdown",
   "id": "92204581",
   "metadata": {},
   "source": [
    "#### **5) `Markdown`**"
   ]
  },
  {
   "cell_type": "markdown",
   "id": "24f30727",
   "metadata": {},
   "source": [
    "* `Markdown` 텍스트 분할기를 사용한 예시"
   ]
  },
  {
   "cell_type": "code",
   "execution_count": 11,
   "id": "c30d8c37",
   "metadata": {},
   "outputs": [],
   "source": [
    "markdown_text = \"\"\"\n",
    "# 🦜️🔗 LangChain\n",
    "\n",
    "⚡ LLM을 활용한 초스피드 애플리케이션 구축 ⚡\n",
    "\n",
    "## 빠른 설치\n",
    "\n",
    "```bash\n",
    "pip install langchain\n",
    "\n",
    "# 빠르게 발전하는 분야의 오픈 소스 프로젝트 입니다. 많관부 🙏\n",
    "\"\"\""
   ]
  },
  {
   "cell_type": "code",
   "execution_count": null,
   "id": "7b5b94fa",
   "metadata": {},
   "outputs": [],
   "source": [
    "print(type(markdown_text))              # <class 'str'>"
   ]
  },
  {
   "cell_type": "markdown",
   "id": "e78c393e",
   "metadata": {},
   "source": [
    "* 분할 및 결과 출력하기"
   ]
  },
  {
   "cell_type": "code",
   "execution_count": null,
   "id": "e6c156d9",
   "metadata": {},
   "outputs": [],
   "source": [
    "# 마크다운 언어를 사용하여 텍스트 분할기 생성\n",
    "md_splitter = RecursiveCharacterTextSplitter.from_language(\n",
    "    language=Language.MARKDOWN,                 # 언어 = md\n",
    "    chunk_size=60,\n",
    "    chunk_overlap=0,\n",
    ")\n",
    "\n",
    "# 마크다운 텍스트를 분할하여 문서 생성\n",
    "md_docs = md_splitter.create_documents([markdown_text])\n",
    "\n",
    "# 생성된 문서 출력\n",
    "md_docs"
   ]
  },
  {
   "cell_type": "markdown",
   "id": "814d599c",
   "metadata": {},
   "source": [
    "<small>\n",
    "\n",
    "* 셀 출력\n",
    "\n",
    "    ```python\n",
    "    [Document(metadata={}, page_content='# 🦜️🔗 LangChain\\n\\n⚡ LLM을 활용한 초스피드 애플리케이션 구축 ⚡'),\n",
    "    Document(metadata={}, page_content='## 빠른 설치\\n\\n```bash\\npip install langchain'),\n",
    "    Document(metadata={}, page_content='# 빠르게 발전하는 분야의 오픈 소스 프로젝트 입니다. 많관부 🙏')]\n",
    "    ```"
   ]
  },
  {
   "cell_type": "markdown",
   "id": "9fc58657",
   "metadata": {},
   "source": [
    "---"
   ]
  },
  {
   "cell_type": "markdown",
   "id": "c95e459c",
   "metadata": {},
   "source": [
    "#### **6) `Latex`**"
   ]
  },
  {
   "cell_type": "markdown",
   "id": "7e156f26",
   "metadata": {},
   "source": [
    "* **`LaTeX`** \n",
    "\n",
    "  * **`문서 작성을 위한 마크업 언어`**\n",
    "\n",
    "  * `수학 기호`와 `수식`을 표현하는 데 널리 사용"
   ]
  },
  {
   "cell_type": "markdown",
   "id": "e448fa3d",
   "metadata": {},
   "source": [
    "* 주의! - **`raw string`(**`r\"\"`**) 사용하기**\n",
    "\n",
    "  * 목적: `이스케이프 시퀀스`를 `일반 문자`로 `처리`하기 위해 사용\n",
    "  \n",
    "  * 특징\n",
    "    * `\\` = 일반 문자로 취급 ≠ 이스케이프 문자\n",
    "    * 예시: **`r\"\\n\"` → `문자열 \\n` (줄바꿈 문자 아님)**\n",
    "\n",
    "    * 경고 메시지\n",
    "\n",
    "```bash\n",
    "    <>:2: SyntaxWarning: invalid escape sequence '\\d'\n",
    "    <>:2: SyntaxWarning: invalid escape sequence '\\d'\n",
    "    /var/folders/h3/l7wnkv352kqftv0t8ctl2ld40000gn/T/ipykernel_48710/1540502022.py:2: SyntaxWarning: invalid escape sequence '\\d'\n",
    "    \\documentclass{article}\n",
    "```\n",
    "\n",
    "  * \n",
    "      * 경고 메시지 해석\n",
    "        * `SyntaxWarning: invalid escape sequence '\\d'` = `LaTeX` 문서에서 `\\d`를 `이스케이프 시퀀스`로 인식하지 못해서 발생하는 경고 메시지\n",
    "        * `\\d` = `LaTeX`에서 숫자를 나타내는 명령어 = `Python 문자열`에서는 **`이스케이프 시퀀스`로 인식**\n",
    "\n",
    "      * 해결 방법: `\\d`를 `이스케이프 시퀀스`로 인식하지 않도록 처리 → **`r 접두사` 추가 = `raw string`로 처리**\n",
    "\n",
    "  * 동작: `문자열`을 그대로 해석\n",
    "\n",
    "  * 사용하는 이유\n",
    "    * **`LaTeX` 문서에서 `\\`는 특별한 명령어를 나타내는 데 사용하기 때문에 구분이 필요**\n",
    "      * 예시: **`\\section` = 섹션을 만드는 명령어**"
   ]
  },
  {
   "cell_type": "code",
   "execution_count": 15,
   "id": "b8d537dd",
   "metadata": {},
   "outputs": [],
   "source": [
    "# LaTeX 텍스트 예시\n",
    "latex_text = r\"\"\"\n",
    "\\documentclass{article}\n",
    "\n",
    "\\begin{document}\n",
    "\n",
    "\\maketitle\n",
    "\n",
    "\\section{Introduction}\n",
    "% LLM은 방대한 양의 텍스트 데이터로 학습하여 사람과 유사한 언어를 생성할 수 있는 기계 학습 모델의 한 유형입니다.\n",
    "% 최근 몇 년 동안 LLM은 언어 번역, 텍스트 생성, 감성 분석 등 다양한 자연어 처리 작업에서 상당한 발전을 이루었습니다.\n",
    "\n",
    "\\subsection{History of LLMs}\n",
    "% 초기 LLM은 1980년대와 1990년대에 개발되었지만, 처리할 수 있는 데이터 양과 당시 사용 가능한 컴퓨팅 능력으로 인해 제한되었습니다.\n",
    "% 그러나 지난 10년 동안 하드웨어와 소프트웨어의 발전으로 대규모 데이터 세트에 대해 LLM을 학습시킬 수 있게 되었고, 이는 성능의 큰 향상으로 이어졌습니다.\n",
    "\n",
    "\\subsection{Applications of LLMs}\n",
    "% LLM은 챗봇, 콘텐츠 생성, 가상 어시스턴트 등 산업 분야에서 많은 응용 분야를 가지고 있습니다.\n",
    "% 또한 언어학, 심리학, 컴퓨터 언어학 연구를 위해 학계에서도 사용될 수 있습니다.\n",
    "\n",
    "\\end{document}\n",
    "\"\"\""
   ]
  },
  {
   "cell_type": "code",
   "execution_count": null,
   "id": "36535a95",
   "metadata": {},
   "outputs": [],
   "source": [
    "print(type(latex_text))                 # <class 'str'>"
   ]
  },
  {
   "cell_type": "markdown",
   "id": "a20ab586",
   "metadata": {},
   "source": [
    "* 분할 및 결과 출력하기"
   ]
  },
  {
   "cell_type": "code",
   "execution_count": null,
   "id": "b2739d83",
   "metadata": {},
   "outputs": [],
   "source": [
    "latex_splitter = RecursiveCharacterTextSplitter.from_language(\n",
    "    language=Language.LATEX,\n",
    "    chunk_size=60,\n",
    "\n",
    "    chunk_overlap=0,\n",
    ")\n",
    "\n",
    "# latex_text를 분할하여 문서 목록 생성하기\n",
    "latex_docs = latex_splitter.create_documents([latex_text])\n",
    "\n",
    "# 생성된 문서 목록 출력하기\n",
    "latex_docs"
   ]
  },
  {
   "cell_type": "markdown",
   "id": "1a48012d",
   "metadata": {},
   "source": [
    "<small>\n",
    "\n",
    "* 셀 출력\n",
    "\n",
    "    ```python\n",
    "    [Document(metadata={}, page_content='\\\\documentclass{article}\\n\\n\\\\begin{document}\\n\\n\\\\maketitle'),\n",
    "    Document(metadata={}, page_content='\\\\section{Introduction}\\n% LLM은 방대한 양의 텍스트 데이터로 학습하여 사람과 유사한'),\n",
    "    Document(metadata={}, page_content='언어를 생성할 수 있는 기계 학습 모델의 한 유형입니다.\\n% 최근 몇 년 동안 LLM은 언어 번역, 텍스트'),\n",
    "    Document(metadata={}, page_content='생성, 감성 분석 등 다양한 자연어 처리 작업에서 상당한 발전을 이루었습니다.'),\n",
    "    Document(metadata={}, page_content='\\\\subsection{History of LLMs}\\n% 초기 LLM은 1980년대와 1990년대에'),\n",
    "    Document(metadata={}, page_content='개발되었지만, 처리할 수 있는 데이터 양과 당시 사용 가능한 컴퓨팅 능력으로 인해 제한되었습니다.\\n%'),\n",
    "    Document(metadata={}, page_content='그러나 지난 10년 동안 하드웨어와 소프트웨어의 발전으로 대규모 데이터 세트에 대해 LLM을 학습시킬 수'),\n",
    "    Document(metadata={}, page_content='있게 되었고, 이는 성능의 큰 향상으로 이어졌습니다.'),\n",
    "    Document(metadata={}, page_content='\\\\subsection{Applications of LLMs}\\n% LLM은 챗봇, 콘텐츠 생성, 가상'),\n",
    "    Document(metadata={}, page_content='어시스턴트 등 산업 분야에서 많은 응용 분야를 가지고 있습니다.\\n% 또한 언어학, 심리학, 컴퓨터 언어학'),\n",
    "    Document(metadata={}, page_content='연구를 위해 학계에서도 사용될 수 있습니다.\\n\\n\\\\end{document}')]\n",
    "    ```"
   ]
  },
  {
   "cell_type": "markdown",
   "id": "6680aa17",
   "metadata": {},
   "source": [
    "---"
   ]
  },
  {
   "cell_type": "markdown",
   "id": "5613da17",
   "metadata": {},
   "source": [
    "#### **7) `HTML`**"
   ]
  },
  {
   "cell_type": "markdown",
   "id": "12710fba",
   "metadata": {},
   "source": [
    "* **`HTML` 텍스트 분할기를 사용한 예제**"
   ]
  },
  {
   "cell_type": "code",
   "execution_count": 18,
   "id": "9cd02916",
   "metadata": {},
   "outputs": [],
   "source": [
    "html_text = \"\"\"\n",
    "<!DOCTYPE html>\n",
    "<html>\n",
    "    <head>\n",
    "        <title>🦜️🔗 LangChain</title>\n",
    "        <style>\n",
    "            body {\n",
    "                font-family: Arial, sans-serif;  \n",
    "            }\n",
    "            h1 {\n",
    "                color: darkblue;\n",
    "            }\n",
    "        </style>\n",
    "    </head>\n",
    "    <body>\n",
    "        <div>\n",
    "            <h1>🦜️🔗 LangChain</h1>\n",
    "            <p>⚡ Building applications with LLMs through composability ⚡</p>  \n",
    "        </div>\n",
    "        <div>\n",
    "            As an open-source project in a rapidly developing field, we are extremely open to contributions.\n",
    "        </div>\n",
    "    </body>\n",
    "</html>\n",
    "\"\"\""
   ]
  },
  {
   "cell_type": "markdown",
   "id": "52a7de83",
   "metadata": {},
   "source": [
    "* 분할 및 결과 출력하기"
   ]
  },
  {
   "cell_type": "code",
   "execution_count": null,
   "id": "9cc3367c",
   "metadata": {},
   "outputs": [],
   "source": [
    "# HTML 언어를 사용하여 텍스트 분할기 생성\n",
    "html_splitter = RecursiveCharacterTextSplitter.from_language(\n",
    "    language=Language.HTML,\n",
    "    chunk_size=60,\n",
    "    chunk_overlap=0,\n",
    ")\n",
    "\n",
    "# 주어진 HTML 텍스트를 분할하여 문서 생성\n",
    "html_docs = html_splitter.create_documents([html_text])\n",
    "\n",
    "# 생성된 문서 출력\n",
    "html_docs"
   ]
  },
  {
   "cell_type": "markdown",
   "id": "555ebe8b",
   "metadata": {},
   "source": [
    "<small>\n",
    "\n",
    "* 셀 출력\n",
    "\n",
    "    ```python\n",
    "    [Document(metadata={}, page_content='<!DOCTYPE html>\\n<html>'),\n",
    "    Document(metadata={}, page_content='<head>\\n        <title>🦜️🔗 LangChain</title>'),\n",
    "    Document(metadata={}, page_content='<style>\\n            body {\\n                font-family: Aria'),\n",
    "    Document(metadata={}, page_content='l, sans-serif;  \\n            }\\n            h1 {'),\n",
    "    Document(metadata={}, page_content='color: darkblue;\\n            }\\n        </style>\\n    </he'),\n",
    "    Document(metadata={}, page_content='ad>'),\n",
    "    Document(metadata={}, page_content='<body>'),\n",
    "    Document(metadata={}, page_content='<div>\\n            <h1>🦜️🔗 LangChain</h1>'),\n",
    "    Document(metadata={}, page_content='<p>⚡ Building applications with LLMs through composability ⚡'),\n",
    "    Document(metadata={}, page_content='</p>  \\n        </div>'),\n",
    "    Document(metadata={}, page_content='<div>\\n            As an open-source project in a rapidly dev'),\n",
    "    Document(metadata={}, page_content='eloping field, we are extremely open to contributions.'),\n",
    "    Document(metadata={}, page_content='</div>\\n    </body>\\n</html>')]\n",
    "    ```"
   ]
  },
  {
   "cell_type": "markdown",
   "id": "90e856bb",
   "metadata": {},
   "source": [
    "---"
   ]
  },
  {
   "cell_type": "markdown",
   "id": "ee7c0976",
   "metadata": {},
   "source": [
    "#### **8) `Solidity`**"
   ]
  },
  {
   "cell_type": "markdown",
   "id": "1c6a5dbc",
   "metadata": {},
   "source": [
    "* **`Solidity`**\n",
    "\n",
    "  * **`이더리움 블록체인`에서 `스마트 계약`을 작성하기 위해 `사용`되는 `프로그래밍 언어`**\n",
    "\n",
    "  * **`튜링 완전한 언어`**\n",
    "    * 이론상 `모든 계산 가능한 문제를 해결할 수 있는 능력`을 가진 프로그래밍 언어\n",
    "    * = `복잡한 알고리즘`이나 `프로그램`을 `작성`할 수 있는 `강력한 기능`을 가지고 있음\n",
    "    * 이더리움의 스마트 계약은 튜링 완전한 언어로 작성 **→ `다양한 금융`, `게임`, `투표` 등 `복잡한 시스템` 구현 가능**\n",
    "\n",
    "  * **`이더리움 가상 머신`(`EVM`)에서 실행**"
   ]
  },
  {
   "cell_type": "markdown",
   "id": "befd34a9",
   "metadata": {},
   "source": [
    "* `Solidity` 텍스트 분할기 사용한 예제\n",
    "\n",
    "  * **`Solidity` 코드** = 문자열 형태 → **`SOL_CODE` 변수에 저장**\n",
    "\n",
    "  * **`RecursiveCharacterTextSplitter`** 사용 → `Solidity` 코드를 `청크 단위`로 `분할`하는 **`sol_splitter` 생성하기**\n",
    "    * `language` 매개변수 = **`Language.SOL`로 설정 → `Solidity` 언어 지정**\n",
    "    * **`chunk_size = 128`** → 각 청크의 최대 크기 지정\n",
    "    * **`chunk_overlap = 0`** → 청크 간의 중복 X\n",
    "  \n",
    "  * `sol_splitter.create_documents()` 메서드 사용 → `SOL_CODE`를 `청크 단위`로 `분할` → 분할된 청크를 `sol_docs` 변수에 `저장`\n",
    "\n",
    "  * `sol_docs`를 `출력`하여 분할된 `Solidity` 코드 청크를 확인"
   ]
  },
  {
   "cell_type": "code",
   "execution_count": 20,
   "id": "e3a92939",
   "metadata": {},
   "outputs": [],
   "source": [
    "SOL_CODE = \"\"\"\n",
    "pragma solidity ^0.8.20; \n",
    "contract HelloWorld {  \n",
    "    function add(uint a, uint b) pure public returns(uint) {\n",
    "        return a + b;\n",
    "    }\n",
    "}\n",
    "\"\"\""
   ]
  },
  {
   "cell_type": "markdown",
   "id": "1afdda63",
   "metadata": {},
   "source": [
    "* 분할 및 결과 출력하기"
   ]
  },
  {
   "cell_type": "code",
   "execution_count": null,
   "id": "d2682e6f",
   "metadata": {},
   "outputs": [],
   "source": [
    "sol_splitter = RecursiveCharacterTextSplitter.from_language(\n",
    "    language=Language.SOL, \n",
    "    chunk_size=128, \n",
    "    chunk_overlap=0\n",
    ")\n",
    "\n",
    "sol_docs = sol_splitter.create_documents([SOL_CODE])\n",
    "sol_docs"
   ]
  },
  {
   "cell_type": "markdown",
   "id": "7bc64f0d",
   "metadata": {},
   "source": [
    "<small>\n",
    "\n",
    "* 셀 출력\n",
    "\n",
    "    ```python\n",
    "    [Document(metadata={}, page_content='pragma solidity ^0.8.20;'),\n",
    "    Document(metadata={}, page_content='contract HelloWorld {  \\n    function add(uint a, uint b) pure public returns(uint) {\\n        return a + b;\\n    }\\n}')]\n",
    "    ```"
   ]
  },
  {
   "cell_type": "markdown",
   "id": "203a187d",
   "metadata": {},
   "source": [
    "---"
   ]
  },
  {
   "cell_type": "markdown",
   "id": "8a6f1e6e",
   "metadata": {},
   "source": [
    "#### **8) `C#`**"
   ]
  },
  {
   "cell_type": "markdown",
   "id": "a2e9eb29",
   "metadata": {},
   "source": [
    "* **`C#`**\n",
    "  * 2000년 7월 MS에서 개발한 프로그래밍 언어\n",
    "  * **`.NET` 프레임워크의 핵심 언어로 설계 → 객체 지향 프로그래밍, 자동 메모리 관리를 지원하는 현대적인 언어**\n",
    "\n",
    "* 특징: **`OOP(객체 지향 프로그래밍)` 지원**, 강력한 타입 시스템 및 메모리 관리 제공\n",
    "\n",
    "* 주요 사용 분야\n",
    "  * **`MS`의 `.NET` 플랫폼에서 주로 사용 → `Windows` 애플리케이션 개발에 최적화**\n",
    "  * `게임 개발`(`Unity 엔진`), `클라우드 서비스`(`Azure`), `엔터프라이즈 소프트웨어` 등에 활용\n",
    "\n",
    "* 만들어진 이유\n",
    "  * **`간결성`**: `C/C++`의 복잡한 문법 단순화 → 개발 생산성 ↑\n",
    "  * **`객체 지향`**: 클래스, 상속, 다형성 등 `OOP`를 기본으로 지원 → 복잡한 시스템 구현 용이성 ↑\n",
    "  * **`통합성`**\n",
    "    * `.NET` 프레임워크와 완벽하게 통합 → `Windows` 애플리케이션 개발 혁신 ↑ (**`MS 생태계와의 호환성 ↑`**)\n",
    "    * **`크로스 플랫폼 개발 가능`** → `모바일(Android, iOS)`, `웹`, `데스크톱` 애플리케이션 모두 지원\n",
    "\n",
    "* **`C#` vs `C/C++` 차이점**\n",
    "  * `문법`: `C#`은 `C/C++`보다 **`간결`하고 `직관적`인 `문법`을 제공**\n",
    "  * `메모리 관리`: `C#`은 **`자동 가비지 컬렉션 지원` → `메모리 관리`가 더 쉬움**\n",
    "  * `플랫폼`: `C#`은 `.NET 프레임워크` 위에서 실행 → **`크로스 플랫폼 개발 가능`**"
   ]
  },
  {
   "cell_type": "code",
   "execution_count": 22,
   "id": "d722240a",
   "metadata": {},
   "outputs": [],
   "source": [
    "C_CODE = \"\"\"\n",
    "using System;\n",
    "class Program\n",
    "{\n",
    "    static void Main()\n",
    "    {\n",
    "        Console.WriteLine(\"Enter a number (1-5):\");\n",
    "        int input = Convert.ToInt32(Console.ReadLine());\n",
    "        for (int i = 1; i <= input; i++)\n",
    "        {\n",
    "            if (i % 2 == 0)\n",
    "            {\n",
    "                Console.WriteLine($\"{i} is even.\");\n",
    "            }\n",
    "            else\n",
    "            {\n",
    "                Console.WriteLine($\"{i} is odd.\");\n",
    "            }\n",
    "        }\n",
    "        Console.WriteLine(\"Goodbye!\");\n",
    "    }\n",
    "}\n",
    "\"\"\""
   ]
  },
  {
   "cell_type": "markdown",
   "id": "fef6ccc2",
   "metadata": {},
   "source": [
    "* 분할 및 결과 출력하기"
   ]
  },
  {
   "cell_type": "code",
   "execution_count": null,
   "id": "c1626aaf",
   "metadata": {},
   "outputs": [],
   "source": [
    "c_splitter = RecursiveCharacterTextSplitter.from_language(\n",
    "    language=Language.CSHARP, chunk_size=128, chunk_overlap=0\n",
    ")\n",
    "c_docs = c_splitter.create_documents([C_CODE])\n",
    "c_docs"
   ]
  },
  {
   "cell_type": "markdown",
   "id": "d137937b",
   "metadata": {},
   "source": [
    "<small>\n",
    "\n",
    "* 셀 출력\n",
    "\n",
    "    ```python\n",
    "    [Document(metadata={}, page_content='using System;'),\n",
    "    Document(metadata={}, page_content='class Program\\n{\\n    static void Main()\\n    {\\n        Console.WriteLine(\"Enter a number (1-5):\");'),\n",
    "    Document(metadata={}, page_content='int input = Convert.ToInt32(Console.ReadLine());\\n        for (int i = 1; i <= input; i++)\\n        {'),\n",
    "    Document(metadata={}, page_content='if (i % 2 == 0)\\n            {\\n                Console.WriteLine($\"{i} is even.\");\\n            }\\n            else'),\n",
    "    Document(metadata={}, page_content='{\\n                Console.WriteLine($\"{i} is odd.\");\\n            }\\n        }\\n        Console.WriteLine(\"Goodbye!\");'),\n",
    "    Document(metadata={}, page_content='}\\n}')]\n",
    "    ```"
   ]
  },
  {
   "cell_type": "markdown",
   "id": "6f54adbf",
   "metadata": {},
   "source": [
    "---"
   ]
  },
  {
   "cell_type": "markdown",
   "id": "18bfe079",
   "metadata": {},
   "source": [
    "* *next: **`마크다운 헤더 텍스트 분할 (MarkdownHeaderTextSplitter)`***"
   ]
  },
  {
   "cell_type": "markdown",
   "id": "353a5347",
   "metadata": {},
   "source": [
    "---"
   ]
  }
 ],
 "metadata": {
  "kernelspec": {
   "display_name": "lc_env",
   "language": "python",
   "name": "python3"
  },
  "language_info": {
   "codemirror_mode": {
    "name": "ipython",
    "version": 3
   },
   "file_extension": ".py",
   "mimetype": "text/x-python",
   "name": "python",
   "nbconvert_exporter": "python",
   "pygments_lexer": "ipython3",
   "version": "3.13.5"
  }
 },
 "nbformat": 4,
 "nbformat_minor": 5
}
