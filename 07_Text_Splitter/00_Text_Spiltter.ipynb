{
 "cells": [
  {
   "cell_type": "markdown",
   "id": "a4553e3c",
   "metadata": {},
   "source": [
    "---"
   ]
  },
  {
   "cell_type": "markdown",
   "id": "ae8616d8",
   "metadata": {},
   "source": [
    "* 출처: LangChain 공식 문서 또는 해당 교재명\n",
    "* 원본 URL: https://smith.langchain.com/hub/teddynote/summary-stuff-documents"
   ]
  },
  {
   "cell_type": "markdown",
   "id": "d0d5f375",
   "metadata": {},
   "source": [
    "---"
   ]
  },
  {
   "cell_type": "markdown",
   "id": "9bab79c5",
   "metadata": {},
   "source": [
    "# **`07_텍스트 분할(Text Splitter)`**"
   ]
  },
  {
   "cell_type": "markdown",
   "id": "76339959",
   "metadata": {},
   "source": [
    "## **`개념 설명`**"
   ]
  },
  {
   "cell_type": "markdown",
   "id": "2a8519ca",
   "metadata": {},
   "source": [
    "* *[텍스트 분할기](https://wikidocs.net/233998)*\n",
    "\n",
    "* *[LangChain TextSplitter](https://python.langchain.com/v0.1/docs/modules/data_connection/document_transformers/)*\n",
    "\n",
    "* *[Chunk 분할 시각화 사이트](https://chunkviz.up.railway.app/)* \n",
    "  * *`Greg Kamradt`가 만든 `Chunk Visualization` 사이트*\n",
    "  * ![Chunk 분할 시각화 사이트](../07_Text_Splitter/Img/chunkviz.png)"
   ]
  },
  {
   "cell_type": "markdown",
   "id": "f58d49ac",
   "metadata": {},
   "source": [
    "---"
   ]
  },
  {
   "cell_type": "markdown",
   "id": "f0e2e8e8",
   "metadata": {},
   "source": [
    "* **`RAG`** (Retrieval-Augmented Generation) 시스템의 `두 번째 단계`\n",
    "\n",
    "* 로드된 문서들을 `효율적으로 처리`하고, 시스템이 정보를 보다 `잘 활용`할 수 있도록 준비하는 중요한 과정"
   ]
  },
  {
   "cell_type": "markdown",
   "id": "f8ba9cc3",
   "metadata": {},
   "source": [
    "---"
   ]
  },
  {
   "cell_type": "markdown",
   "id": "fc980680",
   "metadata": {},
   "source": [
    "### **`목적`**"
   ]
  },
  {
   "cell_type": "markdown",
   "id": "805fe347",
   "metadata": {},
   "source": [
    "* 크고 복잡한 문서 → **`LLM`** 이 받아들일 수 있는 **`효율적인 작은 규모의 조각`으로 `나누는 작업`**\n",
    "\n",
    "* 나중에 사용자가 입력한 질문에 대하여 **`보다 효율적인 정보만 압축 • 선별`하여 가져오기 위함**\n",
    "\n",
    "  * *예시: 구글이 엔트로픽에 투자한 금액은 얼마야?*\n",
    "\n",
    "  * ![예시 화면](../07_Text_Splitter/Img/text_split_1.png)"
   ]
  },
  {
   "cell_type": "markdown",
   "id": "faf2642d",
   "metadata": {},
   "source": [
    "---"
   ]
  },
  {
   "cell_type": "markdown",
   "id": "df01136d",
   "metadata": {},
   "source": [
    "### **`분할의 필요성`**"
   ]
  },
  {
   "cell_type": "markdown",
   "id": "95b4cce9",
   "metadata": {},
   "source": [
    "* **`정확성`**: 핀포인트 정보 검색\n",
    "\n",
    "  * `문서 세분화`함 → **`질문(Query)`** 에 **`연관성`이 있는 `정보만` 가져오는데 도움**\n",
    "\n",
    "  * **`각각의 단위`는 `특정 주제`나 `내용`에 초점을 맞춤 → `관련성이 높은 정보` 제공**\n",
    "\n",
    "<br>\n",
    "\n",
    "* **`효율성`**: 리소스 최적화\n",
    "\n",
    "  * 전체 문서를 `LLM`으로 입력시 단점 → 비용이 많이 발생\n",
    "\n",
    "  * **`효율적인 답변`을 많은 정보 속에 발췌하여 `답변하지 못함`**\n",
    "\n",
    "    * 때로는 이러한 문제가 **`할루시네이션`** 으로 이어짐 \n",
    "    * 따라서, **`답변에 필요한 정보만 발췌하기 위한 목적`** 도 있음"
   ]
  },
  {
   "cell_type": "markdown",
   "id": "882d5a84",
   "metadata": {},
   "source": [
    "---"
   ]
  },
  {
   "cell_type": "markdown",
   "id": "f027d828",
   "metadata": {},
   "source": [
    "### **`문서분할 과정`**"
   ]
  },
  {
   "cell_type": "markdown",
   "id": "7d3a68d4",
   "metadata": {},
   "source": [
    "* **`문서 구조 파악`**\n",
    "  * `PDF 파일`, `웹 페이지`, `전자 책` 등 **다양한 형식의 문서 → 구조 파악**\n",
    "  * 문서의 `헤더`, `푸터`, `페이지 번호`, `섹션 제목` 등을 `식별`하는 `과정` 포함\n",
    "\n",
    "* **`단위 선정`**\n",
    "  * **문서를 `어떤 단위`로 나눌지 결정 → 문서의 `내용`과 `목적`에 따라 달라짐**\n",
    "  * `페이지별`, `섹션별`, 또는 `문단별` 등\n",
    "\n",
    "* **`단위 크기 선정`(`chunk size`)**\n",
    "  * 문서를 **`몇 개의 토큰 단위`로** 나눌 것인지를 결정\n",
    "\n",
    "* **`청크 오버랩`(`chunk overlap`)**\n",
    "  * `분할된 끝 부분`에서 **`맥락이 이어질 수 있도록 일부를 겹쳐서(overlap)`** 분할하는 것이 일반적\n",
    "  * ![청크 크기 & 청크 오버랩](../07_Text_Splitter/Img/text_split_2.png)"
   ]
  },
  {
   "cell_type": "markdown",
   "id": "102b8b7e",
   "metadata": {},
   "source": [
    "---"
   ]
  },
  {
   "cell_type": "markdown",
   "id": "590bfd6f",
   "metadata": {},
   "source": [
    "### **`코드`**"
   ]
  },
  {
   "cell_type": "markdown",
   "id": "384a9093",
   "metadata": {},
   "source": [
    "* 사전 `VS Code` 터미널에 설치할 것\n",
    "\n",
    "```bash\n",
    "        pip install -qU langchain-text-splitters\n",
    "```"
   ]
  },
  {
   "cell_type": "code",
   "execution_count": null,
   "id": "dba724fc",
   "metadata": {},
   "outputs": [],
   "source": [
    "from langchain_text_splitters import RecursiveCharacterTextSplitter\n",
    "\n",
    "# 단계 2: 문서 분할(Split Documents)\n",
    "text_splitter = RecursiveCharacterTextSplitter(\n",
    "    chunk_size=1000,                            # 분할된 텍스트 청크 최대 크기 지정\n",
    "    chunk_overlap=50                            # 분할된 텍스트 청크 간 중복되는 문자 수 지정\n",
    "    )\n",
    "\n",
    "# 중간 과정 중략\n",
    "\n",
    "# 단계 3: 문서 분할\n",
    "splits = text_splitter.split_documents(docs)"
   ]
  },
  {
   "cell_type": "markdown",
   "id": "6f54adbf",
   "metadata": {},
   "source": [
    "---"
   ]
  },
  {
   "cell_type": "markdown",
   "id": "18bfe079",
   "metadata": {},
   "source": [
    "* *next: **`문자 텍스트 분할 (CharacterTextSplitter)`***"
   ]
  },
  {
   "cell_type": "markdown",
   "id": "353a5347",
   "metadata": {},
   "source": [
    "---"
   ]
  }
 ],
 "metadata": {
  "kernelspec": {
   "display_name": "lc_env",
   "language": "python",
   "name": "python3"
  },
  "language_info": {
   "codemirror_mode": {
    "name": "ipython",
    "version": 3
   },
   "file_extension": ".py",
   "mimetype": "text/x-python",
   "name": "python",
   "nbconvert_exporter": "python",
   "pygments_lexer": "ipython3",
   "version": "3.13.5"
  }
 },
 "nbformat": 4,
 "nbformat_minor": 5
}
