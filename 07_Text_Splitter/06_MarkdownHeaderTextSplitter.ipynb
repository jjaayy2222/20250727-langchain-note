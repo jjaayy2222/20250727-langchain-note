{
 "cells": [
  {
   "cell_type": "markdown",
   "id": "a4553e3c",
   "metadata": {},
   "source": [
    "---"
   ]
  },
  {
   "cell_type": "markdown",
   "id": "ae8616d8",
   "metadata": {},
   "source": [
    "* 출처: LangChain 공식 문서 또는 해당 교재명\n",
    "* 원본 URL: https://smith.langchain.com/hub/teddynote/summary-stuff-documents"
   ]
  },
  {
   "cell_type": "markdown",
   "id": "d0d5f375",
   "metadata": {},
   "source": [
    "---"
   ]
  },
  {
   "cell_type": "markdown",
   "id": "891e95bd",
   "metadata": {},
   "source": [
    "### **`마크다운 헤더 텍스트 분할 (MarkdownHeaderTextSplitter)`**"
   ]
  },
  {
   "cell_type": "markdown",
   "id": "7487e4ae",
   "metadata": {},
   "source": [
    "* 마크다운 파일의 `구조`를 `이해`하고 `효율적으로 다루는 것` = 문서 작업에 있어 매우 중요\n",
    "\n",
    "  * 특히, 문서의 전체적인 맥락과 구조를 고려하여 의미 있는 방식으로 `텍스트`를 `임베딩`하는 과정 = 광범위한 의미와 주제를 더 잘 포착할 수 있는 포괄적인 벡터 표현을 생성하는 데 큰 도움\n",
    "\n",
    "  * **마크다운 파일의 `특정 부분`으로 내용을 나누는 것 = 텍스트의 `공통된 맥락`을 `유지`하면서도, 문서의 `구조적 요소`를 효과적으로 활용하려는 시도**\n",
    "    * 예시: `헤더별`로 내용을 나누고 싶은 경우\n",
    "    * 문서 내에서 각각의 헤더 아래에 있는 내용을 기반으로 서로 연관된 정보 덩어리, 즉 `청크`를 만들고 싶은 경우"
   ]
  },
  {
   "cell_type": "markdown",
   "id": "ff7bfb2c",
   "metadata": {},
   "source": [
    "#### [**`MarkdownHeaderTextSplitter`**](https://python.langchain.com/docs/how_to/markdown_header_metadata_splitter/)"
   ]
  },
  {
   "cell_type": "markdown",
   "id": "29cd7463",
   "metadata": {},
   "source": [
    "* **`MarkdownHeaderTextSplitter`** 활용\n",
    "\n",
    "  * 문서를 `지정된 헤더 집합`에 따라 분할 **→ `각 헤더 그룹 아래`의 내용을 `별도의 청크`로 관리할 수 있게 함**\n",
    "\n",
    "  * 문서의 `전반적인 구조`를 `유지`하면서도 `내용`을 `더 세밀하게` 다룰 수 있게 되며, 이는 `다양한 처리` 과정에서 유용하게 활용"
   ]
  },
  {
   "cell_type": "markdown",
   "id": "6aab8aa5",
   "metadata": {},
   "source": [
    "---"
   ]
  },
  {
   "cell_type": "markdown",
   "id": "51e9820a",
   "metadata": {},
   "source": [
    "* 사전에 `VS Code` 터미널에 설치할 것\n",
    "  \n",
    "```bash\n",
    "        pip install -qU langchain-text-splitters\n",
    "```"
   ]
  },
  {
   "cell_type": "markdown",
   "id": "69aa61ff",
   "metadata": {},
   "source": [
    "---"
   ]
  },
  {
   "cell_type": "markdown",
   "id": "5972c13e",
   "metadata": {},
   "source": [
    "* **`MarkdownHeaderTextSplitter` 사용 → 마크다운 형식의 텍스트를 `헤더 단위`로 분할**\n",
    "\n",
    "  * 마크다운 문서의 **헤더(`#`, `##`, `###` 등)를 기준** = `텍스트`를 `분할`하는 `역할`\n",
    "\n",
    "  * `markdown_document` 변수 = 마크다운 형식의 문서 할당\n",
    "\n",
    "  * `headers_to_split_on` 리스트 = `마크다운 헤더 레벨`과 `해당 레벨의 이름`이 **`튜플 형태`로 정의***\n",
    "\n",
    "  * `MarkdownHeaderTextSplitter` 클래스 사용 → `markdown_splitter` 객체 생성 → **`headers_to_split_on` 매개변수로 `분할 기준`이 되는 `헤더 레벨` 전달**\n",
    "\n",
    "  * `split_text` 메서드 호출 **→ `markdown_document`를 헤더 레벨에 따라 분할**"
   ]
  },
  {
   "cell_type": "code",
   "execution_count": null,
   "id": "8c8c440b",
   "metadata": {},
   "outputs": [],
   "source": [
    "from langchain_text_splitters import MarkdownHeaderTextSplitter\n",
    "\n",
    "# 마크다운 형식의 문서를 문자열로 정의하기\n",
    "markdown_document = \"# Title\\n\\n## 1. SubTitle\\n\\nHi this is Jim\\n\\nHi this is Joe\\n\\n### 1-1. Sub-SubTitle \\n\\nHi this is Lance \\n\\n## 2. Baz\\n\\nHi this is Molly\"\n",
    "print(markdown_document)"
   ]
  },
  {
   "cell_type": "markdown",
   "id": "ad5d2ffb",
   "metadata": {},
   "source": [
    "<small>\n",
    "\n",
    "* 셀 출력\n",
    "\n",
    "    ```markdown\n",
    "    # Title\n",
    "\n",
    "    ## 1. SubTitle\n",
    "\n",
    "    Hi this is Jim\n",
    "\n",
    "    Hi this is Joe\n",
    "\n",
    "    ### 1-1. Sub-SubTitle \n",
    "\n",
    "    Hi this is Lance \n",
    "\n",
    "    ## 2. Baz\n",
    "\n",
    "    Hi this is Molly\n",
    "    ```"
   ]
  },
  {
   "cell_type": "code",
   "execution_count": null,
   "id": "67df251b",
   "metadata": {},
   "outputs": [],
   "source": [
    "# 문서를 분할할 헤더 레벨과 해당 레벨의 이름을 정의하기\n",
    "headers_to_split_on = [\n",
    "    (\n",
    "        \"#\",                # 헤더 레벨 1은 '#'로 표시, 'Header 1'이라는 이름\n",
    "        \"Header 1\",\n",
    "    ),\n",
    "    (\n",
    "        \"##\",               # 헤더 레벨 2는 '##'로 표시, 'Header 2'라는 이름\n",
    "        \"Header 2\",\n",
    "    ),\n",
    "    (\n",
    "        \"###\",              # 헤더 레벨 3은 '###'로 표시, 'Header 3'이라는 이름\n",
    "        \"Header 3\",\n",
    "    ),  \n",
    "]\n",
    "\n",
    "# 마크다운 헤더를 기준으로 텍스트를 분할하는 MarkdownHeaderTextSplitter 객체 생성하기\n",
    "markdown_splitter = MarkdownHeaderTextSplitter(headers_to_split_on=headers_to_split_on)\n",
    "\n",
    "# markdown_document를 헤더를 기준으로 분할하여 md_header_splits에 저장하기\n",
    "md_header_splits = markdown_splitter.split_text(markdown_document)\n",
    "\n",
    "\n",
    "# 분할된 결과를 출력하기\n",
    "for header in md_header_splits:\n",
    "    print(f\"{header.page_content}\")\n",
    "    print(f\"{header.metadata}\", end=\"\\n=====================\\n\")"
   ]
  },
  {
   "cell_type": "markdown",
   "id": "0e62069c",
   "metadata": {},
   "source": [
    "<small>\n",
    "\n",
    "* 셀 출력\n",
    "\n",
    "    ```markdown\n",
    "    Hi this is Jim  \n",
    "    Hi this is Joe\n",
    "    {'Header 1': 'Title', 'Header 2': '1. SubTitle'}\n",
    "    =====================\n",
    "    Hi this is Lance\n",
    "    {'Header 1': 'Title', 'Header 2': '1. SubTitle', 'Header 3': '1-1. Sub-SubTitle'}\n",
    "    =====================\n",
    "    Hi this is Molly\n",
    "    {'Header 1': 'Title', 'Header 2': '2. Baz'}\n",
    "    =====================\n",
    "    ```"
   ]
  },
  {
   "cell_type": "markdown",
   "id": "630f9cb6",
   "metadata": {},
   "source": [
    "---"
   ]
  },
  {
   "cell_type": "markdown",
   "id": "6847f5d2",
   "metadata": {},
   "source": [
    "#### 각 마크다운 그룹 내 = `원하는 텍스트 분할기(text splitter)` 적용 가능"
   ]
  },
  {
   "cell_type": "code",
   "execution_count": null,
   "id": "92938b37",
   "metadata": {},
   "outputs": [],
   "source": [
    "from langchain_text_splitters import RecursiveCharacterTextSplitter\n",
    "\n",
    "markdown_document = \"# Intro \\n\\n## History \\n\\nMarkdown[9] is a lightweight markup language for creating formatted text using a plain-text editor. John Gruber created Markdown in 2004 as a markup language that is appealing to human readers in its source code form.[9] \\n\\nMarkdown is widely used in blogging, instant messaging, online forums, collaborative software, documentation pages, and readme files. \\n\\n## Rise and divergence \\n\\nAs Markdown popularity grew rapidly, many Markdown implementations appeared, driven mostly by the need for \\n\\nadditional features such as tables, footnotes, definition lists,[note 1] and Markdown inside HTML blocks. \\n\\n#### Standardization \\n\\nFrom 2012, a group of people, including Jeff Atwood and John MacFarlane, launched what Atwood characterised as a standardisation effort. \\n\\n## Implementations \\n\\nImplementations of Markdown are available for over a dozen programming languages.\"\n",
    "\n",
    "print(markdown_document)"
   ]
  },
  {
   "cell_type": "markdown",
   "id": "acf1bead",
   "metadata": {},
   "source": [
    "<small>\n",
    "\n",
    "* 셀 출력\n",
    "\n",
    "    ```markdown\n",
    "    # Intro \n",
    "\n",
    "    ## History \n",
    "\n",
    "    Markdown[9] is a lightweight markup language for creating formatted text using a plain-text editor. John Gruber created Markdown in 2004 as a markup language that is appealing to human readers in its source code form.[9] \n",
    "\n",
    "    Markdown is widely used in blogging, instant messaging, online forums, collaborative software, documentation pages, and readme files. \n",
    "\n",
    "    ## Rise and divergence \n",
    "\n",
    "    As Markdown popularity grew rapidly, many Markdown implementations appeared, driven mostly by the need for \n",
    "\n",
    "    additional features such as tables, footnotes, definition lists,[note 1] and Markdown inside HTML blocks. \n",
    "\n",
    "    #### Standardization \n",
    "\n",
    "    From 2012, a group of people, including Jeff Atwood and John MacFarlane, launched what Atwood characterised as a standardisation effort. \n",
    "\n",
    "    ## Implementations \n",
    "\n",
    "    Implementations of Markdown are available for over a dozen programming languages.\n",
    "    ```"
   ]
  },
  {
   "cell_type": "markdown",
   "id": "b5687229",
   "metadata": {},
   "source": [
    "---"
   ]
  },
  {
   "cell_type": "markdown",
   "id": "f6faddbc",
   "metadata": {},
   "source": [
    "* `MarkdownHeaderTextSplitter` 사용 → 마크다운 문서를 `헤더`를 `기준`으로 `분할`"
   ]
  },
  {
   "cell_type": "code",
   "execution_count": null,
   "id": "d3325451",
   "metadata": {},
   "outputs": [],
   "source": [
    "# 분할할 헤더 레벨과 해당 레벨의 이름을 지정하기\n",
    "headers_to_split_on = [\n",
    "    (\"#\", \"Header 1\"),  \n",
    "    (\"##\", \"Header 2\"),\n",
    "]\n",
    "\n",
    "# Markdown 문서를 헤더 레벨에 따라 분할하기\n",
    "markdown_splitter = MarkdownHeaderTextSplitter(\n",
    "    headers_to_split_on=headers_to_split_on, strip_headers=False\n",
    ")\n",
    "\n",
    "# 마크다운 문서를 헤더를 기준으로 분할하기\n",
    "md_header_splits = markdown_splitter.split_text(markdown_document)\n",
    "\n",
    "# 분할된 결과 출력하기\n",
    "for header in md_header_splits:\n",
    "    print(f\"{header.page_content}\")\n",
    "    print(f\"{header.metadata}\", end=\"\\n=====================\\n\")"
   ]
  },
  {
   "cell_type": "markdown",
   "id": "1016e0a3",
   "metadata": {},
   "source": [
    "<small>\n",
    "\n",
    "* 셀 출력\n",
    "\n",
    "    ```markdown\n",
    "    # Intro  \n",
    "    ## History  \n",
    "    Markdown[9] is a lightweight markup language for creating formatted text using a plain-text editor. John Gruber created Markdown in 2004 as a markup language that is appealing to human readers in its source code form.[9]  \n",
    "    Markdown is widely used in blogging, instant messaging, online forums, collaborative software, documentation pages, and readme files.\n",
    "    {'Header 1': 'Intro', 'Header 2': 'History'}\n",
    "    =====================\n",
    "    ## Rise and divergence  \n",
    "    As Markdown popularity grew rapidly, many Markdown implementations appeared, driven mostly by the need for  \n",
    "    additional features such as tables, footnotes, definition lists,[note 1] and Markdown inside HTML blocks.  \n",
    "    #### Standardization  \n",
    "    From 2012, a group of people, including Jeff Atwood and John MacFarlane, launched what Atwood characterised as a standardisation effort.\n",
    "    {'Header 1': 'Intro', 'Header 2': 'Rise and divergence'}\n",
    "    =====================\n",
    "    ## Implementations  \n",
    "    Implementations of Markdown are available for over a dozen programming languages.\n",
    "    {'Header 1': 'Intro', 'Header 2': 'Implementations'}\n",
    "    =====================\n",
    "    ```"
   ]
  },
  {
   "cell_type": "markdown",
   "id": "6f54adbf",
   "metadata": {},
   "source": [
    "---"
   ]
  },
  {
   "cell_type": "markdown",
   "id": "18bfe079",
   "metadata": {},
   "source": [
    "* *next: **`HTML 헤더 텍스트 분할 (HTMLHeaderTextSplitter)`***"
   ]
  },
  {
   "cell_type": "markdown",
   "id": "353a5347",
   "metadata": {},
   "source": [
    "---"
   ]
  }
 ],
 "metadata": {
  "kernelspec": {
   "display_name": "lc_env",
   "language": "python",
   "name": "python3"
  },
  "language_info": {
   "codemirror_mode": {
    "name": "ipython",
    "version": 3
   },
   "file_extension": ".py",
   "mimetype": "text/x-python",
   "name": "python",
   "nbconvert_exporter": "python",
   "pygments_lexer": "ipython3",
   "version": "3.13.5"
  }
 },
 "nbformat": 4,
 "nbformat_minor": 5
}
