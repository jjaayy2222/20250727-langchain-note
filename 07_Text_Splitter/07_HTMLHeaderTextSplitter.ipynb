{
 "cells": [
  {
   "cell_type": "markdown",
   "id": "a4553e3c",
   "metadata": {},
   "source": [
    "---"
   ]
  },
  {
   "cell_type": "markdown",
   "id": "ae8616d8",
   "metadata": {},
   "source": [
    "* 출처: LangChain 공식 문서 또는 해당 교재명\n",
    "* 원본 URL: https://smith.langchain.com/hub/teddynote/summary-stuff-documents"
   ]
  },
  {
   "cell_type": "markdown",
   "id": "d0d5f375",
   "metadata": {},
   "source": [
    "---"
   ]
  },
  {
   "cell_type": "markdown",
   "id": "891e95bd",
   "metadata": {},
   "source": [
    "### **`HTML 헤더 텍스트 분할 (HTMLHeaderTextSplitter)`**"
   ]
  },
  {
   "cell_type": "markdown",
   "id": "ff7bfb2c",
   "metadata": {},
   "source": [
    "#### **`HTMLHeaderTextSplitter`**"
   ]
  },
  {
   "cell_type": "markdown",
   "id": "7487e4ae",
   "metadata": {},
   "source": [
    "* **`HTMLHeaderTextSplitter`**\n",
    "  * [`MarkdownHeaderTextSplitter`](https://python.langchain.com/docs/how_to/markdown_header_metadata_splitter/)와 개념적으로 유사\n",
    "  * **`텍스트`를 `요소 수준`에서 `분할`하고 각 `헤더`에 대한 `메타데이터`를 `추가`하는 **`구조 인식` 청크 생성기**\n",
    "\n",
    "  * 각 청크와 **`관련된`** 메타데이터 추가\n",
    "\n",
    "* **`HTMLHeaderTextSplitter`**: `요소별`로 `청크`를 `반환`하거나 `동일한 메타데이터`를 가진 `요소`를 `결합` 가능\n",
    "\n",
    "* 목표\n",
    "  * **`관련 텍스트`를 `의미론적으로` (대략적으로) `그룹화`**\n",
    "  * **`문서 구조`에 `인코딩된 컨텍스트` 풍부한 정보를 `보존`하는 것**"
   ]
  },
  {
   "cell_type": "markdown",
   "id": "7b1a0602",
   "metadata": {},
   "source": [
    "#### **1) `HTML` 문자열을 사용하는 경우**"
   ]
  },
  {
   "cell_type": "markdown",
   "id": "6aab8aa5",
   "metadata": {},
   "source": [
    "---"
   ]
  },
  {
   "cell_type": "markdown",
   "id": "51e9820a",
   "metadata": {},
   "source": [
    "* 사전에 `VS Code` 터미널에 설치할 것\n",
    "  \n",
    "```bash\n",
    "        pip install -qU langchain-text-splitters\n",
    "```"
   ]
  },
  {
   "cell_type": "markdown",
   "id": "69aa61ff",
   "metadata": {},
   "source": [
    "---"
   ]
  },
  {
   "cell_type": "markdown",
   "id": "5972c13e",
   "metadata": {},
   "source": [
    "* `headers_to_split_on` 리스트 = `분할 기준`이 되는 `헤더 태그`와 `해당 헤더`의 `이름`을 **`튜플 형태`로 지정**\n",
    "\n",
    "* `HTMLHeaderTextSplitter` 객체 생성 → `headers_to_split_on` 매개변수에 `분할 기준 헤더 리스트` 전달"
   ]
  },
  {
   "cell_type": "code",
   "execution_count": 1,
   "id": "10486fa9",
   "metadata": {},
   "outputs": [],
   "source": [
    "from langchain_text_splitters import HTMLHeaderTextSplitter\n",
    "\n",
    "html_string = \"\"\"\n",
    "<!DOCTYPE html>\n",
    "<html>\n",
    "<body>\n",
    "    <div>\n",
    "        <h1>Foo</h1>\n",
    "        <p>Some intro text about Foo.</p>\n",
    "        <div>\n",
    "            <h2>Bar main section</h2>\n",
    "            <p>Some intro text about Bar.</p>\n",
    "            <h3>Bar subsection 1</h3>\n",
    "            <p>Some text about the first subtopic of Bar.</p>\n",
    "            <h3>Bar subsection 2</h3>\n",
    "            <p>Some text about the second subtopic of Bar.</p>\n",
    "        </div>\n",
    "        <div>\n",
    "            <h2>Baz</h2>\n",
    "            <p>Some text about Baz</p>\n",
    "        </div>\n",
    "        <br>\n",
    "        <p>Some concluding text about Foo</p>\n",
    "    </div>\n",
    "</body>\n",
    "</html>\n",
    "\"\"\""
   ]
  },
  {
   "cell_type": "code",
   "execution_count": 2,
   "id": "5290388e",
   "metadata": {},
   "outputs": [],
   "source": [
    "# 분할할 헤더 태그와 해당 헤더의 이름 지정하기\n",
    "\n",
    "headers_to_split_on = [\n",
    "    (\"h1\", \"Header 1\"),  \n",
    "    (\"h2\", \"Header 2\"),\n",
    "    (\"h3\", \"Header 3\"),\n",
    "]"
   ]
  },
  {
   "cell_type": "code",
   "execution_count": 3,
   "id": "1d295eac",
   "metadata": {},
   "outputs": [],
   "source": [
    "# 지정된 헤더를 기준으로 HTML 텍스트를 분할하는 HTMLHeaderTextSplitter 객체 생성하기\n",
    "\n",
    "html_splitter = HTMLHeaderTextSplitter(headers_to_split_on=headers_to_split_on)"
   ]
  },
  {
   "cell_type": "code",
   "execution_count": 4,
   "id": "f3576f64",
   "metadata": {},
   "outputs": [],
   "source": [
    "# HTML 문자열을 분할하여 결과를 html_header_splits 변수에 저장하기\n",
    "\n",
    "html_header_splits = html_splitter.split_text(html_string)"
   ]
  },
  {
   "cell_type": "code",
   "execution_count": null,
   "id": "5cece0f7",
   "metadata": {},
   "outputs": [],
   "source": [
    "# 분할된 결과 출력하기\n",
    "\n",
    "for header in html_header_splits:\n",
    "    print(f\"{header.page_content}\")\n",
    "    print(f\"{header.metadata}\", end=\"\\n=====================\\n\")"
   ]
  },
  {
   "cell_type": "markdown",
   "id": "4c78707d",
   "metadata": {},
   "source": [
    "<small>\n",
    "\n",
    "* 셀 출력\n",
    "\n",
    "    ```markdown\n",
    "    Foo\n",
    "    {'Header 1': 'Foo'}\n",
    "    =====================\n",
    "    Some intro text about Foo.\n",
    "    {'Header 1': 'Foo'}\n",
    "    =====================\n",
    "    Bar main section\n",
    "    {'Header 1': 'Foo', 'Header 2': 'Bar main section'}\n",
    "    =====================\n",
    "    Some intro text about Bar.\n",
    "    {'Header 1': 'Foo', 'Header 2': 'Bar main section'}\n",
    "    =====================\n",
    "    Bar subsection 1\n",
    "    {'Header 1': 'Foo', 'Header 2': 'Bar main section', 'Header 3': 'Bar subsection 1'}\n",
    "    =====================\n",
    "    Some text about the first subtopic of Bar.\n",
    "    {'Header 1': 'Foo', 'Header 2': 'Bar main section', 'Header 3': 'Bar subsection 1'}\n",
    "    =====================\n",
    "    Bar subsection 2\n",
    "    {'Header 1': 'Foo', 'Header 2': 'Bar main section', 'Header 3': 'Bar subsection 2'}\n",
    "    =====================\n",
    "    Some text about the second subtopic of Bar.\n",
    "    {'Header 1': 'Foo', 'Header 2': 'Bar main section', 'Header 3': 'Bar subsection 2'}\n",
    "    =====================\n",
    "    Baz\n",
    "    {'Header 1': 'Foo', 'Header 2': 'Baz'}\n",
    "    =====================\n",
    "    Some text about Baz  \n",
    "    Some concluding text about Foo\n",
    "    {'Header 1': 'Foo'}\n",
    "    =====================\n",
    "    ```"
   ]
  },
  {
   "cell_type": "markdown",
   "id": "43474bb9",
   "metadata": {},
   "source": [
    "---"
   ]
  },
  {
   "cell_type": "markdown",
   "id": "f90bbab4",
   "metadata": {},
   "source": [
    "#### **2) `다른 splitter와 파이프라인으로 연결 → 웹 URL에서 HTML을 로드하는 경우`**"
   ]
  },
  {
   "cell_type": "markdown",
   "id": "19fc4bc1",
   "metadata": {},
   "source": [
    "* `웹 URL`로부터 `HTML 콘텐츠`를 로드 → 이를 다른 `splitter`와 파이프라인으로 연결하여 처리하는 과정"
   ]
  },
  {
   "cell_type": "code",
   "execution_count": 6,
   "id": "3827d018",
   "metadata": {},
   "outputs": [
    {
     "name": "stdout",
     "output_type": "stream",
     "text": [
      "Incompleteness Theorem: \\(P\\) is if\n",
      "\\(P \\vdash \\neg \\phi(\\underline{n})\\) for all \\(n\\)\n",
      "implies \\(P \\not\\vdash \\exists x\\phi(x)\\).\n",
      "Naturally this implies consistency and follows from the assumption\n",
      "that the natural numbers satisfy the axioms of Peano arithmetic.  \n",
      "\\(\\omega\\)-consistent  \n",
      "One of the main technical tools used in the proof is , a mechanism which assigns natural numbers to terms and\n",
      "formulas of our formal theory \\(P\\). There are different ways of\n",
      "{'Header 2': '2. Gödel’s Mathematical Work', 'Header 3': '2.2 The Incompleteness Theorems', 'Header 4': '2.2.2 The proof of the First Incompleteness Theorem'}\n",
      "=====================\n",
      "doing this. The most common is based on the unique representation of\n",
      "natural numbers as products of powers of primes. Each symbol\n",
      "\\(s\\) of number theory is assigned a positive natural number\n",
      "\\(\\num(s)\\) in a fixed but arbitrary way, e.g.  \n",
      "Gödel\n",
      "numbering  \n",
      "The natural number corresponding to a sequence \\(w = \\lt w_0 ,\\ldots ,w_k \\gt\\)\n",
      "of symbols is  \n",
      "where \\(p_k\\) is the \\(k+1\\)st prime. It\n",
      "is called its Gödel number and denoted by\n",
      "\\(\\ulcorner w\\urcorner\\). In this way we can\n",
      "{'Header 2': '2. Gödel’s Mathematical Work', 'Header 3': '2.2 The Incompleteness Theorems', 'Header 4': '2.2.2 The proof of the First Incompleteness Theorem'}\n",
      "=====================\n",
      "assign Gödel numbers to formulas, sequences of formulas (once a\n",
      "method for distinguishing when one formula ends and another begins has\n",
      "been adopted), and most notably, proofs.  \n",
      "An essential point here is that when a formula is construed as a\n",
      "natural number, then the numeral corresponding to that natural number\n",
      "can occur as the argument of a formula, thus enabling the syntax to\n",
      "“refer” to itself, so to speak (i.e., when a numeral is\n",
      "{'Header 2': '2. Gödel’s Mathematical Work', 'Header 3': '2.2 The Incompleteness Theorems', 'Header 4': '2.2.2 The proof of the First Incompleteness Theorem'}\n",
      "=====================\n",
      "substituted into a formula the Gödel number of which the numeral\n",
      "represents). This will eventually allow Gödel to formalize the\n",
      "Liar paradox (with “provability” in place of\n",
      "“truth”) by substituting into the formula which says,\n",
      "‘the formula, whose code is \\(x\\), is unprovable,’\n",
      "its own natural number code (or more precisely the corresponding\n",
      "numeral).  \n",
      "Another concept required to carry out the formalization is the concept\n",
      "of numeralwise expressibility of number theoretic predicates. A\n",
      "{'Header 2': '2. Gödel’s Mathematical Work', 'Header 3': '2.2 The Incompleteness Theorems', 'Header 4': '2.2.2 The proof of the First Incompleteness Theorem'}\n",
      "=====================\n",
      "number-theoretic formula \\(\\phi(n_1 , \\ldots ,n_k)\\) is in\n",
      "\\(P\\) if for each tuple of natural numbers\n",
      "\\((n_1 , \\ldots ,n_k)\\):  \n",
      "numeralwise expressible  \n",
      "where \\(\\underline{n}\\) is the formal term which denotes the natural\n",
      "number \\(n\\). (In \\(P\\), this is\n",
      "\\(S(S(\\ldots S\\)(0)…), where \\(n\\)\n",
      "is the number of iterations of the successor function applied to the\n",
      "constant symbol 0.) One of the principal goals is to numeralwise\n",
      "express the predicate  \n",
      "\\(\\Prf(x, y)\\): ‘the sequence with Gödel\n",
      "{'Header 2': '2. Gödel’s Mathematical Work', 'Header 3': '2.2 The Incompleteness Theorems', 'Header 4': '2.2.2 The proof of the First Incompleteness Theorem'}\n",
      "=====================\n"
     ]
    }
   ],
   "source": [
    "from langchain_text_splitters import RecursiveCharacterTextSplitter\n",
    "\n",
    "# 분할할 텍스트의 URL 지정하기\n",
    "url = \"https://plato.stanford.edu/entries/goedel/\"  \n",
    "\n",
    "# 분할할 HTML 헤더 태그와 해당 헤더의 이름 지정하기\n",
    "headers_to_split_on = [  \n",
    "    (\"h2\", \"Header 2\"),\n",
    "    (\"h3\", \"Header 3\"),\n",
    "    (\"h4\", \"Header 4\"),\n",
    "]\n",
    "\n",
    "# HTML 헤더를 기준으로 텍스트를 분할하는 HTMLHeaderTextSplitter 객체 생성하기\n",
    "html_splitter = HTMLHeaderTextSplitter(headers_to_split_on=headers_to_split_on)\n",
    "\n",
    "# URL에서 텍스트를 가져와 HTML 헤더를 기준으로 분할하기\n",
    "html_header_splits = html_splitter.split_text_from_url(url)\n",
    "\n",
    "\n",
    "# 매개변수 설정하기\n",
    "chunk_size = 500                        # 텍스트를 분할할 청크의 크기 지정하기\n",
    "chunk_overlap = 30                      # 분할된 청크 간의 중복되는 문자 수 지정하기\n",
    "\n",
    "\n",
    "# 텍스트를 재귀적으로 분할하는 RecursiveCharacterTextSplitter 객체 생성하기\n",
    "text_splitter = RecursiveCharacterTextSplitter(\n",
    "    chunk_size=chunk_size,              # 사전에 설정한 매개변수 가져오기\n",
    "    chunk_overlap=chunk_overlap\n",
    ")\n",
    "\n",
    "# HTML 헤더로 분할된 텍스트를 다시 청크 크기에 맞게 분할하기\n",
    "splits = text_splitter.split_documents(html_header_splits)\n",
    "\n",
    "# 분할된 텍스트 중 80번째부터 85번째까지의 청크 출력해보기\n",
    "for header in splits[80:85]:\n",
    "    print(f\"{header.page_content}\")\n",
    "    print(f\"{header.metadata}\", end=\"\\n=====================\\n\")"
   ]
  },
  {
   "cell_type": "markdown",
   "id": "9b1ba7c8",
   "metadata": {},
   "source": [
    "<small>\n",
    "\n",
    "* 셀 출력\n",
    "\n",
    "    ```markdown\n",
    "    Incompleteness Theorem: \\(P\\) is if\n",
    "    \\(P \\vdash \\neg \\phi(\\underline{n})\\) for all \\(n\\)\n",
    "    implies \\(P \\not\\vdash \\exists x\\phi(x)\\).\n",
    "    Naturally this implies consistency and follows from the assumption\n",
    "    that the natural numbers satisfy the axioms of Peano arithmetic.  \n",
    "    \\(\\omega\\)-consistent  \n",
    "    One of the main technical tools used in the proof is , a mechanism which assigns natural numbers to terms and\n",
    "    formulas of our formal theory \\(P\\). There are different ways of\n",
    "    {'Header 2': '2. Gödel’s Mathematical Work', 'Header 3': '2.2 The Incompleteness Theorems', 'Header 4': '2.2.2 The proof of the First Incompleteness Theorem'}\n",
    "    =====================\n",
    "    doing this. The most common is based on the unique representation of\n",
    "    natural numbers as products of powers of primes. Each symbol\n",
    "    \\(s\\) of number theory is assigned a positive natural number\n",
    "    \\(\\num(s)\\) in a fixed but arbitrary way, e.g.  \n",
    "    Gödel\n",
    "    numbering  \n",
    "    The natural number corresponding to a sequence \\(w = \\lt w_0 ,\\ldots ,w_k \\gt\\)\n",
    "    of symbols is  \n",
    "    where \\(p_k\\) is the \\(k+1\\)st prime. It\n",
    "    is called its Gödel number and denoted by\n",
    "    \\(\\ulcorner w\\urcorner\\). In this way we can\n",
    "    {'Header 2': '2. Gödel’s Mathematical Work', 'Header 3': '2.2 The Incompleteness Theorems', 'Header 4': '2.2.2 The proof of the First Incompleteness Theorem'}\n",
    "    =====================\n",
    "    assign Gödel numbers to formulas, sequences of formulas (once a\n",
    "    method for distinguishing when one formula ends and another begins has\n",
    "    been adopted), and most notably, proofs.  \n",
    "    An essential point here is that when a formula is construed as a\n",
    "    natural number, then the numeral corresponding to that natural number\n",
    "    can occur as the argument of a formula, thus enabling the syntax to\n",
    "    “refer” to itself, so to speak (i.e., when a numeral is\n",
    "    {'Header 2': '2. Gödel’s Mathematical Work', 'Header 3': '2.2 The Incompleteness Theorems', 'Header 4': '2.2.2 The proof of the First Incompleteness Theorem'}\n",
    "    =====================\n",
    "    substituted into a formula the Gödel number of which the numeral\n",
    "    represents). This will eventually allow Gödel to formalize the\n",
    "    Liar paradox (with “provability” in place of\n",
    "    “truth”) by substituting into the formula which says,\n",
    "    ‘the formula, whose code is \\(x\\), is unprovable,’\n",
    "    its own natural number code (or more precisely the corresponding\n",
    "    numeral).  \n",
    "    Another concept required to carry out the formalization is the concept\n",
    "    of numeralwise expressibility of number theoretic predicates. A\n",
    "    {'Header 2': '2. Gödel’s Mathematical Work', 'Header 3': '2.2 The Incompleteness Theorems', 'Header 4': '2.2.2 The proof of the First Incompleteness Theorem'}\n",
    "    =====================\n",
    "    number-theoretic formula \\(\\phi(n_1 , \\ldots ,n_k)\\) is in\n",
    "    \\(P\\) if for each tuple of natural numbers\n",
    "    \\((n_1 , \\ldots ,n_k)\\):  \n",
    "    numeralwise expressible  \n",
    "    where \\(\\underline{n}\\) is the formal term which denotes the natural\n",
    "    number \\(n\\). (In \\(P\\), this is\n",
    "    \\(S(S(\\ldots S\\)(0)…), where \\(n\\)\n",
    "    is the number of iterations of the successor function applied to the\n",
    "    constant symbol 0.) One of the principal goals is to numeralwise\n",
    "    express the predicate  \n",
    "    \\(\\Prf(x, y)\\): ‘the sequence with Gödel\n",
    "    {'Header 2': '2. Gödel’s Mathematical Work', 'Header 3': '2.2 The Incompleteness Theorems', 'Header 4': '2.2.2 The proof of the First Incompleteness Theorem'}\n",
    "    =====================\n",
    "    ```"
   ]
  },
  {
   "cell_type": "markdown",
   "id": "2acd3f5b",
   "metadata": {},
   "source": [
    "---"
   ]
  },
  {
   "cell_type": "markdown",
   "id": "71e48c38",
   "metadata": {},
   "source": [
    "#### **3) `한계`**"
   ]
  },
  {
   "cell_type": "markdown",
   "id": "6d591589",
   "metadata": {},
   "source": [
    "* **`HTMLHeaderTextSplitter` = 때로는 `특정 헤더`를 `누락`할 수 있음**\n",
    "\n",
    "  * 예시: 아래의 코드는 헤더가 항상 관련 텍스트보다 **`위`** 에 있는 노드 (**`=이전 형제 노드`**), 조상 노드 및 이들의 조합에 위치한다고 가정\n",
    "\n",
    "  * 다음 뉴스 기사 (아래 url): 최상위 헤드라인의 텍스트의 태그 = **`h1`** \n",
    "    * `but` 우리의 예상과는 다르게 **텍스트 요소와 `별개의 하위 트리`에 있음**\n",
    "\n",
    "    * **`h1`** 관련 텍스트 ≠ 청크 메타데이터\n",
    "    * 관련되는 경우: **`h2`**, 관련 텍스트는 볼 수 있음"
   ]
  },
  {
   "cell_type": "code",
   "execution_count": null,
   "id": "e00cb4f8",
   "metadata": {},
   "outputs": [],
   "source": [
    "from langchain_text_splitters import RecursiveCharacterTextSplitter\n",
    "\n",
    "# 분할할 HTML 페이지의 URL 지정하기\n",
    "url = \"https://www.cnn.com/2023/09/25/weather/el-nino-winter-us-climate/index.html\"\n",
    "\n",
    "\n",
    "# 분할할 헤더 태그와 해당 헤더의 이름 지정하기\n",
    "headers_to_split_on = [\n",
    "    (\"h1\", \"Header 1\"),  \n",
    "    (\"h2\", \"Header 2\"),  \n",
    "]\n",
    "\n",
    "\n",
    "# 지정된 헤더를 기준으로 HTML 텍스트를 분할하는 HTMLHeaderTextSplitter 객체 생성하기\n",
    "html_splitter = HTMLHeaderTextSplitter(headers_to_split_on=headers_to_split_on)\n",
    "\n",
    "\n",
    "# 지정된 URL의 HTML 페이지를 분할하여 결과를 html_header_splits 변수에 저장하기\n",
    "html_header_splits = html_splitter.split_text_from_url(url)\n",
    "\n",
    "\n",
    "# 분할된 결과 출력하기\n",
    "for header in html_header_splits:\n",
    "    print(f\"{header.page_content[:100]}\")\n",
    "    print(f\"{header.metadata}\", end=\"\\n=====================\\n\")"
   ]
  },
  {
   "cell_type": "markdown",
   "id": "b8f2296c",
   "metadata": {},
   "source": [
    "<small>\n",
    "\n",
    "* 셀 출력\n",
    "\n",
    "    ```markdown\n",
    "    CNN values your feedback  \n",
    "    1. How relevant is this ad to you?  \n",
    "    2. Did you encounter any technical i\n",
    "    {}\n",
    "    =====================\n",
    "    An El Niño winter is coming. Here’s what that could mean for the US\n",
    "    {'Header 1': 'An El Niño winter is coming. Here’s what that could mean for the US'}\n",
    "    =====================\n",
    "    By , CNN Meteorologist  \n",
    "    Mary Gilbert  \n",
    "    3 min read  \n",
    "    Published\n",
    "            4:44 AM EDT, Mon September \n",
    "    {'Header 1': 'An El Niño winter is coming. Here’s what that could mean for the US'}\n",
    "    =====================\n",
    "    What could this winter look like?\n",
    "    {'Header 1': 'An El Niño winter is coming. Here’s what that could mean for the US', 'Header 2': 'What could this winter look like?'}\n",
    "    =====================\n",
    "    No two El Niño winters are the same, but many have temperature and precipitation trends in common.  \n",
    "    {}\n",
    "    =====================\n",
    "    ```"
   ]
  },
  {
   "cell_type": "markdown",
   "id": "6f54adbf",
   "metadata": {},
   "source": [
    "---"
   ]
  },
  {
   "cell_type": "markdown",
   "id": "18bfe079",
   "metadata": {},
   "source": [
    "* *next: **`재귀적 JSON 분할 (RecursiveJsonSplitter)`***"
   ]
  },
  {
   "cell_type": "markdown",
   "id": "353a5347",
   "metadata": {},
   "source": [
    "---"
   ]
  }
 ],
 "metadata": {
  "kernelspec": {
   "display_name": "lc_env",
   "language": "python",
   "name": "python3"
  },
  "language_info": {
   "codemirror_mode": {
    "name": "ipython",
    "version": 3
   },
   "file_extension": ".py",
   "mimetype": "text/x-python",
   "name": "python",
   "nbconvert_exporter": "python",
   "pygments_lexer": "ipython3",
   "version": "3.13.5"
  }
 },
 "nbformat": 4,
 "nbformat_minor": 5
}
