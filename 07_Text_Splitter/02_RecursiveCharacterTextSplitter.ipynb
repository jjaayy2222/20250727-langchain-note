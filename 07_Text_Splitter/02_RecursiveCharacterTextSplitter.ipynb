{
 "cells": [
  {
   "cell_type": "markdown",
   "id": "a4553e3c",
   "metadata": {},
   "source": [
    "---"
   ]
  },
  {
   "cell_type": "markdown",
   "id": "ae8616d8",
   "metadata": {},
   "source": [
    "* 출처: LangChain 공식 문서 또는 해당 교재명\n",
    "* 원본 URL: https://smith.langchain.com/hub/teddynote/summary-stuff-documents"
   ]
  },
  {
   "cell_type": "markdown",
   "id": "d0d5f375",
   "metadata": {},
   "source": [
    "---"
   ]
  },
  {
   "cell_type": "markdown",
   "id": "121ca113",
   "metadata": {},
   "source": [
    "### **`재귀적 문자 텍스트 분할 (RecursiveCharacterTextSplitter)`**"
   ]
  },
  {
   "cell_type": "markdown",
   "id": "29cd7463",
   "metadata": {},
   "source": [
    "* **`일반적인 텍스트에 권장되는 방식`**\n",
    "\n",
    "* 재귀적 문자 텍스트 분할기\n",
    "\n",
    "  * **`문자 목록`** 을 매개변수로 받아 동작\n",
    "\n",
    "  * **`청크가 충분히 작아질 때까지` 주어진 목자 `목록의 순서대로` 텍스트 `분할 시도`**"
   ]
  },
  {
   "cell_type": "markdown",
   "id": "6aab8aa5",
   "metadata": {},
   "source": [
    "---"
   ]
  },
  {
   "cell_type": "markdown",
   "id": "9faf2475",
   "metadata": {},
   "source": [
    "### **`기본 설정`**"
   ]
  },
  {
   "cell_type": "markdown",
   "id": "be28f854",
   "metadata": {},
   "source": [
    "* 기본 문자 목록\n",
    "  * **`[\"\\n\\n\", \"\\n\", \" \", \"\"]`**\n",
    "  * **`단락 > 문장 > 단어` 순서로 `재귀적으로 분할`**\n",
    "\n",
    "* 단락 (그 다음으로 문장, 단어) 단위로 의미적으로 가장 강하게 연관된 텍스트 조각으로 간주됨\n",
    "\n",
    "* 가능한 한 함께 유지하려는 효과가 있음"
   ]
  },
  {
   "cell_type": "markdown",
   "id": "a13cd1b0",
   "metadata": {},
   "source": [
    "---"
   ]
  },
  {
   "cell_type": "markdown",
   "id": "5e64076f",
   "metadata": {},
   "source": [
    "### **`사전 환경 설정`**"
   ]
  },
  {
   "cell_type": "markdown",
   "id": "64fd3c6c",
   "metadata": {},
   "source": [
    "* 사전 `VS Code` 터미널에 설치할 것\n",
    "\n",
    "```bash\n",
    "        pip install -qU langchain-text-splitters\n",
    "```"
   ]
  },
  {
   "cell_type": "markdown",
   "id": "5ff445d4",
   "metadata": {},
   "source": [
    "---"
   ]
  },
  {
   "cell_type": "markdown",
   "id": "98ff1c27",
   "metadata": {},
   "source": [
    "* **`텍스트 분할 방식`**: \n",
    "  * **`문자 목록`** 에 의애 분할됨\n",
    "  * **`[\"\\n\\n\", \"\\n\", \" \", \"\"]`**\n",
    "\n",
    "<br>\n",
    "\n",
    "* **`청크 크기가 측정되는 방식`**: **`문자 수`** 에 의해 측정됨"
   ]
  },
  {
   "cell_type": "code",
   "execution_count": 8,
   "id": "fbf2b0d4",
   "metadata": {},
   "outputs": [],
   "source": [
    "# data/appendix-keywords.txt 파일을 열어서 f라는 파일 객체 생성하기\n",
    "with open(\"../07_Text_Splitter/data/appendix-keywords.txt\") as f:\n",
    "    file = f.read()                                         # 파일의 내용을 읽어서 file 변수에 저장"
   ]
  },
  {
   "cell_type": "code",
   "execution_count": null,
   "id": "bd5fe26b",
   "metadata": {},
   "outputs": [],
   "source": [
    "print(type(file))                   # <class 'str'>\n",
    "print(len(file))                    # 5733"
   ]
  },
  {
   "cell_type": "markdown",
   "id": "5505dcdf",
   "metadata": {},
   "source": [
    "* 파일로부터 읽은 파일의 일부 내용을 출력해보기"
   ]
  },
  {
   "cell_type": "code",
   "execution_count": null,
   "id": "6c3c41c7",
   "metadata": {},
   "outputs": [],
   "source": [
    "# 파일으로부터 읽은 내용 일부 출력하기\n",
    "\n",
    "print(file[:500])"
   ]
  },
  {
   "cell_type": "markdown",
   "id": "c67b6cc2",
   "metadata": {},
   "source": [
    "<small>\n",
    "\n",
    "* 셀 출력\n",
    "\n",
    "    ```markdown\n",
    "    Semantic Search\n",
    "\n",
    "    정의: 의미론적 검색은 사용자의 질의를 단순한 키워드 매칭을 넘어서 그 의미를 파악하여 관련된 결과를 반환하는 검색 방식입니다.\n",
    "    예시: 사용자가 \"태양계 행성\"이라고 검색하면, \"목성\", \"화성\" 등과 같이 관련된 행성에 대한 정보를 반환합니다.\n",
    "    연관키워드: 자연어 처리, 검색 알고리즘, 데이터 마이닝\n",
    "\n",
    "    Embedding\n",
    "\n",
    "    정의: 임베딩은 단어나 문장 같은 텍스트 데이터를 저차원의 연속적인 벡터로 변환하는 과정입니다. 이를 통해 컴퓨터가 텍스트를 이해하고 처리할 수 있게 합니다.\n",
    "    예시: \"사과\"라는 단어를 [0.65, -0.23, 0.17]과 같은 벡터로 표현합니다.\n",
    "    연관키워드: 자연어 처리, 벡터화, 딥러닝\n",
    "\n",
    "    Token\n",
    "\n",
    "    정의: 토큰은 텍스트를 더 작은 단위로 분할하는 것을 의미합니다. 이는 일반적으로 단어, 문장, 또는 구절일 수 있습니다.\n",
    "    예시: 문장 \"나는 학교에 간다\"를 \"나는\", \"학교에\", \"간다\"로 분할합니다.\n",
    "    연관키워드: 토큰화, 자연어\n",
    "    ```"
   ]
  },
  {
   "cell_type": "markdown",
   "id": "e853f14d",
   "metadata": {},
   "source": [
    "---"
   ]
  },
  {
   "cell_type": "markdown",
   "id": "18bcea0c",
   "metadata": {},
   "source": [
    "### **`RecursiveCharacterTextSplitter` 사용**"
   ]
  },
  {
   "cell_type": "markdown",
   "id": "0c504a8b",
   "metadata": {},
   "source": [
    "* **`RecursiveCharacterTextSplitter`** 사용 → 텍스트를 작은 청크로 분할하는 예제\n",
    "\n",
    "  * **`chunk_size`**\n",
    "    * `chunk_size = 250` 으로 설정 → 각 청크의 크기 제한\n",
    "\n",
    "  * **`chunk_overlap`**\n",
    "    * `chunk_overlap = 50` 으로 설정 → 인접한 청크 간에 50 개 문자의 중첩을 허용\n",
    "\n",
    "  * **`length_function`**\n",
    "    * `length_function = len` 함수 사용 → 텍스트의 길이 계산\n",
    "\n",
    "  * **`is_separator_regex`**\n",
    "    * `is_separator_regex = False` 로 설정 → 구분자로 정규식을 사용하지 않음"
   ]
  },
  {
   "cell_type": "code",
   "execution_count": 11,
   "id": "cb695f24",
   "metadata": {},
   "outputs": [],
   "source": [
    "from langchain_text_splitters import RecursiveCharacterTextSplitter\n",
    "\n",
    "text_splitter = RecursiveCharacterTextSplitter(\n",
    "\n",
    "    chunk_size=250,                                 # 청크 크기 매우 작게 설정 (예시를 위한 설정)\n",
    "    \n",
    "    chunk_overlap=50,                               # 분할된 텍스트 청크 간의 중복되는 문자 수 지정\n",
    "    \n",
    "    length_function=len,                            # 텍스트의 길이를 계산하는 함수 지정\n",
    "    \n",
    "    is_separator_regex=False,                       # 구분자가 정규식인지 여부를 지정\n",
    ")"
   ]
  },
  {
   "cell_type": "markdown",
   "id": "f4bc012d",
   "metadata": {},
   "source": [
    "* **`text_splitter` 사용 → `file 텍스트`를 `문서 단위`로 분할**\n",
    "\n",
    "  * 분할된 문서는 **`texts` 리스트** 에 저장됨\n",
    "\n",
    "  * **`print(texts[0])`**, **`print(texts[1])`** → 분할된 문서의 첫 번째와 두 번째 문서를 출력"
   ]
  },
  {
   "cell_type": "code",
   "execution_count": null,
   "id": "5585195c",
   "metadata": {},
   "outputs": [],
   "source": [
    "# text_splitter를 사용하여 file 텍스트를 문서로 분할\n",
    "texts = text_splitter.create_documents([file])\n",
    "\n",
    "print(texts[0])  # 분할된 문서의 첫 번째 문서 출력하기\n",
    "print(\"\\n\", \"===\" * 50, \"\\n\")\n",
    "print(texts[1])  # 분할된 문서의 두 번째 문서 출력하기"
   ]
  },
  {
   "cell_type": "markdown",
   "id": "fc853a5e",
   "metadata": {},
   "source": [
    "<small>\n",
    "\n",
    "* 셀 출력\n",
    "\n",
    "    ```markdown\n",
    "    page_content='Semantic Search\n",
    "\n",
    "    정의: 의미론적 검색은 사용자의 질의를 단순한 키워드 매칭을 넘어서 그 의미를 파악하여 관련된 결과를 반환하는 검색 방식입니다.\n",
    "    예시: 사용자가 \"태양계 행성\"이라고 검색하면, \"목성\", \"화성\" 등과 같이 관련된 행성에 대한 정보를 반환합니다.\n",
    "    연관키워드: 자연어 처리, 검색 알고리즘, 데이터 마이닝\n",
    "\n",
    "    Embedding'\n",
    "\n",
    "    ====================================================================================================================================================== \n",
    "\n",
    "    page_content='Embedding\n",
    "\n",
    "    정의: 임베딩은 단어나 문장 같은 텍스트 데이터를 저차원의 연속적인 벡터로 변환하는 과정입니다. 이를 통해 컴퓨터가 텍스트를 이해하고 처리할 수 있게 합니다.\n",
    "    예시: \"사과\"라는 단어를 [0.65, -0.23, 0.17]과 같은 벡터로 표현합니다.\n",
    "    연관키워드: 자연어 처리, 벡터화, 딥러닝\n",
    "\n",
    "    Token'\n",
    "    ```"
   ]
  },
  {
   "cell_type": "markdown",
   "id": "3cbd0fb2",
   "metadata": {},
   "source": [
    "---"
   ]
  },
  {
   "cell_type": "markdown",
   "id": "fe65050a",
   "metadata": {},
   "source": [
    "* **`text_splitter.split_text()`** 함수 사용 → **`file` 텍스트 분할**"
   ]
  },
  {
   "cell_type": "code",
   "execution_count": null,
   "id": "24ec0c6b",
   "metadata": {},
   "outputs": [],
   "source": [
    "# 텍스트를 분할하고 분할된 텍스트의 처음 2개 요소를 반환하기\n",
    "\n",
    "text_splitter.split_text(file)[:2]"
   ]
  },
  {
   "cell_type": "markdown",
   "id": "66dc0d2a",
   "metadata": {},
   "source": [
    "<small>\n",
    "\n",
    "* 셀 출력\n",
    "\n",
    "    ```markdown\n",
    "    ['Semantic Search\\n\\n정의: 의미론적 검색은 사용자의 질의를 단순한 키워드 매칭을 넘어서 그 의미를 파악하여 관련된 결과를 반환하는 검색 방식입니다.\\n예시: 사용자가 \"태양계 행성\"이라고 검색하면, \"목성\", \"화성\" 등과 같이 관련된 행성에 대한 정보를 반환합니다.\\n연관키워드: 자연어 처리, 검색 알고리즘, 데이터 마이닝\\n\\nEmbedding',\n",
    "    'Embedding\\n\\n정의: 임베딩은 단어나 문장 같은 텍스트 데이터를 저차원의 연속적인 벡터로 변환하는 과정입니다. 이를 통해 컴퓨터가 텍스트를 이해하고 처리할 수 있게 합니다.\\n예시: \"사과\"라는 단어를 [0.65, -0.23, 0.17]과 같은 벡터로 표현합니다.\\n연관키워드: 자연어 처리, 벡터화, 딥러닝\\n\\nToken']\n",
    "    ```"
   ]
  },
  {
   "cell_type": "markdown",
   "id": "6f54adbf",
   "metadata": {},
   "source": [
    "---"
   ]
  },
  {
   "cell_type": "markdown",
   "id": "18bfe079",
   "metadata": {},
   "source": [
    "* *next: **`토큰 텍스트 분할 (TokenTextSplitter)`***"
   ]
  },
  {
   "cell_type": "markdown",
   "id": "353a5347",
   "metadata": {},
   "source": [
    "---"
   ]
  }
 ],
 "metadata": {
  "kernelspec": {
   "display_name": "lc_env",
   "language": "python",
   "name": "python3"
  },
  "language_info": {
   "codemirror_mode": {
    "name": "ipython",
    "version": 3
   },
   "file_extension": ".py",
   "mimetype": "text/x-python",
   "name": "python",
   "nbconvert_exporter": "python",
   "pygments_lexer": "ipython3",
   "version": "3.13.5"
  }
 },
 "nbformat": 4,
 "nbformat_minor": 5
}
