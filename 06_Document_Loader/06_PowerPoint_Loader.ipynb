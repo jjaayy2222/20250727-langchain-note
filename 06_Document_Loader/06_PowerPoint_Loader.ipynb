{
 "cells": [
  {
   "cell_type": "markdown",
   "id": "36ae39fe",
   "metadata": {},
   "source": [
    "---"
   ]
  },
  {
   "cell_type": "markdown",
   "id": "064ce159",
   "metadata": {},
   "source": [
    "* 출처: LangChain 공식 문서 또는 해당 교재명\n",
    "* 원본 URL: https://smith.langchain.com/hub/teddynote/summary-stuff-documents"
   ]
  },
  {
   "cell_type": "markdown",
   "id": "0164fdbe",
   "metadata": {},
   "source": [
    "---"
   ]
  },
  {
   "cell_type": "markdown",
   "id": "e402a769",
   "metadata": {},
   "source": [
    "## **`Microsoft PowerPoint`**"
   ]
  },
  {
   "cell_type": "markdown",
   "id": "da66e2a2",
   "metadata": {},
   "source": [
    "* [**`Microsoft PowerPoint`**](https://en.wikipedia.org/wiki/Microsoft_PowerPoint)\n",
    "\n",
    "  * `Microsoft` 에서 개발한 프레젠테이션 프로그램\n",
    "\n",
    "  * `Microsoft PowerPoint` 문서를 다운스트림에서 사용할 수 있는 문서 형식으로 로드하는 방법 다루기\n",
    "\n",
    "    * [`Unstructured 공식 도큐먼트`](https://docs.unstructured.io/open-source/core-functionality/overview) - 자세한 Unstructured 설정 방법 참조 가능"
   ]
  },
  {
   "cell_type": "code",
   "execution_count": null,
   "id": "2accfb1c",
   "metadata": {},
   "outputs": [],
   "source": [
    "# API KEY를 환경변수로 관리하기 위한 설정 파일\n",
    "import os\n",
    "from dotenv import load_dotenv\n",
    "\n",
    "# API KEY 정보로드\n",
    "load_dotenv()               # true"
   ]
  },
  {
   "cell_type": "markdown",
   "id": "a43a5d57",
   "metadata": {},
   "source": [
    "* 사전에 `VS Code` 터미널에 설치할 것\n",
    "\n",
    "```bash\n",
    "          pip install -qU unstructured python-pptx\n",
    "```"
   ]
  },
  {
   "cell_type": "code",
   "execution_count": null,
   "id": "72b912ab",
   "metadata": {},
   "outputs": [],
   "source": [
    "from langchain_community.document_loaders import UnstructuredPowerPointLoader\n",
    "\n",
    "# UnstructuredPowerPointLoader 생성\n",
    "loader = UnstructuredPowerPointLoader(\"../06_Document_Loader/data/sample-ppt.pptx\")\n",
    "\n",
    "# 데이터 로드\n",
    "docs = loader.load()\n",
    "\n",
    "# 로드한 문서의 개수 출력\n",
    "print(len(docs))                                # 1 (셀 출력: 4.0s)"
   ]
  },
  {
   "cell_type": "markdown",
   "id": "7bd7180a",
   "metadata": {},
   "source": [
    "---"
   ]
  },
  {
   "cell_type": "markdown",
   "id": "72e441de",
   "metadata": {},
   "source": [
    "### **`Unstructured`**"
   ]
  },
  {
   "cell_type": "markdown",
   "id": "76a236c6",
   "metadata": {},
   "source": [
    "* `Unstructured` = 텍스트의 다양한 `chunks`에 대해 **다양한 `elements`를 생성**\n",
    "\n",
    "* 기본적으로 결합되어 하나의 `document`로 반환\n",
    "  * **but ` mode=\"elements\"`를 지정 → 쉽게 요소들을 분리 가능**"
   ]
  },
  {
   "cell_type": "code",
   "execution_count": null,
   "id": "d60a578d",
   "metadata": {},
   "outputs": [],
   "source": [
    "# UnstructuredPowerPointLoader 생성\n",
    "loader = UnstructuredPowerPointLoader(\n",
    "    \"../06_Document_Loader/data/sample-ppt.pptx\", \n",
    "    mode=\"elements\"\n",
    "    )\n",
    "\n",
    "# 데이터 로드\n",
    "docs = loader.load()\n",
    "\n",
    "print(len(docs))                        # 17"
   ]
  },
  {
   "cell_type": "code",
   "execution_count": null,
   "id": "3bb1fde7",
   "metadata": {},
   "outputs": [],
   "source": [
    "print(docs[0].page_content)             # 랭체인 한국어 튜토리얼"
   ]
  },
  {
   "cell_type": "code",
   "execution_count": null,
   "id": "b8c33eb9",
   "metadata": {},
   "outputs": [],
   "source": [
    "docs[0].metadata"
   ]
  },
  {
   "cell_type": "markdown",
   "id": "28346e39",
   "metadata": {},
   "source": [
    "<small>\n",
    "\n",
    "* 셀 출력\n",
    "\n",
    "    ```python\n",
    "    {'source': '../06_Document_Loader/data/sample-ppt.pptx',\n",
    "    'category_depth': 0,\n",
    "    'file_directory': '../06_Document_Loader/data',\n",
    "    'filename': 'sample-ppt.pptx',\n",
    "    'last_modified': '2025-09-12T13:42:39',\n",
    "    'page_number': 1,\n",
    "    'languages': ['kor'],\n",
    "    'filetype': 'application/vnd.openxmlformats-officedocument.presentationml.presentation',\n",
    "    'category': 'Title',\n",
    "    'element_id': '784918cd25f6cbe0084401b85fe2f3d8'}\n",
    "    ```"
   ]
  },
  {
   "cell_type": "markdown",
   "id": "c130d860",
   "metadata": {},
   "source": [
    "---"
   ]
  },
  {
   "cell_type": "markdown",
   "id": "fc85fca1",
   "metadata": {},
   "source": [
    "* *next: 웹 문서(`WebBaseLoader`)*"
   ]
  },
  {
   "cell_type": "markdown",
   "id": "9d303dd1",
   "metadata": {},
   "source": [
    "---"
   ]
  }
 ],
 "metadata": {
  "kernelspec": {
   "display_name": "lc_env",
   "language": "python",
   "name": "python3"
  },
  "language_info": {
   "codemirror_mode": {
    "name": "ipython",
    "version": 3
   },
   "file_extension": ".py",
   "mimetype": "text/x-python",
   "name": "python",
   "nbconvert_exporter": "python",
   "pygments_lexer": "ipython3",
   "version": "3.13.5"
  }
 },
 "nbformat": 4,
 "nbformat_minor": 5
}
