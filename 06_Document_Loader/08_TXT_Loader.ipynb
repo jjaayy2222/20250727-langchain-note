{
 "cells": [
  {
   "cell_type": "markdown",
   "id": "36ae39fe",
   "metadata": {},
   "source": [
    "---"
   ]
  },
  {
   "cell_type": "markdown",
   "id": "064ce159",
   "metadata": {},
   "source": [
    "* 출처: LangChain 공식 문서 또는 해당 교재명\n",
    "* 원본 URL: https://smith.langchain.com/hub/teddynote/summary-stuff-documents"
   ]
  },
  {
   "cell_type": "markdown",
   "id": "0164fdbe",
   "metadata": {},
   "source": [
    "---"
   ]
  },
  {
   "cell_type": "markdown",
   "id": "e402a769",
   "metadata": {},
   "source": [
    "## **`텍스트(TextLoader)`**"
   ]
  },
  {
   "cell_type": "markdown",
   "id": "5ae491df",
   "metadata": {},
   "source": [
    "### **`TXT Loader`**"
   ]
  },
  {
   "cell_type": "markdown",
   "id": "da66e2a2",
   "metadata": {},
   "source": [
    "* `.txt` 확장자를 가지는 파일을 로더로 로드하는 방법 살펴보기"
   ]
  },
  {
   "cell_type": "code",
   "execution_count": null,
   "id": "2accfb1c",
   "metadata": {},
   "outputs": [],
   "source": [
    "# API KEY를 환경변수로 관리하기 위한 설정 파일\n",
    "import os\n",
    "from dotenv import load_dotenv\n",
    "\n",
    "# API KEY 정보로드\n",
    "load_dotenv()               # true"
   ]
  },
  {
   "cell_type": "markdown",
   "id": "a43a5d57",
   "metadata": {},
   "source": [
    "* 사전에 `VS Code` 터미널에 설치할 것\n",
    "\n",
    "```bash\n",
    "          pip install langchain-community\n",
    "```"
   ]
  },
  {
   "cell_type": "code",
   "execution_count": null,
   "id": "5623e82c",
   "metadata": {},
   "outputs": [],
   "source": [
    "from langchain_community.document_loaders import TextLoader                 # TextLoader 임포트\n",
    "\n",
    "# 텍스트 로더 생성\n",
    "loader = TextLoader(\"../06_Document_Loader/data/appendix-keywords.txt\")     # 텍스트 파일 경로\n",
    "\n",
    "# 문서 로드\n",
    "docs = loader.load()\n",
    "\n",
    "# 문서의 수 출력\n",
    "print(f\"문서의 수: {len(docs)}\\n\")\n",
    "\n",
    "# 메타데이터 출력\n",
    "print(\"[메타데이터]\\n\")\n",
    "print(docs[0].metadata)\n",
    "\n",
    "# 앞부분 미리보기 출력\n",
    "print(\"\\n========= [앞부분] 미리보기 =========\\n\")\n",
    "print(docs[0].page_content[:500])                                           # 앞부분 500자 출력"
   ]
  },
  {
   "cell_type": "markdown",
   "id": "3cc3399c",
   "metadata": {},
   "source": [
    "<small>\n",
    "\n",
    "* 셀 출력 (0.3s)\n",
    "\n",
    "    ```markdown\n",
    "    문서의 수: 1\n",
    "\n",
    "    [메타데이터]\n",
    "\n",
    "    {'source': '../06_Document_Loader/data/appendix-keywords.txt'}\n",
    "\n",
    "    ========= [앞부분] 미리보기 =========\n",
    "\n",
    "    Semantic Search\n",
    "\n",
    "    정의: 의미론적 검색은 사용자의 질의를 단순한 키워드 매칭을 넘어서 그 의미를 파악하여 관련된 결과를 반환하는 검색 방식입니다.\n",
    "    예시: 사용자가 \"태양계 행성\"이라고 검색하면, \"목성\", \"화성\" 등과 같이 관련된 행성에 대한 정보를 반환합니다.\n",
    "    연관키워드: 자연어 처리, 검색 알고리즘, 데이터 마이닝\n",
    "\n",
    "    Embedding\n",
    "\n",
    "    정의: 임베딩은 단어나 문장 같은 텍스트 데이터를 저차원의 연속적인 벡터로 변환하는 과정입니다. 이를 통해 컴퓨터가 텍스트를 이해하고 처리할 수 있게 합니다.\n",
    "    예시: \"사과\"라는 단어를 [0.65, -0.23, 0.17]과 같은 벡터로 표현합니다.\n",
    "    연관키워드: 자연어 처리, 벡터화, 딥러닝\n",
    "\n",
    "    Token\n",
    "\n",
    "    정의: 토큰은 텍스트를 더 작은 단위로 분할하는 것을 의미합니다. 이는 일반적으로 단어, 문장, 또는 구절일 수 있습니다.\n",
    "    예시: 문장 \"나는 학교에 간다\"를 \"나는\", \"학교에\", \"간다\"로 분할합니다.\n",
    "    연관키워드: 토큰화, 자연어\n",
    "    ```"
   ]
  },
  {
   "cell_type": "markdown",
   "id": "5c4f9ade",
   "metadata": {},
   "source": [
    "---"
   ]
  },
  {
   "cell_type": "markdown",
   "id": "64604849",
   "metadata": {},
   "source": [
    "### **`TextLoader`를 통한 파일 인코딩 자동 감지**"
   ]
  },
  {
   "cell_type": "markdown",
   "id": "a1a597be",
   "metadata": {},
   "source": [
    "* **`TextLoader` 클래스 사용**: 디렉토리에서 `임의의 파일 목록`을 `대량`으로 `로드`할 때 유용한 몇 가지 전략 살펴보기\n",
    "\n",
    "<br>\n",
    "\n",
    "* 먼저 문제를 설명하기 위해 임의의 인코딩으로 여러 개의 텍스트를 로드하기\n",
    "\n",
    "  * **`silent_errors`**: 디렉토리 로더에 `silent_errors` 매개변수 전달 → **`로드할 수 없는 파일을 건너뛰고` 로드 프로세스 계속**\n",
    "\n",
    "  * **`autodetect_encoding`**: 로더 클래스에 `자동 감지_인코딩` 전달 → **`실패하기 전에 파일 인코딩을 자동으로 감지하도록 요청`**"
   ]
  },
  {
   "cell_type": "markdown",
   "id": "74bc3f00",
   "metadata": {},
   "source": [
    "* 사전에 `VS Code` 터미널에 설치할 것\n",
    "\n",
    "```bash\n",
    "\n",
    "        pip install chardet\n",
    "\n",
    "```"
   ]
  },
  {
   "cell_type": "code",
   "execution_count": 11,
   "id": "a11c6f68",
   "metadata": {},
   "outputs": [],
   "source": [
    "from langchain_community.document_loaders import DirectoryLoader        # DirectoryLoader 임포트\n",
    "\n",
    "# 디렉토리 경로 설정\n",
    "path = \"../06_Document_Loader/data\"\n",
    "\n",
    "# 텍스트 로더 설정\n",
    "text_loader_kwargs = {\"autodetect_encoding\": True}                      # 자동 인코딩 감지 설정\n",
    "\n",
    "# 디렉토리 로더 생성\n",
    "loader = DirectoryLoader(\n",
    "    path,                                                               # 디렉토리 경로\n",
    "    glob=\"**/*.txt\",                                                    # 텍스트 파일 패턴\n",
    "    loader_cls=TextLoader,                                              # 로더 클래스\n",
    "    silent_errors=True,                                                 # 오류 무시 설정\n",
    "    loader_kwargs=text_loader_kwargs,                                   # 로더 설정\n",
    ")\n",
    "\n",
    "\n",
    "# 문서 로드\n",
    "docs = loader.load()"
   ]
  },
  {
   "cell_type": "markdown",
   "id": "73739b56",
   "metadata": {},
   "source": [
    "* `../data/appendix-keywords.txt` 파일과 **파일명이 유사한 파생 파일들** = 모두 인코딩 방식이 다른 파일들"
   ]
  },
  {
   "cell_type": "code",
   "execution_count": 12,
   "id": "a3dd8915",
   "metadata": {},
   "outputs": [
    {
     "data": {
      "text/plain": [
       "['../06_Document_Loader/data/appendix-keywords-CP949.txt',\n",
       " '../06_Document_Loader/data/reference.txt',\n",
       " '../06_Document_Loader/data/appendix-keywords-EUCKR.txt',\n",
       " '../06_Document_Loader/data/chain-of-density.txt',\n",
       " '../06_Document_Loader/data/appendix-keywords.txt',\n",
       " '../06_Document_Loader/data/appendix-keywords-utf8.txt']"
      ]
     },
     "execution_count": 12,
     "metadata": {},
     "output_type": "execute_result"
    }
   ],
   "source": [
    "doc_sources = [doc.metadata[\"source\"] for doc in docs]\n",
    "doc_sources                                                 # type(doc_sources) = <class 'list'>"
   ]
  },
  {
   "cell_type": "markdown",
   "id": "92c956dc",
   "metadata": {},
   "source": [
    "<small>\n",
    "\n",
    "* 셀 출력\n",
    "\n",
    "    ```python\n",
    "    ['../06_Document_Loader/data/appendix-keywords-CP949.txt',\n",
    "    '../06_Document_Loader/data/reference.txt',\n",
    "    '../06_Document_Loader/data/appendix-keywords-EUCKR.txt',\n",
    "    '../06_Document_Loader/data/chain-of-density.txt',\n",
    "    '../06_Document_Loader/data/appendix-keywords.txt',\n",
    "    '../06_Document_Loader/data/appendix-keywords-utf8.txt']\n",
    "    ```"
   ]
  },
  {
   "cell_type": "markdown",
   "id": "79960d9f",
   "metadata": {},
   "source": [
    "---"
   ]
  },
  {
   "cell_type": "markdown",
   "id": "3a771083",
   "metadata": {},
   "source": [
    "* 문서 하나씩 열어보기"
   ]
  },
  {
   "cell_type": "code",
   "execution_count": null,
   "id": "90b87e34",
   "metadata": {},
   "outputs": [],
   "source": [
    "# ../data/reference.txt\n",
    "\n",
    "print(\"[메타데이터]\\n\")\n",
    "print(docs[1].metadata)\n",
    "print(\"\\n========= [앞부분] 미리보기 =========\\n\")\n",
    "print(docs[1].page_content[:500])"
   ]
  },
  {
   "cell_type": "markdown",
   "id": "b47b83b9",
   "metadata": {},
   "source": [
    "<small>\n",
    "\n",
    "* 셀 출력\n",
    "\n",
    "    ```markdown\n",
    "    [메타데이터]\n",
    "\n",
    "    {'source': '../06_Document_Loader/data/reference.txt'}\n",
    "\n",
    "    ========= [앞부분] 미리보기 =========\n",
    "\n",
    "    1.\n",
    "    제목: [Digital Insight 2023-5] ChatGPT의 파급효과와 기관의 LLM 도입 전략\n",
    "    출처: https://www.nia.or.kr/site/nia_kor/ex/bbs/View.do?cbIdx=82618&bcIdx=26165&parentSeq=26165\n",
    "    파일명: [DI]_ChatGPT의_파급_효과와_기관의_LLM_도입_전략.pdf\n",
    "\n",
    "    2.\n",
    "    제목: [IF_23-6호]_인공지능_기술_발전과_일자리의_미래_최종\n",
    "    출처: https://www.nia.or.kr/site/nia_kor/ex/bbs/View.do?cbIdx=25932&bcIdx=25938&parentSeq=25938\n",
    "    파일명: [IF_23-6호]_인공지능_기술_발전과_일자리의_미래_최종.pdf\n",
    "    ```"
   ]
  },
  {
   "cell_type": "code",
   "execution_count": null,
   "id": "c89cdeec",
   "metadata": {},
   "outputs": [],
   "source": [
    "# ../data/appendix-keywords-EUCKR.txt\n",
    "print(\"[메타데이터]\\n\")\n",
    "print(docs[2].metadata)\n",
    "print(\"\\n========= [앞부분] 미리보기 =========\\n\")\n",
    "print(docs[2].page_content[:500])"
   ]
  },
  {
   "cell_type": "markdown",
   "id": "a50f7d54",
   "metadata": {},
   "source": [
    "<small>\n",
    "\n",
    "* 셀 출력\n",
    "\n",
    "    ```markdown\n",
    "    [메타데이터]\n",
    "\n",
    "    {'source': '../06_Document_Loader/data/appendix-keywords-EUCKR.txt'}\n",
    "\n",
    "    ========= [앞부분] 미리보기 =========\n",
    "\n",
    "    Semantic Search\n",
    "\n",
    "    정의: 의미론적 검색은 사용자의 질의를 단순한 키워드 매칭을 넘어서 그 의미를 파악하여 관련된 결과를 반환하는 검색 방식입니다.\n",
    "    예시: 사용자가 \"태양계 행성\"이라고 검색하면, \"목성\", \"화성\" 등과 같이 관련된 행성에 대한 정보를 반환합니다.\n",
    "    연관키워드: 자연어 처리, 검색 알고리즘, 데이터 마이닝\n",
    "\n",
    "    Embedding\n",
    "\n",
    "    정의: 임베딩은 단어나 문장 같은 텍스트 데이터를 저차원의 연속적인 벡터로 변환하는 과정입니다. 이를 통해 컴퓨터가 텍스트를 이해하고 처리할 수 있게 합니다.\n",
    "    예시: \"사과\"라는 단어를 [0.65, -0.23, 0.17]과 같은 벡터로 표현합니다.\n",
    "    연관키워드: 자연어 처리, 벡터화, 딥러닝\n",
    "\n",
    "    Token\n",
    "\n",
    "    정의: 토큰은 텍스트를 더 작은 단위로 분할하는 것을 의미합니다. 이는 일반적으로 단어, 문장, 또는 구절일 수 있습니다.\n",
    "    예시: 문장 \"나는 학교에 간다\"를 \"나는\", \"학교에\", \"간다\"로 분할합니다.\n",
    "    연관키워드: 토큰화, 자연어\n",
    "    ```"
   ]
  },
  {
   "cell_type": "code",
   "execution_count": null,
   "id": "710ee422",
   "metadata": {},
   "outputs": [],
   "source": [
    "# ../data/chain-of-density.txt\n",
    "print(\"[메타데이터]\\n\")\n",
    "print(docs[3].metadata)\n",
    "print(\"\\n========= [앞부분] 미리보기 =========\\n\")\n",
    "print(docs[3].page_content[:500])"
   ]
  },
  {
   "cell_type": "markdown",
   "id": "5e70ef62",
   "metadata": {},
   "source": [
    "<small>\n",
    "\n",
    "* 셀 출력\n",
    "\n",
    "    ```markdown\n",
    "    [메타데이터]\n",
    "\n",
    "    {'source': '../06_Document_Loader/data/chain-of-density.txt'}\n",
    "\n",
    "    ========= [앞부분] 미리보기 =========\n",
    "\n",
    "    Selecting the “right” amount of information to include in a summary is a difficult task. \n",
    "    A good summary should be detailed and entity-centric without being overly dense and hard to follow. To better understand this tradeoff, we solicit increasingly dense GPT-4 summaries with what we refer to as a “Chain of Density” (CoD) prompt. Specifically, GPT-4 generates an initial entity-sparse summary before iteratively incorporating missing salient entities without increasing the length. Summaries genera\n",
    "    ```"
   ]
  },
  {
   "cell_type": "code",
   "execution_count": null,
   "id": "90728526",
   "metadata": {},
   "outputs": [],
   "source": [
    "# ../data/appendix-keywords.txt\n",
    "print(\"[메타데이터]\\n\")\n",
    "print(docs[4].metadata)\n",
    "print(\"\\n========= [앞부분] 미리보기 =========\\n\")\n",
    "print(docs[4].page_content[:500])"
   ]
  },
  {
   "cell_type": "markdown",
   "id": "38116df5",
   "metadata": {},
   "source": [
    "<small>\n",
    "\n",
    "* 셀 출력\n",
    "\n",
    "    ```markdown\n",
    "    [메타데이터]\n",
    "\n",
    "    {'source': '../06_Document_Loader/data/appendix-keywords.txt'}\n",
    "\n",
    "    ========= [앞부분] 미리보기 =========\n",
    "\n",
    "    Semantic Search\n",
    "\n",
    "    정의: 의미론적 검색은 사용자의 질의를 단순한 키워드 매칭을 넘어서 그 의미를 파악하여 관련된 결과를 반환하는 검색 방식입니다.\n",
    "    예시: 사용자가 \"태양계 행성\"이라고 검색하면, \"목성\", \"화성\" 등과 같이 관련된 행성에 대한 정보를 반환합니다.\n",
    "    연관키워드: 자연어 처리, 검색 알고리즘, 데이터 마이닝\n",
    "\n",
    "    Embedding\n",
    "\n",
    "    정의: 임베딩은 단어나 문장 같은 텍스트 데이터를 저차원의 연속적인 벡터로 변환하는 과정입니다. 이를 통해 컴퓨터가 텍스트를 이해하고 처리할 수 있게 합니다.\n",
    "    예시: \"사과\"라는 단어를 [0.65, -0.23, 0.17]과 같은 벡터로 표현합니다.\n",
    "    연관키워드: 자연어 처리, 벡터화, 딥러닝\n",
    "\n",
    "    Token\n",
    "\n",
    "    정의: 토큰은 텍스트를 더 작은 단위로 분할하는 것을 의미합니다. 이는 일반적으로 단어, 문장, 또는 구절일 수 있습니다.\n",
    "    예시: 문장 \"나는 학교에 간다\"를 \"나는\", \"학교에\", \"간다\"로 분할합니다.\n",
    "    연관키워드: 토큰화, 자연어\n",
    "    ```"
   ]
  },
  {
   "cell_type": "code",
   "execution_count": null,
   "id": "18347aa9",
   "metadata": {},
   "outputs": [],
   "source": [
    "# ../data/appendix-keywords-utf8.txt\n",
    "print(\"[메타데이터]\\n\")\n",
    "print(docs[5].metadata)\n",
    "print(\"\\n========= [앞부분] 미리보기 =========\\n\")\n",
    "print(docs[5].page_content[:500])"
   ]
  },
  {
   "cell_type": "markdown",
   "id": "6d9694cc",
   "metadata": {},
   "source": [
    "<small>\n",
    "\n",
    "* 셀 출력\n",
    "\n",
    "    ```markdown\n",
    "    [메타데이터]\n",
    "\n",
    "    {'source': '../06_Document_Loader/data/appendix-keywords-utf8.txt'}\n",
    "\n",
    "    ========= [앞부분] 미리보기 =========\n",
    "\n",
    "    Semantic Search\n",
    "\n",
    "    정의: 의미론적 검색은 사용자의 질의를 단순한 키워드 매칭을 넘어서 그 의미를 파악하여 관련된 결과를 반환하는 검색 방식입니다.\n",
    "    예시: 사용자가 \"태양계 행성\"이라고 검색하면, \"목성\", \"화성\" 등과 같이 관련된 행성에 대한 정보를 반환합니다.\n",
    "    연관키워드: 자연어 처리, 검색 알고리즘, 데이터 마이닝\n",
    "\n",
    "    Embedding\n",
    "\n",
    "    정의: 임베딩은 단어나 문장 같은 텍스트 데이터를 저차원의 연속적인 벡터로 변환하는 과정입니다. 이를 통해 컴퓨터가 텍스트를 이해하고 처리할 수 있게 합니다.\n",
    "    예시: \"사과\"라는 단어를 [0.65, -0.23, 0.17]과 같은 벡터로 표현합니다.\n",
    "    연관키워드: 자연어 처리, 벡터화, 딥러닝\n",
    "\n",
    "    Token\n",
    "\n",
    "    정의: 토큰은 텍스트를 더 작은 단위로 분할하는 것을 의미합니다. 이는 일반적으로 단어, 문장, 또는 구절일 수 있습니다.\n",
    "    예시: 문장 \"나는 학교에 간다\"를 \"나는\", \"학교에\", \"간다\"로 분할합니다.\n",
    "    연관키워드: 토큰화, 자연어\n",
    "    ```"
   ]
  },
  {
   "cell_type": "markdown",
   "id": "7bd7180a",
   "metadata": {},
   "source": [
    "---"
   ]
  },
  {
   "cell_type": "markdown",
   "id": "fc85fca1",
   "metadata": {},
   "source": [
    "* *next: `JSON`*"
   ]
  },
  {
   "cell_type": "markdown",
   "id": "9d303dd1",
   "metadata": {},
   "source": [
    "---"
   ]
  }
 ],
 "metadata": {
  "kernelspec": {
   "display_name": "lc_env",
   "language": "python",
   "name": "python3"
  },
  "language_info": {
   "codemirror_mode": {
    "name": "ipython",
    "version": 3
   },
   "file_extension": ".py",
   "mimetype": "text/x-python",
   "name": "python",
   "nbconvert_exporter": "python",
   "pygments_lexer": "ipython3",
   "version": "3.13.5"
  }
 },
 "nbformat": 4,
 "nbformat_minor": 5
}
