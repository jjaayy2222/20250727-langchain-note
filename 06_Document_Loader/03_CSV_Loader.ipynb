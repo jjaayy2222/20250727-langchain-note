{
 "cells": [
  {
   "cell_type": "markdown",
   "id": "36ae39fe",
   "metadata": {},
   "source": [
    "---"
   ]
  },
  {
   "cell_type": "markdown",
   "id": "064ce159",
   "metadata": {},
   "source": [
    "* 출처: LangChain 공식 문서 또는 해당 교재명\n",
    "* 원본 URL: https://smith.langchain.com/hub/teddynote/summary-stuff-documents"
   ]
  },
  {
   "cell_type": "markdown",
   "id": "0164fdbe",
   "metadata": {},
   "source": [
    "---"
   ]
  },
  {
   "cell_type": "markdown",
   "id": "e402a769",
   "metadata": {},
   "source": [
    "## **`CSV`**"
   ]
  },
  {
   "cell_type": "markdown",
   "id": "714fa214",
   "metadata": {},
   "source": [
    "* [**`Comma-Separated Values (CSV)`**](https://en.wikipedia.org/wiki/Comma-separated_values)\n",
    "\n",
    "  * **`쉼표`** 로 **`값`** 을 구분하는 구분된 **`텍스트 파일`**\n",
    "\n",
    "  * 파일의 각 줄 = 데이터 레코드\n",
    "\n",
    "  * 각 레코드 = 쉼표로 구분된 하나 이상의 필드로 구성"
   ]
  },
  {
   "cell_type": "markdown",
   "id": "4397cb3c",
   "metadata": {},
   "source": [
    "---"
   ]
  },
  {
   "cell_type": "markdown",
   "id": "947cea11",
   "metadata": {},
   "source": [
    "### **`CSVLoader`**"
   ]
  },
  {
   "cell_type": "markdown",
   "id": "b80d558e",
   "metadata": {},
   "source": [
    "* **`CSV 데이터를 문서당 한 행씩 로드`**"
   ]
  },
  {
   "cell_type": "code",
   "execution_count": null,
   "id": "2accfb1c",
   "metadata": {},
   "outputs": [],
   "source": [
    "# API KEY를 환경변수로 관리하기 위한 설정 파일\n",
    "import os\n",
    "from dotenv import load_dotenv\n",
    "\n",
    "# API KEY 정보로드\n",
    "load_dotenv()               # true"
   ]
  },
  {
   "cell_type": "markdown",
   "id": "a43a5d57",
   "metadata": {},
   "source": [
    "* 사전에 `VS Code` **터미널에 설치**\n",
    "\n",
    "```bash\n",
    "        pip install langchain-community\n",
    "```"
   ]
  },
  {
   "cell_type": "code",
   "execution_count": null,
   "id": "288dd6d2",
   "metadata": {},
   "outputs": [],
   "source": [
    "from langchain_community.document_loaders.csv_loader import CSVLoader\n",
    "\n",
    "# CSV 로더 생성\n",
    "loader = CSVLoader(file_path=\"../06_Document_Loader/data/titanic.csv\")\n",
    "\n",
    "# 데이터 로드\n",
    "docs = loader.load()\n",
    "\n",
    "print(len(docs))                        # 891\n",
    "print(docs[0].metadata)                 # {'source': '../06_Document_Loader/data/titanic.csv', 'row': 0}"
   ]
  },
  {
   "cell_type": "markdown",
   "id": "67be170f",
   "metadata": {},
   "source": [
    "---"
   ]
  },
  {
   "cell_type": "markdown",
   "id": "05a343f4",
   "metadata": {},
   "source": [
    "### **`CSV 파싱 및 로딩 커스터마이징`**"
   ]
  },
  {
   "cell_type": "markdown",
   "id": "53fd72af",
   "metadata": {},
   "source": [
    "* [**`csv module`**](https://docs.python.org/3/library/csv.html) 문서를 참조하여 지원되는 csv args에 대한 자세한 정보를 확인하기"
   ]
  },
  {
   "cell_type": "code",
   "execution_count": null,
   "id": "79dec34c",
   "metadata": {},
   "outputs": [],
   "source": [
    "# 컬럼정보: \n",
    "# PassengerId,Survived,Pclass,Name,Sex,Age,SibSp,Parch,Ticket,Fare,Cabin,Embarked\n",
    "\n",
    "# CSV 파일 경로\n",
    "loader = CSVLoader(\n",
    "    file_path=\"../06_Document_Loader/data/titanic.csv\",\n",
    "    csv_args={\n",
    "        \"delimiter\": \",\",                                   # 구분자\n",
    "        \"quotechar\": '\"',                                   # 인용 부호 문자\n",
    "        \"fieldnames\": [\n",
    "            \"Passenger ID\",\n",
    "            \"Survival (1: Survived, 0: Died)\",\n",
    "            \"Passenger Class\",\n",
    "            \"Name\",\n",
    "            \"Sex\",\n",
    "            \"Age\",\n",
    "            \"Number of Siblings/Spouses Aboard\",\n",
    "            \"Number of Parents/Children Aboard\",\n",
    "            \"Ticket Number\",\n",
    "            \"Fare\",\n",
    "            \"Cabin\",\n",
    "            \"Port of Embarkation\",\n",
    "        ],                                                  # 필드 이름\n",
    "    },\n",
    ")\n",
    "\n",
    "# 데이터 로드\n",
    "docs = loader.load()\n",
    "\n",
    "# 데이터 출력\n",
    "print(docs[1].page_content)"
   ]
  },
  {
   "cell_type": "markdown",
   "id": "4eb25978",
   "metadata": {},
   "source": [
    "<small>\n",
    "\n",
    "* 셀 출력\n",
    "\n",
    "    ```markdown\n",
    "    Passenger ID: 1\n",
    "    Survival (1: Survived, 0: Died): 0\n",
    "    Passenger Class: 3\n",
    "    Name: Braund, Mr. Owen Harris\n",
    "    Sex: male\n",
    "    Age: 22\n",
    "    Number of Siblings/Spouses Aboard: 1\n",
    "    Number of Parents/Children Aboard: 0\n",
    "    Ticket Number: A/5 21171\n",
    "    Fare: 7.25\n",
    "    Cabin: \n",
    "    Port of Embarkation: S\n",
    "    ```"
   ]
  },
  {
   "cell_type": "markdown",
   "id": "f1e09a34",
   "metadata": {},
   "source": [
    "* **`source_column` 인자를 사용** → 각 행에서 생성된 문서의 출처 지정하기\n",
    "\n",
    "  * 그렇지 않으면 **`모든 문서의 출처` = `file_path`가 사용됨**\n",
    "\n",
    "  * **`CSV`** 파일에서 로드된 문서를 **출처를 사용해 질문에 답하는 체인에 사용할 때 유용**"
   ]
  },
  {
   "cell_type": "code",
   "execution_count": null,
   "id": "68768eae",
   "metadata": {},
   "outputs": [],
   "source": [
    "loader = CSVLoader(                                         # CSV 로더 설정\n",
    "    file_path=\"../06_Document_Loader/data/titanic.csv\",     # 1_파일 경로 지정\n",
    "    source_column=\"PassengerId\"                             # 2_소스 컬럼 지정\n",
    ")  \n",
    "\n",
    "# 데이터 로드\n",
    "docs = loader.load()  \n",
    "\n",
    "# 데이터 출력\n",
    "print(docs[1])"
   ]
  },
  {
   "cell_type": "markdown",
   "id": "1007511d",
   "metadata": {},
   "source": [
    "<small>\n",
    "\n",
    "* 셀 출력\n",
    "\n",
    "    ```markdown\n",
    "    page_content='PassengerId: 2\n",
    "    Survived: 1\n",
    "    Pclass: 1\n",
    "    Name: Cumings, Mrs. John Bradley (Florence Briggs Thayer)\n",
    "    Sex: female\n",
    "    Age: 38\n",
    "    SibSp: 1\n",
    "    Parch: 0\n",
    "    Ticket: PC 17599\n",
    "    Fare: 71.2833\n",
    "    Cabin: C85\n",
    "    Embarked: C' metadata={'source': '2', 'row': 1}\n",
    "    ```"
   ]
  },
  {
   "cell_type": "markdown",
   "id": "d4663ed6",
   "metadata": {},
   "source": [
    "<small>\n",
    "\n",
    "* `CSV Loader` vs `source_column`\n",
    "\n",
    "    | **`CSV_Loader`**                           | **`source_column`**                                             |\n",
    "    |:--------------------------------------|:-----------------------------------------------------------|\n",
    "    | Passenger ID: 1                      | page_content='PassengerId: 2                              |\n",
    "    | Survival (1: Survived, 0: Died): 0   | Survived: 1                                               |\n",
    "    | Passenger Class: 3                   | Pclass: 1                                                 |\n",
    "    | Name: Braund, Mr. Owen Harris        | Name: Cumings, Mrs. John Bradley (Florence Briggs Thayer) |\n",
    "    | Sex: male                            | Sex: female                                               |\n",
    "    | Age: 22                              | Age: 38                                                   |\n",
    "    | Number of Siblings/Spouses Aboard: 1 | SibSp: 1                                                  |\n",
    "    | Number of Parents/Children Aboard: 0 | Parch: 0                                                  |\n",
    "    | Ticket Number: A/5 21171             | Ticket: PC 17599                                          |\n",
    "    | Fare: 7.25                           | Fare: 71.2833                                             |\n",
    "    | Cabin:                               | Cabin: C85                                                |\n",
    "    | Port of Embarkation: S               | Embarked: C' metadata={'source': '2', 'row': 1}           |"
   ]
  },
  {
   "cell_type": "markdown",
   "id": "5a365b0e",
   "metadata": {},
   "source": [
    "---"
   ]
  },
  {
   "cell_type": "markdown",
   "id": "933e391a",
   "metadata": {},
   "source": [
    "### **`UnstructuredCSVLoader`**"
   ]
  },
  {
   "cell_type": "markdown",
   "id": "553a916e",
   "metadata": {},
   "source": [
    "* `UnstructuredCSVLoader` 사용 → **`테이블 로드`할 수도 있음**\n",
    "\n",
    "* 장점: **`elements`** 모드에서 사용 → **`메타데이터`에서 `테이블`의 `HTML 표현`이 제공된다는 것**\n",
    "\n",
    "* 사전에 `VS Code` 터미널에 설치할 것\n",
    "\n",
    "```bash\n",
    "        pip install unstructured \n",
    "```"
   ]
  },
  {
   "cell_type": "code",
   "execution_count": null,
   "id": "25eaeabe",
   "metadata": {},
   "outputs": [],
   "source": [
    "from langchain_community.document_loaders.csv_loader import UnstructuredCSVLoader\n",
    "\n",
    "# 비구조화 CSV 로더 인스턴스 생성\n",
    "loader = UnstructuredCSVLoader(\n",
    "    file_path=\"../06_Document_Loader/data/titanic.csv\",         # 파일 경로\n",
    "    mode=\"elements\")                                            # elements 모드 설정\n",
    "\n",
    "# 문서 로드\n",
    "docs = loader.load()\n",
    "\n",
    "# 첫 번째 문서의 HTML 텍스트 메타데이터 출력\n",
    "print(docs[0].metadata[\"text_as_html\"][:1000])"
   ]
  },
  {
   "cell_type": "markdown",
   "id": "d5bd7f8d",
   "metadata": {},
   "source": [
    "<small>\n",
    "\n",
    "* 셀 출력 (13.8s)\n",
    "\n",
    "    ```html\n",
    "    <table><tr><td>PassengerId</td><td>Survived</td><td>Pclass</td><td>Name</td><td>Sex</td><td>Age</td><td>SibSp</td><td>Parch</td><td>Ticket</td><td>Fare</td><td>Cabin</td><td>Embarked</td></tr><tr><td>1</td><td>0</td><td>3</td><td>Braund, Mr. Owen Harris</td><td>male</td><td>22</td><td>1</td><td>0</td><td>A/5 21171</td><td>7.25</td><td/><td>S</td></tr><tr><td>2</td><td>1</td><td>1</td><td>Cumings, Mrs. John Bradley (Florence Briggs Thayer)</td><td>female</td><td>38</td><td>1</td><td>0</td><td>PC 17599</td><td>71.2833</td><td>C85</td><td>C</td></tr><tr><td>3</td><td>1</td><td>3</td><td>Heikkinen, Miss. Laina</td><td>female</td><td>26</td><td>0</td><td>0</td><td>STON/O2. 3101282</td><td>7.925</td><td/><td>S</td></tr><tr><td>4</td><td>1</td><td>1</td><td>Futrelle, Mrs. Jacques Heath (Lily May Peel)</td><td>female</td><td>35</td><td>1</td><td>0</td><td>113803</td><td>53.1</td><td>C123</td><td>S</td></tr><tr><td>5</td><td>0</td><td>3</td><td>Allen, Mr. William Henry</td><td>male</td><td>35</table>\n",
    "    ```\n",
    "\n",
    "---\n",
    "\n",
    "* 마크다운 테이블로 변환\n",
    "\n",
    "| PassengerId | Survived | Pclass | Name                                                | Sex    | Age | SibSp | Parch | Ticket           | Fare    | Cabin | Embarked |\n",
    "|-------------|----------|--------|-----------------------------------------------------|--------|-----|-------|-------|------------------|---------|-------|----------|\n",
    "| 1           | 0        | 3      | Braund, Mr. Owen Harris                             | male   | 22  | 1     | 0     | A/5 21171        | 7.25    | S     |          |\n",
    "| 2           | 1        | 1      | Cumings, Mrs. John Bradley (Florence Briggs Thayer) | female | 38  | 1     | 0     | PC 17599         | 71.2833 | C85   | C        |\n",
    "| 3           | 1        | 3      | Heikkinen, Miss. Laina                              | female | 26  | 0     | 0     | STON/O2. 3101282 | 7.925   | S     |          |\n",
    "| 4           | 1        | 1      | Futrelle, Mrs. Jacques Heath (Lily May Peel)        | female | 35  | 1     | 0     | 113803           | 53.1    | C123  | S        |\n"
   ]
  },
  {
   "cell_type": "markdown",
   "id": "f0903241",
   "metadata": {},
   "source": [
    "---"
   ]
  },
  {
   "cell_type": "markdown",
   "id": "ecf100df",
   "metadata": {},
   "source": [
    "### **`DataFrameLoader`**"
   ]
  },
  {
   "cell_type": "markdown",
   "id": "16b9b807",
   "metadata": {},
   "source": [
    "* **`Pandas`**\n",
    "\n",
    "  * **`Python` 프로그래밍 언어를 위한 오픈 소스 데이터 분석 및 조작 도구**\n",
    "\n",
    "  * 데이터 과학, 머신러닝, 그리고 다양한 분야의 데이터 작업에 널리 사용"
   ]
  },
  {
   "cell_type": "code",
   "execution_count": null,
   "id": "5d46846e",
   "metadata": {},
   "outputs": [],
   "source": [
    "import pandas as pd\n",
    "\n",
    "# CSV 파일 읽기\n",
    "df = pd.read_csv(\"../06_Document_Loader/data/titanic.csv\")\n",
    "\n",
    "# 첫 5개행 조회해보기\n",
    "df.head()"
   ]
  },
  {
   "cell_type": "markdown",
   "id": "9daa1581",
   "metadata": {},
   "source": [
    "* 첫 5개 행 조회 결과\n",
    "\n",
    "![첫 5개 행 조회 결과](../06_Document_Loader/Img/df_head.png)"
   ]
  },
  {
   "cell_type": "code",
   "execution_count": null,
   "id": "35882ea2",
   "metadata": {},
   "outputs": [],
   "source": [
    "# 데이터 프레임 로더 임포트\n",
    "from langchain_community.document_loaders import DataFrameLoader\n",
    "\n",
    "# 데이터 프레임 로더 설정, 페이지 내용 컬럼 지정\n",
    "# df=데이터 프레임 객체, page_content_column=페이지 내용 컬럼 이름\n",
    "loader = DataFrameLoader(df, page_content_column=\"Name\")\n",
    "\n",
    "# 문서 로드\n",
    "docs = loader.load()\n",
    "\n",
    "# 첫 번째 문서의 페이지 내용 출력\n",
    "print(docs[0].page_content)\n",
    "\n",
    "# 첫 번째 문서의 메타데이터 출력\n",
    "print(docs[0].metadata)"
   ]
  },
  {
   "cell_type": "markdown",
   "id": "f7220372",
   "metadata": {},
   "source": [
    "<small>\n",
    "\n",
    "* 셀 출력 (0.1s)\n",
    "\n",
    "    ```markdown\n",
    "    Braund, Mr. Owen Harris\n",
    "    {'PassengerId': 1, 'Survived': 0, 'Pclass': 3, 'Sex': 'male', 'Age': 22.0, 'SibSp': 1, 'Parch': 0, 'Ticket': 'A/5 21171', 'Fare': 7.25, 'Cabin': nan, 'Embarked': 'S'}\n",
    "    ```"
   ]
  },
  {
   "cell_type": "code",
   "execution_count": null,
   "id": "fe46108f",
   "metadata": {},
   "outputs": [],
   "source": [
    "# 큰 테이블에 대한 지연 로딩, 전체 테이블을 메모리에 로드하지 않음\n",
    "\n",
    "for row in loader.lazy_load():\n",
    "    print(row)\n",
    "    break                                   # 첫 행만 출력"
   ]
  },
  {
   "cell_type": "markdown",
   "id": "f81b639b",
   "metadata": {},
   "source": [
    "<small>\n",
    "\n",
    "* 셀 출력\n",
    "\n",
    "    ```markdown\n",
    "    page_content='Braund, Mr. Owen Harris' metadata={'PassengerId': 1, 'Survived': 0, 'Pclass': 3, 'Sex': 'male', 'Age': 22.0, 'SibSp': 1, 'Parch': 0, 'Ticket': 'A/5 21171', 'Fare': 7.25, 'Cabin': nan, 'Embarked': 'S'}\n",
    "    ```"
   ]
  },
  {
   "cell_type": "markdown",
   "id": "c130d860",
   "metadata": {},
   "source": [
    "---"
   ]
  },
  {
   "cell_type": "markdown",
   "id": "fc85fca1",
   "metadata": {},
   "source": [
    "* *next: 엑셀(`Excel`)*"
   ]
  },
  {
   "cell_type": "markdown",
   "id": "9d303dd1",
   "metadata": {},
   "source": [
    "---"
   ]
  }
 ],
 "metadata": {
  "kernelspec": {
   "display_name": "lc_env",
   "language": "python",
   "name": "python3"
  },
  "language_info": {
   "codemirror_mode": {
    "name": "ipython",
    "version": 3
   },
   "file_extension": ".py",
   "mimetype": "text/x-python",
   "name": "python",
   "nbconvert_exporter": "python",
   "pygments_lexer": "ipython3",
   "version": "3.13.5"
  }
 },
 "nbformat": 4,
 "nbformat_minor": 5
}
