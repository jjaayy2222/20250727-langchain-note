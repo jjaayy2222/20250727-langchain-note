{
 "cells": [
  {
   "cell_type": "markdown",
   "id": "36ae39fe",
   "metadata": {},
   "source": [
    "---"
   ]
  },
  {
   "cell_type": "markdown",
   "id": "064ce159",
   "metadata": {},
   "source": [
    "* 출처: LangChain 공식 문서 또는 해당 교재명\n",
    "* 원본 URL: https://smith.langchain.com/hub/teddynote/summary-stuff-documents"
   ]
  },
  {
   "cell_type": "markdown",
   "id": "0164fdbe",
   "metadata": {},
   "source": [
    "---"
   ]
  },
  {
   "cell_type": "markdown",
   "id": "e402a769",
   "metadata": {},
   "source": [
    "## **`Microsoft Word`**"
   ]
  },
  {
   "cell_type": "markdown",
   "id": "da66e2a2",
   "metadata": {},
   "source": [
    "* [**`Microsoft Word`**](https://www.microsoft.com/en-us/microsoft-365/word) \n",
    "\n",
    "  * `Microsoft`에서 개발한 워드 프로세서\n",
    "\n",
    "  * `Word` 문서룰 사용할 수 있는 문서 형식으로 로드하는 방법 다루기"
   ]
  },
  {
   "cell_type": "code",
   "execution_count": null,
   "id": "2accfb1c",
   "metadata": {},
   "outputs": [],
   "source": [
    "# API KEY를 환경변수로 관리하기 위한 설정 파일\n",
    "import os\n",
    "from dotenv import load_dotenv\n",
    "\n",
    "# API KEY 정보로드\n",
    "load_dotenv()               # true"
   ]
  },
  {
   "cell_type": "markdown",
   "id": "3ee33175",
   "metadata": {},
   "source": [
    "---"
   ]
  },
  {
   "cell_type": "markdown",
   "id": "54ec7bda",
   "metadata": {},
   "source": [
    "### **`Docx2txtLoader`**"
   ]
  },
  {
   "cell_type": "markdown",
   "id": "a43a5d57",
   "metadata": {},
   "source": [
    "* `Docx2txt` 사용 → `.docx` 파일을 문서로 로드 가능\n",
    "\n",
    "  * 사전에 `VS Code` 터미널에 설치할 것\n",
    "\n",
    "```bash\n",
    "          pip install -qU docx2txt\n",
    "          pip install msoffcrypto-tool                                  # msoffcrypto 패키지\n",
    "```"
   ]
  },
  {
   "cell_type": "code",
   "execution_count": null,
   "id": "b06d9606",
   "metadata": {},
   "outputs": [],
   "source": [
    "from langchain_community.document_loaders import Docx2txtLoader\n",
    "\n",
    "# 문서 로더 초기화\n",
    "loader = Docx2txtLoader(\"../06_Document_Loader/data/sample-word-document.docx\")\n",
    "\n",
    "# 문서 로딩\n",
    "docs = loader.load()  \n",
    "\n",
    "print(len(docs))                # 1"
   ]
  },
  {
   "cell_type": "markdown",
   "id": "e6b5fbd9",
   "metadata": {},
   "source": [
    "---"
   ]
  },
  {
   "cell_type": "markdown",
   "id": "4bc1cc9b",
   "metadata": {},
   "source": [
    "### **`UnstructuredWordDocumentLoader`**"
   ]
  },
  {
   "cell_type": "markdown",
   "id": "1bc6d03a",
   "metadata": {},
   "source": [
    "* 사전에 `VS Code` 터미널에 설치할 것 \n",
    "\n",
    "```bash\n",
    "        pip install python-docx\n",
    "```"
   ]
  },
  {
   "cell_type": "code",
   "execution_count": null,
   "id": "e4669aa3",
   "metadata": {},
   "outputs": [],
   "source": [
    "from langchain_community.document_loaders import UnstructuredWordDocumentLoader\n",
    "\n",
    "# 비구조화된 워드 문서 로더 인스턴스화\n",
    "loader = UnstructuredWordDocumentLoader(\"../06_Document_Loader/data/sample-word-document.docx\")\n",
    "\n",
    "# 문서 로드\n",
    "docs = loader.load()\n",
    "\n",
    "print(len(docs))                # 1"
   ]
  },
  {
   "cell_type": "markdown",
   "id": "b6e5abd9",
   "metadata": {},
   "source": [
    "<small>\n",
    "\n",
    "* 1개의 단일 `Document`로 로드됨"
   ]
  },
  {
   "cell_type": "code",
   "execution_count": null,
   "id": "d91bc3ff",
   "metadata": {},
   "outputs": [],
   "source": [
    "# metadata 출력\n",
    "\n",
    "print(docs[0].metadata)"
   ]
  },
  {
   "cell_type": "markdown",
   "id": "c56c7bff",
   "metadata": {},
   "source": [
    "<small>\n",
    "\n",
    "* 셀 출력\n",
    "\n",
    "    ```python\n",
    "    {'source': '../06_Document_Loader/data/sample-word-document.docx'}\n",
    "    ```"
   ]
  },
  {
   "cell_type": "markdown",
   "id": "c901032d",
   "metadata": {},
   "source": [
    "---"
   ]
  },
  {
   "cell_type": "markdown",
   "id": "896ec8de",
   "metadata": {},
   "source": [
    "* 내부적으로 비정형은 텍스트 덩어리마다 서로 다른 **`요소`** 를 만듦\n",
    "\n",
    "* 기본적으로 이들은 함께 결합되어 있지만 **`mode-\"elements\"`** 지정 → 쉽게 분리 가능"
   ]
  },
  {
   "cell_type": "code",
   "execution_count": null,
   "id": "38ac3dfc",
   "metadata": {},
   "outputs": [],
   "source": [
    "# UnstructuredWordDocumentLoader에서 elements 모드 지정\n",
    "\n",
    "loader = UnstructuredWordDocumentLoader(\n",
    "    \"../06_Document_Loader/data/sample-word-document.docx\", \n",
    "    mode=\"elements\"\n",
    ")\n",
    "\n",
    "# 데이터 로드\n",
    "docs = loader.load()\n",
    "\n",
    "# 로드한 문서의 개수 출력\n",
    "print(len(docs))                        # 128 (셀 출력: 0.8s)"
   ]
  },
  {
   "cell_type": "code",
   "execution_count": null,
   "id": "4df7aed8",
   "metadata": {},
   "outputs": [],
   "source": [
    "# 첫번째 문서의 내용 출력\n",
    "\n",
    "print(docs[0].page_content)"
   ]
  },
  {
   "cell_type": "markdown",
   "id": "77fb0927",
   "metadata": {},
   "source": [
    "<small>\n",
    "\n",
    "* 셀 출력\n",
    "\n",
    "    ```plaintext\n",
    "    Semantic Search\n",
    "    ```"
   ]
  },
  {
   "cell_type": "code",
   "execution_count": null,
   "id": "553dcc40",
   "metadata": {},
   "outputs": [],
   "source": [
    "# 첫번째 문서의 내용 출력\n",
    "\n",
    "docs[0].metadata"
   ]
  },
  {
   "cell_type": "markdown",
   "id": "c8f2240e",
   "metadata": {},
   "source": [
    "<small>\n",
    "\n",
    "* 셀 출력\n",
    "\n",
    "    ```python\n",
    "    {'source': '../06_Document_Loader/data/sample-word-document.docx',\n",
    "    'category_depth': 0,\n",
    "    'file_directory': '../06_Document_Loader/data',\n",
    "    'filename': 'sample-word-document.docx',\n",
    "    'last_modified': '2025-09-12T13:42:46',\n",
    "    'page_number': 1,\n",
    "    'languages': ['kor'],\n",
    "    'filetype': 'application/vnd.openxmlformats-officedocument.wordprocessingml.document',\n",
    "    'category': 'UncategorizedText',\n",
    "    'element_id': 'a7703edf875ec776dc2bb839ca335b45'}\n",
    "    ```"
   ]
  },
  {
   "cell_type": "markdown",
   "id": "c130d860",
   "metadata": {},
   "source": [
    "---"
   ]
  },
  {
   "cell_type": "markdown",
   "id": "fc85fca1",
   "metadata": {},
   "source": [
    "* *next: `PPT`(`Power Point`)*"
   ]
  },
  {
   "cell_type": "markdown",
   "id": "9d303dd1",
   "metadata": {},
   "source": [
    "---"
   ]
  }
 ],
 "metadata": {
  "kernelspec": {
   "display_name": "lc_env",
   "language": "python",
   "name": "python3"
  },
  "language_info": {
   "codemirror_mode": {
    "name": "ipython",
    "version": 3
   },
   "file_extension": ".py",
   "mimetype": "text/x-python",
   "name": "python",
   "nbconvert_exporter": "python",
   "pygments_lexer": "ipython3",
   "version": "3.13.5"
  }
 },
 "nbformat": 4,
 "nbformat_minor": 5
}
