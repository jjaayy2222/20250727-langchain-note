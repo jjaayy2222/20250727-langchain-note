{
 "cells": [
  {
   "cell_type": "markdown",
   "id": "36ae39fe",
   "metadata": {},
   "source": [
    "---"
   ]
  },
  {
   "cell_type": "markdown",
   "id": "064ce159",
   "metadata": {},
   "source": [
    "* 출처: LangChain 공식 문서 또는 해당 교재명\n",
    "* 원본 URL: https://smith.langchain.com/hub/teddynote/summary-stuff-documents"
   ]
  },
  {
   "cell_type": "markdown",
   "id": "0164fdbe",
   "metadata": {},
   "source": [
    "---"
   ]
  },
  {
   "cell_type": "markdown",
   "id": "e402a769",
   "metadata": {},
   "source": [
    "## **`JSON`**"
   ]
  },
  {
   "cell_type": "markdown",
   "id": "da66e2a2",
   "metadata": {},
   "source": [
    "* `.json` 확장자를 가지는 파일을 로더로 로드하는 방법 살펴보기\n",
    "\n",
    "* [참고](https://python.langchain.com/docs/modules/data_connection/document_loaders/json)"
   ]
  },
  {
   "cell_type": "code",
   "execution_count": null,
   "id": "2accfb1c",
   "metadata": {},
   "outputs": [],
   "source": [
    "# API KEY를 환경변수로 관리하기 위한 설정 파일\n",
    "import os\n",
    "from dotenv import load_dotenv\n",
    "\n",
    "# API KEY 정보로드\n",
    "load_dotenv()               # true"
   ]
  },
  {
   "cell_type": "markdown",
   "id": "016e7562",
   "metadata": {},
   "source": [
    "---"
   ]
  },
  {
   "cell_type": "markdown",
   "id": "b7889324",
   "metadata": {},
   "source": [
    "* 사전에 `VS Code` 터미널에 설치할 것\n",
    "\n",
    "```bash\n",
    "\n",
    "        pip install jq                          # JSON 데이터 파싱, 필터링, 변환, 쿼리하는데 사용\n",
    "\n",
    "```"
   ]
  },
  {
   "cell_type": "markdown",
   "id": "a43a5d57",
   "metadata": {},
   "source": [
    "* 사전에 `VS Code` 터미널에 설치할 것\n",
    "\n",
    "```bash\n",
    "          pip install langchain-community\n",
    "```"
   ]
  },
  {
   "cell_type": "code",
   "execution_count": null,
   "id": "2ba15c20",
   "metadata": {},
   "outputs": [],
   "source": [
    "# 필요한 라이브러리 임포트\n",
    "import json                             # json 모듈 임포트\n",
    "from pathlib import Path                # pathlib 모듈 임포트\n",
    "from pprint import pprint               # pprint 모듈 임포트\n",
    "\n",
    "# 파일 경로 설정\n",
    "file_path = \"../06_Document_Loader/data/people.json\"\n",
    "\n",
    "# JSON 파일 읽기\n",
    "data = json.loads(Path(file_path).read_text())\n",
    "\n",
    "# 데이터 출력\n",
    "pprint(data)"
   ]
  },
  {
   "cell_type": "markdown",
   "id": "ef352134",
   "metadata": {},
   "source": [
    "<small>\n",
    "\n",
    "* 셀 출력\n",
    "\n",
    "    ```json\n",
    "    [{'address': {'city': '서울', 'street': '312번지', 'zipCode': '83795'},\n",
    "    'age': 31,\n",
    "    'carOwnership': True,\n",
    "    'hobbies': ['요리', '음악 감상', '사진 촬영'],\n",
    "    'isMarried': True,\n",
    "    'name': '박시우',\n",
    "    'phoneNumbers': ['483-4639-1933', '947-4179-7976']},\n",
    "    {'address': {'city': '서울', 'street': '877번지', 'zipCode': '36780'},\n",
    "    'age': 31,\n",
    "    'carOwnership': True,\n",
    "    'hobbies': ['여행', '음악 감상', '등산'],\n",
    "    'isMarried': False,\n",
    "    'name': '정수아',\n",
    "    'phoneNumbers': ['337-5721-3227', '387-3768-9586']},\n",
    "    {'address': {'city': '서울', 'street': '175번지', 'zipCode': '89067'},\n",
    "    'age': 43,\n",
    "    'carOwnership': True,\n",
    "    'hobbies': ['등산', '독서', '게임'],\n",
    "    'isMarried': False,\n",
    "    'name': '최도윤',\n",
    "    'phoneNumbers': ['354-5563-4638', '471-9212-1826']},\n",
    "    {'address': {'city': '서울', 'street': '690번지', 'zipCode': '70635'},\n",
    "    'age': 22,\n",
    "    'carOwnership': False,\n",
    "    'hobbies': ['여행', '등산', '게임'],\n",
    "    'isMarried': False,\n",
    "    'name': '정민준',\n",
    "    'phoneNumbers': ['468-2796-2152', '922-5760-7030']},\n",
    "    {'address': {'city': '서울', 'street': '151번지', 'zipCode': '79118'},\n",
    "    'age': 79,\n",
    "    'carOwnership': False,\n",
    "    'hobbies': ['게임', '영화 감상', '음악 감상'],\n",
    "    'isMarried': True,\n",
    "    'name': '이민준',\n",
    "    'phoneNumbers': ['751-2823-8259', '722-7267-9516']},\n",
    "    {'address': {'city': '서울', 'street': '855번지', 'zipCode': '21216'},\n",
    "    'age': 64,\n",
    "    'carOwnership': True,\n",
    "    'hobbies': ['독서', '등산', '요리'],\n",
    "    'isMarried': False,\n",
    "    'name': '최도윤',\n",
    "    'phoneNumbers': ['462-4433-5968', '483-1709-4850']},\n",
    "    {'address': {'city': '서울', 'street': '683번지', 'zipCode': '75013'},\n",
    "    'age': 72,\n",
    "    'carOwnership': True,\n",
    "    'hobbies': ['여행', '사진 촬영', '독서'],\n",
    "    'isMarried': True,\n",
    "    'name': '최지훈',\n",
    "    'phoneNumbers': ['382-2779-3692', '835-4343-5346']},\n",
    "    {'address': {'city': '서울', 'street': '547번지', 'zipCode': '33986'},\n",
    "    'age': 77,\n",
    "    'carOwnership': False,\n",
    "    'hobbies': ['독서', '등산', '음악 감상'],\n",
    "    'isMarried': True,\n",
    "    'name': '정도윤',\n",
    "    'phoneNumbers': ['136-2831-1021', '818-9721-7208']},\n",
    "    {'address': {'city': '서울', 'street': '304번지', 'zipCode': '69380'},\n",
    "    'age': 44,\n",
    "    'carOwnership': True,\n",
    "    'hobbies': ['독서', '게임', '여행'],\n",
    "    'isMarried': False,\n",
    "    'name': '정하린',\n",
    "    'phoneNumbers': ['423-5001-2734', '256-4271-3750']},\n",
    "    {'address': {'city': '서울', 'street': '924번지', 'zipCode': '77191'},\n",
    "    'age': 26,\n",
    "    'carOwnership': True,\n",
    "    'hobbies': ['등산', '독서', '여행'],\n",
    "    'isMarried': False,\n",
    "    'name': '김예준',\n",
    "    'phoneNumbers': ['668-1157-6180', '815-9997-6459']},\n",
    "    {'address': {'city': '서울', 'street': '539번지', 'zipCode': '67491'},\n",
    "    'age': 48,\n",
    "    'carOwnership': True,\n",
    "    'hobbies': ['요리', '게임', '등산'],\n",
    "    'isMarried': True,\n",
    "    'name': '최수아',\n",
    "    'phoneNumbers': ['745-5529-4411', '437-3892-3668']},\n",
    "    {'address': {'city': '서울', 'street': '358번지', 'zipCode': '70195'},\n",
    "    'age': 41,\n",
    "    'carOwnership': True,\n",
    "    'hobbies': ['여행', '영화 감상', '요리'],\n",
    "    'isMarried': False,\n",
    "    'name': '이서연',\n",
    "    'phoneNumbers': ['914-2071-3446', '539-6835-4629']},\n",
    "    {'address': {'city': '서울', 'street': '741번지', 'zipCode': '82600'},\n",
    "    'age': 61,\n",
    "    'carOwnership': True,\n",
    "    'hobbies': ['영화 감상', '독서', '여행'],\n",
    "    'isMarried': True,\n",
    "    'name': '이지훈',\n",
    "    'phoneNumbers': ['709-3578-3445', '907-3295-1822']},\n",
    "    {'address': {'city': '서울', 'street': '932번지', 'zipCode': '57742'},\n",
    "    'age': 47,\n",
    "    'carOwnership': True,\n",
    "    'hobbies': ['사진 촬영', '등산', '요리'],\n",
    "    'isMarried': False,\n",
    "    'name': '최서연',\n",
    "    'phoneNumbers': ['508-9125-7029', '939-1920-5084']},\n",
    "    {'address': {'city': '서울', 'street': '603번지', 'zipCode': '30841'},\n",
    "    'age': 23,\n",
    "    'carOwnership': False,\n",
    "    'hobbies': ['등산', '독서', '여행'],\n",
    "    'isMarried': True,\n",
    "    'name': '이민준',\n",
    "    'phoneNumbers': ['891-2980-9497', '811-3249-9899']},\n",
    "    {'address': {'city': '서울', 'street': '464번지', 'zipCode': '91295'},\n",
    "    'age': 52,\n",
    "    'carOwnership': False,\n",
    "    'hobbies': ['게임', '음악 감상', '요리'],\n",
    "    'isMarried': False,\n",
    "    'name': '박하은',\n",
    "    'phoneNumbers': ['499-4872-5904', '140-3733-7715']},\n",
    "    {'address': {'city': '서울', 'street': '401번지', 'zipCode': '71129'},\n",
    "    'age': 61,\n",
    "    'carOwnership': True,\n",
    "    'hobbies': ['음악 감상', '요리', '여행'],\n",
    "    'isMarried': False,\n",
    "    'name': '정수아',\n",
    "    'phoneNumbers': ['672-6315-8675', '975-1259-1656']},\n",
    "    {'address': {'city': '서울', 'street': '356번지', 'zipCode': '40080'},\n",
    "    'age': 19,\n",
    "    'carOwnership': False,\n",
    "    'hobbies': ['등산', '영화 감상', '요리'],\n",
    "    'isMarried': False,\n",
    "    'name': '이지훈',\n",
    "    'phoneNumbers': ['853-1953-3723', '408-3476-1336']},\n",
    "    {'address': {'city': '서울', 'street': '940번지', 'zipCode': '60335'},\n",
    "    'age': 52,\n",
    "    'carOwnership': True,\n",
    "    'hobbies': ['요리', '사진 촬영', '등산'],\n",
    "    'isMarried': True,\n",
    "    'name': '최도윤',\n",
    "    'phoneNumbers': ['290-8270-9786', '483-1765-4028']},\n",
    "    {'address': {'city': '서울', 'street': '289번지', 'zipCode': '59793'},\n",
    "    'age': 18,\n",
    "    'carOwnership': True,\n",
    "    'hobbies': ['여행', '요리', '영화 감상'],\n",
    "    'isMarried': True,\n",
    "    'name': '최주원',\n",
    "    'phoneNumbers': ['460-4533-7245', '344-2344-7362']}]\n",
    "    ```"
   ]
  },
  {
   "cell_type": "code",
   "execution_count": null,
   "id": "088cb8e4",
   "metadata": {},
   "outputs": [],
   "source": [
    "type(data[0])                           # dict"
   ]
  },
  {
   "cell_type": "markdown",
   "id": "3e7a61e5",
   "metadata": {},
   "source": [
    "---"
   ]
  },
  {
   "cell_type": "markdown",
   "id": "b627af2b",
   "metadata": {},
   "source": [
    "### **`JSONLoader`**"
   ]
  },
  {
   "cell_type": "markdown",
   "id": "b84f5dbd",
   "metadata": {},
   "source": [
    "* `JSON` 데이터 메시지 키 내에서 `content` 필드 아래의 값을 추출하고 싶을 경우 → **`JSONLoader` 통해 쉽게 수행 가능**"
   ]
  },
  {
   "cell_type": "code",
   "execution_count": null,
   "id": "0efc4a37",
   "metadata": {},
   "outputs": [],
   "source": [
    "from langchain_community.document_loaders import JSONLoader         # JSONLoader 임포트\n",
    "\n",
    "# JSONLoader 생성\n",
    "loader = JSONLoader(\n",
    "    file_path=\"../06_Document_Loader/data/people.json\",             # JSON 파일 경로\n",
    "    jq_schema=\".[].phoneNumbers\",                                   # jq 스키마 설정\n",
    "    text_content=False,                                             # 텍스트 내용 설정\n",
    ")\n",
    "\n",
    "# 문서 로드\n",
    "docs = loader.load()\n",
    "\n",
    "# 결과 출력\n",
    "pprint(docs)"
   ]
  },
  {
   "cell_type": "markdown",
   "id": "697da62f",
   "metadata": {},
   "source": [
    "<small>\n",
    "\n",
    "* 셀 출력\n",
    "\n",
    "    ```json\n",
    "    [Document(metadata={'source': '/Users/jay/Projects/20250727-langchain-note/06_Document_Loader/data/people.json', 'seq_num': 1}, page_content='[\"483-4639-1933\", \"947-4179-7976\"]'),\n",
    "    Document(metadata={'source': '/Users/jay/Projects/20250727-langchain-note/06_Document_Loader/data/people.json', 'seq_num': 2}, page_content='[\"337-5721-3227\", \"387-3768-9586\"]'),\n",
    "    Document(metadata={'source': '/Users/jay/Projects/20250727-langchain-note/06_Document_Loader/data/people.json', 'seq_num': 3}, page_content='[\"354-5563-4638\", \"471-9212-1826\"]'),\n",
    "    Document(metadata={'source': '/Users/jay/Projects/20250727-langchain-note/06_Document_Loader/data/people.json', 'seq_num': 4}, page_content='[\"468-2796-2152\", \"922-5760-7030\"]'),\n",
    "    Document(metadata={'source': '/Users/jay/Projects/20250727-langchain-note/06_Document_Loader/data/people.json', 'seq_num': 5}, page_content='[\"751-2823-8259\", \"722-7267-9516\"]'),\n",
    "    Document(metadata={'source': '/Users/jay/Projects/20250727-langchain-note/06_Document_Loader/data/people.json', 'seq_num': 6}, page_content='[\"462-4433-5968\", \"483-1709-4850\"]'),\n",
    "    Document(metadata={'source': '/Users/jay/Projects/20250727-langchain-note/06_Document_Loader/data/people.json', 'seq_num': 7}, page_content='[\"382-2779-3692\", \"835-4343-5346\"]'),\n",
    "    Document(metadata={'source': '/Users/jay/Projects/20250727-langchain-note/06_Document_Loader/data/people.json', 'seq_num': 8}, page_content='[\"136-2831-1021\", \"818-9721-7208\"]'),\n",
    "    Document(metadata={'source': '/Users/jay/Projects/20250727-langchain-note/06_Document_Loader/data/people.json', 'seq_num': 9}, page_content='[\"423-5001-2734\", \"256-4271-3750\"]'),\n",
    "    Document(metadata={'source': '/Users/jay/Projects/20250727-langchain-note/06_Document_Loader/data/people.json', 'seq_num': 10}, page_content='[\"668-1157-6180\", \"815-9997-6459\"]'),\n",
    "    Document(metadata={'source': '/Users/jay/Projects/20250727-langchain-note/06_Document_Loader/data/people.json', 'seq_num': 11}, page_content='[\"745-5529-4411\", \"437-3892-3668\"]'),\n",
    "    Document(metadata={'source': '/Users/jay/Projects/20250727-langchain-note/06_Document_Loader/data/people.json', 'seq_num': 12}, page_content='[\"914-2071-3446\", \"539-6835-4629\"]'),\n",
    "    Document(metadata={'source': '/Users/jay/Projects/20250727-langchain-note/06_Document_Loader/data/people.json', 'seq_num': 13}, page_content='[\"709-3578-3445\", \"907-3295-1822\"]'),\n",
    "    Document(metadata={'source': '/Users/jay/Projects/20250727-langchain-note/06_Document_Loader/data/people.json', 'seq_num': 14}, page_content='[\"508-9125-7029\", \"939-1920-5084\"]'),\n",
    "    Document(metadata={'source': '/Users/jay/Projects/20250727-langchain-note/06_Document_Loader/data/people.json', 'seq_num': 15}, page_content='[\"891-2980-9497\", \"811-3249-9899\"]'),\n",
    "    Document(metadata={'source': '/Users/jay/Projects/20250727-langchain-note/06_Document_Loader/data/people.json', 'seq_num': 16}, page_content='[\"499-4872-5904\", \"140-3733-7715\"]'),\n",
    "    Document(metadata={'source': '/Users/jay/Projects/20250727-langchain-note/06_Document_Loader/data/people.json', 'seq_num': 17}, page_content='[\"672-6315-8675\", \"975-1259-1656\"]'),\n",
    "    Document(metadata={'source': '/Users/jay/Projects/20250727-langchain-note/06_Document_Loader/data/people.json', 'seq_num': 18}, page_content='[\"853-1953-3723\", \"408-3476-1336\"]'),\n",
    "    Document(metadata={'source': '/Users/jay/Projects/20250727-langchain-note/06_Document_Loader/data/people.json', 'seq_num': 19}, page_content='[\"290-8270-9786\", \"483-1765-4028\"]'),\n",
    "    Document(metadata={'source': '/Users/jay/Projects/20250727-langchain-note/06_Document_Loader/data/people.json', 'seq_num': 20}, page_content='[\"460-4533-7245\", \"344-2344-7362\"]')]\n",
    "    ```"
   ]
  },
  {
   "cell_type": "markdown",
   "id": "7bd7180a",
   "metadata": {},
   "source": [
    "---"
   ]
  },
  {
   "cell_type": "markdown",
   "id": "fc85fca1",
   "metadata": {},
   "source": [
    "* *next: `Arxiv`*"
   ]
  },
  {
   "cell_type": "markdown",
   "id": "9d303dd1",
   "metadata": {},
   "source": [
    "---"
   ]
  }
 ],
 "metadata": {
  "kernelspec": {
   "display_name": "lc_env",
   "language": "python",
   "name": "python3"
  },
  "language_info": {
   "codemirror_mode": {
    "name": "ipython",
    "version": 3
   },
   "file_extension": ".py",
   "mimetype": "text/x-python",
   "name": "python",
   "nbconvert_exporter": "python",
   "pygments_lexer": "ipython3",
   "version": "3.13.5"
  }
 },
 "nbformat": 4,
 "nbformat_minor": 5
}
