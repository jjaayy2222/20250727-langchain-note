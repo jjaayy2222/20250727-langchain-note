{
 "cells": [
  {
   "cell_type": "markdown",
   "id": "36ae39fe",
   "metadata": {},
   "source": [
    "---"
   ]
  },
  {
   "cell_type": "markdown",
   "id": "064ce159",
   "metadata": {},
   "source": [
    "* 출처: LangChain 공식 문서 또는 해당 교재명\n",
    "* 원본 URL: https://smith.langchain.com/hub/teddynote/summary-stuff-documents"
   ]
  },
  {
   "cell_type": "markdown",
   "id": "0164fdbe",
   "metadata": {},
   "source": [
    "---"
   ]
  },
  {
   "cell_type": "markdown",
   "id": "e402a769",
   "metadata": {},
   "source": [
    "## **`Excel`**"
   ]
  },
  {
   "cell_type": "markdown",
   "id": "da66e2a2",
   "metadata": {},
   "source": [
    "* **`UnstructuredExcelLoader`** = `Microsoft Excel 파일`을 `로드`하는 데 사용\n",
    "\n",
    "  * `.xlsx`, `.xls` 파일 모두에서 작동 → 페이지 내용은 `Excel`파일의 원시 텍스트가 됨\n",
    "\n",
    "  * **`elements`** 모드: 문서 메타데이터의 **`text_as_html`** 키 아래에서 `Excel` 파일의 `HTML` 표현으로 제공됨"
   ]
  },
  {
   "cell_type": "code",
   "execution_count": null,
   "id": "2accfb1c",
   "metadata": {},
   "outputs": [],
   "source": [
    "# API KEY를 환경변수로 관리하기 위한 설정 파일\n",
    "import os\n",
    "from dotenv import load_dotenv\n",
    "\n",
    "# API KEY 정보로드\n",
    "load_dotenv()               # true"
   ]
  },
  {
   "cell_type": "markdown",
   "id": "a43a5d57",
   "metadata": {},
   "source": [
    "  * 사전에 `VS Code` 터미널에 설치할 것\n",
    "\n",
    "```bash\n",
    "          pip install -qU langchain-community unstructured openpyxl\n",
    "          pip install msoffcrypto-tool                                  # msoffcrypto 패키지\n",
    "```"
   ]
  },
  {
   "cell_type": "code",
   "execution_count": null,
   "id": "288dd6d2",
   "metadata": {},
   "outputs": [],
   "source": [
    "from langchain_community.document_loaders import UnstructuredExcelLoader\n",
    "\n",
    "# UnstructuredExcelLoader 생성\n",
    "loader = UnstructuredExcelLoader(\n",
    "    \"../06_Document_Loader/data/titanic.xlsx\",              # 경로 설정\n",
    "    mode=\"elements\"                                         # elements 모드 \n",
    "    )\n",
    "\n",
    "# 문서 로드\n",
    "docs = loader.load()\n",
    "\n",
    "# 문서 길이 출력\n",
    "print(len(docs))                    # 1 (셀 출력: 4.6s)"
   ]
  },
  {
   "cell_type": "markdown",
   "id": "9cf5fdcf",
   "metadata": {},
   "source": [
    "<small>\n",
    "\n",
    "* 1개의 문서가 로드되었음을 확인"
   ]
  },
  {
   "cell_type": "markdown",
   "id": "67be170f",
   "metadata": {},
   "source": [
    "---"
   ]
  },
  {
   "cell_type": "markdown",
   "id": "53fd72af",
   "metadata": {},
   "source": [
    "* **`page_content`** = 각 행의 `데이터`가 저장\n",
    "\n",
    "* **`metadata` 의 `text_as_html`** = 각 행의 데이터를 `HTML 형식`으로 저장"
   ]
  },
  {
   "cell_type": "code",
   "execution_count": null,
   "id": "79dec34c",
   "metadata": {},
   "outputs": [],
   "source": [
    "# page_content 출력해보기\n",
    "\n",
    "print(docs[0].page_content[:200])"
   ]
  },
  {
   "cell_type": "markdown",
   "id": "4eb25978",
   "metadata": {},
   "source": [
    "<small>\n",
    "\n",
    "* 셀 출력\n",
    "\n",
    "    ```markdowkn\n",
    "    PassengerId Survived Pclass Name Sex Age SibSp Parch Ticket Fare Cabin Embarked 1 0 3 Braund, Mr. Owen Harris male 22 1 0 A/5 21171 7.25 S 2 1 1 Cumings, Mrs. John Bradley (Florence Briggs Thayer) fem\n",
    "    ```"
   ]
  },
  {
   "cell_type": "code",
   "execution_count": null,
   "id": "28e7b14f",
   "metadata": {},
   "outputs": [],
   "source": [
    "# metadata 의 text_as_html 출력\n",
    "\n",
    "print(docs[0].metadata[\"text_as_html\"][:1000])"
   ]
  },
  {
   "cell_type": "markdown",
   "id": "b0d74ab1",
   "metadata": {},
   "source": [
    "<small>\n",
    "\n",
    "* 셀 출력\n",
    "\n",
    "    ```html\n",
    "    <table><tr><td>PassengerId</td><td>Survived</td><td>Pclass</td><td>Name</td><td>Sex</td><td>Age</td><td>SibSp</td><td>Parch</td><td>Ticket</td><td>Fare</td><td>Cabin</td><td>Embarked</td></tr><tr><td>1</td><td>0</td><td>3</td><td>Braund, Mr. Owen Harris</td><td>male</td><td>22</td><td>1</td><td>0</td><td>A/5 21171</td><td>7.25</td><td/><td>S</td></tr><tr><td>2</td><td>1</td><td>1</td><td>Cumings, Mrs. John Bradley (Florence Briggs Thayer)</td><td>female</td><td>38</td><td>1</td><td>0</td><td>PC 17599</td><td>71.2833</td><td>C85</td><td>C</td></tr><tr><td>3</td><td>1</td><td>3</td><td>Heikkinen, Miss. Laina</td><td>female</td><td>26</td><td>0</td><td>0</td><td>STON/O2. 3101282</td><td>7.925</td><td/><td>S</td></tr><tr><td>4</td><td>1</td><td>1</td><td>Futrelle, Mrs. Jacques Heath (Lily May Peel)</td><td>female</td><td>35</td><td>1</td><td>0</td><td>113803</td><td>53.1</td><td>C123</td><td>S</td></tr><tr><td>5</td><td>0</td><td>3</td><td>Allen, Mr. William Henry</td><td>male</td><td>35</table>\n",
    "    ```\n",
    "\n",
    "---\n",
    "\n",
    "* 마크다운 테이블 형식으로 변환\n",
    "\n",
    "\n",
    "| PassengerId | Survived | Pclass | Name                                                | Sex    | Age | SibSp | Parch | Ticket           | Fare    | Cabin | Embarked |\n",
    "|-------------|----------|--------|-----------------------------------------------------|--------|-----|-------|-------|------------------|---------|-------|----------|\n",
    "| 1           | 0        | 3      | Braund, Mr. Owen Harris                             | male   | 22  | 1     | 0     | A/5 21171        | 7.25    | S     |          |\n",
    "| 2           | 1        | 1      | Cumings, Mrs. John Bradley (Florence Briggs Thayer) | female | 38  | 1     | 0     | PC 17599         | 71.2833 | C85   | C        |\n",
    "| 3           | 1        | 3      | Heikkinen, Miss. Laina                              | female | 26  | 0     | 0     | STON/O2. 3101282 | 7.925   | S     |          |\n",
    "| 4           | 1        | 1      | Futrelle, Mrs. Jacques Heath (Lily May Peel)        | female | 35  | 1     | 0     | 113803           | 53.1    | C123  | S        |\n"
   ]
  },
  {
   "cell_type": "markdown",
   "id": "19b64d42",
   "metadata": {},
   "source": [
    "---"
   ]
  },
  {
   "cell_type": "markdown",
   "id": "809c43d1",
   "metadata": {},
   "source": [
    "### **`DataFrameLoader`**"
   ]
  },
  {
   "cell_type": "markdown",
   "id": "06864b61",
   "metadata": {},
   "source": [
    "* `Excel` 파일을 로드하는 **`read_excel()` 기능을 사용 → `DataFrame` 으로 만든 뒤, 로드**\n",
    "  * (`CSV` 파일과 같은 방법)"
   ]
  },
  {
   "cell_type": "code",
   "execution_count": 6,
   "id": "17dc6816",
   "metadata": {},
   "outputs": [],
   "source": [
    "import pandas as pd\n",
    "\n",
    "# Excel 파일 읽기\n",
    "df = pd.read_excel(\"../06_Document_Loader/data/titanic.xlsx\")"
   ]
  },
  {
   "cell_type": "code",
   "execution_count": null,
   "id": "1a444218",
   "metadata": {},
   "outputs": [],
   "source": [
    "from langchain_community.document_loaders import DataFrameLoader\n",
    "\n",
    "# 데이터 프레임 로더 설정, 페이지 내용 컬럼 지정\n",
    "loader = DataFrameLoader(df, page_content_column=\"Name\")\n",
    "\n",
    "# 문서 로드\n",
    "docs = loader.load()\n",
    "\n",
    "# 데이터 출력\n",
    "print(docs[0].page_content)\n",
    "\n",
    "print(\"\\n\", \"=\"*50, \"\\n\")\n",
    "\n",
    "# 메타데이터 출력\n",
    "print(docs[0].metadata)"
   ]
  },
  {
   "cell_type": "markdown",
   "id": "9e79a240",
   "metadata": {},
   "source": [
    "<small>\n",
    "\n",
    "* 셀 출력 (0.1s)\n",
    "\n",
    "    ```markdown\n",
    "    Braund, Mr. Owen Harris\n",
    "\n",
    "    ================================================== \n",
    "    ```\n",
    "\n",
    "    ```python\n",
    "    {'PassengerId': 1, 'Survived': 0, 'Pclass': 3, 'Sex': 'male', 'Age': 22.0, 'SibSp': 1, 'Parch': 0, 'Ticket': 'A/5 21171', 'Fare': 7.25, 'Cabin': nan, 'Embarked': 'S'}\n",
    "    ```"
   ]
  },
  {
   "cell_type": "markdown",
   "id": "c130d860",
   "metadata": {},
   "source": [
    "---"
   ]
  },
  {
   "cell_type": "markdown",
   "id": "fc85fca1",
   "metadata": {},
   "source": [
    "* *next: 워드(`Microsoft Word`)*"
   ]
  },
  {
   "cell_type": "markdown",
   "id": "9d303dd1",
   "metadata": {},
   "source": [
    "---"
   ]
  }
 ],
 "metadata": {
  "kernelspec": {
   "display_name": "lc_env",
   "language": "python",
   "name": "python3"
  },
  "language_info": {
   "codemirror_mode": {
    "name": "ipython",
    "version": 3
   },
   "file_extension": ".py",
   "mimetype": "text/x-python",
   "name": "python",
   "nbconvert_exporter": "python",
   "pygments_lexer": "ipython3",
   "version": "3.13.5"
  }
 },
 "nbformat": 4,
 "nbformat_minor": 5
}
