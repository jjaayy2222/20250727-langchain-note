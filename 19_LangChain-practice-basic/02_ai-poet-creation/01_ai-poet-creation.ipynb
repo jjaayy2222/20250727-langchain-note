{
 "cells": [
  {
   "cell_type": "markdown",
   "id": "c976a97f",
   "metadata": {},
   "source": [
    "---"
   ]
  },
  {
   "cell_type": "markdown",
   "id": "1a8ab679",
   "metadata": {},
   "source": [
    "* 출처: LangChain 공식 문서, 조코딩의 랭체인으로 AI 에이전트 서비스 만들기\n",
    "\n",
    "* [깃허브 저장소 출처](https://github.com/sw-woo/hanbit-langchain): https://github.com/sw-woo/hanbit-langchain"
   ]
  },
  {
   "cell_type": "markdown",
   "id": "a6190853",
   "metadata": {},
   "source": [
    "---"
   ]
  },
  {
   "cell_type": "markdown",
   "id": "4ec160ae",
   "metadata": {},
   "source": [
    "### **`인공지능 시인 만들기`**"
   ]
  },
  {
   "cell_type": "markdown",
   "id": "9666f311",
   "metadata": {},
   "source": [
    "* *출처: 위에 표기*"
   ]
  },
  {
   "cell_type": "markdown",
   "id": "ed30210e",
   "metadata": {},
   "source": [
    "---"
   ]
  },
  {
   "cell_type": "markdown",
   "id": "a2fcee08",
   "metadata": {},
   "source": [
    "* **구현할 서비스의 구조**\n",
    "\n",
    "<br>\n",
    "\n",
    "* \n",
    "  * **`step_1`**: \n",
    "    * 사용자 - 시의 주제 입력 \n",
    "    * `LLM` - 주제에 맞는 시 생성\n",
    "\n",
    "  * **`step_2`**: \n",
    "    * `streamlit` - 프론트엔드 구현해보기\n",
    "\n",
    "  * **`step_3`**: \n",
    "    * `LangChain` - 백엔드에서 사용자 입력과 `LLM` 모델의 출력 연결하기\n",
    "\n",
    "  * **`step_4`**: \n",
    "    * `LLM` - 선택한 모델의 `API` 호출 → 시 생성하도록 함\n"
   ]
  },
  {
   "cell_type": "markdown",
   "id": "519949a4",
   "metadata": {},
   "source": [
    "---"
   ]
  },
  {
   "cell_type": "code",
   "execution_count": 1,
   "id": "3ae7fb11",
   "metadata": {},
   "outputs": [],
   "source": [
    "# 환경변수 처리 및 클라이언트 생성\n",
    "from langsmith import Client\n",
    "from dotenv import load_dotenv\n",
    "\n",
    "import os\n",
    "import json\n",
    "\n",
    "# 클라이언트 생성 \n",
    "api_key = os.getenv(\"LANGSMITH_API_KEY\")\n",
    "client = Client(api_key=api_key)"
   ]
  },
  {
   "cell_type": "code",
   "execution_count": null,
   "id": "f3434c79",
   "metadata": {},
   "outputs": [],
   "source": [
    "# LangSmith 추적 설정하기 (https:smith.langchin.com)\n",
    "# LangSmith 추적을 위한 라이브러리 임포트\n",
    "from langsmith import traceable                                                             # @traceable 데코레이터 사용 시\n",
    "\n",
    "# LangSmith 환경 변수 확인\n",
    "\n",
    "print(\"\\n--- LangSmith 환경 변수 확인 ---\")\n",
    "langchain_tracing_v2 = os.getenv('LANGCHAIN_TRACING_V2')\n",
    "langchain_project = os.getenv('LANGCHAIN_PROJECT')\n",
    "langchain_api_key_status = \"설정됨\" if os.getenv('LANGCHAIN_API_KEY') else \"설정되지 않음\"      # API 키 값은 직접 출력하지 않음\n",
    "org = \"설정됨\" if os.getenv('LANGCHAIN_ORGANIZATION') else \"설정되지 않음\"                      # 직접 출력하지 않음\n",
    "\n",
    "if langchain_tracing_v2 == \"true\" and os.getenv('LANGCHAIN_API_KEY') and langchain_project:\n",
    "    print(f\"✅ LangSmith 추적 활성화됨 (LANGCHAIN_TRACING_V2='{langchain_tracing_v2}')\")\n",
    "    print(f\"✅ LangSmith 프로젝트: '{langchain_project}'\")\n",
    "    print(f\"✅ LangSmith API Key: {langchain_api_key_status}\")\n",
    "    print(\"  -> 이제 LangSmith 대시보드에서 이 프로젝트를 확인해 보세요.\")\n",
    "else:\n",
    "    print(\"❌ LangSmith 추적이 완전히 활성화되지 않았습니다. 다음을 확인하세요:\")\n",
    "    if langchain_tracing_v2 != \"true\":\n",
    "        print(f\"  - LANGCHAIN_TRACING_V2가 'true'로 설정되어 있지 않습니다 (현재: '{langchain_tracing_v2}').\")\n",
    "    if not os.getenv('LANGCHAIN_API_KEY'):\n",
    "        print(\"  - LANGCHAIN_API_KEY가 설정되어 있지 않습니다.\")\n",
    "    if not langchain_project:\n",
    "        print(\"  - LANGCHAIN_PROJECT가 설정되어 있지 않습니다.\")"
   ]
  },
  {
   "cell_type": "markdown",
   "id": "9728c7c5",
   "metadata": {},
   "source": [
    "<small>\n",
    "\n",
    "* 셀 출력\n",
    "\n",
    "    ```markdown\n",
    "    --- LangSmith 환경 변수 확인 ---\n",
    "    ✅ LangSmith 추적 활성화됨 (LANGCHAIN_TRACING_V2='true')\n",
    "    ✅ LangSmith 프로젝트: 'LangChain-prantice'\n",
    "    ✅ LangSmith API Key: 설정됨\n",
    "    -> 이제 LangSmith 대시보드에서 이 프로젝트를 확인해 보세요.\n",
    "    ```"
   ]
  },
  {
   "cell_type": "markdown",
   "id": "a0ac616b",
   "metadata": {},
   "source": [
    "---"
   ]
  },
  {
   "cell_type": "markdown",
   "id": "b0ffb518",
   "metadata": {},
   "source": [
    "* 환경 설정 및 LLM 초기화 공통"
   ]
  },
  {
   "cell_type": "code",
   "execution_count": null,
   "id": "ced37053",
   "metadata": {},
   "outputs": [],
   "source": [
    "# 필요한 모듈 임포트\n",
    "from langchain.chat_models import init_chat_model\n",
    "from langchain_core.prompts import ChatPromptTemplate\n",
    "from langchain_core.output_parsers import StrOutputParser\n",
    "from langchain_core.runnables import RunnablePassthrough\n",
    "\n",
    "import streamlit as st                          # 스트림릿 사용에 필요한 모듈 임포트"
   ]
  },
  {
   "cell_type": "markdown",
   "id": "193e6fa9",
   "metadata": {},
   "source": [
    "* **`temperature=0.7` → 다양한 대답이 나올 수 있도록 설정**"
   ]
  },
  {
   "cell_type": "code",
   "execution_count": null,
   "id": "777200a4",
   "metadata": {},
   "outputs": [],
   "source": [
    "# gpt, gemini 스위치되도록 테스트\n",
    "import os\n",
    "from dotenv import load_dotenv\n",
    "\n",
    "load_dotenv()\n",
    "\n",
    "# 환경변수에서 API 키 가져오기\n",
    "openai_key = os.getenv(\"OPENAI_API_KEY\")\n",
    "google_key = os.getenv(\"GOOGLE_API_KEY\")\n",
    "\n",
    "# LLM 설정\n",
    "def get_llm(provider: str):\n",
    "    \"\"\"provider에 따라 LLM 객체 반환\"\"\"\n",
    "    if provider == \"openai\":\n",
    "        return init_chat_model(\n",
    "            model=\"gpt-4o-mini\",                    # 사용하는 gpt 모델\n",
    "            model_provider=\"openai\",\n",
    "            temperature=0.7,\n",
    "            api_key=openai_key,\n",
    "            max_output_tokens=1024\n",
    "        )\n",
    "    elif provider == \"google\":\n",
    "        return init_chat_model(\n",
    "            model=\"gemini-2.5-flash-lite\",          # 사용하는 gemini 모델\n",
    "            model_provider=\"google_genai\",\n",
    "            temperature=0.7,\n",
    "            api_key=google_key,\n",
    "            max_output_tokens=4096\n",
    "        )\n",
    "    else:\n",
    "        raise ValueError(\"지원하지 않는 provider입니다.\")\n",
    "\n",
    "# 🔄 원하는 모델 선택\n",
    "llm = get_llm(\"google\")                             # \"openai\"로 바꾸면 gpt 사용 가능 \n",
    "\n",
    "# 테스트\n",
    "response = llm.invoke(\"안녕! 너는 어떤 모델이야?\")\n",
    "print(response.content)"
   ]
  },
  {
   "cell_type": "markdown",
   "id": "c970a5e0",
   "metadata": {},
   "source": [
    "<small>\n",
    "\n",
    "* 셀 출력 (1.1s)\n",
    "\n",
    "    ```markdown\n",
    "    저는 Google에서 훈련한 대규모 언어 모델입니다.\n",
    "    ```"
   ]
  },
  {
   "cell_type": "markdown",
   "id": "4249d899",
   "metadata": {},
   "source": [
    "---"
   ]
  },
  {
   "cell_type": "markdown",
   "id": "2a666912",
   "metadata": {},
   "source": [
    "### **`프롬프트 템플릿 생성`**"
   ]
  },
  {
   "cell_type": "code",
   "execution_count": 9,
   "id": "5ede6da8",
   "metadata": {},
   "outputs": [],
   "source": [
    "#프롬프트 템플릿 생성\n",
    "prompt = ChatPromptTemplate.from_messages([\n",
    "    (\"system\", \"You are a helpful assistant.\"),\n",
    "    (\"user\", \"{input}\")\n",
    "])"
   ]
  },
  {
   "cell_type": "markdown",
   "id": "14f97af6",
   "metadata": {},
   "source": [
    "---"
   ]
  },
  {
   "cell_type": "markdown",
   "id": "72d13e68",
   "metadata": {},
   "source": [
    "### **`문자열 출력 파서`**"
   ]
  },
  {
   "cell_type": "code",
   "execution_count": 10,
   "id": "ec6cf5fb",
   "metadata": {},
   "outputs": [],
   "source": [
    "#문자열 출력 파서\n",
    "\n",
    "output_parser = StrOutputParser()"
   ]
  },
  {
   "cell_type": "markdown",
   "id": "c134a08e",
   "metadata": {},
   "source": [
    "---"
   ]
  },
  {
   "cell_type": "markdown",
   "id": "c584d759",
   "metadata": {},
   "source": [
    "### **`Chain 생성`**"
   ]
  },
  {
   "cell_type": "markdown",
   "id": "7ec4f765",
   "metadata": {},
   "source": [
    "* `{content}` = 사용자 입력을 받기 위한 변수\n",
    "\n",
    "  * 아직 FE 연결 전이므로 임의로 주제를 정해서 문자열을 넣음\n",
    "\n",
    "<br>\n",
    "\n",
    "* `chain.invoke()` 호출 → `LLM 체인 실행`\n",
    "\n",
    "  * 함수 인자로 전달: `{content}` **+** `\"에 대한 시를 써줘\"` 라는 문자열\n",
    "\n",
    "<br>\n",
    "\n",
    "* 교재 속 코드\n",
    "\n",
    "```python\n",
    "    content = \"코딩\"\n",
    "    result = chain.invoke({\"input\":content+\"에 대한 시를 써줘.\"})\n",
    "    print(result)\n",
    "```"
   ]
  },
  {
   "cell_type": "code",
   "execution_count": 11,
   "id": "91a3d2be",
   "metadata": {},
   "outputs": [],
   "source": [
    "#LLM 체인 구성\n",
    "\n",
    "chain = prompt | llm | output_parser"
   ]
  },
  {
   "cell_type": "markdown",
   "id": "94f40398",
   "metadata": {},
   "source": [
    "<small>\n",
    "\n",
    "> *`streamlit`은 다음 파일에 연동 에정*\n",
    ">\n",
    "> *이 파일에서는 `LangChain`만 연습*"
   ]
  },
  {
   "cell_type": "markdown",
   "id": "3d70627b",
   "metadata": {},
   "source": [
    "* 변수를 하드코딩 X\n",
    "\n",
    "<br>\n",
    "\n",
    "* **`{input}`** 를 **플레이스 홀더** 처럼 사용해서 유동적으로 변경할 수 있도록 만들기\n",
    "\n",
    "  * 이후 `streamlit` 활용 시 UI 붙일 때 수월하도록 하기 위함\n",
    "\n",
    "```python\n",
    "\n",
    "    input()             # 주피터 노트북 or 파이썬 코드 속\n",
    "\n",
    "    st.text_input()     # 스트림릿의 UI 구조와 유사\n",
    "\n",
    "```"
   ]
  },
  {
   "cell_type": "code",
   "execution_count": null,
   "id": "becb69d5",
   "metadata": {},
   "outputs": [],
   "source": [
    "# 콘솔에서 사용자 입력 받기\n",
    "\n",
    "topic = input(\"시의 주제를 입력하세요: \")"
   ]
  },
  {
   "cell_type": "markdown",
   "id": "a7e6b2a3",
   "metadata": {},
   "source": [
    "<small>\n",
    "\n",
    "* 위의 셀을 실행하면 입력 대기 상태가 됨 → 값을 입력하고 엔터를 눌러야 다음 셀로 넘어갈 수 있음\n",
    "\n",
    "* 여러 개의 `input()`을 썼을 경우 순서대로 하나씩 물어보게 됨\n",
    "\n",
    "* 실행 중간에 셀을 멈추고 싶은 경우 **커널 중지(상단에 있는 ■ 버튼)** 누르기"
   ]
  },
  {
   "cell_type": "code",
   "execution_count": 14,
   "id": "19efbd4f",
   "metadata": {},
   "outputs": [],
   "source": [
    "# 체인 실행하기\n",
    "\n",
    "result = chain.invoke({\"input\" : topic + \"에 대한 시를 써줘\"})"
   ]
  },
  {
   "cell_type": "markdown",
   "id": "741a1fe3",
   "metadata": {},
   "source": [
    "<small>\n",
    "\n",
    "* 콘솔 입력에서 교재 예시대로 `코드`를 시의 주제로 입력\n",
    "\n",
    "* 체인 실행 셀 실행 (1.8s)"
   ]
  },
  {
   "cell_type": "code",
   "execution_count": null,
   "id": "1b6b1da4",
   "metadata": {},
   "outputs": [],
   "source": [
    "# 결과 출력하기\n",
    "\n",
    "print(\"\\n=== 생성된 시 ===\",\"\\n\")\n",
    "print(result)"
   ]
  },
  {
   "cell_type": "markdown",
   "id": "2d5ff11b",
   "metadata": {},
   "source": [
    "<small>\n",
    "\n",
    "* 셀 출력 \n",
    "\n",
    "    ```markdowm\n",
    "    === 생성된 시 === \n",
    "\n",
    "    ## 코드의 춤\n",
    "\n",
    "    어둠 속에서 빛나는 별들처럼,\n",
    "    알파벳과 숫자가 춤을 춘다.\n",
    "    논리의 실타래 엮어가는 손가락,\n",
    "    상상의 세계를 현실로 빚어낸다.\n",
    "\n",
    "    마침표 하나, 쉼표 하나에도\n",
    "    세상은 숨죽여 귀 기울인다.\n",
    "    명령은 칼날처럼 정확하게,\n",
    "    결과는 마법처럼 펼쳐지리.\n",
    "\n",
    "    때로는 얽히고설킨 미로 속에서\n",
    "    길을 잃고 헤매기도 하지만,\n",
    "    끈질긴 탐구와 땀방울 끝에\n",
    "    새로운 해답, 환희가 찾아온다.\n",
    "\n",
    "    화면 가득 펼쳐지는 숫자들의 향연,\n",
    "    그 속에 담긴 무한한 가능성.\n",
    "    코드는 언어, 세상을 움직이는 힘,\n",
    "    디지털 시대의 시인이여, 그대여.\n",
    "    ```"
   ]
  },
  {
   "cell_type": "markdown",
   "id": "ea7cfce5",
   "metadata": {},
   "source": [
    "---"
   ]
  },
  {
   "cell_type": "markdown",
   "id": "0cb36767",
   "metadata": {},
   "source": [
    "* 다른 주제 넣어보기"
   ]
  },
  {
   "cell_type": "code",
   "execution_count": 16,
   "id": "7e0f4580",
   "metadata": {},
   "outputs": [],
   "source": [
    "# 콘솔에서 사용자 입력 받기\n",
    "\n",
    "topic = input(\"시의 주제를 입력하세요: \")"
   ]
  },
  {
   "cell_type": "markdown",
   "id": "3cac51a6",
   "metadata": {},
   "source": [
    "<small>\n",
    "\n",
    "* 시의 주제: `얼마 남지 않은 커피`"
   ]
  },
  {
   "cell_type": "code",
   "execution_count": 17,
   "id": "b0fe13dc",
   "metadata": {},
   "outputs": [],
   "source": [
    "# 체인 실행하기\n",
    "\n",
    "result = chain.invoke({\"input\" : topic + \"에 대한 시를 써줘\"})"
   ]
  },
  {
   "cell_type": "markdown",
   "id": "e0e028a5",
   "metadata": {},
   "source": [
    "<small>\n",
    "\n",
    "* 셀 실행 (1.4s)"
   ]
  },
  {
   "cell_type": "code",
   "execution_count": null,
   "id": "f2744d39",
   "metadata": {},
   "outputs": [],
   "source": [
    "# 결과 출력하기\n",
    "\n",
    "print(\"\\n=== 생성된 시 ===\",\"\\n\")\n",
    "print(result)"
   ]
  },
  {
   "cell_type": "markdown",
   "id": "a205c6e3",
   "metadata": {},
   "source": [
    "<small>\n",
    "\n",
    "* 셀 출력\n",
    "\n",
    "    ```markdown\n",
    "    === 생성된 시 === \n",
    "\n",
    "    ## 마지막 한 모금\n",
    "\n",
    "    진한 갈색 물결, 잔에 남은 흔적\n",
    "    어느새 이렇게 졸아들었나\n",
    "    따뜻했던 온기, 희미해져 가고\n",
    "    쌉싸름한 향기, 코끝을 간지럽히네\n",
    "\n",
    "    함께 나눴던 이야기, 웃음꽃 피던 시간\n",
    "    이 잔에 담겨, 추억으로 남았네\n",
    "    어쩌면 마지막일지도 모를 이 순간\n",
    "    아쉬움에 천천히, 음미해 본다\n",
    "\n",
    "    마지막 한 모금, 입안에 머금고\n",
    "    오늘 하루를, 또 다른 내일을\n",
    "    힘껏 응원하며, 잔을 비워낸다\n",
    "    텅 빈 잔처럼, 가벼운 마음으로\n",
    "    ```"
   ]
  },
  {
   "cell_type": "markdown",
   "id": "92e76e2b",
   "metadata": {},
   "source": [
    "---"
   ]
  },
  {
   "cell_type": "markdown",
   "id": "12d90322",
   "metadata": {},
   "source": [
    "### **`더 다양한 스타일의 시 생성해보기`**"
   ]
  },
  {
   "cell_type": "code",
   "execution_count": 19,
   "id": "a1d7834b",
   "metadata": {},
   "outputs": [],
   "source": [
    "# 필요한 모듈 임포트\n",
    "from langchain.chat_models import init_chat_model\n",
    "from langchain_core.prompts import ChatPromptTemplate\n",
    "from langchain_core.output_parsers import StrOutputParser\n",
    "from langchain_core.runnables import RunnablePassthrough"
   ]
  },
  {
   "cell_type": "markdown",
   "id": "1e054e0b",
   "metadata": {},
   "source": [
    "* `gemini-2.5-flash-lite` 모델 계속 사용"
   ]
  },
  {
   "cell_type": "code",
   "execution_count": null,
   "id": "ba1fed37",
   "metadata": {},
   "outputs": [],
   "source": [
    "# gpt, gemini 스위치되도록 테스트\n",
    "import os\n",
    "from dotenv import load_dotenv\n",
    "\n",
    "load_dotenv()\n",
    "\n",
    "# 환경변수에서 API 키 가져오기\n",
    "openai_key = os.getenv(\"OPENAI_API_KEY\")\n",
    "google_key = os.getenv(\"GOOGLE_API_KEY\")\n",
    "\n",
    "# LLM 설정\n",
    "def get_llm(provider: str):\n",
    "    \"\"\"provider에 따라 LLM 객체 반환\"\"\"\n",
    "    if provider == \"openai\":\n",
    "        return init_chat_model(\n",
    "            model=\"gpt-4o-mini\",                    # 사용하는 gpt 모델\n",
    "            model_provider=\"openai\",\n",
    "            temperature=0.7,\n",
    "            api_key=openai_key,\n",
    "            max_output_tokens=1024\n",
    "        )\n",
    "    elif provider == \"google\":\n",
    "        return init_chat_model(\n",
    "            model=\"gemini-2.5-flash-lite\",          # 사용하는 gemini 모델\n",
    "            model_provider=\"google_genai\",\n",
    "            temperature=0.7,\n",
    "            api_key=google_key,\n",
    "            max_output_tokens=4096\n",
    "        )\n",
    "    else:\n",
    "        raise ValueError(\"지원하지 않는 provider입니다.\")\n",
    "\n",
    "# 🔄 원하는 모델 선택\n",
    "llm = get_llm(\"google\")                             # \"openai\"로 바꾸면 gpt 사용 가능 \n",
    "\n",
    "# 테스트\n",
    "response = llm.invoke(\"안녕! 너는 어떤 모델이야?\")\n",
    "print(response.content)"
   ]
  },
  {
   "cell_type": "markdown",
   "id": "c77ad5d4",
   "metadata": {},
   "source": [
    "<small>\n",
    "\n",
    "* 셀 출력 \n",
    "  \n",
    "    ```markdown\n",
    "    저는 Google에서 훈련한 대규모 언어 모델입니다.\n",
    "    ```"
   ]
  },
  {
   "cell_type": "markdown",
   "id": "d6a76087",
   "metadata": {},
   "source": [
    "---"
   ]
  },
  {
   "cell_type": "markdown",
   "id": "2f64b1fc",
   "metadata": {},
   "source": [
    "#### **`차이점`**: **`주제`, `스타일`, `참고 시인`** 을 3번에 걸쳐서 입력자로부터 입력 받기"
   ]
  },
  {
   "cell_type": "code",
   "execution_count": 21,
   "id": "4ea0473b",
   "metadata": {},
   "outputs": [],
   "source": [
    "#프롬프트 템플릿 생성\n",
    "prompt = ChatPromptTemplate.from_messages([\n",
    "    (\"system\", \"You are a helpful assistant.\"),\n",
    "    (\"user\", \"{topic}에 대한 {style} 스타일의 시를 {poet} 시인의 문체를 참고해서 시를 써줘.\")\n",
    "])"
   ]
  },
  {
   "cell_type": "code",
   "execution_count": 22,
   "id": "5fe9c287",
   "metadata": {},
   "outputs": [],
   "source": [
    "#문자열 출력 파서\n",
    "\n",
    "output_parser = StrOutputParser()"
   ]
  },
  {
   "cell_type": "code",
   "execution_count": 23,
   "id": "0c5cb46a",
   "metadata": {},
   "outputs": [],
   "source": [
    "#LLM 체인 구성\n",
    "\n",
    "chain = prompt | llm | output_parser"
   ]
  },
  {
   "cell_type": "markdown",
   "id": "df7d0a17",
   "metadata": {},
   "source": [
    "* 미리 입력내용 결정하기\n",
    "\n",
    "  * *아래 셀 실행 시 바로 입력 창이 3번 연속 뜨기 때문*\n",
    "\n",
    "<br>\n",
    "\n",
    "* \n",
    "  * 시의 주제: 속초 관광 소개\n",
    "  * 시의 스타일: 비유와 상징이 난무하고 문법을 파괴한 초현실적이며 난해하고 실험적인 스타일\n",
    "  * 참고할 시인: 거울, 오감도, 날개 같은 시를 쓴 시인 이상"
   ]
  },
  {
   "cell_type": "code",
   "execution_count": 24,
   "id": "a344e4fa",
   "metadata": {},
   "outputs": [],
   "source": [
    "# 콘솔에서 입력 받기(순차적으로 입력하기)\n",
    "\n",
    "topic = input(\"시의 주제를 입력하세요: \")\n",
    "style = input(\"시의 스타일을 입력하세요 (예: 감성적인, 유머러스한): \")\n",
    "poet = input(\"참고할 시인의 이름을 입력하세요 (예: 김소월, 윤동주): \")"
   ]
  },
  {
   "cell_type": "code",
   "execution_count": 25,
   "id": "1e9c4670",
   "metadata": {},
   "outputs": [],
   "source": [
    "# 체인 실행하기\n",
    "\n",
    "result = chain.invoke({\n",
    "    \"topic\": topic,\n",
    "    \"style\": style,\n",
    "    \"poet\": poet\n",
    "})"
   ]
  },
  {
   "cell_type": "markdown",
   "id": "fbe1578e",
   "metadata": {},
   "source": [
    "<small>\n",
    "\n",
    "* 셀 실행 (3.0s)"
   ]
  },
  {
   "cell_type": "code",
   "execution_count": null,
   "id": "deab8c4e",
   "metadata": {},
   "outputs": [],
   "source": [
    "# 결과 출력\n",
    "print(f\"\\n=== {topic}에 대한 시 ===\\n\")\n",
    "print(result)"
   ]
  },
  {
   "cell_type": "markdown",
   "id": "91abfeb8",
   "metadata": {},
   "source": [
    "<small>\n",
    "\n",
    "\n",
    "=== 속초 관광 소개에 대한 시 === \n",
    "\n",
    "```markdown\n",
    "\n",
    "## 속초, 닻을 잃은 시간의 닻\n",
    "\n",
    "(이상 시인의 문체를 참고하여 쓴 시)\n",
    "\n",
    "**1.**\n",
    "\n",
    "거울 속, 속초는 붉은 립스틱을 바른 채\n",
    "바다를 향해 **웃는다**.\n",
    "그 웃음은 갈매기의 비명처럼\n",
    "날카롭게, **부서진다**.\n",
    "\n",
    "오감도는 **미쳐 날뛰는** 물결의 춤사위\n",
    "짭짤한 **침묵**이 혀끝을 간질이고\n",
    "하얀 **포말**은 흩어진 기억의 조각들\n",
    "잡으려 하면 **사라진다**.\n",
    "\n",
    "**2.**\n",
    "\n",
    "영금정, 낡은 **피아노**처럼\n",
    "바람에 **낡은** 선율을 **토해낸다**.\n",
    "그 소리, **귀를 찢는** 파도 소리에 묻혀\n",
    "**희미해진다**.\n",
    "\n",
    "동명항, **기다림**으로 붉게 물든\n",
    " **어부들의 얼굴**\n",
    "그들의 눈빛은 **먼 바다**를 향한\n",
    " **부서진 희망**의 **등대**.\n",
    "\n",
    "**3.**\n",
    "\n",
    "설악산, **거대한 뼈대**\n",
    " **하늘을 긁는** 봉우리들은\n",
    " **침묵의 맹세**를 **속삭인다**.\n",
    "단풍은 **불타는** **심장**의 조각들\n",
    " **떨어진다**, **떨어진다**, **떨어진다**.\n",
    "\n",
    "케이블카, **날개 달린** **상자**\n",
    " **허공을 가르며**\n",
    " **속삭임**과 **비명**을 **섞어낸다**.\n",
    "아래, **작아지는** 세상은\n",
    " **꿈의 잔해**처럼 **흐릿해진다**.\n",
    "\n",
    "**4.**\n",
    "\n",
    "중앙시장, **혼돈의 소용돌이**\n",
    " **향신료**의 **광기**가 **코끝을 찌르고**\n",
    " **사람들의 웃음**과 **욕설**이 **뒤섞여**\n",
    " **괴물**처럼 **울부짖는다**.\n",
    "\n",
    "**햇볕**은 **날카로운 칼날**\n",
    " **피부**를 **찢고**\n",
    " **그림자**는 **숨죽인** **도망자**\n",
    " **길을 잃는다**.\n",
    "\n",
    "**5.**\n",
    "\n",
    "속초, **시간의 닻**을 **잃은 배**\n",
    " **끝없이 표류하는** **꿈의 파편**\n",
    " **거울**에 비친 **얼굴**은 **낯설고**\n",
    " **날개** 없는 **나**는\n",
    " **부서진** **허공**에 **떠다닌다**.\n",
    "\n",
    "**오감도**의 **절규**가 **귓가**를 **맴돈다**.\n",
    " **속초**, **속초**, **속초**…\n",
    " **부서져라**, **부서져라**, **부서져라**.\n",
    "```"
   ]
  },
  {
   "cell_type": "markdown",
   "id": "bb98a446",
   "metadata": {},
   "source": [
    "---"
   ]
  },
  {
   "cell_type": "markdown",
   "id": "8bd37cdf",
   "metadata": {},
   "source": [
    "* 다른 주제로 시도해보기\n",
    "\n",
    "  * 시의 주제: 2002년 월드컵 한국 4위의 훌륭한 결과\n",
    "  * 스타일: 조선 시대 전통 시조 형식(3장 6구 12소절, 3·4조·4·4조 운율)을 엄격히 지키고, 고어 어미와 한자어를 섞어 쓴 고시조 문체, 초장·중장·종장의 3단 구성과 종장의 3음절+5음절 이상 규칙을 반영한 전통 시조 스타일, 운율과 장단을 맞추고, 고풍스러운 어휘(…하노라, …하였네, …하도다)를 사용한 문체, 한국 특유의 풍자와 해학이 잘 살아난 스타일\n",
    "  * 시인: 윤동주"
   ]
  },
  {
   "cell_type": "code",
   "execution_count": 28,
   "id": "2cdba55e",
   "metadata": {},
   "outputs": [],
   "source": [
    "# 콘솔에서 입력 받기(순차적으로 입력하기)\n",
    "\n",
    "topic = input(\"시의 주제를 입력하세요: \")\n",
    "style = input(\"시의 스타일을 입력하세요 (예: 감성적인, 유머러스한): \")\n",
    "poet = input(\"참고할 시인의 이름을 입력하세요 (예: 김소월, 윤동주): \")"
   ]
  },
  {
   "cell_type": "code",
   "execution_count": 29,
   "id": "e73d91c0",
   "metadata": {},
   "outputs": [],
   "source": [
    "# 체인 실행하기\n",
    "\n",
    "result = chain.invoke({\n",
    "    \"topic\": topic,\n",
    "    \"style\": style,\n",
    "    \"poet\": poet\n",
    "})"
   ]
  },
  {
   "cell_type": "markdown",
   "id": "c73d17f7",
   "metadata": {},
   "source": [
    "<small>\n",
    "\n",
    "* 셀 실행 (1.8s)"
   ]
  },
  {
   "cell_type": "code",
   "execution_count": null,
   "id": "8a0bb3cb",
   "metadata": {},
   "outputs": [],
   "source": [
    "# 결과 출력\n",
    "print(f\"\\n=== {topic}에 대한 시 ===\\n\")\n",
    "print(result)"
   ]
  },
  {
   "cell_type": "markdown",
   "id": "296614d4",
   "metadata": {},
   "source": [
    "<small>\n",
    "\n",
    "=== 2002년 월드컵 한국 4위의 훌륭한 결과에 대한 시 ===\n",
    "\n",
    "```markdown\n",
    "## 2002년 월드컵, 태극전사 4강 신화 (윤동주 풍 고시조)\n",
    "\n",
    "**초장**\n",
    "붉은 함성 하늘 찌르니, 땀방울 금빛 돋아 났네.\n",
    "압록강 푸른 물결 굽이쳐, 용맹한 기상 떨치도다.\n",
    "외적의 맹공 막아내니, 천하가 모두 놀랐노라.\n",
    "\n",
    "**중장**\n",
    "가슴 벅찬 이 순간, 우리네 기쁨 넘치네.\n",
    "축구공 굴러가는 소리, 만고강산에 울려 퍼지네.\n",
    "산천초목 춤추는 듯, 태극기 휘날리니 장관이로다.\n",
    "\n",
    "**종장**\n",
    "비록 4강의 꿈은 이루지 못하였으나,\n",
    "민족의 혼을 일깨운 이 영광, 길이 빛나리라.\n",
    "억겁의 세월 흘러도, 이 날을 잊지 않으리라.\n",
    "```"
   ]
  },
  {
   "cell_type": "markdown",
   "id": "eb03213e",
   "metadata": {},
   "source": [
    "---"
   ]
  },
  {
   "cell_type": "markdown",
   "id": "12dd1435",
   "metadata": {},
   "source": [
    "* 다른 주제로 시도해보기_2\n",
    "\n",
    "  * 시의 주제: **노란 연필**\n",
    "  * 스타일: 향토적이고 감각적인 어휘, 방언과 고어를 섞어 쓰며, 어린 시절과 고향을 회상하는 스타일, 냄새·맛·계절감을 살린 토속적 이미지와 산문시적 구성, 평안북도 방언과 고향 음식·풍경 묘사를 살린 회고적 서사, 구어체와 의고체를 섞어 쓰는 백석 시인의 문체\n",
    "  * 시인: 백석"
   ]
  },
  {
   "cell_type": "code",
   "execution_count": 31,
   "id": "478832bc",
   "metadata": {},
   "outputs": [],
   "source": [
    "# 콘솔에서 입력 받기(순차적으로 입력하기)\n",
    "\n",
    "topic = input(\"시의 주제를 입력하세요: \")\n",
    "style = input(\"시의 스타일을 입력하세요 (예: 감성적인, 유머러스한): \")\n",
    "poet = input(\"참고할 시인의 이름을 입력하세요 (예: 김소월, 윤동주): \")"
   ]
  },
  {
   "cell_type": "code",
   "execution_count": 32,
   "id": "d31f541a",
   "metadata": {},
   "outputs": [],
   "source": [
    "# 체인 실행하기\n",
    "\n",
    "result = chain.invoke({\n",
    "    \"topic\": topic,\n",
    "    \"style\": style,\n",
    "    \"poet\": poet\n",
    "})"
   ]
  },
  {
   "cell_type": "markdown",
   "id": "38ba7c1b",
   "metadata": {},
   "source": [
    "<small>\n",
    "\n",
    "* 셀 실행 (3.6s)"
   ]
  },
  {
   "cell_type": "code",
   "execution_count": null,
   "id": "ed940bd5",
   "metadata": {},
   "outputs": [],
   "source": [
    "# 결과 출력\n",
    "print(f\"\\n=== {topic}에 대한 시 ===\\n\")\n",
    "print(result)"
   ]
  },
  {
   "cell_type": "markdown",
   "id": "d9aadc34",
   "metadata": {},
   "source": [
    "<small>\n",
    "\n",
    "=== 노란 연필에 대한 시 ===\n",
    "\n",
    "```markdown\n",
    "\n",
    "## 누런 연필\n",
    "\n",
    "어릴 적, 툇마루에 걸터앉아 뙤약볕에 퀭하니 눈을 뜬 날이면,\n",
    "손가락 사이로 **보드라운** 흙내음이 **스며들던** 그 누런 연필 한 자루.\n",
    "묵묵히, 닳고 닳아 **둥글둥글**해진 허리띠를 두른 듯,\n",
    "기름진 밭뙈기처럼 묵직한 녀석이었지.\n",
    "\n",
    "그 연필로 칠판 가득 **써내려간** 삐뚤빼뚤한 글씨들,\n",
    "아직 젖내 나는 목청으로 **외우던** 옛날 동요 가락.\n",
    "가을이면 덜컹이는 짚차에 실려 **나서던**  추곡 수매,\n",
    "새벽 공기처럼 **싸늘한** 땀방울이 턱 끝에 **매달렸었지**.\n",
    "\n",
    "**아부지**는 툭하면 콧수염을 **쓰다듬으시며** 껄껄 웃으셨고,\n",
    "**어무니**는 **가마솥**에 숭늉을 **박박 긁어** **숭덩숭덩** **퍼주시던** 그 맛.\n",
    "**강냉이** 튀기는 소리가 **찰싹찰싹** 귓가에 **맴돌고**,\n",
    "**감자떡** 냄새가 **솔솔** 코끝을 **간질이던** 그 시절.\n",
    "\n",
    "**평안도** **사투리**가 **구수하게** **흘러넘치던** 저녁 마루,\n",
    "**저 멀리** **압록강** 물결처럼 **잔잔히** **흘러가던** **세월**이었지.\n",
    "**누런** 연필심이 **닳아 없어지듯**, **추억**도 **하나둘** **덧없이** **사라져 갔지만**,\n",
    "그 흙내음, 그 숭늉 맛, 그 **찰싹이는** **소리**는 **내 가슴속에** **고스란히** **남아** **반짝이고** 있네.\n",
    "\n",
    "**아, 그 누런 연필!**\n",
    "**내 어린 날의** **꿈과** **함께** **닳아버린** **희망**이었지.\n",
    "**지금도** **가끔** **손끝이** **시큰하면**\n",
    "**그 녀석의** **온기가** **떠올라**\n",
    "**가슴 한구석이** **아련해지곤** **하는구나**.\n",
    "```"
   ]
  },
  {
   "cell_type": "markdown",
   "id": "bcd9ce7d",
   "metadata": {},
   "source": [
    "<small>\n",
    "\n",
    "=== 노란 연필에 대한 시 ===\n",
    "\n",
    "## 누런 연필\n",
    "\n",
    "```markdown\n",
    "어릴 적, 툇마루에 걸터앉아 뙤약볕에 퀭하니 눈을 뜬 날이면,\n",
    "손가락 사이로 보드라운 흙내음이 스며들던 그 누런 연필 한 자루.\n",
    "묵묵히, 닳고 닳아 둥글둥글해진 허리띠를 두른 듯,\n",
    "기름진 밭뙈기처럼 묵직한 녀석이었지.\n",
    "\n",
    "그 연필로 칠판 가득 써내려간 삐뚤빼뚤한 글씨들,\n",
    "아직 젖내 나는 목청으로 외우던 옛날 동요 가락.\n",
    "가을이면 덜컹이는 짚차에 실려 나서던 추곡 수매,\n",
    "새벽 공기처럼 싸늘한 땀방울이 턱 끝에 매달렸었지.\n",
    "\n",
    "아부지는 툭하면 콧수염을 쓰다듬으시며 껄껄 웃으셨고,\n",
    "어무니는 가마솥에 숭늉을 박박 긁어 숭덩숭덩 퍼주시던 그 맛.\n",
    "강냉이 튀기는 소리가 찰싹찰싹 귓가에 맴돌고,\n",
    "감자떡 냄새가 솔솔 코끝을 간질이던 그 시절.\n",
    "\n",
    "평안도 사투리가 구수하게 흘러넘치던 저녁 마루,\n",
    "저 멀리 압록강 물결처럼 잔잔히 흘러가던 세월이었지.\n",
    "누런 연필심이 닳아 없어지듯, 추억도 하나둘 덧없이 사라져 갔지만,\n",
    "그 흙내음, 그 숭늉 맛, 그 찰싹이는 소리는 내 가슴속에 고스란히 남아 반짝이고 있네.\n",
    "\n",
    "아, 그 누런 연필!\n",
    "내 어린 날의 꿈과 함께 닳아버린 희망이었지.\n",
    "지금도 가끔 손끝이 시큰하면\n",
    "그 녀석의 온기가 떠올라\n",
    "가슴 한구석이 아련해지곤 하는구나.\n",
    "```"
   ]
  },
  {
   "cell_type": "code",
   "execution_count": 34,
   "id": "22d87250",
   "metadata": {},
   "outputs": [],
   "source": [
    "# 콘솔에서 입력 받기(순차적으로 입력하기)\n",
    "\n",
    "topic = input(\"시의 주제를 입력하세요: \")\n",
    "style = input(\"시의 스타일을 입력하세요 (예: 감성적인, 유머러스한): \")\n",
    "poet = input(\"참고할 시인의 이름을 입력하세요 (예: 김소월, 윤동주): \")"
   ]
  },
  {
   "cell_type": "code",
   "execution_count": 35,
   "id": "1711cb27",
   "metadata": {},
   "outputs": [],
   "source": [
    "# 체인 실행하기\n",
    "\n",
    "result = chain.invoke({\n",
    "    \"topic\": topic,\n",
    "    \"style\": style,\n",
    "    \"poet\": poet\n",
    "})"
   ]
  },
  {
   "cell_type": "markdown",
   "id": "036c0df3",
   "metadata": {},
   "source": [
    "<small>\n",
    "\n",
    "* 셀 실행 (2.2s)"
   ]
  },
  {
   "cell_type": "code",
   "execution_count": null,
   "id": "65c57e8d",
   "metadata": {},
   "outputs": [],
   "source": [
    "# 결과 출력\n",
    "print(f\"\\n=== {topic}에 대한 시 ===\\n\")\n",
    "print(result)"
   ]
  },
  {
   "cell_type": "markdown",
   "id": "0a1cdac9",
   "metadata": {},
   "source": [
    "<small>\n",
    "\n",
    "=== 노란 연필에 대한 시 ===\n",
    "\n",
    "\n",
    "\n",
    "```markdown\n",
    "  ## 노란 연필\n",
    "\n",
    "    바람이 햇살을 엮어 만든 듯\n",
    "    곱게 물든 노란 연필 하나\n",
    "\n",
    "    작은 손에 쥐어주니\n",
    "    세상이 온통 금빛으로 물드는구나\n",
    "\n",
    "    사각이는 소리마다\n",
    "    풀잎의 웃음소리가 묻어나고\n",
    "\n",
    "    하늘을 닮은 파란 눈망울엔\n",
    "    구름 조각이 춤추네\n",
    "\n",
    "    어린 날의 꿈들이\n",
    "    연필 끝에서 피어나\n",
    "    하얀 도화지에 별처럼 흩뿌려지네\n",
    "\n",
    "    정성껏 그린 한 송이 꽃\n",
    "    엄마의 얼굴을 닮았구나\n",
    "\n",
    "    노란 연필에 담긴\n",
    "    따스한 사랑이\n",
    "    세상을 환히 비추네\n",
    "```\n",
    "\n",
    "<br>\n",
    "\n",
    "```markdown\n",
    "**박목월 시인의 문체를 참고하여 다음과 같은 부분을 신경 썼습니다.**\n",
    "\n",
    "*   **자연 친화적인 소재와 이미지:** 햇살, 바람, 풀잎, 하늘, 구름, 꽃 등 자연에서 온 듯한 소재와 이미지를 활용했습니다.\n",
    "*   **맑고 고운 어휘:** '곱게 물든', '금빛', '사각이는', '웃음소리', '파란 눈망울', '춤추네', '별처럼 흩뿌려지네', '따스한', '환히 비추네' 등 긍정적이고 맑은 느낌의 어휘를 사용했습니다.\n",
    "*   **서정적인 분위기:** 어린 날의 순수함, 꿈, 사랑 등 감성적인 내용을 담아 서정적인 분위기를 조성했습니다.\n",
    "*   **시각적 묘사:** '금빛으로 물드는구나', '하늘을 닮은 파란 눈망울', '별처럼 흩뿌려지네' 등 시각적인 이미지를 구체적으로 그려내려 했습니다.\n",
    "*   **의성어, 의태어 활용:** '사각이는'과 같은 의성어를 사용하여 생동감을 더했습니다.\n",
    "*   **반복과 운율:** 각 연의 마지막 부분에서 유사한 어조나 표현을 사용하여 자연스러운 운율을 만들고자 했습니다.\n",
    "\n",
    "이 시가 박목월 시인의 감성과 어조를 어느 정도 담아내었기를 바랍니다.\n",
    "```"
   ]
  },
  {
   "cell_type": "markdown",
   "id": "770030dc",
   "metadata": {},
   "source": [
    "---"
   ]
  },
  {
   "cell_type": "markdown",
   "id": "340cafc1",
   "metadata": {},
   "source": [
    "* **`같은 주제`, `다른 시인 스타일`**"
   ]
  },
  {
   "cell_type": "markdown",
   "id": "1153a5cc",
   "metadata": {},
   "source": [
    "|        | 백석 st                                                                                                                                                                                                                                                                                                                                                                                                                                                                                                                                                                                                                                                                                                 | 박목월 st                                                                                                                                                                                                                                                                                                                                                                                                                                                                                                                                                                                                   |\n",
    "|--------|-------------------------------------------------------------------------------------------------------------------------------------------------------------------------------------------------------------------------------------------------------------------------------------------------------------------------------------------------------------------------------------------------------------------------------------------------------------------------------------------------------------------------------------------------------------------------------------------------------------------------------------------------------------------------------------------------------|----------------------------------------------------------------------------------------------------------------------------------------------------------------------------------------------------------------------------------------------------------------------------------------------------------------------------------------------------------------------------------------------------------------------------------------------------------------------------------------------------------------------------------------------------------------------------------------------------------|\n",
    "| topic  | 노란 연필                                                                                                                                                                                                                                                                                                                                                                                                                                                                                                                                                                                                                                                                                                 | 노란 연필                                                                                                                                                                                                                                                                                                                                                                                                                                                                                                                                                                                                    |\n",
    "| style  | 향토적이고 감각적인 어휘, 방언과 고어를 섞어 쓰며, 어린 시절과 고향을 회상하는 스타일, 냄새·맛·계절감을 살린 토속적 이미지와 산문시적 구성, 평안북도 방언과 고향 음식·풍경 묘사를 살린 회고적 서사, 구어체와 의고체를 섞어 쓰는 백석 시인의 문체                                                                                                                                                                                                                                                                                                                                                                                                                                                                                                                                                          |                                                                                                                                                                                                                                                                                                                                                                                                                                                                                                                                                                                                          |\n",
    "| poet   | 백석                                                                                                                                                                                                                                                                                                                                                                                                                                                                                                                                                                                                                                                                                                    | 박목월                                                                                                                                                                                                                                                                                                                                                                                                                                                                                                                                                                                                      |\n",
    "| result | ## 누런 연필<br><br> 어릴 적, 툇마루에 걸터앉아 뙤약볕에 퀭하니 눈을 뜬 날이면,<br>손가락 사이로 보드라운 흙내음이 스며들던 그 누런 연필 한 자루.<br>묵묵히, 닳고 닳아 둥글둥글해진 허리띠를 두른 듯,<br>기름진 밭뙈기처럼 묵직한 녀석이었지.<br><br>그 연필로 칠판 가득 써내려간 삐뚤빼뚤한 글씨들,<br>아직 젖내 나는 목청으로 외우던 옛날 동요 가락.<br>가을이면 덜컹이는 짚차에 실려 나서던 추곡 수매,<br>새벽 공기처럼 싸늘한 땀방울이 턱 끝에 매달렸었지.<br><br>아부지는 툭하면 콧수염을 쓰다듬으시며 껄껄 웃으셨고,<br>어무니는 가마솥에 숭늉을 박박 긁어 숭덩숭덩 퍼주시던 그 맛.<br>강냉이 튀기는 소리가 찰싹찰싹 귓가에 맴돌고,<br>감자떡 냄새가 솔솔 코끝을 간질이던 그 시절.<br><br>평안도 사투리가 구수하게 흘러넘치던 저녁 마루,<br>저 멀리 압록강 물결처럼 잔잔히 흘러가던 세월이었지.<br>누런 연필심이 닳아 없어지듯, 추억도 하나둘 덧없이 사라져 갔지만,<br>그 흙내음, 그 숭늉 맛, 그 찰싹이는 소리는 내 가슴속에 고스란히 남아 반짝이고 있네.<br><br>아, 그 누런 연필!<br>내 어린 날의 꿈과 함께 닳아버린 희망이었지.<br>지금도 가끔 손끝이 시큰하면<br>그 녀석의 온기가 떠올라<br>가슴 한구석이 아련해지곤 하는구나. |   ## 노란 연필<br><br>    바람이 햇살을 엮어 만든 듯<br>    곱게 물든 노란 연필 하나<br><br>    작은 손에 쥐어주니<br>    세상이 온통 금빛으로 물드는구나<br><br>    사각이는 소리마다<br>    풀잎의 웃음소리가 묻어나고<br><br>    하늘을 닮은 파란 눈망울엔<br>    구름 조각이 춤추네<br><br>    어린 날의 꿈들이<br>    연필 끝에서 피어나<br>    하얀 도화지에 별처럼 흩뿌려지네<br><br>    정성껏 그린 한 송이 꽃<br>    엄마의 얼굴을 닮았구나<br><br>    노란 연필에 담긴<br>    따스한 사랑이<br>    세상을 환히 비추네                                                                                                                                                                                                                                     |\n",
    "| etc    | .                                                                                                                                                                                                                                                                                                                                                                                                                                                                                                                                                                                                                                                                                                     | **박목월 시인의 문체를 참고하여 다음과 같은 부분을 신경 썼습니다.**<br><br>*   **자연 친화적인 소재와 이미지:** 햇살, 바람, 풀잎, 하늘, 구름, 꽃 등 자연에서 온 듯한 소재와 이미지를 활용했습니다.<br>*   **맑고 고운 어휘:** '곱게 물든', '금빛', '사각이는', '웃음소리', '파란 눈망울', '춤추네', '별처럼 흩뿌려지네', '따스한', '환히 비추네' 등 긍정적이고 맑은 느낌의 어휘를 사용했습니다.<br>*   **서정적인 분위기:** 어린 날의 순수함, 꿈, 사랑 등 감성적인 내용을 담아 서정적인 분위기를 조성했습니다.<br>*   **시각적 묘사:** '금빛으로 물드는구나', '하늘을 닮은 파란 눈망울', '별처럼 흩뿌려지네' 등 시각적인 이미지를 구체적으로 그려내려 했습니다.<br>*   **의성어, 의태어 활용:** '사각이는'과 같은 의성어를 사용하여 생동감을 더했습니다.<br>*   **반복과 운율:** 각 연의 마지막 부분에서 유사한 어조나 표현을 사용하여 자연스러운 운율을 만들고자 했습니다.<br><br>이 시가 박목월 시인의 감성과 어조를 어느 정도 담아내었기를 바랍니다. |\n"
   ]
  },
  {
   "cell_type": "markdown",
   "id": "e06e5f09",
   "metadata": {},
   "source": [
    "---"
   ]
  }
 ],
 "metadata": {
  "kernelspec": {
   "display_name": "lc_env",
   "language": "python",
   "name": "python3"
  },
  "language_info": {
   "codemirror_mode": {
    "name": "ipython",
    "version": 3
   },
   "file_extension": ".py",
   "mimetype": "text/x-python",
   "name": "python",
   "nbconvert_exporter": "python",
   "pygments_lexer": "ipython3",
   "version": "3.13.5"
  }
 },
 "nbformat": 4,
 "nbformat_minor": 5
}
