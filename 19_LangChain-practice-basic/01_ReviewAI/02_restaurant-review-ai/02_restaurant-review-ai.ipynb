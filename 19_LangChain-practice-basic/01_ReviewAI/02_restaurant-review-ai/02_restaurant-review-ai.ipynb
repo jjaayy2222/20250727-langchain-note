{
 "cells": [
  {
   "cell_type": "markdown",
   "id": "c976a97f",
   "metadata": {},
   "source": [
    "---"
   ]
  },
  {
   "cell_type": "markdown",
   "id": "1a8ab679",
   "metadata": {},
   "source": [
    "* 출처: LangChain 공식 문서, 조코딩의 랭체인으로 AI 에이전트 서비스 만들기\n",
    "\n",
    "* [깃허브 저장소 출처](https://github.com/sw-woo/hanbit-langchain): https://github.com/sw-woo/hanbit-langchain"
   ]
  },
  {
   "cell_type": "markdown",
   "id": "a6190853",
   "metadata": {},
   "source": [
    "---"
   ]
  },
  {
   "cell_type": "markdown",
   "id": "4ec160ae",
   "metadata": {},
   "source": [
    "### **`식당 리뷰 평가 AI 만들기`**"
   ]
  },
  {
   "cell_type": "markdown",
   "id": "9666f311",
   "metadata": {},
   "source": [
    "* *출처: 위에 표기*"
   ]
  },
  {
   "cell_type": "code",
   "execution_count": 1,
   "id": "3ae7fb11",
   "metadata": {},
   "outputs": [],
   "source": [
    "# 환경변수 처리 및 클라이언트 생성\n",
    "from langsmith import Client\n",
    "from dotenv import load_dotenv\n",
    "\n",
    "import os\n",
    "import json\n",
    "\n",
    "# 클라이언트 생성 \n",
    "api_key = os.getenv(\"LANGSMITH_API_KEY\")\n",
    "client = Client(api_key=api_key)"
   ]
  },
  {
   "cell_type": "code",
   "execution_count": null,
   "id": "f3434c79",
   "metadata": {},
   "outputs": [],
   "source": [
    "# LangSmith 추적 설정하기 (https:smith.langchin.com)\n",
    "# LangSmith 추적을 위한 라이브러리 임포트\n",
    "from langsmith import traceable                                                             # @traceable 데코레이터 사용 시\n",
    "\n",
    "# LangSmith 환경 변수 확인\n",
    "\n",
    "print(\"\\n--- LangSmith 환경 변수 확인 ---\")\n",
    "langchain_tracing_v2 = os.getenv('LANGCHAIN_TRACING_V2')\n",
    "langchain_project = os.getenv('LANGCHAIN_PROJECT')\n",
    "langchain_api_key_status = \"설정됨\" if os.getenv('LANGCHAIN_API_KEY') else \"설정되지 않음\"      # API 키 값은 직접 출력하지 않음\n",
    "org = \"설정됨\" if os.getenv('LANGCHAIN_ORGANIZATION') else \"설정되지 않음\"                      # 직접 출력하지 않음\n",
    "\n",
    "if langchain_tracing_v2 == \"true\" and os.getenv('LANGCHAIN_API_KEY') and langchain_project:\n",
    "    print(f\"✅ LangSmith 추적 활성화됨 (LANGCHAIN_TRACING_V2='{langchain_tracing_v2}')\")\n",
    "    print(f\"✅ LangSmith 프로젝트: '{langchain_project}'\")\n",
    "    print(f\"✅ LangSmith API Key: {langchain_api_key_status}\")\n",
    "    print(\"  -> 이제 LangSmith 대시보드에서 이 프로젝트를 확인해 보세요.\")\n",
    "else:\n",
    "    print(\"❌ LangSmith 추적이 완전히 활성화되지 않았습니다. 다음을 확인하세요:\")\n",
    "    if langchain_tracing_v2 != \"true\":\n",
    "        print(f\"  - LANGCHAIN_TRACING_V2가 'true'로 설정되어 있지 않습니다 (현재: '{langchain_tracing_v2}').\")\n",
    "    if not os.getenv('LANGCHAIN_API_KEY'):\n",
    "        print(\"  - LANGCHAIN_API_KEY가 설정되어 있지 않습니다.\")\n",
    "    if not langchain_project:\n",
    "        print(\"  - LANGCHAIN_PROJECT가 설정되어 있지 않습니다.\")"
   ]
  },
  {
   "cell_type": "markdown",
   "id": "9728c7c5",
   "metadata": {},
   "source": [
    "<small>\n",
    "\n",
    "* 셀 출력\n",
    "\n",
    "    ```markdown\n",
    "    --- LangSmith 환경 변수 확인 ---\n",
    "    ✅ LangSmith 추적 활성화됨 (LANGCHAIN_TRACING_V2='true')\n",
    "    ✅ LangSmith 프로젝트: 'LangChain-prantice'\n",
    "    ✅ LangSmith API Key: 설정됨\n",
    "    -> 이제 LangSmith 대시보드에서 이 프로젝트를 확인해 보세요.\n",
    "    ```"
   ]
  },
  {
   "cell_type": "code",
   "execution_count": null,
   "id": "d5d15e45",
   "metadata": {},
   "outputs": [],
   "source": [
    "import os\n",
    "from dotenv import load_dotenv\n",
    "import openai\n",
    "\n",
    "from langchain_openai import ChatOpenAI\n",
    "\n",
    "# .env 파일에서 환경변수 불러오기\n",
    "load_dotenv()\n",
    "\n",
    "# 환경변수에서 API 키 가져오기\n",
    "api_key = os.getenv(\"OPENAI_API_KEY\")\n",
    "\n",
    "# OpenAI API 키 설정\n",
    "openai.api_key = api_key\n",
    "\n",
    "# OpenAI를 불러오기\n",
    "# ✅ 디버깅 함수: API 키가 잘 불러와졌는지 확인\n",
    "def debug_api_key():\n",
    "    if api_key is None:\n",
    "        print(\"❌ API 키를 불러오지 못했습니다. .env 파일과 변수명을 확인하세요.\")\n",
    "    elif api_key.startswith(\"sk-\") and len(api_key) > 20:\n",
    "        print(\"✅ API 키를 성공적으로 불러왔습니다.\")\n",
    "    else:\n",
    "        print(\"⚠️ API 키 형식이 올바르지 않은 것 같습니다. 값을 확인하세요.\")\n",
    "\n",
    "# 디버깅 함수 실행\n",
    "debug_api_key()"
   ]
  },
  {
   "cell_type": "markdown",
   "id": "996e6fb0",
   "metadata": {},
   "source": [
    "<small>\n",
    "\n",
    "* 셀 출력\n",
    "\n",
    "    ```markdown\n",
    "    ✅ API 키를 성공적으로 불러왔습니다.\n",
    "    ```"
   ]
  },
  {
   "cell_type": "markdown",
   "id": "a0ac616b",
   "metadata": {},
   "source": [
    "---"
   ]
  },
  {
   "cell_type": "markdown",
   "id": "fd9b337b",
   "metadata": {},
   "source": [
    "### **`SequentialChain`**"
   ]
  },
  {
   "cell_type": "markdown",
   "id": "5ef17fb7",
   "metadata": {},
   "source": [
    "* **`SequentialChain`**\n",
    "\n",
    "  * **여러 개의 LLM 체인 (혹은 다른 체인) 객체를 `한 줄`로 엮어, 앞 단계 출력을 그 다음 단계의 입력으로 자동 전달하는 오케스트레이터**\n",
    "\n",
    "  * **≒ 데이터 흐름을 명시적으로 관리해주는 컨베이터 벨트**\n",
    "\n",
    "  * `정의한 순서`대로 `체인`을 `실행`하며 각 단계 결과를 `키-값 딕셔너리`에 저장해 이어지는 단계에 `주입`\n",
    "    * *개발자는 중간 데이터를 따로 수집하거나 전달하는 코드를 작성할 필요 없음*"
   ]
  },
  {
   "cell_type": "code",
   "execution_count": 4,
   "id": "777200a4",
   "metadata": {},
   "outputs": [],
   "source": [
    "from langchain.chains.llm import LLMChain\n",
    "from langchain.chains.sequential import SequentialChain"
   ]
  },
  {
   "cell_type": "markdown",
   "id": "7ad4c04b",
   "metadata": {},
   "source": [
    "### **`LLM 초기화`**"
   ]
  },
  {
   "cell_type": "markdown",
   "id": "3ef11f35",
   "metadata": {},
   "source": [
    "* **`temperature = 0.7` → 창의성이 높도록 설정**"
   ]
  },
  {
   "cell_type": "code",
   "execution_count": 5,
   "id": "5646b485",
   "metadata": {},
   "outputs": [],
   "source": [
    "# LLM 생성\n",
    "\n",
    "llm = ChatOpenAI(\n",
    "    temperature=0.7,\n",
    "    openai_api_key=api_key,\n",
    "    model=\"gpt-4o-mini\",    \n",
    "    )"
   ]
  },
  {
   "cell_type": "markdown",
   "id": "2a666912",
   "metadata": {},
   "source": [
    "### **`프롬프트 템플릿 정의하기`**"
   ]
  },
  {
   "cell_type": "markdown",
   "id": "1e2e5b3c",
   "metadata": {},
   "source": [
    "* **step1. `리뷰 요약` = `Prompt1`**: 리뷰를 한 문장으로 요약하는 작업\n",
    "  \n",
    "* **step2. `긍정/부정 점수 평가` = `Prompt2`**: 리뷰를 바탕으로 0점에서 10점 사이에싀 점수를 매기는 작업\n",
    "\n",
    "* **step3. `리뷰에 대한 공손한 답변 작성` = `Prompt3`**: 요약된 리뷰에 대해 공손한 답변을 작성하는 작업"
   ]
  },
  {
   "cell_type": "markdown",
   "id": "654a3b30",
   "metadata": {},
   "source": [
    "### **`LLM Chain`**"
   ]
  },
  {
   "cell_type": "markdown",
   "id": "e1c03914",
   "metadata": {},
   "source": [
    "* **`각 프롬프트 템플릿`은 `LLM Chain`으로 구성 → `모델이 지정된 작업 수행`**"
   ]
  },
  {
   "cell_type": "code",
   "execution_count": null,
   "id": "0c74edf5",
   "metadata": {},
   "outputs": [],
   "source": [
    "from langchain_core.prompts import PromptTemplate\n",
    "\n",
    "\n",
    "# 프롬프트 템플릿 설정(Prompot1)\n",
    "prompt1 = PromptTemplate.from_template(\n",
    "    \"다음 식당 리뷰를 한 문장으로 요약하세요.\\n\\n{review}\"\n",
    ")\n",
    "\n",
    "# 체인_1\n",
    "chain1 = LLMChain(llm=llm, prompt=prompt1, output_key=\"summary\")"
   ]
  },
  {
   "cell_type": "markdown",
   "id": "d861cc47",
   "metadata": {},
   "source": [
    "<small>\n",
    "\n",
    "* 셀 출력\n",
    "\n",
    "    ```bash\n",
    "    /var/folders/h3/l7wnkv352kqftv0t8ctl2ld40000gn/T/ipykernel_13657/1921000103.py:10: LangChainDeprecationWarning: The class `LLMChain` was deprecated in LangChain 0.1.17 and will be removed in 1.0. Use :meth:`~RunnableSequence, e.g., `prompt | llm`` instead.\n",
    "    chain1 = LLMChain(llm=llm, prompt=prompt1, output_key=\"summary\")\n",
    "    ```\n",
    "\n",
    "---\n",
    "\n",
    "* 경고 메시지 해석\n",
    "  \n",
    "  * **`이 기능은 곧 없어질 예정이니, 다른 방법으로 바꿔 쓰라는 의미`**\n",
    "\n",
    "    * `LLMChain 클래스` = **`LangChain 0.1.17 버전`부터 더 이상 권장되지 않음 → `LangChain 1.0 버전`에서는 아예 삭제 예정**\n",
    "\n",
    "  * 대신 **`LCEL`(LangChain Expression Language)** 방식인 **`prompt | llm`** 형태로 체인을 만드는 방법 **`사용 권장`**"
   ]
  },
  {
   "cell_type": "markdown",
   "id": "9fbaada2",
   "metadata": {},
   "source": [
    "---"
   ]
  },
  {
   "cell_type": "markdown",
   "id": "d215382c",
   "metadata": {},
   "source": [
    "<small>\n",
    "\n",
    "* \n",
    "  * 기존 코드\n",
    "\n",
    "  ```python\n",
    "      from langchain_core.prompts import PromptTemplate\n",
    "      from langchain.chains import LLMChain\n",
    "\n",
    "      prompt1 = PromptTemplate.from_template(\n",
    "          \"다음 식당 리뷰를 한 문장으로 요약하세요.\\n\\n{review}\"\n",
    "      )\n",
    "\n",
    "      chain1 = LLMChain(llm=llm, prompt=prompt1, output_key=\"summary\")\n",
    "  ```\n",
    "\n",
    "<br>\n",
    "\n",
    "---\n",
    "\n",
    "<br>\n",
    "\n",
    "* \n",
    "  * 권장 코드\n",
    "\n",
    "  ```python\n",
    "      from langchain_core.prompts import PromptTemplate\n",
    "      from langchain_core.output_parsers import StrOutputParser\n",
    "\n",
    "      # 1. 프롬프트 템플릿\n",
    "      prompt1 = PromptTemplate.from_template(\n",
    "          \"다음 식당 리뷰를 한 문장으로 요약하세요.\\n\\n{review}\"\n",
    "      )\n",
    "\n",
    "      # 2. LCEL 방식 체인 구성\n",
    "      # prompt → llm → 문자열 파서\n",
    "      chain1 = prompt1 | llm | StrOutputParser()\n",
    "\n",
    "      # 3. 실행\n",
    "      result = chain1.invoke({\"review\": \"음식이 맛있고 서비스가 친절했어요.\"})\n",
    "      print(result)\n",
    "  ```"
   ]
  },
  {
   "cell_type": "code",
   "execution_count": 7,
   "id": "96148961",
   "metadata": {},
   "outputs": [],
   "source": [
    "# 프롬프트 템플릿 설정(Prompot2)\n",
    "prompt2 = PromptTemplate.from_template(\n",
    "    \"다음 식당 리뷰를 읽고 0점부터 10점 사이에서 긍정/부정 점수를 매기세요. 숫자만 대답하세요.\\n\\n{review}\"\n",
    ")\n",
    "\n",
    "# 체인_2\n",
    "chain2 = LLMChain(llm=llm, prompt=prompt2, output_key=\"sentiment_score\")"
   ]
  },
  {
   "cell_type": "code",
   "execution_count": 8,
   "id": "e1929510",
   "metadata": {},
   "outputs": [],
   "source": [
    "# 프롬프트 템플릿 설정(Prompot3)\n",
    "prompt3 = PromptTemplate.from_template(\n",
    "    \"다음 식당 리뷰 요약에 대해 공손한 답변을 작성하세요.\\n리뷰 요약:{summary}\"\n",
    ")\n",
    "\n",
    "# 체인_3\n",
    "chain3 = LLMChain(llm=llm, prompt=prompt3, output_key=\"reply\")"
   ]
  },
  {
   "cell_type": "markdown",
   "id": "b73298dc",
   "metadata": {},
   "source": [
    "### **`Chain 생성`**"
   ]
  },
  {
   "cell_type": "code",
   "execution_count": 9,
   "id": "7b942467",
   "metadata": {},
   "outputs": [],
   "source": [
    "all_chain = SequentialChain(\n",
    "    chains=[chain1, chain2, chain3],\n",
    "    input_variables=['review'],\n",
    "    output_variables=['summary', 'sentiment_score', 'reply'],\n",
    ")"
   ]
  },
  {
   "cell_type": "markdown",
   "id": "b070419d",
   "metadata": {},
   "source": [
    "### **`reivew` 식당 리뷰 입력**"
   ]
  },
  {
   "cell_type": "code",
   "execution_count": null,
   "id": "9d7d6e38",
   "metadata": {},
   "outputs": [],
   "source": [
    "# 식당 리뷰 입력\n",
    "review = \"\"\"\n",
    "이 식당은 맛도 좋고 분위기도 좋았습니다. 가격 대비 만족도가 높아요.\n",
    "하지만, 서비스 속도가 너무 느려서 조금 실망스러웠습니다.\n",
    "전반적으로는 다시 방문할 의사가 있습니다.\n",
    "\"\"\"\n",
    "\n",
    "# 체인 실행 및 결과 출력\n",
    "try:\n",
    "    result = all_chain.invoke(input={'review': review})\n",
    "    print(f'summary 결과 \\n {result[\"summary\"]} \\n')\n",
    "    print(f'sentiment_score 결과 \\n {result[\"sentiment_score\"]} \\n')\n",
    "    print(f'reply 결과 \\n {result[\"reply\"]}')\n",
    "except Exception as e:\n",
    "    print(f\"Error: {e}\")"
   ]
  },
  {
   "cell_type": "markdown",
   "id": "008f22b5",
   "metadata": {},
   "source": [
    "<small>\n",
    "\n",
    "* 교재 속 답변 (gpt-3.5-turbo 모델 기준)\n",
    "\n",
    "    ```markdown\n",
    "    summary 결과\n",
    "    맛과 분위기는 좋지만 서비스가 느리고 실망스러웠습니다. 그래도 가격 대비 만족도가 높아서 다시 방문할 의사가 있습니다.\n",
    "\n",
    "    sentiment_score 결과\n",
    "    8\n",
    "\n",
    "    reply 결과\n",
    "    저희 식당을 방문해주셔서 감사합니다. 솔직한 리뷰를 통해 서비스 부분에 대한 문제점을 알게 되엇고, 죄송하다는 말씀을 드립니다. 더 빠른 서비스를 제공할 수 있도록 노력하겠습니다. 맛과 분위기에 대한 호평과 가격 대비 만족도가 높다는 점에 대해 감사드립니다. 다음에도 기대에 부응할 수 있도록 노력하겠습니다. 다시 한번 방문해주시기를 기대합니다. 감사합니다. \n",
    "    ```"
   ]
  },
  {
   "cell_type": "markdown",
   "id": "1807c49a",
   "metadata": {},
   "source": [
    "---"
   ]
  },
  {
   "cell_type": "markdown",
   "id": "05a4a0f4",
   "metadata": {},
   "source": [
    "### **`LCEL` 방식으로 바꾼 코드**"
   ]
  },
  {
   "cell_type": "markdown",
   "id": "b8d49cff",
   "metadata": {},
   "source": [
    "* `gemini-2.5-flash-lite` 사용"
   ]
  },
  {
   "cell_type": "code",
   "execution_count": null,
   "id": "d28ca64d",
   "metadata": {},
   "outputs": [],
   "source": [
    "from langchain_google_genai import ChatGoogleGenerativeAI\n",
    "from langchain_core.prompts import PromptTemplate\n",
    "from langchain_core.output_parsers import StrOutputParser\n",
    "from dotenv import load_dotenv\n",
    "import os\n",
    "\n",
    "# .env 파일 로드\n",
    "load_dotenv()\n",
    "api_key = os.getenv(\"GOOGLE_API_KEY\")\n",
    "\n",
    "# 1. LLM 설정 (OpenAI Chat 모델)\n",
    "gemini_lc = ChatGoogleGenerativeAI(\n",
    "        model=\"gemini-2.5-flash-lite\",\n",
    "        temperature=0.7,                                    \n",
    "        max_output_tokens=4096,\n",
    "    )\n",
    "\n",
    "# 2. 출력 파서 (모델 응답을 문자열로 변환)\n",
    "parser = StrOutputParser()\n",
    "\n",
    "# 3. 프롬프트 템플릿 정의\n",
    "prompt1 = PromptTemplate.from_template(\n",
    "    \"다음 식당 리뷰를 한 문장으로 요약하세요.\\n\\n{review}\"\n",
    ")\n",
    "prompt2 = PromptTemplate.from_template(\n",
    "    \"다음 식당 리뷰를 읽고 0점부터 10점 사이에서 긍정/부정 점수를 매기세요. 숫자만 대답하세요.\\n\\n{review}\"\n",
    ")\n",
    "prompt3 = PromptTemplate.from_template(\n",
    "    \"다음 식당 리뷰 요약에 대해 공손한 답변을 작성하세요.\\n리뷰 요약:{summary}\"\n",
    ")\n",
    "\n",
    "# 4. LCEL 방식 체인 구성\n",
    "#    각 체인은 prompt → llm → parser 순서로 연결\n",
    "chain1 = prompt1 | gemini_lc | parser\n",
    "chain2 = prompt2 | gemini_lc | parser\n",
    "chain3 = prompt3 | gemini_lc | parser\n",
    "\n",
    "# 5. 전체 실행 로직\n",
    "review = \"\"\"\n",
    "이 식당은 맛도 좋고 분위기도 좋았습니다. 가격 대비 만족도가 높아요.\n",
    "하지만, 서비스 속도가 너무 느려서 조금 실망스러웠습니다.\n",
    "전반적으로는 다시 방문할 의사가 있습니다.\n",
    "\"\"\"\n",
    "\n",
    "# 6. 순차 실행 (LCEL에서는 직접 순서를 제어)\n",
    "summary = chain1.invoke({\"review\": review})\n",
    "sentiment_score = chain2.invoke({\"review\": review})\n",
    "reply = chain3.invoke({\"summary\": summary})\n",
    "\n",
    "# 7. 결과 출력\n",
    "print(f\"summary 결과 \\n{summary}\\n\")\n",
    "print(f\"sentiment_score 결과 \\n{sentiment_score}\\n\")\n",
    "print(f\"reply 결과 \\n{reply}\")"
   ]
  },
  {
   "cell_type": "markdown",
   "id": "4a3cd904",
   "metadata": {},
   "source": [
    "<small>\n",
    "\n",
    "* 셀 출력 (3.0s)\n",
    "\n",
    "    ```markdown\n",
    "    summary 결과 \n",
    "    맛과 분위기, 가격 대비 만족도는 높았으나 느린 서비스 속도가 아쉬웠지만 전반적으로 재방문 의사가 있는 식당입니다.\n",
    "\n",
    "    sentiment_score 결과 \n",
    "    7\n",
    "\n",
    "    reply 결과 \n",
    "    ## 식당 리뷰 요약에 대한 공손한 답변\n",
    "\n",
    "    **[고객님의 소중한 리뷰에 진심으로 감사드립니다.]**\n",
    "\n",
    "    맛과 분위기, 가격 대비 만족도에 대해 긍정적인 평가를 남겨주셔서 저희에게 큰 힘이 됩니다. 특히 저희 식당을 전반적으로 만족하시고 재방문 의사까지 밝혀주셔서 정말 기쁘게 생각합니다.\n",
    "\n",
    "    다만, 서비스 속도에 대한 아쉬움도 솔직하게 말씀해주셔서 이 부분에 대해서도 깊이 인지하고 있습니다. 고객님께서 더욱 편안하고 만족스러운 식사를 경험하실 수 있도록, **서비스 속도 개선을 위해 내부적으로 논의하고 최선을 다해 노력하겠습니다.**\n",
    "\n",
    "    다시 한번 귀한 시간을 내어 리뷰를 작성해주셔서 감사드립니다. 다음 방문 시에는 개선된 모습으로 더욱 만족스러운 경험을 선사해 드릴 수 있도록 노력하겠습니다.\n",
    "\n",
    "    **[OOO 드림 (혹은 식당 이름)]**\n",
    "    ```"
   ]
  },
  {
   "cell_type": "markdown",
   "id": "e9092a6e",
   "metadata": {},
   "source": [
    "---"
   ]
  },
  {
   "cell_type": "markdown",
   "id": "1a408337",
   "metadata": {},
   "source": [
    "* **`gpt-4o-mini` vs `gemini-2.5-flash-lite`** 결과 비교"
   ]
  },
  {
   "cell_type": "markdown",
   "id": "656f4aa4",
   "metadata": {},
   "source": [
    "|                    | gpt-3.5-turbo                                                                                                                                                                                             | gemini-2.5-flash-lite                                                                                                                                                                                                                                                                                                                                                                                                                                                           |\n",
    "|--------------------|-----------------------------------------------------------------------------------------------------------------------------------------------------------------------------------------------------------|---------------------------------------------------------------------------------------------------------------------------------------------------------------------------------------------------------------------------------------------------------------------------------------------------------------------------------------------------------------------------------------------------------------------------------------------------------------------------------|\n",
    "| summary 결과         | 맛과 분위기는 좋지만 서비스가 느리고 실망스러웠습니다. 그래도 가격 대비 만족도가 높아서 다시 방문할 의사가 있습니다.                                                                                                                                        | 맛과 분위기, 가격 대비 만족도는 높았으나 느린 서비스 속도가 아쉬웠지만 전반적으로 재방문 의사가 있는 식당입니다.                                                                                                                                                                                                                                                                                                                                                                                                                |\n",
    "| sentiment_score 결과 | 8                                                                                                                                                                                                         | 7                                                                                                                                                                                                                                                                                                                                                                                                                                                                               |\n",
    "| reply 결과           | 저희 식당을 방문해주셔서 감사합니다. 솔직한 리뷰를 통해 서비스 부분에 대한 문제점을 알게 되엇고, 죄송하다는 말씀을 드립니다. 더 빠른 서비스를 제공할 수 있도록 노력하겠습니다. 맛과 분위기에 대한 호평과 가격 대비 만족도가 높다는 점에 대해 감사드립니다. 다음에도 기대에 부응할 수 있도록 노력하겠습니다. 다시 한번 방문해주시기를 기대합니다. 감사합니다.  | ## 식당 리뷰 요약에 대한 공손한 답변<br><br>    **[고객님의 소중한 리뷰에 진심으로 감사드립니다.]**<br><br>    맛과 분위기, 가격 대비 만족도에 대해 긍정적인 평가를 남겨주셔서 저희에게 큰 힘이 됩니다. 특히 저희 식당을 전반적으로 만족하시고 재방문 의사까지 밝혀주셔서 정말 기쁘게 생각합니다.<br><br>    다만, 서비스 속도에 대한 아쉬움도 솔직하게 말씀해주셔서 이 부분에 대해서도 깊이 인지하고 있습니다. 고객님께서 더욱 편안하고 만족스러운 식사를 경험하실 수 있도록, **서비스 속도 개선을 위해 내부적으로 논의하고 최선을 다해 노력하겠습니다.**<br><br>    다시 한번 귀한 시간을 내어 리뷰를 작성해주셔서 감사드립니다. 다음 방문 시에는 개선된 모습으로 더욱 만족스러운 경험을 선사해 드릴 수 있도록 노력하겠습니다.<br><br>    **[OOO 드림 (혹은 식당 이름)]** |\n"
   ]
  },
  {
   "cell_type": "markdown",
   "id": "b9ce0354",
   "metadata": {},
   "source": [
    "---"
   ]
  }
 ],
 "metadata": {
  "kernelspec": {
   "display_name": "lc_env",
   "language": "python",
   "name": "python3"
  },
  "language_info": {
   "codemirror_mode": {
    "name": "ipython",
    "version": 3
   },
   "file_extension": ".py",
   "mimetype": "text/x-python",
   "name": "python",
   "nbconvert_exporter": "python",
   "pygments_lexer": "ipython3",
   "version": "3.13.5"
  }
 },
 "nbformat": 4,
 "nbformat_minor": 5
}
