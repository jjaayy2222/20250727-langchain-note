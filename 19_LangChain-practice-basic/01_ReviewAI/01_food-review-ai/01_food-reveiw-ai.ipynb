{
 "cells": [
  {
   "cell_type": "markdown",
   "id": "c976a97f",
   "metadata": {},
   "source": [
    "---"
   ]
  },
  {
   "cell_type": "markdown",
   "id": "1a8ab679",
   "metadata": {},
   "source": [
    "* 출처: LangChain 공식 문서, 조코딩의 랭체인으로 AI 에이전트 서비스 만들기\n",
    "\n",
    "* [깃허브 저장소 출처](https://github.com/sw-woo/hanbit-langchain): https://github.com/sw-woo/hanbit-langchain"
   ]
  },
  {
   "cell_type": "markdown",
   "id": "a6190853",
   "metadata": {},
   "source": [
    "---"
   ]
  },
  {
   "cell_type": "markdown",
   "id": "4ec160ae",
   "metadata": {},
   "source": [
    "### **`음식 리뷰 평가 AI 만들기`**"
   ]
  },
  {
   "cell_type": "markdown",
   "id": "9666f311",
   "metadata": {},
   "source": [
    "* **`Open AI - gpt-4o-mini`로 시도**\n",
    "\n",
    "* *출처: 위에 표기*"
   ]
  },
  {
   "cell_type": "code",
   "execution_count": 1,
   "id": "3ae7fb11",
   "metadata": {},
   "outputs": [],
   "source": [
    "# 환경변수 처리 및 클라이언트 생성\n",
    "from langsmith import Client\n",
    "from dotenv import load_dotenv\n",
    "\n",
    "import os\n",
    "import json\n",
    "\n",
    "# 클라이언트 생성 \n",
    "api_key = os.getenv(\"LANGSMITH_API_KEY\")\n",
    "client = Client(api_key=api_key)"
   ]
  },
  {
   "cell_type": "code",
   "execution_count": null,
   "id": "f3434c79",
   "metadata": {},
   "outputs": [],
   "source": [
    "# LangSmith 추적 설정하기 (https:smith.langchin.com)\n",
    "# LangSmith 추적을 위한 라이브러리 임포트\n",
    "from langsmith import traceable                                                             # @traceable 데코레이터 사용 시\n",
    "\n",
    "# LangSmith 환경 변수 확인\n",
    "\n",
    "print(\"\\n--- LangSmith 환경 변수 확인 ---\")\n",
    "langchain_tracing_v2 = os.getenv('LANGCHAIN_TRACING_V2')\n",
    "langchain_project = os.getenv('LANGCHAIN_PROJECT')\n",
    "langchain_api_key_status = \"설정됨\" if os.getenv('LANGCHAIN_API_KEY') else \"설정되지 않음\"      # API 키 값은 직접 출력하지 않음\n",
    "org = \"설정됨\" if os.getenv('LANGCHAIN_ORGANIZATION') else \"설정되지 않음\"                      # 직접 출력하지 않음\n",
    "\n",
    "if langchain_tracing_v2 == \"true\" and os.getenv('LANGCHAIN_API_KEY') and langchain_project:\n",
    "    print(f\"✅ LangSmith 추적 활성화됨 (LANGCHAIN_TRACING_V2='{langchain_tracing_v2}')\")\n",
    "    print(f\"✅ LangSmith 프로젝트: '{langchain_project}'\")\n",
    "    print(f\"✅ LangSmith API Key: {langchain_api_key_status}\")\n",
    "    print(\"  -> 이제 LangSmith 대시보드에서 이 프로젝트를 확인해 보세요.\")\n",
    "else:\n",
    "    print(\"❌ LangSmith 추적이 완전히 활성화되지 않았습니다. 다음을 확인하세요:\")\n",
    "    if langchain_tracing_v2 != \"true\":\n",
    "        print(f\"  - LANGCHAIN_TRACING_V2가 'true'로 설정되어 있지 않습니다 (현재: '{langchain_tracing_v2}').\")\n",
    "    if not os.getenv('LANGCHAIN_API_KEY'):\n",
    "        print(\"  - LANGCHAIN_API_KEY가 설정되어 있지 않습니다.\")\n",
    "    if not langchain_project:\n",
    "        print(\"  - LANGCHAIN_PROJECT가 설정되어 있지 않습니다.\")"
   ]
  },
  {
   "cell_type": "markdown",
   "id": "9728c7c5",
   "metadata": {},
   "source": [
    "<small>\n",
    "\n",
    "* 셀 출력\n",
    "\n",
    "    ```markdown\n",
    "    --- LangSmith 환경 변수 확인 ---\n",
    "    ✅ LangSmith 추적 활성화됨 (LANGCHAIN_TRACING_V2='true')\n",
    "    ✅ LangSmith 프로젝트: 'LangChain-prantice'\n",
    "    ✅ LangSmith API Key: 설정됨\n",
    "    -> 이제 LangSmith 대시보드에서 이 프로젝트를 확인해 보세요.\n",
    "    ```"
   ]
  },
  {
   "cell_type": "code",
   "execution_count": null,
   "id": "d5d15e45",
   "metadata": {},
   "outputs": [],
   "source": [
    "import os\n",
    "from dotenv import load_dotenv\n",
    "import openai\n",
    "\n",
    "from langchain_openai import ChatOpenAI\n",
    "\n",
    "# .env 파일에서 환경변수 불러오기\n",
    "load_dotenv()\n",
    "\n",
    "# 환경변수에서 API 키 가져오기\n",
    "api_key = os.getenv(\"OPENAI_API_KEY\")\n",
    "\n",
    "# OpenAI API 키 설정\n",
    "openai.api_key = api_key\n",
    "\n",
    "# OpenAI를 불러오기\n",
    "# ✅ 디버깅 함수: API 키가 잘 불러와졌는지 확인\n",
    "def debug_api_key():\n",
    "    if api_key is None:\n",
    "        print(\"❌ API 키를 불러오지 못했습니다. .env 파일과 변수명을 확인하세요.\")\n",
    "    elif api_key.startswith(\"sk-\") and len(api_key) > 20:\n",
    "        print(\"✅ API 키를 성공적으로 불러왔습니다.\")\n",
    "    else:\n",
    "        print(\"⚠️ API 키 형식이 올바르지 않은 것 같습니다. 값을 확인하세요.\")\n",
    "\n",
    "# 디버깅 함수 실행\n",
    "debug_api_key()"
   ]
  },
  {
   "cell_type": "markdown",
   "id": "996e6fb0",
   "metadata": {},
   "source": [
    "<small>\n",
    "\n",
    "* 셀 출력\n",
    "\n",
    "    ```markdown\n",
    "    ✅ API 키를 성공적으로 불러왔습니다.\n",
    "    ```"
   ]
  },
  {
   "cell_type": "markdown",
   "id": "a0ac616b",
   "metadata": {},
   "source": [
    "---"
   ]
  },
  {
   "cell_type": "markdown",
   "id": "2a666912",
   "metadata": {},
   "source": [
    "### **`프롬프트 템플릿 정의하기`**"
   ]
  },
  {
   "cell_type": "markdown",
   "id": "1e2e5b3c",
   "metadata": {},
   "source": [
    "* 리뷰와 점수 범위를 입력 받아 AI 모델이 평가를 생성할 수 있도록 작성"
   ]
  },
  {
   "cell_type": "code",
   "execution_count": 4,
   "id": "0c74edf5",
   "metadata": {},
   "outputs": [],
   "source": [
    "from langchain_core.prompts import PromptTemplate\n",
    "from langchain_core.output_parsers import StrOutputParser\n",
    "\n",
    "prompt_template = \"이 음식 리뷰 '{review}'에 대해 '{rating1}'점부터 '{rating2}'점까지의 평가를 해주세요.\"\n",
    "\n",
    "prompt = PromptTemplate(\n",
    "    input_variables=[\n",
    "        \"review\", \"rating1\", \"rating2\"], template=prompt_template\n",
    ")"
   ]
  },
  {
   "cell_type": "code",
   "execution_count": null,
   "id": "f9e96d38",
   "metadata": {},
   "outputs": [],
   "source": [
    "print(type(prompt_template))                    # <class 'str'>\n",
    "print(type(prompt))                             # <class 'langchain_core.prompts.prompt.PromptTemplate'>"
   ]
  },
  {
   "cell_type": "markdown",
   "id": "7ad4c04b",
   "metadata": {},
   "source": [
    "### **`LLM 초기화`**"
   ]
  },
  {
   "cell_type": "markdown",
   "id": "3ef11f35",
   "metadata": {},
   "source": [
    "* **`temperature = 0.7` → 창의성이 높도록 설정**"
   ]
  },
  {
   "cell_type": "code",
   "execution_count": 6,
   "id": "5646b485",
   "metadata": {},
   "outputs": [],
   "source": [
    "# LLM 생성\n",
    "\n",
    "llm = ChatOpenAI(\n",
    "    temperature=0.7,\n",
    "    openai_api_key=api_key,\n",
    "    model=\"gpt-4o-mini\",    \n",
    "    )"
   ]
  },
  {
   "cell_type": "markdown",
   "id": "b73298dc",
   "metadata": {},
   "source": [
    "### **`Chain 생성`**"
   ]
  },
  {
   "cell_type": "code",
   "execution_count": 7,
   "id": "dedff38b",
   "metadata": {},
   "outputs": [],
   "source": [
    "chain_gpt = prompt | llm | StrOutputParser()"
   ]
  },
  {
   "cell_type": "markdown",
   "id": "87e27b20",
   "metadata": {},
   "source": [
    "### **`사용자 리뷰에 대한 평가 요청해보기`**"
   ]
  },
  {
   "cell_type": "code",
   "execution_count": null,
   "id": "d07ac54a",
   "metadata": {},
   "outputs": [],
   "source": [
    "try:\n",
    "    response = chain_gpt.invoke({\n",
    "        \"review\": \"맛은 있엇지만 배달 포장이 부족하여서 아쉬웠습니다.\",\n",
    "        \"rating1\": \"1\",\n",
    "        \"rating2\": \"5\"\n",
    "    })\n",
    "    print(f\"평가 결과: {response}\")\n",
    "\n",
    "except Exception as e:\n",
    "    print(f\"Error: {e}\")"
   ]
  },
  {
   "cell_type": "markdown",
   "id": "899d22ce",
   "metadata": {},
   "source": [
    "<small>\n",
    "\n",
    "* 셀 출력 (2.1s)\n",
    "\n",
    "    ```markdown\n",
    "    평가 결과: 이 리뷰는 음식의 맛에 대해서는 긍정적인 평가를 하고 있지만, 배달 포장에 대한 불만을 표현하고 있습니다. 맛이 좋았다는 점은 긍정적인 요소이지만, 포장 문제로 인해 전체적인 경험이 저하된 것으로 보입니다. \n",
    "\n",
    "    따라서, 평가를 한다면 '3점' 정도가 적절할 것 같습니다. 이는 음식의 맛이 좋았지만, 서비스나 포장 측면에서 아쉬움이 있었다는 점을 반영한 점수입니다.\n",
    "    ```"
   ]
  },
  {
   "cell_type": "markdown",
   "id": "7985c413",
   "metadata": {},
   "source": [
    "---"
   ]
  },
  {
   "cell_type": "markdown",
   "id": "b483ff0a",
   "metadata": {},
   "source": [
    "### **`gemini`로 시도해보기**"
   ]
  },
  {
   "cell_type": "markdown",
   "id": "1d64a986",
   "metadata": {},
   "source": [
    "* **`gemini-flash-lite` 모델로 시도**"
   ]
  },
  {
   "cell_type": "code",
   "execution_count": null,
   "id": "a6bb5c10",
   "metadata": {},
   "outputs": [],
   "source": [
    "import os\n",
    "from dotenv import load_dotenv\n",
    "\n",
    "from langchain_google_genai import ChatGoogleGenerativeAI\n",
    "\n",
    "load_dotenv()\n",
    "\n",
    "# Google API 키 설정\n",
    "api_key = os.getenv(\"GOOGLE_API_KEY\")\n",
    "\n",
    "# 모델 초기화 (gemini-2.5-flash-lite)\n",
    "try:\n",
    "    gemini_lc = ChatGoogleGenerativeAI(\n",
    "        model=\"gemini-2.5-flash-lite\",\n",
    "        temperature=0.7,                                    \n",
    "        max_output_tokens=4096,\n",
    "    )\n",
    "    print(\"✅ Google GenAI 모델 초기화 성공.\")\n",
    "# 호출 실패 시를 대비한 디버깅용\n",
    "except Exception as e:\n",
    "    print(f\"❌ Google GenAI 모델 초기화 실패: {e}\")\n",
    "    print(\"  -> GOOGLE_API_KEY 환경 변수가 올바르게 설정되었는지 확인하세요.\")\n",
    "    print(\"---\")\n",
    "    exit() # 모델 초기화 실패 시 프로그램 종료"
   ]
  },
  {
   "cell_type": "markdown",
   "id": "c0169bb3",
   "metadata": {},
   "source": [
    "<small>\n",
    "\n",
    "* 셀 출력 (0.8s)\n",
    "\n",
    "    ```markdown\n",
    "    ✅ Google GenAI 모델 초기화 성공.\n",
    "    ```"
   ]
  },
  {
   "cell_type": "markdown",
   "id": "504bb137",
   "metadata": {},
   "source": [
    "---"
   ]
  },
  {
   "cell_type": "markdown",
   "id": "8d8b3c51",
   "metadata": {},
   "source": [
    "* **`체인 재생성`**"
   ]
  },
  {
   "cell_type": "code",
   "execution_count": 10,
   "id": "7c32be26",
   "metadata": {},
   "outputs": [],
   "source": [
    "# llm 모델을 변경해 새로운 체인 생성하기\n",
    "\n",
    "chain_gemini = prompt | gemini_lc | StrOutputParser()"
   ]
  },
  {
   "cell_type": "markdown",
   "id": "9c1a39c6",
   "metadata": {},
   "source": [
    "* **`사용자 리뷰에 대한 평가 요청`**"
   ]
  },
  {
   "cell_type": "code",
   "execution_count": null,
   "id": "20e1d9a2",
   "metadata": {},
   "outputs": [],
   "source": [
    "try:\n",
    "    response = chain_gemini.invoke({\n",
    "        \"review\": \"맛은 있엇지만 배달 포장이 부족하여서 아쉬웠습니다.\",\n",
    "        \"rating1\": \"1\",\n",
    "        \"rating2\": \"5\"\n",
    "    })\n",
    "    print(f\"평가 결과: {response}\")\n",
    "except Exception as e:\n",
    "    print(f\"Error: {e}\")"
   ]
  },
  {
   "cell_type": "markdown",
   "id": "4e1c68d6",
   "metadata": {},
   "source": [
    "<small>\n",
    "\n",
    "* 셀 출력 (1.6s)\n",
    "\n",
    "    ```markdown\n",
    "    평가 결과: 이 음식 리뷰에 대한 평가는 다음과 같습니다.\n",
    "\n",
    "    **평점: 3점**\n",
    "\n",
    "    **이유:**\n",
    "\n",
    "    *   **긍정적인 부분 (맛):** \"맛은 있었지만\"이라는 표현은 음식 자체의 맛에 대해서는 긍정적인 평가를 내리고 있음을 보여줍니다. 이는 중요한 요소이며, 이 부분에 대해서는 높은 점수를 줄 수 있습니다.\n",
    "    *   **부정적인 부분 (포장):** \"배달 포장이 부족하여서 아쉬웠습니다\"라는 부분은 음식의 맛과는 별개로, 배달 과정에서의 경험이 좋지 않았음을 명확히 나타냅니다. 이는 고객 만족도를 크게 떨어뜨릴 수 있는 요소입니다.\n",
    "\n",
    "    **종합적인 판단:**\n",
    "\n",
    "    맛은 좋았다는 점은 분명한 장점이지만, 포장 문제는 전체적인 경험을 해치기 때문에 최고 점수를 주기에는 어렵습니다. 반대로 맛이 좋았다는 점 때문에 최저 점수를 주기에도 무리가 있습니다. 따라서 맛과 포장이라는 두 가지 측면을 고려했을 때, 중간 정도인 **3점**이 적절하다고 판단됩니다.\n",
    "    ```"
   ]
  },
  {
   "cell_type": "markdown",
   "id": "8e2f2413",
   "metadata": {},
   "source": [
    "---"
   ]
  },
  {
   "cell_type": "markdown",
   "id": "1a408337",
   "metadata": {},
   "source": [
    "* **`gpt-4o-mini` vs `gemini-2.5-flash-lite`** 결과 비교"
   ]
  },
  {
   "cell_type": "markdown",
   "id": "656f4aa4",
   "metadata": {},
   "source": [
    "|          | gpt-4o-mini                                                                                                                                                                                                                   | gemini-2.5-flash-lite                                                                                                                                                                                                                                                                                                                                                                                                                                                                                                                                 |\n",
    "|----------|-------------------------------------------------------------------------------------------------------------------------------------------------------------------------------------------------------------------------------|-------------------------------------------------------------------------------------------------------------------------------------------------------------------------------------------------------------------------------------------------------------------------------------------------------------------------------------------------------------------------------------------------------------------------------------------------------------------------------------------------------------------------------------------------------|\n",
    "| 응답 속도    | 2.1s                                                                                                                                                                                                                          | 1.6s                                                                                                                                                                                                                                                                                                                                                                                                                                                                                                                                                  |\n",
    "| 평가 결과    | 평가 결과: 이 리뷰는 음식의 맛에 대해서는 긍정적인 평가를 하고 있지만, 배달 포장에 대한 불만을 표현하고 있습니다. 맛이 좋았다는 점은 긍정적인 요소이지만, 포장 문제로 인해 전체적인 경험이 저하된 것으로 보입니다. <br><br>    따라서, 평가를 한다면 '3점' 정도가 적절할 것 같습니다. 이는 음식의 맛이 좋았지만, 서비스나 포장 측면에서 아쉬움이 있었다는 점을 반영한 점수입니다. | 평가 결과: 이 음식 리뷰에 대한 평가는 다음과 같습니다. <br><br>    **평점: 3점** <br><br>    **이유:** <br><br>    *   **긍정적인 부분 (맛):** \"맛은 있었지만\"이라는 표현은 음식 자체의 맛에 대해서는 긍정적인 평가를 내리고 있음을 보여줍니다. 이는 중요한 요소이며, 이 부분에 대해서는 높은 점수를 줄 수 있습니다. <br>    *   **부정적인 부분 (포장):** \"배달 포장이 부족하여서 아쉬웠습니다\"라는 부분은 음식의 맛과는 별개로, 배달 과정에서의 경험이 좋지 않았음을 명확히 나타냅니다. 이는 고객 만족도를 크게 떨어뜨릴 수 있는 요소입니다. <br><br>    **종합적인 판단:** <br><br>    맛은 좋았다는 점은 분명한 장점이지만, 포장 문제는 전체적인 경험을 해치기 때문에 최고 점수를 주기에는 어렵습니다. 반대로 맛이 좋았다는 점 때문에 최저 점수를 주기에도 무리가 있습니다. 따라서 맛과 포장이라는 두 가지 측면을 고려했을 때, 중간 정도인 **3점**이 적절하다고 판단됩니다. |\n",
    "| 평점       | 3점                                                                                                                                                                                                                            | 3점                                                                                                                                                                                                                                                                                                                                                                                                                                                                                                                                                    |\n",
    "| 이유 (긍정적) | 이 리뷰는 음식의 맛에 대해서는 긍정적인 평가를 하고 있지만,                                                                                                                                                                                            | \"맛은 있었지만\"이라는 표현은 음식 자체의 맛에 대해서는 긍정적인 평가를 내리고 있음을 보여줍니다. 이는 중요한 요소이며, 이 부분에 대해서는 높은 점수를 줄 수 있습니다.                                                                                                                                                                                                                                                                                                                                                                                                                                                      |\n",
    "| 이유 (부정적) | 배달 포장에 대한 불만을 표현하고 있습니다.                                                                                                                                                                                                      | \"배달 포장이 부족하여서 아쉬웠습니다\"라는 부분은 음식의 맛과는 별개로, 배달 과정에서의 경험이 좋지 않았음을 명확히 나타냅니다. 이는 고객 만족도를 크게 떨어뜨릴 수 있는 요소입니다.                                                                                                                                                                                                                                                                                                                                                                                                                                               |\n",
    "| 종합적인 판단  | 이는 음식의 맛이 좋았지만, 서비스나 포장 측면에서 아쉬움이 있었다는 점을 반영한 점수입니다.                                                                                                                                                                          | 맛은 좋았다는 점은 분명한 장점이지만, 포장 문제는 전체적인 경험을 해치기 때문에 최고 점수를 주기에는 어렵습니다. 반대로 맛이 좋았다는 점 때문에 최저 점수를 주기에도 무리가 있습니다. 따라서 맛과 포장이라는 두 가지 측면을 고려했을 때, 중간 정도인 **3점**이 적절하다고 판단됩니다.                                                                                                                                                                                                                                                                                                                                                                                    |\n"
   ]
  }
 ],
 "metadata": {
  "kernelspec": {
   "display_name": "lc_env",
   "language": "python",
   "name": "python3"
  },
  "language_info": {
   "codemirror_mode": {
    "name": "ipython",
    "version": 3
   },
   "file_extension": ".py",
   "mimetype": "text/x-python",
   "name": "python",
   "nbconvert_exporter": "python",
   "pygments_lexer": "ipython3",
   "version": "3.13.5"
  }
 },
 "nbformat": 4,
 "nbformat_minor": 5
}
