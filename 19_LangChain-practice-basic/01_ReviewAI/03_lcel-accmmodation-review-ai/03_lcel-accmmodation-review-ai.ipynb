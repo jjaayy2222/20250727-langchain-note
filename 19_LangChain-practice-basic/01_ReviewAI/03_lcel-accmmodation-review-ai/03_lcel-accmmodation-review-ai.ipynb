{
 "cells": [
  {
   "cell_type": "markdown",
   "id": "c976a97f",
   "metadata": {},
   "source": [
    "---"
   ]
  },
  {
   "cell_type": "markdown",
   "id": "1a8ab679",
   "metadata": {},
   "source": [
    "* 출처: LangChain 공식 문서, 조코딩의 랭체인으로 AI 에이전트 서비스 만들기\n",
    "\n",
    "* [깃허브 저장소 출처](https://github.com/sw-woo/hanbit-langchain): https://github.com/sw-woo/hanbit-langchain"
   ]
  },
  {
   "cell_type": "markdown",
   "id": "a6190853",
   "metadata": {},
   "source": [
    "---"
   ]
  },
  {
   "cell_type": "markdown",
   "id": "4ec160ae",
   "metadata": {},
   "source": [
    "### **`LCEL` (LangChain Expression Language) 기반 숙박 시설 리뷰 평가 AI 만들기**"
   ]
  },
  {
   "cell_type": "markdown",
   "id": "9666f311",
   "metadata": {},
   "source": [
    "* *출처: 위에 표기*"
   ]
  },
  {
   "cell_type": "markdown",
   "id": "a2fcee08",
   "metadata": {},
   "source": [
    "* **`LCEL` = 랭체인에서 제공하는 `간결`하고 `선언적`인 체인 구성 언어**\n",
    "\n",
    "  * 기존: `LLM`, `프롬프트`, `문서 검색기`, `출력 파서` 등을 **일일이 생성하고 메서드를 호출**\n",
    "\n",
    "  * **`LCEL`**\n",
    "    * 연산자 기반의 `직관적`인 방식으로 `LLM 워크플로우` 구성 가능\n",
    "    * = LLM 애플리케이션의 실행 흐름을 코드로 표현하는 언어이자 문법"
   ]
  },
  {
   "cell_type": "markdown",
   "id": "52a41c6f",
   "metadata": {},
   "source": [
    "* **`RunnablePassthrough.assign()`**\n",
    "\n",
    "  * LangChain에서 **다양한 컴포넌트(예: LLM, 프롬프트, 파서 등)를 연결하고 실행하기 위한 기본 인터페이스**\n",
    "  * 여러 컴포넌트를 연결 → 복잡한 데이터 처리 **파이프라인 구축** 가능\n",
    "    * 예시: prompt → LLM에 전달 → LLM의 출력을 파서로 전달\n",
    "  * `invoke`, `batch`, `stream` 등의 메서드를 통해 실행\n",
    "  * 각 Runnabel은 입력 데이터를 받아 처리하고, 그 결과를 다음 Runnable에 전달하는 역할"
   ]
  },
  {
   "cell_type": "markdown",
   "id": "519949a4",
   "metadata": {},
   "source": [
    "---"
   ]
  },
  {
   "cell_type": "code",
   "execution_count": 1,
   "id": "3ae7fb11",
   "metadata": {},
   "outputs": [],
   "source": [
    "# 환경변수 처리 및 클라이언트 생성\n",
    "from langsmith import Client\n",
    "from dotenv import load_dotenv\n",
    "\n",
    "import os\n",
    "import json\n",
    "\n",
    "# 클라이언트 생성 \n",
    "api_key = os.getenv(\"LANGSMITH_API_KEY\")\n",
    "client = Client(api_key=api_key)"
   ]
  },
  {
   "cell_type": "code",
   "execution_count": null,
   "id": "f3434c79",
   "metadata": {},
   "outputs": [],
   "source": [
    "# LangSmith 추적 설정하기 (https:smith.langchin.com)\n",
    "# LangSmith 추적을 위한 라이브러리 임포트\n",
    "from langsmith import traceable                                                             # @traceable 데코레이터 사용 시\n",
    "\n",
    "# LangSmith 환경 변수 확인\n",
    "\n",
    "print(\"\\n--- LangSmith 환경 변수 확인 ---\")\n",
    "langchain_tracing_v2 = os.getenv('LANGCHAIN_TRACING_V2')\n",
    "langchain_project = os.getenv('LANGCHAIN_PROJECT')\n",
    "langchain_api_key_status = \"설정됨\" if os.getenv('LANGCHAIN_API_KEY') else \"설정되지 않음\"      # API 키 값은 직접 출력하지 않음\n",
    "org = \"설정됨\" if os.getenv('LANGCHAIN_ORGANIZATION') else \"설정되지 않음\"                      # 직접 출력하지 않음\n",
    "\n",
    "if langchain_tracing_v2 == \"true\" and os.getenv('LANGCHAIN_API_KEY') and langchain_project:\n",
    "    print(f\"✅ LangSmith 추적 활성화됨 (LANGCHAIN_TRACING_V2='{langchain_tracing_v2}')\")\n",
    "    print(f\"✅ LangSmith 프로젝트: '{langchain_project}'\")\n",
    "    print(f\"✅ LangSmith API Key: {langchain_api_key_status}\")\n",
    "    print(\"  -> 이제 LangSmith 대시보드에서 이 프로젝트를 확인해 보세요.\")\n",
    "else:\n",
    "    print(\"❌ LangSmith 추적이 완전히 활성화되지 않았습니다. 다음을 확인하세요:\")\n",
    "    if langchain_tracing_v2 != \"true\":\n",
    "        print(f\"  - LANGCHAIN_TRACING_V2가 'true'로 설정되어 있지 않습니다 (현재: '{langchain_tracing_v2}').\")\n",
    "    if not os.getenv('LANGCHAIN_API_KEY'):\n",
    "        print(\"  - LANGCHAIN_API_KEY가 설정되어 있지 않습니다.\")\n",
    "    if not langchain_project:\n",
    "        print(\"  - LANGCHAIN_PROJECT가 설정되어 있지 않습니다.\")"
   ]
  },
  {
   "cell_type": "markdown",
   "id": "9728c7c5",
   "metadata": {},
   "source": [
    "<small>\n",
    "\n",
    "* 셀 출력\n",
    "\n",
    "    ```markdown\n",
    "    --- LangSmith 환경 변수 확인 ---\n",
    "    ✅ LangSmith 추적 활성화됨 (LANGCHAIN_TRACING_V2='true')\n",
    "    ✅ LangSmith 프로젝트: 'LangChain-prantice'\n",
    "    ✅ LangSmith API Key: 설정됨\n",
    "    -> 이제 LangSmith 대시보드에서 이 프로젝트를 확인해 보세요.\n",
    "    ```"
   ]
  },
  {
   "cell_type": "code",
   "execution_count": null,
   "id": "d5d15e45",
   "metadata": {},
   "outputs": [],
   "source": [
    "import os\n",
    "from dotenv import load_dotenv\n",
    "import openai\n",
    "\n",
    "from langchain_openai import ChatOpenAI\n",
    "\n",
    "# .env 파일에서 환경변수 불러오기\n",
    "load_dotenv()\n",
    "\n",
    "# 환경변수에서 API 키 가져오기\n",
    "api_key = os.getenv(\"OPENAI_API_KEY\")\n",
    "\n",
    "# OpenAI API 키 설정\n",
    "openai.api_key = api_key\n",
    "\n",
    "# OpenAI를 불러오기\n",
    "# ✅ 디버깅 함수: API 키가 잘 불러와졌는지 확인\n",
    "def debug_api_key():\n",
    "    if api_key is None:\n",
    "        print(\"❌ API 키를 불러오지 못했습니다. .env 파일과 변수명을 확인하세요.\")\n",
    "    elif api_key.startswith(\"sk-\") and len(api_key) > 20:\n",
    "        print(\"✅ API 키를 성공적으로 불러왔습니다.\")\n",
    "    else:\n",
    "        print(\"⚠️ API 키 형식이 올바르지 않은 것 같습니다. 값을 확인하세요.\")\n",
    "\n",
    "# 디버깅 함수 실행\n",
    "debug_api_key()"
   ]
  },
  {
   "cell_type": "markdown",
   "id": "996e6fb0",
   "metadata": {},
   "source": [
    "<small>\n",
    "\n",
    "* 셀 출력\n",
    "\n",
    "    ```markdown\n",
    "    ✅ API 키를 성공적으로 불러왔습니다.\n",
    "    ```"
   ]
  },
  {
   "cell_type": "markdown",
   "id": "a0ac616b",
   "metadata": {},
   "source": [
    "---"
   ]
  },
  {
   "cell_type": "markdown",
   "id": "b0ffb518",
   "metadata": {},
   "source": [
    "* 환경 설정 및 LLM 초기화 공통"
   ]
  },
  {
   "cell_type": "code",
   "execution_count": null,
   "id": "ced37053",
   "metadata": {},
   "outputs": [],
   "source": [
    "# 필요한 모듈 임포트\n",
    "\n",
    "import os\n",
    "from dotenv import load_dotenv\n",
    "\n",
    "from langchain_core.prompts import PromptTemplate\n",
    "from langchain_core.output_parsers import StrOutputParser\n",
    "from langchain_core.runnables import RunnablePassthrough\n",
    "from langchain_openai import ChatOpenAI                                     # gpt\n",
    "from langchain_google_genai import ChatGoogleGenerativeAI                   # gemini"
   ]
  },
  {
   "cell_type": "markdown",
   "id": "193e6fa9",
   "metadata": {},
   "source": [
    "* **`temperature=0.7` → 다양한 대답이 나올 수 있도록 설정**"
   ]
  },
  {
   "cell_type": "code",
   "execution_count": null,
   "id": "9d020763",
   "metadata": {},
   "outputs": [],
   "source": [
    "# gpt\n",
    "load_dotenv()\n",
    "OPENAI_API_KEY = os.getenv(\"OPENAI_API_KEY\")\n",
    "\n",
    "# ChatOpenAI 모델 초기화\n",
    "# Temperature 설정 (모델의 응답 다양성 조절)\n",
    "openai_llm = ChatOpenAI(\n",
    "    model=\"gpt-4o-mini\",\n",
    "    api_key=OPENAI_API_KEY,\n",
    "    temperature=0.7)"
   ]
  },
  {
   "cell_type": "code",
   "execution_count": 9,
   "id": "777200a4",
   "metadata": {},
   "outputs": [],
   "source": [
    "# gemini\n",
    "load_dotenv()\n",
    "api_key = os.getenv(\"GOOGLE_API_KEY\")\n",
    "\n",
    "# LLM 설정\n",
    "gemini_lc = ChatGoogleGenerativeAI(\n",
    "        model=\"gemini-2.5-flash-lite\",\n",
    "        temperature=0.7,\n",
    "        api_key=api_key,                                    \n",
    "        max_output_tokens=4096,\n",
    "    )"
   ]
  },
  {
   "cell_type": "markdown",
   "id": "4249d899",
   "metadata": {},
   "source": [
    "---"
   ]
  },
  {
   "cell_type": "markdown",
   "id": "2a666912",
   "metadata": {},
   "source": [
    "### **`☆ 프롬프트 템플릿 정의하기`**"
   ]
  },
  {
   "cell_type": "markdown",
   "id": "1e2e5b3c",
   "metadata": {},
   "source": [
    "* **step_1. `리뷰 번역` = `Prompt1`**: 영어로 작성된 리뷰를 한글로 번역\n",
    "  \n",
    "* **step_2. `리뷰 요약` = `Prompt2`**: 번역된 리뷰를 한 문장으로 요약\n",
    "\n",
    "* **step_3. `긍정/부정 점수 평가` = `Prompt3`**: 번역된 리뷰를 바탕으로 0점에서 10점 사이의 점수 매기기\n",
    "\n",
    "* **step_4. `언어 감지` = `Prompt4`**: 원래 리뷰가 작성된 언어 감지\n",
    "  \n",
    "* **step_5. `공손한 답변 생성` = `Prompt5`**: 요약된 리뷰와 감지된 언어 정보를 기반으로 공손한 답변 생성하기\n",
    "\n",
    "* **step_6. `답변 번역` = `Prompt6`**: 생성된 답변 한국어로 번역하기"
   ]
  },
  {
   "cell_type": "code",
   "execution_count": 10,
   "id": "0c74edf5",
   "metadata": {},
   "outputs": [],
   "source": [
    "# --- 프롬프트 템플릿 정의 ---\n",
    "\n",
    "# 프롬프트 1: 리뷰 번역\n",
    "prompt1 = PromptTemplate(\n",
    "    input_variables=['review'],\n",
    "    template=\"다음 숙박 시설 리뷰를 한글로 번역하세요.\\n\\n{review}\"\n",
    ")\n",
    "\n",
    "# 프롬프트 2: 번역된 리뷰 요약\n",
    "prompt2 = PromptTemplate.from_template(\n",
    "    \"다음 숙박 시설 리뷰를 한 문장으로 요약하세요.\\n\\n{translation}\"\n",
    ")\n",
    "\n",
    "# 프롬프트 3: 번역된 리뷰 감성 점수 평가\n",
    "prompt3 = PromptTemplate.from_template(\n",
    "    \"다음 숙박 시설 리뷰를 읽고 0점부터 10점 사이에서 부정/긍정 점수를 매기세요. 숫자만 대답하세요.\\n\\n{translation}\"\n",
    ")\n",
    "\n",
    "# 프롬프트 4: 원본 리뷰 언어 식별\n",
    "prompt4 = PromptTemplate.from_template(\n",
    "    \"다음 숙박 시설 리뷰에 사용된 언어가 무엇인가요? 언어 이름만 답하세요.\\n\\n{review}\"\n",
    ")\n",
    "\n",
    "# 프롬프트 5: 요약에 대한 공손한 답변 생성 (원본 언어 사용)\n",
    "prompt5 = PromptTemplate.from_template(\n",
    "    \"다음 숙박 시설 리뷰 요약에 대해 공손한 답변을 작성하세요.\\n답변 언어:{language}\\n리뷰 요약:{summary}\"\n",
    ")\n",
    "\n",
    "# 프롬프트 6: 생성된 답변을 한국어로 번역\n",
    "prompt6 = PromptTemplate.from_template(\n",
    "    \"다음 생성된 답변을 한국어로 번역해주세요. \\n 리뷰 번역 {reply1}\"\n",
    ")"
   ]
  },
  {
   "cell_type": "code",
   "execution_count": null,
   "id": "1421f4be",
   "metadata": {},
   "outputs": [],
   "source": [
    "print(type(prompt1))                # <class 'langchain_core.prompts.prompt.PromptTemplate'>"
   ]
  },
  {
   "cell_type": "markdown",
   "id": "a75b98f9",
   "metadata": {},
   "source": [
    "---"
   ]
  },
  {
   "cell_type": "markdown",
   "id": "654a3b30",
   "metadata": {},
   "source": [
    "### **`☆ LLM Chain`**"
   ]
  },
  {
   "cell_type": "markdown",
   "id": "e1c03914",
   "metadata": {},
   "source": [
    "* **`프롬프트 템플릿 | LLM | 결과 파서 (StrOutputParser)`**\n",
    "\n",
    "* 여섯 단계를 체인으로 묶어서 처리 **→ `유지보수성`, `확장성`, `성능` 측면에서 가장 효율적인 구조**\n",
    "\n",
    "  * 각 단계의 출력을 그대로 다음 단계의 입력으로 넘김 → 중간 데이터 처리 코드 제거 가능\n",
    "\n",
    "  * 단계별 로그와 예외를 분리 = **`디버깅 용이`**\n",
    "  \n",
    "  * `프롬프트`, `모델`, `파서`를 **모듈처럼 재사용하거나 교체 쉬움**\n",
    "\n",
    "  * 감성 점수, 언어 감지 같은 병렬 브랜치 추가하거나 다국어 답변을 동시에 생성하는 확장도 간단히 수행 가능"
   ]
  },
  {
   "cell_type": "code",
   "execution_count": 16,
   "id": "bbae7773",
   "metadata": {},
   "outputs": [],
   "source": [
    "# --- LCEL을 사용한 체인 구성 요소 정의 ---\n",
    "# gemini ver.\n",
    "\n",
    "# 단계 1: 리뷰 번역 체인\n",
    "translate_chain_component = prompt1 | gemini_lc | StrOutputParser()\n",
    "\n",
    "# 단계 2: 번역된 리뷰 요약 체인\n",
    "summarize_chain_component = prompt2 | gemini_lc | StrOutputParser()\n",
    "\n",
    "# 단계 3: 감성 점수 평가 체인\n",
    "sentiment_score_chain_component = prompt3 | gemini_lc | StrOutputParser()\n",
    "\n",
    "# 단계 4: 언어 식별 체인\n",
    "language_chain_component = prompt4 | gemini_lc | StrOutputParser()\n",
    "\n",
    "# 단계 5: 첫 번째 답변 생성 체인\n",
    "reply1_chain_component = prompt5 | gemini_lc | StrOutputParser()\n",
    "\n",
    "# 단계 6: 두 번째 답변 (한국어 번역) 생성 체인\n",
    "reply2_chain_component = prompt6 | gemini_lc | StrOutputParser()"
   ]
  },
  {
   "cell_type": "markdown",
   "id": "987219ae",
   "metadata": {},
   "source": [
    "* **`RunnablePassthrough.assign` → 리뷰 분석, 응답 생성 과정을 여러 단계로 나눠 연결**\n",
    "\n",
    "<br>\n",
    "\n",
    "* \n",
    "  * **`첫번째 assign`**\n",
    "\n",
    "    * 입력값: `{'review':'원본 리뷰 텍스트'}`\n",
    "\n",
    "    * `review` → `translate_chain_component` → **한글 번역 결과(translation)를 생성**\n",
    "\n",
    "    * 결과: 딕셔너리에 `{'translation':'번역된 텍스트'}`가 추가됨\n",
    "\n",
    "<br>\n",
    "\n",
    "* \n",
    "    * **`두번째 assign`**\n",
    "\n",
    "      * 입력값: `딕셔너리 내 기존 값` + `translation`\n",
    "\n",
    "        * `review` → `language_chain_component` → **언어 판별(language)**\n",
    "\n",
    "        * `translation` → `summarize_chain_component` → **요약 (summary)**\n",
    "        * `translation` → `sentiment_score_chain_component` → **감성 점수 (sentiment_score)**\n",
    "      \n",
    "      * 결과: 딕셔너리에 `summary`, `sentiment_score`, `language` 추가됨\n",
    "      \n",
    "\n",
    "  <br>\n",
    "\n",
    "* \n",
    "    * **`세번째 assign`**\n",
    "\n",
    "      * 입력값: 이전까지 **누적된 값들(특히 `language`, `summary`)**\n",
    "\n",
    "      * 감지된 언어(`language`), 요약(`summary`)을 이용 → `reply1_chain_component` → **첫 번째 답변 (원본 언어, `reply1`) 생성**\n",
    "\n",
    "      * 결과: 딕셔너리에 `reply1` 추가\n",
    "\n",
    "<br>\n",
    "\n",
    "* \n",
    "    * **`네번째 assign`**\n",
    "\n",
    "      * 입력값: 딕셔너리 내 `reply1`\n",
    "\n",
    "      * `reply1` → `reply2_chain_component` → **두 번째 답변 (한국어 번역, `reply2`) 생성**\n",
    "\n",
    "      * 결과: 딕셔너리에 `reply2` 추가\n"
   ]
  },
  {
   "cell_type": "code",
   "execution_count": null,
   "id": "ac8e1857",
   "metadata": {},
   "outputs": [],
   "source": [
    "# --- LCEL을 사용하여 전체 체인 결합 ---\n",
    "# RunnablePassthrough.assign을 사용하여 각 단계의 출력을 다음 단계의 입력으로 전달하고,\n",
    "# 중간 결과들을 딕셔너리에 누적\n",
    "\n",
    "combined_lcel_chain = (\n",
    "    RunnablePassthrough.assign(\n",
    "        # 입력: {'review': '원본 리뷰 텍스트'}\n",
    "        # translate_chain_component는 'review' 키를 사용하여 호출\n",
    "        # 출력: {'review': '...', 'translation': '번역된 텍스트'}\n",
    "        translation=lambda x: translate_chain_component.invoke({\"review\": x[\"review\"]})\n",
    "    )\n",
    "    | RunnablePassthrough.assign(\n",
    "        # 입력: {'review': '...', 'translation': '번역된 텍스트'}\n",
    "        # summarize_chain_component와 sentiment_score_chain_component는 'translation' 키 사용\n",
    "        # language_chain_component는 원본 'review' 키를 사용\n",
    "        # 출력: {'review': '...', 'translation': '...', 'summary': '요약된 텍스트', 'sentiment_score': '감성 점수', 'language': '언어'}\n",
    "        summary=lambda x: summarize_chain_component.invoke({\"translation\": x[\"translation\"]}),\n",
    "        sentiment_score=lambda x: sentiment_score_chain_component.invoke({\"translation\": x[\"translation\"]}),\n",
    "        language=lambda x: language_chain_component.invoke({\"review\": x[\"review\"]})\n",
    "    )\n",
    "    | RunnablePassthrough.assign(\n",
    "        reply1=lambda x: reply1_chain_component.invoke({\"language\": x[\"language\"], \"summary\": x[\"summary\"]})\n",
    "    )\n",
    "    | RunnablePassthrough.assign(\n",
    "        reply2=lambda x: reply2_chain_component.invoke({\"reply1\": x[\"reply1\"]})\n",
    "    )\n",
    ")"
   ]
  },
  {
   "cell_type": "markdown",
   "id": "b9a24d5c",
   "metadata": {},
   "source": [
    "* 람다 함수 설명\n",
    "\n",
    "```python\n",
    "\n",
    "    translation=lambda x: translate_chain_component.invoke({\"review\": x[\"review\"]})\n",
    "\n",
    "```\n",
    "\n",
    "* \n",
    "  * 현재 컨텍스트 딕셔너리 `x`에서 `review` 값을 꺼내 번역 체인을 실행 → **얻은 결과를 `translation` 키로 돌려주는 한 줄짜리 콜백 함수**\n",
    "\n",
    "  * 이후 `RunnablePassthrough.assign()`에 넘김 → 반환 값을 기존 컨텍스트에 합쳐 **새 딕셔너리 만듦**\n",
    "\n",
    "  * 각 단계가 **`필요한 입력 추출 → 하위 체인 호출 → 새로운 키(translation, summary, sentiment_score 등) 자동 추가` 과정을 반복**"
   ]
  },
  {
   "cell_type": "code",
   "execution_count": null,
   "id": "2c1b69b7",
   "metadata": {},
   "outputs": [],
   "source": [
    "# 숙박 시설 리뷰 입력\n",
    "review_text = \"\"\"\n",
    "The hotel was clean and the staff were very helpful.\n",
    "The location was convenient, close to many attractions.\n",
    "However, the room was a bit small and the breakfast options were limited.\n",
    "Overall, a decent stay but there is room for improvement.\n",
    "\"\"\"\n",
    "\n",
    "# 체인 실행 및 결과 출력\n",
    "try:\n",
    "    # .invoke() 메서드에 초기 입력을 딕셔너리 형태로 전달합니다.\n",
    "    result = combined_lcel_chain.invoke(input={'review': review_text})\n",
    "\n",
    "    # 결과 딕셔너리에서 각 키를 사용하여 값을 출력합니다.\n",
    "    print(f'translation 결과: {result.get(\"translation\", \"N/A\")} \\n')\n",
    "    print(f'summary 결과: {result.get(\"summary\", \"N/A\")} \\n')\n",
    "    print(f'sentiment_score 결과: {result.get(\"sentiment_score\", \"N/A\")} \\n')\n",
    "    print(f'language 결과: {result.get(\"language\", \"N/A\")} \\n')\n",
    "    print(f'reply1 결과: {result.get(\"reply1\", \"N/A\")} \\n') \n",
    "    print(f'reply2 결과: {result.get(\"reply2\", \"N/A\")} \\n')\n",
    "except Exception as e:\n",
    "    print(f\"Error: {e}\")"
   ]
  },
  {
   "cell_type": "markdown",
   "id": "9c61bbfd",
   "metadata": {},
   "source": [
    "<small>\n",
    "\n",
    "* 교재 속 답변 (`gpt-3.5-turbo`)\n",
    "\n",
    "    ```markdown\n",
    "\n",
    "    translation 결과: 호텔을 깨끗하고 직원들도 매우 친절했습니다.\n",
    "\n",
    "    위치는 편리했고 많은 관광 명소에 가까웠습니다.\n",
    "    그러나 방은 조금 작았고 아침식사 옵션도 제한적이었습니다.\n",
    "    전반적으로 만족스러운 숙박이었지만 개선할 부분이 있습니다.\n",
    "\n",
    "    summary 결과: 깨끗하고 친절한 호텔, 편리한 위치와 제한적인 아침식사 옵션, 만족스러운 숙박 경험.\n",
    "\n",
    "    sentiment_score 결과: 8\n",
    "\n",
    "    language 결과: 영어\n",
    "\n",
    "    reply 결과: Thank you for taking the time to share your feedback with us. We are delighted to hear that you enjoyed your stay at our clean and friendly hotel, and that our convenient location added to your overall experience. We appreciate your comment about the limited breakfast options and will take this into consideration for future improvements. We hope to welcome you back for another satisfying stay in the future.\n",
    "\n",
    "    reply2 결과: 귀중한 의견을 공유해주셔서 감사합니다. 깨끗하고 친절한 호텔에서 즐거운 숙박을 즐겼다는 소식을 들어 기쁩니다. 편리한 위치가 전체 경험을 더 풍부하게 해 준 것으로 알고 있습니다. 아침식사 옵션이 제한적이라는 의견에 감사드리며, 앞으로의 개선을 위해 고려하겠습니다. 미래에 다시 만족스러운 숙박을 위해 여러분을 다시 맞이하길 바랍니다. \n",
    "    ```\n",
    "\n",
    "\n",
    "---\n",
    "\n",
    "* `gemini-2.5-flash-lite` 답변 (4.6s)\n",
    "\n",
    "    ```markdown\n",
    "    translation 결과: 다음은 숙박 시설 리뷰의 한국어 번역입니다.\n",
    "\n",
    "    호텔은 깨끗했고 직원들은 매우 친절했습니다.\n",
    "    여러 관광지와 가까워 위치가 편리했습니다.\n",
    "    하지만 방이 조금 작았고 아침 식사 메뉴가 제한적이었습니다.\n",
    "    전반적으로 괜찮은 숙박이었지만 개선의 여지가 있습니다. \n",
    "\n",
    "    summary 결과: 이 호텔은 깨끗하고 친절한 직원, 편리한 위치가 장점이지만, 방이 작고 아침 식사 메뉴가 제한적이라는 점은 개선이 필요합니다. \n",
    "\n",
    "    sentiment_score 결과: 7 \n",
    "\n",
    "    language 결과: English \n",
    "\n",
    "    reply1 결과: Sure, here's a polite response to the review summary:\n",
    "\n",
    "    Dear Guest,\n",
    "\n",
    "    Thank you for taking the time to share your feedback with us. We are delighted to hear that you found our hotel to be clean, our staff friendly, and our location convenient. Your positive comments are greatly appreciated.\n",
    "\n",
    "    We also appreciate you bringing to our attention the areas where we can improve. We understand your feedback regarding the size of the rooms and the limited breakfast menu, and we will certainly take this into consideration as we strive to enhance our guest experience.\n",
    "\n",
    "    We hope to have the opportunity to welcome you back to our hotel in the future, and we are confident that we can provide you with an even more enjoyable stay.\n",
    "\n",
    "    Sincerely,\n",
    "    [Your Hotel Name] \n",
    "\n",
    "    reply2 결과: ## 리뷰 번역\n",
    "\n",
    "    **안녕하세요 고객님,**\n",
    "\n",
    "    저희 호텔에 대한 소중한 의견을 공유해주셔서 진심으로 감사드립니다. 저희 호텔이 깨끗하고, 직원들이 친절하며, 위치가 편리하다는 점에 만족하셨다니 매우 기쁩니다. 고객님의 긍정적인 피드백에 깊이 감사드립니다.\n",
    "\n",
    "    또한, 개선할 부분에 대해 알려주신 점도 감사드립니다. 객실 크기와 조식 메뉴의 제한점에 대한 고객님의 의견을 충분히 이해하고 있으며, 저희는 고객 경험 향상을 위해 이 부분을 반드시 고려하도록 하겠습니다.\n",
    "\n",
    "    앞으로도 저희 호텔에 다시 방문해주실 기회가 있기를 바라며, 더욱 즐거운 숙박 경험을 제공해 드릴 수 있다고 확신합니다.\n",
    "\n",
    "    **진심으로,**\n",
    "    **[호텔 이름]**\n",
    "    ```"
   ]
  },
  {
   "cell_type": "markdown",
   "id": "7f432334",
   "metadata": {},
   "source": [
    "---"
   ]
  },
  {
   "cell_type": "markdown",
   "id": "fd8165cf",
   "metadata": {},
   "source": [
    "* 결과 비교"
   ]
  },
  {
   "cell_type": "markdown",
   "id": "12354977",
   "metadata": {},
   "source": [
    "|                    | gpt-3.5-turbo                                                                                                                                                                                                                                                                                                                                                                                                              | gemini-2.5-flash-lite                                                                                                                                                                                                                                                                                                                                                                                                                                                                                                                                                                                                                                                                                                                                                                                                                   |\n",
    "|--------------------|----------------------------------------------------------------------------------------------------------------------------------------------------------------------------------------------------------------------------------------------------------------------------------------------------------------------------------------------------------------------------------------------------------------------------|-----------------------------------------------------------------------------------------------------------------------------------------------------------------------------------------------------------------------------------------------------------------------------------------------------------------------------------------------------------------------------------------------------------------------------------------------------------------------------------------------------------------------------------------------------------------------------------------------------------------------------------------------------------------------------------------------------------------------------------------------------------------------------------------------------------------------------------------|\n",
    "| translation 결과     | 호텔을 깨끗하고 직원들도 매우 친절했습니다. 위치는 편리했고 많은 관광 명소에 가까웠습니다. 그러나 방은 조금 작았고 아침식사 옵션도 제한적이었습니다. 전반적으로 만족스러운 숙박이었지만 개선할 부분이 있습니다.                                                                                                                                                                                                                                                                                                      | 다음은 숙박 시설 리뷰의 한국어 번역입니다. <br>호텔은 깨끗했고 직원들은 매우 친절했습니다. 여러 관광지와 가까워 위치가 편리했습니다. 하지만 방이 조금 작았고 아침 식사 메뉴가 제한적이었습니다. 전반적으로 괜찮은 숙박이었지만 개선의 여지가 있습니다.                                                                                                                                                                                                                                                                                                                                                                                                                                                                                                                                                                                                                                                                                          |\n",
    "| summary 결과         | 깨끗하고 친절한 호텔, 편리한 위치와 제한적인 아침식사 옵션, 만족스러운 숙박 경험.                                                                                                                                                                                                                                                                                                                                                                            | 이 호텔은 깨끗하고 친절한 직원, 편리한 위치가 장점이지만, 방이 작고 아침 식사 메뉴가 제한적이라는 점은 개선이 필요합니다.                                                                                                                                                                                                                                                                                                                                                                                                                                                                                                                                                                                                                                                                                                                                                                  |\n",
    "| sentiment_score 결과 | 8                                                                                                                                                                                                                                                                                                                                                                                                                          | 7                                                                                                                                                                                                                                                                                                                                                                                                                                                                                                                                                                                                                                                                                                                                                                                                                                       |\n",
    "| language 결과        | 영어                                                                                                                                                                                                                                                                                                                                                                                                                         | English                                                                                                                                                                                                                                                                                                                                                                                                                                                                                                                                                                                                                                                                                                                                                                                                                                 |\n",
    "| reply 결과           | Thank you for taking the time to share your feedback with us. We are delighted to hear that you enjoyed your stay at our clean and friendly hotel, and that our convenient location added to your overall experience. We appreciate your comment about the limited breakfast options and will take this into consideration for future improvements. We hope to welcome you back for another satisfying stay in the future. | Sure, here's a polite response to the review summary:<br><br>    Dear Guest,<br><br>    Thank you for taking the time to share your feedback with us. We are delighted to hear that you found our hotel to be clean, our staff friendly, and our location convenient. Your positive comments are greatly appreciated.<br><br>    We also appreciate you bringing to our attention the areas where we can improve. We understand your feedback regarding the size of the rooms and the limited breakfast menu, and we will certainly take this into consideration as we strive to enhance our guest experience.<br><br>    We hope to have the opportunity to welcome you back to our hotel in the future, and we are confident that we can provide you with an even more enjoyable stay.<br><br>    Sincerely,<br>    [Your Hotel Name] |\n",
    "| reply2 결과          | 귀중한 의견을 공유해주셔서 감사합니다. 깨끗하고 친절한 호텔에서 즐거운 숙박을 즐겼다는 소식을 들어 기쁩니다. 편리한 위치가 전체 경험을 더 풍부하게 해 준 것으로 알고 있습니다. 아침식사 옵션이 제한적이라는 의견에 감사드리며, 앞으로의 개선을 위해 고려하겠습니다. 미래에 다시 만족스러운 숙박을 위해 여러분을 다시 맞이하길 바랍니다.                                                                                                                                                                                                                                | ## 리뷰 번역<br><br>    **안녕하세요 고객님,**<br><br>    저희 호텔에 대한 소중한 의견을 공유해주셔서 진심으로 감사드립니다. 저희 호텔이 깨끗하고, 직원들이 친절하며, 위치가 편리하다는 점에 만족하셨다니 매우 기쁩니다. 고객님의 긍정적인 피드백에 깊이 감사드립니다.<br><br>    또한, 개선할 부분에 대해 알려주신 점도 감사드립니다. 객실 크기와 조식 메뉴의 제한점에 대한 고객님의 의견을 충분히 이해하고 있으며, 저희는 고객 경험 향상을 위해 이 부분을 반드시 고려하도록 하겠습니다.<br><br>    앞으로도 저희 호텔에 다시 방문해주실 기회가 있기를 바라며, 더욱 즐거운 숙박 경험을 제공해 드릴 수 있다고 확신합니다.<br><br>    **진심으로,**<br>    **[호텔 이름]**                                                                                                                                                                                                                                                                                                                                                                                                                |\n"
   ]
  },
  {
   "cell_type": "markdown",
   "id": "5dbe4892",
   "metadata": {},
   "source": [
    "---"
   ]
  }
 ],
 "metadata": {
  "kernelspec": {
   "display_name": "lc_env",
   "language": "python",
   "name": "python3"
  },
  "language_info": {
   "codemirror_mode": {
    "name": "ipython",
    "version": 3
   },
   "file_extension": ".py",
   "mimetype": "text/x-python",
   "name": "python",
   "nbconvert_exporter": "python",
   "pygments_lexer": "ipython3",
   "version": "3.13.5"
  }
 },
 "nbformat": 4,
 "nbformat_minor": 5
}
