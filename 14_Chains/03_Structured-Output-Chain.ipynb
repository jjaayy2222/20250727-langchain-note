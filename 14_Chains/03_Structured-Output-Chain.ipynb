{
 "cells": [
  {
   "cell_type": "markdown",
   "id": "ba52bed0",
   "metadata": {},
   "source": [
    "---"
   ]
  },
  {
   "cell_type": "markdown",
   "id": "65001001",
   "metadata": {},
   "source": [
    "* 출처: LangChain 공식 문서 또는 해당 교재명\n",
    "* 원본 URL: https://smith.langchain.com/hub/teddynote/summary-stuff-documents"
   ]
  },
  {
   "cell_type": "markdown",
   "id": "3fb2ea90",
   "metadata": {},
   "source": [
    "---"
   ]
  },
  {
   "cell_type": "markdown",
   "id": "fb18b49c",
   "metadata": {},
   "source": [
    "### **3. `구조화된 출력 체인`** *(`with_structered_output`)*"
   ]
  },
  {
   "cell_type": "markdown",
   "id": "5f936725",
   "metadata": {},
   "source": [
    "#### **1) `구조화된 출력을 사용하는 체인`** *(with_structured_output)*"
   ]
  },
  {
   "cell_type": "markdown",
   "id": "d6638d77",
   "metadata": {},
   "source": [
    "---"
   ]
  },
  {
   "cell_type": "markdown",
   "id": "d763fc98",
   "metadata": {},
   "source": [
    "* **`환경설정`**"
   ]
  },
  {
   "cell_type": "code",
   "execution_count": null,
   "id": "e1ca9302",
   "metadata": {},
   "outputs": [],
   "source": [
    "# API 키를 환경변수로 관리하기 위한 설정 파일\n",
    "from dotenv import load_dotenv\n",
    "\n",
    "# API 키 정보 로드\n",
    "load_dotenv()                           # True"
   ]
  },
  {
   "cell_type": "markdown",
   "id": "363555ca",
   "metadata": {},
   "source": [
    "* **`특정 주제`에 대한 `4지선다형 퀴즈`를 `생성`하는 `과정 구현하기`**\n",
    "\n",
    "  * `Quiz 클래스` = 퀴즈의 `질문`, `난이도`, 그리고 `네 개의 선택지`를 정의함\n",
    "\n",
    "  * `LLM` 인스턴스 = `gemini-2.5-flash-lite` → **`자연어 처리` 수행**\n",
    "\n",
    "  * `ChatPromptTemplate` = `퀴즈 생성`을 위한 `대화형 프롬프트` 정의"
   ]
  },
  {
   "cell_type": "code",
   "execution_count": null,
   "id": "2d6c3d72",
   "metadata": {},
   "outputs": [],
   "source": [
    "from langchain.chains.openai_functions import create_structured_output_runnable\n",
    "from langchain_google_genai import ChatGoogleGenerativeAI\n",
    "from langchain_core.prompts import ChatPromptTemplate\n",
    "from langchain_core.pydantic_v1 import BaseModel, Field\n",
    "from typing import List\n",
    "\n",
    "# Quiz 클래스 정의하기\n",
    "class Quiz(BaseModel):\n",
    "    \"\"\"4지선다형 퀴즈의 정보를 추출합니다\"\"\"\n",
    "\n",
    "    question: str = Field(..., description=\"퀴즈의 질문\")\n",
    "    level: str = Field(\n",
    "        ..., description=\"퀴즈의 난이도를 나타냅니다. (쉬움, 보통, 어려움)\"\n",
    "    )\n",
    "    options: List[str] = Field(..., description=\"퀴즈의 4개의 선택지 입니다.\")"
   ]
  },
  {
   "cell_type": "markdown",
   "id": "301d6330",
   "metadata": {},
   "source": [
    "<small>\n",
    "\n",
    "* `Quiz` 클래스 정의하기 - (`3.9s`)\n",
    "\n",
    "    ```bash\n",
    "\n",
    "    For example, replace imports like: `from langchain_core.pydantic_v1 import BaseModel`\n",
    "    with: `from pydantic import BaseModel`\n",
    "    or the v1 compatibility namespace if you are working in a code base that has not been fully upgraded to pydantic 2 yet. \tfrom pydantic.v1 import BaseModel\n",
    "\n",
    "    exec(code_obj, self.user_global_ns, self.user_ns)\n",
    "\n",
    "    ```"
   ]
  },
  {
   "cell_type": "code",
   "execution_count": null,
   "id": "07429b73",
   "metadata": {},
   "outputs": [],
   "source": [
    "# LLM 생성하기\n",
    "\n",
    "import os\n",
    "from dotenv import load_dotenv\n",
    "\n",
    "# API 키 확인\n",
    "if not os.getenv(\"GOOGLE_API_KEY\"):\n",
    "    os.environ[\"GOOGLE_API_KEY\"] = input(\"Enter your Google API key: \")    \n",
    "    \n",
    "# LLM 초기화\n",
    "gemini_lc = ChatGoogleGenerativeAI(\n",
    "    model=\"gemini-2.5-flash-lite\",            \n",
    "    temperature=0.1,        \n",
    "    max_output_tokens=4096,\n",
    ")"
   ]
  },
  {
   "cell_type": "markdown",
   "id": "b07a3949",
   "metadata": {},
   "source": [
    "<small>\n",
    "\n",
    "* **`gemini-2.5-flash-lite` 설정하기**\n",
    "\n",
    "    ```bash\n",
    "\n",
    "    E0000 00:00:1760245856.780887 4673979 alts_credentials.cc:93] ALTS creds ignored. Not running on GCP and untrusted ALTS is not enabled.\n",
    "\n",
    "    ```"
   ]
  },
  {
   "cell_type": "code",
   "execution_count": null,
   "id": "ed572a9e",
   "metadata": {},
   "outputs": [],
   "source": [
    "# 프롬프트 생성하기\n",
    "prompt = ChatPromptTemplate.from_messages(\n",
    "    [\n",
    "        (\n",
    "            \"system\",\n",
    "            \"You're a world-famous quizzer and generates quizzes in structured formats.\",\n",
    "        ),\n",
    "        (\n",
    "            \"human\",\n",
    "            \"TOPIC 에 제시된 내용과 관련한 4지선다형 퀴즈를 출제해 주세요. 만약, 실제 출제된 기출문제가 있다면 비슷한 문제를 만들어 출제하세요.\"\n",
    "            \"단, 문제에 TOPIC 에 대한 내용이나 정보는 포함하지 마세요. \\nTOPIC:\\n{topic}\",\n",
    "        ),\n",
    "        (\"human\", \"Tip: Make sure to answer in the correct format\"),\n",
    "    ]\n",
    ")"
   ]
  },
  {
   "cell_type": "code",
   "execution_count": null,
   "id": "94ddffbe",
   "metadata": {},
   "outputs": [],
   "source": [
    "# 구조화된 출력을 위한 모델 생성\n",
    "\n",
    "llm_with_structured_output = gemini_lc.with_structured_output(Quiz)"
   ]
  },
  {
   "cell_type": "code",
   "execution_count": null,
   "id": "74302415",
   "metadata": {},
   "outputs": [],
   "source": [
    "# 퀴즈 생성 체인 생성하기\n",
    "\n",
    "chain = prompt | llm_with_structured_output"
   ]
  },
  {
   "cell_type": "code",
   "execution_count": null,
   "id": "be752f72",
   "metadata": {},
   "outputs": [],
   "source": [
    "# 퀴즈 생성 요청해보기\n",
    "\n",
    "generated_quiz = chain.invoke({\"topic\": \"ADSP(데이터 분석 준전문가) 자격 시험\"})"
   ]
  },
  {
   "cell_type": "markdown",
   "id": "7029bc74",
   "metadata": {},
   "source": [
    "<small>\n",
    "\n",
    "* 퀴즈 생성 요청 - (`1.2s`)\n",
    "\n",
    "  * `print(generated_quiz)`\n",
    "\n",
    "    ```bash\n",
    "\n",
    "    question='다음 중 데이터 분석의 주요 단계가 아닌 것은 무엇인가요?' level='쉬움' options=['데이터 수집', '데이터 정제', '모델링', '하드웨어 구매']\n",
    "\n",
    "    ```"
   ]
  },
  {
   "cell_type": "markdown",
   "id": "60e295f2",
   "metadata": {},
   "source": [
    "* **`생성된 퀴즈 출력해보기`**"
   ]
  },
  {
   "cell_type": "code",
   "execution_count": null,
   "id": "2c204547",
   "metadata": {},
   "outputs": [],
   "source": [
    "# 생성된 퀴즈 출력하기\n",
    "\n",
    "print(f\"{generated_quiz.question} (난이도: {generated_quiz.level})\\n\")\n",
    "for i, opt in enumerate(generated_quiz.options):\n",
    "    print(f\"{i+1}) {opt}\")"
   ]
  },
  {
   "cell_type": "markdown",
   "id": "9b259856",
   "metadata": {},
   "source": [
    "<small>\n",
    "\n",
    "* 퀴즈처럼 출력하기\n",
    "\n",
    "    ```markdown\n",
    "\n",
    "    다음 중 데이터 분석의 주요 단계가 아닌 것은 무엇인가요? (난이도: 쉬움)\n",
    "\n",
    "    1) 데이터 수집\n",
    "    2) 데이터 정제\n",
    "    3) 모델링\n",
    "    4) 하드웨어 구매\n",
    "\n",
    "    ```"
   ]
  },
  {
   "cell_type": "markdown",
   "id": "ff55b5e0",
   "metadata": {},
   "source": [
    "---"
   ]
  },
  {
   "cell_type": "markdown",
   "id": "41c17bf0",
   "metadata": {},
   "source": [
    "#### **2) `Structured-Data-Chat`**"
   ]
  },
  {
   "cell_type": "markdown",
   "id": "5e422ef7",
   "metadata": {},
   "source": [
    "* **데이터 로드하기**"
   ]
  },
  {
   "cell_type": "code",
   "execution_count": null,
   "id": "c699b623",
   "metadata": {},
   "outputs": [],
   "source": [
    "import pandas as pd\n",
    "from langchain_core.prompts import ChatPromptTemplate\n",
    "from langchain_experimental.tools import PythonAstREPLTool\n",
    "\n",
    "df = pd.read_csv(\"../14_Chains/data/titanic.csv\")    # 1.2s"
   ]
  },
  {
   "cell_type": "code",
   "execution_count": null,
   "id": "88016af5",
   "metadata": {},
   "outputs": [],
   "source": [
    "# titanic.csv 파일에서 데이터를 읽어와 DataFrame으로 저장하기\n",
    "\n",
    "tool = PythonAstREPLTool(locals={\"df\": df})"
   ]
  },
  {
   "cell_type": "code",
   "execution_count": null,
   "id": "e3173099",
   "metadata": {},
   "outputs": [],
   "source": [
    "# PythonAstREPLTool을 사용하여 로컬 변수 'df'를 포함하는 환경 생성하기\n",
    "tool.invoke(\"df\")"
   ]
  },
  {
   "cell_type": "markdown",
   "id": "5676ddd9",
   "metadata": {},
   "source": [
    "* `tool.invoke(\"df\")` 결과 - (`0.1s`)\n",
    "\n",
    "  * ![`tool.invoke(\"df\") 결과`](../14_Chains/images/tool_invoke_output.png)\n",
    "\n",
    "  * `data` → `csv`로 저장함: [`titanic_data_tool_invoke.csv`](../14_Chains/data/titanic_data_tool_invoke.csv)"
   ]
  },
  {
   "cell_type": "code",
   "execution_count": null,
   "id": "da972173",
   "metadata": {},
   "outputs": [],
   "source": [
    "hello = \"\"\"\n",
    "print(\"Hello, world!\")\n",
    "\n",
    "def add(a, b):\n",
    "    return a + b\n",
    "\n",
    "print(add(30, 40))\n",
    "\n",
    "import pandas as pd\n",
    "\n",
    "df = pd.read_csv(\"./data/titanic.csv\")\n",
    "df.head()\n",
    "\"\"\""
   ]
  },
  {
   "cell_type": "code",
   "execution_count": null,
   "id": "94ce7283",
   "metadata": {},
   "outputs": [],
   "source": [
    "tool = PythonAstREPLTool(locals={\"df\": df})\n",
    "\n",
    "# PythonAstREPLTool 사용 → 로컬 변수 'df'를 포함하는 환경 생성하기\n",
    "tool.invoke(hello)"
   ]
  },
  {
   "cell_type": "markdown",
   "id": "ec5cb539",
   "metadata": {},
   "source": [
    "<small>\n",
    "\n",
    "* `tool.invoke(hello)` - (`0.0s`)\n",
    "\n",
    "  * **`Hello, world!`**\n",
    "  * **`70`**\n",
    "\n",
    "  * ![`tool.invoke(hello)`](../14_Chains/images/tool_invoke_output_2.png)\n",
    "\n",
    "  * `data` → `csv`로 저장함: [`titanic_data_tool_invoke_hello.csv`](../14_Chains/data/titani_data_too_invoke_hello.csv)"
   ]
  },
  {
   "cell_type": "markdown",
   "id": "c4141698",
   "metadata": {},
   "source": [
    "---"
   ]
  },
  {
   "cell_type": "markdown",
   "id": "849aed37",
   "metadata": {},
   "source": [
    "* **`pandas` → `csv` → `DataFrame`으로 로드하기**"
   ]
  },
  {
   "cell_type": "code",
   "execution_count": null,
   "id": "d2543cd7",
   "metadata": {},
   "outputs": [],
   "source": [
    "import pandas as pd\n",
    "\n",
    "# 데이터프레임으로 로드하기\n",
    "df = pd.read_csv(\"../14_Chains/data/titanic.csv\")\n",
    "\n",
    "# 로드된 데이터프레임 일부 확인하기\n",
    "df.head()"
   ]
  },
  {
   "cell_type": "markdown",
   "id": "d65f344b",
   "metadata": {},
   "source": [
    "<small>\n",
    "\n",
    "* `df.head()`\n",
    "\n",
    "  * ![`df.head()`](../14_Chains/images/df_head.png)"
   ]
  },
  {
   "cell_type": "markdown",
   "id": "53745659",
   "metadata": {},
   "source": [
    "* **`Pandas DataFrame Angent`**"
   ]
  },
  {
   "cell_type": "code",
   "execution_count": null,
   "id": "f2f61902",
   "metadata": {},
   "outputs": [],
   "source": [
    "from langchain.agents.agent_types import AgentType\n",
    "from langchain_experimental.agents.agent_toolkits import create_pandas_dataframe_agent\n",
    "from langchain_google_genai import ChatGoogleGenerativeAI\n",
    "from langchain.agents.agent_types import AgentType\n",
    "from langchain.callbacks.base import BaseCallbackHandler\n",
    "\n",
    "# 스트리밍 콜백 클래스 정의\n",
    "class StreamCallback(BaseCallbackHandler):\n",
    "    def on_llm_new_token(self, token: str, **kwargs):\n",
    "        print(token, end=\"\", flush=True)                # 0.2s"
   ]
  },
  {
   "cell_type": "code",
   "execution_count": null,
   "id": "7726b11d",
   "metadata": {},
   "outputs": [],
   "source": [
    "# 에이전트 생성\n",
    "agent = create_pandas_dataframe_agent(\n",
    "    # 모델 정의\n",
    "    ChatGoogleGenerativeAI(\n",
    "        model=\"gemini-2.5-flash-lite\",            \n",
    "        streaming=True,\n",
    "        callbacks=[StreamCallback()],\n",
    "    ),\n",
    "    \n",
    "    # 데이터프레임\n",
    "    df,\n",
    "    \n",
    "    # 추론과정 출력하기\n",
    "    verbose=True,  # 추론과정 출력\n",
    "    \n",
    "    # AgentType.ZERO_SHOT_REACT_DESCRIPTION\n",
    "    agent_type=AgentType.ZERO_SHOT_REACT_DESCRIPTION,\n",
    "    \n",
    "    # 🚨 [해결 방안 추가]: 임의 코드 실행 위험을 감수하고 기능 사용을 허용\n",
    "    allow_dangerous_code=True,\n",
    ")"
   ]
  },
  {
   "cell_type": "markdown",
   "id": "219290cf",
   "metadata": {},
   "source": [
    "<small>\n",
    "\n",
    "* `gemini-2.5-flash-lite`로 `agent` 생성하기\n",
    "\n",
    "    ```bash\n",
    "\n",
    "    E0000 00:00:1760247595.484815 4673979 alts_credentials.cc:93] ALTS creds ignored. Not running on GCP and untrusted ALTS is not enabled.\n",
    "\n",
    "    ```\n",
    "\n",
    "* 추가: **`llow_dangerous_code=True`**"
   ]
  },
  {
   "cell_type": "code",
   "execution_count": null,
   "id": "013e9811",
   "metadata": {},
   "outputs": [],
   "source": [
    "# 질의\n",
    "\n",
    "agent.invoke({\"input\": \"데이터의 행과 열의 갯수는 어떻게 돼?\"})"
   ]
  },
  {
   "cell_type": "markdown",
   "id": "85c283fe",
   "metadata": {},
   "source": [
    "<small>\n",
    "\n",
    "* 과정 출력 - *(`verbose=True`)*\n",
    "\n",
    "    ```markdown\n",
    "\n",
    "    **Entering new AgentExecutor chain...**\n",
    "\n",
    "    Thought: The question asks for the number of rows and columns in the dataframe. I can use the `.shape` attribute of the pandas DataFrame to get this information.\n",
    "\n",
    "    Action: python_repl_ast\n",
    "    \n",
    "    Action Input: print(df.shape) *Thought: The question asks for the number of rows and columns in the dataframe. I can use the `.shape` attribute of the pandas DataFrame to get this information.*\n",
    "    \n",
    "    *Action: python_repl_ast*\n",
    "    \n",
    "    *Action Input: print(df.shape)*\n",
    "    \n",
    "    `df.shape` attribute returns a tuple where the first element is the number of rows and the second element is the number of columns. The observation shows `(891, 12)`, which means there are 891 rows and 12 columns.\n",
    "    \n",
    "    Final Answer: 데이터의 행은 891개이고 열은 12개입니다. **`df.shape` attribute returns a tuple where the first element is the number of rows and the second element is the number of columns. The observation shows `(891, 12)`, which means there are 891 rows and 12 columns.**\n",
    "\n",
    "    **Final Answer: 데이터의 행은 891개이고 열은 12개입니다.**\n",
    "\n",
    "    **Finished chain.**\n",
    "\n",
    "    ```\n",
    "\n",
    "* 최종 결과 - (`1.6s`)\n",
    "\n",
    "    ```python\n",
    "\n",
    "    {'input': '데이터의 행과 열의 갯수는 어떻게 돼?', 'output': '데이터의 행은 891개이고 열은 12개입니다.'}\n",
    "\n",
    "    ```"
   ]
  },
  {
   "cell_type": "code",
   "execution_count": null,
   "id": "0bfb79bd",
   "metadata": {},
   "outputs": [],
   "source": [
    "# 질의_2\n",
    "\n",
    "agent.run(\"남자 승객의 생존율을 어떻게 돼? %로 알려줘\")"
   ]
  },
  {
   "cell_type": "markdown",
   "id": "4118c30f",
   "metadata": {},
   "source": [
    "<small>\n",
    "\n",
    "* 질의_2\n",
    "\n",
    "* 과정 출력 - (`verbose=True`)\n",
    "\n",
    "  ```bash\n",
    "\n",
    "  /var/folders/h3/l7wnkv352kqftv0t8ctl2ld40000gn/T/ipykernel_90413/3819232585.py:3: LangChainDeprecationWarning: The method `Chain.run` was deprecated in langchain 0.1.0 and will be removed in 1.0. Use :meth:`~invoke` instead.\n",
    "    agent.run(\"남자 승객의 생존율을 어떻게 돼? %로 알려줘\")\n",
    "  ```\n",
    "\n",
    "  ```markdown\n",
    "  **Entering new AgentExecutor chain...**\n",
    "  Thought: The question asks for the survival rate of male passengers as a percentage.\n",
    "  To answer this, I need to:\n",
    "  1. Filter the dataframe to include only male passengers.\n",
    "  2. Calculate the number of male passengers who survived.\n",
    "  3. Calculate the total number of male passengers.\n",
    "  4. Divide the number of survivors by the total number of male passengers and multiply by 100 to get the percentage.\n",
    "\n",
    "  I will start by filtering the dataframe for male passengers.\n",
    "  Then I will count the number of survivors within that subset.\n",
    "  Finally, I will calculate the percentage.\n",
    "\n",
    "  First, let's select only the male passengers.\n",
    "  Action: python_repl_ast\n",
    "  Action Input: print(df[df['Sex'] == 'male']['Survived'].value_counts(normalize=True)) *Thought: The question asks for the survival rate of male passengers as a percentage.*\n",
    "  To answer this, I need to:\n",
    "  1. Filter the dataframe to include only male passengers.\n",
    "  2. Calculate the number of male passengers who survived.\n",
    "  3. Calculate the total number of male passengers.\n",
    "  4. Divide the number of survivors by the total number of male passengers and multiply by 100 to get the percentage.\n",
    "\n",
    "  I will start by filtering the dataframe for male passengers.\n",
    "  Then I will count the number of survivors within that subset.\n",
    "  Finally, I will calculate the percentage.\n",
    "\n",
    "  First, let's select only the male passengers.\n",
    "  Action: python_repl_ast\n",
    "  Action Input: print(df[df['Sex'] == 'male']['Survived'].value_counts(normalize=True)) *Survived*\n",
    "  0    0.811092\n",
    "  1    0.188908\n",
    "  Name: proportion, dtype: float64\n",
    "  **The output shows the proportion of male passengers who did not survive (0) and who did survive (1). The proportion of male passengers who survived is 0.188908. To express this as a percentage, I need to multiply by 100.**\n",
    "  Action: python_repl_ast\n",
    "  Action Input: print(df[df['Sex'] == 'male']['Survived'].mean() * 100) **The output shows the proportion of male passengers who did not survive (0) and who did survive (1). The proportion of male passengers who survived is 0.188908. To express this as a percentage, I need to multiply by 100.**\n",
    "  Action: python_repl_ast\n",
    "  Action Input: print(df[df['Sex'] == 'male']['Survived'].mean() * 100) **18.890814558058924**\n",
    "  *The previous action directly calculated the mean of the 'Survived' column for male passengers, which represents the survival rate. Multiplying by 100 converts this to a percentage. The result is 18.890814558058924. I should round this to a reasonable number of decimal places for the final answer.*\n",
    "  Final Answer: 남자 승객의 생존율은 약 18.89%입니다. **The previous action directly calculated the mean of the 'Survived' column for male passengers, which represents the survival rate. Multiplying by 100 converts this to a percentage. The result is 18.890814558058924. I should round this to a reasonable number of decimal places for the final answer.**\n",
    "  **Final Answer: 남자 승객의 생존율은 약 18.89%입니다.**\n",
    "\n",
    "  **Finished chain.**\n",
    "\n",
    "  ```\n",
    "\n",
    "* 최종 결과 - (`2.7s`)\n",
    "\n",
    "  ```markdown\n",
    "\n",
    "  '남자 승객의 생존율은 약 18.89%입니다.'\n",
    "\n",
    "  ```"
   ]
  },
  {
   "cell_type": "code",
   "execution_count": null,
   "id": "70fa701f",
   "metadata": {},
   "outputs": [],
   "source": [
    "# 질의_3\n",
    "\n",
    "agent.run(\n",
    "    \"나이가 15세 이하인 승객중 1,2등급에 탑승한 남자 승객의 생존율은 어떻게 돼? %로 알려줘\"\n",
    ")"
   ]
  },
  {
   "cell_type": "markdown",
   "id": "0f2b12e0",
   "metadata": {},
   "source": [
    "<small>\n",
    "\n",
    "* 질의_3\n",
    "\n",
    "* 과정 출력 (`verbose=True`)\n",
    "\n",
    "   ```markdown\n",
    "\n",
    "   **Entering new AgentExecutor chain...**\n",
    "   Thought: The user is asking for the survival rate of male passengers who are 15 years old or younger and were in first or second class.\n",
    "   To answer this, I need to:\n",
    "   1. Filter the dataframe to include only male passengers.\n",
    "   2. Filter the dataframe to include only passengers aged 15 or younger.\n",
    "   3. Filter the dataframe to include only passengers in Pclass 1 or 2.\n",
    "   4. Calculate the survival rate (mean of the 'Survived' column) for the filtered group.\n",
    "   5. Present the result as a percentage.\n",
    "\n",
    "   Let's start by filtering for male passengers.\n",
    "   Action: python_repl_ast\n",
    "   Action Input: print(df[df['Sex'] == 'male'].head()) *Thought: The user is asking for the survival rate of male passengers who are 15 years old or younger and were in first or second class.*\n",
    "   To answer this, I need to:\n",
    "   1. Filter the dataframe to include only male passengers.\n",
    "   2. Filter the dataframe to include only passengers aged 15 or younger.\n",
    "   3. Filter the dataframe to include only passengers in Pclass 1 or 2.\n",
    "   4. Calculate the survival rate (mean of the 'Survived' column) for the filtered group.\n",
    "   5. Present the result as a percentage.\n",
    "\n",
    "   Let's start by filtering for male passengers.\n",
    "   Action: python_repl_ast\n",
    "   Action Input: print(df[df['Sex'] == 'male'].head()) \n",
    "   PassengerId  Survived  Pclass                            Name   Sex   Age  \\\n",
    "   0            1         0       3         Braund, Mr. Owen Harris  male  22.0   \n",
    "   4            5         0       3        Allen, Mr. William Henry  male  35.0   \n",
    "   5            6         0       3                Moran, Mr. James  male   NaN   \n",
    "   6            7         0       1         McCarthy, Mr. Timothy J  male  54.0   \n",
    "   7            8         0       3  Palsson, Master. Gosta Leonard  male   2.0   \n",
    "\n",
    "      SibSp  Parch     Ticket     Fare Cabin Embarked  \n",
    "   0      1      0  A/5 21171   7.2500   NaN        S  \n",
    "   4      0      0     373450   8.0500   NaN        S  \n",
    "   5      0      0     330877   8.4583   NaN        Q  \n",
    "   6      0      0      17463  51.8625   E46        S  \n",
    "   7      3      1     349909  21.0750   NaN        S  \n",
    "\n",
    "   **Now that I have filtered for male passengers, I need to apply the age and Pclass filters. I will combine these filters in the next step.**\n",
    "\n",
    "   Action: python_repl_ast\n",
    "   Action Input: print(df[(df['Sex'] == 'male') & (df['Age'] <= 15) & (df['Pclass'].isin([1, 2]))]) **Now that I have filtered for male passengers, I need to apply the age and Pclass filters. I will combine these filters in the next step.**\n",
    "\n",
    "   Action: python_repl_ast\n",
    "   Action Input: print(df[(df['Sex'] == 'male') & (df['Age'] <= 15) & (df['Pclass'].isin([1, 2]))]) \n",
    "   \n",
    "   PassengerId  Survived  Pclass                                 Name   Sex  \\\n",
    "   78            79         1       2        Caldwell, Master. Alden Gates  male   \n",
    "   183          184         1       2            Becker, Master. Richard F  male   \n",
    "   193          194         1       2           Navratil, Master. Michel M  male   \n",
    "   305          306         1       1       Allison, Master. Hudson Trevor  male   \n",
    "   340          341         1       2       Navratil, Master. Edmond Roger  male   \n",
    "   407          408         1       2       Richards, Master. William Rowe  male   \n",
    "   445          446         1       1            Dodge, Master. Washington  male   \n",
    "   549          550         1       2       Davies, Master. John Morgan Jr  male   \n",
    "   755          756         1       2            Hamalainen, Master. Viljo  male   \n",
    "   802          803         1       1  Carter, Master. William Thornton II  male   \n",
    "   827          828         1       2                Mallet, Master. Andre  male   \n",
    "   831          832         1       2      Richards, Master. George Sibley  male   \n",
    "\n",
    "         Age  SibSp  Parch           Ticket      Fare    Cabin Embarked  \n",
    "   78    0.83      0      2           248738   29.0000      NaN        S  \n",
    "   183   1.00      2      1           230136   39.0000       F4        S  \n",
    "   193   3.00      1      1           230080   26.0000       F2        S  \n",
    "   305   0.92      1      2           113781  151.5500  C22 C26        S  \n",
    "   340   2.00      1      1           230080   26.0000       F2        S  \n",
    "   407   3.00      1      1            29106   18.7500      NaN        S  \n",
    "   445   4.00      0      2            33638   81.8583      A34        S  \n",
    "   549   8.00      1      1       C.A. 33112   36.7500      NaN        S  \n",
    "   755   0.67      1      1           250649   14.5000      NaN        S  \n",
    "   802  11.00      1      2           113760  120.0000  B96 B98        S  \n",
    "   827   1.00      0      2  S.C./PARIS 2079   37.0042      NaN        C  \n",
    "   831   0.83      1      1            29106   18.7500      NaN        S\n",
    "\n",
    "   *I have successfully filtered the dataframe to include only male passengers aged 15 or younger who were in first or second class. Now I need to calculate the survival rate for this subset of passengers. The survival rate is the mean of the 'Survived' column.*\n",
    "\n",
    "   Action: python_repl_ast\n",
    "\n",
    "   Action Input: print(df[(df['Sex'] == 'male') & (df['Age'] <= 15) & (df['Pclass'].isin([1, 2]))]['Survived'].mean()) **I have successfully filtered the dataframe to include only male passengers aged 15 or younger who were in first or second class. Now I need to calculate the survival rate for this subset of passengers. The survival rate is the mean of the 'Survived' column.**\n",
    "   Action: python_repl_ast\n",
    "   Action Input: print(df[(df['Sex'] == 'male') & (df['Age'] <= 15) & (df['Pclass'].isin([1, 2]))]['Survived'].mean() **The survival rate is 1.0, which means 100%.**\n",
    "   **Final Answer: 100.0**\n",
    "   **The survival rate is 1.0, which means 100%.**\n",
    "   **Final Answer: 100.0**\n",
    "\n",
    "   **Finished chain.**\n",
    "   ```\n",
    "\n",
    "* 최종 결과 - (`3.7s`)\n",
    "\n",
    "   ```python\n",
    "\n",
    "   '100.0'\n",
    "\n",
    "   ```"
   ]
  },
  {
   "cell_type": "code",
   "execution_count": null,
   "id": "657f6c3b",
   "metadata": {},
   "outputs": [],
   "source": [
    "# 질의_4\n",
    "\n",
    "agent.run(\n",
    "    \"Pclass 가 1등급인 승객 중에서 나이가 20세~30세 사이이고, 여성 승객의 생존율은 어떻게 돼? %로 알려줘\"\n",
    ")"
   ]
  },
  {
   "cell_type": "markdown",
   "id": "45566e5e",
   "metadata": {},
   "source": [
    "<small>\n",
    "\n",
    "* 질의_4\n",
    "\n",
    "* 과정 출력 - (`verbose=True`)\n",
    "\n",
    "    ```markdown\n",
    "\n",
    "    **Entering new AgentExecutor chain...**\n",
    "    Thought: The user is asking for the survival rate of female passengers who are in Pclass 1 and whose age is between 20 and 30 (inclusive).\n",
    "    I need to filter the dataframe based on these conditions and then calculate the survival rate.\n",
    "    The survival rate can be calculated as the number of survivors divided by the total number of passengers in the filtered group, multiplied by 100.\n",
    "\n",
    "    Here's the plan:\n",
    "    1. Filter `df` for `Pclass == 1`.\n",
    "    2. From the result, filter for `Sex == 'female'`.\n",
    "    3. From the result, filter for `Age >= 20` and `Age <= 30`.\n",
    "    4. Calculate the mean of the 'Survived' column for the final filtered group. This will give the survival rate as a decimal.\n",
    "    5. Multiply by 100 to get the percentage.\n",
    "\n",
    "    Let's start by filtering for Pclass 1.\n",
    "    Then, I will filter for female passengers.\n",
    "    Then, I will filter for the age range.\n",
    "    Finally, I will calculate the survival rate.\n",
    "    Action: python_repl_ast\n",
    "    Action Input: print(df[(df['Pclass'] == 1) & (df['Sex'] == 'female') & (df['Age'] >= 20) & (df['Age'] <= 30)]['Survived'].mean() * 100) *Thought: The user is asking for the survival rate of female passengers who are in Pclass 1 and whose age is between 20 and 30 (inclusive).*\n",
    "    I need to filter the dataframe based on these conditions and then calculate the survival rate.\n",
    "    The survival rate can be calculated as the number of survivors divided by the total number of passengers in the filtered group, multiplied by 100.\n",
    "\n",
    "    Here's the plan:\n",
    "    6. Filter `df` for `Pclass == 1`.\n",
    "    7. From the result, filter for `Sex == 'female'`.\n",
    "    8. From the result, filter for `Age >= 20` and `Age <= 30`.\n",
    "    9. Calculate the mean of the 'Survived' column for the final filtered group. This will give the survival rate as a decimal.\n",
    "    10. Multiply by 100 to get the percentage.\n",
    "\n",
    "    Let's start by filtering for Pclass 1.\n",
    "    Then, I will filter for female passengers.\n",
    "    Then, I will filter for the age range.\n",
    "    Finally, I will calculate the survival rate.\n",
    "    Action: python_repl_ast\n",
    "    Action Input: print(df[(df['Pclass'] == 1) & (df['Sex'] == 'female') & (df['Age'] >= 20) & (df['Age'] <= 30)]['Survived'].mean() * 100) **95.23809523809523**\n",
    "    *The observation shows the survival rate as a percentage. The question asks for the survival rate as a percentage. Therefore, I have the final answer.*\n",
    "    **Final Answer: 95.23809523809523%** **The observation shows the survival rate as a percentage. The question asks for the survival rate as a percentage. Therefore, I have the final answer.**\n",
    "    **Final Answer: 95.23809523809523%**\n",
    "\n",
    "    **Finished chain.**\n",
    "\n",
    "    ```\n",
    "\n",
    "* 최종 결과 - (`2.5s`)\n",
    "\n",
    "    ```python\n",
    "\n",
    "    '95.23809523809523%'\n",
    "\n",
    "    ```"
   ]
  },
  {
   "cell_type": "markdown",
   "id": "220545ed",
   "metadata": {},
   "source": [
    "---"
   ]
  },
  {
   "cell_type": "markdown",
   "id": "0a800957",
   "metadata": {},
   "source": [
    "#### **3) `2개 이상의 DataFrame`**"
   ]
  },
  {
   "cell_type": "markdown",
   "id": "7aaf8f23",
   "metadata": {},
   "source": [
    "* **`2개 이상의 DataFrame에 기반한 LLM 기반 질의 가능`**\n",
    "\n",
    "  * *2개 이상의 DataFrame 입력 시 `[]`로 묶어주면 됨*"
   ]
  },
  {
   "cell_type": "code",
   "execution_count": null,
   "id": "537c9e3d",
   "metadata": {},
   "outputs": [],
   "source": [
    "# 샘플 데이터프레임 생성해보기\n",
    "\n",
    "df1 = df.copy()\n",
    "df1 = df1.fillna(0)\n",
    "df1.head()"
   ]
  },
  {
   "cell_type": "markdown",
   "id": "9368251b",
   "metadata": {},
   "source": [
    "<small>\n",
    "\n",
    "* `df1.head()` - (`0.1s`)\n",
    "\n",
    "  * ![`df1.head()`](../14_Chains/images/df_head_2.png)"
   ]
  },
  {
   "cell_type": "code",
   "execution_count": null,
   "id": "e0836bd2",
   "metadata": {},
   "outputs": [],
   "source": [
    "# 에이전트 생성_2\n",
    "agent = create_pandas_dataframe_agent(\n",
    "    # 모델 정의\n",
    "    ChatGoogleGenerativeAI(\n",
    "        model=\"gemini-2.5-flash-lite\",            \n",
    "        streaming=True,\n",
    "        callbacks=[StreamCallback()],\n",
    "    ),\n",
    "    \n",
    "    # 데이터프레임\n",
    "    df,\n",
    "    \n",
    "    # 추론과정 출력하기\n",
    "    verbose=True,  # 추론과정 출력\n",
    "    \n",
    "    # AgentType.ZERO_SHOT_REACT_DESCRIPTION\n",
    "    agent_type=AgentType.ZERO_SHOT_REACT_DESCRIPTION,\n",
    "    \n",
    "    # 🚨 [해결 방안 추가]: 임의 코드 실행 위험을 감수하고 기능 사용을 허용\n",
    "    allow_dangerous_code=True,\n",
    ")"
   ]
  },
  {
   "cell_type": "markdown",
   "id": "3a709197",
   "metadata": {},
   "source": [
    "<small>\n",
    "\n",
    "* `agent` 생성하기\n",
    "\n",
    "    ```bash\n",
    "\n",
    "    E0000 00:00:1760249015.026490 4673979 alts_credentials.cc:93] ALTS creds ignored. Not running on GCP and untrusted ALTS is not enabled.\n",
    "\n",
    "    ```"
   ]
  },
  {
   "cell_type": "code",
   "execution_count": null,
   "id": "6a98afa6",
   "metadata": {},
   "outputs": [],
   "source": [
    "# 질의해보기\n",
    "\n",
    "agent.invoke({\"input\": \"나이 컬럼의 나이의 평균차이는 어떻게 돼? %로 구해줘.\"})"
   ]
  },
  {
   "cell_type": "markdown",
   "id": "64dc53ce",
   "metadata": {},
   "source": [
    "<small>\n",
    "\n",
    "* 과정 출력하기 - (`verbose=True`)\n",
    "\n",
    "    ```markdown\n",
    "\n",
    "    **Entering new AgentExecutor chain...**\n",
    "    Thought: The user is asking for the average difference in age, expressed as a percentage. This is a bit ambiguous. \"Average difference\" could mean the difference between the mean and median age, or the average absolute difference between each age and the mean age, or something else. Given the ambiguity, I will interpret this as the percentage difference between the mean and median age, as this is a common way to assess skewness in a distribution. If this is not what the user intended, they can clarify.\n",
    "\n",
    "    First, I need to calculate the mean and median of the 'Age' column.\n",
    "    Then, I will calculate the absolute difference between the mean and median.\n",
    "    Finally, I will express this difference as a percentage of the mean age.\n",
    "    Action: python_repl_ast\n",
    "    Action Input: print(df['Age'].mean()) *Thought: The user is asking for the average difference in age, expressed as a percentage. This is a bit ambiguous. \"Average difference\" could mean the difference between the mean and median age, or the average absolute difference between each age and the mean age, or something else. Given the ambiguity, I will interpret this as the percentage difference between the mean and median age, as this is a common way to assess skewness in a distribution. If this is not what the user intended, they can clarify.*\n",
    "\n",
    "    First, I need to calculate the mean and median of the 'Age' column.\n",
    "    Then, I will calculate the absolute difference between the mean and median.\n",
    "    Finally, I will express this difference as a percentage of the mean age.\n",
    "    Action: python_repl_ast\n",
    "    Action Input: print(df['Age'].mean()) **29.69911764705882**\n",
    "    *I have calculated the mean of the 'Age' column. Now I need to calculate the median of the 'Age' column.*\n",
    "    Action: python_repl_ast\n",
    "    Action Input: print(df['Age'].median()) **I have calculated the mean of the 'Age' column. Now I need to calculate the median of the 'Age' column.**\n",
    "    Action: python_repl_ast\n",
    "    Action Input: print(df['Age'].median()) **28.0**\n",
    "    *I have the mean (29.699) and median (28.0) of the 'Age' column.*\n",
    "    Now I need to calculate the absolute difference between the mean and median, and then express this difference as a percentage of the mean age.\n",
    "\n",
    "    Absolute difference = |mean - median|\n",
    "    Percentage difference = (Absolute difference / mean) * 100\n",
    "    Action: python_repl_ast\n",
    "    Action Input: print(abs(29.69911764705882 - 28.0) / 29.69911764705882 * 100) **I have the mean (29.699) and median (28.0) of the 'Age' column.**\n",
    "    Now I need to calculate the absolute difference between the mean and median, and then express this difference as a percentage of the mean age.\n",
    "\n",
    "    Absolute difference = |mean - median|\n",
    "    Percentage difference = (Absolute difference / mean) * 100\n",
    "    Action: python_repl_ast\n",
    "    Action Input: print(abs(29.69911764705882 - 28.0) / 29.69911764705882 * 100 **5.72110480604493**\n",
    "    *I have calculated the mean age, the median age, and the percentage difference between them. The percentage difference is approximately 5.72%.*\n",
    "    **Final Answer: 나이 컬럼의 평균과 중앙값의 차이는 평균값의 약 5.72% 입니다.**\n",
    "    **I have calculated the mean age, the median age, and the percentage difference between them. The percentage difference is approximately 5.72%.**\n",
    "    **Final Answer: 나이 컬럼의 평균과 중앙값의 차이는 평균값의 약 5.72% 입니다.**\n",
    "\n",
    "    **Finished chain.**\n",
    "\n",
    "    ```\n",
    "\n",
    "* 최종 결과물 - (`3.9s`)\n",
    "\n",
    "    ```python\n",
    "\n",
    "    {'input': '나이 컬럼의 나이의 평균차이는 어떻게 돼? %로 구해줘.',\n",
    "    'output': '나이 컬럼의 평균과 중앙값의 차이는 평균값의 약 5.72% 입니다.'}\n",
    "\n",
    "    ```"
   ]
  },
  {
   "cell_type": "markdown",
   "id": "009251c4",
   "metadata": {},
   "source": [
    "---"
   ]
  },
  {
   "cell_type": "markdown",
   "id": "0b7626d2",
   "metadata": {},
   "source": [
    "* next: ***`CH15 평가 (Evaluations)`***"
   ]
  },
  {
   "cell_type": "markdown",
   "id": "f2f4de16",
   "metadata": {},
   "source": [
    "---"
   ]
  }
 ],
 "metadata": {
  "kernelspec": {
   "display_name": "lc_env",
   "language": "python",
   "name": "python3"
  },
  "language_info": {
   "codemirror_mode": {
    "name": "ipython",
    "version": 3
   },
   "file_extension": ".py",
   "mimetype": "text/x-python",
   "name": "python",
   "nbconvert_exporter": "python",
   "pygments_lexer": "ipython3",
   "version": "3.13.5"
  }
 },
 "nbformat": 4,
 "nbformat_minor": 5
}
