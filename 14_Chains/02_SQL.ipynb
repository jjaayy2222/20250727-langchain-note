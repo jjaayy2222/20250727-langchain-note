{
 "cells": [
  {
   "cell_type": "markdown",
   "id": "ba52bed0",
   "metadata": {},
   "source": [
    "---"
   ]
  },
  {
   "cell_type": "markdown",
   "id": "65001001",
   "metadata": {},
   "source": [
    "* 출처: LangChain 공식 문서 또는 해당 교재명\n",
    "* 원본 URL: https://smith.langchain.com/hub/teddynote/summary-stuff-documents"
   ]
  },
  {
   "cell_type": "markdown",
   "id": "3fb2ea90",
   "metadata": {},
   "source": [
    "---"
   ]
  },
  {
   "cell_type": "markdown",
   "id": "fb18b49c",
   "metadata": {},
   "source": [
    "### **2. `SQL`**"
   ]
  },
  {
   "cell_type": "markdown",
   "id": "5f936725",
   "metadata": {},
   "source": [
    "#### **1) `SQL`**"
   ]
  },
  {
   "cell_type": "markdown",
   "id": "db6ede17",
   "metadata": {},
   "source": [
    "* 주요 개요\n",
    "\n",
    "  * **a. `create_sql_query_chain`** 을 활용 → `chain` 생성 → `SQL` 쿼리 생성 & 실행 → 답변 도출\n",
    "\n",
    "  * **b. `SQL Agent`**"
   ]
  },
  {
   "cell_type": "markdown",
   "id": "d6638d77",
   "metadata": {},
   "source": [
    "---"
   ]
  },
  {
   "cell_type": "markdown",
   "id": "d763fc98",
   "metadata": {},
   "source": [
    "* **`환경설정`**"
   ]
  },
  {
   "cell_type": "code",
   "execution_count": null,
   "id": "e1ca9302",
   "metadata": {},
   "outputs": [],
   "source": [
    "# API 키를 환경변수로 관리하기 위한 설정 파일\n",
    "from dotenv import load_dotenv\n",
    "\n",
    "# API 키 정보 로드\n",
    "load_dotenv()                           # True"
   ]
  },
  {
   "cell_type": "markdown",
   "id": "403df77a",
   "metadata": {},
   "source": [
    "---"
   ]
  },
  {
   "cell_type": "markdown",
   "id": "386e9802",
   "metadata": {},
   "source": [
    "#### **2) `create_sql_query_chain`**"
   ]
  },
  {
   "cell_type": "markdown",
   "id": "363555ca",
   "metadata": {},
   "source": [
    "* **`SQL Database 정보 로드하기`**"
   ]
  },
  {
   "cell_type": "code",
   "execution_count": null,
   "id": "fb251cba",
   "metadata": {},
   "outputs": [],
   "source": [
    "from langchain_google_genai import ChatGoogleGenerativeAI\n",
    "from langchain.chains import create_sql_query_chain\n",
    "from langchain_community.utilities import SQLDatabase\n",
    "\n",
    "# SQLite 데이터베이스에 연결하기\n",
    "db = SQLDatabase.from_uri(\"sqlite:///data/finance.db\")\n",
    "\n",
    "# 데이터베이스의 사용 연결 확인하기\n",
    "print(db.dialect)\n",
    "\n",
    "# 사용 가능한 테이블 이름들을 출력하기\n",
    "print(db.get_usable_table_names())\n",
    "\n",
    "# 데이터베이스 연결 확인하기\n",
    "print(\"데이터베이스 연결 완료\")"
   ]
  },
  {
   "cell_type": "markdown",
   "id": "2185c380",
   "metadata": {},
   "source": [
    "<small>\n",
    "\n",
    "* `sqlite`\n",
    "\n",
    "```python\n",
    "\n",
    "    ['accounts', 'customers', 'transactions']\n",
    "\n",
    "```\n",
    "\n",
    "* 데이터베이스 연결 완료"
   ]
  },
  {
   "cell_type": "markdown",
   "id": "bbb2c9c4",
   "metadata": {},
   "source": [
    "* **`LLM` 객체 생성 → `LLM` + `DB`를 매개변수로 입력 → `chain` 생성하기**"
   ]
  },
  {
   "cell_type": "code",
   "execution_count": null,
   "id": "b0624093",
   "metadata": {},
   "outputs": [],
   "source": [
    "# LLM 생성하기\n",
    "\n",
    "import os\n",
    "from dotenv import load_dotenv\n",
    "\n",
    "# API 키 확인\n",
    "if not os.getenv(\"GOOGLE_API_KEY\"):\n",
    "    os.environ[\"GOOGLE_API_KEY\"] = input(\"Enter your Google API key: \")    \n",
    "    \n",
    "# LLM 초기화\n",
    "gemini_lc = ChatGoogleGenerativeAI(\n",
    "    model=\"gemini-2.5-flash-lite\",            \n",
    "    temperature=0,                                              # temperature = 0으로 설정              \n",
    "    max_output_tokens=4096,\n",
    ")"
   ]
  },
  {
   "cell_type": "markdown",
   "id": "9c5c3e40",
   "metadata": {},
   "source": [
    "<small>\n",
    "\n",
    "* `gemini-2.5-flash-lite` 생성하기\n",
    "\n",
    "    ```bash\n",
    "\n",
    "    E0000 00:00:1760243592.183319 4613744 alts_credentials.cc:93] ALTS creds ignored. Not running on GCP and untrusted ALTS is not enabled.\n",
    "\n",
    "    ```"
   ]
  },
  {
   "cell_type": "code",
   "execution_count": null,
   "id": "7b4eca11",
   "metadata": {},
   "outputs": [],
   "source": [
    "# LLM + DB 를 매개변수로 입력 → chain을 생성하기\n",
    "\n",
    "chain = create_sql_query_chain(gemini_lc, db)"
   ]
  },
  {
   "cell_type": "markdown",
   "id": "ac2155f8",
   "metadata": {},
   "source": [
    "* *(Optional) 아래의 방식으로 `Prompt`를 직접 지정 가능*\n",
    "\n",
    "  * *직접 작성시 `table_info`와 더불어 설명가능한 `column description`을 추가할 수 있음*"
   ]
  },
  {
   "cell_type": "code",
   "execution_count": null,
   "id": "7b52dc04",
   "metadata": {},
   "outputs": [],
   "source": [
    "from langchain_core.prompts import PromptTemplate\n",
    "\n",
    "# 프롬프트 직접 지정하기\n",
    "\n",
    "prompt = PromptTemplate.from_template(\n",
    "    \"\"\"Given an input question, first create a syntactically correct {dialect} query to run, then look at the results of the query and return the answer. Unless the user specifies in his question a specific number of examples he wishes to obtain, always limit your query to at most {top_k} results. You can order the results by a relevant column to return the most interesting examples in the database.\n",
    "Use the following format:\n",
    "\n",
    "Question: \"Question here\"\n",
    "SQLQuery: \"SQL Query to run\"\n",
    "SQLResult: \"Result of the SQLQuery\"\n",
    "Answer: \"Final answer here\"\n",
    "\n",
    "Only use the following tables:\n",
    "{table_info}\n",
    "\n",
    "Here is the description of the columns in the tables:\n",
    "`cust`: customer name\n",
    "`prod`: product name\n",
    "`trans`: transaction date\n",
    "\n",
    "Question: {input}\"\"\"\n",
    ").partial(dialect=db.dialect)"
   ]
  },
  {
   "cell_type": "code",
   "execution_count": null,
   "id": "e54170a7",
   "metadata": {},
   "outputs": [],
   "source": [
    "# LLM + DB 를 매개변수로 입력 → chain을 생성하기\n",
    "\n",
    "chain_2 = create_sql_query_chain(gemini_lc, db, prompt)"
   ]
  },
  {
   "cell_type": "markdown",
   "id": "e229f0c4",
   "metadata": {},
   "source": [
    "* **`chain_2` 실행 → `DB`기반 → `쿼리` 생성하기**"
   ]
  },
  {
   "cell_type": "code",
   "execution_count": null,
   "id": "b4540c7c",
   "metadata": {},
   "outputs": [],
   "source": [
    "# chain_2 실행 → 결과 출력해보기\n",
    "\n",
    "generated_sql_query = chain_2.invoke({\"question\": \"고객의 이름을 나열하세요\"})"
   ]
  },
  {
   "cell_type": "code",
   "execution_count": null,
   "id": "573ba537",
   "metadata": {},
   "outputs": [],
   "source": [
    "# 생성된 쿼리 출력하기\n",
    "\n",
    "print(generated_sql_query.__repr__())"
   ]
  },
  {
   "cell_type": "markdown",
   "id": "e106594b",
   "metadata": {},
   "source": [
    "<small>\n",
    "\n",
    "* **`'SELECT name FROM customers'`** - (`0.8s`)"
   ]
  },
  {
   "cell_type": "markdown",
   "id": "979087df",
   "metadata": {},
   "source": [
    "* **`생성한 쿼리가 맞게 동작하는지 확인해보기`**"
   ]
  },
  {
   "cell_type": "code",
   "execution_count": null,
   "id": "eaa77acf",
   "metadata": {},
   "outputs": [],
   "source": [
    "from langchain_community.tools.sql_database.tool import QuerySQLDataBaseTool\n",
    "\n",
    "# 생성한 쿼리를 실행하기 위한 도구를 생성해보기\n",
    "execute_query = QuerySQLDataBaseTool(db=db)"
   ]
  },
  {
   "cell_type": "markdown",
   "id": "c615381a",
   "metadata": {},
   "source": [
    "<small>\n",
    "\n",
    "* `생성한 쿼리를 실행하기 위한 도구 생성하기`\n",
    "\n",
    "    ```bash\n",
    "\n",
    "    /var/folders/h3/l7wnkv352kqftv0t8ctl2ld40000gn/T/ipykernel_87702/45556421.py:4: LangChainDeprecationWarning: The class `QuerySQLDataBaseTool` was deprecated in LangChain 0.3.12 and will be removed in 1.0. An updated version of the class exists in the :class:`~langchain-community package and should be used instead. To use it run `pip install -U :class:`~langchain-community` and import as `from :class:`~langchain_community.tools import QuerySQLDatabaseTool``.\n",
    "    execute_query = QuerySQLDataBaseTool(db=db)\n",
    "\n",
    "    ```"
   ]
  },
  {
   "cell_type": "code",
   "execution_count": null,
   "id": "98c5ba33",
   "metadata": {},
   "outputs": [],
   "source": [
    "execute_query.invoke({\"query\": generated_sql_query})"
   ]
  },
  {
   "cell_type": "markdown",
   "id": "9e18c592",
   "metadata": {},
   "source": [
    "<small>\n",
    "\n",
    "* **`생한 쿼리 실행하기 위한 도구 생성`**\n",
    "\n",
    "    ```python\n",
    "\n",
    "    \"[('테디',), ('폴',), ('셜리',), ('민수',), ('지영',), ('은정',)]\"\n",
    "\n",
    "    ```"
   ]
  },
  {
   "cell_type": "code",
   "execution_count": null,
   "id": "00e97c18",
   "metadata": {},
   "outputs": [],
   "source": [
    "from langchain_community.tools.sql_database.tool import QuerySQLDataBaseTool\n",
    "\n",
    "# 도구\n",
    "execute_query = QuerySQLDataBaseTool(db=db)\n",
    "\n",
    "# SQL 쿼리 생성 체인\n",
    "write_query = create_sql_query_chain(gemini_lc, db)\n",
    "\n",
    "# 생성한 쿼리를 실행하기 위한 체인을 생성하기\n",
    "chain_3 = write_query | execute_query"
   ]
  },
  {
   "cell_type": "code",
   "execution_count": null,
   "id": "4c393310",
   "metadata": {},
   "outputs": [],
   "source": [
    "# 실행 결과 확인하기\n",
    "\n",
    "chain_3.invoke({\"question\": \"테디의 이메일을 조회하세요\"})"
   ]
  },
  {
   "cell_type": "markdown",
   "id": "a640498f",
   "metadata": {},
   "source": [
    "<small>\n",
    "\n",
    "* **`\"[('teddy@example.com',)]\"`** - (`0.8s`)"
   ]
  },
  {
   "cell_type": "markdown",
   "id": "b642efe7",
   "metadata": {},
   "source": [
    "---"
   ]
  },
  {
   "cell_type": "markdown",
   "id": "303faf9a",
   "metadata": {},
   "source": [
    "#### **2) 답변을 `LLM`으로 증강-생성**"
   ]
  },
  {
   "cell_type": "markdown",
   "id": "110d56ae",
   "metadata": {},
   "source": [
    "* `이전` 단계에서 `생성`한 `chain`을 사용 → 답변 = `단답형 형식`으로 출력\n",
    "\n",
    "* 이를 **`LCEL`** 문법의 `체인`으로 `좀 더 자연스러운 답변`을 받을 수 있도록 조정 가능"
   ]
  },
  {
   "cell_type": "code",
   "execution_count": null,
   "id": "57a13f9f",
   "metadata": {},
   "outputs": [],
   "source": [
    "from operator import itemgetter\n",
    "from langchain_core.output_parsers import StrOutputParser\n",
    "from langchain_core.prompts import PromptTemplate\n",
    "from langchain_core.runnables import RunnablePassthrough\n",
    "\n",
    "answer_prompt = PromptTemplate.from_template(\n",
    "    \"\"\"Given the following user question, corresponding SQL query, and SQL result, answer the user question.\n",
    "\n",
    "Question: {question}\n",
    "SQL Query: {query}\n",
    "SQL Result: {result}\n",
    "Answer: \"\"\"\n",
    ")\n",
    "\n",
    "answer = answer_prompt | gemini_lc | StrOutputParser()"
   ]
  },
  {
   "cell_type": "code",
   "execution_count": null,
   "metadata": {},
   "outputs": [],
   "source": [
    "# 생성한 쿼리를 실행 → 결과를 출력하기 위한 체인 생성하기\n",
    "chain_5 = (\n",
    "    RunnablePassthrough.assign(query=write_query).assign(\n",
    "        result=itemgetter(\"query\") | execute_query\n",
    "    )\n",
    "    | answer\n",
    ")"
   ]
  },
  {
   "cell_type": "code",
   "execution_count": null,
   "metadata": {},
   "outputs": [],
   "source": [
    "# 실행 결과 확인해보기\n",
    "\n",
    "chain_5.invoke({\"question\": \"테디의 transaction 의 합계를 구하세요\"})"
   ]
  },
  {
   "cell_type": "markdown",
   "id": "c2f60299",
   "metadata": {},
   "source": [
    "<small>\n",
    "\n",
    "* **`'테디의 transaction 합계는 -965.7입니다.'`** - (`1.3s`)"
   ]
  },
  {
   "cell_type": "markdown",
   "id": "d0934646",
   "metadata": {},
   "source": [
    "---"
   ]
  },
  {
   "cell_type": "markdown",
   "id": "41a7c336",
   "metadata": {},
   "source": [
    "#### **3) `Agent`**"
   ]
  },
  {
   "cell_type": "markdown",
   "id": "63e1b4c8",
   "metadata": {},
   "source": [
    "* **`Agent` 활용 → `Sql` `쿼리` 생성 → `실행 결과`를 답변 → `출력` 가능**"
   ]
  },
  {
   "cell_type": "code",
   "execution_count": null,
   "metadata": {},
   "outputs": [],
   "source": [
    "from langchain_google_genai import ChatGoogleGenerativeAI\n",
    "from langchain_community.utilities import SQLDatabase\n",
    "from langchain_community.agent_toolkits import create_sql_agent\n",
    "\n",
    "import os\n",
    "from dotenv import load_dotenv\n",
    "\n",
    "# API 키 확인\n",
    "if not os.getenv(\"GOOGLE_API_KEY\"):\n",
    "    os.environ[\"GOOGLE_API_KEY\"] = input(\"Enter your Google API key: \")    \n",
    "    \n",
    "# LLM 초기화\n",
    "gemini_lc = ChatGoogleGenerativeAI(\n",
    "    model=\"gemini-2.5-flash\",            \n",
    "    temperature=0,                                              # temperature = 0으로 설정              \n",
    "    max_output_tokens=4096,\n",
    ")"
   ]
  },
  {
   "cell_type": "markdown",
   "id": "5d89b2a9",
   "metadata": {},
   "source": [
    "<small>\n",
    "\n",
    "* `gemini-2.5-flash-lite`\n",
    "\n",
    "    ```bash\n",
    "\n",
    "    E0000 00:00:1760244495.123340 4613744 alts_credentials.cc:93] ALTS creds ignored. Not running on GCP and untrusted ALTS is not enabled.\n",
    "\n",
    "    ```"
   ]
  },
  {
   "cell_type": "code",
   "execution_count": null,
   "metadata": {},
   "outputs": [],
   "source": [
    "# SQLite 데이터베이스에 연결하기\n",
    "db_2 = SQLDatabase.from_uri(\"sqlite:///data/finance.db\")"
   ]
  },
  {
   "cell_type": "code",
   "execution_count": null,
   "id": "e26f2b05",
   "metadata": {},
   "outputs": [],
   "source": [
    "# Agent 생성\n",
    "# agent_type 변경함\n",
    "# 이 타입은 Gemini 모델의 도구 사용 능력(Function Calling)을 최적으로 활용함\n",
    "\n",
    "agent_executor = create_sql_agent(\n",
    "    llm=gemini_lc,             \n",
    "    db=db_2,                   \n",
    "    agent_type=\"tool-calling\",\n",
    "    verbose=True                                        # 에이전트의 사고 과정을 출력함\n",
    ")"
   ]
  },
  {
   "cell_type": "code",
   "execution_count": null,
   "id": "1ac26ca5",
   "metadata": {},
   "outputs": [],
   "source": [
    "# 실행 결과 확인\n",
    "\n",
    "agent_executor.invoke(\n",
    "    {\"input\": \"테디와 셜리의 transaction 의 합계를 구하고 비교하세요\"}\n",
    ")"
   ]
  },
  {
   "cell_type": "markdown",
   "id": "65d2128c",
   "metadata": {},
   "source": [
    "<small>\n",
    "\n",
    "* **`Agent` 활용한 실행 결과 확인하기** - (`21.0s`)\n",
    "  \n",
    "  * 과정 - *`verbose=True`*\n",
    "\n",
    "    ```bash\n",
    "\n",
    "    **Entering new SQL Agent Executor chain...**\n",
    "    \n",
    "    *Invoking: `sql_db_list_tables` with `{}`*\n",
    "    *responded:  Finally, I will construct a query to sum the transactions for Teddy and Shirley and compare them.*\n",
    "\n",
    "\n",
    "    **accounts, customers, transactions**\n",
    "    *Invoking: `sql_db_schema` with `{'table_names': 'customers, transactions'}`*\n",
    "\n",
    "\n",
    "    \n",
    "    CREATE TABLE customers (\n",
    "        customer_id INTEGER, \n",
    "        name TEXT, \n",
    "        age INTEGER, \n",
    "        email TEXT, \n",
    "        PRIMARY KEY (customer_id)\n",
    "    )\n",
    "\n",
    "    /*\n",
    "    3 rows from customers table:\n",
    "    customer_id\tname\tage\temail\n",
    "    1\t테디\t30\tteddy@example.com\n",
    "    2\t폴\t40\tpaul@example.com\n",
    "    3\t셜리\t25\tshirley@example.com\n",
    "    */\n",
    "\n",
    "\n",
    "    CREATE TABLE transactions (\n",
    "        transaction_id INTEGER, \n",
    "        account_id INTEGER, \n",
    "        amount REAL, \n",
    "        transaction_date TEXT, \n",
    "        PRIMARY KEY (transaction_id), \n",
    "        FOREIGN KEY(account_id) REFERENCES accounts (account_id)\n",
    "    )\n",
    "\n",
    "    /*\n",
    "    3 rows from transactions table:\n",
    "    transaction_id\taccount_id\tamount\ttransaction_date\n",
    "    1\t1\t74.79\t2024-07-13\n",
    "    2\t1\t-224.1\t2024-05-13\n",
    "    3\t1\t-128.9\t2024-01-25\n",
    "    */\n",
    "    \n",
    "    *Invoking: `sql_db_schema` with `{'table_names': 'accounts'}`*\n",
    "\n",
    "\n",
    "    \n",
    "    CREATE TABLE accounts (\n",
    "        account_id INTEGER, \n",
    "        customer_id INTEGER, \n",
    "        balance REAL, \n",
    "        PRIMARY KEY (account_id), \n",
    "        FOREIGN KEY(customer_id) REFERENCES customers (customer_id)\n",
    "    )\n",
    "\n",
    "    /*\n",
    "    3 rows from accounts table:\n",
    "    account_id\tcustomer_id\tbalance\n",
    "    1\t1\t1000.5\n",
    "    2\t2\t2500.75\n",
    "    3\t3\t1500.0\n",
    "    \n",
    "    *Invoking: `sql_db_query_checker` with `{'query': \"SELECT SUM(T2.amount) FROM customers AS T1 INNER JOIN accounts AS T3 ON T1.customer_id = T3.customer_id INNER JOIN transactions AS T2 ON T3.account_id = T2.account_id WHERE T1.name = '테디'\"}`*\n",
    "    responded: I need to join the `customers`, `accounts`, and `transactions` tables to get the transaction amounts for Teddy and Shirley. Then I will sum the amounts for each and compare them.\n",
    "\n",
    "    First, I will get the sum of transactions for Teddy.\n",
    "\n",
    "    ```sql\n",
    "    SELECT SUM(T2.amount) FROM customers AS T1 INNER JOIN accounts AS T3 ON T1.customer_id = T3.customer_id INNER JOIN transactions AS T2 ON T3.account_id = T2.account_id WHERE T1.name = '테디'\n",
    "    ```\n",
    "\n",
    "    *Invoking: `sql_db_query` with `{'query': \"SELECT SUM(T2.amount) FROM customers AS T1 INNER JOIN accounts AS T3 ON T1.customer_id = T3.customer_id INNER JOIN transactions AS T2 ON T3.account_id = T2.account_id WHERE T1.name = '테디'\"}`*\n",
    "\n",
    "\n",
    "    *Invoking: `sql_db_query_checker` with `{'query': \"SELECT SUM(T2.amount) FROM customers AS T1 INNER JOIN accounts AS T3 ON T1.customer_id = T3.customer_id INNER JOIN transactions AS T2 ON T3.account_id = T2.account_id WHERE T1.name = '셜리'\"}`*\n",
    "\n",
    "\n",
    "    SELECT SUM(T2.amount) FROM customers AS T1 INNER JOIN accounts AS T3 ON T1.customer_id = T3.customer_id INNER JOIN transactions AS T2 ON T3.account_id = T2.account_id WHERE T1.name = '셜리'\n",
    "\n",
    "    *Invoking: `sql_db_query` with `{'query': \"SELECT SUM(T2.amount) FROM customers AS T1 INNER JOIN accounts AS T3 ON T1.customer_id = T3.customer_id INNER JOIN transactions AS T2 ON T3.account_id = T2.account_id WHERE T1.name = '셜리'\"}`*\n",
    "\n",
    "\n",
    "    **테디의 거래 합계는 -965.7 이고 셜리의 거래 합계는 656.64 입니다. 셜리의 거래 합계가 테디의 거래 합계보다 더 큽니다.**\n",
    "\n",
    "    **Finished chain.**\n",
    "\n",
    "    ```\n",
    "\n",
    "* \n",
    "  * 결과\n",
    "\n",
    "    ```python\n",
    "\n",
    "    {'input': '테디와 셜리의 transaction 의 합계를 구하고 비교하세요',\n",
    "    'output': '테디의 거래 합계는 -965.7 이고 셜리의 거래 합계는 656.64 입니다. 셜리의 거래 합계가 테디의 거래 합계보다 더 큽니다.'}\n",
    "\n",
    "    ```"
   ]
  },
  {
   "cell_type": "markdown",
   "id": "009251c4",
   "metadata": {},
   "source": [
    "---"
   ]
  },
  {
   "cell_type": "markdown",
   "id": "0b7626d2",
   "metadata": {},
   "source": [
    "* next: ***`03. 구조화된 출력 체인 (with_structered_output)`***"
   ]
  },
  {
   "cell_type": "markdown",
   "id": "f2f4de16",
   "metadata": {},
   "source": [
    "---"
   ]
  }
 ],
 "metadata": {
  "kernelspec": {
   "display_name": "lc_env",
   "language": "python",
   "name": "python3"
  },
  "language_info": {
   "codemirror_mode": {
    "name": "ipython",
    "version": 3
   },
   "file_extension": ".py",
   "mimetype": "text/x-python",
   "name": "python",
   "nbconvert_exporter": "python",
   "pygments_lexer": "ipython3",
   "version": "3.13.5"
  }
 },
 "nbformat": 4,
 "nbformat_minor": 5
}
