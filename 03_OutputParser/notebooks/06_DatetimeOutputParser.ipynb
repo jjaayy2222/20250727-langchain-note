{
 "cells": [
  {
   "cell_type": "markdown",
   "id": "e7ed511c",
   "metadata": {},
   "source": [
    "---"
   ]
  },
  {
   "cell_type": "markdown",
   "id": "a53405de",
   "metadata": {},
   "source": [
    "* 출처: LangChain 공식 문서 또는 해당 교재명\n",
    "* 원본 URL: https://smith.langchain.com/hub/teddynote/summary-stuff-documents"
   ]
  },
  {
   "cell_type": "markdown",
   "id": "87fb66a5",
   "metadata": {},
   "source": [
    "---"
   ]
  },
  {
   "cell_type": "markdown",
   "id": "dadc0ed3",
   "metadata": {},
   "source": [
    "## **DatetimeOutputParser**"
   ]
  },
  {
   "cell_type": "markdown",
   "id": "cb892e2c",
   "metadata": {},
   "source": [
    "* `DatetimeOutputParser` = `LLM`의 출력을 `datetime 형식`으로 파싱하는 데 사용"
   ]
  },
  {
   "cell_type": "code",
   "execution_count": 1,
   "id": "2bc6edeb",
   "metadata": {},
   "outputs": [],
   "source": [
    "# 1_새 프롬프트 생성하기\n",
    "from langsmith import Client\n",
    "from langchain.prompts import PromptTemplate                            # Langchain에서 프롬프트 템플릿을 만들기 위한 모듈 임포트\n",
    "from langchain.prompts import ChatPromptTemplate\n",
    "from langsmith import Client\n",
    "\n",
    "import os\n",
    "import json\n",
    "\n",
    "\n",
    "# 클라이언트 생성 \n",
    "api_key = os.getenv(\"LANGSMITH_API_KEY\")\n",
    "client = Client(api_key=api_key)"
   ]
  },
  {
   "cell_type": "code",
   "execution_count": 2,
   "id": "4349b320",
   "metadata": {},
   "outputs": [],
   "source": [
    "from langchain.output_parsers import DatetimeOutputParser               # 데이트타임 형식 파싱을 위한 임포트"
   ]
  },
  {
   "cell_type": "code",
   "execution_count": 4,
   "id": "51f9fff1",
   "metadata": {},
   "outputs": [],
   "source": [
    "from langchain_google_genai import ChatGoogleGenerativeAI\n",
    "from langchain_core.output_parsers import StrOutputParser\n",
    "from langchain_core.output_parsers import JsonOutputParser\n",
    "from pydantic import BaseModel, Field\n",
    "from langsmith import traceable                                     # LangSmith 추적 설정\n",
    "\n",
    "# LLM 초기화\n",
    "gemini_lc = ChatGoogleGenerativeAI(\n",
    "        model=\"gemini-2.5-flash-lite\",\n",
    "        temperature=0.7,                                    \n",
    "        max_output_tokens=4096,\n",
    "    )"
   ]
  },
  {
   "cell_type": "markdown",
   "id": "3d6fc7b8",
   "metadata": {},
   "source": [
    "---"
   ]
  },
  {
   "cell_type": "markdown",
   "id": "6960d093",
   "metadata": {},
   "source": [
    "* `datetime` 형식 참고\n",
    "\n",
    "  * ![datetime 형식 참고](../data/datetimeparser_reference.png)"
   ]
  },
  {
   "cell_type": "code",
   "execution_count": null,
   "id": "97aa7bb7",
   "metadata": {},
   "outputs": [],
   "source": [
    "# 날짜 및 시간 출력 파서\n",
    "output_parser = DatetimeOutputParser()\n",
    "output_parser.format = \"%Y-%m-%d\"\n",
    "\n",
    "# 사용자 질문에 대한 답변 템플릿\n",
    "template = \"\"\"Answer the users question:\\n\\n#Format Instructions: \\n{format_instructions}\\n\\n#Question: \\n{question}\\n\\n#Answer:\"\"\"\n",
    "\n",
    "prompt_datetime = PromptTemplate.from_template(\n",
    "    template,\n",
    "    partial_variables={\n",
    "        \"format_instructions\": output_parser.get_format_instructions()\n",
    "    },                                                          # 지침을 템플릿에 적용\n",
    ")\n",
    "\n",
    "# 프롬프트 내용을 출력\n",
    "prompt_datetime\n"
   ]
  },
  {
   "cell_type": "markdown",
   "id": "6dafb74a",
   "metadata": {},
   "source": [
    "<small>\n",
    "\n",
    "* 셀 출력\n",
    "  \n",
    "    ```python\n",
    "    PromptTemplate(input_variables=['question'], input_types={}, partial_variables={'format_instructions': \"Write a datetime string that matches the following pattern: '%Y-%m-%d'.\\n\\nExamples: 2025-08-25, 2024-08-25, 2025-08-24\\n\\nReturn ONLY this string, no other words!\"}, template='Answer the users question:\\n\\n#Format Instructions: \\n{format_instructions}\\n\\n#Question: \\n{question}\\n\\n#Answer:')\n",
    "    ```"
   ]
  },
  {
   "cell_type": "code",
   "execution_count": 7,
   "id": "cd3aeb52",
   "metadata": {},
   "outputs": [],
   "source": [
    "# 체인 생성\n",
    "chain_datetime = prompt_datetime | gemini_lc | output_parser\n",
    "\n",
    "# 체인을 호출하여 질문에 대한 답변받기\n",
    "output = chain_datetime.invoke({\"question\": \"Google 이 창업한 연도는?\"})"
   ]
  },
  {
   "cell_type": "code",
   "execution_count": null,
   "id": "b1fc6795",
   "metadata": {},
   "outputs": [],
   "source": [
    "# 결과 출력하기 = 문자열로 변환하여 출력\n",
    "\n",
    "output.strftime(\"%Y-%m-%d\")                         # '1998-09-04' (0.0s)"
   ]
  },
  {
   "cell_type": "code",
   "execution_count": null,
   "id": "f5f19261",
   "metadata": {},
   "outputs": [],
   "source": [
    "# 다른 질문 해보기\n",
    "output2 = chain_datetime.invoke({\"question\": \"오늘 날짜를 시스템 시간에 맞게 출력해주세요.\"})\n",
    "\n",
    "# 문자열로 변환하여 출력\n",
    "print(output2.strftime(\"%Y-%m-%d\"))                         # 2024-05-15 (0.8s)"
   ]
  },
  {
   "cell_type": "code",
   "execution_count": null,
   "id": "531d3c46",
   "metadata": {},
   "outputs": [],
   "source": [
    "# 시스템 시간을 코드에서 가져와 프롬프트에 전달하기\n",
    "import datetime\n",
    "\n",
    "current_date = datetime.datetime.now().strftime(\"%Y-5m-%d\")\n",
    "\n",
    "# 프롬프트로 만들기\n",
    "df_datetime = f\"오늘 날짜는 {current_date}입니다.\"\n",
    "\n",
    "# 체인 실행하기\n",
    "output3 = chain_datetime.invoke({\"question\":df_datetime})\n",
    "\n",
    "# 결과 출력해보기 '\n",
    "print(output3.strftime(\"%Y-%m-%d\"))                         # 2025-05-25 (0.7s)"
   ]
  },
  {
   "cell_type": "markdown",
   "id": "fd5645a8",
   "metadata": {},
   "source": [
    "<small>\n",
    "\n",
    "* 문제 발생 - **현재 날짜 출력** 묻는 프롬프트에 무조건 **`2024-05-15`** 으로 답하는 현상\n",
    "  \n",
    "  * `output2`의 첫 프롬프트: `대한민국의 현재 날짜는?`\n",
    "    * 구체적인 장소를 제공하여 현재 날짜를 출력할 것으로 기대\n",
    "    * `but` → 출력값: `2024-05-15`\n",
    "  \n",
    "  * `두번째 시도`: `현재 날짜는?` or `오늘 날짜는?`\n",
    "    * `현재`, `오늘` 이라는 단어를 통해 현재 날짜를 알 수 있을 것으로 기대\n",
    "    * `but` → 출력값: `2024-05-15`\n",
    "  \n",
    "  * `세번째 시도`: `LLM`이 학습된 데이터의 일부가 `특정 기준 날짜를 가지고 있을 수 있을 가능성`\n",
    "    * 즉, **`2024-05-25`가 기본 설정값** 으로 설정된 경우일 가능성\n",
    "    * 기본값을 무시하도록 프롬프트 수정 \n",
    "      * `기본 날짜 설정을 무시하고, 오늘 날짜를 알려주세요.`\n",
    "      * `오늘 날짜를 시스템 시간에 맞게 출력해주세요.`\n",
    "    * **여전히 `2024-05-15`로 출력**\n",
    "  \n",
    "  * `gemini-2.5-flash-lite` = **모델 자체에 실시간 시스템 시간에 접근할 수 있는 제한이 없을 것으로 추측**\n",
    "    * 추측 이유\n",
    "      * 이유_1: **모델의 시간 처리 방식**\n",
    "        * `Gemini-2.5-Flash-light` 모델 = 학습된 데이터에 기반하여 응답을 생성\n",
    "        * 실시간 날짜 정보를 사용할 수 없거나 시스템 시간에 접근할 수 없을 수 있음\n",
    "  \n",
    "      * 이유_2: **프롬프트 자체에 시스템 시간 요청이 불가능**\n",
    "        * `LLM`이 **훈련된 데이터와 규칙을 바탕으로 작동**\n",
    "        * 따라서 실시간 시스템 시간을 모델에 직접 반영하는 것은 일반적인 사용 방식에서는 불가능할 수 있음\n",
    "  \n",
    "    * 해결방법\n",
    "      * 해결방법_1: `Python 코드`를 사용하여 시스템 날짜를 가져오기\n",
    "        * `Python 코드`로 `시스템 날짜`를 동적으로 가져오고, 그 값을 프롬프트에 넣어서 모델을 호출하기\n",
    "        * **성공!**\n",
    "\n",
    "      * 해결방법_2: 실시간 시간에 접근 가능한 `LLM`모델 사용하기\n",
    "        * `ChatGPT`의 **플러그인 및 `API` 기능을 통해 시간 관련 작업 처리 가능**\n",
    "        * `Google PaLM` \n",
    "          * `Google Cloud의 AI API` \n",
    "          * `PaLM` 모델 = 실시간 API 호출, 외부 데이터 소스에 통합해 시스템 시간 사용하는 APP 구축 가능\n",
    "        * `Claude`: 시간, 날짜에 대한 문제를 해결할 수 있는 API 제공"
   ]
  },
  {
   "cell_type": "markdown",
   "id": "b75e1403",
   "metadata": {},
   "source": [
    "---"
   ]
  },
  {
   "cell_type": "markdown",
   "id": "ab66c8ea",
   "metadata": {},
   "source": [
    "* *next: EnumOutputParser(열거형 출력 파서)*"
   ]
  }
 ],
 "metadata": {
  "kernelspec": {
   "display_name": "lc_env",
   "language": "python",
   "name": "python3"
  },
  "language_info": {
   "codemirror_mode": {
    "name": "ipython",
    "version": 3
   },
   "file_extension": ".py",
   "mimetype": "text/x-python",
   "name": "python",
   "nbconvert_exporter": "python",
   "pygments_lexer": "ipython3",
   "version": "3.13.5"
  }
 },
 "nbformat": 4,
 "nbformat_minor": 5
}
