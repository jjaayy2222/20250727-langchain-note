{
 "cells": [
  {
   "cell_type": "markdown",
   "id": "e7ed511c",
   "metadata": {},
   "source": [
    "---"
   ]
  },
  {
   "cell_type": "markdown",
   "id": "a53405de",
   "metadata": {},
   "source": [
    "* 출처: LangChain 공식 문서 또는 해당 교재명\n",
    "* 원본 URL: https://smith.langchain.com/hub/teddynote/summary-stuff-documents"
   ]
  },
  {
   "cell_type": "markdown",
   "id": "87fb66a5",
   "metadata": {},
   "source": [
    "---"
   ]
  },
  {
   "cell_type": "markdown",
   "id": "dadc0ed3",
   "metadata": {},
   "source": [
    "## **PandasDataFrameOutputParser**"
   ]
  },
  {
   "cell_type": "markdown",
   "id": "cb892e2c",
   "metadata": {},
   "source": [
    "* `Pandas DataFrame` = `Python` 프로그래밍 언어에서 널리 사용되는 `데이터 구조` = `데이터 조작 및 분석`을 위해 `흔히 사용` \n",
    "\n",
    "* `구조화된 데이터`를 다루기 위한 `포괄적인 도구 세트 제공` → **데이터 정제, 변환 및 분석과 같은 작업에 다양하게 활용 가능**\n",
    "\n",
    "* 사용자가 임의의 Pandas DataFrame을 지정하고 해당 DataFrame에서 데이터를 추출하여 형식화된 사전 형태로 데이터를 조회할 수 있는 LLM을 요청할 수 있게 해줌"
   ]
  },
  {
   "cell_type": "code",
   "execution_count": null,
   "id": "2bc6edeb",
   "metadata": {},
   "outputs": [],
   "source": [
    "# 1_새 프롬프트 생성하기\n",
    "from langsmith import Client\n",
    "from langchain.prompts import PromptTemplate                            # Langchain에서 프롬프트 템플릿을 만들기 위한 모듈 임포트\n",
    "from langchain.prompts import ChatPromptTemplate\n",
    "from langsmith import Client\n",
    "\n",
    "import os\n",
    "import json\n",
    "\n",
    "\n",
    "# 클라이언트 생성 \n",
    "api_key = os.getenv(\"LANGSMITH_API_KEY\")\n",
    "client = Client(api_key=api_key)"
   ]
  },
  {
   "cell_type": "code",
   "execution_count": 3,
   "id": "4349b320",
   "metadata": {},
   "outputs": [],
   "source": [
    "import pprint                                                                 # 예쁘게 출력하기 위한 pprint 모듈 임포트\n",
    "from typing import Any, Dict                                                  # 타입 힌트를 위해 Any와 Dict 타입 임포트\n",
    "\n",
    "import pandas as pd\n",
    "from langchain.output_parsers import PandasDataFrameOutputParser              # pandas DataFrame을 출력 형식으로 사용하기 위한 파서"
   ]
  },
  {
   "cell_type": "code",
   "execution_count": 5,
   "id": "51f9fff1",
   "metadata": {},
   "outputs": [],
   "source": [
    "from langchain_google_genai import ChatGoogleGenerativeAI\n",
    "from langchain_core.output_parsers import StrOutputParser\n",
    "from langchain_core.output_parsers import JsonOutputParser\n",
    "from pydantic import BaseModel, Field\n",
    "from langsmith import traceable                                     # LangSmith 추적 설정\n",
    "\n",
    "# LLM 초기화\n",
    "gemini_lc = ChatGoogleGenerativeAI(\n",
    "        model=\"gemini-2.5-flash\",\n",
    "        temperature=0.7,                                    \n",
    "        max_output_tokens=4096,\n",
    "    )"
   ]
  },
  {
   "cell_type": "markdown",
   "id": "3d6fc7b8",
   "metadata": {},
   "source": [
    "---"
   ]
  },
  {
   "cell_type": "markdown",
   "id": "6960d093",
   "metadata": {},
   "source": [
    "* 원하는 **`출력 구조 정의`**\n",
    "\n",
    "  <br>\n",
    "\n",
    "  * `format_parser_output`함수 = 파서 출력 → `dict` 형식으로 변환 → 출력 형식을 지정하기 위해 사용"
   ]
  },
  {
   "cell_type": "code",
   "execution_count": null,
   "id": "97aa7bb7",
   "metadata": {},
   "outputs": [],
   "source": [
    "# 원하는 데이터 구조 정의\n",
    "\n",
    "def format_parser_output(parser_output: Dict[str, Any]) -> None:\n",
    "    \"\"\"\n",
    "    파서(parser)의 출력 결과를 사람이 읽기 좋도록 변환하여 출력합니다.\n",
    "\n",
    "    이 함수는 Langchain 등의 도구에서 반환된 출력 결과를 처리할 때 사용됩니다.\n",
    "    parser_output 딕셔너리의 각 값이 pandas DataFrame이라고 가정하고,\n",
    "    이를 to_dict() 메서드를 사용해 딕셔너리로 변환한 후 보기 좋게 출력합니다.\n",
    "    width=4 줄 너비를 설정, compact=True는 출력 형식을 더 간결하게 만듭니다.\n",
    "    pprint는 nested 구조의 데이터를 들여쓰기와 함께 잘 정리해서 보여줍니다. \n",
    "\n",
    "    Args:\n",
    "        parser_output (Dict[str, Any]): 파서의 출력 결과로, \n",
    "            key는 문자열이고 value는 pandas DataFrame 객체라고 가정합니다.\n",
    "\n",
    "    Returns:\n",
    "        None: 변환된 결과를 콘솔에 예쁘게 출력만 하며, 반환값은 없습니다.\n",
    "\n",
    "    예외:\n",
    "        - parser_output의 값이 DataFrame이 아닐 경우 AttributeError가 발생할 수 있습니다.\n",
    "    \"\"\"\n",
    "    \n",
    "    for key, value in parser_output.items():\n",
    "        try:\n",
    "            # 만약 value가 pandas DataFrame이면 to_dict() 메서드 사용\n",
    "            parser_output[key] = value.to_dict()\n",
    "        except AttributeError:\n",
    "            # 예외 처리 및 경고 메시지 추가\n",
    "            # AttributeError가 발생하면 DataFrame이 아닌 값이므로 경고 메시지를 출력\n",
    "            print(f\"경고: '{key}'의 값은 pandas DataFrame이 아닙니다. DataFrame이 아닌 값: {value}\")\n",
    "        except Exception as e:\n",
    "            # 그 외의 예외 처리 및 에러 메시지 추가 \n",
    "            print(f\"예외 발생: {str(e)} - '{key}' 처리 중 오류가 발생했습니다.\")\n",
    "\n",
    "    # 가독성 좋은 형태로 출력\n",
    "    return pprint.PrettyPrinter(width=4, compact=True).pprint(parser_output)"
   ]
  },
  {
   "cell_type": "markdown",
   "id": "f95895a4",
   "metadata": {},
   "source": [
    "* `data/` > `titanic.csv` 데이터 불러오기 → `DataFrame` 로드 → `df 변수`에 할당하기\n",
    "\n",
    "* `PandasDataFrameOutputParser` 사용 → `DataFrame` 파싱하기"
   ]
  },
  {
   "cell_type": "code",
   "execution_count": null,
   "id": "0978ad53",
   "metadata": {},
   "outputs": [],
   "source": [
    "# 원하는 Pandas DataFrame 정의하기\n",
    "\n",
    "df = pd.read_csv(\"../data/titanic.csv\")\n",
    "df.head()"
   ]
  },
  {
   "cell_type": "markdown",
   "id": "5f53e640",
   "metadata": {},
   "source": [
    "<small>\n",
    "\n",
    "* 셀 출력 (2.1s)\n",
    "\n",
    "  * ![타이타닉 df.head()](../data/titanic_head.png)"
   ]
  },
  {
   "cell_type": "code",
   "execution_count": null,
   "id": "e635a659",
   "metadata": {},
   "outputs": [],
   "source": [
    "# 파서 설정 프롬프트 템플릿에 지시사항 넣기\n",
    "parser_df = PandasDataFrameOutputParser(dataframe=df)\n",
    "\n",
    "# 파서의 지시사항 출력해보기\n",
    "print(parser_df.get_format_instructions())"
   ]
  },
  {
   "cell_type": "markdown",
   "id": "b294e38f",
   "metadata": {},
   "source": [
    "<small>\n",
    "\n",
    "* 셀 출력 (0.0s)\n",
    "\n",
    "    ```markdown\n",
    "    The output should be formatted as a string as the operation, followed by a colon, followed by the column or row to be queried on, followed by optional array parameters.\n",
    "    1. The column names are limited to the possible columns below.\n",
    "    2. Arrays must either be a comma-separated list of numbers formatted as [1,3,5], or it must be in range of numbers formatted as [0..4].\n",
    "    3. Remember that arrays are optional and not necessarily required.\n",
    "    4. If the column is not in the possible columns or the operation is not a valid Pandas DataFrame operation, return why it is invalid as a sentence starting with either \"Invalid column\" or \"Invalid operation\".\n",
    "\n",
    "    As an example, for the formats:\n",
    "    1. String \"column:num_legs\" is a well-formatted instance which gets the column num_legs, where num_legs is a possible column.\n",
    "    2. String \"row:1\" is a well-formatted instance which gets row 1.\n",
    "    3. String \"column:num_legs[1,2]\" is a well-formatted instance which gets the column num_legs for rows 1 and 2, where num_legs is a possible column.\n",
    "    4. String \"row:1[num_legs]\" is a well-formatted instance which gets row 1, but for just column num_legs, where num_legs is a possible column.\n",
    "    5. String \"mean:num_legs[1..3]\" is a well-formatted instance which takes the mean of num_legs from rows 1 to 3, where num_legs is a possible column and mean is a valid Pandas DataFrame operation.\n",
    "    6. String \"do_something:num_legs\" is a badly-formatted instance, where do_something is not a valid Pandas DataFrame operation.\n",
    "    7. String \"mean:invalid_col\" is a badly-formatted instance, where invalid_col is not a possible column.\n",
    "\n",
    "    Here are the possible columns:\n",
    "    \n",
    "        ```\n",
    "        PassengerId, Survived, Pclass, Name, Sex, Age, SibSp, Parch, Ticket, Fare, Cabin, Embarked\n",
    "        ```\n",
    "\n",
    "    ```"
   ]
  },
  {
   "cell_type": "markdown",
   "id": "2129c182",
   "metadata": {},
   "source": [
    "---"
   ]
  },
  {
   "cell_type": "markdown",
   "id": "58136f16",
   "metadata": {},
   "source": [
    "* 컬럼에 대한 값을 조회하는 예시"
   ]
  },
  {
   "cell_type": "code",
   "execution_count": null,
   "id": "f47e1c20",
   "metadata": {},
   "outputs": [],
   "source": [
    "def format_parser_output(parser_output: Dict[str, Any]) -> None:\n",
    "    for key, value in parser_output.items():\n",
    "        try:\n",
    "            # 만약 value가 pandas DataFrame이면 to_dict() 메서드 사용\n",
    "            parser_output[key] = value.to_dict()\n",
    "        except AttributeError:\n",
    "            # 예외 처리 및 경고 메시지 추가\n",
    "            # AttributeError가 발생하면 DataFrame이 아닌 값이므로 경고 메시지를 출력\n",
    "            print(f\"경고: '{key}'의 값은 pandas DataFrame이 아닙니다. DataFrame이 아닌 값: {value}\")\n",
    "        except Exception as e:\n",
    "            # 그 외의 예외 처리 및 에러 메시지 추가 \n",
    "            print(f\"예외 발생: {str(e)} - '{key}' 처리 중 오류가 발생했습니다.\")\n",
    "\n",
    "    # 가독성 좋은 형태로 출력\n",
    "    return pprint.PrettyPrinter(width=4, compact=True).pprint(parser_output)\n",
    "\n",
    "# 열 작업 예시\n",
    "df_query = \"Age column 을 조회해 주세요.\"\n",
    "\n",
    "\n",
    "# 프롬프트 템플릿 설정하기\n",
    "prompt = PromptTemplate(\n",
    "    template=\"Answer the user query.\\n{format_instructions}\\n{query}\\n\",\n",
    "    input_variables=[\"query\"],                                                      # 입력 변수 설정\n",
    "    partial_variables={\n",
    "        \"format_instructions\": parser_df.get_format_instructions()\n",
    "    },                                                                              # 부분 변수 설정\n",
    ")\n",
    "\n",
    "# 체인 생성\n",
    "chain_df = prompt | gemini_lc | parser_df\n",
    "\n",
    "# 체인 실행\n",
    "parser_output = chain_df.invoke({\"query\": df_query})\n",
    "\n",
    "# 출력\n",
    "format_parser_output(parser_output)\n"
   ]
  },
  {
   "cell_type": "markdown",
   "id": "9ce1510b",
   "metadata": {},
   "source": [
    "<small>\n",
    "\n",
    "* 셀 출력 (1.1s)\n",
    "\n",
    "    ```python\n",
    "    {'Age': {0: 22.0,\n",
    "            1: 38.0,\n",
    "            2: 26.0,\n",
    "            3: 35.0,\n",
    "            4: 35.0,\n",
    "            5: nan,\n",
    "            6: 54.0,\n",
    "            7: 2.0,\n",
    "            8: 27.0,\n",
    "            9: 14.0,\n",
    "            10: 4.0,\n",
    "            11: 58.0,\n",
    "            12: 20.0,\n",
    "            13: 39.0,\n",
    "            14: 14.0,\n",
    "            15: 55.0,\n",
    "            16: 2.0,\n",
    "            17: nan,\n",
    "            18: 31.0,\n",
    "            19: nan}}\n",
    "    ```"
   ]
  },
  {
   "cell_type": "markdown",
   "id": "b8f8fa6c",
   "metadata": {},
   "source": [
    "---"
   ]
  },
  {
   "cell_type": "markdown",
   "id": "11084d03",
   "metadata": {},
   "source": [
    "* 첫번쩨 행 검색해보기"
   ]
  },
  {
   "cell_type": "code",
   "execution_count": null,
   "id": "b7ea8af1",
   "metadata": {},
   "outputs": [],
   "source": [
    "# 행 조회하기\n",
    "df_query = \"Retrieve the first row.\"\n",
    "\n",
    "# 체인 실행\n",
    "parser_output = chain_df.invoke({\"query\": df_query})\n",
    "\n",
    "# 결과 출력\n",
    "format_parser_output(parser_output)"
   ]
  },
  {
   "cell_type": "markdown",
   "id": "29e2976a",
   "metadata": {},
   "source": [
    "<small>\n",
    "\n",
    "* 셀 출력 (0.9s)\n",
    "\n",
    "    ```python\n",
    "    {'0': {'Age': 22.0,\n",
    "        'Cabin': nan,\n",
    "        'Embarked': 'S',\n",
    "        'Fare': 7.25,\n",
    "        'Name': 'Braund, '\n",
    "                'Mr. '\n",
    "                'Owen '\n",
    "                'Harris',\n",
    "        'Parch': 0,\n",
    "        'PassengerId': 1,\n",
    "        'Pclass': 3,\n",
    "        'Sex': 'male',\n",
    "        'SibSp': 1,\n",
    "        'Survived': 0,\n",
    "        'Ticket': 'A/5 '\n",
    "                    '21171'}}\n",
    "    ```"
   ]
  },
  {
   "cell_type": "markdown",
   "id": "bb188870",
   "metadata": {},
   "source": [
    "---"
   ]
  },
  {
   "cell_type": "markdown",
   "id": "6798606b",
   "metadata": {},
   "source": [
    "* **특정 열** ~ **일부 행** 의 **평균** 검색해보기"
   ]
  },
  {
   "cell_type": "code",
   "execution_count": null,
   "id": "a7de84ab",
   "metadata": {},
   "outputs": [],
   "source": [
    "# row 0 ~ 4의 평균 나이 구하기\n",
    "mean_row_0_4 = df[\"Age\"].head().mean()\n",
    "\n",
    "print(mean_row_0_4)                         # 31.2\n",
    "print(type(mean_row_0_4))                   # <class 'numpy.float64'>"
   ]
  },
  {
   "cell_type": "code",
   "execution_count": null,
   "id": "6542240e",
   "metadata": {},
   "outputs": [],
   "source": [
    "# 임의의 Pandas DataFrame 작업 예시\n",
    "\n",
    "\n",
    "# 행의 수 제한하기\n",
    "df_query = \"Retrieve the average of the Ages from row 0 to 4.\"\n",
    "#df_query =\"0~4행의 연령 평균을 검색합니다.\"\n",
    "\n",
    "# 체인 실행\n",
    "parser_output = chain_df.invoke({\"query\": df_query})\n",
    "\n",
    "# 결과 출력\n",
    "print(parser_output)                        # {'mean': np.float64(31.2)} (1.5s)"
   ]
  },
  {
   "cell_type": "markdown",
   "id": "c6acd78a",
   "metadata": {},
   "source": [
    "---"
   ]
  },
  {
   "cell_type": "markdown",
   "id": "2be487db",
   "metadata": {},
   "source": [
    "* 요금(Fare) 에 대한 평균 가격을 산정하는 예시"
   ]
  },
  {
   "cell_type": "code",
   "execution_count": null,
   "id": "72b443c3",
   "metadata": {},
   "outputs": [],
   "source": [
    "# 잘못 형식화된 쿼리의 예시\n",
    "\n",
    "df_query = \"Calculate average `Fare` rate.\"\n",
    "# df_query = \"평균 `요금`을 계산합니다.\"\n",
    "\n",
    "# 체인 실행\n",
    "parser_output = chain_df.invoke({\"query\": df_query})\n",
    "\n",
    "# 결과 출력\n",
    "print(parser_output)                        # {'mean': np.float64(22.19937)} (1.0s)"
   ]
  },
  {
   "cell_type": "markdown",
   "id": "fc353133",
   "metadata": {},
   "source": [
    "<small>\n",
    "\n",
    "* 잘못 형식화되었다고 하는 이유:\n",
    "\n",
    "  * `\"Calculate average Fare rate.\"`라는 쿼리에서 **`백틱(```)`** 을 사용한 것 자체는 문법적으로 문제가 될 수 있음.\n",
    "  * 특히, `Langchain`과 같은 툴에서 쿼리 형식을 처리할 때 백틱을 어떻게 해석할지 정확하게 알지 못할 경우, 문제가 발생할 수 있음. \n",
    "    * 예를 들어, 일부 모델은 백틱을 특수 문자로 처리하려 할 수 있어서 쿼리의 의도와 맞지 않게 처리될 수 있음.\n",
    "\n",
    "* 해결책_1: **백틱을 제거** 쿼리 사용\n",
    "\n",
    "  * **`백틱(```)`** 은 컬럼 이름을 나타내는 표기법으로, 일부 환경에서는 불필요하거나 문제가 될 수 있음.\n",
    "  * 쿼리에서 컬럼명을 명확히 나타내기 위해 백틱을 사용하지 않고 쿼리를 작성하는 것이 더 안전할 수 있음\n",
    "\n",
    "    * 예시:\n",
    "\n",
    "    ```python\n",
    "    df_query = \"Calculate average Fare rate.\"\n",
    "    ```\n",
    "\n",
    "  ---\n",
    "\n",
    "* 해결책_2: **동적 쿼리** 생성\n",
    "  * 컬럼 이름을 동적으로 처리하려면, 쿼리에서 컬럼명을 직접 입력하는 대신 동적 문자열 포매팅을 사용하여 코드를 좀 더 유연하게 만들 수 있음.\n",
    "  * 이렇게 하면 타이타닉 데이터의 다른 컬럼을 쉽게 처리할 수 있음\n",
    "  \n",
    "  * 에시_1: 동적 퀴레 생성\n",
    "  \n",
    "    ```python\n",
    "    column_name = \"Fare\"\n",
    "    df_query = f\"Calculate average `{column_name}` rate.\"\n",
    "    ```\n",
    "\n",
    "  ---\n",
    "\n",
    "  * 예시_2: 함수를 통해 동적 쿼리 포매팅\n",
    "  \n",
    "  ```python\n",
    "  # 컬럼명 리스트를 자동으로 생성하는 함수\n",
    "  def get_column_names(df: pd.DataFrame) -> list:\n",
    "      \"\"\"\n",
    "      데이터프레임에서 컬럼명만 추출하여 리스트로 반환합니다.\n",
    "      \n",
    "      Args:\n",
    "          df (pd.DataFrame): pandas 데이터프레임\n",
    "      \n",
    "      Returns:\n",
    "          list: 데이터프레임의 컬럼명 리스트\n",
    "      \"\"\"\n",
    "      return df.columns.tolist()\n",
    "\n",
    "  # 사용 예시\n",
    "  columns = get_column_names(df)\n",
    "  print(columns)  # 결과: ['PassengerId', 'Pclass', 'Name', 'Sex', 'Age', 'SibSp', 'Parch', 'Fare', 'Embarked']\n",
    "  print(type(columns))            # <class 'list'>\n",
    "  ```"
   ]
  },
  {
   "cell_type": "code",
   "execution_count": null,
   "id": "0201ef5d",
   "metadata": {},
   "outputs": [],
   "source": [
    "# 컬럼명을 리스트로 자동 포매팅해보기\n",
    "\n",
    "def get_column_names(df: pd.DataFrame) -> list:\n",
    "    \"\"\"\n",
    "    데이터프레임에서 컬럼명만 추출하여 리스트로 반환합니다.\n",
    "    \n",
    "    Args:\n",
    "        df (pd.DataFrame): pandas 데이터프레임\n",
    "    \n",
    "    Returns:\n",
    "        list: 데이터프레임의 컬럼명 리스트\n",
    "    \"\"\"\n",
    "    return df.columns.tolist()\n",
    "\n",
    "# 사용 예시\n",
    "columns = get_column_names(df)\n",
    "print(columns)                  # ['PassengerId', 'Pclass', 'Name', 'Sex', 'Age', 'SibSp', 'Parch', 'Fare', 'Embarked']\n",
    "print(type(columns))            # <class 'list'>"
   ]
  },
  {
   "cell_type": "code",
   "execution_count": null,
   "id": "49a339a7",
   "metadata": {},
   "outputs": [],
   "source": [
    "# 자동 포매팅된 함수에서 컬럼 꺼내기\n",
    "column_name = \"Fare\"        # 원하는 컬럼명 = Fare\n",
    "\n",
    "# 컬럼 리스트에서 해당 컬럼을 찾아서 쿼리에 넣기\n",
    "for i in columns:\n",
    "    if i == column_name:\n",
    "        df_query = f\"Calculate average `{column_name}` rate.\"\n",
    "        column_found = True\n",
    "        break\n",
    "    \n",
    "# 컬럼을 찾지 못한 경우 예외 처리\n",
    "if not column_found:\n",
    "    error_message = f\"Error: '{column_name}' column not found in the DataFrame.\"\n",
    "    print(error_message)\n",
    "else:\n",
    "    # 쿼리 출력\n",
    "    print(df_query)                         # \"Calculate average `Fare` rate.\"\n",
    "    \n",
    "    # 체인 실행 (예시로 쿼리 실행)\n",
    "    try:\n",
    "        parser_output = chain_df.invoke({\"query\": df_query})\n",
    "        print(parser_output)                # {'mean': np.float64(13.0)}\n",
    "    except Exception as e:\n",
    "        print(f\"Error during chain invocation: {str(e)}\")\n"
   ]
  },
  {
   "cell_type": "markdown",
   "id": "d7f0a9b5",
   "metadata": {},
   "source": [
    "<small>\n",
    "\n",
    "* **예시 출력**:\n",
    "\n",
    "  * **예외 처리_1: 컬럼이 없을 경우** (예: `\"Fare\"` 컬럼이 없다면):\n",
    "\n",
    "    ```python\n",
    "      Error: 'Fare' column not found in the DataFrame.\n",
    "    ```\n",
    "\n",
    "  * **예외 처리_2: 체인 실행 중 에러가 발생한 경우**:\n",
    "\n",
    "    ```python\n",
    "      Error during chain invocation: [에러 메시지 내용]\n",
    "    ```\n",
    "\n",
    "  * **컬럼을 찾고 쿼리 실행이 성공할 경우**:\n",
    "\n",
    "    ```python\n",
    "      Calculate average `Fare` rate.\n",
    "      {'mean': np.float64(13.0)} (1.0s)\n",
    "    ```\n",
    "\n",
    "* **결론**:\n",
    "\n",
    "  * 이렇게 예외 처리 및 디버깅 메시지를 추가하면, **컬럼이 존재하지 않거나** **체인 실행 중 오류가 발생**했을 때, 쉽게 문제를 파악하고 수정 가능\n",
    "  * `try-except`와 `if` 문을 활용한 예외 처리가 디버깅을 더 용이하게 만듦"
   ]
  },
  {
   "cell_type": "code",
   "execution_count": null,
   "id": "0412d88d",
   "metadata": {},
   "outputs": [],
   "source": [
    "# 체인 실행\n",
    "parser_output = chain_df.invoke({\"query\": df_query})\n",
    "\n",
    "# 결과 출력\n",
    "print(parser_output)                        # {'mean': np.float64(22.19937)} (1.0s)"
   ]
  },
  {
   "cell_type": "code",
   "execution_count": null,
   "id": "2a29989d",
   "metadata": {},
   "outputs": [],
   "source": [
    "# 결과 검증\n",
    "df[\"Fare\"].mean()                          # np.float64(22.19937)"
   ]
  },
  {
   "cell_type": "markdown",
   "id": "ce37e1ea",
   "metadata": {},
   "source": [
    "<small>\n",
    "\n",
    "* 결과 \n",
    "  * 모두 `np.float64(h22.19937)` 로 동일하게 나옴"
   ]
  },
  {
   "cell_type": "markdown",
   "id": "26a903fb",
   "metadata": {},
   "source": [
    "---"
   ]
  },
  {
   "cell_type": "markdown",
   "id": "873e96c6",
   "metadata": {},
   "source": [
    "<small>\n",
    "\n",
    "* *next: DatetimeOutputParser*"
   ]
  }
 ],
 "metadata": {
  "kernelspec": {
   "display_name": "lc_env",
   "language": "python",
   "name": "python3"
  },
  "language_info": {
   "codemirror_mode": {
    "name": "ipython",
    "version": 3
   },
   "file_extension": ".py",
   "mimetype": "text/x-python",
   "name": "python",
   "nbconvert_exporter": "python",
   "pygments_lexer": "ipython3",
   "version": "3.13.5"
  }
 },
 "nbformat": 4,
 "nbformat_minor": 5
}
