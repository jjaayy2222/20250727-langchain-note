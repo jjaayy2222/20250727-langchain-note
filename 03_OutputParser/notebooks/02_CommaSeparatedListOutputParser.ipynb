{
 "cells": [
  {
   "cell_type": "markdown",
   "id": "cd79855e",
   "metadata": {},
   "source": [
    "---"
   ]
  },
  {
   "cell_type": "markdown",
   "id": "415e0a31",
   "metadata": {},
   "source": [
    "* 출처: LangChain 공식 문서 또는 해당 교재명\n",
    "* 원본 URL: https://smith.langchain.com/hub/teddynote/summary-stuff-documents"
   ]
  },
  {
   "cell_type": "markdown",
   "id": "0b8e654d",
   "metadata": {},
   "source": [
    "---"
   ]
  },
  {
   "cell_type": "markdown",
   "id": "8603c462",
   "metadata": {},
   "source": [
    "## **CommaSeparatedListOutputParser**"
   ]
  },
  {
   "cell_type": "markdown",
   "id": "1ecd2f03",
   "metadata": {},
   "source": [
    "* `CommaSeparatedListOutputParser` = `쉼표로 구분된 항목 목록을 반환할 필요가 있을 때 유용`\n",
    "\n",
    "  * 사용자가 입력한 데이터나 요청한 정보를 쉼표로 구분하여 명확하고 간결한 목록 형태로 제공받을 수 있음\n",
    "  * 예시: 여러 개의 데이터 포인트, 이름, 항목 또는 다른 종류의 값들을 나열할 때 이를 통해 효과적으로 정보를 정리하고 사용자에게 전달 가능\n",
    "\n",
    "* **정보를 구조화** , 가독성을 높이며, 특히 데이터를 다루거나 **리스트** 형태의 결과를 요구하는 경우에 매우 유용"
   ]
  },
  {
   "cell_type": "code",
   "execution_count": 1,
   "id": "f8426602",
   "metadata": {},
   "outputs": [],
   "source": [
    "# 1_새 프롬프트 생성하기\n",
    "from langsmith import Client\n",
    "from langchain.prompts import PromptTemplate\n",
    "from langchain.prompts import ChatPromptTemplate\n",
    "from langsmith import Client\n",
    "\n",
    "import os\n",
    "import json\n",
    "\n",
    "\n",
    "# 클라이언트 생성 \n",
    "api_key = os.getenv(\"LANGSMITH_API_KEY\")\n",
    "client = Client(api_key=api_key)"
   ]
  },
  {
   "cell_type": "code",
   "execution_count": 2,
   "id": "b01f63e0",
   "metadata": {},
   "outputs": [],
   "source": [
    "from langchain_google_genai import ChatGoogleGenerativeAI\n",
    "from langchain_core.output_parsers import StrOutputParser\n",
    "from langsmith import traceable\n",
    "\n",
    "# LLM 초기화\n",
    "gemini_lc = ChatGoogleGenerativeAI(\n",
    "        model=\"gemini-2.5-flash-lite\",\n",
    "        temperature=0.7,                                    \n",
    "        max_output_tokens=4096,\n",
    "    )"
   ]
  },
  {
   "cell_type": "code",
   "execution_count": null,
   "id": "cc371512",
   "metadata": {},
   "outputs": [],
   "source": [
    "from langchain_core.output_parsers import CommaSeparatedListOutputParser\n",
    "\n",
    "# 콤마로 구분된 리스트 출력 파서 초기화\n",
    "output_parser = CommaSeparatedListOutputParser()\n",
    "\n",
    "# 출력 형식 지침 가져오기\n",
    "format_instructions = output_parser.get_format_instructions()\n",
    "\n",
    "# 프롬프트 템플릿 설정\n",
    "prompt = PromptTemplate(\n",
    "    # 주제에 대한 다섯 가지를 나열하라는 템플릿\n",
    "    template=\"List five {subject}.\\n{format_instructions}\",\n",
    "    \n",
    "    input_variables=[\"subject\"],                                                        # 입력 변수로 'subject' 사용\n",
    "    \n",
    "    # 부분 변수로 형식 지침 사용\n",
    "    partial_variables={\"format_instructions\": format_instructions},\n",
    ")\n",
    "\n",
    "# LLM 모델 초기화\n",
    "gemini_lc = gemini_lc\n",
    "\n",
    "# 프롬프트, 모델, 출력 파서를 연결하여 체인 생성\n",
    "chain = prompt | gemini_lc | output_parser\n",
    "\n",
    "# 체인 실행 → 결과 출력\n",
    "# \"대한민국 관광명소\"에 대한 체인 호출 실행\n",
    "chain.invoke({\"subject\": \"대한민국 관광명소\"})"
   ]
  },
  {
   "cell_type": "markdown",
   "id": "98f01c9e",
   "metadata": {},
   "source": [
    "<small>\n",
    "\n",
    "* 셀 출력 (2.1s)\n",
    "\n",
    "    ```markdown\n",
    "    ['경복궁', '남산타워', '제주도', '북촌한옥마을', '창덕궁']\n",
    "    ```"
   ]
  },
  {
   "cell_type": "markdown",
   "id": "2edbdd60",
   "metadata": {},
   "source": [
    "* `chain.stream` → `대한민국 관광명소`에 대한 스트림을 반복 처리\n",
    "* 반복 중 스트림 결과 출력"
   ]
  },
  {
   "cell_type": "code",
   "execution_count": null,
   "id": "60cba2d8",
   "metadata": {},
   "outputs": [],
   "source": [
    "# 스트림을 순회합니다.\n",
    "for s in chain.stream({\"subject\": \"대한민국 관광명소\"}):\n",
    "    print(s)                                                                    # 스트림 내용 출력하기"
   ]
  },
  {
   "cell_type": "markdown",
   "id": "c41b8e3e",
   "metadata": {},
   "source": [
    "<small>\n",
    "\n",
    "* 셀 출력 (1.0s)\n",
    "\n",
    "    ```markdown\n",
    "    ['경복궁']\n",
    "    ['남산타워']\n",
    "    ['명동']\n",
    "    ['인사동']\n",
    "    ['부산 해운대']\n",
    "    ````"
   ]
  }
 ],
 "metadata": {
  "kernelspec": {
   "display_name": "lc_env",
   "language": "python",
   "name": "python3"
  },
  "language_info": {
   "codemirror_mode": {
    "name": "ipython",
    "version": 3
   },
   "file_extension": ".py",
   "mimetype": "text/x-python",
   "name": "python",
   "nbconvert_exporter": "python",
   "pygments_lexer": "ipython3",
   "version": "3.13.5"
  }
 },
 "nbformat": 4,
 "nbformat_minor": 5
}
