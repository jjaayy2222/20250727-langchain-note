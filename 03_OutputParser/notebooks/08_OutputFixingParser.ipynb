{
 "cells": [
  {
   "cell_type": "markdown",
   "id": "e7ed511c",
   "metadata": {},
   "source": [
    "---"
   ]
  },
  {
   "cell_type": "markdown",
   "id": "a53405de",
   "metadata": {},
   "source": [
    "* 출처: LangChain 공식 문서 또는 해당 교재명\n",
    "* 원본 URL: https://smith.langchain.com/hub/teddynote/summary-stuff-documents"
   ]
  },
  {
   "cell_type": "markdown",
   "id": "87fb66a5",
   "metadata": {},
   "source": [
    "---"
   ]
  },
  {
   "cell_type": "markdown",
   "id": "dadc0ed3",
   "metadata": {},
   "source": [
    "## **OutputFixingParser**"
   ]
  },
  {
   "cell_type": "markdown",
   "id": "cb892e2c",
   "metadata": {},
   "source": [
    "* `OutputFixingParser`는 출력 파싱 과정에서 발생할 수 있는 `오류`를 `자동`으로 `수정`하는 기능 제공\n",
    "\n",
    "* 설계 방식: `다른 파서` (예컨대 PydanticOutputParser)를 `래핑`하고, 이 파서가 `처리할 수 없는 형식`의 출력이나 `오류`를 반환할 경우, `추가적인 LLM 호출`을 통해 `오류`를 `수정`하도록 설계됨"
   ]
  },
  {
   "cell_type": "markdown",
   "id": "47dbc6f7",
   "metadata": {},
   "source": [
    "### **핵심**"
   ]
  },
  {
   "cell_type": "markdown",
   "id": "35ad6662",
   "metadata": {},
   "source": [
    "* 첫 번째 시도에서 스키마를 준수하지 않는 결과가 나올 경우 → `OutputFixingParser`가 `자동`으로 형식이 `잘못된 출력`을 `인식` → 이를 `수정`하기 위한 `새로운 명령어`와 함께 `모델에 다시 제출`\n",
    "  \n",
    "  * **수정을 위한 명령어는 오류를 정확히 지적** \n",
    "\n",
    "  * **올바른 형식으로 데이터를 재구성할 수 있도록 구체적인 지시를 포함해야 함**"
   ]
  },
  {
   "cell_type": "markdown",
   "id": "685d6697",
   "metadata": {},
   "source": [
    "### **사용 방법**"
   ]
  },
  {
   "cell_type": "markdown",
   "id": "727046bf",
   "metadata": {},
   "source": [
    "* 예시: `PydanticOutputParser` → 특정 데이터 스키마를 준수하는 출력을 생성하고자 함 → `일부 필드`가 `누락` or `데이터 유형`이 `잘못된 경우`가 발생할 수 있음\n",
    "\n",
    "* 이때 `OutputFixingParser` = `다음 단계` → `해당 오류`를 `수정`하는 `지시`를 포함한 `새로운 요청`을 `LLM`에 `제출` → `LLM` = `오류`를 `수정`한 **`새로운 출력`을 생성**"
   ]
  },
  {
   "cell_type": "code",
   "execution_count": 2,
   "id": "2bc6edeb",
   "metadata": {},
   "outputs": [],
   "source": [
    "# 기본 임포트\n",
    "from langsmith import Client\n",
    "from langchain.prompts import PromptTemplate                            \n",
    "from langchain.prompts import ChatPromptTemplate\n",
    "from langchain.output_parsers import PydanticOutputParser\n",
    "from typing import List\n",
    "\n",
    "from langsmith import Client\n",
    "\n",
    "import os\n",
    "import json\n",
    "\n",
    "# 클라이언트 생성 \n",
    "api_key = os.getenv(\"LANGSMITH_API_KEY\")\n",
    "client = Client(api_key=api_key)"
   ]
  },
  {
   "cell_type": "code",
   "execution_count": 3,
   "id": "51f9fff1",
   "metadata": {},
   "outputs": [],
   "source": [
    "from langchain_google_genai import ChatGoogleGenerativeAI\n",
    "from langchain_core.output_parsers import StrOutputParser\n",
    "from langchain_core.output_parsers import JsonOutputParser\n",
    "from langchain_core.pydantic_v1 import BaseModel, Field\n",
    "from pydantic import BaseModel, Field\n",
    "from langsmith import traceable                                     # LangSmith 추적 설정\n",
    "\n",
    "# LLM 초기화\n",
    "gemini_lc = ChatGoogleGenerativeAI(\n",
    "        model=\"gemini-2.5-flash-lite\",\n",
    "        temperature=0.7,                                    \n",
    "        max_output_tokens=4096,\n",
    "    )"
   ]
  },
  {
   "cell_type": "code",
   "execution_count": 4,
   "id": "75ffabc7",
   "metadata": {},
   "outputs": [],
   "source": [
    "class Actor(BaseModel):\n",
    "    name: str = Field(description=\"name of an actor\")\n",
    "    film_names: List[str] = Field(\n",
    "        description=\"list of names of films they starred in\")\n",
    "\n",
    "\n",
    "actor_query = \"Generate the filmography for a random actor.\"\n",
    "\n",
    "parser = PydanticOutputParser(pydantic_object=Actor)"
   ]
  },
  {
   "cell_type": "markdown",
   "id": "3d6fc7b8",
   "metadata": {},
   "source": [
    "---"
   ]
  },
  {
   "cell_type": "markdown",
   "id": "93a54f60",
   "metadata": {},
   "source": [
    "### **잘못된 형식을 먼저 입력해보기**"
   ]
  },
  {
   "cell_type": "code",
   "execution_count": null,
   "id": "bded8854",
   "metadata": {},
   "outputs": [],
   "source": [
    "# 잘못된 형식을 일부러 입력\n",
    "misformatted = \"{'name': 'Tom Hanks', 'film_names': ['Forrest Gump']}\"\n",
    "\n",
    "# 잘못된 형식으로 입력된 데이터를 파싱하려고 시도\n",
    "parser.parse(misformatted)\n",
    "\n",
    "# 오류 출력\n"
   ]
  },
  {
   "cell_type": "markdown",
   "id": "69adfa97",
   "metadata": {},
   "source": [
    "<small>\n",
    "\n",
    "* 셀 출력 (0.4s)\n",
    "\n",
    "    ```python\n",
    "    ---------------------------------------------------------------------------\n",
    "    JSONDecodeError                           Traceback (most recent call last)\n",
    "    File ~/.pyenv/versions/lc_env/lib/python3.13/site-packages/langchain_core/output_parsers/json.py:82, in JsonOutputParser.parse_result(self, result, partial)\n",
    "        81 try:\n",
    "    ---> 82     return parse_json_markdown(text)\n",
    "        83 except JSONDecodeError as e:\n",
    "\n",
    "    File ~/.pyenv/versions/lc_env/lib/python3.13/site-packages/langchain_core/utils/json.py:150, in parse_json_markdown(json_string, parser)\n",
    "        149     json_str = json_string if match is None else match.group(2)\n",
    "    --> 150 return _parse_json(json_str, parser=parser)\n",
    "\n",
    "    File ~/.pyenv/versions/lc_env/lib/python3.13/site-packages/langchain_core/utils/json.py:166, in _parse_json(json_str, parser)\n",
    "        165 # Parse the JSON string into a Python dictionary\n",
    "    --> 166 return parser(json_str)\n",
    "\n",
    "    File ~/.pyenv/versions/lc_env/lib/python3.13/site-packages/langchain_core/utils/json.py:123, in parse_partial_json(s, strict)\n",
    "        120 # If we got here, we ran out of characters to remove\n",
    "        121 # and still couldn't parse the string as JSON, so return the parse error\n",
    "        122 # for the original string.\n",
    "    --> 123 return json.loads(s, strict=strict)\n",
    "\n",
    "    File ~/.pyenv/versions/3.13.5/lib/python3.13/json/__init__.py:359, in loads(s, cls, object_hook, parse_float, parse_int, parse_constant, object_pairs_hook, **kw)\n",
    "        358     kw['parse_constant'] = parse_constant\n",
    "    --> 359 return cls(**kw).decode(s)\n",
    "\n",
    "    File ~/.pyenv/versions/3.13.5/lib/python3.13/json/decoder.py:345, in JSONDecoder.decode(self, s, _w)\n",
    "        341 \"\"\"Return the Python representation of ``s`` (a ``str`` instance\n",
    "        342 containing a JSON document).\n",
    "        343 \n",
    "        344 \"\"\"\n",
    "    --> 345 obj, end = self.raw_decode(s, idx=_w(s, 0).end())\n",
    "        346 end = _w(s, end).end()\n",
    "\n",
    "    File ~/.pyenv/versions/3.13.5/lib/python3.13/json/decoder.py:361, in JSONDecoder.raw_decode(self, s, idx)\n",
    "        360 try:\n",
    "    --> 361     obj, end = self.scan_once(s, idx)\n",
    "        362 except StopIteration as err:\n",
    "\n",
    "    JSONDecodeError: Expecting property name enclosed in double quotes: line 1 column 2 (char 1)\n",
    "\n",
    "    The above exception was the direct cause of the following exception:\n",
    "\n",
    "    OutputParserException                     Traceback (most recent call last)\n",
    "    Cell In[5], line 5\n",
    "        2 misformatted = \"{'name': 'Tom Hanks', 'film_names': ['Forrest Gump']}\"\n",
    "        4 # 잘못된 형식으로 입력된 데이터를 파싱하려고 시도\n",
    "    ----> 5 parser.parse(misformatted)\n",
    "        7 # 오류 출력\n",
    "\n",
    "    File ~/.pyenv/versions/lc_env/lib/python3.13/site-packages/langchain_core/output_parsers/pydantic.py:77, in PydanticOutputParser.parse(self, text)\n",
    "        68 def parse(self, text: str) -> TBaseModel:\n",
    "        69     \"\"\"Parse the output of an LLM call to a pydantic object.\n",
    "        70 \n",
    "        71     Args:\n",
    "    (...)     75         The parsed pydantic object.\n",
    "        76     \"\"\"\n",
    "    ---> 77     return super().parse(text)\n",
    "\n",
    "    File ~/.pyenv/versions/lc_env/lib/python3.13/site-packages/langchain_core/output_parsers/json.py:96, in JsonOutputParser.parse(self, text)\n",
    "        87 def parse(self, text: str) -> Any:\n",
    "        88     \"\"\"Parse the output of an LLM call to a JSON object.\n",
    "        89 \n",
    "        90     Args:\n",
    "    (...)     94         The parsed JSON object.\n",
    "        95     \"\"\"\n",
    "    ---> 96     return self.parse_result([Generation(text=text)])\n",
    "\n",
    "    File ~/.pyenv/versions/lc_env/lib/python3.13/site-packages/langchain_core/output_parsers/pydantic.py:61, in PydanticOutputParser.parse_result(self, result, partial)\n",
    "        48 \"\"\"Parse the result of an LLM call to a pydantic object.\n",
    "        49 \n",
    "        50 Args:\n",
    "    (...)     58     The parsed pydantic object.\n",
    "        59 \"\"\"\n",
    "        60 try:\n",
    "    ---> 61     json_object = super().parse_result(result)\n",
    "        62     return self._parse_obj(json_object)\n",
    "        63 except OutputParserException:\n",
    "\n",
    "    File ~/.pyenv/versions/lc_env/lib/python3.13/site-packages/langchain_core/output_parsers/json.py:85, in JsonOutputParser.parse_result(self, result, partial)\n",
    "        83 except JSONDecodeError as e:\n",
    "        84     msg = f\"Invalid json output: {text}\"\n",
    "    ---> 85     raise OutputParserException(msg, llm_output=text) from e\n",
    "\n",
    "    OutputParserException: Invalid json output: {'name': 'Tom Hanks', 'film_names': ['Forrest Gump']}\n",
    "    For troubleshooting, visit: https://python.langchain.com/docs/troubleshooting/errors/OUTPUT_PARSING_FAILURE\n",
    "    ```"
   ]
  },
  {
   "cell_type": "markdown",
   "id": "f97d3e4c",
   "metadata": {},
   "source": [
    "<small>\n",
    "\n",
    "---\n",
    "\n",
    "* 오류 메시지 해석\n",
    "\n",
    "  * 1. **첫 번째 오류: `JSONDecodeError`**\n",
    "\n",
    "  ```plaintext\n",
    "    JSONDecodeError: Expecting property name enclosed in double quotes: line 1 column 2 (char 1)\n",
    "  ```\n",
    "\n",
    "    * **문제**: `JSON`을 파싱하려고 했는데, `JSON`의 **key**(속성 이름)이 **따옴표**로 감싸져 있지 않아서 발생한 오류\n",
    "    * **구체적으로**\n",
    "      * `{'name': 'Tom Hanks', 'film_names': ['Forrest Gump']}`라는 문자열에서 `name`, `film_names` 등의 key가 작은따옴표 `'`로 감싸져 있음\n",
    "      * 하지만 `JSON`에서는 key가 **반드시 큰따옴표 `\"`** 로 감싸져야 함\n",
    "    * 이 오류는 Python의 기본 `json.loads()` 함수가 발생시키는 오류로, 작은 따옴표를 **큰따옴표** 로 바꿔야 한다는 것을 알려줌.\n",
    "\n",
    "  ---\n",
    "\n",
    "    * 2. **두 번째 오류: `OutputParserException`**\n",
    "\n",
    "  ```plaintext\n",
    "    The above exception was the direct cause of the following exception:\n",
    "\n",
    "    OutputParserException: Invalid json output: {'name': 'Tom Hanks', 'film_names': ['Forrest Gump']}\n",
    "  ```\n",
    "\n",
    "    * **문제**: `JSON` 파싱 오류 발생 → `OutputParserException` 발생\n",
    "    * **구체적으로**\n",
    "      * 첫 번째 오류인 `JSONDecodeError`가 발생 → 이 오류가 `OutputParserException`을 일으켰음\n",
    "      * 즉, **`잘못된 JSON 형식`** 이라는 예외 발생\n",
    "    * **왜?**\n",
    "      * `OutputParser` = **`JSON` 형식의 데이터를 예상**\n",
    "      * `but` 받은 데이터는 **`JSON` 형식이 아니었기 때문에** 이 예외가 발생\n",
    "\n",
    "  ---\n",
    "\n",
    "  * 3. **전체 오류 흐름**\n",
    "\n",
    "    * **`JsonOutputParser.parse()`** 메서드가 호출되었을 때, `{'name': 'Tom Hanks', 'film_names': ['Forrest Gump']}`라는 문자열을 **잘못된 `JSON`** 형식으로 처리하려고 했고, 이 과정에서 `JSONDecodeError`가 발생\n",
    "  \n",
    "    * 그런 후, 이 오류가 `OutputParserException`으로 이어졌는데, 이 예외는 `langchain`의 예외 처리 시스템에 의해 더 상위에서 포착되고, 최종적으로 **잘못된 `JSON`**을 전달했다는 메시지와 함께 예외가 발생\n",
    "\n",
    "  ---\n",
    "\n",
    "  * 4. **문제가 되는 부분**\n",
    "\n",
    "    * **잘못된 JSON 형식**: `{'name': 'Tom Hanks', 'film_names': ['Forrest Gump']}`라는 문자열에서 작은따옴표 `'`를 사용했기 때문에 **유효한 JSON이 아니었음**. 올바른 JSON은 \\*\\*큰따옴표 `\"`\\*\\*를 사용해야 함\n",
    "  \n",
    "    * 예를 들어, 다음과 같이 바꿔야 정상:\n",
    "\n",
    "      ```json\n",
    "      {\"name\": \"Tom Hanks\", \"film_names\": [\"Forrest Gump\"]}\n",
    "      ```\n",
    "\n",
    "---\n",
    "\n",
    "* 요약: **`JSONDecodeError`가 먼저 발생한 후, 그 결과로 **유효하지 않은 JSON 형식**이 전달되어 `OutputParserException`이 발생한 흐름**\n",
    "\n",
    "  * **`JSONDecodeError`**: 작은따옴표로 감싸진 JSON을 파싱하려 해서 발생한 오류.\n",
    "  * **`OutputParserException`**: 파싱 실패로 인한 예외로, 유효한 JSON을 받지 못했다고 알림.\n",
    "  * **문제의 근원**: JSON 문자열에서 **작은따옴표** 대신 **큰따옴표**를 써야 한다는 것."
   ]
  },
  {
   "cell_type": "markdown",
   "id": "ef847bb2",
   "metadata": {},
   "source": [
    "### **`OutputFixingParser` 사용해 바로 잡기**"
   ]
  },
  {
   "cell_type": "code",
   "execution_count": 6,
   "id": "03fb6c8f",
   "metadata": {},
   "outputs": [],
   "source": [
    "from langchain.output_parsers import OutputFixingParser\n",
    "\n",
    "new_parser = OutputFixingParser.from_llm(parser=parser, llm=gemini_lc)"
   ]
  },
  {
   "cell_type": "code",
   "execution_count": null,
   "id": "b929b0f3",
   "metadata": {},
   "outputs": [],
   "source": [
    "# 잘못된 형식의 출력\n",
    "misformatted                    # \"{'name': 'Tom Hanks', 'film_names': ['Forrest Gump']}\""
   ]
  },
  {
   "cell_type": "code",
   "execution_count": 8,
   "id": "4e01fe43",
   "metadata": {},
   "outputs": [],
   "source": [
    "# OutputFixingParser 를 사용하여 잘못된 형식의 출력을 파싱\n",
    "actor = new_parser.parse(misformatted)"
   ]
  },
  {
   "cell_type": "code",
   "execution_count": null,
   "id": "f04a6c0c",
   "metadata": {},
   "outputs": [
    {
     "data": {
      "text/plain": [
       "Actor(name='Tom Hanks', film_names=['Forrest Gump'])"
      ]
     },
     "execution_count": 9,
     "metadata": {},
     "output_type": "execute_result"
    }
   ],
   "source": [
    "# 파싱된 결과\n",
    "actor                            # Actor(name='Tom Hanks', film_names=['Forrest Gump'])"
   ]
  },
  {
   "cell_type": "markdown",
   "id": "333cdca0",
   "metadata": {},
   "source": [
    "---"
   ]
  },
  {
   "cell_type": "markdown",
   "id": "8fa994d0",
   "metadata": {},
   "source": [
    "* *next: LLM model*"
   ]
  }
 ],
 "metadata": {
  "kernelspec": {
   "display_name": "lc_env",
   "language": "python",
   "name": "python3"
  },
  "language_info": {
   "codemirror_mode": {
    "name": "ipython",
    "version": 3
   },
   "file_extension": ".py",
   "mimetype": "text/x-python",
   "name": "python",
   "nbconvert_exporter": "python",
   "pygments_lexer": "ipython3",
   "version": "3.13.5"
  }
 },
 "nbformat": 4,
 "nbformat_minor": 5
}
