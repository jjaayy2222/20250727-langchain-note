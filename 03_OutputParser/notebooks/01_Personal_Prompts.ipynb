{
 "cells": [
  {
   "cell_type": "markdown",
   "id": "6fb01575",
   "metadata": {},
   "source": [
    "---"
   ]
  },
  {
   "cell_type": "markdown",
   "id": "baaa6b0f",
   "metadata": {},
   "source": [
    "* 출처: LangChain 공식 문서 또는 해당 교재명\n",
    "* 원본 URL: https://smith.langchain.com/hub/teddynote/summary-stuff-documents"
   ]
  },
  {
   "cell_type": "markdown",
   "id": "995812f4",
   "metadata": {},
   "source": [
    "---"
   ]
  },
  {
   "cell_type": "markdown",
   "id": "f410c5b3",
   "metadata": {},
   "source": [
    "## **Out Parser**"
   ]
  },
  {
   "cell_type": "markdown",
   "id": "26678159",
   "metadata": {},
   "source": [
    "### 1) 개념"
   ]
  },
  {
   "cell_type": "markdown",
   "id": "dd1ef9fa",
   "metadata": {},
   "source": [
    "* LLM의 출력을 더 유용하고, 구조화된 형태로 변환하는 중요한 컴포넌트\n",
    "\n",
    "* 역할\n",
    "  * `LLM`의 출력 → 더 적합한 형식으로 변환\n",
    "  * **구조화된 데이터 생성** 에 매우 유용\n",
    "  * `LangChain 프레임워크`에서 다양한 종류의 출력 데이터를 파싱하고 처리\n",
    "\n",
    "* 주요 특징\n",
    "  * **다양성**: LangChain은 많은 종류의 출력 파서를 제공\n",
    "  * **스트리밍 지원**: 많은 출력 파서들이 스트리밍을 지원\n",
    "  * **확장성**: 최소한의 모듈부터 복잡한 모듈까지 확장 가능한 인터페이스를 제공\n",
    "  \n",
    "* 이점\n",
    "  * **구조화**: `LLM`의 `자유 형식 텍스트` 출력 → `구조화된 데이터` \n",
    "  * **일관성**: 출력 형식을 일관되게 유지 → 후속 처리 용이하게 함\n",
    "  * **유연성**: 다양한 출력 형식(`JSON`, `list`, `dict`등)으로 변환 가능\n",
    "  \n",
    "* 사용 전 / 후 차이 \n",
    "  * 아무런 출력 파서를 사용하지 않을 때\n",
    "  \n",
    "  ```markdown\n",
    "    **중요 내용 추출:**\n",
    "\n",
    "    1. **발신자:** 김철수 (chulsoo.kim@bikecorporation.me)\n",
    "    2. **수신자:** 이은채 (eunchae@teddyinternational.me)\n",
    "    3. **제목:** \"ZENESIS\" 자전거 유통 협력 및 미팅 일정 제안\n",
    "    4. **요청 사항:**\n",
    "      - ZENESIS 모델의 상세한 브로슈어 요청 (기술 사양, 배터리 성능, 디자인 정보 포함)\n",
    "    5. **미팅 제안:**\n",
    "      - 날짜: 다음 주 화요일 (1월 15일)\n",
    "      - 시간: 오전 10시\n",
    "      - 장소: 귀사 사무실\n",
    "\n",
    "    6. **발신자 정보:**\n",
    "      - 김철수, 상무이사, 바이크코퍼레이션\n",
    "  ```\n",
    "\n",
    "---\n",
    "\n",
    "  * **`JSON`** 형식의 구조화된 답변\n",
    "\n",
    "  ```json\n",
    "    {\n",
    "    \"person\": \"김철수\",\n",
    "    \"email\": \"chulsoo.kim@bikecorporation.me\",\n",
    "    \"subject\": \"\\\"ZENESIS\\\" 자전거 유통 협력 및 미팅 일정 제안\",\n",
    "    \"summary\": \"바이크코퍼레이션의 김철수 상무가 테디인터내셔널의 이은채 대리에게 신규 자전거 'ZENESIS' 모델에 대한 브로슈어 요청과 기술 사양, 배터리 성능, 디자인 정보 요청. 또한, 협력 논의를 위해 1월 15일 오전 10시에 미팅 제안.\",\n",
    "    \"date\": \"1월 15일 오전 10시\"\n",
    "    }\n",
    "  ```"
   ]
  },
  {
   "cell_type": "markdown",
   "id": "8549b48f",
   "metadata": {},
   "source": [
    "---"
   ]
  },
  {
   "cell_type": "markdown",
   "id": "d4d8f689",
   "metadata": {},
   "source": [
    "### **`2) Pydantic 출력 파서 (PydanticOutputParser)`**"
   ]
  },
  {
   "cell_type": "markdown",
   "id": "8590e13b",
   "metadata": {},
   "source": [
    "* `PydanticOutputParser` 는 **`언어 모델의 출력을 더 구조화된 정보로 변환`** 하는 데 도움이 되는 클래스\n",
    "  * 단순 텍스트 형태의 응답 대신, 사용자가 필요로 하는 정보를 명확하고 체계적인 형태로 제공 가능\n",
    "  * 언어 모델의 출력을 특정 데이터 모델에 맞게 변환 → 더 용이하게 정보를 처리하고 활용 가능\n",
    "\n",
    "<br>\n",
    "\n",
    "* **두 가지 핵심 메서드**\n",
    "  * `get_format_instructions()`: \n",
    "    * 언어 모델이 출력해야 할 **`정보의 형식`** 을 정의하는 지침(instruction) 을 제공\n",
    "    * 예를 들어, 언어 모델이 출력해야 할 데이터의 필드와 그 형태를 설명하는 지침을 문자열로 반환할\n",
    "    * 이때 설정하는 지침(`instruction`) 의 역할이 매우 중요 → 언어 모델은 출력을 구조화하고, 이를 특정 데이터 모델에 맞게 변환\n",
    "  * `parse()`: \n",
    "    * 언어 모델의 출력(문자열로 가정)을 받아들여 이를 **`특정 구조`** 로 분석하고 변환합니다. \n",
    "    * **`Pydantic`** 와 같은 도구를 사용하여, `입력된 문자열`을 사전 정의된 `스키마`에 따라 `검증`하고, 해당 스키마를 따르는 `데이터 구조`로 `변환`\n",
    "\n",
    "<br>\n",
    "\n",
    "* *[Pydatic 공식 도큐먼트](https://docs.pydantic.dev/latest/)*"
   ]
  },
  {
   "cell_type": "code",
   "execution_count": 1,
   "id": "3597e098",
   "metadata": {},
   "outputs": [],
   "source": [
    "# 1_새 프롬프트 생성하기\n",
    "from langsmith import Client\n",
    "from langchain.prompts import PromptTemplate\n",
    "from langchain.prompts import ChatPromptTemplate\n",
    "from langsmith import Client\n",
    "\n",
    "import os\n",
    "import json\n",
    "\n",
    "\n",
    "# 클라이언트 생성 \n",
    "api_key = os.getenv(\"LANGSMITH_API_KEY\")\n",
    "client = Client(api_key=api_key)"
   ]
  },
  {
   "cell_type": "code",
   "execution_count": null,
   "id": "f1606fbf",
   "metadata": {},
   "outputs": [],
   "source": [
    "from langchain_google_genai import ChatGoogleGenerativeAI\n",
    "from langchain_core.output_parsers import StrOutputParser\n",
    "from langsmith import traceable\n",
    "\n",
    "# LLM 초기화\n",
    "gemini_lc = ChatGoogleGenerativeAI(\n",
    "        model=\"gemini-2.5-flash-lite\",\n",
    "        temperature=0.7,                                    \n",
    "        max_output_tokens=4096,\n",
    "    )"
   ]
  },
  {
   "cell_type": "markdown",
   "id": "db0d8dd7",
   "metadata": {},
   "source": [
    "* [이메일 본문 예시](https://wikidocs.net/233786)"
   ]
  },
  {
   "cell_type": "code",
   "execution_count": 3,
   "id": "956c393b",
   "metadata": {},
   "outputs": [],
   "source": [
    "email_conversation = \"\"\"From: 김철수 (chulsoo.kim@bikecorporation.me)\n",
    "To: 이은채 (eunchae@teddyinternational.me)\n",
    "Subject: \"ZENESIS\" 자전거 유통 협력 및 미팅 일정 제안\n",
    "\n",
    "안녕하세요, 이은채 대리님,\n",
    "\n",
    "저는 바이크코퍼레이션의 김철수 상무입니다. 최근 보도자료를 통해 귀사의 신규 자전거 \"ZENESIS\"에 대해 알게 되었습니다. 바이크코퍼레이션은 자전거 제조 및 유통 분야에서 혁신과 품질을 선도하는 기업으로, 이 분야에서의 장기적인 경험과 전문성을 가지고 있습니다.\n",
    "\n",
    "ZENESIS 모델에 대한 상세한 브로슈어를 요청드립니다. 특히 기술 사양, 배터리 성능, 그리고 디자인 측면에 대한 정보가 필요합니다. 이를 통해 저희가 제안할 유통 전략과 마케팅 계획을 보다 구체화할 수 있을 것입니다.\n",
    "\n",
    "또한, 협력 가능성을 더 깊이 논의하기 위해 다음 주 화요일(1월 15일) 오전 10시에 미팅을 제안합니다. 귀사 사무실에서 만나 이야기를 나눌 수 있을까요?\n",
    "\n",
    "감사합니다.\n",
    "\n",
    "김철수\n",
    "상무이사\n",
    "바이크코퍼레이션\n",
    "\"\"\""
   ]
  },
  {
   "cell_type": "code",
   "execution_count": null,
   "id": "f830758f",
   "metadata": {},
   "outputs": [],
   "source": [
    "# 출력 파서를 사용하지 않는 경우\n",
    "from langchain_core.prompts import PromptTemplate\n",
    "from langchain_core.runnables import RunnablePassthrough\n",
    "from langchain_core.output_parsers import StrOutputParser\n",
    "from itertools import chain\n",
    "\n",
    "gemini_lc = ChatGoogleGenerativeAI(\n",
    "        model=\"gemini-2.5-flash-lite\",\n",
    "        temperature=0.7,                                    \n",
    "        max_output_tokens=4096,\n",
    "    )\n",
    "\n",
    "# 중요한 내용을 추출하기 위한 프롬프트 템플릿을 정의합니다.\n",
    "prompt = PromptTemplate.from_template(\n",
    "    \"다음의 이메일 내용중 중요한 내용을 추출해 주세요.\\n\\n{email_conversation}\"\n",
    ")\n",
    "\n",
    "# LangChain의 Expression Language (LCEL)를 사용하여 체인을 구성합니다.\n",
    "# 프롬프트 -> 모델 -> 문자열 출력 파서 순서로 연결됩니다.\n",
    "# StrOutputParser를 추가하면 모델의 응답을 깔끔한 문자열로 변환합니다.\n",
    "chain = prompt | gemini_lc | StrOutputParser()\n",
    "\n",
    "# stream() 메서드를 사용하여 응답을 실시간으로 스트리밍합니다.\n",
    "print(\"--- 이메일 내용 요약 스트리밍 ---\")\n",
    "print(\"------------------------------\\n\")\n",
    "for chunk in chain.stream({\"email_conversation\": email_conversation}):\n",
    "    print(chunk, end=\"\", flush=True)\n",
    "\n",
    "print(\"\\n\\n--- 전체 요약 결과 ---\")\n",
    "print(\"--------------------\\n\")\n",
    "# invoke() 메서드를 사용하여 전체 응답을 한 번에 받습니다.\n",
    "answer = chain.invoke({\"email_conversation\": email_conversation})\n",
    "print(answer)"
   ]
  },
  {
   "cell_type": "markdown",
   "id": "333d19cd",
   "metadata": {},
   "source": [
    "<small>\n",
    "\n",
    "* 셀 출력 (temperature=0, outparser X)(2.8s)\n",
    "\n",
    "    ```markdown\n",
    "    --- 이메일 내용 요약 스트리밍 ---\n",
    "    ------------------------------\n",
    "\n",
    "    이메일의 중요 내용은 다음과 같습니다.\n",
    "\n",
    "    *   **발신자:** 김철수 상무 (바이크코퍼레이션)\n",
    "    *   **수신자:** 이은채 대리 (테디인터내셔널)\n",
    "    *   **주요 목적:** 테디인터내셔널의 신규 자전거 \"ZENESIS\" 유통 협력 제안\n",
    "    *   **요청 사항:**\n",
    "        *   \"ZENESIS\" 자전거의 상세 브로슈어 요청 (기술 사양, 배터리 성능, 디자인 정보 포함)\n",
    "    *   **제안 사항:**\n",
    "        *   협력 논의를 위한 미팅 제안\n",
    "        *   **미팅 일정:** 다음 주 화요일 (1월 15일) 오전 10시\n",
    "        *   **미팅 장소:** 테디인터내셔널 사무실\n",
    "\n",
    "    --- 전체 요약 결과 ---\n",
    "    --------------------\n",
    "\n",
    "    이메일에서 추출된 중요한 내용은 다음과 같습니다.\n",
    "\n",
    "    *   **발신자:** 김철수 상무 (바이크코퍼레이션)\n",
    "    *   **수신자:** 이은채 대리 (테디인터내셔널)\n",
    "    *   **주요 목적:** 테디인터내셔널의 신규 자전거 \"ZENESIS\"에 대한 유통 협력 제안\n",
    "    *   **요청 사항:**\n",
    "        *   \"ZENESIS\" 자전거의 상세 브로슈어 요청 (기술 사양, 배터리 성능, 디자인 정보 포함)\n",
    "    *   **제안 사항:**\n",
    "        *   협력 논의를 위한 미팅 제안: **다음 주 화요일 (1월 15일) 오전 10시**, 테디인터내셔널 사무실\n",
    "    ```"
   ]
  },
  {
   "cell_type": "code",
   "execution_count": null,
   "id": "a1f2fdd9",
   "metadata": {},
   "outputs": [],
   "source": [
    "# outparser 사용\n",
    "from itertools import chain\n",
    "from langchain_core.prompts import PromptTemplate\n",
    "from pydantic import BaseModel, Field\n",
    "from langchain_core.output_parsers import StrOutputParser,  PydanticOutputParser\n",
    "\n",
    "class EmailSummary(BaseModel):\n",
    "    person: str = Field(description=\"메일을 보낸 사람\")\n",
    "    email: str = Field(description=\"메일을 보낸 사람의 이메일 주소\")\n",
    "    subject: str = Field(description=\"메일 제목\")\n",
    "    summary: str = Field(description=\"메일 본문을 요약한 텍스트\")\n",
    "    date: str = Field(description=\"메일 본문에 언급된 미팅 날짜와 시간\")\n",
    "\n",
    "\n",
    "# PydanticOutputParser 생성\n",
    "parser = PydanticOutputParser(pydantic_object=EmailSummary)\n",
    "\n",
    "# instruction 출력해보기\n",
    "print(parser.get_format_instructions())"
   ]
  },
  {
   "cell_type": "markdown",
   "id": "bbf61c4e",
   "metadata": {},
   "source": [
    "<small>\n",
    "\n",
    "* 셀 출력 (0.0s)\n",
    "\n",
    "    ```markdown\n",
    "\n",
    "    The output should be formatted as a JSON instance that conforms to the JSON schema below.\n",
    "\n",
    "    As an example, for the schema {\"properties\": {\"foo\": {\"title\": \"Foo\", \"description\": \"a list of strings\", \"type\": \"array\", \"items\": {\"type\": \"string\"}}}, \"required\": [\"foo\"]}\n",
    "    the object {\"foo\": [\"bar\", \"baz\"]} is a well-formatted instance of the schema. The object {\"properties\": {\"foo\": [\"bar\", \"baz\"]}} is not well-formatted.\n",
    "\n",
    "    Here is the output schema:\n",
    "    ```\n",
    "\n",
    "    ```json\n",
    "    {\"properties\": {\"person\": {\"description\": \"메일을 보낸 사람\", \"title\": \"Person\", \"type\": \"string\"}, \"email\": {\"description\": \"메일을 보낸 사람의 이메일 주소\", \"title\": \"Email\", \"type\": \"string\"}, \"subject\": {\"description\": \"메일 제목\", \"title\": \"Subject\", \"type\": \"string\"}, \"summary\": {\"description\": \"메일 본문을 요약한 텍스트\", \"title\": \"Summary\", \"type\": \"string\"}, \"date\": {\"description\": \"메일 본문에 언급된 미팅 날짜와 시간\", \"title\": \"Date\", \"type\": \"string\"}}, \"required\": [\"person\", \"email\", \"subject\", \"summary\", \"date\"]}\n",
    "    ```\n"
   ]
  },
  {
   "cell_type": "markdown",
   "id": "a0fbcfbe",
   "metadata": {},
   "source": [
    "* **프롬프트** 정의\n",
    "\n",
    "  * `question`: 유저의 질문 받기\n",
    "  * `email_conversation`: 이메일 본문의 내용 입력\n",
    "  * `format`: 형식 지정"
   ]
  },
  {
   "cell_type": "code",
   "execution_count": 10,
   "id": "fb2ee98c",
   "metadata": {},
   "outputs": [],
   "source": [
    "prompt = PromptTemplate.from_template(\n",
    "    \"\"\"\n",
    "You are a helpful assistant. Please answer the following questions in KOREAN.\n",
    "\n",
    "QUESTION:\n",
    "{question}\n",
    "\n",
    "EMAIL CONVERSATION:\n",
    "{email_conversation}\n",
    "\n",
    "FORMAT:\n",
    "{format}\n",
    "\"\"\"\n",
    ")\n",
    "\n",
    "# format 에 PydanticOutputParser의 부분 포맷팅(partial) 추가\n",
    "prompt = prompt.partial(format=parser.get_format_instructions())\n"
   ]
  },
  {
   "cell_type": "markdown",
   "id": "0251deb8",
   "metadata": {},
   "source": [
    "* `Chain` 생성하기"
   ]
  },
  {
   "cell_type": "code",
   "execution_count": 20,
   "id": "6963d8b6",
   "metadata": {},
   "outputs": [
    {
     "name": "stderr",
     "output_type": "stream",
     "text": [
      "Both GOOGLE_API_KEY and GEMINI_API_KEY are set. Using GOOGLE_API_KEY.\n"
     ]
    }
   ],
   "source": [
    "from google import genai\n",
    "from langchain_google_genai import ChatGoogleGenerativeAI\n",
    "\n",
    "client = genai.Client()\n",
    "\n",
    "# chain 생성\n",
    "chain = prompt | gemini_lc"
   ]
  },
  {
   "cell_type": "markdown",
   "id": "8cf0bfb0",
   "metadata": {},
   "source": [
    "* `Chain` 실행 → **결과 확인**"
   ]
  },
  {
   "cell_type": "code",
   "execution_count": null,
   "id": "a4097836",
   "metadata": {},
   "outputs": [],
   "source": [
    "import json\n",
    "from langchain_core.prompts import PromptTemplate\n",
    "from langchain_google_genai import ChatGoogleGenerativeAI\n",
    "from langchain_core.output_parsers import StrOutputParser, PydanticOutputParser\n",
    "from pydantic import BaseModel, Field\n",
    "\n",
    "# gemini_lc 변수에 적절한 모델 객체를 할당해야 함\n",
    "# genai.GenerativeModel을 ChatGoogleGenerativeAI로 래핑하여 사용하기\n",
    "# API 키가 설정되어 있어 햠\n",
    "# genai.configure(api_key=\"YOUR_API_KEY\")\n",
    "gemini_lc = ChatGoogleGenerativeAI(\n",
    "        model=\"gemini-2.5-flash-lite\",\n",
    "        temperature=0.7,                                    \n",
    "        max_output_tokens=4096,\n",
    "    )\n",
    "\n",
    "\n",
    "# 이메일 내용\n",
    "email_conversation = \"\"\"From: 김철수 (chulsoo.kim@bikecorporation.me)\n",
    "To: 이은채 (eunchae@teddyinternational.me)\n",
    "Subject: \"ZENESIS\" 자전거 유통 협력 및 미팅 일정 제안\n",
    "\n",
    "안녕하세요, 이은채 대리님,\n",
    "\n",
    "저는 바이크코퍼레이션의 김철수 상무입니다. 최근 보도자료를 통해 귀사의 신규 자전거 \"ZENESIS\"에 대해 알게 되었습니다. 바이크코퍼레이션은 자전거 제조 및 유통 분야에서 혁신과 품질을 선도하는 기업으로, 이 분야에서의 장기적인 경험과 전문성을 가지고 있습니다.\n",
    "\n",
    "ZENESIS 모델에 대한 상세한 브로슈어를 요청드립니다. 특히 기술 사양, 배터리 성능, 그리고 디자인 측면에 대한 정보가 필요합니다. 이를 통해 저희가 제안할 유통 전략과 마케팅 계획을 보다 구체화할 수 있을 것입니다.\n",
    "\n",
    "또한, 협력 가능성을 더 깊이 논의하기 위해 다음 주 화요일(1월 15일) 오전 10시에 미팅을 제안합니다. 귀사 사무실에서 만나 이야기를 나눌 수 있을까요?\n",
    "\n",
    "감사합니다.\n",
    "\n",
    "김철수\n",
    "상무이사\n",
    "바이크코퍼레이션\n",
    "\"\"\"\n",
    "\n",
    "# Pydantic 모델 정의\n",
    "# 이메일에서 추출하고 싶은 정보의 구조를 클래스로 정의하기\n",
    "class EmailSummary(BaseModel):\n",
    "    person: str = Field(description=\"메일을 보낸 사람\")\n",
    "    email: str = Field(description=\"메일을 보낸 사람의 이메일 주소\")\n",
    "    subject: str = Field(description=\"메일 제목\")\n",
    "    summary: str = Field(description=\"메일 본문을 요약한 텍스트\")\n",
    "    date: str = Field(description=\"메일 본문에 언급된 미팅 날짜와 시간\")\n",
    "\n",
    "# PydanticOutputParser 생성\n",
    "# 모델의 응답을 위에서 정의한 Pydantic 객체로 파싱하는 파서를 만듭니다.\n",
    "parser = PydanticOutputParser(pydantic_object=EmailSummary)\n",
    "\n",
    "# instruction 출력하기\n",
    "print(parser.get_format_instructions())"
   ]
  },
  {
   "cell_type": "markdown",
   "id": "86b37a75",
   "metadata": {},
   "source": [
    "<small>\n",
    "\n",
    "* 셀 출력\n",
    "\n",
    "    ```markdown\n",
    "    The output should be formatted as a JSON instance that conforms to the JSON schema below.\n",
    "\n",
    "    As an example, for the schema {\"properties\": {\"foo\": {\"title\": \"Foo\", \"description\": \"a list of strings\", \"type\": \"array\", \"items\": {\"type\": \"string\"}}}, \"required\": [\"foo\"]}\n",
    "    the object {\"foo\": [\"bar\", \"baz\"]} is a well-formatted instance of the schema. The object {\"properties\": {\"foo\": [\"bar\", \"baz\"]}} is not well-formatted.\n",
    "\n",
    "    Here is the output schema:\n",
    "    ```\n",
    "    ```json\n",
    "    {\"properties\": {\"person\": {\"description\": \"메일을 보낸 사람\", \"title\": \"Person\", \"type\": \"string\"}, \"email\": {\"description\": \"메일을 보낸 사람의 이메일 주소\", \"title\": \"Email\", \"type\": \"string\"}, \"subject\": {\"description\": \"메일 제목\", \"title\": \"Subject\", \"type\": \"string\"}, \"summary\": {\"description\": \"메일 본문을 요약한 텍스트\", \"title\": \"Summary\", \"type\": \"string\"}, \"date\": {\"description\": \"메일 본문에 언급된 미팅 날짜와 시간\", \"title\": \"Date\", \"type\": \"string\"}}, \"required\": [\"person\", \"email\", \"subject\", \"summary\", \"date\"]}\n",
    "    ```"
   ]
  },
  {
   "cell_type": "code",
   "execution_count": 48,
   "id": "d3e1f2dd",
   "metadata": {},
   "outputs": [],
   "source": [
    "# 프롬프트 템플릿 정의\n",
    "prompt = PromptTemplate.from_template(\n",
    "    \"\"\"\n",
    "You are a helpful assistant. Please answer the following questions in KOREAN.\n",
    "\n",
    "QUESTION:\n",
    "{question}\n",
    "\n",
    "EMAIL CONVERSATION:\n",
    "{email_conversation}\n",
    "\n",
    "FORMAT:\n",
    "{format}\n",
    "\"\"\"\n",
    ")\n",
    "# 프롬프트에 JSON 형식 지시사항 추가\n",
    "# models.generate_content는 JSON을 출력하도록 명시적으로 지시하기\n",
    "# parser.get_format_instructions()가 그 역할을 함\n",
    "# format 에 PydanticOutputParser의 부분 포맷팅(partial) 추가\n",
    "prompt = prompt.partial(format=parser.get_format_instructions())\n"
   ]
  },
  {
   "cell_type": "code",
   "execution_count": 49,
   "id": "2420306f",
   "metadata": {},
   "outputs": [],
   "source": [
    "# chain 생성하기\n",
    "chain = prompt | gemini_lc\n",
    "\n",
    "# Chain 실행 → 결과 출력\n",
    "response = chain.stream(\n",
    "    {\n",
    "        \"email_conversation\": email_conversation,\n",
    "        \"question\": \"이메일 내용 중 주요 내용을 추출해 주세요.\",\n",
    "    }\n",
    ")\n",
    "\n",
    "# 결과 = JSON 형태로 출력하기\n",
    "output = stream_response(response, return_output=True)"
   ]
  },
  {
   "cell_type": "code",
   "execution_count": 50,
   "id": "992fbfe2",
   "metadata": {},
   "outputs": [
    {
     "name": "stdout",
     "output_type": "stream",
     "text": [
      "<class 'str'>\n"
     ]
    }
   ],
   "source": [
    "print(type(output))"
   ]
  },
  {
   "cell_type": "markdown",
   "id": "bc4d6ca6",
   "metadata": {},
   "source": [
    "* **`parser`** 추가 체인 생성하기"
   ]
  },
  {
   "cell_type": "code",
   "execution_count": 53,
   "id": "19514787",
   "metadata": {},
   "outputs": [],
   "source": [
    "chain = prompt | gemini_lc | parser"
   ]
  },
  {
   "cell_type": "code",
   "execution_count": 54,
   "id": "49bf7ee4",
   "metadata": {},
   "outputs": [
    {
     "data": {
      "text/plain": [
       "EmailSummary(person='김철수', email='chulsoo.kim@bikecorporation.me', subject='\"ZENESIS\" 자전거 유통 협력 및 미팅 일정 제안', summary='바이크코퍼레이션의 김철수 상무가 테디인터내셔널의 이은채 대리에게 신규 자전거 \"ZENESIS\"에 대한 유통 협력을 제안하며, 상세 브로슈어(기술 사양, 배터리 성능, 디자인)를 요청했습니다.', date='다음 주 화요일(1월 15일) 오전 10시')"
      ]
     },
     "execution_count": 54,
     "metadata": {},
     "output_type": "execute_result"
    }
   ],
   "source": [
    "# chain 실행 → 결과 출력\n",
    "response = chain.invoke(\n",
    "    {\n",
    "        \"email_conversation\": email_conversation,\n",
    "        \"question\": \"이메일 내용중 주요 내용을 추출해 주세요.\",\n",
    "    }\n",
    ")\n",
    "\n",
    "# 결과 = EmailSummary = 객체 형태 출력\n",
    "response"
   ]
  },
  {
   "cell_type": "markdown",
   "id": "9d174cac",
   "metadata": {},
   "source": [
    "<small>\n",
    "\n",
    "* 셀 출력 (1.4s)\n",
    "\n",
    "    ```markdown\n",
    "    EmailSummary(person='김철수', email='chulsoo.kim@bikecorporation.me', subject='\"ZENESIS\" 자전거 유통 협력 및 미팅 일정 제안', summary='바이크코퍼레이션의 김철수 상무가 테디인터내셔널의 이은채 대리에게 신규 자전거 \"ZENESIS\"에 대한 유통 협력을 제안하며, 상세 브로슈어(기술 사양, 배터리 성능, 디자인)를 요청했습니다.', date='다음 주 화요일(1월 15일) 오전 10시')\n",
    "    ```\n"
   ]
  },
  {
   "cell_type": "markdown",
   "id": "33c738fd",
   "metadata": {},
   "source": [
    "### 3) **`with_structurec_output()`**"
   ]
  },
  {
   "cell_type": "markdown",
   "id": "3b7022db",
   "metadata": {},
   "source": [
    "* `.with_structured_output(Pydantic)` → 출력 파서를 추가 → 출력을 `Pydantic 객체`로 변환\n",
    "* *한 가지 아쉬운 점은 `strea()` 기능을 지원하지 않는다는 점*"
   ]
  },
  {
   "cell_type": "code",
   "execution_count": 55,
   "id": "1abfb756",
   "metadata": {},
   "outputs": [],
   "source": [
    "gemini_lc_with_structered = ChatGoogleGenerativeAI(\n",
    "        model=\"gemini-2.5-flash-lite\",\n",
    "        temperature=0.7,                                    \n",
    "        max_output_tokens=4096,\n",
    "    ).with_structured_output(EmailSummary)"
   ]
  },
  {
   "cell_type": "code",
   "execution_count": null,
   "id": "68b78730",
   "metadata": {},
   "outputs": [],
   "source": [
    "# invoke() 함수를 호출 → 결과 출력\n",
    "answer = gemini_lc_with_structered.invoke(email_conversation)\n",
    "answer"
   ]
  },
  {
   "cell_type": "markdown",
   "id": "46dba36b",
   "metadata": {},
   "source": [
    "<small>\n",
    "\n",
    "* 셀 출력 (변수 조절 = 위와 같음)(1.3s)\n",
    "\n",
    "    ```markdown\n",
    "    EmailSummary(person='김철수', email='chulsoo.kim@bikecorporation.me', subject='\"ZENESIS\" 자전거 유통 협력 및 미팅 일정 제안', summary='\"ZENESIS\" 자전거의 유통 협력과 관련하여 상세 브로슈어를 요청하며, 1월 15일 오전 10시에 미팅을 제안하는 내용.', date='1월 15일 오전 10시')\n",
    "    ```"
   ]
  }
 ],
 "metadata": {
  "kernelspec": {
   "display_name": "lc_env",
   "language": "python",
   "name": "python3"
  },
  "language_info": {
   "codemirror_mode": {
    "name": "ipython",
    "version": 3
   },
   "file_extension": ".py",
   "mimetype": "text/x-python",
   "name": "python",
   "nbconvert_exporter": "python",
   "pygments_lexer": "ipython3",
   "version": "3.13.5"
  }
 },
 "nbformat": 4,
 "nbformat_minor": 5
}
