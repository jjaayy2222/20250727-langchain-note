{
 "cells": [
  {
   "cell_type": "markdown",
   "id": "e7ed511c",
   "metadata": {},
   "source": [
    "---"
   ]
  },
  {
   "cell_type": "markdown",
   "id": "a53405de",
   "metadata": {},
   "source": [
    "* 출처: LangChain 공식 문서 또는 해당 교재명\n",
    "* 원본 URL: https://smith.langchain.com/hub/teddynote/summary-stuff-documents"
   ]
  },
  {
   "cell_type": "markdown",
   "id": "87fb66a5",
   "metadata": {},
   "source": [
    "---"
   ]
  },
  {
   "cell_type": "markdown",
   "id": "dadc0ed3",
   "metadata": {},
   "source": [
    "## **EnumOutputParser**"
   ]
  },
  {
   "cell_type": "markdown",
   "id": "cb892e2c",
   "metadata": {},
   "source": [
    "* 언어 모델의 출력을 `미리 정의된 열거형`(`Enum`) 값 중 하나로 `파싱`하는 도구"
   ]
  },
  {
   "cell_type": "markdown",
   "id": "47dbc6f7",
   "metadata": {},
   "source": [
    "### **주요 특징**"
   ]
  },
  {
   "cell_type": "markdown",
   "id": "35ad6662",
   "metadata": {},
   "source": [
    "* **열거형 파싱**: `문자열 출력`을 `미리 정의된 Enum 값`으로 변환\n",
    "* **타입 안전성**: `파싱된 결과`가 `반드시 정의된 Enum 값` 중 하나임을 보장\n",
    "* **유연성**: `공백`이나 `줄바꿈` 문자를 `자동`으로 `처리`"
   ]
  },
  {
   "cell_type": "markdown",
   "id": "685d6697",
   "metadata": {},
   "source": [
    "### **사용 방법**"
   ]
  },
  {
   "cell_type": "markdown",
   "id": "727046bf",
   "metadata": {},
   "source": [
    "* `EnumOutputParser` 언어 모델의 출력에서 `유효한 Enum 값`을 `추출`하는 데 유용\n",
    "* 출력 데이터의 `일관성을 유지`하고 `예측 가능성`을 높일 수 있음\n",
    "\n",
    "<br>\n",
    "\n",
    "* 파서 사용: `미리 정의된 Enum 값을 설정` → 해당 값을 기준으로 `문자열 출력`을 파싱"
   ]
  },
  {
   "cell_type": "code",
   "execution_count": 1,
   "id": "2bc6edeb",
   "metadata": {},
   "outputs": [],
   "source": [
    "# 1_새 프롬프트 생성하기\n",
    "from langsmith import Client\n",
    "from langchain.prompts import PromptTemplate                            # Langchain에서 프롬프트 템플릿을 만들기 위한 모듈 임포트\n",
    "from langchain.prompts import ChatPromptTemplate\n",
    "from langsmith import Client\n",
    "\n",
    "import os\n",
    "import json\n",
    "\n",
    "\n",
    "# 클라이언트 생성 \n",
    "api_key = os.getenv(\"LANGSMITH_API_KEY\")\n",
    "client = Client(api_key=api_key)"
   ]
  },
  {
   "cell_type": "code",
   "execution_count": 2,
   "id": "4349b320",
   "metadata": {},
   "outputs": [],
   "source": [
    "from langchain.output_parsers.enum import EnumOutputParser               # EnumOutputParser 출력을 위한 임포트"
   ]
  },
  {
   "cell_type": "code",
   "execution_count": 3,
   "id": "51f9fff1",
   "metadata": {},
   "outputs": [],
   "source": [
    "from langchain_google_genai import ChatGoogleGenerativeAI\n",
    "from langchain_core.output_parsers import StrOutputParser\n",
    "from langchain_core.output_parsers import JsonOutputParser\n",
    "from pydantic import BaseModel, Field\n",
    "from langsmith import traceable                                     # LangSmith 추적 설정\n",
    "\n",
    "# LLM 초기화\n",
    "gemini_lc = ChatGoogleGenerativeAI(\n",
    "        model=\"gemini-2.5-flash-lite\",\n",
    "        temperature=0.7,                                    \n",
    "        max_output_tokens=4096,\n",
    "    )"
   ]
  },
  {
   "cell_type": "markdown",
   "id": "3d6fc7b8",
   "metadata": {},
   "source": [
    "---"
   ]
  },
  {
   "cell_type": "markdown",
   "id": "c9c7fad1",
   "metadata": {},
   "source": [
    "* `enum` 모듈 사용 → `Colors` 클래스 정의하기\n",
    "  \n",
    "* `Colors`클래스 = `Enum` 상속 → `RED` `GREEN` `BLUE`의 세 가지 색상 값을 가짐"
   ]
  },
  {
   "cell_type": "code",
   "execution_count": null,
   "id": "51d77196",
   "metadata": {},
   "outputs": [],
   "source": [
    "from enum import Enum\n",
    "\n",
    "class Colors(Enum):\n",
    "    RED = \"빨간색\"\n",
    "    GREEN = \"초록색\"\n",
    "    BLUE = \"파란색\"\n",
    "\n",
    "# EnumOutputParser 인스턴스 생성\n",
    "parser = EnumOutputParser(enum=Colors)\n",
    "print(parser)                                   # enum=<enum 'Colors'>\n",
    "print(type(parser))                             # <class 'langchain.output_parsers.enum.EnumOutputParser'>"
   ]
  },
  {
   "cell_type": "markdown",
   "id": "8f1b6f21",
   "metadata": {},
   "source": [
    "* `프롬프트` = **사람의 정보`({person})`** + **파싱 지침`({instructions})`** 포함\n",
    "  \n",
    "* `parser.get_format_instructions() 함수`를 호출하여 파싱 지침 가져오기\n",
    "  \n",
    "* `체인` = **프롬프트** | **`LLM`모델** | **파서**"
   ]
  },
  {
   "cell_type": "code",
   "execution_count": null,
   "id": "a3709bf3",
   "metadata": {},
   "outputs": [],
   "source": [
    "# 프롬프트 템플릿 생성하기\n",
    "prompt = PromptTemplate.from_template(\n",
    "    \"\"\"다음의 물체는 어떤 색깔인가요?\n",
    "\n",
    "Object: {object}\n",
    "\n",
    "Instructions: {instructions}\"\"\"\n",
    "    # 파서에서 지시사항 형식을 가져와 부분적으로 적용하기\n",
    ").partial(instructions=parser.get_format_instructions())\n",
    "\n",
    "\n",
    "print(prompt)                           \n",
    "# input_variables=['object'] input_types={} partial_variables={'instructions': 'Select one of the following options: 빨간색, 초록색, 파란색'} template='다음의 물체는 어떤 색깔인가요?\\n\\nObject: {object}\\n\\nInstructions: {instructions}'\n",
    "print(type(prompt))                  # <class 'langchain_core.prompts.prompt.PromptTemplate'>\n",
    "\n",
    "# 체인 생성 = 프롬프트 + LLM 모델 + 파서\n",
    "chain = prompt | gemini_lc | parser"
   ]
  },
  {
   "cell_type": "markdown",
   "id": "c64accb0",
   "metadata": {},
   "source": [
    "* `chain.invoke` 함수를 사용하여 **하늘** 에 대한 정보를 요청"
   ]
  },
  {
   "cell_type": "code",
   "execution_count": null,
   "id": "fa7603c9",
   "metadata": {},
   "outputs": [],
   "source": [
    "response = chain.invoke({\"object\": \"하늘\"})                 # \"하늘\" 에 대한 체인 호출 실행\n",
    "print(response)"
   ]
  },
  {
   "cell_type": "markdown",
   "id": "7a731130",
   "metadata": {},
   "source": [
    "<small>\n",
    "\n",
    "* 셀 출력 (1.3s)\n",
    "\n",
    "    ```plaintext\n",
    "    Colors.BLUE\n",
    "    ```"
   ]
  },
  {
   "cell_type": "markdown",
   "id": "2655c324",
   "metadata": {},
   "source": [
    "---"
   ]
  },
  {
   "cell_type": "markdown",
   "id": "476e4954",
   "metadata": {},
   "source": [
    "### 실험"
   ]
  },
  {
   "cell_type": "markdown",
   "id": "aff00d4c",
   "metadata": {},
   "source": [
    "* **Q.** 클래스에서 벗어난 `object`를 물어보면 어떻게 될까?"
   ]
  },
  {
   "cell_type": "code",
   "execution_count": null,
   "id": "c1479d8e",
   "metadata": {},
   "outputs": [],
   "source": [
    "response2 = chain.invoke({\"object\": \"나무\"})                # \"나무\" 에 대한 체인 호출 실행\n",
    "print(response2)"
   ]
  },
  {
   "cell_type": "markdown",
   "id": "2a275bc2",
   "metadata": {},
   "source": [
    "<small>    \n",
    "\n",
    "* 셀 출력 (1.0s) → **파싱 실패!**\n",
    "    \n",
    "    ```python\n",
    "    ---------------------------------------------------------------------------\n",
    "    ValueError                                Traceback (most recent call last)\n",
    "    File ~/.pyenv/versions/lc_env/lib/python3.13/site-packages/langchain/output_parsers/enum.py:28, in EnumOutputParser.parse(self, response)\n",
    "        27 try:\n",
    "    ---> 28     return self.enum(response.strip())\n",
    "        29 except ValueError as e:\n",
    "\n",
    "    File ~/.pyenv/versions/3.13.5/lib/python3.13/enum.py:726, in EnumType.__call__(cls, value, names, module, qualname, type, start, boundary, *values)\n",
    "        725         value = (value, names) + values\n",
    "    --> 726     return cls.__new__(cls, value)\n",
    "        727 # otherwise, functional API: we're creating a new Enum type\n",
    "\n",
    "    File ~/.pyenv/versions/3.13.5/lib/python3.13/enum.py:1203, in Enum.__new__(cls, value)\n",
    "    1202 if result is None and exc is None:\n",
    "    -> 1203     raise ve_exc\n",
    "    1204 elif exc is None:\n",
    "\n",
    "    ValueError: '나무' is not a valid Colors\n",
    "\n",
    "    The above exception was the direct cause of the following exception:\n",
    "\n",
    "    OutputParserException                     Traceback (most recent call last)\n",
    "    Cell In[7], line 1\n",
    "    ----> 1 response2 = chain.invoke({\"object\": \"나무\"})                # \"나무\" 에 대한 체인 호출 실행\n",
    "        2 print(response2)\n",
    "\n",
    "    File ~/.pyenv/versions/lc_env/lib/python3.13/site-packages/langchain_core/runnables/base.py:3046, in RunnableSequence.invoke(self, input, config, **kwargs)\n",
    "    3044                 input_ = context.run(step.invoke, input_, config, **kwargs)\n",
    "    3045             else:\n",
    "    -> 3046                 input_ = context.run(step.invoke, input_, config)\n",
    "    3047 # finish the root run\n",
    "    3048 except BaseException as e:\n",
    "\n",
    "    File ~/.pyenv/versions/lc_env/lib/python3.13/site-packages/langchain_core/output_parsers/base.py:196, in BaseOutputParser.invoke(self, input, config, **kwargs)\n",
    "        188 @override\n",
    "        189 def invoke(\n",
    "        190     self,\n",
    "    (...)    193     **kwargs: Any,\n",
    "        194 ) -> T:\n",
    "        195     if isinstance(input, BaseMessage):\n",
    "    --> 196         return self._call_with_config(\n",
    "        197             lambda inner_input: self.parse_result(\n",
    "        198                 [ChatGeneration(message=inner_input)]\n",
    "        199             ),\n",
    "        200             input,\n",
    "        201             config,\n",
    "        202             run_type=\"parser\",\n",
    "        203         )\n",
    "        204     return self._call_with_config(\n",
    "        205         lambda inner_input: self.parse_result([Generation(text=inner_input)]),\n",
    "        206         input,\n",
    "        207         config,\n",
    "        208         run_type=\"parser\",\n",
    "        209     )\n",
    "\n",
    "    File ~/.pyenv/versions/lc_env/lib/python3.13/site-packages/langchain_core/runnables/base.py:1939, in Runnable._call_with_config(self, func, input_, config, run_type, serialized, **kwargs)\n",
    "    1935     child_config = patch_config(config, callbacks=run_manager.get_child())\n",
    "    1936     with set_config_context(child_config) as context:\n",
    "    1937         output = cast(\n",
    "    1938             \"Output\",\n",
    "    -> 1939             context.run(\n",
    "    1940                 call_func_with_variable_args,  # type: ignore[arg-type]\n",
    "    1941                 func,\n",
    "    1942                 input_,\n",
    "    1943                 config,\n",
    "    1944                 run_manager,\n",
    "    1945                 **kwargs,\n",
    "    1946             ),\n",
    "    1947         )\n",
    "    1948 except BaseException as e:\n",
    "    1949     run_manager.on_chain_error(e)\n",
    "\n",
    "    File ~/.pyenv/versions/lc_env/lib/python3.13/site-packages/langchain_core/runnables/config.py:429, in call_func_with_variable_args(func, input, config, run_manager, **kwargs)\n",
    "        427 if run_manager is not None and accepts_run_manager(func):\n",
    "        428     kwargs[\"run_manager\"] = run_manager\n",
    "    --> 429 return func(input, **kwargs)\n",
    "\n",
    "    File ~/.pyenv/versions/lc_env/lib/python3.13/site-packages/langchain_core/output_parsers/base.py:197, in BaseOutputParser.invoke.<locals>.<lambda>(inner_input)\n",
    "        188 @override\n",
    "        189 def invoke(\n",
    "        190     self,\n",
    "    (...)    193     **kwargs: Any,\n",
    "        194 ) -> T:\n",
    "        195     if isinstance(input, BaseMessage):\n",
    "        196         return self._call_with_config(\n",
    "    --> 197             lambda inner_input: self.parse_result(\n",
    "        198                 [ChatGeneration(message=inner_input)]\n",
    "        199             ),\n",
    "        200             input,\n",
    "        201             config,\n",
    "        202             run_type=\"parser\",\n",
    "        203         )\n",
    "        204     return self._call_with_config(\n",
    "        205         lambda inner_input: self.parse_result([Generation(text=inner_input)]),\n",
    "        206         input,\n",
    "        207         config,\n",
    "        208         run_type=\"parser\",\n",
    "        209     )\n",
    "\n",
    "    File ~/.pyenv/versions/lc_env/lib/python3.13/site-packages/langchain_core/output_parsers/base.py:250, in BaseOutputParser.parse_result(self, result, partial)\n",
    "        234 @override\n",
    "        235 def parse_result(self, result: list[Generation], *, partial: bool = False) -> T:\n",
    "        236     \"\"\"Parse a list of candidate model Generations into a specific format.\n",
    "        237 \n",
    "        238     The return value is parsed from only the first Generation in the result, which\n",
    "    (...)    248         Structured output.\n",
    "        249     \"\"\"\n",
    "    --> 250     return self.parse(result[0].text)\n",
    "\n",
    "    File ~/.pyenv/versions/lc_env/lib/python3.13/site-packages/langchain/output_parsers/enum.py:34, in EnumOutputParser.parse(self, response)\n",
    "        29 except ValueError as e:\n",
    "        30     msg = (\n",
    "        31         f\"Response '{response}' is not one of the \"\n",
    "        32         f\"expected values: {self._valid_values}\"\n",
    "        33     )\n",
    "    ---> 34     raise OutputParserException(msg) from e\n",
    "\n",
    "    OutputParserException: Response '나무' is not one of the expected values: ['빨간색', '초록색', '파란색']\n",
    "    For troubleshooting, visit: https://python.langchain.com/docs/troubleshooting/errors/OUTPUT_PARSING_FAILURE\n",
    "    ```"
   ]
  },
  {
   "cell_type": "markdown",
   "id": "4b1ce0dc",
   "metadata": {},
   "source": [
    "<small>\n",
    "\n",
    "* 파싱 실패 원인 분석\n",
    "  * `EnumOutputParser`를 사용해서 모델의 응답을 `미리 정해둔 값(Enum)` 중 하나로 `파싱`하기로 정의해둠\n",
    "  * `Colors` 클래스 = `RED`, `GREEN`, `BLUE`\n",
    "\n",
    "<br>\n",
    "\n",
    "* ![문제, 원인, 해결](../data/enumoutputparser_error.png)\n",
    "\n",
    "<br>\n",
    "\n",
    "* 핵심 오류 코드 부분\n",
    "\n",
    "    ```python\n",
    "    OutputParserException: Response '나무' is not one of the expected values: ['빨간색', '초록색', '파란색']\n",
    "    ```\n",
    "\n",
    "  * `나무` 입력 = `EnumOutputParser`가 예상하는 값 리스트에 없음 = **에러 발생** = **파싱 실패**"
   ]
  },
  {
   "cell_type": "markdown",
   "id": "350a28e5",
   "metadata": {},
   "source": [
    "---"
   ]
  },
  {
   "cell_type": "markdown",
   "id": "069e4636",
   "metadata": {},
   "source": [
    "* ![해결방법 시도 방법 3가지](../data/enumoutputparser_try.png)"
   ]
  },
  {
   "cell_type": "markdown",
   "id": "ed1f99f8",
   "metadata": {},
   "source": [
    "---"
   ]
  },
  {
   "cell_type": "markdown",
   "id": "3745087f",
   "metadata": {},
   "source": [
    "#### 해결 방법 1 - **프롬프트 수정** 하기"
   ]
  },
  {
   "cell_type": "markdown",
   "id": "5eb2fb0a",
   "metadata": {},
   "source": [
    "* `LLM`이 `올바른 Enum 값`만 `출력`하게 `유도`하는 것\n",
    "\n",
    "* 장점:\n",
    "\n",
    "  * **`Enum 그대로 두고도`** 다양한 입력을 처리할 수 있음\n",
    "  * 파싱 오류를 줄이는 가장 **가벼운** 방법"
   ]
  },
  {
   "cell_type": "markdown",
   "id": "0b4d5d26",
   "metadata": {},
   "source": [
    "<small>\n",
    "\n",
    "* 프롬프트 수정 예시 → 아래와 같이 수정 후 `LLM` 모델이 **나무** 같은 입력에 **`GREEN`** 같은 적절한 답을 하도록 `유도` 가능\n",
    "\n",
    "    ```python\n",
    "\n",
    "    prompt = PromptTemplate.from_template(\n",
    "        \"\"\"다음의 물체에 어울리는 색깔을 아래 목록 중에서 골라주세요:\n",
    "\n",
    "    객체: {object}\n",
    "\n",
    "    가능한 색상: 빨간색, 초록색, 파란색\n",
    "\n",
    "    반드시 가능한 색상 중 하나로만 답해주세요.\n",
    "\n",
    "    Instructions: {instructions}\"\"\"\n",
    "    ).partial(instructions=parser.get_format_instructions())\n",
    "\n",
    "    ```"
   ]
  },
  {
   "cell_type": "code",
   "execution_count": 8,
   "id": "547a65bb",
   "metadata": {},
   "outputs": [],
   "source": [
    "# 해결방법1 = 프롬프트를 수정해보기\n",
    "\n",
    "prompt2 = PromptTemplate.from_template(\n",
    "    \"\"\"다음의 물체에 어울리는 색깔을 아래 목록 중에서 골라주세요:\n",
    "\n",
    "객체: {object}\n",
    "\n",
    "가능한 색상: 빨간색, 초록색, 파란색\n",
    "\n",
    "반드시 가능한 색상 중 하나로만 답해주세요.\n",
    "\n",
    "Instructions: {instructions}\"\"\"\n",
    ").partial(instructions=parser.get_format_instructions())"
   ]
  },
  {
   "cell_type": "code",
   "execution_count": null,
   "id": "a833bd63",
   "metadata": {},
   "outputs": [],
   "source": [
    "# 체인 생성 = 프롬프트 + LLM 모델 + 파서\n",
    "chain = prompt2 | gemini_lc | parser\n",
    "\n",
    "# 나무에 대해서 물어보기\n",
    "response2 = chain.invoke({\"object\": \"나무\"})\n",
    "print(response2)                                        # Colors.GREEN (1.0s)"
   ]
  },
  {
   "cell_type": "markdown",
   "id": "cb824de0",
   "metadata": {},
   "source": [
    "#### 해결 방법 2 - **Enum 클래스 수정 (색상 확장)**"
   ]
  },
  {
   "cell_type": "markdown",
   "id": "7ddef81f",
   "metadata": {},
   "source": [
    "* `Enum`에 `더 많은 색상 값`을 `추가`해서 `유연성`을 `높이는 것`"
   ]
  },
  {
   "cell_type": "markdown",
   "id": "0e50b204",
   "metadata": {},
   "source": [
    "* 장점\n",
    "\n",
    "  * 더 `다양한 입력` (예: `나무`, `흙`, `노을`)에 대해 `잘 대응` 가능\n",
    "\n",
    "  * 파싱 `실패`가 `줄어듦`"
   ]
  },
  {
   "cell_type": "markdown",
   "id": "5f1704ca",
   "metadata": {},
   "source": [
    "* 단점\n",
    "\n",
    "  * `Enum`이 **`너무 커지면 관리가 어려워짐`**\n",
    "\n",
    "  * `너무 유연`하면, **분류 기준이 흐려질 수 있음**"
   ]
  },
  {
   "cell_type": "code",
   "execution_count": 10,
   "id": "5d1ec581",
   "metadata": {},
   "outputs": [],
   "source": [
    "class Colors2(Enum):\n",
    "    RED = \"빨간색\"\n",
    "    GREEN = \"초록색\"\n",
    "    BLUE = \"파란색\"\n",
    "    BROWN = \"갈색\"\n",
    "    YELLOW = \"노란색\"\n",
    "    BLACK = \"검은색\"\n",
    "\n",
    "# EnumOutputParser 인스턴스 생성\n",
    "parser2 = EnumOutputParser(enum=Colors2)"
   ]
  },
  {
   "cell_type": "code",
   "execution_count": 12,
   "id": "c89faed7",
   "metadata": {},
   "outputs": [],
   "source": [
    "prompt2 = PromptTemplate.from_template(\n",
    "    \"\"\"다음의 물체에 어울리는 색깔을 아래 목록 중에서 골라주세요:\n",
    "\n",
    "객체: {object}\n",
    "\n",
    "가능한 색상: 빨간색, 초록색, 파란색\n",
    "\n",
    "반드시 가능한 색상 중 하나로만 답해주세요.\n",
    "\n",
    "Instructions: {instructions}\"\"\"\n",
    ").partial(instructions=parser.get_format_instructions())"
   ]
  },
  {
   "cell_type": "code",
   "execution_count": null,
   "id": "5a2704df",
   "metadata": {},
   "outputs": [],
   "source": [
    "# 체인 생성 = 프롬프트 + LLM 모델 + 파서\n",
    "chain2 = prompt2 | gemini_lc | parser2\n",
    "\n",
    "# 밤하늘 \n",
    "response3 = chain.invoke({\"object\": \"밤하늘\"})\n",
    "print(response3)                                    # Colors.BLUE (0.6s)"
   ]
  },
  {
   "cell_type": "markdown",
   "id": "f277ae81",
   "metadata": {},
   "source": [
    "#### 해결 방법 3 - **Parser Customizing**"
   ]
  },
  {
   "cell_type": "markdown",
   "id": "d7e57a1a",
   "metadata": {},
   "source": [
    "* 기존 EnumOutputParser로는 불가능한 `다중 Enum 값 출력`을 처리하기 위해, `파서를 직접 정의`해 `원하는 형식으로 파싱`하는 방식\n",
    "  * 예시: `List` ..."
   ]
  },
  {
   "cell_type": "markdown",
   "id": "4e3286c2",
   "metadata": {},
   "source": [
    "* 장점\n",
    "\n",
    "  * `여러 개의 Enum 값을 동시에` 받을 수 있어 `유연한 답변 처리`가 가능\n",
    "\n",
    "  * `출력 형`식을 `더 세밀하게 제`어하고, `오류 처리`도 직접 `커스터마이징 가능`"
   ]
  },
  {
   "cell_type": "markdown",
   "id": "99a4f8a8",
   "metadata": {},
   "source": [
    "* 단점\n",
    "\n",
    "  * 기본 parser보다 `구현 복잡도가 높고`, `유지 관리`가 필요\n",
    "\n",
    "  * 형식이 예상과 다를 경우 `직접 예외 처리를 추가`해야 함 \n",
    "    * 예시: 쉼표 누락, 오탈자..."
   ]
  },
  {
   "cell_type": "code",
   "execution_count": 20,
   "id": "c074ed10",
   "metadata": {},
   "outputs": [],
   "source": [
    "from typing import List, Type\n",
    "from enum import Enum\n",
    "from pydantic import Field\n",
    "from langchain.schema import BaseOutputParser, OutputParserException\n",
    "import difflib\n",
    "\n",
    "# 예외 처리 포함한 커스텀 Enum 리스트 파서 클래스\n",
    "class EnumListOutputParser(BaseOutputParser):\n",
    "    # Enum 클래스 타입 지정 (중요!)\n",
    "    enum_class: Type[Enum] = Field(...)\n",
    "    min_choices: int = Field(default=2)\n",
    "    max_choices: int = Field(default=3)\n",
    "\n",
    "    def parse(self, text: str) -> List[Enum]:\n",
    "        # 쉼표 기준으로 나누고, 앞뒤 공백 제거 후 빈 문자열 제거\n",
    "        items = [item.strip() for item in text.split(\",\") if item.strip()]\n",
    "\n",
    "        # 최소/최대 선택 개수 검사\n",
    "        if not (self.min_choices <= len(items) <= self.max_choices):\n",
    "            raise OutputParserException(\n",
    "                f\"색상은 최소 {self.min_choices}개 이상, 최대 {self.max_choices}개 이하로 선택해야 합니다. 현재 선택 수: {len(items)}\"\n",
    "            )\n",
    "\n",
    "        result = []\n",
    "        enum_values = [e.value for e in self.enum_class]\n",
    "\n",
    "        for item in items:\n",
    "            if item in enum_values:\n",
    "                enum_value = next(e for e in self.enum_class if e.value == item)\n",
    "                result.append(enum_value)\n",
    "            else:\n",
    "                # 오타 체크: 유사한 값 찾아서 사용\n",
    "                closest = difflib.get_close_matches(item, enum_values, n=1, cutoff=0.6)\n",
    "                if closest:\n",
    "                    enum_value = next(e for e in self.enum_class if e.value == closest[0])\n",
    "                    result.append(enum_value)\n",
    "                else:\n",
    "                    raise OutputParserException(\n",
    "                        f\"잘못된 값입니다: '{item}' (허용된 값: {', '.join(enum_values)})\"\n",
    "                    )\n",
    "        return result\n",
    "\n",
    "    def get_format_instructions(self) -> str:\n",
    "        values = [e.value for e in self.enum_class]\n",
    "        return (\n",
    "            f\"다음 중 {self.min_choices}~{self.max_choices}개의 색상을 쉼표로 구분하여 출력하세요: \"\n",
    "            + \", \".join(values)\n",
    "        )\n",
    "\n",
    "# 확장된 색상 Enum 클래스\n",
    "class Colors3(Enum):\n",
    "    RED = \"빨간색\"\n",
    "    GREEN = \"초록색\"\n",
    "    BLUE = \"파란색\"\n",
    "    BROWN = \"갈색\"\n",
    "    YELLOW = \"노란색\"\n",
    "    BLACK = \"검은색\"\n",
    "    WHITE = \"하얀색\"\n",
    "    ORANGE = \"주황색\"\n",
    "    PURPLE = \"보라색\"\n",
    "    PINK = \"분홍색\"\n",
    "    GRAY = \"회색\"\n",
    "\n",
    "# 파서 인스턴스 생성 (최소 2개, 최대 3개 선택)\n",
    "parser3 = EnumListOutputParser(enum_class=Colors3, min_choices=2, max_choices=3)"
   ]
  },
  {
   "cell_type": "code",
   "execution_count": null,
   "id": "c140a602",
   "metadata": {},
   "outputs": [],
   "source": [
    "# 테스트 해보기\n",
    "\n",
    "test_input = \"빨간색, 파란색, 분홍색\"\n",
    "try:\n",
    "    parsed_colors = parser3.parse(test_input)\n",
    "    print(\"파싱 결과:\", [color.name for color in parsed_colors])  # Enum 이름 출력\n",
    "except OutputParserException as e:\n",
    "    print(\"파싱 에러:\", e)                                        # 파싱 결과: ['RED', 'BLUE', 'PINK'] "
   ]
  },
  {
   "cell_type": "code",
   "execution_count": 22,
   "id": "1b5b0190",
   "metadata": {},
   "outputs": [],
   "source": [
    "# 프롬프트 커스터마이징\n",
    "\n",
    "# from langchain import PromptTemplate                          # 사전에 임포트했으므로 여기에서는 생략\n",
    "\n",
    "# Color3의 모든 색상 값을 쉼표로 구분해서 나열하는 부분\n",
    "colors_list = \", \".join([color.value for color in Colors3])     \n",
    "\n",
    "# 프롬프트_3\n",
    "prompt3 = PromptTemplate.from_template(\n",
    "    f\"\"\"다음의 물체에 어울리는 색깔을 아래 목록 중에서 2~3가지 골라주세요.\n",
    "쉼표로 구분해서 답변해주세요.\n",
    "\n",
    "객체: {{object}}\n",
    "\n",
    "가능한 색상: {colors_list}\n",
    "\n",
    "Instructions: {{instructions}}\"\"\"\n",
    ").partial(instructions=parser3.get_format_instructions())"
   ]
  },
  {
   "cell_type": "code",
   "execution_count": 24,
   "id": "45f114ab",
   "metadata": {},
   "outputs": [
    {
     "name": "stdout",
     "output_type": "stream",
     "text": [
      "[<Colors3.BROWN: '갈색'>, <Colors3.GREEN: '초록색'>, <Colors3.YELLOW: '노란색'>]\n"
     ]
    }
   ],
   "source": [
    "# 체인 생성 = 프롬프트 + LLM 모델 + 파서\n",
    "chain3 = prompt3 | gemini_lc | parser3\n",
    "\n",
    "# 나무에 대해서 물어보기\n",
    "response2 = chain3.invoke({\"object\": \"나무\"})\n",
    "print(response2)                                        \n",
    "# [<Colors3.BROWN: '갈색'>, <Colors3.GREEN: '초록색'>, <Colors3.YELLOW: '노란색'>] (0.7s)"
   ]
  },
  {
   "cell_type": "code",
   "execution_count": null,
   "id": "ea352239",
   "metadata": {},
   "outputs": [],
   "source": [
    "response3 = chain3.invoke({\"object\":\"밤하늘\"})\n",
    "print(response3)\n",
    "# [<Colors3.BLUE: '파란색'>, <Colors3.BLACK: '검은색'>, <Colors3.PURPLE: '보라색'>] (0.7s)"
   ]
  },
  {
   "cell_type": "code",
   "execution_count": null,
   "id": "8a10ce36",
   "metadata": {},
   "outputs": [],
   "source": [
    "response3 = chain3.invoke({\"object\":\"밤하늘\"})\n",
    "print(response3)\n",
    "# [<Colors3.BLUE: '파란색'>, <Colors3.BLACK: '검은색'>, <Colors3.PURPLE: '보라색'>] (0.7s)"
   ]
  },
  {
   "cell_type": "code",
   "execution_count": null,
   "id": "28d51ddd",
   "metadata": {},
   "outputs": [],
   "source": [
    "# 여러 다른 객체에 대해 테스트 해보기\n",
    "\n",
    "test_objects = [\"햇볕\", \"바다\", \"산\", \"사막\", \"꽃밭\", \"우주\", \"숲속\", \"저녁 하늘\"]\n",
    "\n",
    "for obj in test_objects:\n",
    "    try:\n",
    "        response = chain3.invoke({\"object\": obj})\n",
    "        print(f\"{obj}에 어울리는 색상:\", [color.name for color in response])\n",
    "    except Exception as e:\n",
    "        print(f\"{obj} 처리 중 에러 발생:\", e)"
   ]
  },
  {
   "cell_type": "markdown",
   "id": "8542f9dc",
   "metadata": {},
   "source": [
    "<small>\n",
    "\n",
    "* 셀 출력 (1m 7.7s)\n",
    "  * 햇볕 ~ 숲속: 22s\n",
    "  * 저녁 하늘 유추에 시간이 많이 소요됨 (22s ~ 1m 7.7s) → 색상 후보가 다양해서 적합한 색상을 추론하는 데 시간이 오래 걸렸을 것으로 생각됨\n",
    "\n",
    "    ```markdown\n",
    "    햇볕에 어울리는 색상: ['YELLOW', 'ORANGE', 'WHITE']\n",
    "    바다에 어울리는 색상: ['BLUE', 'GREEN', 'GRAY']\n",
    "    산에 어울리는 색상: ['GREEN', 'BROWN', 'GRAY']\n",
    "    사막에 어울리는 색상: ['BROWN', 'YELLOW', 'ORANGE']\n",
    "    꽃밭에 어울리는 색상: ['RED', 'GREEN', 'YELLOW']\n",
    "    우주에 어울리는 색상: ['BLACK', 'BLUE', 'PURPLE']\n",
    "    숲속에 어울리는 색상: ['GREEN', 'BROWN', 'YELLOW']\n",
    "    저녁 하늘에 어울리는 색상: ['PURPLE', 'ORANGE', 'BLUE']\n",
    "    ```"
   ]
  },
  {
   "cell_type": "code",
   "execution_count": null,
   "id": "cbc9e7e7",
   "metadata": {},
   "outputs": [],
   "source": [
    "# 의미 없는 단어나 색상과 관련 없는 객체로 예외 테스트\n",
    "test_objects_with_invalid_values = [\n",
    "    \"내 마음속\",            # 관련 없는 단어\n",
    "    \"푸른 바다\",            # 색상과 관련 없는 단어\n",
    "    \"가방\",                # 물체와 색상이 관계 없는 예시\n",
    "    \"깊은 우주\",            # 이상한 표현\n",
    "    \"~~~\",                # 특수문자\n",
    "    \"12345\"               # 숫자\n",
    "]\n",
    "\n",
    "for obj in test_objects_with_invalid_values:\n",
    "    try:\n",
    "        response = chain3.invoke({\"object\": obj})\n",
    "        print(f\"{obj}에 어울리는 색상:\", [color.name for color in response])\n",
    "    except OutputParserException as e:\n",
    "        print(f\"에러 발생! {obj}: {e}\")\n",
    "    except Exception as e:\n",
    "        print(f\"알 수 없는 에러 발생! {obj}: {e}\")"
   ]
  },
  {
   "cell_type": "markdown",
   "id": "c84c6653",
   "metadata": {},
   "source": [
    "<small>\n",
    "\n",
    "* 셀 출력 (5.2s)\n",
    "\n",
    "    ```markdown\n",
    "    내 마음속에 어울리는 색상: ['BLUE', 'PURPLE', 'PINK']\n",
    "    푸른 바다에 어울리는 색상: ['BLUE', 'GREEN', 'GRAY']\n",
    "    가방에 어울리는 색상: ['BLACK', 'BROWN', 'GRAY']\n",
    "    깊은 우주에 어울리는 색상: ['BLACK', 'BLUE', 'PURPLE']\n",
    "    에러 발생! ~~~: 잘못된 값입니다: '객체: 사과\n",
    "\n",
    "    가능한 색상: 빨간색' (허용된 값: 빨간색, 초록색, 파란색, 갈색, 노란색, 검은색, 하얀색, 주황색, 보라색, 분홍색, 회색)\n",
    "    For troubleshooting, visit: https://python.langchain.com/docs/troubleshooting/errors/OUTPUT_PARSING_FAILURE \n",
    "    12345에 어울리는 색상: ['RED', 'BLACK', 'GRAY']\n",
    "    ```\n",
    "\n",
    "* 모두 에러가 나올 것으로 예측했으나 그렇지 않았음\n",
    "  * 색상이 출력된 내용: `내 마음속`, `푸른 바다`, `가방`\n",
    "    * 사실상 의미 없는 단어들에 대해서도 모델이 가능한 색상 후보를 예측\n",
    "    * 이는 언어 모델이 객체와 관련된 의미를 유추하거나, 기존 지식에서 색상과 유사한 연관을 찾아내기 때문\n",
    "      * 예컨대 `푸른 바다` → `파란색`과 관련된 색상 후보가 나옴\n",
    "      * `가방` → `흑색`, `갈색` 등을 추론해냄\n",
    "\n",
    "  * 색상이 출력되지 않은 내용: `특수문자`, `숫자` = **에러**\n",
    "    * 모델이 **정상적인 객체가 아니라는 것을 파악** → **입력에 맞는 색상 후보를 제시할 수 없음**"
   ]
  },
  {
   "cell_type": "code",
   "execution_count": null,
   "id": "ced45b68",
   "metadata": {},
   "outputs": [],
   "source": [
    "# 에러 발생을 유도하기 위한 테스트 객체들\n",
    "test_objects_with_errors = [\n",
    "    \"청록색\",                     # 잘못된 색상 (Colors3에 없음)\n",
    "    \"빨강색\",                     # 오타 (예: 빨간색 오타)\n",
    "    \" \",                        # 빈 문자열\n",
    "    \"파란색, 빨간색, 초록색, 보라색\"   # 색상 개수 초과 (4개)\n",
    "]\n",
    "\n",
    "for obj in test_objects_with_errors:\n",
    "    try:\n",
    "        response = chain3.invoke({\"object\": obj})\n",
    "        print(f\"{obj}에 어울리는 색상:\", [color.name for color in response])\n",
    "    except OutputParserException as e:\n",
    "        print(f\"에러 발생! {obj}: {e}\")\n",
    "    except Exception as e:\n",
    "        print(f\"알 수 없는 에러 발생! {obj}: {e}\")\n"
   ]
  },
  {
   "cell_type": "markdown",
   "id": "5c67f135",
   "metadata": {},
   "source": [
    "<small>\n",
    "\n",
    "* 셀 출력 (3.3s)\n",
    "  \n",
    "    ```markdown\n",
    "    청록색에 어울리는 색상: ['RED', 'ORANGE', 'PURPLE']\n",
    "    빨강색에 어울리는 색상: ['RED', 'ORANGE', 'YELLOW']\n",
    "    에러 발생!  : 잘못된 값입니다: '죄송합니다. 객체에 대한 정보가 부족하여 어울리는 색상을 추천해 드릴 수 없습니다.\n",
    "\n",
    "    객체가 무엇인지 알려주시면' (허용된 값: 빨간색, 초록색, 파란색, 갈색, 노란색, 검은색, 하얀색, 주황색, 보라색, 분홍색, 회색)\n",
    "    For troubleshooting, visit: https://python.langchain.com/docs/troubleshooting/errors/OUTPUT_PARSING_FAILURE \n",
    "    파란색, 빨간색, 초록색, 보라색에 어울리는 색상: ['BLUE', 'RED', 'GREEN']\n",
    "    ```\n",
    "\n",
    "* 오타 처리 \n",
    "  * `빨강색`, `청록색` → **유사도 체크** 를 통해 비슷한 색상 후보를 제시함\n",
    "  * `빈 값` = 완전히 잘못된 값 입력 → **에외 발생**\n",
    "\n",
    "---\n",
    "\n",
    "* 결과\n",
    "  * 모델이 특정 물체의 색상을 유추할 때, 의미가 없거나 전혀 관련 없는 단어에 대해서도 어떤 유추를 시도했기 때문에 예상보다 많은 색상들이 제시됨\n",
    "  * 예외 처리가 필요한 입력에 대해서는 모델이 경고를 주고, 색상 목록을 정확하게 따르지 않으면 에러를 발생시키는 게 확인"
   ]
  }
 ],
 "metadata": {
  "kernelspec": {
   "display_name": "lc_env",
   "language": "python",
   "name": "python3"
  },
  "language_info": {
   "codemirror_mode": {
    "name": "ipython",
    "version": 3
   },
   "file_extension": ".py",
   "mimetype": "text/x-python",
   "name": "python",
   "nbconvert_exporter": "python",
   "pygments_lexer": "ipython3",
   "version": "3.13.5"
  }
 },
 "nbformat": 4,
 "nbformat_minor": 5
}
