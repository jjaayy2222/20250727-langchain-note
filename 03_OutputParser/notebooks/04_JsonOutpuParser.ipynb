{
 "cells": [
  {
   "cell_type": "markdown",
   "id": "e7ed511c",
   "metadata": {},
   "source": [
    "---"
   ]
  },
  {
   "cell_type": "markdown",
   "id": "a53405de",
   "metadata": {},
   "source": [
    "* 출처: LangChain 공식 문서 또는 해당 교재명\n",
    "* 원본 URL: https://smith.langchain.com/hub/teddynote/summary-stuff-documents"
   ]
  },
  {
   "cell_type": "markdown",
   "id": "87fb66a5",
   "metadata": {},
   "source": [
    "---"
   ]
  },
  {
   "cell_type": "markdown",
   "id": "dadc0ed3",
   "metadata": {},
   "source": [
    "## **JsonOutputParser**"
   ]
  },
  {
   "cell_type": "markdown",
   "id": "cb892e2c",
   "metadata": {},
   "source": [
    "* 사용자가 원하는 `JSON 스키마`를 지정할 수 있게 해주며, 그 스키마에 맞게 `LLM`에서 데이터를 조회하여 결과를 도출해줌\n",
    "\n",
    "* `LLM`이 데이터를 정확하고 효율적으로 처리하여 원하는 형태의 `JSON`을 생성하기 위해서는, 모델의 용량이 충분해야 한다는 점을 참고"
   ]
  },
  {
   "cell_type": "code",
   "execution_count": 1,
   "id": "2bc6edeb",
   "metadata": {},
   "outputs": [],
   "source": [
    "# 1_새 프롬프트 생성하기\n",
    "from langsmith import Client\n",
    "from langchain.prompts import PromptTemplate\n",
    "from langchain.prompts import ChatPromptTemplate\n",
    "from langsmith import Client\n",
    "\n",
    "import os\n",
    "import json\n",
    "\n",
    "\n",
    "# 클라이언트 생성 \n",
    "api_key = os.getenv(\"LANGSMITH_API_KEY\")\n",
    "client = Client(api_key=api_key)"
   ]
  },
  {
   "cell_type": "code",
   "execution_count": null,
   "id": "51f9fff1",
   "metadata": {},
   "outputs": [],
   "source": [
    "from langchain_google_genai import ChatGoogleGenerativeAI\n",
    "from langchain_core.output_parsers import StrOutputParser\n",
    "from langchain_core.output_parsers import JsonOutputParser\n",
    "from pydantic import BaseModel, Field\n",
    "from langsmith import traceable\n",
    "\n",
    "# LLM 초기화\n",
    "gemini_lc = ChatGoogleGenerativeAI(\n",
    "        model=\"gemini-2.5-flash-lite\",\n",
    "        temperature=0.7,                                    \n",
    "        max_output_tokens=4096,\n",
    "    )"
   ]
  },
  {
   "cell_type": "markdown",
   "id": "6960d093",
   "metadata": {},
   "source": [
    "* 원하는 **`출력 구조 정의`**"
   ]
  },
  {
   "cell_type": "code",
   "execution_count": 4,
   "id": "97aa7bb7",
   "metadata": {},
   "outputs": [],
   "source": [
    "# 원하는 데이터 구조 정의\n",
    "\n",
    "class Topic(BaseModel):\n",
    "    description: str = Field(description=\"주제에 대한 간결한 설명\")\n",
    "    hashtags: str = Field(description=\"해시태그 형식의 키워드(2개 이상)\")"
   ]
  },
  {
   "cell_type": "markdown",
   "id": "f95895a4",
   "metadata": {},
   "source": [
    "* `JsonOutputParser` → 파서 설정 → 프롬프트 템플릿 지시사항 주입"
   ]
  },
  {
   "cell_type": "code",
   "execution_count": null,
   "id": "0978ad53",
   "metadata": {},
   "outputs": [],
   "source": [
    "# 질의 작성\n",
    "question = \"지구 온난화의 심각성 대해 알려주세요.\"\n",
    "\n",
    "# 파서를 설정하고 프롬프트 템플릿에 지시사항을 주입합니다.\n",
    "parser = JsonOutputParser(pydantic_object=Topic)\n",
    "\n",
    "\n",
    "prompt = ChatPromptTemplate.from_messages(\n",
    "    [\n",
    "        (\"system\", \"당신은 친절한 AI 어시스턴트 입니다. 질문에 간결하게 답변하세요.\"),\n",
    "        (\"user\", \"#Format: {format_instructions}\\n\\n#Question: {question}\"),\n",
    "    ]\n",
    ")\n",
    "\n",
    "prompt = prompt.partial(format_instructions=parser.get_format_instructions())\n",
    "\n",
    "chain = prompt | gemini_lc | parser                                                     # 체인 구성\n",
    "\n",
    "chain.invoke({\"question\": question})                                                    # 체인을 호출하여 쿼리 실행\n"
   ]
  },
  {
   "cell_type": "markdown",
   "id": "5f53e640",
   "metadata": {},
   "source": [
    "<small>\n",
    "\n",
    "* 셀 출력 (2.1s)\n",
    "\n",
    "    ```json\n",
    "    {'description': '지구 온난화는 지구의 평균 기온이 상승하는 현상으로, 해수면 상승, 극심한 기상 이변, 생태계 파괴 등 심각한 결과를 초래합니다. 이는 인간 활동으로 인한 온실가스 배출 증가가 주된 원인입니다.',\n",
    "    'hashtags': '#지구온난화 #기후변화 #환경문제 #온실가스 #지속가능성'}\n",
    "    ```"
   ]
  },
  {
   "cell_type": "markdown",
   "id": "9024a0e9",
   "metadata": {},
   "source": [
    "### **`Pydantic`** 없이 사용하기"
   ]
  },
  {
   "cell_type": "markdown",
   "id": "68e4df4d",
   "metadata": {},
   "source": [
    "* `Pydantic` 없이도 사용 가능\n",
    "\n",
    "* `JSON` 반환 요청 → 스키아가 어떻게 되어야 하는지에 대한 구체적인 정보는 제공하지 않음"
   ]
  },
  {
   "cell_type": "code",
   "execution_count": null,
   "id": "04181cc9",
   "metadata": {},
   "outputs": [],
   "source": [
    "# 질의 작성\n",
    "question = \"지구 온난화에 대해 알려주세요. 온난화에 대한 설명은 `description`에, 관련 키워드는 `hashtags`에 담아주세요.\"\n",
    "\n",
    "# JSON 출력 파서 초기화\n",
    "parser = JsonOutputParser()\n",
    "\n",
    "# 프롬프트 템플릿을 설정합니다.\n",
    "prompt = ChatPromptTemplate.from_messages(\n",
    "    [\n",
    "        (\"system\", \"당신은 친절한 AI 어시스턴트 입니다. 질문에 간결하게 답변하세요.\"),\n",
    "        (\"user\", \"#Format: {format_instructions}\\n\\n#Question: {question}\"),\n",
    "    ]\n",
    ")\n",
    "\n",
    "# 지시사항을 프롬프트에 주입합니다.\n",
    "prompt = prompt.partial(format_instructions=parser.get_format_instructions())\n",
    "\n",
    "# 프롬프트, 모델, 파서를 연결하는 체인 생성\n",
    "chain = prompt | gemini_lc | parser\n",
    "\n",
    "# 체인을 호출하여 쿼리 실행\n",
    "response = chain.invoke({\"question\": question})\n",
    "\n",
    "# 출력을 확인합니다.\n",
    "print(response)"
   ]
  },
  {
   "cell_type": "markdown",
   "id": "6d5f40e9",
   "metadata": {},
   "source": [
    "<small>\n",
    "\n",
    "* 셀 출력 (1.0s)\n",
    "\n",
    "    ```json\n",
    "    {'description': '지구 온난화는 인간 활동으로 인해 대기 중 온실가스 농도가 증가하면서 지구의 평균 기온이 상승하는 현상을 말합니다. 이는 해수면 상승, 극한 기상 현상 증가, 생태계 변화 등 다양한 환경 문제를 야기합니다.', 'hashtags': ['#지구온난화', '#기후변화', '#온실가스', '#환경문제', '#지속가능성']}\n",
    "    ```"
   ]
  }
 ],
 "metadata": {
  "kernelspec": {
   "display_name": "lc_env",
   "language": "python",
   "name": "python3"
  },
  "language_info": {
   "codemirror_mode": {
    "name": "ipython",
    "version": 3
   },
   "file_extension": ".py",
   "mimetype": "text/x-python",
   "name": "python",
   "nbconvert_exporter": "python",
   "pygments_lexer": "ipython3",
   "version": "3.13.5"
  }
 },
 "nbformat": 4,
 "nbformat_minor": 5
}
