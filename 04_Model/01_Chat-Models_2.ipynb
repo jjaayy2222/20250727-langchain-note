{
 "cells": [
  {
   "cell_type": "markdown",
   "id": "7c6c0226",
   "metadata": {},
   "source": [
    "---"
   ]
  },
  {
   "cell_type": "markdown",
   "id": "e416518f",
   "metadata": {},
   "source": [
    "* 출처: LangChain 공식 문서 또는 해당 교재명\n",
    "* 원본 URL: https://smith.langchain.com/hub/teddynote/summary-stuff-documents"
   ]
  },
  {
   "cell_type": "markdown",
   "id": "6793a387",
   "metadata": {},
   "source": [
    "---"
   ]
  },
  {
   "cell_type": "markdown",
   "id": "45a8e3a7",
   "metadata": {},
   "source": [
    "## **다양한 `LLM` 모델 활용** _2"
   ]
  },
  {
   "cell_type": "markdown",
   "id": "ef600e75",
   "metadata": {},
   "source": [
    "* 기본 설정"
   ]
  },
  {
   "cell_type": "code",
   "execution_count": 1,
   "id": "be4975fb",
   "metadata": {},
   "outputs": [],
   "source": [
    "# 환경변수 처리 및 클라어트 생성\n",
    "from langsmith import Client\n",
    "from langchain.prompts import PromptTemplate\n",
    "from langchain.prompts import ChatPromptTemplate\n",
    "from langsmith import Client\n",
    "\n",
    "import os\n",
    "import json\n",
    "\n",
    "# 클라이언트 생성 \n",
    "api_key = os.getenv(\"LANGSMITH_API_KEY\")\n",
    "client = Client(api_key=api_key)"
   ]
  },
  {
   "cell_type": "code",
   "execution_count": null,
   "id": "fa1815f2",
   "metadata": {},
   "outputs": [],
   "source": [
    "# LangSmith 추적 설정하기 (https:smith.langchin.com)\n",
    "# LangSmith 추적을 위한 라이브러리 임포트\n",
    "from langsmith import traceable                                                             # @traceable 데코레이터 사용 시\n",
    "\n",
    "# LangSmith 환경 변수 확인\n",
    "\n",
    "print(\"\\n--- LangSmith 환경 변수 확인 ---\")\n",
    "langchain_tracing_v2 = os.getenv('LANGCHAIN_TRACING_V2')\n",
    "langchain_project = os.getenv('LANGCHAIN_PROJECT')\n",
    "langchain_api_key_status = \"설정됨\" if os.getenv('LANGCHAIN_API_KEY') else \"설정되지 않음\"      # API 키 값은 직접 출력하지 않음\n",
    "org = \"설정됨\" if os.getenv('LANGCHAIN_ORGANIZATION') else \"설정되지 않음\"                     # 직접 출력하지 않음\n",
    "\n",
    "if langchain_tracing_v2 == \"true\" and os.getenv('LANGCHAIN_API_KEY') and langchain_project:\n",
    "    print(f\"✅ LangSmith 추적 활성화됨 (LANGCHAIN_TRACING_V2='{langchain_tracing_v2}')\")\n",
    "    print(f\"✅ LangSmith 프로젝트: '{langchain_project}'\")\n",
    "    print(f\"✅ LangSmith API Key: {langchain_api_key_status}\")\n",
    "    print(\"  -> 이제 LangSmith 대시보드에서 이 프로젝트를 확인해 보세요.\")\n",
    "else:\n",
    "    print(\"❌ LangSmith 추적이 완전히 활성화되지 않았습니다. 다음을 확인하세요:\")\n",
    "    if langchain_tracing_v2 != \"true\":\n",
    "        print(f\"  - LANGCHAIN_TRACING_V2가 'true'로 설정되어 있지 않습니다 (현재: '{langchain_tracing_v2}').\")\n",
    "    if not os.getenv('LANGCHAIN_API_KEY'):\n",
    "        print(\"  - LANGCHAIN_API_KEY가 설정되어 있지 않습니다.\")\n",
    "    if not langchain_project:\n",
    "        print(\"  - LANGCHAIN_PROJECT가 설정되어 있지 않습니다.\")\n"
   ]
  },
  {
   "cell_type": "markdown",
   "id": "8eb5b9e0",
   "metadata": {},
   "source": [
    "<small>\n",
    "\n",
    "* 셀 출력\n",
    "\n",
    "    ```markdown\n",
    "    --- LangSmith 환경 변수 확인 ---\n",
    "    ✅ LangSmith 추적 활성화됨 (LANGCHAIN_TRACING_V2='true')\n",
    "    ✅ LangSmith 프로젝트: 'LangChain-prantice'\n",
    "    ✅ LangSmith API Key: 설정됨\n",
    "    -> 이제 LangSmith 대시보드에서 이 프로젝트를 확인해 보세요.\n",
    "    ```"
   ]
  },
  {
   "cell_type": "markdown",
   "id": "e57f626a",
   "metadata": {},
   "source": [
    "---"
   ]
  },
  {
   "cell_type": "markdown",
   "id": "ada19473",
   "metadata": {},
   "source": [
    "## **`Cohere`**"
   ]
  },
  {
   "cell_type": "markdown",
   "id": "9b24fabb",
   "metadata": {},
   "source": [
    "* `Cohere`는 `기업용 인공지능 솔루션`을 제공하는 선도적인 `AI 기업`으로\n",
    "* `LLM(대규모 언어 모델)`을 개발하여 기업들이 AI 기술을 쉽게 도입하고 활용할 수 있도록 도움"
   ]
  },
  {
   "cell_type": "markdown",
   "id": "fd8104b4",
   "metadata": {},
   "source": [
    "### **개요**\n",
    "\n",
    "* **설립연도**: 2020년\n",
    "* **주요 투자자**: `Inovia Capital`, `NVIDIA`, `Oracle`, `Salesforce Ventures`\n",
    "* **시리즈 C 펀딩**: 2억 7000만 달러 유치\n",
    "* **기업 미션**: 기업용 AI 플랫폼 제공"
   ]
  },
  {
   "cell_type": "markdown",
   "id": "0192aa5e",
   "metadata": {},
   "source": [
    "### **주요 제품**\n",
    "\n",
    "* **`Command R+`** = `기업용으로 최적화`된 Cohere의 최신 `LLM`\n",
    "\n",
    "\n",
    "* 주요 특징\n",
    "\n",
    "  * **긴 컨텍스트 윈도우**: `128k` 토큰 지원\n",
    "\n",
    "  * **고급 RAG 기능**: 검색 강화 생성 기능 제공\n",
    "\n",
    "  * **다국어 지원**: 10개 주요 비즈니스 언어 지원\n",
    "\n",
    "  * **자동화 도구 사용 기능**: 복잡한 비즈니스 프로세스 자동화\n",
    "\n",
    "  <br>\n",
    "\n",
    "  ---\n",
    "\n",
    "  <br>\n",
    "\n",
    "* **`Aya`** = `Cohere`의 `비영리 연구소`인 Cohere for AI에서 개발한 `오픈소스 다국어 LLM`\n",
    "\n",
    "* 주요 특징\n",
    "\n",
    "  * **언어 지원**: `101개 언어` 지원 `(기존 오픈소스 모델의 두 배 이상)`\n",
    "\n",
    "  * **훈련 데이터셋**: `5억 1300만 개의 데이터 포인트 포함`하는 대규모 다국어 `훈련 데이터셋 공개`"
   ]
  },
  {
   "cell_type": "markdown",
   "id": "1ca5b64f",
   "metadata": {},
   "source": [
    "* 코드 예시 (교재 안내)\n",
    "\n",
    "    ```python\n",
    "\n",
    "    from langchain_cohere import ChatCohere\n",
    "\n",
    "    # ChatCohere 객체를 생성합니다.\n",
    "    cohere = ChatCohere(temperature=0)\n",
    "\n",
    "    # 스트리밍 출력을 위하여 invoke() 대신 stream()을 사용합니다.\n",
    "    answer = cohere.stream(\"사랑이 뭔가요?\")\n",
    "\n",
    "    # 답변 출력\n",
    "    stream_response(answer)\n",
    "\n",
    "    ```\n",
    "\n",
    "    ---\n",
    "\n",
    "* 답변 예시 (교재 안내)\n",
    "  \n",
    "  ```markdown\n",
    "    사랑은 복잡하고 강렬한 감정으로, 다양한 방식으로 정의될 수 있습니다. 일반적으로 사랑은 깊은 애정, 관심, 따뜻함, 친밀감, 헌신, 배려, 존중, 그리고 서로에 대한 강한 유대감을 포함하는 감정적, 정신적 상태를 의미합니다.\n",
    "\n",
    "    사랑은 다양한 형태로 나타날 수 있습니다:\n",
    "    - 낭만적 사랑: 일반적으로 두 사람 사이의 깊은 애정, 열정, 친밀감, 그리고 서로에 대한 헌신을 포함합니다.\n",
    "    - 가족 사랑: 부모와 자녀, 형제자매, 또는 가족 구성원 사이의 애착, 보호, 돌봄과 같은 감정을 말합니다.\n",
    "    - 우정: 친구 사이의 신뢰, 존중, 상호 이해, 그리고 서로에 대한 지원을 포함하는 감정입니다.\n",
    "    - 자기 사랑: 자신에 대한 수용, 존중, 돌봄, 그리고 자기 가치를 의미합니다.\n",
    "\n",
    "    사랑은 문화, 개인적 경험, 그리고 관계의 맥락에 따라 다르게 해석될 수 있습니다. 어떤 사람들은 사랑을 감정적인 연결로 정의하는 반면, 다른 사람들은 사랑이 행동과 헌신을 통해 표현된다고 믿습니다. 사랑은 종종 행복, 기쁨, 안락함, 그리고 삶의 의미를 가져다주는 것으로 여겨지지만, 때로는 복잡하고 도전적인 감정이기도 합니다.\n",
    "\n",
    "    사랑은 인간 관계의 핵심 요소 중 하나이며, 문학, 예술, 철학, 그리고 심리학에서 광범위하게 탐구되고 논의되는 주제입니다. 사랑의 본질과 의미에 대한 이해는 개인마다 다를 수 있으며, 각자의 경험과 관점에 따라 형성됩니다.\n",
    "  ```"
   ]
  },
  {
   "cell_type": "markdown",
   "id": "34096f1c",
   "metadata": {},
   "source": [
    "---"
   ]
  },
  {
   "cell_type": "markdown",
   "id": "dca93ed1",
   "metadata": {},
   "source": [
    "## **`Upstage`**"
   ]
  },
  {
   "cell_type": "markdown",
   "id": "7ddba388",
   "metadata": {},
   "source": [
    "* `인공지능(AI) 기술`, 특히 `대규모 언어 모델(LLM)`과 `문서 AI 분야`에 `특화`된 **국내 스타트업**"
   ]
  },
  {
   "cell_type": "markdown",
   "id": "eef5d42e",
   "metadata": {},
   "source": [
    "### **주요 제품 및 기술**\n",
    "\n",
    "* **`Solar LLM`**\n",
    "  \n",
    "  * **주요 특징**: `Upstage의 주력 대규모 언어 모델`로, `빠른 성능`과 `비용 효율성`으로 주목\n",
    "  \n",
    "  * **기술적 접근**: `Depth-Up Scaling (DUS) 기술`을 적용하여 성능을 극대화\n",
    "  \n",
    "  * **플랫폼 통합**: `Amazon SageMaker JumpStart` 등 다양한 플랫폼을 통해 `API`로 `통합 제공`\n",
    "\n",
    "<br>\n",
    "\n",
    "* **`Document AI Pack`**\n",
    "  \n",
    "  * **기능**: `OCR` 기술을 `기반`으로 한 **문서 처리 솔루션** → `복잡한 문서`에서 `필요한 내용`을 `정확히 추출`하고 `디지털화`\n",
    "\n",
    "<br>\n",
    "\n",
    "* **`AskUp Seargest`**\n",
    "  \n",
    "  * **특징**: `개인화된` 검색 및 추천 서비스를 제공하며, 기존의 `ChatGPT 통합 무료 챗봇 AskUp의 업그레이드 버전`"
   ]
  },
  {
   "cell_type": "markdown",
   "id": "8ba857bc",
   "metadata": {},
   "source": [
    "### **`API` 키 발급**\n",
    "\n",
    "* [발급](https://console.upstage.ai/api-keys): https://console.upstage.ai/api-keys"
   ]
  },
  {
   "cell_type": "markdown",
   "id": "166a0943",
   "metadata": {},
   "source": [
    "* 코드 예시 (교재 안내)\n",
    "  \n",
    "  ```python\n",
    "  \n",
    "  # UPSTAGE API KEY 설정\n",
    "  import os\n",
    "\n",
    "  os.environ[\"UPSTAGE_API_KEY\"] = \"이곳에 API KEY를 입력하세요.\"\n",
    "\n",
    "  from langchain_upstage import ChatUpstage\n",
    "\n",
    "  # ChatUpstage 객체를 생성합니다.\n",
    "  upstage = ChatUpstage(model=\"solar-pro\")\n",
    "\n",
    "  # 스트리밍 출력을 위하여 invoke() 대신 stream()을 사용합니다.\n",
    "  answer = upstage.stream(\"사랑이 뭔가요?\")\n",
    "\n",
    "  # 답변 출력\n",
    "  stream_response(answer)\n",
    "  ```\n",
    "\n",
    "  <br>\n",
    "\n",
    "  ---\n",
    "\n",
    "  <br>\n",
    "\n",
    "* 답변 예시 (교재 안내)\n",
    "\n",
    "    ```markdown\n",
    "    사랑은 깊은 애정과 강한 애착을 느끼는 감정입니다. 가족, 친구, 연인 등 다양한 관계에서 나타날 수 있습니다. 사랑은 배려, 존중, 신뢰, 이해, 그리고 헌신과 같은 다양한 요소로 구성됩니다. 사랑은 우리를 행복하게 하고, 우리에게 목적과 의미를 부여하며, 다른 사람들과의 관계를 강화시킵니다.\n",
    "    ```"
   ]
  },
  {
   "cell_type": "markdown",
   "id": "8959cbae",
   "metadata": {},
   "source": [
    "---"
   ]
  },
  {
   "cell_type": "markdown",
   "id": "a097223a",
   "metadata": {},
   "source": [
    "## **`Xionic`**"
   ]
  },
  {
   "cell_type": "markdown",
   "id": "f93ce829",
   "metadata": {},
   "source": [
    "* 사이오닉에이아이(Sionic AI) = 대한민국의 유망한 인공지능 스타트업\n",
    "* 기업용 생성형 AI 솔루션 개발"
   ]
  },
  {
   "cell_type": "markdown",
   "id": "ca02ca10",
   "metadata": {},
   "source": [
    "### **주요 제품**\n",
    "\n",
    "* **`STORM Platform`**: 기업이 생성형 AI를 기술적 고민 없이 바로 적용할 수 있도록 하는 플랫폼\n",
    "* **`STORM Answer`**: 기업에 최적화된 생성형 AI 솔루션으로 비즈니스 생산성 향상을 목표로 함\n",
    "* **`Xionic`**: 상업적 이용이 가능한 라이센스의 한국어 AI 모델\n",
    "\n",
    "* 상업적 이용이 가능한 라이센스의 `한국어 모델`\n",
    "\n",
    "* [링크](https://github.com/sionic-ai/xionic): https://github.com/sionic-ai/xionic *(참고) 2024.11.29 기준 사용불가 (API 서버 오류)*"
   ]
  },
  {
   "cell_type": "markdown",
   "id": "1238cd12",
   "metadata": {},
   "source": [
    "* 코드 에시 (교재 안내)\n",
    "\n",
    "  ```python\n",
    "    from langchain_openai import ChatOpenAI\n",
    "    from langchain_teddynote.messages import stream_response\n",
    "\n",
    "    # 2024. 11. 21 업데이트 코드\n",
    "    xionic = ChatOpenAI(\n",
    "        model_name=\"xionic-1-72b-20240919\",\n",
    "        base_url=\"https://sionic.chat/v1/\",\n",
    "        api_key=\"934c4bbc-c384-4bea-af82-1450d7f8128d\",\n",
    "    )\n",
    "\n",
    "    # 스트리밍 출력을 위하여 invoke() 대신 stream()을 사용합니다.\n",
    "    answer = xionic.stream(\"사랑이 뭔가요?\")\n",
    "\n",
    "    # 답변 출력\n",
    "    stream_response(answer)\n",
    "  ```"
   ]
  },
  {
   "cell_type": "markdown",
   "id": "3248f947",
   "metadata": {},
   "source": [
    "---"
   ]
  },
  {
   "cell_type": "markdown",
   "id": "bea87578",
   "metadata": {},
   "source": [
    "## **`LogicKor`**"
   ]
  },
  {
   "cell_type": "markdown",
   "id": "ab16de41",
   "metadata": {},
   "source": [
    "* `한국어 언어 모델`의 다분야 사고력을 평가하기 위해 만들어진 `벤치마크 리더보드`"
   ]
  },
  {
   "cell_type": "markdown",
   "id": "106abf0f",
   "metadata": {},
   "source": [
    "### **목적**\n",
    "\n",
    "* 한국어 언어 모델의 다양한 분야에서의 사고력을 측정하는 벤치마크\n",
    "* 한국어 AI 모델의 발전을 위한 중요한 도구로 자리잡고 있으며, 지속적인 개선과 발전이 기대됨\n",
    "\n",
    "\n",
    "### **평가 영역**\n",
    "\n",
    "* 한국어 추론\n",
    "* 수학\n",
    "* 글쓰기\n",
    "* 코딩\n",
    "* 이해력\n",
    "\n",
    "\n",
    "### **주요 특징**\n",
    "\n",
    "* 다양한 모델 평가: 국내외 다양한 언어 모델들의 성능을 비교할 수 있음\n",
    "* 객관적 성능 측정: 모델의 실제 성능을 다각도로 평가하여 객관적인 지표 제공\n",
    "* 오픈 소스: 누구나 접근하고 결과를 확인할 수 있는 오픈 플랫폼"
   ]
  },
  {
   "cell_type": "markdown",
   "id": "f5ef8612",
   "metadata": {},
   "source": [
    "### **`LogicKor` 대시보드**\n",
    "\n",
    "* [LogicKor 리더보드](https://lk.instruct.kr/): https://lk.instruct.kr/\n",
    "\n",
    "  * ![LogicKor 리더보드](../04_Model/images/LogicKor.png)\n",
    "\n",
    "  <br>\n",
    "\n",
    "  ***\n",
    "\n",
    "  <br>\n",
    "\n",
    "* *현재 상황: `Read Only` (2024.10.17.)*\n",
    "\n",
    "  * ![현재 상황](../04_Model/images/LogicKor2.png)\n",
    "  * [현재 상황](https://github.com/instructkr/LogicKor.git): https://github.com/instructkr/LogicKor.git"
   ]
  }
 ],
 "metadata": {
  "kernelspec": {
   "display_name": "lc_env",
   "language": "python",
   "name": "python3"
  },
  "language_info": {
   "codemirror_mode": {
    "name": "ipython",
    "version": 3
   },
   "file_extension": ".py",
   "mimetype": "text/x-python",
   "name": "python",
   "nbconvert_exporter": "python",
   "pygments_lexer": "ipython3",
   "version": "3.13.5"
  }
 },
 "nbformat": 4,
 "nbformat_minor": 5
}
