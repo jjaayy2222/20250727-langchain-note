{
 "cells": [
  {
   "cell_type": "markdown",
   "id": "7c6c0226",
   "metadata": {},
   "source": [
    "---"
   ]
  },
  {
   "cell_type": "markdown",
   "id": "e416518f",
   "metadata": {},
   "source": [
    "* 출처: LangChain 공식 문서 또는 해당 교재명\n",
    "* 원본 URL: https://smith.langchain.com/hub/teddynote/summary-stuff-documents"
   ]
  },
  {
   "cell_type": "markdown",
   "id": "6793a387",
   "metadata": {},
   "source": [
    "---"
   ]
  },
  {
   "cell_type": "markdown",
   "id": "45a8e3a7",
   "metadata": {},
   "source": [
    "## **`Caching`**"
   ]
  },
  {
   "cell_type": "markdown",
   "id": "057e303b",
   "metadata": {},
   "source": [
    "* LangChain: LLM을 위한 `선택적 캐싱 레이어`를 제공"
   ]
  },
  {
   "cell_type": "markdown",
   "id": "3f17f9d9",
   "metadata": {},
   "source": [
    "### **`Caching` 유용성**"
   ]
  },
  {
   "cell_type": "markdown",
   "id": "44531b6d",
   "metadata": {},
   "source": [
    "* **동일한 완료를 여러 번 요청하는 경우 LLM 공급자에 대한 `API 호출 횟수를 줄여 비용 절감`**\n",
    "\n",
    "* **LLM 제공업체에 대한 API 호출 횟수를 줄여 `애플리케이션의 속도 증가`**"
   ]
  },
  {
   "cell_type": "code",
   "execution_count": null,
   "id": "be4975fb",
   "metadata": {},
   "outputs": [],
   "source": [
    "# 환경변수 처리 및 클라어트 생성\n",
    "from langsmith import Client\n",
    "from langchain.prompts import PromptTemplate\n",
    "from langchain.prompts import ChatPromptTemplate\n",
    "import os\n",
    "import json\n",
    "\n",
    "# 클라이언트 생성 \n",
    "api_key = os.getenv(\"LANGSMITH_API_KEY\")\n",
    "client = Client(api_key=api_key)"
   ]
  },
  {
   "cell_type": "code",
   "execution_count": null,
   "id": "fa1815f2",
   "metadata": {},
   "outputs": [],
   "source": [
    "# LangSmith 추적 설정하기 (https:smith.langchin.com)\n",
    "# LangSmith 추적을 위한 라이브러리 임포트\n",
    "from langsmith import traceable                                                             # @traceable 데코레이터 사용 시\n",
    "\n",
    "# LangSmith 환경 변수 확인\n",
    "\n",
    "print(\"\\n--- LangSmith 환경 변수 확인 ---\")\n",
    "langchain_tracing_v2 = os.getenv('LANGCHAIN_TRACING_V2')\n",
    "langchain_project = os.getenv('LANGCHAIN_PROJECT')\n",
    "langchain_api_key_status = \"설정됨\" if os.getenv('LANGCHAIN_API_KEY') else \"설정되지 않음\"      # API 키 값은 직접 출력하지 않음\n",
    "org = \"설정됨\" if os.getenv('LANGCHAIN_ORGANIZATION') else \"설정되지 않음\"                     # 직접 출력하지 않음\n",
    "\n",
    "if langchain_tracing_v2 == \"true\" and os.getenv('LANGCHAIN_API_KEY') and langchain_project:\n",
    "    print(f\"✅ LangSmith 추적 활성화됨 (LANGCHAIN_TRACING_V2='{langchain_tracing_v2}')\")\n",
    "    print(f\"✅ LangSmith 프로젝트: '{langchain_project}'\")\n",
    "    print(f\"✅ LangSmith API Key: {langchain_api_key_status}\")\n",
    "    print(\"  -> 이제 LangSmith 대시보드에서 이 프로젝트를 확인해 보세요.\")\n",
    "else:\n",
    "    print(\"❌ LangSmith 추적이 완전히 활성화되지 않았습니다. 다음을 확인하세요:\")\n",
    "    if langchain_tracing_v2 != \"true\":\n",
    "        print(f\"  - LANGCHAIN_TRACING_V2가 'true'로 설정되어 있지 않습니다 (현재: '{langchain_tracing_v2}').\")\n",
    "    if not os.getenv('LANGCHAIN_API_KEY'):\n",
    "        print(\"  - LANGCHAIN_API_KEY가 설정되어 있지 않습니다.\")\n",
    "    if not langchain_project:\n",
    "        print(\"  - LANGCHAIN_PROJECT가 설정되어 있지 않습니다.\")\n"
   ]
  },
  {
   "cell_type": "markdown",
   "id": "8eb5b9e0",
   "metadata": {},
   "source": [
    "<small>\n",
    "\n",
    "* 셀 출력\n",
    "\n",
    "    ```markdown\n",
    "    --- LangSmith 환경 변수 확인 ---\n",
    "    ✅ LangSmith 추적 활성화됨 (LANGCHAIN_TRACING_V2='true')\n",
    "    ✅ LangSmith 프로젝트: 'LangChain-prantice'\n",
    "    ✅ LangSmith API Key: 설정됨\n",
    "    -> 이제 LangSmith 대시보드에서 이 프로젝트를 확인해 보세요.\n",
    "    ```"
   ]
  },
  {
   "cell_type": "markdown",
   "id": "75249c9b",
   "metadata": {},
   "source": [
    "---"
   ]
  },
  {
   "cell_type": "markdown",
   "id": "f8c1ffb0",
   "metadata": {},
   "source": [
    "### **`모델`, `프롬프트`** 생성하기"
   ]
  },
  {
   "cell_type": "markdown",
   "id": "49cf2c22",
   "metadata": {},
   "source": [
    "* **`모델` 생성**"
   ]
  },
  {
   "cell_type": "code",
   "execution_count": 9,
   "id": "f37855f3",
   "metadata": {},
   "outputs": [],
   "source": [
    "# LLM 초기화\n",
    "from langchain_google_genai import ChatGoogleGenerativeAI\n",
    "\n",
    "gemini_lc = ChatGoogleGenerativeAI(\n",
    "        model=\"gemini-2.5-flash-lite\",\n",
    "        #temperature=0.7,                                    \n",
    "        max_output_tokens=4096,\n",
    "    )"
   ]
  },
  {
   "cell_type": "markdown",
   "id": "1aca90b1",
   "metadata": {},
   "source": [
    "* **`프롬프트` 생성**"
   ]
  },
  {
   "cell_type": "code",
   "execution_count": 10,
   "id": "393a3e33",
   "metadata": {},
   "outputs": [],
   "source": [
    "# 프롬프트 생성\n",
    "\n",
    "prompt = PromptTemplate.from_template(\"{country} 에 대해서 200자 내외로 요약해줘\")"
   ]
  },
  {
   "cell_type": "markdown",
   "id": "189da509",
   "metadata": {},
   "source": [
    "* **`체인` 생성**"
   ]
  },
  {
   "cell_type": "code",
   "execution_count": 11,
   "id": "e45ea9ad",
   "metadata": {},
   "outputs": [],
   "source": [
    "# 체인 생성\n",
    "\n",
    "chain = prompt | gemini_lc"
   ]
  },
  {
   "cell_type": "code",
   "execution_count": null,
   "id": "afb33ce4",
   "metadata": {},
   "outputs": [],
   "source": [
    "%%time \n",
    "\n",
    "response = chain.invoke({\"country\": \"한국\"})\n",
    "print(response.content)"
   ]
  },
  {
   "cell_type": "markdown",
   "id": "e6e50702",
   "metadata": {},
   "source": [
    "<small>\n",
    "\n",
    "* 셀 출력 (1.6s)\n",
    "\n",
    "    ```markdown\n",
    "    한국은 동아시아에 위치한 반도 국가로, 풍부한 역사와 독특한 문화를 자랑합니다. K팝, 드라마 등 한류 문화는 전 세계적으로 큰 인기를 얻고 있으며, IT 기술 강국으로서 혁신적인 발전을 이루고 있습니다. 아름다운 자연 경관과 더불어 활기찬 도시 생활을 동시에 경험할 수 있는 매력적인 나라입니다.\n",
    "    CPU times: user 61.4 ms, sys: 62.7 ms, total: 124 ms\n",
    "    Wall time: 1.62"
   ]
  },
  {
   "cell_type": "markdown",
   "id": "6c8c40e8",
   "metadata": {},
   "source": [
    "---"
   ]
  },
  {
   "cell_type": "markdown",
   "id": "e2d6d5de",
   "metadata": {},
   "source": [
    "### **`InMemoryCache`**"
   ]
  },
  {
   "cell_type": "markdown",
   "id": "4a710336",
   "metadata": {},
   "source": [
    "* `인메모리 캐시`\n",
    "  * `동일 질문`에 대한 `답변을 저장`\n",
    "  * 캐시에 `저장된 답변을 반환`"
   ]
  },
  {
   "cell_type": "code",
   "execution_count": null,
   "id": "7da5294b",
   "metadata": {},
   "outputs": [],
   "source": [
    "%%time\n",
    "from langchain.globals import set_llm_cache\n",
    "from langchain.cache import InMemoryCache\n",
    "\n",
    "# 인메모리 캐시 사용하기\n",
    "set_llm_cache(InMemoryCache())\n",
    "\n",
    "# 체인 실행\n",
    "response = chain.invoke({\"country\": \"한국\"})\n",
    "print(response.content)"
   ]
  },
  {
   "cell_type": "markdown",
   "id": "f891e226",
   "metadata": {},
   "source": [
    "<small>\n",
    "\n",
    "* 셀 출력 (2.65s)\n",
    "\n",
    "    ```markdown\n",
    "    한국은 동아시아에 위치한 반도 국가로, 풍부한 역사와 전통을 자랑합니다. IT 강국으로 알려져 있으며, K-팝, K-드라마 등 한류 문화는 전 세계적으로 큰 인기를 얻고 있습니다. \n",
    "\n",
    "    정치적으로는 민주주의 공화국이며, 경제적으로는 세계 10위권의 경제 대국입니다. 아름다운 자연경관과 맛있는 음식 또한 한국을 매력적으로 만드는 요소입니다. 200자 내외로 간략하게 요약했습니다.\n",
    "    CPU times: user 154 ms, sys: 55 ms, total: 209 ms\n",
    "    Wall time: 2.65 s\n",
    "    ```"
   ]
  },
  {
   "cell_type": "code",
   "execution_count": null,
   "id": "c8425124",
   "metadata": {},
   "outputs": [],
   "source": [
    "%%time\n",
    "    \n",
    "# 체인 실행하기\n",
    "response = chain.invoke({\"country\": \"한국\"})\n",
    "print(response.content)"
   ]
  },
  {
   "cell_type": "markdown",
   "id": "36b5a75f",
   "metadata": {},
   "source": [
    "<small>\n",
    "\n",
    "* 셀 출력 (0.0s) (20.7ms)\n",
    "\n",
    "    ```markdown\n",
    "    한국은 동아시아에 위치한 반도 국가로, 풍부한 역사와 전통을 자랑합니다. IT 강국으로 알려져 있으며, K-팝, K-드라마 등 한류 문화는 전 세계적으로 큰 인기를 얻고 있습니다. \n",
    "\n",
    "    정치적으로는 민주주의 공화국이며, 경제적으로는 세계 10위권의 경제 대국입니다. 아름다운 자연경관과 맛있는 음식 또한 한국을 매력적으로 만드는 요소입니다. 200자 내외로 간략하게 요약했습니다.\n",
    "    CPU times: user 6.09 ms, sys: 13.5 ms, total: 19.6 ms\n",
    "    Wall time: 20.7 ms\n",
    "    ```"
   ]
  },
  {
   "cell_type": "markdown",
   "id": "df66c639",
   "metadata": {},
   "source": [
    "---"
   ]
  },
  {
   "cell_type": "markdown",
   "id": "cb8b44d0",
   "metadata": {},
   "source": [
    "### **`SQLite Cache`**"
   ]
  },
  {
   "cell_type": "code",
   "execution_count": 15,
   "id": "051f6043",
   "metadata": {},
   "outputs": [],
   "source": [
    "from langchain_community.cache import SQLiteCache\n",
    "from langchain_core.globals import set_llm_cache\n",
    "import os\n",
    "\n",
    "# 캐시 디렉토리 생성하기\n",
    "if not os.path.exists(\"cache\"):\n",
    "    os.makedirs(\"cache\")\n",
    "\n",
    "# SQLiteCache 사용해보기\n",
    "set_llm_cache(SQLiteCache(database_path=\"cache/llm_cache.db\"))"
   ]
  },
  {
   "cell_type": "code",
   "execution_count": null,
   "id": "18f12b57",
   "metadata": {},
   "outputs": [],
   "source": [
    "%%time \n",
    "\n",
    "# 체인 실행하기\n",
    "response = chain.invoke({\"country\": \"한국\"})\n",
    "print(response.content)"
   ]
  },
  {
   "cell_type": "markdown",
   "id": "ec1a7d15",
   "metadata": {},
   "source": [
    "<small>\n",
    "\n",
    "* 셀 출력 (1.0s)\n",
    "\n",
    "    ```markdown\n",
    "    한국은 동아시아에 위치한 반도 국가로, 풍부한 역사와 독특한 문화를 자랑합니다. IT 강국으로서 첨단 기술 발전을 선도하고 있으며, K-팝, K-드라마 등 한류 문화는 전 세계적으로 큰 인기를 얻고 있습니다. 맛있는 음식과 아름다운 자연, 그리고 친절한 사람들 덕분에 많은 관광객들이 찾는 매력적인 나라입니다.\n",
    "    CPU times: user 25.7 ms, sys: 19.4 ms, total: 45.1 ms\n",
    "    Wall time: 1.07 s\n",
    "    ```"
   ]
  },
  {
   "cell_type": "markdown",
   "id": "13e680d0",
   "metadata": {},
   "source": [
    "---"
   ]
  },
  {
   "cell_type": "markdown",
   "id": "5af94bc9",
   "metadata": {},
   "source": [
    "### **정리**\n",
    "\n",
    "* **`InMemoryCache`**\n",
    "  * **빠르고 일시적인 저장**에 유리\n",
    "  * 주로 **단기적인 데이터**를 빠르게 처리할 때 사용\n",
    "  \n",
    "* **`SQLite Cache`**\n",
    "  * **영구적인 데이터 저장**에 유리\n",
    "  * 컴퓨터를 꺼도 데이터가 남기 때문에 **장기적인 저장**이 필요할 때 사용"
   ]
  },
  {
   "cell_type": "markdown",
   "id": "59fd76fd",
   "metadata": {},
   "source": [
    "<small>\n",
    "\n",
    "* **`InMemoryCache`값과 `SQLite Cache`결과값이 다른 이유**\n",
    "\n",
    "  | **단계**               | **SQLite 캐시 사용 (첫 번째 답 생성)**            | **InMemoryCache 사용 (두 번째 답 생성)**    |\n",
    "  |----------------------|-----------------------------------------------|----------------------------------------|\n",
    "  | **답 생성**           | 첫 번째 답 생성 후 **SQLite 캐시 사용**        | 두 번째 답 생성 후 **InMemoryCache 사용** |\n",
    "  | **저장 위치**          | **디스크**에 저장                            | **RAM**에 저장                         |\n",
    "  | **데이터 유지**        | 컴퓨터를 껐다 켜도 **유지됨**                   | 컴퓨터를 껐다 켜면 **사라짐**             |\n",
    "  | **데이터 접근 속도**   | 디스크에서 불러오는 속도 (상대적으로 느림)      | 메모리에서 빠르게 불러오는 속도         |\n",
    "  | **결과**               | 동일한 체인으로 답을 불러와 **같은 답**이 나옴   | 빠르게 캐시된 데이터를 불러와 **같은 답**이 나옴  |\n",
    "\n",
    "<br>\n",
    "\n",
    "  ***\n",
    "\n",
    "<br>\n",
    "\n",
    "* **현상 설명 순서도 (Flowchart)**\n",
    "\n",
    "  * 실행 순서: 첫 체인 생성 후 답변 생성 (첫번째 답변 생성) → `InMemoryCache` 사용 → 두번째 답변 생성(`다른 답변`) → `RAM` 저장 → `재출력` → `두번째 답변` 출력 → `SQLite Cache` 사용 → `디스크`에 저장된 답변 가져옴 = 첫번째 답변 접근 → `첫번째 답변` 출력\n",
    "\n",
    "* ![설명 순서도](../04_Model/images/caching.png)\n"
   ]
  },
  {
   "cell_type": "markdown",
   "id": "87eda11d",
   "metadata": {},
   "source": [
    "---"
   ]
  },
  {
   "cell_type": "markdown",
   "id": "09fb9a14",
   "metadata": {},
   "source": [
    "### **비교표**\n",
    "\n",
    "  | 특징         | **`InMemoryCache` (메모리 캐시)** | **`SQLite Cache` (SQLite 캐시)**  |\n",
    "  | ---------- | -------------------------- | ----------------------------- |\n",
    "  | **저장 위치**  | 컴퓨터의 **`RAM`(메모리)** 에 저장  | **디스크 파일** 에 저장                |\n",
    "  | **속도**     | 매우 빠름                      | 메모리보다는 느림                     |\n",
    "  | **데이터 유지** | 컴퓨터를 끄면 데이터가 **사라짐**       | 컴퓨터를 꺼도 데이터가 **남음**           |\n",
    "  | **장점**     | 매우 빠르고 효율적                 | 데이터를 오랫동안 저장 가능, 데이터가 사라지지 않음 |\n",
    "  | **단점**     | 컴퓨터를 껐을 때 **모든 데이터가 사라짐**  | 빠르지 않아서 읽기/쓰기 `속도가 느릴 수 있음`     |"
   ]
  },
  {
   "cell_type": "markdown",
   "id": "2b964baa",
   "metadata": {},
   "source": [
    "---"
   ]
  },
  {
   "cell_type": "markdown",
   "id": "c41a234a",
   "metadata": {},
   "source": [
    "* *next: 모델 직렬화(Serialization) - 저장 및 불러오기*"
   ]
  },
  {
   "cell_type": "markdown",
   "id": "c09fca95",
   "metadata": {},
   "source": [
    "---"
   ]
  }
 ],
 "metadata": {
  "kernelspec": {
   "display_name": "lc_env",
   "language": "python",
   "name": "python3"
  },
  "language_info": {
   "codemirror_mode": {
    "name": "ipython",
    "version": 3
   },
   "file_extension": ".py",
   "mimetype": "text/x-python",
   "name": "python",
   "nbconvert_exporter": "python",
   "pygments_lexer": "ipython3",
   "version": "3.13.5"
  }
 },
 "nbformat": 4,
 "nbformat_minor": 5
}
