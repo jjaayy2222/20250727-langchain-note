{
 "cells": [
  {
   "cell_type": "markdown",
   "id": "14bd064b",
   "metadata": {},
   "source": [
    "---"
   ]
  },
  {
   "cell_type": "markdown",
   "id": "4d7cf4d9",
   "metadata": {},
   "source": [
    "* 출처: LangChain 공식 문서 또는 해당 교재명\n",
    "* 원본 URL: https://smith.langchain.com/hub/teddynote/summary-stuff-documents"
   ]
  },
  {
   "cell_type": "markdown",
   "id": "c14946d5",
   "metadata": {},
   "source": [
    "---"
   ]
  },
  {
   "cell_type": "markdown",
   "id": "9ec08597",
   "metadata": {},
   "source": [
    "## **`CH11 리랭커 (Reranker)`**"
   ]
  },
  {
   "cell_type": "markdown",
   "id": "0234d0f0",
   "metadata": {},
   "source": [
    "* **`Reranker`**\n",
    "\n",
    "  * 현대적인 두 단계 검색 시스템(`Two-Stage Retrieval System`)에서 사용되는 핵심 컴포넌트\n",
    "  * 대규모 데이터셋에서 `효율적`이고 `정확한 검색`을 수행하기 위해 설계됨\n",
    "  * 주로 첫 번째 단계인 `Retriever`가 찾아낸 `문서`들의 `순위`를 `재조정`하는 역할"
   ]
  },
  {
   "cell_type": "markdown",
   "id": "dd13c430",
   "metadata": {},
   "source": [
    "---"
   ]
  },
  {
   "cell_type": "markdown",
   "id": "ace5dfb8",
   "metadata": {},
   "source": [
    "* **`개요`**\n",
    "\n",
    "  * **검색 시스템의 `두 번째 단계`에서 작동**\n",
    "  * 목표: 초기 검색 결과의 **`정확도`를 `향상`시키는 것**\n",
    "    * `Retriever`가 대규모 문서 집합에서 `관련성` 있는 `후보 문서`들을 빠르게 `추출` **→ `Reranker`는 이 후보 문서들을 `더 정교하게 분석`** → 최종적인 순위 결정"
   ]
  },
  {
   "cell_type": "markdown",
   "id": "f0ba51a6",
   "metadata": {},
   "source": [
    "---"
   ]
  },
  {
   "cell_type": "markdown",
   "id": "de9f9894",
   "metadata": {},
   "source": [
    "* **`작동 원리`**\n",
    "\n",
    "  * a. `Retriever`로부터 초기 검색 결과를 입력받음\n",
    "  * b. **`쿼리`와 각 `후보 문서`를 `쌍`으로 결합** → 처리\n",
    "  * c. **`복잡한 모델`(주로 `트랜스포머 기반`)을 사용하여 `각 쿼리-문서 쌍의 관련성` `평가`**\n",
    "  * d. 평가 결과 → **문서들의 `순위`를 `재조정`**\n",
    "  * e. **`최종적`으로 `재순위화`된 결과를 `출력`**"
   ]
  },
  {
   "cell_type": "markdown",
   "id": "dc227739",
   "metadata": {},
   "source": [
    "---"
   ]
  },
  {
   "cell_type": "markdown",
   "id": "d7943a6b",
   "metadata": {},
   "source": [
    "* **`기술적 특징`**\n",
    "\n",
    "  * **`아키텍처`**\n",
    "    * 주로 `BERT`, `RoBERTa` 등의 트랜스포머 기반 모델 사용\n",
    "    * **`교차 인코더`(`Cross-encoder`) 구조 채택**\n",
    "\n",
    "  * **`입력 형식`**\n",
    "\n",
    "  ```bash\n",
    "\n",
    "        [CLS] Query [SEP] Document [SEP]\n",
    "  \n",
    "  ```\n",
    "\n",
    "  * **`학습 방법`**\n",
    "    * `포인트와이즈`(`Pointwise`): `개별 쿼리-문서 쌍의 관련성 점수` 예측\n",
    "    * `페어와이즈`(`Pairwise`): `두 문서 간의 상대적 관련성` 비교\n",
    "    * `리스트와이즈`(`Listwise`): `전체 순위 목록`을 한 번에 최적화"
   ]
  },
  {
   "cell_type": "markdown",
   "id": "c6d30b78",
   "metadata": {},
   "source": [
    "---"
   ]
  },
  {
   "cell_type": "markdown",
   "id": "00ed0dc5",
   "metadata": {},
   "source": [
    "* **`Retriever`와의 차이점**\n",
    "\n",
    "  | 특성     | Retriever    | Reranker   |\n",
    "  |--------|--------------|------------|\n",
    "  | 목적     | 관련 문서 빠른 검색  | 정확한 순위 조정  |\n",
    "  | 처리 방식  | 간단한 유사도 계산   | 복잡한 의미 분석  |\n",
    "  | 모델 구조  | 단일 인코더       | 교차 인코더     |\n",
    "  | 연산 복잡도 | 낮음           | 높음         |\n",
    "  | 우선순위   | 속도           | 정확도        |\n",
    "  | 입력 형태  | 쿼리와 문서 개별 처리 | 쿼리-문서 쌍 처리 |\n",
    "  | 출력     | 후보 문서 대규모 집합 | 정확한 순위와 점수 |\n",
    "  | 확장성    | 높음           | 제한적        |"
   ]
  },
  {
   "cell_type": "markdown",
   "id": "892ddb34",
   "metadata": {},
   "source": [
    "---"
   ]
  },
  {
   "cell_type": "markdown",
   "id": "2903c7f6",
   "metadata": {},
   "source": [
    "* **`장단점`**\n",
    "\n",
    "  * **`장점`**\n",
    "    * 검색 정확도 크게 향상\n",
    "    * 복잡한 의미적 관계 모델링 가능\n",
    "    * 첫 단계 검색의 한계 보완\n",
    "\n",
    "  * **`단점`**\n",
    "    * 게산 비용 증가\n",
    "    * 처리 시간 증가\n",
    "    * 대규모 데이터셋에 직접 적용 어려움"
   ]
  },
  {
   "cell_type": "markdown",
   "id": "dc527922",
   "metadata": {},
   "source": [
    "---"
   ]
  },
  {
   "cell_type": "markdown",
   "id": "3d46aac0",
   "metadata": {},
   "source": [
    "### **1. `Cross Encoder Reranker`**"
   ]
  },
  {
   "cell_type": "markdown",
   "id": "417e3726",
   "metadata": {},
   "source": [
    "#### **1) `개요`**"
   ]
  },
  {
   "cell_type": "markdown",
   "id": "620083e4",
   "metadata": {},
   "source": [
    "* **`RAG`** *(검색 증강 생성)* 시스템의 성능을 향상시키기 위해 사용되는 기술\n",
    "\n",
    "  * `Hugging Face`의 `cross encoder` 모델 사용 → `retriever`에서 `reranker` 구현하는 방법 사용해보기"
   ]
  },
  {
   "cell_type": "markdown",
   "id": "2a65ed93",
   "metadata": {},
   "source": [
    "---"
   ]
  },
  {
   "cell_type": "markdown",
   "id": "c6ca3e7d",
   "metadata": {},
   "source": [
    "#### **2) `주요 특징 및 작동 방식`**"
   ]
  },
  {
   "cell_type": "markdown",
   "id": "96a222a4",
   "metadata": {},
   "source": [
    "* **`목적`**\n",
    "  * 검색된 문서들의 순위 재조정 → `질문에 가장 관련성 높은 문서를 상위로 올림`\n",
    "\n",
    "* **`구조`**\n",
    "  * `질문`, `문서` 동시에 입력으로 받아 처리함\n",
    "\n",
    "* **`작동 방식`**\n",
    "  * `질문` - `문서`를 하나의 입력으로 사용 → **`유사도` 직접 출력**\n",
    "  * **`Self-attention 메커니즘`** → `질문` - `문서` 동시에 분석 \n",
    "\n",
    "* **`장점`**\n",
    "  * 더 정확한 유사도 측정 가능\n",
    "  * 질문-문서 사이의 의미론적 유사성을 깊이 탐색\n",
    "\n",
    "* **`한계점`**\n",
    "  * 연산 비용이 높고 시간이 오래 걸림\n",
    "  * 대규모 문서 집합에 직접 적용하기 어려움"
   ]
  },
  {
   "cell_type": "markdown",
   "id": "5ad018cf",
   "metadata": {},
   "source": [
    "---"
   ]
  },
  {
   "cell_type": "markdown",
   "id": "17e65090",
   "metadata": {},
   "source": [
    "#### **3) `실제 사용`**"
   ]
  },
  {
   "cell_type": "markdown",
   "id": "505c62b3",
   "metadata": {},
   "source": [
    "* 일반적으로 초기 검색에서 `상위 k개`의 문서에 대해서만 `reranking` 수행\n",
    "\n",
    "* `Bi-encoder`로 빠르게 후보 추출 → **`Cross encoder`** 로 정확도 높이는 방식으로 활용"
   ]
  },
  {
   "cell_type": "markdown",
   "id": "5a1076da",
   "metadata": {},
   "source": [
    "---"
   ]
  },
  {
   "cell_type": "markdown",
   "id": "ac4c6387",
   "metadata": {},
   "source": [
    "#### **4) `구현`**"
   ]
  },
  {
   "cell_type": "markdown",
   "id": "6b22dd3a",
   "metadata": {},
   "source": [
    "* `Hugging Face`의 `cross encoder` 모델 or `BAAI`/`bge-reranker`와 같은 모델 사용\n",
    "\n",
    "* `LangChain`등의 프레임워크에서 `CrossEncoderReranker` 컴포넌트 통해 쉽게 통합 가능"
   ]
  },
  {
   "cell_type": "markdown",
   "id": "c1b557b1",
   "metadata": {},
   "source": [
    "---"
   ]
  },
  {
   "cell_type": "markdown",
   "id": "0b55c81e",
   "metadata": {},
   "source": [
    "#### **5) `Reranker 의 주요 장점`**"
   ]
  },
  {
   "cell_type": "markdown",
   "id": "c87ce8db",
   "metadata": {},
   "source": [
    "* 더 정확한 유사도 측정\n",
    "* 심층적인 의미론적 유사성 탐색\n",
    "* 검색 결과 개선\n",
    "* `RAG` 시스템 성능 향상\n",
    "* 유연한 통합\n",
    "* 다양한 사전 학습 모델 선택 가능"
   ]
  },
  {
   "cell_type": "markdown",
   "id": "9a174cb6",
   "metadata": {},
   "source": [
    "---"
   ]
  },
  {
   "cell_type": "markdown",
   "id": "b76a4428",
   "metadata": {},
   "source": [
    "#### **6) `Reranker 사용 시 문서 수 설정`**"
   ]
  },
  {
   "cell_type": "markdown",
   "id": "c97609ec",
   "metadata": {},
   "source": [
    "* 일반적으로 `상위 5~10개` 문서에 대해 `reranking` 수행\n",
    "\n",
    "* 최적의 문서 수 = *`실험과 평가를 통해 결정 필요`*"
   ]
  },
  {
   "cell_type": "markdown",
   "id": "fcd0c013",
   "metadata": {},
   "source": [
    "---"
   ]
  },
  {
   "cell_type": "markdown",
   "id": "7c53a316",
   "metadata": {},
   "source": [
    "#### **7) `Reranker 사용시 Trade-offs`**"
   ]
  },
  {
   "cell_type": "markdown",
   "id": "f9a0c2d9",
   "metadata": {},
   "source": [
    "* a. **`정확도`** vs **`처리 시간`**\n",
    "* b. **`성능 향상`** vs **`계산 비용`**\n",
    "* c. **`검색 속도`** vs **`관련성 정확도`**\n",
    "* d. **`시스템 요구사항 충족`**\n",
    "* e. **`데이터셋 특성 고려 간단한 예시를 통한 Cross Encoder Reranker의 구현방법`**"
   ]
  },
  {
   "cell_type": "markdown",
   "id": "9f460f9e",
   "metadata": {},
   "source": [
    "---"
   ]
  },
  {
   "cell_type": "code",
   "execution_count": null,
   "id": "0f46c080",
   "metadata": {},
   "outputs": [],
   "source": [
    "# 문서 출력 도우미 함수\n",
    "def pretty_print_docs(docs):\n",
    "    print(\n",
    "        f\"\\n{'-' * 100}\\n\".join(\n",
    "            [f\"Document {i+1}:\\n\\n\" + d.page_content for i, d in enumerate(docs)]\n",
    "        )\n",
    "    )"
   ]
  },
  {
   "cell_type": "code",
   "execution_count": null,
   "id": "e62e6057",
   "metadata": {},
   "outputs": [],
   "source": [
    "from langchain_community.document_loaders import TextLoader\n",
    "from langchain_community.vectorstores import FAISS\n",
    "from langchain_huggingface import HuggingFaceEmbeddings\n",
    "from langchain_text_splitters import RecursiveCharacterTextSplitter\n",
    "\n",
    "# 문서 로드\n",
    "documents = TextLoader(\"../11_Reranker/data/appendix-keywords.txt\").load()\n",
    "\n",
    "# 텍스트 분할기 설정\n",
    "text_splitter = RecursiveCharacterTextSplitter(chunk_size=500, chunk_overlap=100)\n",
    "\n",
    "# 문서 분할\n",
    "texts = text_splitter.split_documents(documents)\n",
    "\n",
    "# 임베딩 모델 설정\n",
    "embeddingsModel = HuggingFaceEmbeddings(\n",
    "    model_name=\"sentence-transformers/msmarco-distilbert-dot-v5\"\n",
    ")"
   ]
  },
  {
   "cell_type": "markdown",
   "id": "7f2cc2d6",
   "metadata": {},
   "source": [
    "<small>\n",
    "\n",
    "* `Hugging Face` 모델 설치 결과 (`38.7s`)\n",
    "  * ![허깅페이스 모델 설치 결과](../11_Reranker/images/hugging_face.png)"
   ]
  },
  {
   "cell_type": "code",
   "execution_count": null,
   "id": "09d9817b",
   "metadata": {},
   "outputs": [],
   "source": [
    "# 문서로부터 FAISS 인덱스 생성 및 검색기 설정\n",
    "\n",
    "retriever = FAISS.from_documents(texts, embeddingsModel).as_retriever(\n",
    "    search_kwargs={\"k\": 10}\n",
    ")                                                           # 2.4s"
   ]
  },
  {
   "cell_type": "code",
   "execution_count": null,
   "id": "5490167a",
   "metadata": {},
   "outputs": [],
   "source": [
    "# 질의 설정\n",
    "query = \"Word2Vec 에 대해서 알려줄래?\"\n",
    "\n",
    "# 질의 수행 및 결과 문서 반환\n",
    "docs = retriever.invoke(query)\n",
    "\n",
    "# 결과 문서 출력\n",
    "pretty_print_docs(docs)"
   ]
  },
  {
   "cell_type": "markdown",
   "id": "08432e2e",
   "metadata": {},
   "source": [
    "<small>\n",
    "\n",
    "* 결과 문서 출력 하기 (`0.7s`)\n",
    "\n",
    "    ```markdown\n",
    "    Document 1:\n",
    "\n",
    "    Open Source\n",
    "\n",
    "    정의: 오픈 소스는 소스 코드가 공개되어 누구나 자유롭게 사용, 수정, 배포할 수 있는 소프트웨어를 의미합니다. 이는 협업과 혁신을 촉진하는 데 중요한 역할을 합니다.\n",
    "    예시: 리눅스 운영 체제는 대표적인 오픈 소스 프로젝트입니다.\n",
    "    연관키워드: 소프트웨어 개발, 커뮤니티, 기술 협업\n",
    "\n",
    "    Structured Data\n",
    "\n",
    "    정의: 구조화된 데이터는 정해진 형식이나 스키마에 따라 조직된 데이터입니다. 이는 데이터베이스, 스프레드시트 등에서 쉽게 검색하고 분석할 수 있습니다.\n",
    "    예시: 관계형 데이터베이스에 저장된 고객 정보 테이블은 구조화된 데이터의 예입니다.\n",
    "    연관키워드: 데이터베이스, 데이터 분석, 데이터 모델링\n",
    "\n",
    "    Parser\n",
    "    ----------------------------------------------------------------------------------------------------\n",
    "    Document 2:\n",
    "\n",
    "    정의: LLM은 대규모의 텍스트 데이터로 훈련된 큰 규모의 언어 모델을 의미합니다. 이러한 모델은 다양한 자연어 이해 및 생성 작업에 사용됩니다.\n",
    "    예시: OpenAI의 GPT 시리즈는 대표적인 대규모 언어 모델입니다.\n",
    "    연관키워드: 자연어 처리, 딥러닝, 텍스트 생성\n",
    "\n",
    "    FAISS (Facebook AI Similarity Search)\n",
    "\n",
    "    정의: FAISS는 페이스북에서 개발한 고속 유사성 검색 라이브러리로, 특히 대규모 벡터 집합에서 유사 벡터를 효과적으로 검색할 수 있도록 설계되었습니다.\n",
    "    예시: 수백만 개의 이미지 벡터 중에서 비슷한 이미지를 빠르게 찾는 데 FAISS가 사용될 수 있습니다.\n",
    "    연관키워드: 벡터 검색, 머신러닝, 데이터베이스 최적화\n",
    "\n",
    "    Open Source\n",
    "    ----------------------------------------------------------------------------------------------------\n",
    "    Document 3:\n",
    "\n",
    "    InstructGPT\n",
    "\n",
    "    정의: InstructGPT는 사용자의 지시에 따라 특정한 작업을 수행하기 위해 최적화된 GPT 모델입니다. 이 모델은 보다 정확하고 관련성 높은 결과를 생성하도록 설계되었습니다.\n",
    "    예시: 사용자가 \"이메일 초안 작성\"과 같은 특정 지시를 제공하면, InstructGPT는 관련 내용을 기반으로 이메일을 작성합니다.\n",
    "    연관키워드: 인공지능, 자연어 이해, 명령 기반 처리\n",
    "\n",
    "    Keyword Search\n",
    "\n",
    "    정의: 키워드 검색은 사용자가 입력한 키워드를 기반으로 정보를 찾는 과정입니다. 이는 대부분의 검색 엔진과 데이터베이스 시스템에서 기본적인 검색 방식으로 사용됩니다.\n",
    "    예시: 사용자가 \"커피숍 서울\"이라고 검색하면, 관련된 커피숍 목록을 반환합니다.\n",
    "    연관키워드: 검색 엔진, 데이터 검색, 정보 검색\n",
    "\n",
    "    Page Rank\n",
    "    ----------------------------------------------------------------------------------------------------\n",
    "    Document 4:\n",
    "\n",
    "    Token\n",
    "\n",
    "    정의: 토큰은 텍스트를 더 작은 단위로 분할하는 것을 의미합니다. 이는 일반적으로 단어, 문장, 또는 구절일 수 있습니다.\n",
    "    예시: 문장 \"나는 학교에 간다\"를 \"나는\", \"학교에\", \"간다\"로 분할합니다.\n",
    "    연관키워드: 토큰화, 자연어 처리, 구문 분석\n",
    "\n",
    "    Tokenizer\n",
    "\n",
    "    정의: 토크나이저는 텍스트 데이터를 토큰으로 분할하는 도구입니다. 이는 자연어 처리에서 데이터를 전처리하는 데 사용됩니다.\n",
    "    예시: \"I love programming.\"이라는 문장을 [\"I\", \"love\", \"programming\", \".\"]으로 분할합니다.\n",
    "    연관키워드: 토큰화, 자연어 처리, 구문 분석\n",
    "\n",
    "    VectorStore\n",
    "\n",
    "    정의: 벡터스토어는 벡터 형식으로 변환된 데이터를 저장하는 시스템입니다. 이는 검색, 분류 및 기타 데이터 분석 작업에 사용됩니다.\n",
    "    예시: 단어 임베딩 벡터들을 데이터베이스에 저장하여 빠르게 접근할 수 있습니다.\n",
    "    연관키워드: 임베딩, 데이터베이스, 벡터화\n",
    "\n",
    "    SQL\n",
    "    ----------------------------------------------------------------------------------------------------\n",
    "    Document 5:\n",
    "\n",
    "    Page Rank\n",
    "\n",
    "    정의: 페이지 랭크는 웹 페이지의 중요도를 평가하는 알고리즘으로, 주로 검색 엔진 결과의 순위를 결정하는 데 사용됩니다. 이는 웹 페이지 간의 링크 구조를 분석하여 평가합니다.\n",
    "    예시: 구글 검색 엔진은 페이지 랭크 알고리즘을 사용하여 검색 결과의 순위를 정합니다.\n",
    "    연관키워드: 검색 엔진 최적화, 웹 분석, 링크 분석\n",
    "\n",
    "    데이터 마이닝\n",
    "\n",
    "    정의: 데이터 마이닝은 대량의 데이터에서 유용한 정보를 발굴하는 과정입니다. 이는 통계, 머신러닝, 패턴 인식 등의 기술을 활용합니다.\n",
    "    예시: 소매업체가 고객 구매 데이터를 분석하여 판매 전략을 수립하는 것은 데이터 마이닝의 예입니다.\n",
    "    연관키워드: 빅데이터, 패턴 인식, 예측 분석\n",
    "\n",
    "    멀티모달 (Multimodal)\n",
    "    ----------------------------------------------------------------------------------------------------\n",
    "    Document 6:\n",
    "\n",
    "    Semantic Search\n",
    "\n",
    "    정의: 의미론적 검색은 사용자의 질의를 단순한 키워드 매칭을 넘어서 그 의미를 파악하여 관련된 결과를 반환하는 검색 방식입니다.\n",
    "    예시: 사용자가 \"태양계 행성\"이라고 검색하면, \"목성\", \"화성\" 등과 같이 관련된 행성에 대한 정보를 반환합니다.\n",
    "    연관키워드: 자연어 처리, 검색 알고리즘, 데이터 마이닝\n",
    "\n",
    "    Embedding\n",
    "\n",
    "    정의: 임베딩은 단어나 문장 같은 텍스트 데이터를 저차원의 연속적인 벡터로 변환하는 과정입니다. 이를 통해 컴퓨터가 텍스트를 이해하고 처리할 수 있게 합니다.\n",
    "    예시: \"사과\"라는 단어를 [0.65, -0.23, 0.17]과 같은 벡터로 표현합니다.\n",
    "    연관키워드: 자연어 처리, 벡터화, 딥러닝\n",
    "\n",
    "    Token\n",
    "    ----------------------------------------------------------------------------------------------------\n",
    "    Document 7:\n",
    "\n",
    "    판다스 (Pandas)\n",
    "\n",
    "    정의: 판다스는 파이썬 프로그래밍 언어를 위한 데이터 분석 및 조작 도구를 제공하는 라이브러리입니다. 이는 데이터 분석 작업을 효율적으로 수행할 수 있게 합니다.\n",
    "    예시: 판다스를 사용하여 CSV 파일을 읽고, 데이터를 정제하며, 다양한 분석을 수행할 수 있습니다.\n",
    "    연관키워드: 데이터 분석, 파이썬, 데이터 처리\n",
    "\n",
    "    GPT (Generative Pretrained Transformer)\n",
    "\n",
    "    정의: GPT는 대규모의 데이터셋으로 사전 훈련된 생성적 언어 모델로, 다양한 텍스트 기반 작업에 활용됩니다. 이는 입력된 텍스트에 기반하여 자연스러운 언어를 생성할 수 있습니다.\n",
    "    예시: 사용자가 제공한 질문에 대해 자세한 답변을 생성하는 챗봇은 GPT 모델을 사용할 수 있습니다.\n",
    "    연관키워드: 자연어 처리, 텍스트 생성, 딥러닝\n",
    "\n",
    "    InstructGPT\n",
    "    ----------------------------------------------------------------------------------------------------\n",
    "    Document 8:\n",
    "\n",
    "    멀티모달 (Multimodal)\n",
    "\n",
    "    정의: 멀티모달은 여러 종류의 데이터 모드(예: 텍스트, 이미지, 소리 등)를 결합하여 처리하는 기술입니다. 이는 서로 다른 형식의 데이터 간의 상호 작용을 통해 보다 풍부하고 정확한 정보를 추출하거나 예측하는 데 사용됩니다.\n",
    "    예시: 이미지와 설명 텍스트를 함께 분석하여 더 정확한 이미지 분류를 수행하는 시스템은 멀티모달 기술의 예입니다.\n",
    "    연관키워드: 데이터 융합, 인공지능, 딥러닝\n",
    "    ----------------------------------------------------------------------------------------------------\n",
    "    Document 9:\n",
    "\n",
    "    Crawling\n",
    "\n",
    "    정의: 크롤링은 자동화된 방식으로 웹 페이지를 방문하여 데이터를 수집하는 과정입니다. 이는 검색 엔진 최적화나 데이터 분석에 자주 사용됩니다.\n",
    "    예시: 구글 검색 엔진이 인터넷 상의 웹사이트를 방문하여 콘텐츠를 수집하고 인덱싱하는 것이 크롤링입니다.\n",
    "    연관키워드: 데이터 수집, 웹 스크래핑, 검색 엔진\n",
    "\n",
    "    Word2Vec\n",
    "\n",
    "    정의: Word2Vec은 단어를 벡터 공간에 매핑하여 단어 간의 의미적 관계를 나타내는 자연어 처리 기술입니다. 이는 단어의 문맥적 유사성을 기반으로 벡터를 생성합니다.\n",
    "    예시: Word2Vec 모델에서 \"왕\"과 \"여왕\"은 서로 가까운 위치에 벡터로 표현됩니다.\n",
    "    연관키워드: 자연어 처리, 임베딩, 의미론적 유사성\n",
    "    LLM (Large Language Model)\n",
    "    ----------------------------------------------------------------------------------------------------\n",
    "    Document 10:\n",
    "\n",
    "    JSON\n",
    "\n",
    "    정의: JSON(JavaScript Object Notation)은 경량의 데이터 교환 형식으로, 사람과 기계 모두에게 읽기 쉬운 텍스트를 사용하여 데이터 객체를 표현합니다.\n",
    "    예시: {\"이름\": \"홍길동\", \"나이\": 30, \"직업\": \"개발자\"}는 JSON 형식의 데이터입니다.\n",
    "    연관키워드: 데이터 교환, 웹 개발, API\n",
    "\n",
    "    Transformer\n",
    "\n",
    "    정의: 트랜스포머는 자연어 처리에서 사용되는 딥러닝 모델의 한 유형으로, 주로 번역, 요약, 텍스트 생성 등에 사용됩니다. 이는 Attention 메커니즘을 기반으로 합니다.\n",
    "    예시: 구글 번역기는 트랜스포머 모델을 사용하여 다양한 언어 간의 번역을 수행합니다.\n",
    "    연관키워드: 딥러닝, 자연어 처리, Attention\n",
    "\n",
    "    HuggingFace\n",
    "    ```"
   ]
  },
  {
   "cell_type": "markdown",
   "id": "b35d8533",
   "metadata": {},
   "source": [
    "---"
   ]
  },
  {
   "cell_type": "markdown",
   "id": "e622bad6",
   "metadata": {},
   "source": [
    "* 기본 `retriever`를 `ContextualCompressionRetriever`로 감싸기\n",
    "\n",
    "* `CrossEncoderReranker` → `HuggingFaceCrossEncoder` 사용해 반환된 결과를 재정렬함\n",
    "\n",
    "  * *다국어 지원 BGE Reranker: [bge-reranker-v2-m3](https://huggingface.co/BAAI/bge-reranker-v2-m3)*"
   ]
  },
  {
   "cell_type": "code",
   "execution_count": null,
   "id": "23ae0fe3",
   "metadata": {},
   "outputs": [],
   "source": [
    "from langchain.retrievers import ContextualCompressionRetriever\n",
    "from langchain.retrievers.document_compressors import CrossEncoderReranker\n",
    "from langchain_community.cross_encoders import HuggingFaceCrossEncoder\n",
    "\n",
    "# 모델 초기화\n",
    "model = HuggingFaceCrossEncoder(model_name=\"BAAI/bge-reranker-v2-m3\")\n",
    "\n",
    "# 상위 3개의 문서 선택\n",
    "compressor = CrossEncoderReranker(model=model, top_n=3)\n",
    "\n",
    "# 문서 압축 검색기 초기화\n",
    "compression_retriever = ContextualCompressionRetriever(\n",
    "    base_compressor=compressor, base_retriever=retriever\n",
    ")\n",
    "\n",
    "# 압축된 문서 검색\n",
    "compressed_docs = compression_retriever.invoke(\"Word2Vec 에 대해서 알려줄래?\")"
   ]
  },
  {
   "cell_type": "markdown",
   "id": "5a98901b",
   "metadata": {},
   "source": [
    "<small>\n",
    "\n",
    "* `bge-reranker-v2-m3` 설치 결과 (`2m 27.3s`)\n",
    "  * ![bge-reranker-v2-m3 설치 결과](../11_Reranker/images/bge-reranker-v2-m3.png)"
   ]
  },
  {
   "cell_type": "code",
   "execution_count": null,
   "id": "fe1d688f",
   "metadata": {},
   "outputs": [],
   "source": [
    "# 문서 출력\n",
    "pretty_print_docs(compressed_docs)"
   ]
  },
  {
   "cell_type": "markdown",
   "id": "1a5af81a",
   "metadata": {},
   "source": [
    "<small>\n",
    "\n",
    "* `compressed docs` 출력 결과\n",
    "\n",
    "    ```markdown\n",
    "    Document 1:\n",
    "\n",
    "    Crawling\n",
    "\n",
    "    정의: 크롤링은 자동화된 방식으로 웹 페이지를 방문하여 데이터를 수집하는 과정입니다. 이는 검색 엔진 최적화나 데이터 분석에 자주 사용됩니다.\n",
    "    예시: 구글 검색 엔진이 인터넷 상의 웹사이트를 방문하여 콘텐츠를 수집하고 인덱싱하는 것이 크롤링입니다.\n",
    "    연관키워드: 데이터 수집, 웹 스크래핑, 검색 엔진\n",
    "\n",
    "    Word2Vec\n",
    "\n",
    "    정의: Word2Vec은 단어를 벡터 공간에 매핑하여 단어 간의 의미적 관계를 나타내는 자연어 처리 기술입니다. 이는 단어의 문맥적 유사성을 기반으로 벡터를 생성합니다.\n",
    "    예시: Word2Vec 모델에서 \"왕\"과 \"여왕\"은 서로 가까운 위치에 벡터로 표현됩니다.\n",
    "    연관키워드: 자연어 처리, 임베딩, 의미론적 유사성\n",
    "    LLM (Large Language Model)\n",
    "    ----------------------------------------------------------------------------------------------------\n",
    "    Document 2:\n",
    "\n",
    "    Token\n",
    "\n",
    "    정의: 토큰은 텍스트를 더 작은 단위로 분할하는 것을 의미합니다. 이는 일반적으로 단어, 문장, 또는 구절일 수 있습니다.\n",
    "    예시: 문장 \"나는 학교에 간다\"를 \"나는\", \"학교에\", \"간다\"로 분할합니다.\n",
    "    연관키워드: 토큰화, 자연어 처리, 구문 분석\n",
    "\n",
    "    Tokenizer\n",
    "\n",
    "    정의: 토크나이저는 텍스트 데이터를 토큰으로 분할하는 도구입니다. 이는 자연어 처리에서 데이터를 전처리하는 데 사용됩니다.\n",
    "    예시: \"I love programming.\"이라는 문장을 [\"I\", \"love\", \"programming\", \".\"]으로 분할합니다.\n",
    "    연관키워드: 토큰화, 자연어 처리, 구문 분석\n",
    "\n",
    "    VectorStore\n",
    "\n",
    "    정의: 벡터스토어는 벡터 형식으로 변환된 데이터를 저장하는 시스템입니다. 이는 검색, 분류 및 기타 데이터 분석 작업에 사용됩니다.\n",
    "    예시: 단어 임베딩 벡터들을 데이터베이스에 저장하여 빠르게 접근할 수 있습니다.\n",
    "    연관키워드: 임베딩, 데이터베이스, 벡터화\n",
    "\n",
    "    SQL\n",
    "    ----------------------------------------------------------------------------------------------------\n",
    "    Document 3:\n",
    "\n",
    "    Semantic Search\n",
    "\n",
    "    정의: 의미론적 검색은 사용자의 질의를 단순한 키워드 매칭을 넘어서 그 의미를 파악하여 관련된 결과를 반환하는 검색 방식입니다.\n",
    "    예시: 사용자가 \"태양계 행성\"이라고 검색하면, \"목성\", \"화성\" 등과 같이 관련된 행성에 대한 정보를 반환합니다.\n",
    "    연관키워드: 자연어 처리, 검색 알고리즘, 데이터 마이닝\n",
    "\n",
    "    Embedding\n",
    "\n",
    "    정의: 임베딩은 단어나 문장 같은 텍스트 데이터를 저차원의 연속적인 벡터로 변환하는 과정입니다. 이를 통해 컴퓨터가 텍스트를 이해하고 처리할 수 있게 합니다.\n",
    "    예시: \"사과\"라는 단어를 [0.65, -0.23, 0.17]과 같은 벡터로 표현합니다.\n",
    "    연관키워드: 자연어 처리, 벡터화, 딥러닝\n",
    "\n",
    "    Token\n",
    "    ```"
   ]
  },
  {
   "cell_type": "markdown",
   "id": "8f4d8491",
   "metadata": {},
   "source": [
    "---"
   ]
  },
  {
   "cell_type": "markdown",
   "id": "9af8a9df",
   "metadata": {},
   "source": [
    "* *next: **`02. Cohere Reranker`***"
   ]
  },
  {
   "cell_type": "markdown",
   "id": "cbca566e",
   "metadata": {},
   "source": [
    "---"
   ]
  }
 ],
 "metadata": {
  "kernelspec": {
   "display_name": "lc_env",
   "language": "python",
   "name": "python3"
  },
  "language_info": {
   "codemirror_mode": {
    "name": "ipython",
    "version": 3
   },
   "file_extension": ".py",
   "mimetype": "text/x-python",
   "name": "python",
   "nbconvert_exporter": "python",
   "pygments_lexer": "ipython3",
   "version": "3.13.5"
  }
 },
 "nbformat": 4,
 "nbformat_minor": 5
}
